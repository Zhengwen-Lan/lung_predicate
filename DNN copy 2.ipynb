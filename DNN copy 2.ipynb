{
  "cells": [
    {
      "cell_type": "code",
      "execution_count": 52,
      "id": "771fb6a0",
      "metadata": {
        "execution": {
          "iopub.execute_input": "2022-07-31T02:49:38.877045Z",
          "iopub.status.busy": "2022-07-31T02:49:38.876394Z",
          "iopub.status.idle": "2022-07-31T02:49:40.848555Z",
          "shell.execute_reply": "2022-07-31T02:49:40.847599Z"
        },
        "id": "771fb6a0",
        "origin_pos": 8,
        "tab": [
          "pytorch"
        ]
      },
      "outputs": [],
      "source": [
        "\n",
        "%matplotlib inline\n",
        "import numpy as np\n",
        "import pandas as pd\n",
        "import torch\n",
        "from torch import nn\n",
        "from d2l import torch as d2l\n",
        "import matplotlib.pyplot as plt"
      ]
    },
    {
      "cell_type": "code",
      "execution_count": 53,
      "id": "ee7fb934",
      "metadata": {},
      "outputs": [
        {
          "name": "stdout",
          "output_type": "stream",
          "text": [
            "datasets name is 'train'\n",
            "<class 'pandas.core.frame.DataFrame'>\n",
            "RangeIndex: 489 entries, 0 to 488\n",
            "Data columns (total 51 columns):\n",
            " #   Column                                     Non-Null Count  Dtype  \n",
            "---  ------                                     --------------  -----  \n",
            " 0   init_volume_sum                            489 non-null    float64\n",
            " 1   init_volume_sum_per                        489 non-null    float64\n",
            " 2   init_avg_volume                            489 non-null    float64\n",
            " 3   final_volume_sum                           489 non-null    float64\n",
            " 4   final_volume_sum_per                       489 non-null    float64\n",
            " 5   final_avg_volume                           489 non-null    float64\n",
            " 6   is_Emphysema                               489 non-null    object \n",
            " 7   is_Atelectasis                             489 non-null    object \n",
            " 8   degreeOfAlveolarConsolidation              489 non-null    object \n",
            " 9   is_fibrotic_lesions                        489 non-null    object \n",
            " 10  is_noduleMass                              489 non-null    object \n",
            " 11  is_hollowCavity                            489 non-null    object \n",
            " 12  is_calcification                           489 non-null    object \n",
            " 13  is_pleuralEffusion                         489 non-null    object \n",
            " 14  is_pleuralThickeningAdhesiveCalcification  489 non-null    object \n",
            " 15  RightThyroidLobeArea                       489 non-null    float64\n",
            " 16  RightThyroidLobeDensity                    489 non-null    float64\n",
            " 17  LeftThyroidLobeArea                        489 non-null    float64\n",
            " 18  LeftThyroidLobeDensity                     489 non-null    float64\n",
            " 19  Thyroid volume                             489 non-null    float64\n",
            " 20  coronary_calcification                     489 non-null    float64\n",
            " 21  Aortic_calcification                       489 non-null    float64\n",
            " 22  Carotid_calcification                      489 non-null    float64\n",
            " 23  cardiothoracic_ratio                       489 non-null    float64\n",
            " 24  mainPulmonaryArtery                        489 non-null    float64\n",
            " 25  mainAscendingAorta                         489 non-null    float64\n",
            " 26  rate1                                      489 non-null    float64\n",
            " 27  inferiorVenaCavaShortDiameter              489 non-null    float64\n",
            " 28  AbdominalShortDiameterOfTheSameLayer       489 non-null    float64\n",
            " 29  rate2                                      489 non-null    float64\n",
            " 30  SpleenThicknessAndDiameter                 489 non-null    float64\n",
            " 31  The longest diameter of the spleen         489 non-null    float64\n",
            " 32  SpleenArea                                 489 non-null    float64\n",
            " 33  SpleenDensityAvg                           489 non-null    float64\n",
            " 34  T1_BMD                                     489 non-null    float64\n",
            " 35  T2_BMD                                     489 non-null    float64\n",
            " 36  T3_BMD                                     489 non-null    float64\n",
            " 37  T4_BMD                                     489 non-null    float64\n",
            " 38  T5_BMD                                     489 non-null    float64\n",
            " 39  T6_BMD                                     489 non-null    float64\n",
            " 40  T7_BMD                                     489 non-null    float64\n",
            " 41  T8_BMD                                     489 non-null    float64\n",
            " 42  T9_BMD                                     489 non-null    float64\n",
            " 43  T10_BMD                                    489 non-null    float64\n",
            " 44  T11_BMD                                    489 non-null    float64\n",
            " 45  T12_BMD                                    489 non-null    float64\n",
            " 46  degreeOfBoneHyperplasia                    489 non-null    object \n",
            " 47  SAT                                        489 non-null    float64\n",
            " 48  VAT                                        489 non-null    float64\n",
            " 49  averageLiverFat                            489 non-null    float64\n",
            " 50  day_hospitalized                           489 non-null    int64  \n",
            "dtypes: float64(40), int64(1), object(10)\n",
            "memory usage: 195.0+ KB\n"
          ]
        }
      ],
      "source": [
        "train = pd.read_csv(r'C:\\Users\\lzwDT\\PycharmProjects\\corona_days\\afterCoronaHospital.csv')\n",
        "\n",
        "# redefine the type error of the 'to_csv'(mainly about int to obeject)\n",
        "col_dict = {'init_volume_sum':float,\n",
        "            'is_Emphysema':str,\n",
        "            'is_Atelectasis':str,\n",
        "            'degreeOfAlveolarConsolidation':str,\n",
        "            'is_fibrotic_lesions':str,\n",
        "            'is_noduleMass':str,\n",
        "            'is_hollowCavity':str,\n",
        "            'is_calcification':str,\n",
        "            'is_pleuralEffusion':str,\n",
        "            'is_pleuralThickeningAdhesiveCalcification':str,\n",
        "            'degreeOfBoneHyperplasia':str}\n",
        "convert_column_name = list(col_dict.keys())\n",
        "convert_column_name.pop(0)\n",
        "train[convert_column_name] = train[convert_column_name].astype('int32').astype('object')\n",
        "print(f'datasets name is \\'train\\'')\n",
        "train.info()"
      ]
    },
    {
      "cell_type": "code",
      "execution_count": 54,
      "id": "520c14da",
      "metadata": {},
      "outputs": [
        {
          "name": "stderr",
          "output_type": "stream",
          "text": [
            "\n",
            "A value is trying to be set on a copy of a slice from a DataFrame\n",
            "\n",
            "See the caveats in the documentation: https://pandas.pydata.org/pandas-docs/stable/user_guide/indexing.html#returning-a-view-versus-a-copy\n"
          ]
        }
      ],
      "source": [
        "train = train[train.day_hospitalized < 50]\n",
        "train = train[train.day_hospitalized > 10]\n",
        "\n",
        "\n",
        "train = train.reset_index()\n",
        "del train['index']\n",
        "\n",
        "train['day_divided 3'] = 42\n",
        "for x in range(train.shape[0]):\n",
        "    train['day_divided 3'][x] = train['day_hospitalized'][x] / 3\n",
        "\n",
        "# visualization\n",
        "#Analysis the data distribution about label 'divided 3'\n",
        "train_visual = train\n",
        "train_result = train_visual.groupby('day_divided 3').size()\n",
        "# plt.bar(list(train_result.index),train_result)\n",
        "# plt.xlabel('Days')\n",
        "# plt.ylabel('number')\n",
        "# plt.title('trainData  \\'3 divided\\'  ')\n",
        "# plt.show()"
      ]
    },
    {
      "cell_type": "code",
      "execution_count": 55,
      "id": "facc7651",
      "metadata": {},
      "outputs": [
        {
          "name": "stdout",
          "output_type": "stream",
          "text": [
            "(408, 53) (46, 53)\n"
          ]
        }
      ],
      "source": [
        "from sklearn.model_selection import train_test_split\n",
        "\n",
        "train_data,test_data = train_test_split(train,test_size=0.1)\n",
        "\n",
        "train_data = train_data.reset_index()\n",
        "\n",
        "test_data = test_data.reset_index()\n",
        "\n",
        "print(train_data.shape,test_data.shape)"
      ]
    },
    {
      "cell_type": "code",
      "execution_count": 56,
      "id": "006968cb",
      "metadata": {
        "execution": {
          "iopub.execute_input": "2022-07-31T02:49:41.333619Z",
          "iopub.status.busy": "2022-07-31T02:49:41.333233Z",
          "iopub.status.idle": "2022-07-31T02:49:41.337870Z",
          "shell.execute_reply": "2022-07-31T02:49:41.336995Z"
        },
        "id": "006968cb",
        "origin_pos": 15,
        "outputId": "d050a0dd-a4f9-4ee4-d072-3e87aaa4277f",
        "tab": [
          "pytorch"
        ]
      },
      "outputs": [
        {
          "name": "stdout",
          "output_type": "stream",
          "text": [
            "(408, 53)\n",
            "(46, 53)\n"
          ]
        }
      ],
      "source": [
        "print(train_data.shape)\n",
        "print(test_data.shape)"
      ]
    },
    {
      "cell_type": "code",
      "execution_count": 57,
      "id": "e5183348",
      "metadata": {
        "execution": {
          "iopub.execute_input": "2022-07-31T02:49:41.340860Z",
          "iopub.status.busy": "2022-07-31T02:49:41.340507Z",
          "iopub.status.idle": "2022-07-31T02:49:41.355925Z",
          "shell.execute_reply": "2022-07-31T02:49:41.354722Z"
        },
        "id": "e5183348",
        "origin_pos": 17,
        "outputId": "ac05071f-88da-4cec-f1e3-1233c10ee750",
        "tab": [
          "pytorch"
        ]
      },
      "outputs": [
        {
          "name": "stdout",
          "output_type": "stream",
          "text": [
            "   index  init_volume_sum  init_volume_sum_per  init_avg_volume  \\\n",
            "0    401             5.43                 0.10           -747.0   \n",
            "1     53             0.00                 0.00              0.0   \n",
            "2    107            10.52                 0.32           -556.0   \n",
            "3    290             0.00                 0.00              0.0   \n",
            "\n",
            "   averageLiverFat  day_hospitalized  day_divided 3  \n",
            "0             14.1                13              4  \n",
            "1             11.8                22              7  \n",
            "2             17.7                24              8  \n",
            "3              3.0                24              8  \n"
          ]
        }
      ],
      "source": [
        "print(train_data.iloc[0:4, [0, 1, 2, 3, -3, -2, -1]])"
      ]
    },
    {
      "cell_type": "markdown",
      "id": "ebbf1f83",
      "metadata": {},
      "source": [
        "# Feature Selection"
      ]
    },
    {
      "cell_type": "code",
      "execution_count": 58,
      "id": "9d6120dc",
      "metadata": {},
      "outputs": [
        {
          "name": "stdout",
          "output_type": "stream",
          "text": [
            "\n",
            "Top 10 Best feature index \n",
            "[23 46 28  1 13  8  0 24 27  4]\n",
            "\n",
            "Top 10 Best feature name\n",
            "Index(['cardiothoracic_ratio', 'degreeOfBoneHyperplasia',\n",
            "       'AbdominalShortDiameterOfTheSameLayer', 'init_volume_sum_per',\n",
            "       'is_pleuralEffusion', 'degreeOfAlveolarConsolidation',\n",
            "       'init_volume_sum', 'mainPulmonaryArtery',\n",
            "       'inferiorVenaCavaShortDiameter', 'final_volume_sum_per'],\n",
            "      dtype='object')\n"
          ]
        }
      ],
      "source": [
        "from sklearn.feature_selection import SelectKBest\n",
        "from sklearn.feature_selection import f_regression\n",
        "\n",
        "\n",
        "features = pd.read_csv(r'C:\\Users\\lzwDT\\PycharmProjects\\corona_days\\afterCoronaHospital.csv')\n",
        "\n",
        "# features.info()\n",
        "# print(features.iloc[0:4, [0, 1, 2, 3, -3, -2, -1]])\n",
        "x_data, y_data = train.iloc[:,:-2],train.iloc[:,-1]\n",
        "\n",
        "#try choose your k best features\n",
        "k = 10\n",
        "selector = SelectKBest(score_func=f_regression, k='all')\n",
        "result = selector.fit(x_data, y_data)\n",
        "\n",
        "#result.scores_ inclues scores for each features\n",
        "#np.argsort sort scores in ascending order by index, we reverse it to make it descending.\n",
        "idx = np.argsort(result.scores_)[::-1]\n",
        "# print(f'Top {k} Best feature score ')\n",
        "# print(result.scores_[idx[:k]])\n",
        "\n",
        "print(f'\\nTop {k} Best feature index ')\n",
        "print(idx[:k])\n",
        "\n",
        "print(f'\\nTop {k} Best feature name')\n",
        "print(x_data.columns[idx[:k]])\n",
        "\n",
        "selected_idx = list(np.sort(idx[:k]))\n",
        "# print(list(x_data.columns[selected_idx]))\n",
        "\n",
        "feature_list = list(x_data.columns[selected_idx])\n",
        "\n"
      ]
    },
    {
      "cell_type": "code",
      "execution_count": 59,
      "id": "b075a6bc",
      "metadata": {
        "execution": {
          "iopub.execute_input": "2022-07-31T02:49:41.359431Z",
          "iopub.status.busy": "2022-07-31T02:49:41.358943Z",
          "iopub.status.idle": "2022-07-31T02:49:41.380268Z",
          "shell.execute_reply": "2022-07-31T02:49:41.379148Z"
        },
        "id": "b075a6bc",
        "origin_pos": 19,
        "tab": [
          "pytorch"
        ]
      },
      "outputs": [],
      "source": [
        "all_features = pd.concat((train_data.iloc[:, selected_idx], test_data.iloc[:, selected_idx]))\n",
        "\n",
        "all_features = all_features.iloc[:,1:]\n",
        "# all_features"
      ]
    },
    {
      "cell_type": "markdown",
      "id": "015bf36e",
      "metadata": {
        "id": "015bf36e",
        "origin_pos": 20
      },
      "source": [
        "## 数据预处理\n",
        "\n"
      ]
    },
    {
      "cell_type": "code",
      "execution_count": 60,
      "id": "16133964",
      "metadata": {
        "execution": {
          "iopub.execute_input": "2022-07-31T02:49:41.384060Z",
          "iopub.status.busy": "2022-07-31T02:49:41.383382Z",
          "iopub.status.idle": "2022-07-31T02:49:41.438715Z",
          "shell.execute_reply": "2022-07-31T02:49:41.438047Z"
        },
        "id": "16133964",
        "origin_pos": 21,
        "tab": [
          "pytorch"
        ]
      },
      "outputs": [],
      "source": [
        "# 若无法获得测试数据，则可根据训练数据计算均值和标准差\n",
        "numeric_features = all_features.dtypes[all_features.dtypes != 'object'].index\n",
        "all_features[numeric_features] = all_features[numeric_features].apply(\n",
        "    lambda x: (x - x.mean()) / (x.std()))\n",
        "# 在标准化数据之后，所有均值消失，因此我们可以将缺失值设置为0\n",
        "all_features[numeric_features] = all_features[numeric_features].fillna(0)"
      ]
    },
    {
      "cell_type": "code",
      "execution_count": 61,
      "id": "d91194b5",
      "metadata": {
        "execution": {
          "iopub.execute_input": "2022-07-31T02:49:41.441699Z",
          "iopub.status.busy": "2022-07-31T02:49:41.441491Z",
          "iopub.status.idle": "2022-07-31T02:49:41.498157Z",
          "shell.execute_reply": "2022-07-31T02:49:41.497410Z"
        },
        "id": "d91194b5",
        "origin_pos": 23,
        "outputId": "09ea19b8-588d-45b5-fae1-8017b3a0ba2d",
        "tab": [
          "pytorch"
        ]
      },
      "outputs": [
        {
          "data": {
            "text/plain": [
              "(454, 13)"
            ]
          },
          "execution_count": 61,
          "metadata": {},
          "output_type": "execute_result"
        }
      ],
      "source": [
        "# “Dummy_na=True”将“na”（缺失值）视为有效的特征值，并为其创建指示符特征\n",
        "all_features = pd.get_dummies(all_features, dummy_na=True)\n",
        "all_features.shape"
      ]
    },
    {
      "cell_type": "code",
      "execution_count": 62,
      "id": "7608dffc",
      "metadata": {
        "execution": {
          "iopub.execute_input": "2022-07-31T02:49:41.502639Z",
          "iopub.status.busy": "2022-07-31T02:49:41.502077Z",
          "iopub.status.idle": "2022-07-31T02:49:41.517151Z",
          "shell.execute_reply": "2022-07-31T02:49:41.516343Z"
        },
        "id": "7608dffc",
        "origin_pos": 25,
        "tab": [
          "pytorch"
        ]
      },
      "outputs": [],
      "source": [
        "n_train = train_data.shape[0]\n",
        "\n",
        "origin_shap_test_features = all_features[n_train:]\n",
        "\n",
        "\n",
        "shap_train_features = all_features[:n_train].to_numpy()\n",
        "shap_test_features = all_features[n_train:].to_numpy()\n",
        "\n",
        "train_features = torch.tensor(all_features[:n_train].values, dtype=torch.float32)\n",
        "test_features = torch.tensor(all_features[n_train:].values, dtype=torch.float32)\n",
        "train_labels = torch.tensor(train_data['day_divided 3'].values.reshape(-1, 1), dtype=torch.float32)\n",
        "\n",
        "\n"
      ]
    },
    {
      "cell_type": "markdown",
      "id": "24ac8db7",
      "metadata": {
        "id": "24ac8db7",
        "origin_pos": 26
      },
      "source": [
        "## [**训练**]\n",
        "\n"
      ]
    },
    {
      "cell_type": "code",
      "execution_count": 63,
      "id": "b7a5844c",
      "metadata": {
        "execution": {
          "iopub.execute_input": "2022-07-31T02:49:41.521779Z",
          "iopub.status.busy": "2022-07-31T02:49:41.521124Z",
          "iopub.status.idle": "2022-07-31T02:49:41.525379Z",
          "shell.execute_reply": "2022-07-31T02:49:41.524757Z"
        },
        "id": "b7a5844c",
        "origin_pos": 28,
        "tab": [
          "pytorch"
        ]
      },
      "outputs": [],
      "source": [
        "loss = nn.MSELoss()\n",
        "in_features = train_features.shape[1]\n",
        "\n",
        "def get_net():\n",
        "    net = nn.Sequential(nn.Linear(in_features,32),\n",
        "                        nn.LeakyReLU(0.2),\n",
        "                        nn.BatchNorm1d(32),\n",
        "                        nn.Dropout(0.2),\n",
        "                        \n",
        "                        nn.Linear(32, 16),\n",
        "                        nn.LeakyReLU(0.2),\n",
        "                        #nn.BatchNorm1d(10),\n",
        "                        nn.Dropout(0.1),\n",
        "                        \n",
        "                        nn.Linear(16, 1)\n",
        "                        )\n",
        "    return net"
      ]
    },
    {
      "cell_type": "markdown",
      "id": "434e5a76",
      "metadata": {
        "id": "434e5a76",
        "origin_pos": 30
      },
      "source": [
        "# LOSS\n"
      ]
    },
    {
      "cell_type": "code",
      "execution_count": 64,
      "id": "ba135b73",
      "metadata": {
        "execution": {
          "iopub.execute_input": "2022-07-31T02:49:41.529649Z",
          "iopub.status.busy": "2022-07-31T02:49:41.529115Z",
          "iopub.status.idle": "2022-07-31T02:49:41.534672Z",
          "shell.execute_reply": "2022-07-31T02:49:41.533761Z"
        },
        "id": "ba135b73",
        "origin_pos": 32,
        "tab": [
          "pytorch"
        ]
      },
      "outputs": [],
      "source": [
        "def log_rmse(net, features, labels):\n",
        "    # 为了在取对数时进一步稳定该值，将小于1的值设置为1\n",
        "    clipped_preds = torch.clamp(net(features), 1, float('inf'))\n",
        "    # rmse = torch.sqrt(loss(torch.log(clipped_preds),\n",
        "    #                        torch.log(labels)))\n",
        "    \n",
        "    # MSE :\n",
        "    rmse = loss(net(features),labels)\n",
        "    return rmse.item()"
      ]
    },
    {
      "cell_type": "markdown",
      "id": "588f75d6",
      "metadata": {
        "id": "588f75d6",
        "origin_pos": 34
      },
      "source": [
        "Adam 优化器\n"
      ]
    },
    {
      "cell_type": "code",
      "execution_count": 65,
      "id": "6d455dbd",
      "metadata": {
        "execution": {
          "iopub.execute_input": "2022-07-31T02:49:41.538998Z",
          "iopub.status.busy": "2022-07-31T02:49:41.538364Z",
          "iopub.status.idle": "2022-07-31T02:49:41.545584Z",
          "shell.execute_reply": "2022-07-31T02:49:41.544955Z"
        },
        "id": "6d455dbd",
        "origin_pos": 36,
        "tab": [
          "pytorch"
        ]
      },
      "outputs": [],
      "source": [
        "def train(net, train_features, train_labels, test_features, test_labels,\n",
        "          num_epochs, learning_rate, weight_decay, batch_size):\n",
        "    train_ls, test_ls = [], []\n",
        "    train_iter = d2l.load_array((train_features, train_labels), batch_size)\n",
        "    # 这里使用的是Adam优化算法\n",
        "    optimizer = torch.optim.Adam(net.parameters(),\n",
        "                                 lr = learning_rate,\n",
        "                                 weight_decay = weight_decay)\n",
        "    for epoch in range(num_epochs):\n",
        "        for X, y in train_iter:\n",
        "            optimizer.zero_grad()\n",
        "            l = loss(net(X), y)\n",
        "            l.backward()\n",
        "            optimizer.step()\n",
        "        train_ls.append(log_rmse(net, train_features, train_labels))\n",
        "        if test_labels is not None:\n",
        "            test_ls.append(log_rmse(net, test_features, test_labels))\n",
        "    return train_ls, test_ls"
      ]
    },
    {
      "cell_type": "markdown",
      "id": "564857f0",
      "metadata": {
        "id": "564857f0",
        "origin_pos": 38
      },
      "source": [
        "## $K$折交叉验证\n",
        "\n"
      ]
    },
    {
      "cell_type": "code",
      "execution_count": 66,
      "id": "7d374cda",
      "metadata": {
        "execution": {
          "iopub.execute_input": "2022-07-31T02:49:41.549614Z",
          "iopub.status.busy": "2022-07-31T02:49:41.549129Z",
          "iopub.status.idle": "2022-07-31T02:49:41.555668Z",
          "shell.execute_reply": "2022-07-31T02:49:41.555006Z"
        },
        "id": "7d374cda",
        "origin_pos": 39,
        "tab": [
          "pytorch"
        ]
      },
      "outputs": [],
      "source": [
        "def get_k_fold_data(k, i, X, y):\n",
        "    assert k > 1\n",
        "    fold_size = X.shape[0] // k\n",
        "    X_train, y_train = None, None\n",
        "    for j in range(k):\n",
        "        idx = slice(j * fold_size, (j + 1) * fold_size)\n",
        "        X_part, y_part = X[idx, :], y[idx]\n",
        "        if j == i:\n",
        "            X_valid, y_valid = X_part, y_part\n",
        "        elif X_train is None:\n",
        "            X_train, y_train = X_part, y_part\n",
        "        else:\n",
        "            X_train = torch.cat([X_train, X_part], 0)\n",
        "            y_train = torch.cat([y_train, y_part], 0)\n",
        "    return X_train, y_train, X_valid, y_valid"
      ]
    },
    {
      "cell_type": "markdown",
      "id": "532779fd",
      "metadata": {
        "id": "532779fd",
        "origin_pos": 40
      },
      "source": [
        "当我们在$K$折交叉验证中训练$K$次后，[**返回训练和验证误差的平均值**]。\n"
      ]
    },
    {
      "cell_type": "code",
      "execution_count": 67,
      "id": "a18c2dba",
      "metadata": {
        "execution": {
          "iopub.execute_input": "2022-07-31T02:49:41.559293Z",
          "iopub.status.busy": "2022-07-31T02:49:41.558819Z",
          "iopub.status.idle": "2022-07-31T02:49:41.566149Z",
          "shell.execute_reply": "2022-07-31T02:49:41.565178Z"
        },
        "id": "a18c2dba",
        "origin_pos": 41,
        "tab": [
          "pytorch"
        ]
      },
      "outputs": [],
      "source": [
        "def k_fold(k, X_train, y_train, num_epochs, learning_rate, weight_decay,\n",
        "           batch_size):\n",
        "    train_l_sum, valid_l_sum = 0, 0\n",
        "    for i in range(k):\n",
        "        data = get_k_fold_data(k, i, X_train, y_train)\n",
        "        net = get_net()\n",
        "        train_ls, valid_ls = train(net, *data, num_epochs, learning_rate,\n",
        "                                   weight_decay, batch_size)\n",
        "        train_l_sum += train_ls[-1]\n",
        "        valid_l_sum += valid_ls[-1]\n",
        "        if i == 0:\n",
        "            d2l.plot(list(range(1, num_epochs + 1)), [train_ls, valid_ls],\n",
        "                     xlabel='epoch', ylabel='mse', xlim=[1, num_epochs],\n",
        "                     legend=['train', 'valid'], yscale='log')\n",
        "        print(f'折{i + 1}，训练log mse{float(train_ls[-1]):f}, '\n",
        "              f'验证log mse{float(valid_ls[-1]):f}')\n",
        "    return train_l_sum / k, valid_l_sum / k"
      ]
    },
    {
      "cell_type": "markdown",
      "id": "f278c2e6",
      "metadata": {
        "id": "f278c2e6",
        "origin_pos": 42
      },
      "source": [
        "## [**模型选择**]\n",
        "\n",
        "。\n"
      ]
    },
    {
      "cell_type": "code",
      "execution_count": 68,
      "id": "88ec3fa0",
      "metadata": {
        "execution": {
          "iopub.execute_input": "2022-07-31T02:49:41.570022Z",
          "iopub.status.busy": "2022-07-31T02:49:41.569820Z",
          "iopub.status.idle": "2022-07-31T02:49:51.893572Z",
          "shell.execute_reply": "2022-07-31T02:49:51.892918Z"
        },
        "id": "88ec3fa0",
        "origin_pos": 43,
        "outputId": "9041b049-af00-4b41-de51-a95dea3980ed",
        "tab": [
          "pytorch"
        ]
      },
      "outputs": [
        {
          "name": "stdout",
          "output_type": "stream",
          "text": [
            "折1，训练log mse8.142896, 验证log mse11.153896\n",
            "折2，训练log mse8.368132, 验证log mse11.382732\n",
            "折3，训练log mse9.205781, 验证log mse9.836029\n",
            "折4，训练log mse9.143233, 验证log mse9.029647\n",
            "折5，训练log mse9.108246, 验证log mse11.068619\n",
            "5-折验证: 平均训练log mse: 8.793657, 平均验证log mse: 10.494185\n"
          ]
        },
        {
          "data": {
            "image/svg+xml": "<?xml version=\"1.0\" encoding=\"utf-8\" standalone=\"no\"?>\r\n<!DOCTYPE svg PUBLIC \"-//W3C//DTD SVG 1.1//EN\"\r\n  \"http://www.w3.org/Graphics/SVG/1.1/DTD/svg11.dtd\">\r\n<!-- Created with matplotlib (https://matplotlib.org/) -->\r\n<svg height=\"180.65625pt\" version=\"1.1\" viewBox=\"0 0 257.521875 180.65625\" width=\"257.521875pt\" xmlns=\"http://www.w3.org/2000/svg\" xmlns:xlink=\"http://www.w3.org/1999/xlink\">\r\n <metadata>\r\n  <rdf:RDF xmlns:cc=\"http://creativecommons.org/ns#\" xmlns:dc=\"http://purl.org/dc/elements/1.1/\" xmlns:rdf=\"http://www.w3.org/1999/02/22-rdf-syntax-ns#\">\r\n   <cc:Work>\r\n    <dc:type rdf:resource=\"http://purl.org/dc/dcmitype/StillImage\"/>\r\n    <dc:date>2022-11-20T21:52:07.122979</dc:date>\r\n    <dc:format>image/svg+xml</dc:format>\r\n    <dc:creator>\r\n     <cc:Agent>\r\n      <dc:title>Matplotlib v3.3.4, https://matplotlib.org/</dc:title>\r\n     </cc:Agent>\r\n    </dc:creator>\r\n   </cc:Work>\r\n  </rdf:RDF>\r\n </metadata>\r\n <defs>\r\n  <style type=\"text/css\">*{stroke-linecap:butt;stroke-linejoin:round;}</style>\r\n </defs>\r\n <g id=\"figure_1\">\r\n  <g id=\"patch_1\">\r\n   <path d=\"M 0 180.65625 \r\nL 257.521875 180.65625 \r\nL 257.521875 0 \r\nL 0 0 \r\nz\r\n\" style=\"fill:none;\"/>\r\n  </g>\r\n  <g id=\"axes_1\">\r\n   <g id=\"patch_2\">\r\n    <path d=\"M 45.478125 143.1 \r\nL 240.778125 143.1 \r\nL 240.778125 7.2 \r\nL 45.478125 7.2 \r\nz\r\n\" style=\"fill:#ffffff;\"/>\r\n   </g>\r\n   <g id=\"matplotlib.axis_1\">\r\n    <g id=\"xtick_1\">\r\n     <g id=\"line2d_1\">\r\n      <path clip-path=\"url(#p5c1db28926)\" d=\"M 94.119802 143.1 \r\nL 94.119802 7.2 \r\n\" style=\"fill:none;stroke:#b0b0b0;stroke-linecap:square;stroke-width:0.8;\"/>\r\n     </g>\r\n     <g id=\"line2d_2\">\r\n      <defs>\r\n       <path d=\"M 0 0 \r\nL 0 3.5 \r\n\" id=\"m18e30c578a\" style=\"stroke:#000000;stroke-width:0.8;\"/>\r\n      </defs>\r\n      <g>\r\n       <use style=\"stroke:#000000;stroke-width:0.8;\" x=\"94.119802\" xlink:href=\"#m18e30c578a\" y=\"143.1\"/>\r\n      </g>\r\n     </g>\r\n     <g id=\"text_1\">\r\n      <!-- 200 -->\r\n      <g transform=\"translate(84.576052 157.698438)scale(0.1 -0.1)\">\r\n       <defs>\r\n        <path d=\"M 19.1875 8.296875 \r\nL 53.609375 8.296875 \r\nL 53.609375 0 \r\nL 7.328125 0 \r\nL 7.328125 8.296875 \r\nQ 12.9375 14.109375 22.625 23.890625 \r\nQ 32.328125 33.6875 34.8125 36.53125 \r\nQ 39.546875 41.84375 41.421875 45.53125 \r\nQ 43.3125 49.21875 43.3125 52.78125 \r\nQ 43.3125 58.59375 39.234375 62.25 \r\nQ 35.15625 65.921875 28.609375 65.921875 \r\nQ 23.96875 65.921875 18.8125 64.3125 \r\nQ 13.671875 62.703125 7.8125 59.421875 \r\nL 7.8125 69.390625 \r\nQ 13.765625 71.78125 18.9375 73 \r\nQ 24.125 74.21875 28.421875 74.21875 \r\nQ 39.75 74.21875 46.484375 68.546875 \r\nQ 53.21875 62.890625 53.21875 53.421875 \r\nQ 53.21875 48.921875 51.53125 44.890625 \r\nQ 49.859375 40.875 45.40625 35.40625 \r\nQ 44.1875 33.984375 37.640625 27.21875 \r\nQ 31.109375 20.453125 19.1875 8.296875 \r\nz\r\n\" id=\"DejaVuSans-50\"/>\r\n        <path d=\"M 31.78125 66.40625 \r\nQ 24.171875 66.40625 20.328125 58.90625 \r\nQ 16.5 51.421875 16.5 36.375 \r\nQ 16.5 21.390625 20.328125 13.890625 \r\nQ 24.171875 6.390625 31.78125 6.390625 \r\nQ 39.453125 6.390625 43.28125 13.890625 \r\nQ 47.125 21.390625 47.125 36.375 \r\nQ 47.125 51.421875 43.28125 58.90625 \r\nQ 39.453125 66.40625 31.78125 66.40625 \r\nz\r\nM 31.78125 74.21875 \r\nQ 44.046875 74.21875 50.515625 64.515625 \r\nQ 56.984375 54.828125 56.984375 36.375 \r\nQ 56.984375 17.96875 50.515625 8.265625 \r\nQ 44.046875 -1.421875 31.78125 -1.421875 \r\nQ 19.53125 -1.421875 13.0625 8.265625 \r\nQ 6.59375 17.96875 6.59375 36.375 \r\nQ 6.59375 54.828125 13.0625 64.515625 \r\nQ 19.53125 74.21875 31.78125 74.21875 \r\nz\r\n\" id=\"DejaVuSans-48\"/>\r\n       </defs>\r\n       <use xlink:href=\"#DejaVuSans-50\"/>\r\n       <use x=\"63.623047\" xlink:href=\"#DejaVuSans-48\"/>\r\n       <use x=\"127.246094\" xlink:href=\"#DejaVuSans-48\"/>\r\n      </g>\r\n     </g>\r\n    </g>\r\n    <g id=\"xtick_2\">\r\n     <g id=\"line2d_3\">\r\n      <path clip-path=\"url(#p5c1db28926)\" d=\"M 143.00591 143.1 \r\nL 143.00591 7.2 \r\n\" style=\"fill:none;stroke:#b0b0b0;stroke-linecap:square;stroke-width:0.8;\"/>\r\n     </g>\r\n     <g id=\"line2d_4\">\r\n      <g>\r\n       <use style=\"stroke:#000000;stroke-width:0.8;\" x=\"143.00591\" xlink:href=\"#m18e30c578a\" y=\"143.1\"/>\r\n      </g>\r\n     </g>\r\n     <g id=\"text_2\">\r\n      <!-- 400 -->\r\n      <g transform=\"translate(133.46216 157.698438)scale(0.1 -0.1)\">\r\n       <defs>\r\n        <path d=\"M 37.796875 64.3125 \r\nL 12.890625 25.390625 \r\nL 37.796875 25.390625 \r\nz\r\nM 35.203125 72.90625 \r\nL 47.609375 72.90625 \r\nL 47.609375 25.390625 \r\nL 58.015625 25.390625 \r\nL 58.015625 17.1875 \r\nL 47.609375 17.1875 \r\nL 47.609375 0 \r\nL 37.796875 0 \r\nL 37.796875 17.1875 \r\nL 4.890625 17.1875 \r\nL 4.890625 26.703125 \r\nz\r\n\" id=\"DejaVuSans-52\"/>\r\n       </defs>\r\n       <use xlink:href=\"#DejaVuSans-52\"/>\r\n       <use x=\"63.623047\" xlink:href=\"#DejaVuSans-48\"/>\r\n       <use x=\"127.246094\" xlink:href=\"#DejaVuSans-48\"/>\r\n      </g>\r\n     </g>\r\n    </g>\r\n    <g id=\"xtick_3\">\r\n     <g id=\"line2d_5\">\r\n      <path clip-path=\"url(#p5c1db28926)\" d=\"M 191.892017 143.1 \r\nL 191.892017 7.2 \r\n\" style=\"fill:none;stroke:#b0b0b0;stroke-linecap:square;stroke-width:0.8;\"/>\r\n     </g>\r\n     <g id=\"line2d_6\">\r\n      <g>\r\n       <use style=\"stroke:#000000;stroke-width:0.8;\" x=\"191.892017\" xlink:href=\"#m18e30c578a\" y=\"143.1\"/>\r\n      </g>\r\n     </g>\r\n     <g id=\"text_3\">\r\n      <!-- 600 -->\r\n      <g transform=\"translate(182.348267 157.698438)scale(0.1 -0.1)\">\r\n       <defs>\r\n        <path d=\"M 33.015625 40.375 \r\nQ 26.375 40.375 22.484375 35.828125 \r\nQ 18.609375 31.296875 18.609375 23.390625 \r\nQ 18.609375 15.53125 22.484375 10.953125 \r\nQ 26.375 6.390625 33.015625 6.390625 \r\nQ 39.65625 6.390625 43.53125 10.953125 \r\nQ 47.40625 15.53125 47.40625 23.390625 \r\nQ 47.40625 31.296875 43.53125 35.828125 \r\nQ 39.65625 40.375 33.015625 40.375 \r\nz\r\nM 52.59375 71.296875 \r\nL 52.59375 62.3125 \r\nQ 48.875 64.0625 45.09375 64.984375 \r\nQ 41.3125 65.921875 37.59375 65.921875 \r\nQ 27.828125 65.921875 22.671875 59.328125 \r\nQ 17.53125 52.734375 16.796875 39.40625 \r\nQ 19.671875 43.65625 24.015625 45.921875 \r\nQ 28.375 48.1875 33.59375 48.1875 \r\nQ 44.578125 48.1875 50.953125 41.515625 \r\nQ 57.328125 34.859375 57.328125 23.390625 \r\nQ 57.328125 12.15625 50.6875 5.359375 \r\nQ 44.046875 -1.421875 33.015625 -1.421875 \r\nQ 20.359375 -1.421875 13.671875 8.265625 \r\nQ 6.984375 17.96875 6.984375 36.375 \r\nQ 6.984375 53.65625 15.1875 63.9375 \r\nQ 23.390625 74.21875 37.203125 74.21875 \r\nQ 40.921875 74.21875 44.703125 73.484375 \r\nQ 48.484375 72.75 52.59375 71.296875 \r\nz\r\n\" id=\"DejaVuSans-54\"/>\r\n       </defs>\r\n       <use xlink:href=\"#DejaVuSans-54\"/>\r\n       <use x=\"63.623047\" xlink:href=\"#DejaVuSans-48\"/>\r\n       <use x=\"127.246094\" xlink:href=\"#DejaVuSans-48\"/>\r\n      </g>\r\n     </g>\r\n    </g>\r\n    <g id=\"xtick_4\">\r\n     <g id=\"line2d_7\">\r\n      <path clip-path=\"url(#p5c1db28926)\" d=\"M 240.778125 143.1 \r\nL 240.778125 7.2 \r\n\" style=\"fill:none;stroke:#b0b0b0;stroke-linecap:square;stroke-width:0.8;\"/>\r\n     </g>\r\n     <g id=\"line2d_8\">\r\n      <g>\r\n       <use style=\"stroke:#000000;stroke-width:0.8;\" x=\"240.778125\" xlink:href=\"#m18e30c578a\" y=\"143.1\"/>\r\n      </g>\r\n     </g>\r\n     <g id=\"text_4\">\r\n      <!-- 800 -->\r\n      <g transform=\"translate(231.234375 157.698438)scale(0.1 -0.1)\">\r\n       <defs>\r\n        <path d=\"M 31.78125 34.625 \r\nQ 24.75 34.625 20.71875 30.859375 \r\nQ 16.703125 27.09375 16.703125 20.515625 \r\nQ 16.703125 13.921875 20.71875 10.15625 \r\nQ 24.75 6.390625 31.78125 6.390625 \r\nQ 38.8125 6.390625 42.859375 10.171875 \r\nQ 46.921875 13.96875 46.921875 20.515625 \r\nQ 46.921875 27.09375 42.890625 30.859375 \r\nQ 38.875 34.625 31.78125 34.625 \r\nz\r\nM 21.921875 38.8125 \r\nQ 15.578125 40.375 12.03125 44.71875 \r\nQ 8.5 49.078125 8.5 55.328125 \r\nQ 8.5 64.0625 14.71875 69.140625 \r\nQ 20.953125 74.21875 31.78125 74.21875 \r\nQ 42.671875 74.21875 48.875 69.140625 \r\nQ 55.078125 64.0625 55.078125 55.328125 \r\nQ 55.078125 49.078125 51.53125 44.71875 \r\nQ 48 40.375 41.703125 38.8125 \r\nQ 48.828125 37.15625 52.796875 32.3125 \r\nQ 56.78125 27.484375 56.78125 20.515625 \r\nQ 56.78125 9.90625 50.3125 4.234375 \r\nQ 43.84375 -1.421875 31.78125 -1.421875 \r\nQ 19.734375 -1.421875 13.25 4.234375 \r\nQ 6.78125 9.90625 6.78125 20.515625 \r\nQ 6.78125 27.484375 10.78125 32.3125 \r\nQ 14.796875 37.15625 21.921875 38.8125 \r\nz\r\nM 18.3125 54.390625 \r\nQ 18.3125 48.734375 21.84375 45.5625 \r\nQ 25.390625 42.390625 31.78125 42.390625 \r\nQ 38.140625 42.390625 41.71875 45.5625 \r\nQ 45.3125 48.734375 45.3125 54.390625 \r\nQ 45.3125 60.0625 41.71875 63.234375 \r\nQ 38.140625 66.40625 31.78125 66.40625 \r\nQ 25.390625 66.40625 21.84375 63.234375 \r\nQ 18.3125 60.0625 18.3125 54.390625 \r\nz\r\n\" id=\"DejaVuSans-56\"/>\r\n       </defs>\r\n       <use xlink:href=\"#DejaVuSans-56\"/>\r\n       <use x=\"63.623047\" xlink:href=\"#DejaVuSans-48\"/>\r\n       <use x=\"127.246094\" xlink:href=\"#DejaVuSans-48\"/>\r\n      </g>\r\n     </g>\r\n    </g>\r\n    <g id=\"text_5\">\r\n     <!-- epoch -->\r\n     <g transform=\"translate(127.9 171.376563)scale(0.1 -0.1)\">\r\n      <defs>\r\n       <path d=\"M 56.203125 29.59375 \r\nL 56.203125 25.203125 \r\nL 14.890625 25.203125 \r\nQ 15.484375 15.921875 20.484375 11.0625 \r\nQ 25.484375 6.203125 34.421875 6.203125 \r\nQ 39.59375 6.203125 44.453125 7.46875 \r\nQ 49.3125 8.734375 54.109375 11.28125 \r\nL 54.109375 2.78125 \r\nQ 49.265625 0.734375 44.1875 -0.34375 \r\nQ 39.109375 -1.421875 33.890625 -1.421875 \r\nQ 20.796875 -1.421875 13.15625 6.1875 \r\nQ 5.515625 13.8125 5.515625 26.8125 \r\nQ 5.515625 40.234375 12.765625 48.109375 \r\nQ 20.015625 56 32.328125 56 \r\nQ 43.359375 56 49.78125 48.890625 \r\nQ 56.203125 41.796875 56.203125 29.59375 \r\nz\r\nM 47.21875 32.234375 \r\nQ 47.125 39.59375 43.09375 43.984375 \r\nQ 39.0625 48.390625 32.421875 48.390625 \r\nQ 24.90625 48.390625 20.390625 44.140625 \r\nQ 15.875 39.890625 15.1875 32.171875 \r\nz\r\n\" id=\"DejaVuSans-101\"/>\r\n       <path d=\"M 18.109375 8.203125 \r\nL 18.109375 -20.796875 \r\nL 9.078125 -20.796875 \r\nL 9.078125 54.6875 \r\nL 18.109375 54.6875 \r\nL 18.109375 46.390625 \r\nQ 20.953125 51.265625 25.265625 53.625 \r\nQ 29.59375 56 35.59375 56 \r\nQ 45.5625 56 51.78125 48.09375 \r\nQ 58.015625 40.1875 58.015625 27.296875 \r\nQ 58.015625 14.40625 51.78125 6.484375 \r\nQ 45.5625 -1.421875 35.59375 -1.421875 \r\nQ 29.59375 -1.421875 25.265625 0.953125 \r\nQ 20.953125 3.328125 18.109375 8.203125 \r\nz\r\nM 48.6875 27.296875 \r\nQ 48.6875 37.203125 44.609375 42.84375 \r\nQ 40.53125 48.484375 33.40625 48.484375 \r\nQ 26.265625 48.484375 22.1875 42.84375 \r\nQ 18.109375 37.203125 18.109375 27.296875 \r\nQ 18.109375 17.390625 22.1875 11.75 \r\nQ 26.265625 6.109375 33.40625 6.109375 \r\nQ 40.53125 6.109375 44.609375 11.75 \r\nQ 48.6875 17.390625 48.6875 27.296875 \r\nz\r\n\" id=\"DejaVuSans-112\"/>\r\n       <path d=\"M 30.609375 48.390625 \r\nQ 23.390625 48.390625 19.1875 42.75 \r\nQ 14.984375 37.109375 14.984375 27.296875 \r\nQ 14.984375 17.484375 19.15625 11.84375 \r\nQ 23.34375 6.203125 30.609375 6.203125 \r\nQ 37.796875 6.203125 41.984375 11.859375 \r\nQ 46.1875 17.53125 46.1875 27.296875 \r\nQ 46.1875 37.015625 41.984375 42.703125 \r\nQ 37.796875 48.390625 30.609375 48.390625 \r\nz\r\nM 30.609375 56 \r\nQ 42.328125 56 49.015625 48.375 \r\nQ 55.71875 40.765625 55.71875 27.296875 \r\nQ 55.71875 13.875 49.015625 6.21875 \r\nQ 42.328125 -1.421875 30.609375 -1.421875 \r\nQ 18.84375 -1.421875 12.171875 6.21875 \r\nQ 5.515625 13.875 5.515625 27.296875 \r\nQ 5.515625 40.765625 12.171875 48.375 \r\nQ 18.84375 56 30.609375 56 \r\nz\r\n\" id=\"DejaVuSans-111\"/>\r\n       <path d=\"M 48.78125 52.59375 \r\nL 48.78125 44.1875 \r\nQ 44.96875 46.296875 41.140625 47.34375 \r\nQ 37.3125 48.390625 33.40625 48.390625 \r\nQ 24.65625 48.390625 19.8125 42.84375 \r\nQ 14.984375 37.3125 14.984375 27.296875 \r\nQ 14.984375 17.28125 19.8125 11.734375 \r\nQ 24.65625 6.203125 33.40625 6.203125 \r\nQ 37.3125 6.203125 41.140625 7.25 \r\nQ 44.96875 8.296875 48.78125 10.40625 \r\nL 48.78125 2.09375 \r\nQ 45.015625 0.34375 40.984375 -0.53125 \r\nQ 36.96875 -1.421875 32.421875 -1.421875 \r\nQ 20.0625 -1.421875 12.78125 6.34375 \r\nQ 5.515625 14.109375 5.515625 27.296875 \r\nQ 5.515625 40.671875 12.859375 48.328125 \r\nQ 20.21875 56 33.015625 56 \r\nQ 37.15625 56 41.109375 55.140625 \r\nQ 45.0625 54.296875 48.78125 52.59375 \r\nz\r\n\" id=\"DejaVuSans-99\"/>\r\n       <path d=\"M 54.890625 33.015625 \r\nL 54.890625 0 \r\nL 45.90625 0 \r\nL 45.90625 32.71875 \r\nQ 45.90625 40.484375 42.875 44.328125 \r\nQ 39.84375 48.1875 33.796875 48.1875 \r\nQ 26.515625 48.1875 22.3125 43.546875 \r\nQ 18.109375 38.921875 18.109375 30.90625 \r\nL 18.109375 0 \r\nL 9.078125 0 \r\nL 9.078125 75.984375 \r\nL 18.109375 75.984375 \r\nL 18.109375 46.1875 \r\nQ 21.34375 51.125 25.703125 53.5625 \r\nQ 30.078125 56 35.796875 56 \r\nQ 45.21875 56 50.046875 50.171875 \r\nQ 54.890625 44.34375 54.890625 33.015625 \r\nz\r\n\" id=\"DejaVuSans-104\"/>\r\n      </defs>\r\n      <use xlink:href=\"#DejaVuSans-101\"/>\r\n      <use x=\"61.523438\" xlink:href=\"#DejaVuSans-112\"/>\r\n      <use x=\"125\" xlink:href=\"#DejaVuSans-111\"/>\r\n      <use x=\"186.181641\" xlink:href=\"#DejaVuSans-99\"/>\r\n      <use x=\"241.162109\" xlink:href=\"#DejaVuSans-104\"/>\r\n     </g>\r\n    </g>\r\n   </g>\r\n   <g id=\"matplotlib.axis_2\">\r\n    <g id=\"ytick_1\">\r\n     <g id=\"line2d_9\">\r\n      <path clip-path=\"url(#p5c1db28926)\" d=\"M 45.478125 124.310854 \r\nL 240.778125 124.310854 \r\n\" style=\"fill:none;stroke:#b0b0b0;stroke-linecap:square;stroke-width:0.8;\"/>\r\n     </g>\r\n     <g id=\"line2d_10\">\r\n      <defs>\r\n       <path d=\"M 0 0 \r\nL -3.5 0 \r\n\" id=\"m2fa5271627\" style=\"stroke:#000000;stroke-width:0.8;\"/>\r\n      </defs>\r\n      <g>\r\n       <use style=\"stroke:#000000;stroke-width:0.8;\" x=\"45.478125\" xlink:href=\"#m2fa5271627\" y=\"124.310854\"/>\r\n      </g>\r\n     </g>\r\n     <g id=\"text_6\">\r\n      <!-- $\\mathdefault{10^{1}}$ -->\r\n      <g transform=\"translate(20.878125 128.110072)scale(0.1 -0.1)\">\r\n       <defs>\r\n        <path d=\"M 12.40625 8.296875 \r\nL 28.515625 8.296875 \r\nL 28.515625 63.921875 \r\nL 10.984375 60.40625 \r\nL 10.984375 69.390625 \r\nL 28.421875 72.90625 \r\nL 38.28125 72.90625 \r\nL 38.28125 8.296875 \r\nL 54.390625 8.296875 \r\nL 54.390625 0 \r\nL 12.40625 0 \r\nz\r\n\" id=\"DejaVuSans-49\"/>\r\n       </defs>\r\n       <use transform=\"translate(0 0.684375)\" xlink:href=\"#DejaVuSans-49\"/>\r\n       <use transform=\"translate(63.623047 0.684375)\" xlink:href=\"#DejaVuSans-48\"/>\r\n       <use transform=\"translate(128.203125 38.965625)scale(0.7)\" xlink:href=\"#DejaVuSans-49\"/>\r\n      </g>\r\n     </g>\r\n    </g>\r\n    <g id=\"ytick_2\">\r\n     <g id=\"line2d_11\">\r\n      <defs>\r\n       <path d=\"M 0 0 \r\nL -2 0 \r\n\" id=\"m1d452dd7fb\" style=\"stroke:#000000;stroke-width:0.6;\"/>\r\n      </defs>\r\n      <g>\r\n       <use style=\"stroke:#000000;stroke-width:0.6;\" x=\"45.478125\" xlink:href=\"#m1d452dd7fb\" y=\"136.267304\"/>\r\n      </g>\r\n     </g>\r\n    </g>\r\n    <g id=\"ytick_3\">\r\n     <g id=\"line2d_12\">\r\n      <g>\r\n       <use style=\"stroke:#000000;stroke-width:0.6;\" x=\"45.478125\" xlink:href=\"#m1d452dd7fb\" y=\"129.956268\"/>\r\n      </g>\r\n     </g>\r\n    </g>\r\n    <g id=\"ytick_4\">\r\n     <g id=\"line2d_13\">\r\n      <g>\r\n       <use style=\"stroke:#000000;stroke-width:0.6;\" x=\"45.478125\" xlink:href=\"#m1d452dd7fb\" y=\"87.170727\"/>\r\n      </g>\r\n     </g>\r\n    </g>\r\n    <g id=\"ytick_5\">\r\n     <g id=\"line2d_14\">\r\n      <g>\r\n       <use style=\"stroke:#000000;stroke-width:0.6;\" x=\"45.478125\" xlink:href=\"#m1d452dd7fb\" y=\"65.445146\"/>\r\n      </g>\r\n     </g>\r\n    </g>\r\n    <g id=\"ytick_6\">\r\n     <g id=\"line2d_15\">\r\n      <g>\r\n       <use style=\"stroke:#000000;stroke-width:0.6;\" x=\"45.478125\" xlink:href=\"#m1d452dd7fb\" y=\"50.030601\"/>\r\n      </g>\r\n     </g>\r\n    </g>\r\n    <g id=\"ytick_7\">\r\n     <g id=\"line2d_16\">\r\n      <g>\r\n       <use style=\"stroke:#000000;stroke-width:0.6;\" x=\"45.478125\" xlink:href=\"#m1d452dd7fb\" y=\"38.074151\"/>\r\n      </g>\r\n     </g>\r\n    </g>\r\n    <g id=\"ytick_8\">\r\n     <g id=\"line2d_17\">\r\n      <g>\r\n       <use style=\"stroke:#000000;stroke-width:0.6;\" x=\"45.478125\" xlink:href=\"#m1d452dd7fb\" y=\"28.30502\"/>\r\n      </g>\r\n     </g>\r\n    </g>\r\n    <g id=\"ytick_9\">\r\n     <g id=\"line2d_18\">\r\n      <g>\r\n       <use style=\"stroke:#000000;stroke-width:0.6;\" x=\"45.478125\" xlink:href=\"#m1d452dd7fb\" y=\"20.045337\"/>\r\n      </g>\r\n     </g>\r\n    </g>\r\n    <g id=\"ytick_10\">\r\n     <g id=\"line2d_19\">\r\n      <g>\r\n       <use style=\"stroke:#000000;stroke-width:0.6;\" x=\"45.478125\" xlink:href=\"#m1d452dd7fb\" y=\"12.890475\"/>\r\n      </g>\r\n     </g>\r\n    </g>\r\n    <g id=\"text_7\">\r\n     <!-- mse -->\r\n     <g transform=\"translate(14.798437 85.701562)rotate(-90)scale(0.1 -0.1)\">\r\n      <defs>\r\n       <path d=\"M 52 44.1875 \r\nQ 55.375 50.25 60.0625 53.125 \r\nQ 64.75 56 71.09375 56 \r\nQ 79.640625 56 84.28125 50.015625 \r\nQ 88.921875 44.046875 88.921875 33.015625 \r\nL 88.921875 0 \r\nL 79.890625 0 \r\nL 79.890625 32.71875 \r\nQ 79.890625 40.578125 77.09375 44.375 \r\nQ 74.3125 48.1875 68.609375 48.1875 \r\nQ 61.625 48.1875 57.5625 43.546875 \r\nQ 53.515625 38.921875 53.515625 30.90625 \r\nL 53.515625 0 \r\nL 44.484375 0 \r\nL 44.484375 32.71875 \r\nQ 44.484375 40.625 41.703125 44.40625 \r\nQ 38.921875 48.1875 33.109375 48.1875 \r\nQ 26.21875 48.1875 22.15625 43.53125 \r\nQ 18.109375 38.875 18.109375 30.90625 \r\nL 18.109375 0 \r\nL 9.078125 0 \r\nL 9.078125 54.6875 \r\nL 18.109375 54.6875 \r\nL 18.109375 46.1875 \r\nQ 21.1875 51.21875 25.484375 53.609375 \r\nQ 29.78125 56 35.6875 56 \r\nQ 41.65625 56 45.828125 52.96875 \r\nQ 50 49.953125 52 44.1875 \r\nz\r\n\" id=\"DejaVuSans-109\"/>\r\n       <path d=\"M 44.28125 53.078125 \r\nL 44.28125 44.578125 \r\nQ 40.484375 46.53125 36.375 47.5 \r\nQ 32.28125 48.484375 27.875 48.484375 \r\nQ 21.1875 48.484375 17.84375 46.4375 \r\nQ 14.5 44.390625 14.5 40.28125 \r\nQ 14.5 37.15625 16.890625 35.375 \r\nQ 19.28125 33.59375 26.515625 31.984375 \r\nL 29.59375 31.296875 \r\nQ 39.15625 29.25 43.1875 25.515625 \r\nQ 47.21875 21.78125 47.21875 15.09375 \r\nQ 47.21875 7.46875 41.1875 3.015625 \r\nQ 35.15625 -1.421875 24.609375 -1.421875 \r\nQ 20.21875 -1.421875 15.453125 -0.5625 \r\nQ 10.6875 0.296875 5.421875 2 \r\nL 5.421875 11.28125 \r\nQ 10.40625 8.6875 15.234375 7.390625 \r\nQ 20.0625 6.109375 24.8125 6.109375 \r\nQ 31.15625 6.109375 34.5625 8.28125 \r\nQ 37.984375 10.453125 37.984375 14.40625 \r\nQ 37.984375 18.0625 35.515625 20.015625 \r\nQ 33.0625 21.96875 24.703125 23.78125 \r\nL 21.578125 24.515625 \r\nQ 13.234375 26.265625 9.515625 29.90625 \r\nQ 5.8125 33.546875 5.8125 39.890625 \r\nQ 5.8125 47.609375 11.28125 51.796875 \r\nQ 16.75 56 26.8125 56 \r\nQ 31.78125 56 36.171875 55.265625 \r\nQ 40.578125 54.546875 44.28125 53.078125 \r\nz\r\n\" id=\"DejaVuSans-115\"/>\r\n      </defs>\r\n      <use xlink:href=\"#DejaVuSans-109\"/>\r\n      <use x=\"97.412109\" xlink:href=\"#DejaVuSans-115\"/>\r\n      <use x=\"149.511719\" xlink:href=\"#DejaVuSans-101\"/>\r\n     </g>\r\n    </g>\r\n   </g>\r\n   <g id=\"line2d_20\">\r\n    <path clip-path=\"url(#p5c1db28926)\" d=\"M 45.478125 13.377273 \r\nL 46.455847 21.053305 \r\nL 47.433569 36.383408 \r\nL 47.92243 46.982023 \r\nL 49.144583 89.862616 \r\nL 49.633444 97.200667 \r\nL 49.877875 102.578528 \r\nL 50.122305 101.878306 \r\nL 50.366736 103.046124 \r\nL 50.611166 101.529424 \r\nL 50.855597 111.627035 \r\nL 51.100027 107.201543 \r\nL 51.344458 112.150744 \r\nL 51.588888 113.106928 \r\nL 51.833319 112.261568 \r\nL 52.07775 110.273163 \r\nL 52.566611 113.758261 \r\nL 52.811041 111.315774 \r\nL 53.055472 106.177945 \r\nL 53.299902 110.733495 \r\nL 53.544333 111.611624 \r\nL 53.788763 113.425182 \r\nL 54.033194 113.973313 \r\nL 54.277624 113.488248 \r\nL 54.522055 114.862038 \r\nL 54.766485 117.634957 \r\nL 55.010916 111.872609 \r\nL 55.255347 113.749315 \r\nL 55.499777 114.426319 \r\nL 55.744208 112.028782 \r\nL 55.988638 112.627788 \r\nL 56.233069 113.924166 \r\nL 56.477499 112.502839 \r\nL 56.72193 116.00039 \r\nL 56.96636 114.833156 \r\nL 57.210791 121.830414 \r\nL 57.455221 117.90039 \r\nL 57.699652 123.452988 \r\nL 57.944082 121.755884 \r\nL 58.188513 116.583616 \r\nL 58.432944 116.342616 \r\nL 58.677374 117.029702 \r\nL 58.921805 114.106837 \r\nL 59.166235 121.676952 \r\nL 59.410666 120.853614 \r\nL 59.655096 120.510463 \r\nL 60.143957 112.564807 \r\nL 60.388388 116.933833 \r\nL 60.632818 115.621405 \r\nL 60.877249 117.194523 \r\nL 61.121679 120.49292 \r\nL 61.36611 115.352311 \r\nL 61.610541 118.969115 \r\nL 61.854971 114.845638 \r\nL 62.099402 119.138458 \r\nL 62.343832 120.512058 \r\nL 62.588263 113.663165 \r\nL 62.832693 121.199701 \r\nL 63.321554 120.379226 \r\nL 63.565985 116.192593 \r\nL 63.810415 114.014865 \r\nL 64.054846 123.092866 \r\nL 64.299276 126.377849 \r\nL 64.788138 117.789926 \r\nL 65.032568 117.686218 \r\nL 65.276999 119.65382 \r\nL 65.521429 116.720998 \r\nL 65.76586 125.899973 \r\nL 66.01029 118.231826 \r\nL 66.254721 123.545527 \r\nL 66.499151 117.547891 \r\nL 66.988012 121.912255 \r\nL 67.232443 121.989269 \r\nL 67.721304 116.833999 \r\nL 67.965735 123.65724 \r\nL 68.210165 121.275818 \r\nL 68.454596 123.906159 \r\nL 68.699026 114.135533 \r\nL 68.943457 125.649587 \r\nL 69.187887 115.505064 \r\nL 69.432318 115.664411 \r\nL 69.921179 123.378277 \r\nL 70.165609 120.59207 \r\nL 70.41004 120.467772 \r\nL 70.65447 120.120388 \r\nL 70.898901 121.468515 \r\nL 71.143332 121.824009 \r\nL 71.387762 121.71439 \r\nL 71.632193 125.833485 \r\nL 71.876623 118.972052 \r\nL 72.121054 118.726297 \r\nL 72.365484 115.659528 \r\nL 72.609915 119.494738 \r\nL 72.854345 119.597892 \r\nL 73.098776 122.73432 \r\nL 73.343206 117.376036 \r\nL 73.587637 121.090018 \r\nL 73.832067 118.95581 \r\nL 74.076498 122.841816 \r\nL 74.320929 121.312957 \r\nL 74.565359 121.428608 \r\nL 74.80979 120.448389 \r\nL 75.05422 117.796283 \r\nL 75.298651 121.767393 \r\nL 75.787512 125.23685 \r\nL 76.031942 124.251085 \r\nL 76.276373 119.978403 \r\nL 76.520803 125.185415 \r\nL 76.765234 123.492927 \r\nL 77.009664 120.004171 \r\nL 77.254095 129.913702 \r\nL 77.498526 122.921204 \r\nL 77.742956 123.95406 \r\nL 77.987387 121.621055 \r\nL 78.476248 123.746952 \r\nL 78.720678 120.987028 \r\nL 78.965109 123.299122 \r\nL 79.209539 119.290072 \r\nL 79.45397 119.315394 \r\nL 79.6984 124.469707 \r\nL 79.942831 125.364066 \r\nL 80.187261 120.585415 \r\nL 80.431692 119.901687 \r\nL 80.920553 123.900195 \r\nL 81.164984 122.123327 \r\nL 81.409414 126.948875 \r\nL 81.653845 124.334104 \r\nL 81.898275 126.213775 \r\nL 82.142706 119.829433 \r\nL 82.387136 125.133909 \r\nL 82.631567 123.517859 \r\nL 82.875997 125.483697 \r\nL 83.120428 123.993551 \r\nL 83.364858 120.182934 \r\nL 83.609289 125.349851 \r\nL 83.853719 123.720842 \r\nL 84.09815 119.091422 \r\nL 84.342581 121.422081 \r\nL 84.587011 125.506171 \r\nL 85.075872 117.959807 \r\nL 85.564733 125.202335 \r\nL 85.809164 124.881042 \r\nL 86.053594 120.353373 \r\nL 86.298025 120.313894 \r\nL 86.542455 127.3798 \r\nL 86.786886 126.524493 \r\nL 87.031316 125.066157 \r\nL 87.275747 127.956735 \r\nL 87.520178 119.751738 \r\nL 87.764608 121.862233 \r\nL 88.009039 122.231731 \r\nL 88.253469 123.498151 \r\nL 88.4979 122.310934 \r\nL 88.74233 124.06703 \r\nL 88.986761 122.427731 \r\nL 89.231191 122.663606 \r\nL 89.475622 126.157315 \r\nL 89.720052 123.428916 \r\nL 89.964483 122.893184 \r\nL 90.208913 124.35472 \r\nL 90.453344 120.914452 \r\nL 90.697775 122.255301 \r\nL 90.942205 127.173669 \r\nL 91.186636 126.285603 \r\nL 91.431066 122.20151 \r\nL 91.675497 125.398342 \r\nL 91.919927 120.986231 \r\nL 92.164358 119.472211 \r\nL 92.653219 124.722068 \r\nL 92.897649 125.909633 \r\nL 93.14208 122.93093 \r\nL 93.38651 122.414471 \r\nL 93.630941 124.549591 \r\nL 93.875372 122.29071 \r\nL 94.119802 123.563368 \r\nL 94.608663 124.089961 \r\nL 94.853094 122.302896 \r\nL 95.097524 121.798692 \r\nL 95.341955 123.130258 \r\nL 95.586385 119.733893 \r\nL 95.830816 124.865741 \r\nL 96.075246 123.052915 \r\nL 96.319677 122.394366 \r\nL 96.808538 125.236112 \r\nL 97.052969 119.656856 \r\nL 97.297399 121.943918 \r\nL 97.54183 125.471252 \r\nL 97.78626 126.621985 \r\nL 98.030691 126.756762 \r\nL 98.275121 123.675633 \r\nL 98.519552 118.458451 \r\nL 99.008413 127.930487 \r\nL 99.252843 125.116643 \r\nL 99.497274 124.474054 \r\nL 99.741704 127.135895 \r\nL 99.986135 122.546043 \r\nL 100.230566 125.768939 \r\nL 100.474996 125.195274 \r\nL 100.719427 119.259037 \r\nL 101.208288 123.553301 \r\nL 101.452718 124.375191 \r\nL 101.697149 124.331609 \r\nL 101.941579 126.781296 \r\nL 102.18601 124.648061 \r\nL 102.43044 123.848988 \r\nL 102.674871 126.88316 \r\nL 102.919301 126.747643 \r\nL 103.163732 130.047945 \r\nL 103.408163 127.179226 \r\nL 103.652593 128.869326 \r\nL 103.897024 126.048391 \r\nL 104.385885 124.802994 \r\nL 104.630315 123.699978 \r\nL 104.874746 124.635531 \r\nL 105.119176 124.787602 \r\nL 105.363607 127.92361 \r\nL 105.852468 124.053832 \r\nL 106.096898 129.956279 \r\nL 106.341329 127.150581 \r\nL 106.58576 125.830715 \r\nL 106.83019 128.143854 \r\nL 107.074621 126.767562 \r\nL 107.319051 122.963016 \r\nL 107.807912 125.707622 \r\nL 108.052343 123.886444 \r\nL 108.541204 124.531763 \r\nL 108.785634 126.305085 \r\nL 109.030065 118.074957 \r\nL 109.274495 129.114853 \r\nL 109.518926 125.453312 \r\nL 109.763357 126.509025 \r\nL 110.007787 124.866784 \r\nL 110.252218 124.901663 \r\nL 110.496648 128.646025 \r\nL 110.741079 125.902652 \r\nL 110.985509 125.304059 \r\nL 111.22994 123.793907 \r\nL 111.47437 128.303451 \r\nL 111.718801 126.325026 \r\nL 111.963231 125.795116 \r\nL 112.207662 127.108888 \r\nL 112.452092 125.187747 \r\nL 112.696523 124.721352 \r\nL 113.185384 126.820555 \r\nL 113.429815 126.845548 \r\nL 113.674245 127.10028 \r\nL 113.918676 128.382769 \r\nL 114.163106 124.827831 \r\nL 114.407537 125.736046 \r\nL 114.651967 121.839304 \r\nL 114.896398 124.835726 \r\nL 115.140828 123.877229 \r\nL 115.385259 124.665445 \r\nL 115.629689 123.228646 \r\nL 116.118551 125.640272 \r\nL 116.362981 128.683476 \r\nL 116.851842 125.124643 \r\nL 117.340703 128.223107 \r\nL 117.585134 128.027955 \r\nL 117.829564 123.721807 \r\nL 118.073995 123.591252 \r\nL 118.318425 124.203947 \r\nL 118.562856 127.879077 \r\nL 118.807286 125.826346 \r\nL 119.051717 122.499522 \r\nL 119.296148 125.727016 \r\nL 119.540578 126.155168 \r\nL 119.785009 127.058572 \r\nL 120.029439 123.413521 \r\nL 120.27387 127.046471 \r\nL 120.5183 128.2717 \r\nL 120.762731 128.221985 \r\nL 121.007161 126.064867 \r\nL 121.251592 131.548918 \r\nL 121.496022 121.210088 \r\nL 121.740453 125.665527 \r\nL 122.473745 124.834405 \r\nL 122.718175 126.161293 \r\nL 122.962606 126.790977 \r\nL 123.207036 129.073386 \r\nL 123.451467 126.060258 \r\nL 123.695897 126.351545 \r\nL 123.940328 124.315402 \r\nL 124.184758 126.204991 \r\nL 124.429189 123.724905 \r\nL 124.673619 124.742674 \r\nL 124.91805 127.32537 \r\nL 125.16248 126.497617 \r\nL 125.406911 129.000886 \r\nL 125.651342 124.93047 \r\nL 126.140203 127.768126 \r\nL 126.384633 127.760801 \r\nL 126.629064 131.217097 \r\nL 126.873494 126.339799 \r\nL 127.117925 124.713279 \r\nL 127.362355 126.48073 \r\nL 127.606786 125.362028 \r\nL 127.851216 127.794551 \r\nL 128.095647 127.487797 \r\nL 128.340077 132.643713 \r\nL 128.584508 126.763293 \r\nL 128.828939 130.200233 \r\nL 129.073369 125.802182 \r\nL 129.3178 127.848964 \r\nL 129.806661 129.42759 \r\nL 130.051091 124.155175 \r\nL 130.539952 125.657278 \r\nL 130.784383 125.949259 \r\nL 131.028813 127.873108 \r\nL 131.273244 124.938617 \r\nL 131.517674 131.51767 \r\nL 131.762105 127.70075 \r\nL 132.006536 128.087535 \r\nL 132.250966 125.254811 \r\nL 132.495397 125.67364 \r\nL 132.984258 128.308329 \r\nL 133.228688 124.625111 \r\nL 133.473119 130.172674 \r\nL 133.717549 126.757307 \r\nL 133.96198 125.134911 \r\nL 134.450841 130.031562 \r\nL 134.939702 124.983581 \r\nL 135.184133 127.698262 \r\nL 135.428563 128.919674 \r\nL 135.917424 122.137501 \r\nL 136.406285 129.943409 \r\nL 136.650716 129.654349 \r\nL 136.895146 126.112038 \r\nL 137.384007 127.887014 \r\nL 137.628438 127.038244 \r\nL 137.872868 127.62805 \r\nL 138.117299 123.375716 \r\nL 138.36173 126.907135 \r\nL 138.850591 129.472298 \r\nL 139.095021 129.698252 \r\nL 139.339452 125.15523 \r\nL 139.583882 128.520478 \r\nL 139.828313 125.611966 \r\nL 140.072743 125.916188 \r\nL 140.317174 126.51395 \r\nL 140.561604 124.491191 \r\nL 140.806035 130.574452 \r\nL 141.050465 126.580478 \r\nL 141.294896 127.977645 \r\nL 141.539327 128.443666 \r\nL 141.783757 126.323922 \r\nL 142.028188 130.230328 \r\nL 142.272618 126.827185 \r\nL 142.517049 126.959167 \r\nL 142.761479 128.343467 \r\nL 143.00591 126.653163 \r\nL 143.25034 127.978302 \r\nL 143.494771 127.938726 \r\nL 143.739201 127.37236 \r\nL 143.983632 126.154713 \r\nL 144.228062 132.325949 \r\nL 144.472493 129.147583 \r\nL 144.716923 127.981886 \r\nL 144.961354 129.901471 \r\nL 145.205785 124.209404 \r\nL 145.450215 126.831582 \r\nL 145.694646 127.597871 \r\nL 145.939076 131.708032 \r\nL 146.183507 129.450122 \r\nL 146.427937 128.843495 \r\nL 146.916798 128.318829 \r\nL 147.161229 126.20073 \r\nL 147.405659 125.808939 \r\nL 147.89452 127.256076 \r\nL 148.138951 127.444638 \r\nL 148.383382 130.013484 \r\nL 148.627812 127.077611 \r\nL 148.872243 125.84053 \r\nL 149.116673 129.833361 \r\nL 149.361104 126.470711 \r\nL 149.605534 129.913004 \r\nL 149.849965 125.785534 \r\nL 150.094395 130.47076 \r\nL 150.583256 125.307011 \r\nL 150.827687 128.457374 \r\nL 151.072117 126.016529 \r\nL 151.560979 128.51405 \r\nL 151.805409 133.150091 \r\nL 152.04984 122.81173 \r\nL 152.29427 127.007197 \r\nL 152.783131 130.194843 \r\nL 153.027562 126.911212 \r\nL 153.271992 128.88252 \r\nL 153.516423 126.299718 \r\nL 153.760853 130.487375 \r\nL 154.005284 127.660738 \r\nL 154.249714 127.188607 \r\nL 154.494145 129.167916 \r\nL 154.738576 125.970538 \r\nL 154.983006 126.797068 \r\nL 155.227437 125.05712 \r\nL 155.471867 128.010798 \r\nL 155.960728 125.86911 \r\nL 156.205159 126.563575 \r\nL 156.449589 130.90994 \r\nL 156.69402 125.836503 \r\nL 156.93845 129.707898 \r\nL 157.182881 127.269904 \r\nL 157.427311 129.911909 \r\nL 157.671742 129.125071 \r\nL 157.916173 129.36935 \r\nL 158.160603 124.858219 \r\nL 158.405034 130.259161 \r\nL 158.649464 132.923475 \r\nL 159.138325 127.989203 \r\nL 159.382756 130.353052 \r\nL 159.627186 131.01088 \r\nL 159.871617 129.086685 \r\nL 160.116047 128.900665 \r\nL 160.360478 129.468871 \r\nL 160.604908 126.295131 \r\nL 160.849339 125.640859 \r\nL 161.09377 131.781653 \r\nL 161.3382 128.755119 \r\nL 161.582631 128.108753 \r\nL 161.827061 128.726601 \r\nL 162.071492 128.736918 \r\nL 162.315922 129.013621 \r\nL 162.560353 126.766508 \r\nL 162.804783 130.93636 \r\nL 163.049214 131.849441 \r\nL 163.293644 129.036839 \r\nL 163.538075 129.630608 \r\nL 163.782505 131.634558 \r\nL 164.026936 129.043995 \r\nL 164.271367 132.732797 \r\nL 164.515797 128.316153 \r\nL 164.760228 130.235327 \r\nL 165.004658 130.773459 \r\nL 165.493519 127.833267 \r\nL 165.73795 125.127901 \r\nL 165.98238 130.072282 \r\nL 166.226811 128.128938 \r\nL 166.471241 130.994199 \r\nL 166.715672 126.704627 \r\nL 166.960102 130.590882 \r\nL 167.448964 130.662655 \r\nL 167.693394 131.326678 \r\nL 167.937825 127.587635 \r\nL 168.182255 129.715534 \r\nL 168.426686 128.386959 \r\nL 168.671116 130.08183 \r\nL 168.915547 129.07939 \r\nL 169.159977 130.95216 \r\nL 169.404408 130.411913 \r\nL 169.893269 127.603163 \r\nL 170.137699 127.293929 \r\nL 170.38213 127.759896 \r\nL 170.626561 127.636526 \r\nL 170.870991 133.484777 \r\nL 171.359852 126.968268 \r\nL 171.604283 126.441453 \r\nL 171.848713 128.433467 \r\nL 172.093144 128.748852 \r\nL 172.337574 125.384707 \r\nL 172.582005 128.79878 \r\nL 172.826435 126.293853 \r\nL 173.070866 129.314421 \r\nL 173.315296 129.307055 \r\nL 173.559727 133.480708 \r\nL 173.804158 127.200789 \r\nL 174.048588 128.121173 \r\nL 174.293019 130.353292 \r\nL 174.537449 128.242619 \r\nL 174.78188 130.347017 \r\nL 175.02631 131.284738 \r\nL 175.270741 128.411325 \r\nL 175.759602 128.257766 \r\nL 176.004032 130.499189 \r\nL 176.248463 125.988989 \r\nL 176.737324 130.808747 \r\nL 176.981755 132.000867 \r\nL 177.226185 129.143081 \r\nL 177.470616 129.580174 \r\nL 177.715046 133.267863 \r\nL 177.959477 128.90817 \r\nL 178.203907 128.732822 \r\nL 178.448338 127.108565 \r\nL 178.692768 128.648252 \r\nL 178.937199 128.537291 \r\nL 179.181629 127.857502 \r\nL 179.42606 127.581791 \r\nL 179.67049 127.972485 \r\nL 179.914921 130.583471 \r\nL 180.159352 129.348221 \r\nL 180.403782 128.88612 \r\nL 180.648213 127.656451 \r\nL 180.892643 128.187981 \r\nL 181.137074 127.222442 \r\nL 181.381504 131.407272 \r\nL 181.625935 128.476563 \r\nL 181.870365 130.178694 \r\nL 182.114796 125.836697 \r\nL 182.359226 126.990385 \r\nL 182.603657 132.86073 \r\nL 182.848087 126.020612 \r\nL 183.092518 128.715333 \r\nL 183.336949 125.957932 \r\nL 183.581379 130.596989 \r\nL 183.82581 129.303353 \r\nL 184.07024 128.873872 \r\nL 184.314671 130.333116 \r\nL 184.559101 129.678965 \r\nL 184.803532 129.906979 \r\nL 185.047962 127.33814 \r\nL 185.292393 130.773569 \r\nL 185.536823 131.458101 \r\nL 185.781254 126.702645 \r\nL 186.025684 126.281478 \r\nL 186.270115 127.387929 \r\nL 186.514546 125.182501 \r\nL 186.758976 130.40364 \r\nL 187.003407 128.218632 \r\nL 187.247837 128.927839 \r\nL 187.492268 130.045357 \r\nL 187.736698 127.86561 \r\nL 187.981129 127.193967 \r\nL 188.225559 130.910385 \r\nL 188.46999 126.175206 \r\nL 188.71442 130.352045 \r\nL 188.958851 131.237254 \r\nL 189.447712 127.66021 \r\nL 189.936573 129.759317 \r\nL 190.181004 132.958197 \r\nL 190.425434 132.611778 \r\nL 190.669865 125.859015 \r\nL 190.914295 126.48031 \r\nL 191.158726 124.007746 \r\nL 191.403156 130.023205 \r\nL 191.647587 128.052032 \r\nL 191.892017 129.144541 \r\nL 192.136448 127.22542 \r\nL 192.380878 129.93628 \r\nL 192.625309 125.347043 \r\nL 192.86974 128.69298 \r\nL 193.11417 127.51951 \r\nL 193.358601 131.884797 \r\nL 193.603031 131.259525 \r\nL 193.847462 131.034389 \r\nL 194.091892 128.301877 \r\nL 194.580753 131.751614 \r\nL 194.825184 129.07209 \r\nL 195.069614 129.375595 \r\nL 195.314045 128.49803 \r\nL 195.558475 131.688471 \r\nL 195.802906 131.957159 \r\nL 196.047337 128.793469 \r\nL 196.291767 131.885368 \r\nL 196.780628 127.698203 \r\nL 197.025059 131.263935 \r\nL 197.269489 129.673362 \r\nL 197.51392 131.826394 \r\nL 197.75835 129.800244 \r\nL 198.002781 129.268028 \r\nL 198.247211 129.282251 \r\nL 198.736072 130.798174 \r\nL 198.980503 127.992667 \r\nL 199.224934 130.295466 \r\nL 199.469364 128.530777 \r\nL 199.713795 132.951826 \r\nL 199.958225 128.630054 \r\nL 200.202656 129.7255 \r\nL 200.447086 132.492492 \r\nL 200.691517 128.531955 \r\nL 200.935947 129.957551 \r\nL 201.180378 126.781403 \r\nL 201.424808 127.150759 \r\nL 201.669239 131.961308 \r\nL 201.913669 131.340269 \r\nL 202.1581 129.518434 \r\nL 202.402531 128.843189 \r\nL 202.891392 131.707169 \r\nL 203.135822 129.967437 \r\nL 203.380253 130.011325 \r\nL 203.624683 129.566921 \r\nL 203.869114 128.171487 \r\nL 204.113544 130.830142 \r\nL 204.357975 129.897331 \r\nL 204.602405 132.061143 \r\nL 204.846836 132.169661 \r\nL 205.091266 129.779392 \r\nL 205.335697 132.945744 \r\nL 205.580128 131.460852 \r\nL 205.824558 131.040066 \r\nL 206.068989 129.668849 \r\nL 206.313419 127.659644 \r\nL 206.55785 131.258408 \r\nL 206.80228 126.988902 \r\nL 207.046711 130.888184 \r\nL 207.291141 129.104408 \r\nL 207.535572 129.280591 \r\nL 207.780002 127.427061 \r\nL 208.024433 130.702988 \r\nL 208.268863 129.076212 \r\nL 208.757724 128.431006 \r\nL 209.002155 129.722277 \r\nL 209.246586 129.506215 \r\nL 209.491016 129.665726 \r\nL 209.735447 130.86091 \r\nL 209.979877 130.171226 \r\nL 210.224308 128.958264 \r\nL 210.468738 132.612166 \r\nL 210.713169 131.284639 \r\nL 210.957599 131.772325 \r\nL 211.44646 127.804749 \r\nL 211.690891 128.475596 \r\nL 211.935321 130.462947 \r\nL 212.179752 126.432893 \r\nL 212.668613 131.127397 \r\nL 212.913044 130.754438 \r\nL 213.157474 132.215077 \r\nL 213.401905 134.550188 \r\nL 213.646335 128.864648 \r\nL 213.890766 129.96336 \r\nL 214.135196 130.50021 \r\nL 214.379627 133.369668 \r\nL 214.624057 133.873053 \r\nL 214.868488 129.736106 \r\nL 215.112918 130.139216 \r\nL 215.357349 132.653319 \r\nL 215.60178 130.699626 \r\nL 215.84621 130.685517 \r\nL 216.090641 130.415699 \r\nL 216.335071 128.469864 \r\nL 216.579502 132.31919 \r\nL 216.823932 133.025151 \r\nL 217.068363 132.163241 \r\nL 217.557224 129.353886 \r\nL 217.801654 131.141983 \r\nL 218.046085 130.805118 \r\nL 218.290515 131.40484 \r\nL 218.534946 130.716923 \r\nL 218.779377 132.987515 \r\nL 219.023807 126.272053 \r\nL 219.268238 128.098672 \r\nL 219.512668 128.197238 \r\nL 219.757099 129.79242 \r\nL 220.001529 132.952648 \r\nL 220.24596 131.738493 \r\nL 220.49039 127.735263 \r\nL 220.734821 128.902535 \r\nL 220.979251 131.193856 \r\nL 221.223682 128.010262 \r\nL 221.956974 131.790207 \r\nL 222.201404 129.757264 \r\nL 222.445835 133.661896 \r\nL 222.934696 130.463199 \r\nL 223.179126 130.310941 \r\nL 223.423557 129.410541 \r\nL 223.912418 133.1314 \r\nL 224.156848 131.057885 \r\nL 224.401279 131.836384 \r\nL 224.645709 131.111296 \r\nL 224.89014 132.55892 \r\nL 225.134571 129.289837 \r\nL 225.379001 132.590096 \r\nL 225.623432 130.775771 \r\nL 225.867862 132.197325 \r\nL 226.112293 132.898847 \r\nL 226.356723 128.036007 \r\nL 226.601154 131.807595 \r\nL 226.845584 131.531754 \r\nL 227.090015 129.941116 \r\nL 227.334445 132.126483 \r\nL 227.578876 129.448688 \r\nL 227.823306 130.254896 \r\nL 228.067737 131.643089 \r\nL 228.312168 130.118732 \r\nL 228.556598 130.85274 \r\nL 228.801029 132.798584 \r\nL 229.045459 132.436611 \r\nL 229.28989 136.368945 \r\nL 229.778751 128.696191 \r\nL 230.023181 132.732234 \r\nL 230.267612 131.843618 \r\nL 230.512042 131.41771 \r\nL 231.000903 130.354773 \r\nL 231.245334 130.3912 \r\nL 231.734195 132.739787 \r\nL 231.978626 135.941685 \r\nL 232.223056 134.174662 \r\nL 232.467487 130.965408 \r\nL 232.711917 131.522218 \r\nL 232.956348 129.651752 \r\nL 233.200778 130.689477 \r\nL 233.689639 131.420937 \r\nL 233.93407 135.298753 \r\nL 234.1785 132.512985 \r\nL 234.422931 132.578295 \r\nL 234.667362 129.914677 \r\nL 234.911792 133.099848 \r\nL 235.156223 132.948638 \r\nL 235.400653 129.833582 \r\nL 235.645084 132.362286 \r\nL 235.889514 130.503399 \r\nL 236.133945 132.034541 \r\nL 236.378375 131.831798 \r\nL 236.622806 133.346769 \r\nL 236.867236 132.40203 \r\nL 237.111667 133.574426 \r\nL 237.600528 131.067953 \r\nL 237.844959 131.2822 \r\nL 238.089389 134.512411 \r\nL 238.57825 126.791871 \r\nL 239.067111 133.078406 \r\nL 239.311542 130.369848 \r\nL 239.555972 130.532626 \r\nL 239.800403 133.090456 \r\nL 240.044833 132.614433 \r\nL 240.289264 129.702936 \r\nL 240.533694 129.272462 \r\nL 240.778125 135.318673 \r\nL 240.778125 135.318673 \r\n\" style=\"fill:none;stroke:#1f77b4;stroke-linecap:square;stroke-width:1.5;\"/>\r\n   </g>\r\n   <g id=\"line2d_21\">\r\n    <path clip-path=\"url(#p5c1db28926)\" d=\"M 45.478125 18.119166 \r\nL 46.211417 24.513295 \r\nL 47.189139 37.607685 \r\nL 47.92243 53.129859 \r\nL 48.655722 77.535389 \r\nL 48.900153 79.824342 \r\nL 49.144583 84.272364 \r\nL 49.389014 93.715761 \r\nL 49.633444 96.440593 \r\nL 50.122305 87.67584 \r\nL 50.366736 95.230676 \r\nL 50.611166 97.463406 \r\nL 51.100027 88.502094 \r\nL 51.588888 101.524637 \r\nL 51.833319 93.640505 \r\nL 52.07775 94.83717 \r\nL 52.32218 88.499779 \r\nL 52.566611 87.743643 \r\nL 53.055472 104.282886 \r\nL 53.299902 105.649773 \r\nL 53.788763 91.267773 \r\nL 54.033194 97.031636 \r\nL 54.277624 107.047912 \r\nL 54.522055 93.432063 \r\nL 54.766485 98.173395 \r\nL 55.010916 99.003468 \r\nL 55.255347 93.685474 \r\nL 55.499777 98.98304 \r\nL 55.744208 96.947483 \r\nL 55.988638 97.414306 \r\nL 56.233069 102.541641 \r\nL 56.477499 103.582455 \r\nL 56.72193 101.478243 \r\nL 56.96636 102.323326 \r\nL 57.455221 106.994471 \r\nL 57.699652 96.676174 \r\nL 57.944082 99.854215 \r\nL 58.188513 98.877194 \r\nL 58.432944 103.177694 \r\nL 58.677374 105.486697 \r\nL 58.921805 111.641422 \r\nL 59.166235 101.708837 \r\nL 59.410666 103.340588 \r\nL 59.655096 96.761723 \r\nL 59.899527 109.738535 \r\nL 60.388388 103.618499 \r\nL 60.632818 106.114986 \r\nL 60.877249 103.105212 \r\nL 61.121679 113.040082 \r\nL 61.36611 102.755117 \r\nL 61.854971 113.08467 \r\nL 62.099402 112.401501 \r\nL 62.343832 117.385636 \r\nL 62.588263 104.362879 \r\nL 62.832693 107.118069 \r\nL 63.077124 108.35888 \r\nL 63.321554 111.165776 \r\nL 63.565985 112.659925 \r\nL 63.810415 107.61048 \r\nL 64.054846 114.60448 \r\nL 64.299276 103.02424 \r\nL 64.543707 105.044914 \r\nL 64.788138 118.868724 \r\nL 65.032568 114.157983 \r\nL 65.276999 105.517421 \r\nL 65.521429 108.501171 \r\nL 65.76586 105.942455 \r\nL 66.01029 111.217899 \r\nL 66.254721 106.513363 \r\nL 66.499151 96.146046 \r\nL 66.743582 97.856368 \r\nL 66.988012 117.152167 \r\nL 67.232443 105.728322 \r\nL 67.476873 110.637513 \r\nL 67.721304 109.606881 \r\nL 67.965735 105.880079 \r\nL 68.210165 117.336062 \r\nL 68.454596 112.857135 \r\nL 68.699026 115.951386 \r\nL 68.943457 108.826727 \r\nL 69.187887 111.575931 \r\nL 69.432318 105.719635 \r\nL 69.676748 105.558456 \r\nL 69.921179 114.03699 \r\nL 70.165609 108.363472 \r\nL 70.41004 109.771061 \r\nL 70.65447 103.973621 \r\nL 70.898901 116.024677 \r\nL 71.143332 112.783313 \r\nL 71.387762 113.704095 \r\nL 71.632193 103.602752 \r\nL 71.876623 121.941141 \r\nL 72.121054 118.096281 \r\nL 72.365484 116.999632 \r\nL 72.609915 103.869323 \r\nL 73.098776 115.532107 \r\nL 73.343206 109.213888 \r\nL 73.587637 109.476999 \r\nL 73.832067 117.267954 \r\nL 74.076498 118.072242 \r\nL 74.320929 105.68969 \r\nL 74.565359 125.088369 \r\nL 74.80979 125.184324 \r\nL 75.298651 109.933377 \r\nL 75.543081 109.317328 \r\nL 75.787512 104.035965 \r\nL 76.031942 114.331473 \r\nL 76.276373 104.951769 \r\nL 76.520803 112.96877 \r\nL 76.765234 113.004662 \r\nL 77.009664 105.925172 \r\nL 77.254095 108.745882 \r\nL 77.498526 121.211395 \r\nL 77.742956 109.997715 \r\nL 77.987387 105.759478 \r\nL 78.231817 108.862369 \r\nL 78.476248 114.84136 \r\nL 78.720678 104.851952 \r\nL 78.965109 109.6785 \r\nL 79.209539 118.241429 \r\nL 79.45397 108.709786 \r\nL 79.6984 122.076877 \r\nL 79.942831 116.040948 \r\nL 80.187261 113.268214 \r\nL 80.431692 116.858613 \r\nL 80.676122 108.012346 \r\nL 80.920553 115.011964 \r\nL 81.164984 110.977728 \r\nL 81.409414 112.155782 \r\nL 81.653845 112.10195 \r\nL 81.898275 108.189138 \r\nL 82.142706 111.086633 \r\nL 82.387136 104.486914 \r\nL 82.631567 113.77547 \r\nL 82.875997 109.05504 \r\nL 83.120428 114.386086 \r\nL 83.364858 106.802163 \r\nL 83.609289 117.550404 \r\nL 83.853719 105.982254 \r\nL 84.09815 110.553291 \r\nL 84.342581 105.313364 \r\nL 84.587011 114.521333 \r\nL 85.075872 111.024515 \r\nL 85.320303 113.010662 \r\nL 85.564733 111.117335 \r\nL 85.809164 112.778755 \r\nL 86.053594 108.204333 \r\nL 86.298025 106.850846 \r\nL 86.542455 108.053701 \r\nL 86.786886 119.087083 \r\nL 87.275747 106.069577 \r\nL 87.520178 113.692107 \r\nL 87.764608 111.231268 \r\nL 88.009039 112.02684 \r\nL 88.253469 122.853108 \r\nL 88.74233 115.010331 \r\nL 88.986761 121.212982 \r\nL 89.231191 114.472387 \r\nL 89.475622 116.485336 \r\nL 89.720052 120.085336 \r\nL 89.964483 101.15349 \r\nL 90.208913 113.107849 \r\nL 90.453344 113.1816 \r\nL 90.697775 103.254093 \r\nL 90.942205 117.719816 \r\nL 91.186636 112.163643 \r\nL 91.431066 102.759071 \r\nL 91.675497 113.460706 \r\nL 91.919927 107.350923 \r\nL 92.164358 104.199759 \r\nL 92.653219 111.042659 \r\nL 92.897649 114.491494 \r\nL 93.14208 115.037044 \r\nL 93.38651 120.5148 \r\nL 93.630941 121.576674 \r\nL 93.875372 125.128944 \r\nL 94.119802 116.646806 \r\nL 94.364233 117.309958 \r\nL 94.608663 114.247639 \r\nL 94.853094 118.762231 \r\nL 95.097524 107.063636 \r\nL 95.341955 117.59667 \r\nL 95.586385 107.768159 \r\nL 95.830816 116.760045 \r\nL 96.075246 112.466843 \r\nL 96.319677 114.197237 \r\nL 96.564107 103.962911 \r\nL 96.808538 123.67989 \r\nL 97.052969 119.201893 \r\nL 97.297399 124.621256 \r\nL 97.54183 122.496587 \r\nL 97.78626 101.774329 \r\nL 98.030691 114.874428 \r\nL 98.275121 109.552976 \r\nL 98.519552 126.038183 \r\nL 98.763982 112.302912 \r\nL 99.008413 109.15373 \r\nL 99.497274 111.637211 \r\nL 99.741704 114.627191 \r\nL 99.986135 124.978794 \r\nL 100.474996 105.229679 \r\nL 100.719427 123.536818 \r\nL 100.963857 114.467114 \r\nL 101.208288 116.134313 \r\nL 101.452718 121.04458 \r\nL 101.697149 116.111068 \r\nL 101.941579 103.028455 \r\nL 102.18601 111.28709 \r\nL 102.43044 123.336758 \r\nL 102.919301 106.963816 \r\nL 103.163732 120.538412 \r\nL 103.652593 108.034177 \r\nL 103.897024 118.509277 \r\nL 104.141454 118.105127 \r\nL 104.385885 115.044833 \r\nL 104.630315 114.198739 \r\nL 104.874746 118.756652 \r\nL 105.119176 110.469883 \r\nL 105.363607 114.020684 \r\nL 105.608037 100.959056 \r\nL 105.852468 115.679015 \r\nL 106.096898 113.755806 \r\nL 106.58576 115.152372 \r\nL 106.83019 122.563223 \r\nL 107.074621 120.980132 \r\nL 107.319051 115.5494 \r\nL 107.563482 129.601891 \r\nL 107.807912 119.329445 \r\nL 108.052343 124.287373 \r\nL 108.296773 114.017155 \r\nL 108.785634 124.37758 \r\nL 109.030065 119.004166 \r\nL 109.274495 121.139069 \r\nL 109.518926 130.403726 \r\nL 109.763357 116.311001 \r\nL 110.007787 121.881427 \r\nL 110.252218 117.570114 \r\nL 110.496648 103.25271 \r\nL 110.741079 114.867012 \r\nL 110.985509 118.020843 \r\nL 111.22994 111.18 \r\nL 111.47437 111.243988 \r\nL 111.718801 104.901188 \r\nL 111.963231 125.921827 \r\nL 112.207662 113.70581 \r\nL 112.452092 118.169993 \r\nL 112.696523 117.913009 \r\nL 112.940954 118.949097 \r\nL 113.185384 116.843422 \r\nL 113.429815 116.279717 \r\nL 113.674245 119.560692 \r\nL 113.918676 119.762702 \r\nL 114.163106 114.677001 \r\nL 114.407537 116.570617 \r\nL 114.651967 119.379594 \r\nL 114.896398 127.203718 \r\nL 115.385259 113.413531 \r\nL 115.629689 116.740254 \r\nL 115.87412 118.110666 \r\nL 116.118551 117.819809 \r\nL 116.362981 116.180241 \r\nL 116.607412 120.513438 \r\nL 116.851842 117.264379 \r\nL 117.096273 119.994322 \r\nL 117.340703 120.938169 \r\nL 117.585134 112.817197 \r\nL 117.829564 116.154795 \r\nL 118.073995 115.556747 \r\nL 118.318425 115.958421 \r\nL 118.562856 117.055138 \r\nL 118.807286 116.779955 \r\nL 119.051717 113.715264 \r\nL 119.296148 118.680616 \r\nL 119.540578 117.189427 \r\nL 119.785009 112.781689 \r\nL 120.029439 121.37237 \r\nL 120.27387 119.13348 \r\nL 120.5183 114.517681 \r\nL 120.762731 118.976988 \r\nL 121.007161 117.80012 \r\nL 121.251592 117.45423 \r\nL 121.496022 123.132057 \r\nL 121.984883 120.416885 \r\nL 122.229314 122.317167 \r\nL 122.473745 119.225282 \r\nL 122.718175 111.501261 \r\nL 122.962606 121.95893 \r\nL 123.207036 116.470661 \r\nL 123.451467 121.971201 \r\nL 123.695897 124.801117 \r\nL 123.940328 117.144196 \r\nL 124.184758 114.236451 \r\nL 124.429189 126.137331 \r\nL 124.673619 110.581711 \r\nL 124.91805 120.084207 \r\nL 125.16248 122.822236 \r\nL 125.406911 122.350804 \r\nL 125.651342 111.288705 \r\nL 125.895772 113.201511 \r\nL 126.140203 121.473899 \r\nL 126.384633 118.563969 \r\nL 126.629064 118.33698 \r\nL 126.873494 120.39411 \r\nL 127.117925 117.325215 \r\nL 127.362355 116.517456 \r\nL 127.606786 108.717983 \r\nL 127.851216 123.809542 \r\nL 128.095647 122.604914 \r\nL 128.584508 113.62248 \r\nL 128.828939 117.369935 \r\nL 129.073369 119.217392 \r\nL 129.3178 116.657145 \r\nL 129.56223 117.461249 \r\nL 129.806661 115.793595 \r\nL 130.051091 120.908222 \r\nL 130.295522 120.768633 \r\nL 130.784383 117.822054 \r\nL 131.028813 118.834324 \r\nL 131.273244 113.188414 \r\nL 131.517674 123.53496 \r\nL 131.762105 126.082996 \r\nL 132.250966 109.140738 \r\nL 132.495397 118.85849 \r\nL 132.739827 114.981583 \r\nL 132.984258 122.205239 \r\nL 133.228688 116.10878 \r\nL 133.473119 115.501682 \r\nL 133.717549 120.727648 \r\nL 133.96198 112.366804 \r\nL 134.20641 118.47073 \r\nL 134.450841 108.424432 \r\nL 134.939702 121.298493 \r\nL 135.184133 108.954315 \r\nL 135.428563 109.860246 \r\nL 135.672994 112.382442 \r\nL 135.917424 111.893275 \r\nL 136.161855 123.180807 \r\nL 136.406285 115.270901 \r\nL 136.650716 115.910805 \r\nL 136.895146 120.711726 \r\nL 137.139577 122.154113 \r\nL 137.384007 121.342431 \r\nL 137.628438 111.862794 \r\nL 138.117299 120.808644 \r\nL 138.36173 119.607739 \r\nL 138.60616 117.018765 \r\nL 138.850591 120.591336 \r\nL 139.095021 115.378312 \r\nL 139.339452 112.844831 \r\nL 139.583882 114.08478 \r\nL 139.828313 116.790163 \r\nL 140.072743 106.796498 \r\nL 140.317174 127.663283 \r\nL 140.561604 119.592057 \r\nL 140.806035 116.08772 \r\nL 141.294896 121.179632 \r\nL 141.539327 119.951979 \r\nL 141.783757 125.352701 \r\nL 142.028188 120.915555 \r\nL 142.272618 120.847171 \r\nL 142.517049 121.323937 \r\nL 142.761479 116.548932 \r\nL 143.00591 125.422189 \r\nL 143.25034 119.041816 \r\nL 143.494771 119.361229 \r\nL 143.739201 118.949097 \r\nL 144.228062 112.733462 \r\nL 144.472493 130.121056 \r\nL 144.961354 110.471711 \r\nL 145.205785 122.582105 \r\nL 145.450215 120.054469 \r\nL 145.694646 121.476104 \r\nL 145.939076 112.485805 \r\nL 146.183507 117.047632 \r\nL 146.672368 120.909498 \r\nL 146.916798 121.270835 \r\nL 147.161229 116.617676 \r\nL 147.405659 119.473673 \r\nL 147.65009 115.585284 \r\nL 148.138951 111.831532 \r\nL 148.383382 120.267934 \r\nL 148.627812 113.22199 \r\nL 148.872243 120.48958 \r\nL 149.116673 113.236213 \r\nL 149.361104 115.921644 \r\nL 149.605534 123.711356 \r\nL 149.849965 122.909545 \r\nL 150.094395 116.859858 \r\nL 150.338826 115.905536 \r\nL 150.583256 120.711807 \r\nL 150.827687 114.453984 \r\nL 151.072117 119.352112 \r\nL 151.316548 110.64298 \r\nL 151.560979 113.867448 \r\nL 151.805409 113.559665 \r\nL 152.04984 117.46504 \r\nL 152.29427 117.726815 \r\nL 152.538701 120.50933 \r\nL 152.783131 120.577065 \r\nL 153.027562 120.09105 \r\nL 153.271992 116.919747 \r\nL 153.516423 116.344694 \r\nL 153.760853 117.087133 \r\nL 154.249714 127.361865 \r\nL 154.738576 121.687291 \r\nL 154.983006 120.236782 \r\nL 155.227437 112.328774 \r\nL 155.471867 120.740067 \r\nL 155.716298 112.972173 \r\nL 155.960728 115.642508 \r\nL 156.205159 124.636765 \r\nL 156.449589 119.228563 \r\nL 156.69402 122.081695 \r\nL 156.93845 116.827466 \r\nL 157.182881 123.882075 \r\nL 157.427311 124.344667 \r\nL 157.671742 123.208238 \r\nL 157.916173 115.483148 \r\nL 158.160603 121.238072 \r\nL 158.405034 118.351668 \r\nL 158.649464 127.097626 \r\nL 158.893895 116.459569 \r\nL 159.138325 111.571451 \r\nL 159.382756 114.933939 \r\nL 159.627186 126.015189 \r\nL 159.871617 122.558104 \r\nL 160.116047 121.767339 \r\nL 160.360478 118.670942 \r\nL 160.604908 123.444993 \r\nL 160.849339 120.056381 \r\nL 161.09377 118.45065 \r\nL 161.3382 125.731654 \r\nL 161.582631 117.193857 \r\nL 161.827061 123.056724 \r\nL 162.071492 119.112259 \r\nL 162.315922 124.651584 \r\nL 162.560353 115.77075 \r\nL 162.804783 125.200272 \r\nL 163.049214 118.710181 \r\nL 163.538075 119.602155 \r\nL 163.782505 126.676464 \r\nL 164.026936 113.046546 \r\nL 164.271367 109.825856 \r\nL 164.515797 115.475287 \r\nL 164.760228 113.215799 \r\nL 165.004658 128.025304 \r\nL 165.249089 125.835472 \r\nL 165.493519 114.238416 \r\nL 165.73795 114.949448 \r\nL 165.98238 116.127962 \r\nL 166.471241 122.621865 \r\nL 166.715672 116.841724 \r\nL 167.204533 126.393821 \r\nL 167.448964 120.004364 \r\nL 167.693394 120.689976 \r\nL 167.937825 121.865597 \r\nL 168.182255 109.267271 \r\nL 168.426686 122.187378 \r\nL 168.671116 114.273958 \r\nL 168.915547 116.98411 \r\nL 169.159977 130.488579 \r\nL 169.404408 115.181147 \r\nL 169.648838 120.468876 \r\nL 169.893269 118.683243 \r\nL 170.137699 119.117346 \r\nL 170.38213 123.604322 \r\nL 170.626561 111.021162 \r\nL 170.870991 126.397758 \r\nL 171.115422 115.201901 \r\nL 171.604283 122.074774 \r\nL 171.848713 110.490205 \r\nL 172.582005 126.965014 \r\nL 172.826435 127.752621 \r\nL 173.070866 114.237658 \r\nL 173.315296 120.233604 \r\nL 173.559727 122.509126 \r\nL 173.804158 120.240955 \r\nL 174.048588 119.756314 \r\nL 174.293019 112.397578 \r\nL 174.537449 120.875234 \r\nL 174.78188 124.906241 \r\nL 175.02631 121.134392 \r\nL 175.270741 123.959929 \r\nL 175.515171 124.737616 \r\nL 175.759602 120.029229 \r\nL 176.004032 119.819414 \r\nL 176.492893 123.27592 \r\nL 176.737324 122.191243 \r\nL 176.981755 114.413276 \r\nL 177.470616 122.428209 \r\nL 177.715046 116.217788 \r\nL 177.959477 120.212815 \r\nL 178.203907 116.517505 \r\nL 178.448338 117.672641 \r\nL 178.692768 123.625583 \r\nL 178.937199 119.002329 \r\nL 179.181629 125.754038 \r\nL 179.42606 127.712973 \r\nL 179.67049 117.70792 \r\nL 179.914921 124.949838 \r\nL 180.159352 122.100835 \r\nL 180.648213 113.261532 \r\nL 180.892643 119.14429 \r\nL 181.137074 131.050989 \r\nL 181.381504 116.889009 \r\nL 181.625935 125.590505 \r\nL 181.870365 118.519215 \r\nL 182.114796 115.634307 \r\nL 182.359226 107.198762 \r\nL 182.603657 115.772684 \r\nL 182.848087 117.959085 \r\nL 183.092518 124.731245 \r\nL 183.336949 110.631139 \r\nL 183.581379 117.251916 \r\nL 183.82581 120.752268 \r\nL 184.07024 118.088241 \r\nL 184.314671 121.475876 \r\nL 184.559101 115.765578 \r\nL 184.803532 117.570186 \r\nL 185.292393 128.661097 \r\nL 185.781254 108.352757 \r\nL 186.025684 127.289034 \r\nL 186.270115 117.696582 \r\nL 186.758976 121.859344 \r\nL 187.003407 122.007901 \r\nL 187.247837 127.405434 \r\nL 187.492268 117.981239 \r\nL 187.736698 114.793626 \r\nL 187.981129 121.980188 \r\nL 188.225559 117.193655 \r\nL 188.46999 108.891998 \r\nL 188.958851 136.922727 \r\nL 189.203281 112.044444 \r\nL 189.447712 128.762709 \r\nL 189.692143 128.145325 \r\nL 189.936573 120.893967 \r\nL 190.181004 128.241767 \r\nL 190.425434 127.87669 \r\nL 190.669865 122.045336 \r\nL 190.914295 121.081497 \r\nL 191.158726 130.270902 \r\nL 191.892017 125.720174 \r\nL 192.136448 118.930551 \r\nL 192.380878 123.614202 \r\nL 192.86974 119.764406 \r\nL 193.11417 118.727826 \r\nL 193.358601 120.488657 \r\nL 193.603031 130.234654 \r\nL 193.847462 117.448426 \r\nL 194.091892 119.723403 \r\nL 194.336323 115.897806 \r\nL 194.580753 130.350483 \r\nL 194.825184 122.013824 \r\nL 195.314045 116.892492 \r\nL 195.558475 119.93175 \r\nL 195.802906 114.332953 \r\nL 196.047337 123.965452 \r\nL 196.291767 118.000667 \r\nL 196.536198 124.034439 \r\nL 196.780628 117.433345 \r\nL 197.025059 125.352925 \r\nL 197.269489 119.203681 \r\nL 197.51392 117.372943 \r\nL 197.75835 113.421583 \r\nL 198.002781 119.086221 \r\nL 198.247211 117.529126 \r\nL 198.491642 118.745081 \r\nL 198.736072 129.569474 \r\nL 199.224934 126.837999 \r\nL 199.469364 116.88448 \r\nL 199.713795 126.446542 \r\nL 199.958225 112.441528 \r\nL 200.202656 112.84243 \r\nL 200.447086 118.226087 \r\nL 200.935947 122.821848 \r\nL 201.180378 121.807928 \r\nL 201.424808 124.846734 \r\nL 201.669239 123.744035 \r\nL 201.913669 118.037345 \r\nL 202.1581 115.259701 \r\nL 202.402531 119.8867 \r\nL 202.646961 117.310752 \r\nL 203.135822 121.389361 \r\nL 203.380253 120.369578 \r\nL 203.624683 118.703774 \r\nL 203.869114 116.02832 \r\nL 204.113544 117.208664 \r\nL 204.357975 121.79504 \r\nL 204.602405 121.169805 \r\nL 204.846836 107.891785 \r\nL 205.335697 118.731947 \r\nL 205.580128 111.796081 \r\nL 205.824558 114.420672 \r\nL 206.068989 119.993624 \r\nL 206.313419 114.662095 \r\nL 206.55785 121.099792 \r\nL 206.80228 121.086708 \r\nL 207.046711 126.228962 \r\nL 207.291141 111.246491 \r\nL 207.535572 116.720506 \r\nL 207.780002 111.249983 \r\nL 208.024433 121.356496 \r\nL 208.268863 126.323243 \r\nL 208.513294 123.998169 \r\nL 208.757724 125.335187 \r\nL 209.002155 123.424005 \r\nL 209.246586 133.734707 \r\nL 209.979877 120.238984 \r\nL 210.468738 121.619791 \r\nL 210.713169 126.381779 \r\nL 210.957599 124.690568 \r\nL 211.20203 120.894773 \r\nL 211.44646 113.055193 \r\nL 211.690891 129.851043 \r\nL 211.935321 118.252554 \r\nL 212.179752 126.579598 \r\nL 212.424183 125.130464 \r\nL 212.668613 127.075707 \r\nL 212.913044 121.582705 \r\nL 213.157474 120.312434 \r\nL 213.401905 127.981262 \r\nL 213.890766 115.815333 \r\nL 214.135196 121.042614 \r\nL 214.379627 122.591783 \r\nL 214.624057 119.874139 \r\nL 214.868488 130.037203 \r\nL 215.112918 115.58013 \r\nL 215.357349 123.9175 \r\nL 215.60178 118.519953 \r\nL 215.84621 134.221847 \r\nL 216.090641 112.806432 \r\nL 216.579502 123.859592 \r\nL 216.823932 122.48013 \r\nL 217.068363 128.425813 \r\nL 217.312793 127.720041 \r\nL 217.801654 114.347157 \r\nL 218.046085 129.042504 \r\nL 218.290515 116.590801 \r\nL 218.534946 123.175294 \r\nL 218.779377 126.365136 \r\nL 219.023807 127.132189 \r\nL 219.268238 124.558779 \r\nL 219.512668 125.89492 \r\nL 219.757099 112.897292 \r\nL 220.001529 120.977625 \r\nL 220.24596 114.857515 \r\nL 220.49039 127.6547 \r\nL 220.734821 115.895749 \r\nL 220.979251 124.538911 \r\nL 221.223682 120.824758 \r\nL 221.468112 120.79186 \r\nL 221.712543 127.588287 \r\nL 221.956974 128.548992 \r\nL 222.201404 127.788384 \r\nL 222.690265 122.858186 \r\nL 222.934696 127.15536 \r\nL 223.179126 126.95929 \r\nL 223.423557 120.703886 \r\nL 223.667987 123.590345 \r\nL 223.912418 118.783037 \r\nL 224.156848 124.426023 \r\nL 224.401279 111.306433 \r\nL 224.645709 123.516006 \r\nL 224.89014 111.721677 \r\nL 225.134571 112.877437 \r\nL 225.379001 122.646682 \r\nL 225.623432 118.145083 \r\nL 225.867862 105.765204 \r\nL 226.112293 127.876663 \r\nL 226.356723 130.00143 \r\nL 226.601154 120.349889 \r\nL 226.845584 124.624484 \r\nL 227.090015 121.734534 \r\nL 227.334445 131.749336 \r\nL 227.578876 115.690826 \r\nL 227.823306 130.846719 \r\nL 228.067737 120.391289 \r\nL 228.312168 117.899253 \r\nL 228.556598 132.388773 \r\nL 228.801029 117.182842 \r\nL 229.045459 118.915066 \r\nL 229.53432 129.839802 \r\nL 229.778751 107.641713 \r\nL 230.023181 125.619202 \r\nL 230.267612 125.303762 \r\nL 230.512042 124.204151 \r\nL 230.756473 128.423093 \r\nL 231.000903 124.308084 \r\nL 231.245334 117.221256 \r\nL 231.489765 125.601899 \r\nL 231.734195 127.724081 \r\nL 231.978626 120.0542 \r\nL 232.223056 128.076076 \r\nL 232.467487 127.054146 \r\nL 232.711917 119.154022 \r\nL 232.956348 116.054809 \r\nL 233.445209 112.866523 \r\nL 233.689639 114.299471 \r\nL 233.93407 113.699509 \r\nL 234.1785 130.401435 \r\nL 234.422931 120.433177 \r\nL 234.667362 123.11393 \r\nL 235.156223 114.57828 \r\nL 235.400653 124.644128 \r\nL 235.645084 129.004952 \r\nL 235.889514 123.915025 \r\nL 236.133945 108.466353 \r\nL 236.378375 122.083288 \r\nL 236.622806 114.163103 \r\nL 236.867236 113.594923 \r\nL 237.111667 122.451135 \r\nL 237.600528 128.938662 \r\nL 237.844959 117.116528 \r\nL 238.089389 125.824107 \r\nL 238.57825 119.255749 \r\nL 239.067111 116.084932 \r\nL 239.311542 109.865291 \r\nL 239.555972 131.105669 \r\nL 239.800403 124.746919 \r\nL 240.533694 122.29071 \r\nL 240.778125 118.45951 \r\nL 240.778125 118.45951 \r\n\" style=\"fill:none;stroke:#bf00bf;stroke-dasharray:5.55,2.4;stroke-dashoffset:0;stroke-width:1.5;\"/>\r\n   </g>\r\n   <g id=\"patch_3\">\r\n    <path d=\"M 45.478125 143.1 \r\nL 45.478125 7.2 \r\n\" style=\"fill:none;stroke:#000000;stroke-linecap:square;stroke-linejoin:miter;stroke-width:0.8;\"/>\r\n   </g>\r\n   <g id=\"patch_4\">\r\n    <path d=\"M 240.778125 143.1 \r\nL 240.778125 7.2 \r\n\" style=\"fill:none;stroke:#000000;stroke-linecap:square;stroke-linejoin:miter;stroke-width:0.8;\"/>\r\n   </g>\r\n   <g id=\"patch_5\">\r\n    <path d=\"M 45.478125 143.1 \r\nL 240.778125 143.1 \r\n\" style=\"fill:none;stroke:#000000;stroke-linecap:square;stroke-linejoin:miter;stroke-width:0.8;\"/>\r\n   </g>\r\n   <g id=\"patch_6\">\r\n    <path d=\"M 45.478125 7.2 \r\nL 240.778125 7.2 \r\n\" style=\"fill:none;stroke:#000000;stroke-linecap:square;stroke-linejoin:miter;stroke-width:0.8;\"/>\r\n   </g>\r\n   <g id=\"legend_1\">\r\n    <g id=\"patch_7\">\r\n     <path d=\"M 177.826562 44.55625 \r\nL 233.778125 44.55625 \r\nQ 235.778125 44.55625 235.778125 42.55625 \r\nL 235.778125 14.2 \r\nQ 235.778125 12.2 233.778125 12.2 \r\nL 177.826562 12.2 \r\nQ 175.826562 12.2 175.826562 14.2 \r\nL 175.826562 42.55625 \r\nQ 175.826562 44.55625 177.826562 44.55625 \r\nz\r\n\" style=\"fill:#ffffff;opacity:0.8;stroke:#cccccc;stroke-linejoin:miter;\"/>\r\n    </g>\r\n    <g id=\"line2d_22\">\r\n     <path d=\"M 179.826562 20.298437 \r\nL 199.826562 20.298437 \r\n\" style=\"fill:none;stroke:#1f77b4;stroke-linecap:square;stroke-width:1.5;\"/>\r\n    </g>\r\n    <g id=\"line2d_23\"/>\r\n    <g id=\"text_8\">\r\n     <!-- train -->\r\n     <g transform=\"translate(207.826562 23.798437)scale(0.1 -0.1)\">\r\n      <defs>\r\n       <path d=\"M 18.3125 70.21875 \r\nL 18.3125 54.6875 \r\nL 36.8125 54.6875 \r\nL 36.8125 47.703125 \r\nL 18.3125 47.703125 \r\nL 18.3125 18.015625 \r\nQ 18.3125 11.328125 20.140625 9.421875 \r\nQ 21.96875 7.515625 27.59375 7.515625 \r\nL 36.8125 7.515625 \r\nL 36.8125 0 \r\nL 27.59375 0 \r\nQ 17.1875 0 13.234375 3.875 \r\nQ 9.28125 7.765625 9.28125 18.015625 \r\nL 9.28125 47.703125 \r\nL 2.6875 47.703125 \r\nL 2.6875 54.6875 \r\nL 9.28125 54.6875 \r\nL 9.28125 70.21875 \r\nz\r\n\" id=\"DejaVuSans-116\"/>\r\n       <path d=\"M 41.109375 46.296875 \r\nQ 39.59375 47.171875 37.8125 47.578125 \r\nQ 36.03125 48 33.890625 48 \r\nQ 26.265625 48 22.1875 43.046875 \r\nQ 18.109375 38.09375 18.109375 28.8125 \r\nL 18.109375 0 \r\nL 9.078125 0 \r\nL 9.078125 54.6875 \r\nL 18.109375 54.6875 \r\nL 18.109375 46.1875 \r\nQ 20.953125 51.171875 25.484375 53.578125 \r\nQ 30.03125 56 36.53125 56 \r\nQ 37.453125 56 38.578125 55.875 \r\nQ 39.703125 55.765625 41.0625 55.515625 \r\nz\r\n\" id=\"DejaVuSans-114\"/>\r\n       <path d=\"M 34.28125 27.484375 \r\nQ 23.390625 27.484375 19.1875 25 \r\nQ 14.984375 22.515625 14.984375 16.5 \r\nQ 14.984375 11.71875 18.140625 8.90625 \r\nQ 21.296875 6.109375 26.703125 6.109375 \r\nQ 34.1875 6.109375 38.703125 11.40625 \r\nQ 43.21875 16.703125 43.21875 25.484375 \r\nL 43.21875 27.484375 \r\nz\r\nM 52.203125 31.203125 \r\nL 52.203125 0 \r\nL 43.21875 0 \r\nL 43.21875 8.296875 \r\nQ 40.140625 3.328125 35.546875 0.953125 \r\nQ 30.953125 -1.421875 24.3125 -1.421875 \r\nQ 15.921875 -1.421875 10.953125 3.296875 \r\nQ 6 8.015625 6 15.921875 \r\nQ 6 25.140625 12.171875 29.828125 \r\nQ 18.359375 34.515625 30.609375 34.515625 \r\nL 43.21875 34.515625 \r\nL 43.21875 35.40625 \r\nQ 43.21875 41.609375 39.140625 45 \r\nQ 35.0625 48.390625 27.6875 48.390625 \r\nQ 23 48.390625 18.546875 47.265625 \r\nQ 14.109375 46.140625 10.015625 43.890625 \r\nL 10.015625 52.203125 \r\nQ 14.9375 54.109375 19.578125 55.046875 \r\nQ 24.21875 56 28.609375 56 \r\nQ 40.484375 56 46.34375 49.84375 \r\nQ 52.203125 43.703125 52.203125 31.203125 \r\nz\r\n\" id=\"DejaVuSans-97\"/>\r\n       <path d=\"M 9.421875 54.6875 \r\nL 18.40625 54.6875 \r\nL 18.40625 0 \r\nL 9.421875 0 \r\nz\r\nM 9.421875 75.984375 \r\nL 18.40625 75.984375 \r\nL 18.40625 64.59375 \r\nL 9.421875 64.59375 \r\nz\r\n\" id=\"DejaVuSans-105\"/>\r\n       <path d=\"M 54.890625 33.015625 \r\nL 54.890625 0 \r\nL 45.90625 0 \r\nL 45.90625 32.71875 \r\nQ 45.90625 40.484375 42.875 44.328125 \r\nQ 39.84375 48.1875 33.796875 48.1875 \r\nQ 26.515625 48.1875 22.3125 43.546875 \r\nQ 18.109375 38.921875 18.109375 30.90625 \r\nL 18.109375 0 \r\nL 9.078125 0 \r\nL 9.078125 54.6875 \r\nL 18.109375 54.6875 \r\nL 18.109375 46.1875 \r\nQ 21.34375 51.125 25.703125 53.5625 \r\nQ 30.078125 56 35.796875 56 \r\nQ 45.21875 56 50.046875 50.171875 \r\nQ 54.890625 44.34375 54.890625 33.015625 \r\nz\r\n\" id=\"DejaVuSans-110\"/>\r\n      </defs>\r\n      <use xlink:href=\"#DejaVuSans-116\"/>\r\n      <use x=\"39.208984\" xlink:href=\"#DejaVuSans-114\"/>\r\n      <use x=\"80.322266\" xlink:href=\"#DejaVuSans-97\"/>\r\n      <use x=\"141.601562\" xlink:href=\"#DejaVuSans-105\"/>\r\n      <use x=\"169.384766\" xlink:href=\"#DejaVuSans-110\"/>\r\n     </g>\r\n    </g>\r\n    <g id=\"line2d_24\">\r\n     <path d=\"M 179.826562 34.976562 \r\nL 199.826562 34.976562 \r\n\" style=\"fill:none;stroke:#bf00bf;stroke-dasharray:5.55,2.4;stroke-dashoffset:0;stroke-width:1.5;\"/>\r\n    </g>\r\n    <g id=\"line2d_25\"/>\r\n    <g id=\"text_9\">\r\n     <!-- valid -->\r\n     <g transform=\"translate(207.826562 38.476562)scale(0.1 -0.1)\">\r\n      <defs>\r\n       <path d=\"M 2.984375 54.6875 \r\nL 12.5 54.6875 \r\nL 29.59375 8.796875 \r\nL 46.6875 54.6875 \r\nL 56.203125 54.6875 \r\nL 35.6875 0 \r\nL 23.484375 0 \r\nz\r\n\" id=\"DejaVuSans-118\"/>\r\n       <path d=\"M 9.421875 75.984375 \r\nL 18.40625 75.984375 \r\nL 18.40625 0 \r\nL 9.421875 0 \r\nz\r\n\" id=\"DejaVuSans-108\"/>\r\n       <path d=\"M 45.40625 46.390625 \r\nL 45.40625 75.984375 \r\nL 54.390625 75.984375 \r\nL 54.390625 0 \r\nL 45.40625 0 \r\nL 45.40625 8.203125 \r\nQ 42.578125 3.328125 38.25 0.953125 \r\nQ 33.9375 -1.421875 27.875 -1.421875 \r\nQ 17.96875 -1.421875 11.734375 6.484375 \r\nQ 5.515625 14.40625 5.515625 27.296875 \r\nQ 5.515625 40.1875 11.734375 48.09375 \r\nQ 17.96875 56 27.875 56 \r\nQ 33.9375 56 38.25 53.625 \r\nQ 42.578125 51.265625 45.40625 46.390625 \r\nz\r\nM 14.796875 27.296875 \r\nQ 14.796875 17.390625 18.875 11.75 \r\nQ 22.953125 6.109375 30.078125 6.109375 \r\nQ 37.203125 6.109375 41.296875 11.75 \r\nQ 45.40625 17.390625 45.40625 27.296875 \r\nQ 45.40625 37.203125 41.296875 42.84375 \r\nQ 37.203125 48.484375 30.078125 48.484375 \r\nQ 22.953125 48.484375 18.875 42.84375 \r\nQ 14.796875 37.203125 14.796875 27.296875 \r\nz\r\n\" id=\"DejaVuSans-100\"/>\r\n      </defs>\r\n      <use xlink:href=\"#DejaVuSans-118\"/>\r\n      <use x=\"59.179688\" xlink:href=\"#DejaVuSans-97\"/>\r\n      <use x=\"120.458984\" xlink:href=\"#DejaVuSans-108\"/>\r\n      <use x=\"148.242188\" xlink:href=\"#DejaVuSans-105\"/>\r\n      <use x=\"176.025391\" xlink:href=\"#DejaVuSans-100\"/>\r\n     </g>\r\n    </g>\r\n   </g>\r\n  </g>\r\n </g>\r\n <defs>\r\n  <clipPath id=\"p5c1db28926\">\r\n   <rect height=\"135.9\" width=\"195.3\" x=\"45.478125\" y=\"7.2\"/>\r\n  </clipPath>\r\n </defs>\r\n</svg>\r\n",
            "text/plain": [
              "<Figure size 252x180 with 1 Axes>"
            ]
          },
          "metadata": {
            "needs_background": "light"
          },
          "output_type": "display_data"
        }
      ],
      "source": [
        "k, num_epochs, lr, weight_decay, batch_size = 5, 800, 2e-3, 1e-5, 64\n",
        "train_l, valid_l = k_fold(k, train_features, train_labels, num_epochs, lr,\n",
        "                          weight_decay, batch_size)\n",
        "print(f'{k}-折验证: 平均训练log mse: {float(train_l):f}, '\n",
        "      f'平均验证log mse: {float(valid_l):f}')"
      ]
    },
    {
      "cell_type": "markdown",
      "id": "7aa130d6",
      "metadata": {
        "id": "7aa130d6",
        "origin_pos": 44
      },
      "source": [
        "# 预测"
      ]
    },
    {
      "cell_type": "code",
      "execution_count": 69,
      "id": "145f50c5",
      "metadata": {
        "execution": {
          "iopub.execute_input": "2022-07-31T02:49:51.897369Z",
          "iopub.status.busy": "2022-07-31T02:49:51.896850Z",
          "iopub.status.idle": "2022-07-31T02:49:51.902890Z",
          "shell.execute_reply": "2022-07-31T02:49:51.902173Z"
        },
        "id": "145f50c5",
        "origin_pos": 45,
        "tab": [
          "pytorch"
        ]
      },
      "outputs": [],
      "source": [
        "def train_and_pred(train_features, test_features, train_labels, test_data,\n",
        "                   num_epochs, lr, weight_decay, batch_size):\n",
        "    net = get_net()\n",
        "    train_ls, _ = train(net, train_features, train_labels, None, None,\n",
        "                        num_epochs, lr, weight_decay, batch_size)\n",
        "    d2l.plot(np.arange(1, num_epochs + 1), [train_ls], xlabel='epoch',\n",
        "             ylabel='log mse', xlim=[1, num_epochs], yscale='log')\n",
        "    print(f'训练log mse：{float(train_ls[-1]):f}')\n",
        "    # 将网络应用于测试集。\n",
        "    preds = net(test_features).detach().numpy()\n",
        "    # 将其重新格式化以导出到Kaggle\n",
        "    # print(pd.Series(preds.reshape(1, -1)[0]))\n",
        "    test_data['origin day_divided 3'] = test_data['day_divided 3']\n",
        "    test_data['day_divided 3'] = pd.Series(preds.reshape(1, -1)[0])\n",
        "    # print(test_data['day_divided 3'])\n",
        "    # reValidLoss = loss(test_data['origin day_divided 3'],test_data['day_divided 3'])\n",
        "    # print(f'reValidLoss MSE :{reValidLoss}')\n",
        "    submission = pd.concat([test_data['origin day_divided 3'], test_data['day_divided 3']], axis=1)\n",
        "    submission.to_csv('submission.csv', index=False)\n",
        "    return net"
      ]
    },
    {
      "cell_type": "markdown",
      "id": "378034bc",
      "metadata": {
        "id": "378034bc",
        "origin_pos": 46
      },
      "source": [
        "下面的代码将生成一个名为`submission.csv`的文件。"
      ]
    },
    {
      "cell_type": "code",
      "execution_count": 70,
      "id": "98d080d1",
      "metadata": {
        "execution": {
          "iopub.execute_input": "2022-07-31T02:49:51.906025Z",
          "iopub.status.busy": "2022-07-31T02:49:51.905552Z",
          "iopub.status.idle": "2022-07-31T02:49:54.873275Z",
          "shell.execute_reply": "2022-07-31T02:49:54.872580Z"
        },
        "id": "98d080d1",
        "origin_pos": 47,
        "outputId": "ea273385-4fba-44ec-f2bc-a9f8e80610bc",
        "tab": [
          "pytorch"
        ]
      },
      "outputs": [
        {
          "name": "stdout",
          "output_type": "stream",
          "text": [
            "训练log mse：8.608022\n"
          ]
        },
        {
          "data": {
            "image/svg+xml": "<?xml version=\"1.0\" encoding=\"utf-8\" standalone=\"no\"?>\r\n<!DOCTYPE svg PUBLIC \"-//W3C//DTD SVG 1.1//EN\"\r\n  \"http://www.w3.org/Graphics/SVG/1.1/DTD/svg11.dtd\">\r\n<!-- Created with matplotlib (https://matplotlib.org/) -->\r\n<svg height=\"180.65625pt\" version=\"1.1\" viewBox=\"0 0 257.521875 180.65625\" width=\"257.521875pt\" xmlns=\"http://www.w3.org/2000/svg\" xmlns:xlink=\"http://www.w3.org/1999/xlink\">\r\n <metadata>\r\n  <rdf:RDF xmlns:cc=\"http://creativecommons.org/ns#\" xmlns:dc=\"http://purl.org/dc/elements/1.1/\" xmlns:rdf=\"http://www.w3.org/1999/02/22-rdf-syntax-ns#\">\r\n   <cc:Work>\r\n    <dc:type rdf:resource=\"http://purl.org/dc/dcmitype/StillImage\"/>\r\n    <dc:date>2022-11-20T21:52:18.433974</dc:date>\r\n    <dc:format>image/svg+xml</dc:format>\r\n    <dc:creator>\r\n     <cc:Agent>\r\n      <dc:title>Matplotlib v3.3.4, https://matplotlib.org/</dc:title>\r\n     </cc:Agent>\r\n    </dc:creator>\r\n   </cc:Work>\r\n  </rdf:RDF>\r\n </metadata>\r\n <defs>\r\n  <style type=\"text/css\">*{stroke-linecap:butt;stroke-linejoin:round;}</style>\r\n </defs>\r\n <g id=\"figure_1\">\r\n  <g id=\"patch_1\">\r\n   <path d=\"M 0 180.65625 \r\nL 257.521875 180.65625 \r\nL 257.521875 0 \r\nL 0 0 \r\nz\r\n\" style=\"fill:none;\"/>\r\n  </g>\r\n  <g id=\"axes_1\">\r\n   <g id=\"patch_2\">\r\n    <path d=\"M 45.478125 143.1 \r\nL 240.778125 143.1 \r\nL 240.778125 7.2 \r\nL 45.478125 7.2 \r\nz\r\n\" style=\"fill:#ffffff;\"/>\r\n   </g>\r\n   <g id=\"matplotlib.axis_1\">\r\n    <g id=\"xtick_1\">\r\n     <g id=\"line2d_1\">\r\n      <path clip-path=\"url(#pdc3532ef82)\" d=\"M 94.119802 143.1 \r\nL 94.119802 7.2 \r\n\" style=\"fill:none;stroke:#b0b0b0;stroke-linecap:square;stroke-width:0.8;\"/>\r\n     </g>\r\n     <g id=\"line2d_2\">\r\n      <defs>\r\n       <path d=\"M 0 0 \r\nL 0 3.5 \r\n\" id=\"m3be8ed6337\" style=\"stroke:#000000;stroke-width:0.8;\"/>\r\n      </defs>\r\n      <g>\r\n       <use style=\"stroke:#000000;stroke-width:0.8;\" x=\"94.119802\" xlink:href=\"#m3be8ed6337\" y=\"143.1\"/>\r\n      </g>\r\n     </g>\r\n     <g id=\"text_1\">\r\n      <!-- 200 -->\r\n      <g transform=\"translate(84.576052 157.698438)scale(0.1 -0.1)\">\r\n       <defs>\r\n        <path d=\"M 19.1875 8.296875 \r\nL 53.609375 8.296875 \r\nL 53.609375 0 \r\nL 7.328125 0 \r\nL 7.328125 8.296875 \r\nQ 12.9375 14.109375 22.625 23.890625 \r\nQ 32.328125 33.6875 34.8125 36.53125 \r\nQ 39.546875 41.84375 41.421875 45.53125 \r\nQ 43.3125 49.21875 43.3125 52.78125 \r\nQ 43.3125 58.59375 39.234375 62.25 \r\nQ 35.15625 65.921875 28.609375 65.921875 \r\nQ 23.96875 65.921875 18.8125 64.3125 \r\nQ 13.671875 62.703125 7.8125 59.421875 \r\nL 7.8125 69.390625 \r\nQ 13.765625 71.78125 18.9375 73 \r\nQ 24.125 74.21875 28.421875 74.21875 \r\nQ 39.75 74.21875 46.484375 68.546875 \r\nQ 53.21875 62.890625 53.21875 53.421875 \r\nQ 53.21875 48.921875 51.53125 44.890625 \r\nQ 49.859375 40.875 45.40625 35.40625 \r\nQ 44.1875 33.984375 37.640625 27.21875 \r\nQ 31.109375 20.453125 19.1875 8.296875 \r\nz\r\n\" id=\"DejaVuSans-50\"/>\r\n        <path d=\"M 31.78125 66.40625 \r\nQ 24.171875 66.40625 20.328125 58.90625 \r\nQ 16.5 51.421875 16.5 36.375 \r\nQ 16.5 21.390625 20.328125 13.890625 \r\nQ 24.171875 6.390625 31.78125 6.390625 \r\nQ 39.453125 6.390625 43.28125 13.890625 \r\nQ 47.125 21.390625 47.125 36.375 \r\nQ 47.125 51.421875 43.28125 58.90625 \r\nQ 39.453125 66.40625 31.78125 66.40625 \r\nz\r\nM 31.78125 74.21875 \r\nQ 44.046875 74.21875 50.515625 64.515625 \r\nQ 56.984375 54.828125 56.984375 36.375 \r\nQ 56.984375 17.96875 50.515625 8.265625 \r\nQ 44.046875 -1.421875 31.78125 -1.421875 \r\nQ 19.53125 -1.421875 13.0625 8.265625 \r\nQ 6.59375 17.96875 6.59375 36.375 \r\nQ 6.59375 54.828125 13.0625 64.515625 \r\nQ 19.53125 74.21875 31.78125 74.21875 \r\nz\r\n\" id=\"DejaVuSans-48\"/>\r\n       </defs>\r\n       <use xlink:href=\"#DejaVuSans-50\"/>\r\n       <use x=\"63.623047\" xlink:href=\"#DejaVuSans-48\"/>\r\n       <use x=\"127.246094\" xlink:href=\"#DejaVuSans-48\"/>\r\n      </g>\r\n     </g>\r\n    </g>\r\n    <g id=\"xtick_2\">\r\n     <g id=\"line2d_3\">\r\n      <path clip-path=\"url(#pdc3532ef82)\" d=\"M 143.00591 143.1 \r\nL 143.00591 7.2 \r\n\" style=\"fill:none;stroke:#b0b0b0;stroke-linecap:square;stroke-width:0.8;\"/>\r\n     </g>\r\n     <g id=\"line2d_4\">\r\n      <g>\r\n       <use style=\"stroke:#000000;stroke-width:0.8;\" x=\"143.00591\" xlink:href=\"#m3be8ed6337\" y=\"143.1\"/>\r\n      </g>\r\n     </g>\r\n     <g id=\"text_2\">\r\n      <!-- 400 -->\r\n      <g transform=\"translate(133.46216 157.698438)scale(0.1 -0.1)\">\r\n       <defs>\r\n        <path d=\"M 37.796875 64.3125 \r\nL 12.890625 25.390625 \r\nL 37.796875 25.390625 \r\nz\r\nM 35.203125 72.90625 \r\nL 47.609375 72.90625 \r\nL 47.609375 25.390625 \r\nL 58.015625 25.390625 \r\nL 58.015625 17.1875 \r\nL 47.609375 17.1875 \r\nL 47.609375 0 \r\nL 37.796875 0 \r\nL 37.796875 17.1875 \r\nL 4.890625 17.1875 \r\nL 4.890625 26.703125 \r\nz\r\n\" id=\"DejaVuSans-52\"/>\r\n       </defs>\r\n       <use xlink:href=\"#DejaVuSans-52\"/>\r\n       <use x=\"63.623047\" xlink:href=\"#DejaVuSans-48\"/>\r\n       <use x=\"127.246094\" xlink:href=\"#DejaVuSans-48\"/>\r\n      </g>\r\n     </g>\r\n    </g>\r\n    <g id=\"xtick_3\">\r\n     <g id=\"line2d_5\">\r\n      <path clip-path=\"url(#pdc3532ef82)\" d=\"M 191.892017 143.1 \r\nL 191.892017 7.2 \r\n\" style=\"fill:none;stroke:#b0b0b0;stroke-linecap:square;stroke-width:0.8;\"/>\r\n     </g>\r\n     <g id=\"line2d_6\">\r\n      <g>\r\n       <use style=\"stroke:#000000;stroke-width:0.8;\" x=\"191.892017\" xlink:href=\"#m3be8ed6337\" y=\"143.1\"/>\r\n      </g>\r\n     </g>\r\n     <g id=\"text_3\">\r\n      <!-- 600 -->\r\n      <g transform=\"translate(182.348267 157.698438)scale(0.1 -0.1)\">\r\n       <defs>\r\n        <path d=\"M 33.015625 40.375 \r\nQ 26.375 40.375 22.484375 35.828125 \r\nQ 18.609375 31.296875 18.609375 23.390625 \r\nQ 18.609375 15.53125 22.484375 10.953125 \r\nQ 26.375 6.390625 33.015625 6.390625 \r\nQ 39.65625 6.390625 43.53125 10.953125 \r\nQ 47.40625 15.53125 47.40625 23.390625 \r\nQ 47.40625 31.296875 43.53125 35.828125 \r\nQ 39.65625 40.375 33.015625 40.375 \r\nz\r\nM 52.59375 71.296875 \r\nL 52.59375 62.3125 \r\nQ 48.875 64.0625 45.09375 64.984375 \r\nQ 41.3125 65.921875 37.59375 65.921875 \r\nQ 27.828125 65.921875 22.671875 59.328125 \r\nQ 17.53125 52.734375 16.796875 39.40625 \r\nQ 19.671875 43.65625 24.015625 45.921875 \r\nQ 28.375 48.1875 33.59375 48.1875 \r\nQ 44.578125 48.1875 50.953125 41.515625 \r\nQ 57.328125 34.859375 57.328125 23.390625 \r\nQ 57.328125 12.15625 50.6875 5.359375 \r\nQ 44.046875 -1.421875 33.015625 -1.421875 \r\nQ 20.359375 -1.421875 13.671875 8.265625 \r\nQ 6.984375 17.96875 6.984375 36.375 \r\nQ 6.984375 53.65625 15.1875 63.9375 \r\nQ 23.390625 74.21875 37.203125 74.21875 \r\nQ 40.921875 74.21875 44.703125 73.484375 \r\nQ 48.484375 72.75 52.59375 71.296875 \r\nz\r\n\" id=\"DejaVuSans-54\"/>\r\n       </defs>\r\n       <use xlink:href=\"#DejaVuSans-54\"/>\r\n       <use x=\"63.623047\" xlink:href=\"#DejaVuSans-48\"/>\r\n       <use x=\"127.246094\" xlink:href=\"#DejaVuSans-48\"/>\r\n      </g>\r\n     </g>\r\n    </g>\r\n    <g id=\"xtick_4\">\r\n     <g id=\"line2d_7\">\r\n      <path clip-path=\"url(#pdc3532ef82)\" d=\"M 240.778125 143.1 \r\nL 240.778125 7.2 \r\n\" style=\"fill:none;stroke:#b0b0b0;stroke-linecap:square;stroke-width:0.8;\"/>\r\n     </g>\r\n     <g id=\"line2d_8\">\r\n      <g>\r\n       <use style=\"stroke:#000000;stroke-width:0.8;\" x=\"240.778125\" xlink:href=\"#m3be8ed6337\" y=\"143.1\"/>\r\n      </g>\r\n     </g>\r\n     <g id=\"text_4\">\r\n      <!-- 800 -->\r\n      <g transform=\"translate(231.234375 157.698438)scale(0.1 -0.1)\">\r\n       <defs>\r\n        <path d=\"M 31.78125 34.625 \r\nQ 24.75 34.625 20.71875 30.859375 \r\nQ 16.703125 27.09375 16.703125 20.515625 \r\nQ 16.703125 13.921875 20.71875 10.15625 \r\nQ 24.75 6.390625 31.78125 6.390625 \r\nQ 38.8125 6.390625 42.859375 10.171875 \r\nQ 46.921875 13.96875 46.921875 20.515625 \r\nQ 46.921875 27.09375 42.890625 30.859375 \r\nQ 38.875 34.625 31.78125 34.625 \r\nz\r\nM 21.921875 38.8125 \r\nQ 15.578125 40.375 12.03125 44.71875 \r\nQ 8.5 49.078125 8.5 55.328125 \r\nQ 8.5 64.0625 14.71875 69.140625 \r\nQ 20.953125 74.21875 31.78125 74.21875 \r\nQ 42.671875 74.21875 48.875 69.140625 \r\nQ 55.078125 64.0625 55.078125 55.328125 \r\nQ 55.078125 49.078125 51.53125 44.71875 \r\nQ 48 40.375 41.703125 38.8125 \r\nQ 48.828125 37.15625 52.796875 32.3125 \r\nQ 56.78125 27.484375 56.78125 20.515625 \r\nQ 56.78125 9.90625 50.3125 4.234375 \r\nQ 43.84375 -1.421875 31.78125 -1.421875 \r\nQ 19.734375 -1.421875 13.25 4.234375 \r\nQ 6.78125 9.90625 6.78125 20.515625 \r\nQ 6.78125 27.484375 10.78125 32.3125 \r\nQ 14.796875 37.15625 21.921875 38.8125 \r\nz\r\nM 18.3125 54.390625 \r\nQ 18.3125 48.734375 21.84375 45.5625 \r\nQ 25.390625 42.390625 31.78125 42.390625 \r\nQ 38.140625 42.390625 41.71875 45.5625 \r\nQ 45.3125 48.734375 45.3125 54.390625 \r\nQ 45.3125 60.0625 41.71875 63.234375 \r\nQ 38.140625 66.40625 31.78125 66.40625 \r\nQ 25.390625 66.40625 21.84375 63.234375 \r\nQ 18.3125 60.0625 18.3125 54.390625 \r\nz\r\n\" id=\"DejaVuSans-56\"/>\r\n       </defs>\r\n       <use xlink:href=\"#DejaVuSans-56\"/>\r\n       <use x=\"63.623047\" xlink:href=\"#DejaVuSans-48\"/>\r\n       <use x=\"127.246094\" xlink:href=\"#DejaVuSans-48\"/>\r\n      </g>\r\n     </g>\r\n    </g>\r\n    <g id=\"text_5\">\r\n     <!-- epoch -->\r\n     <g transform=\"translate(127.9 171.376563)scale(0.1 -0.1)\">\r\n      <defs>\r\n       <path d=\"M 56.203125 29.59375 \r\nL 56.203125 25.203125 \r\nL 14.890625 25.203125 \r\nQ 15.484375 15.921875 20.484375 11.0625 \r\nQ 25.484375 6.203125 34.421875 6.203125 \r\nQ 39.59375 6.203125 44.453125 7.46875 \r\nQ 49.3125 8.734375 54.109375 11.28125 \r\nL 54.109375 2.78125 \r\nQ 49.265625 0.734375 44.1875 -0.34375 \r\nQ 39.109375 -1.421875 33.890625 -1.421875 \r\nQ 20.796875 -1.421875 13.15625 6.1875 \r\nQ 5.515625 13.8125 5.515625 26.8125 \r\nQ 5.515625 40.234375 12.765625 48.109375 \r\nQ 20.015625 56 32.328125 56 \r\nQ 43.359375 56 49.78125 48.890625 \r\nQ 56.203125 41.796875 56.203125 29.59375 \r\nz\r\nM 47.21875 32.234375 \r\nQ 47.125 39.59375 43.09375 43.984375 \r\nQ 39.0625 48.390625 32.421875 48.390625 \r\nQ 24.90625 48.390625 20.390625 44.140625 \r\nQ 15.875 39.890625 15.1875 32.171875 \r\nz\r\n\" id=\"DejaVuSans-101\"/>\r\n       <path d=\"M 18.109375 8.203125 \r\nL 18.109375 -20.796875 \r\nL 9.078125 -20.796875 \r\nL 9.078125 54.6875 \r\nL 18.109375 54.6875 \r\nL 18.109375 46.390625 \r\nQ 20.953125 51.265625 25.265625 53.625 \r\nQ 29.59375 56 35.59375 56 \r\nQ 45.5625 56 51.78125 48.09375 \r\nQ 58.015625 40.1875 58.015625 27.296875 \r\nQ 58.015625 14.40625 51.78125 6.484375 \r\nQ 45.5625 -1.421875 35.59375 -1.421875 \r\nQ 29.59375 -1.421875 25.265625 0.953125 \r\nQ 20.953125 3.328125 18.109375 8.203125 \r\nz\r\nM 48.6875 27.296875 \r\nQ 48.6875 37.203125 44.609375 42.84375 \r\nQ 40.53125 48.484375 33.40625 48.484375 \r\nQ 26.265625 48.484375 22.1875 42.84375 \r\nQ 18.109375 37.203125 18.109375 27.296875 \r\nQ 18.109375 17.390625 22.1875 11.75 \r\nQ 26.265625 6.109375 33.40625 6.109375 \r\nQ 40.53125 6.109375 44.609375 11.75 \r\nQ 48.6875 17.390625 48.6875 27.296875 \r\nz\r\n\" id=\"DejaVuSans-112\"/>\r\n       <path d=\"M 30.609375 48.390625 \r\nQ 23.390625 48.390625 19.1875 42.75 \r\nQ 14.984375 37.109375 14.984375 27.296875 \r\nQ 14.984375 17.484375 19.15625 11.84375 \r\nQ 23.34375 6.203125 30.609375 6.203125 \r\nQ 37.796875 6.203125 41.984375 11.859375 \r\nQ 46.1875 17.53125 46.1875 27.296875 \r\nQ 46.1875 37.015625 41.984375 42.703125 \r\nQ 37.796875 48.390625 30.609375 48.390625 \r\nz\r\nM 30.609375 56 \r\nQ 42.328125 56 49.015625 48.375 \r\nQ 55.71875 40.765625 55.71875 27.296875 \r\nQ 55.71875 13.875 49.015625 6.21875 \r\nQ 42.328125 -1.421875 30.609375 -1.421875 \r\nQ 18.84375 -1.421875 12.171875 6.21875 \r\nQ 5.515625 13.875 5.515625 27.296875 \r\nQ 5.515625 40.765625 12.171875 48.375 \r\nQ 18.84375 56 30.609375 56 \r\nz\r\n\" id=\"DejaVuSans-111\"/>\r\n       <path d=\"M 48.78125 52.59375 \r\nL 48.78125 44.1875 \r\nQ 44.96875 46.296875 41.140625 47.34375 \r\nQ 37.3125 48.390625 33.40625 48.390625 \r\nQ 24.65625 48.390625 19.8125 42.84375 \r\nQ 14.984375 37.3125 14.984375 27.296875 \r\nQ 14.984375 17.28125 19.8125 11.734375 \r\nQ 24.65625 6.203125 33.40625 6.203125 \r\nQ 37.3125 6.203125 41.140625 7.25 \r\nQ 44.96875 8.296875 48.78125 10.40625 \r\nL 48.78125 2.09375 \r\nQ 45.015625 0.34375 40.984375 -0.53125 \r\nQ 36.96875 -1.421875 32.421875 -1.421875 \r\nQ 20.0625 -1.421875 12.78125 6.34375 \r\nQ 5.515625 14.109375 5.515625 27.296875 \r\nQ 5.515625 40.671875 12.859375 48.328125 \r\nQ 20.21875 56 33.015625 56 \r\nQ 37.15625 56 41.109375 55.140625 \r\nQ 45.0625 54.296875 48.78125 52.59375 \r\nz\r\n\" id=\"DejaVuSans-99\"/>\r\n       <path d=\"M 54.890625 33.015625 \r\nL 54.890625 0 \r\nL 45.90625 0 \r\nL 45.90625 32.71875 \r\nQ 45.90625 40.484375 42.875 44.328125 \r\nQ 39.84375 48.1875 33.796875 48.1875 \r\nQ 26.515625 48.1875 22.3125 43.546875 \r\nQ 18.109375 38.921875 18.109375 30.90625 \r\nL 18.109375 0 \r\nL 9.078125 0 \r\nL 9.078125 75.984375 \r\nL 18.109375 75.984375 \r\nL 18.109375 46.1875 \r\nQ 21.34375 51.125 25.703125 53.5625 \r\nQ 30.078125 56 35.796875 56 \r\nQ 45.21875 56 50.046875 50.171875 \r\nQ 54.890625 44.34375 54.890625 33.015625 \r\nz\r\n\" id=\"DejaVuSans-104\"/>\r\n      </defs>\r\n      <use xlink:href=\"#DejaVuSans-101\"/>\r\n      <use x=\"61.523438\" xlink:href=\"#DejaVuSans-112\"/>\r\n      <use x=\"125\" xlink:href=\"#DejaVuSans-111\"/>\r\n      <use x=\"186.181641\" xlink:href=\"#DejaVuSans-99\"/>\r\n      <use x=\"241.162109\" xlink:href=\"#DejaVuSans-104\"/>\r\n     </g>\r\n    </g>\r\n   </g>\r\n   <g id=\"matplotlib.axis_2\">\r\n    <g id=\"ytick_1\">\r\n     <g id=\"line2d_9\">\r\n      <path clip-path=\"url(#pdc3532ef82)\" d=\"M 45.478125 125.330489 \r\nL 240.778125 125.330489 \r\n\" style=\"fill:none;stroke:#b0b0b0;stroke-linecap:square;stroke-width:0.8;\"/>\r\n     </g>\r\n     <g id=\"line2d_10\">\r\n      <defs>\r\n       <path d=\"M 0 0 \r\nL -3.5 0 \r\n\" id=\"m3913c880ea\" style=\"stroke:#000000;stroke-width:0.8;\"/>\r\n      </defs>\r\n      <g>\r\n       <use style=\"stroke:#000000;stroke-width:0.8;\" x=\"45.478125\" xlink:href=\"#m3913c880ea\" y=\"125.330489\"/>\r\n      </g>\r\n     </g>\r\n     <g id=\"text_6\">\r\n      <!-- $\\mathdefault{10^{1}}$ -->\r\n      <g transform=\"translate(20.878125 129.129708)scale(0.1 -0.1)\">\r\n       <defs>\r\n        <path d=\"M 12.40625 8.296875 \r\nL 28.515625 8.296875 \r\nL 28.515625 63.921875 \r\nL 10.984375 60.40625 \r\nL 10.984375 69.390625 \r\nL 28.421875 72.90625 \r\nL 38.28125 72.90625 \r\nL 38.28125 8.296875 \r\nL 54.390625 8.296875 \r\nL 54.390625 0 \r\nL 12.40625 0 \r\nz\r\n\" id=\"DejaVuSans-49\"/>\r\n       </defs>\r\n       <use transform=\"translate(0 0.684375)\" xlink:href=\"#DejaVuSans-49\"/>\r\n       <use transform=\"translate(63.623047 0.684375)\" xlink:href=\"#DejaVuSans-48\"/>\r\n       <use transform=\"translate(128.203125 38.965625)scale(0.7)\" xlink:href=\"#DejaVuSans-49\"/>\r\n      </g>\r\n     </g>\r\n    </g>\r\n    <g id=\"ytick_2\">\r\n     <g id=\"line2d_11\">\r\n      <defs>\r\n       <path d=\"M 0 0 \r\nL -2 0 \r\n\" id=\"m0c57b9b040\" style=\"stroke:#000000;stroke-width:0.6;\"/>\r\n      </defs>\r\n      <g>\r\n       <use style=\"stroke:#000000;stroke-width:0.6;\" x=\"45.478125\" xlink:href=\"#m0c57b9b040\" y=\"137.236327\"/>\r\n      </g>\r\n     </g>\r\n    </g>\r\n    <g id=\"ytick_3\">\r\n     <g id=\"line2d_12\">\r\n      <g>\r\n       <use style=\"stroke:#000000;stroke-width:0.6;\" x=\"45.478125\" xlink:href=\"#m0c57b9b040\" y=\"130.952006\"/>\r\n      </g>\r\n     </g>\r\n    </g>\r\n    <g id=\"ytick_4\">\r\n     <g id=\"line2d_13\">\r\n      <g>\r\n       <use style=\"stroke:#000000;stroke-width:0.6;\" x=\"45.478125\" xlink:href=\"#m0c57b9b040\" y=\"88.347582\"/>\r\n      </g>\r\n     </g>\r\n    </g>\r\n    <g id=\"ytick_5\">\r\n     <g id=\"line2d_14\">\r\n      <g>\r\n       <use style=\"stroke:#000000;stroke-width:0.6;\" x=\"45.478125\" xlink:href=\"#m0c57b9b040\" y=\"66.713967\"/>\r\n      </g>\r\n     </g>\r\n    </g>\r\n    <g id=\"ytick_6\">\r\n     <g id=\"line2d_15\">\r\n      <g>\r\n       <use style=\"stroke:#000000;stroke-width:0.6;\" x=\"45.478125\" xlink:href=\"#m0c57b9b040\" y=\"51.364674\"/>\r\n      </g>\r\n     </g>\r\n    </g>\r\n    <g id=\"ytick_7\">\r\n     <g id=\"line2d_16\">\r\n      <g>\r\n       <use style=\"stroke:#000000;stroke-width:0.6;\" x=\"45.478125\" xlink:href=\"#m0c57b9b040\" y=\"39.458837\"/>\r\n      </g>\r\n     </g>\r\n    </g>\r\n    <g id=\"ytick_8\">\r\n     <g id=\"line2d_17\">\r\n      <g>\r\n       <use style=\"stroke:#000000;stroke-width:0.6;\" x=\"45.478125\" xlink:href=\"#m0c57b9b040\" y=\"29.73106\"/>\r\n      </g>\r\n     </g>\r\n    </g>\r\n    <g id=\"ytick_9\">\r\n     <g id=\"line2d_18\">\r\n      <g>\r\n       <use style=\"stroke:#000000;stroke-width:0.6;\" x=\"45.478125\" xlink:href=\"#m0c57b9b040\" y=\"21.506341\"/>\r\n      </g>\r\n     </g>\r\n    </g>\r\n    <g id=\"ytick_10\">\r\n     <g id=\"line2d_19\">\r\n      <g>\r\n       <use style=\"stroke:#000000;stroke-width:0.6;\" x=\"45.478125\" xlink:href=\"#m0c57b9b040\" y=\"14.381766\"/>\r\n      </g>\r\n     </g>\r\n    </g>\r\n    <g id=\"ytick_11\">\r\n     <g id=\"line2d_20\">\r\n      <g>\r\n       <use style=\"stroke:#000000;stroke-width:0.6;\" x=\"45.478125\" xlink:href=\"#m0c57b9b040\" y=\"8.097445\"/>\r\n      </g>\r\n     </g>\r\n    </g>\r\n    <g id=\"text_7\">\r\n     <!-- log mse -->\r\n     <g transform=\"translate(14.798438 94.913281)rotate(-90)scale(0.1 -0.1)\">\r\n      <defs>\r\n       <path d=\"M 9.421875 75.984375 \r\nL 18.40625 75.984375 \r\nL 18.40625 0 \r\nL 9.421875 0 \r\nz\r\n\" id=\"DejaVuSans-108\"/>\r\n       <path d=\"M 45.40625 27.984375 \r\nQ 45.40625 37.75 41.375 43.109375 \r\nQ 37.359375 48.484375 30.078125 48.484375 \r\nQ 22.859375 48.484375 18.828125 43.109375 \r\nQ 14.796875 37.75 14.796875 27.984375 \r\nQ 14.796875 18.265625 18.828125 12.890625 \r\nQ 22.859375 7.515625 30.078125 7.515625 \r\nQ 37.359375 7.515625 41.375 12.890625 \r\nQ 45.40625 18.265625 45.40625 27.984375 \r\nz\r\nM 54.390625 6.78125 \r\nQ 54.390625 -7.171875 48.1875 -13.984375 \r\nQ 42 -20.796875 29.203125 -20.796875 \r\nQ 24.46875 -20.796875 20.265625 -20.09375 \r\nQ 16.0625 -19.390625 12.109375 -17.921875 \r\nL 12.109375 -9.1875 \r\nQ 16.0625 -11.328125 19.921875 -12.34375 \r\nQ 23.78125 -13.375 27.78125 -13.375 \r\nQ 36.625 -13.375 41.015625 -8.765625 \r\nQ 45.40625 -4.15625 45.40625 5.171875 \r\nL 45.40625 9.625 \r\nQ 42.625 4.78125 38.28125 2.390625 \r\nQ 33.9375 0 27.875 0 \r\nQ 17.828125 0 11.671875 7.65625 \r\nQ 5.515625 15.328125 5.515625 27.984375 \r\nQ 5.515625 40.671875 11.671875 48.328125 \r\nQ 17.828125 56 27.875 56 \r\nQ 33.9375 56 38.28125 53.609375 \r\nQ 42.625 51.21875 45.40625 46.390625 \r\nL 45.40625 54.6875 \r\nL 54.390625 54.6875 \r\nz\r\n\" id=\"DejaVuSans-103\"/>\r\n       <path id=\"DejaVuSans-32\"/>\r\n       <path d=\"M 52 44.1875 \r\nQ 55.375 50.25 60.0625 53.125 \r\nQ 64.75 56 71.09375 56 \r\nQ 79.640625 56 84.28125 50.015625 \r\nQ 88.921875 44.046875 88.921875 33.015625 \r\nL 88.921875 0 \r\nL 79.890625 0 \r\nL 79.890625 32.71875 \r\nQ 79.890625 40.578125 77.09375 44.375 \r\nQ 74.3125 48.1875 68.609375 48.1875 \r\nQ 61.625 48.1875 57.5625 43.546875 \r\nQ 53.515625 38.921875 53.515625 30.90625 \r\nL 53.515625 0 \r\nL 44.484375 0 \r\nL 44.484375 32.71875 \r\nQ 44.484375 40.625 41.703125 44.40625 \r\nQ 38.921875 48.1875 33.109375 48.1875 \r\nQ 26.21875 48.1875 22.15625 43.53125 \r\nQ 18.109375 38.875 18.109375 30.90625 \r\nL 18.109375 0 \r\nL 9.078125 0 \r\nL 9.078125 54.6875 \r\nL 18.109375 54.6875 \r\nL 18.109375 46.1875 \r\nQ 21.1875 51.21875 25.484375 53.609375 \r\nQ 29.78125 56 35.6875 56 \r\nQ 41.65625 56 45.828125 52.96875 \r\nQ 50 49.953125 52 44.1875 \r\nz\r\n\" id=\"DejaVuSans-109\"/>\r\n       <path d=\"M 44.28125 53.078125 \r\nL 44.28125 44.578125 \r\nQ 40.484375 46.53125 36.375 47.5 \r\nQ 32.28125 48.484375 27.875 48.484375 \r\nQ 21.1875 48.484375 17.84375 46.4375 \r\nQ 14.5 44.390625 14.5 40.28125 \r\nQ 14.5 37.15625 16.890625 35.375 \r\nQ 19.28125 33.59375 26.515625 31.984375 \r\nL 29.59375 31.296875 \r\nQ 39.15625 29.25 43.1875 25.515625 \r\nQ 47.21875 21.78125 47.21875 15.09375 \r\nQ 47.21875 7.46875 41.1875 3.015625 \r\nQ 35.15625 -1.421875 24.609375 -1.421875 \r\nQ 20.21875 -1.421875 15.453125 -0.5625 \r\nQ 10.6875 0.296875 5.421875 2 \r\nL 5.421875 11.28125 \r\nQ 10.40625 8.6875 15.234375 7.390625 \r\nQ 20.0625 6.109375 24.8125 6.109375 \r\nQ 31.15625 6.109375 34.5625 8.28125 \r\nQ 37.984375 10.453125 37.984375 14.40625 \r\nQ 37.984375 18.0625 35.515625 20.015625 \r\nQ 33.0625 21.96875 24.703125 23.78125 \r\nL 21.578125 24.515625 \r\nQ 13.234375 26.265625 9.515625 29.90625 \r\nQ 5.8125 33.546875 5.8125 39.890625 \r\nQ 5.8125 47.609375 11.28125 51.796875 \r\nQ 16.75 56 26.8125 56 \r\nQ 31.78125 56 36.171875 55.265625 \r\nQ 40.578125 54.546875 44.28125 53.078125 \r\nz\r\n\" id=\"DejaVuSans-115\"/>\r\n      </defs>\r\n      <use xlink:href=\"#DejaVuSans-108\"/>\r\n      <use x=\"27.783203\" xlink:href=\"#DejaVuSans-111\"/>\r\n      <use x=\"88.964844\" xlink:href=\"#DejaVuSans-103\"/>\r\n      <use x=\"152.441406\" xlink:href=\"#DejaVuSans-32\"/>\r\n      <use x=\"184.228516\" xlink:href=\"#DejaVuSans-109\"/>\r\n      <use x=\"281.640625\" xlink:href=\"#DejaVuSans-115\"/>\r\n      <use x=\"333.740234\" xlink:href=\"#DejaVuSans-101\"/>\r\n     </g>\r\n    </g>\r\n   </g>\r\n   <g id=\"line2d_21\">\r\n    <path clip-path=\"url(#pdc3532ef82)\" d=\"M 45.478125 13.377273 \r\nL 45.966986 16.743861 \r\nL 46.211417 18.491489 \r\nL 46.700278 24.767514 \r\nL 47.189139 34.141862 \r\nL 47.92243 55.7651 \r\nL 49.144583 96.206659 \r\nL 49.389014 97.352608 \r\nL 49.633444 109.283817 \r\nL 49.877875 109.135443 \r\nL 50.122305 115.731088 \r\nL 50.366736 116.206724 \r\nL 50.611166 108.780449 \r\nL 50.855597 109.043258 \r\nL 51.100027 116.555656 \r\nL 51.344458 112.185677 \r\nL 51.588888 111.645013 \r\nL 51.833319 114.818004 \r\nL 52.07775 113.005894 \r\nL 52.32218 114.802626 \r\nL 52.566611 114.210171 \r\nL 52.811041 115.048962 \r\nL 53.055472 114.586266 \r\nL 53.299902 113.777404 \r\nL 53.544333 115.589429 \r\nL 53.788763 114.701134 \r\nL 54.033194 117.858012 \r\nL 54.277624 113.715131 \r\nL 54.522055 116.396414 \r\nL 54.766485 115.010796 \r\nL 55.010916 112.864983 \r\nL 55.255347 117.639614 \r\nL 55.499777 115.873819 \r\nL 55.744208 116.289291 \r\nL 55.988638 121.043634 \r\nL 56.233069 117.734364 \r\nL 56.477499 120.744404 \r\nL 56.72193 118.592325 \r\nL 56.96636 115.393872 \r\nL 57.455221 122.952862 \r\nL 57.699652 117.332855 \r\nL 57.944082 121.213788 \r\nL 58.188513 119.2591 \r\nL 58.432944 114.032515 \r\nL 58.677374 113.103905 \r\nL 58.921805 115.721003 \r\nL 59.166235 121.642518 \r\nL 59.410666 118.548009 \r\nL 59.655096 119.725862 \r\nL 59.899527 118.991044 \r\nL 60.143957 116.431432 \r\nL 60.388388 121.144467 \r\nL 60.632818 119.672521 \r\nL 60.877249 122.64536 \r\nL 61.121679 113.891116 \r\nL 61.610541 118.987213 \r\nL 61.854971 118.512522 \r\nL 62.099402 117.749507 \r\nL 62.343832 115.833028 \r\nL 62.588263 121.679241 \r\nL 62.832693 117.281462 \r\nL 63.077124 119.718039 \r\nL 63.565985 115.291212 \r\nL 64.054846 120.68747 \r\nL 64.299276 118.808929 \r\nL 64.543707 121.484011 \r\nL 64.788138 116.901514 \r\nL 65.276999 122.584434 \r\nL 66.01029 119.039552 \r\nL 66.254721 118.545495 \r\nL 66.499151 121.598826 \r\nL 66.743582 120.106958 \r\nL 66.988012 120.378658 \r\nL 67.232443 117.844483 \r\nL 67.476873 124.630635 \r\nL 67.721304 127.053923 \r\nL 67.965735 120.541803 \r\nL 68.454596 123.646289 \r\nL 68.699026 119.051104 \r\nL 68.943457 122.897689 \r\nL 69.187887 121.881255 \r\nL 69.432318 123.948344 \r\nL 69.676748 123.42587 \r\nL 69.921179 125.75085 \r\nL 70.41004 123.026778 \r\nL 70.65447 120.244326 \r\nL 70.898901 114.766318 \r\nL 71.143332 123.500214 \r\nL 71.387762 124.556401 \r\nL 71.632193 121.36898 \r\nL 71.876623 121.998085 \r\nL 72.365484 121.324355 \r\nL 72.609915 119.367805 \r\nL 72.854345 122.495478 \r\nL 73.098776 121.089327 \r\nL 73.343206 123.011268 \r\nL 73.587637 123.948433 \r\nL 73.832067 118.022491 \r\nL 74.076498 123.400424 \r\nL 74.320929 124.618036 \r\nL 74.565359 127.663372 \r\nL 74.80979 121.758693 \r\nL 75.05422 121.656879 \r\nL 75.298651 118.143795 \r\nL 75.543081 126.767184 \r\nL 75.787512 127.181149 \r\nL 76.031942 123.450583 \r\nL 76.276373 123.62526 \r\nL 76.520803 124.428255 \r\nL 76.765234 122.114942 \r\nL 77.009664 122.417042 \r\nL 77.254095 123.913445 \r\nL 77.498526 123.184829 \r\nL 77.742956 120.01736 \r\nL 77.987387 124.953335 \r\nL 78.231817 126.110424 \r\nL 78.476248 119.642545 \r\nL 78.720678 125.494208 \r\nL 78.965109 126.28228 \r\nL 79.209539 120.349298 \r\nL 79.45397 118.69524 \r\nL 79.6984 124.367688 \r\nL 79.942831 124.258238 \r\nL 80.187261 124.773245 \r\nL 80.431692 124.21736 \r\nL 80.676122 129.268839 \r\nL 80.920553 124.57935 \r\nL 81.164984 124.281269 \r\nL 81.409414 120.338593 \r\nL 81.653845 124.30071 \r\nL 81.898275 121.90667 \r\nL 82.142706 123.719306 \r\nL 82.387136 126.986518 \r\nL 82.875997 122.493196 \r\nL 83.120428 127.646737 \r\nL 83.364858 120.875696 \r\nL 83.609289 123.020228 \r\nL 83.853719 123.294452 \r\nL 84.09815 125.284648 \r\nL 84.342581 124.297337 \r\nL 84.587011 127.812624 \r\nL 84.831442 127.155833 \r\nL 85.075872 124.838837 \r\nL 85.320303 124.388401 \r\nL 85.564733 126.292315 \r\nL 85.809164 123.592684 \r\nL 86.053594 127.595831 \r\nL 86.298025 122.95313 \r\nL 86.542455 126.929982 \r\nL 86.786886 123.811317 \r\nL 87.031316 129.149806 \r\nL 87.275747 126.221756 \r\nL 87.520178 126.22736 \r\nL 87.764608 125.425747 \r\nL 88.009039 126.744434 \r\nL 88.253469 129.134389 \r\nL 88.4979 125.132808 \r\nL 88.74233 123.752809 \r\nL 88.986761 128.012641 \r\nL 89.475622 129.045471 \r\nL 89.720052 127.250378 \r\nL 89.964483 121.419572 \r\nL 90.208913 126.213815 \r\nL 90.453344 123.965641 \r\nL 90.697775 124.714574 \r\nL 90.942205 129.069627 \r\nL 91.186636 124.184117 \r\nL 91.431066 127.156401 \r\nL 91.919927 125.03579 \r\nL 92.164358 124.882541 \r\nL 92.408788 125.421231 \r\nL 92.653219 127.634494 \r\nL 92.897649 124.11831 \r\nL 93.14208 125.439777 \r\nL 93.630941 123.274742 \r\nL 93.875372 126.851366 \r\nL 94.119802 126.438357 \r\nL 94.364233 123.722633 \r\nL 94.608663 128.253789 \r\nL 94.853094 128.983971 \r\nL 95.097524 124.627401 \r\nL 95.830816 128.552717 \r\nL 96.075246 124.633779 \r\nL 96.319677 133.893771 \r\nL 96.808538 122.902838 \r\nL 97.297399 125.509012 \r\nL 97.54183 124.729012 \r\nL 97.78626 122.943524 \r\nL 98.030691 124.342467 \r\nL 98.275121 127.312028 \r\nL 98.519552 126.028515 \r\nL 98.763982 127.278737 \r\nL 99.008413 126.552095 \r\nL 99.252843 130.542994 \r\nL 99.497274 125.481496 \r\nL 99.741704 126.049367 \r\nL 99.986135 129.21402 \r\nL 100.230566 127.293105 \r\nL 100.474996 126.562039 \r\nL 100.719427 125.253787 \r\nL 100.963857 126.338071 \r\nL 101.208288 128.037319 \r\nL 101.452718 128.63975 \r\nL 101.697149 125.375897 \r\nL 101.941579 124.332318 \r\nL 102.18601 128.992881 \r\nL 102.43044 128.734567 \r\nL 102.674871 126.798948 \r\nL 102.919301 126.670729 \r\nL 103.163732 125.601147 \r\nL 103.408163 128.286247 \r\nL 103.652593 124.860985 \r\nL 103.897024 130.04305 \r\nL 104.141454 130.554222 \r\nL 104.385885 128.6033 \r\nL 104.630315 130.413229 \r\nL 104.874746 125.408933 \r\nL 105.119176 127.631838 \r\nL 105.363607 123.96889 \r\nL 105.608037 128.582924 \r\nL 105.852468 129.008323 \r\nL 106.096898 129.705127 \r\nL 106.341329 128.871019 \r\nL 106.83019 126.041745 \r\nL 107.074621 126.83024 \r\nL 107.319051 130.345818 \r\nL 107.563482 126.01234 \r\nL 107.807912 127.880585 \r\nL 108.052343 127.998876 \r\nL 108.296773 126.515065 \r\nL 109.030065 131.243361 \r\nL 109.763357 127.893038 \r\nL 110.007787 127.502404 \r\nL 110.252218 128.257858 \r\nL 110.496648 128.329634 \r\nL 110.741079 124.911936 \r\nL 110.985509 128.195138 \r\nL 111.22994 126.101497 \r\nL 111.718801 128.499552 \r\nL 111.963231 128.318262 \r\nL 112.207662 125.919976 \r\nL 112.452092 126.01586 \r\nL 112.696523 127.506003 \r\nL 112.940954 126.485066 \r\nL 113.185384 130.822197 \r\nL 113.429815 128.683979 \r\nL 113.674245 127.62218 \r\nL 113.918676 132.830553 \r\nL 114.163106 126.66474 \r\nL 114.407537 131.530308 \r\nL 114.896398 128.741027 \r\nL 115.140828 130.268298 \r\nL 115.385259 125.970636 \r\nL 115.629689 130.539774 \r\nL 115.87412 127.907076 \r\nL 116.118551 128.088605 \r\nL 116.362981 127.409544 \r\nL 116.607412 129.061184 \r\nL 116.851842 129.573899 \r\nL 117.096273 130.383406 \r\nL 117.340703 126.627028 \r\nL 117.829564 128.778804 \r\nL 118.073995 126.676741 \r\nL 118.318425 131.353307 \r\nL 118.562856 127.245926 \r\nL 118.807286 126.647093 \r\nL 119.051717 131.3909 \r\nL 119.296148 128.070653 \r\nL 119.540578 128.89322 \r\nL 120.029439 131.000803 \r\nL 120.27387 128.199444 \r\nL 120.5183 127.550898 \r\nL 120.762731 129.797653 \r\nL 121.007161 129.940006 \r\nL 121.251592 126.481655 \r\nL 121.740453 131.473243 \r\nL 121.984883 127.455369 \r\nL 122.229314 126.990449 \r\nL 122.473745 127.540757 \r\nL 122.718175 128.417474 \r\nL 122.962606 130.355433 \r\nL 123.207036 127.409655 \r\nL 123.451467 127.171236 \r\nL 123.695897 127.778178 \r\nL 123.940328 129.120828 \r\nL 124.184758 126.795272 \r\nL 124.429189 130.316803 \r\nL 124.673619 127.740623 \r\nL 124.91805 129.842144 \r\nL 125.406911 127.676163 \r\nL 125.651342 127.561497 \r\nL 125.895772 127.714002 \r\nL 126.140203 129.831884 \r\nL 126.384633 129.803076 \r\nL 126.629064 128.46664 \r\nL 126.873494 128.038245 \r\nL 127.117925 130.715831 \r\nL 127.362355 130.904688 \r\nL 127.606786 131.812435 \r\nL 127.851216 130.949021 \r\nL 128.095647 130.822952 \r\nL 128.340077 128.422952 \r\nL 128.584508 130.309943 \r\nL 128.828939 128.380976 \r\nL 129.073369 128.994265 \r\nL 129.3178 130.724917 \r\nL 129.56223 125.554398 \r\nL 129.806661 131.429237 \r\nL 130.051091 127.796336 \r\nL 130.539952 127.755425 \r\nL 130.784383 128.234131 \r\nL 131.028813 129.787447 \r\nL 131.273244 127.569955 \r\nL 131.517674 130.157661 \r\nL 131.762105 131.453008 \r\nL 132.006536 126.965139 \r\nL 132.250966 131.256352 \r\nL 132.739827 127.950503 \r\nL 132.984258 127.399011 \r\nL 133.228688 131.247761 \r\nL 133.473119 132.190952 \r\nL 133.717549 129.974817 \r\nL 133.96198 131.441863 \r\nL 134.20641 129.967245 \r\nL 134.450841 126.735736 \r\nL 134.695271 130.739629 \r\nL 134.939702 130.832699 \r\nL 135.184133 129.239567 \r\nL 135.428563 130.100119 \r\nL 135.672994 131.463692 \r\nL 136.161855 130.371912 \r\nL 136.406285 132.814831 \r\nL 136.650716 130.28819 \r\nL 136.895146 130.472819 \r\nL 137.139577 128.23541 \r\nL 137.628438 131.058294 \r\nL 137.872868 132.84642 \r\nL 138.117299 130.747328 \r\nL 138.36173 132.638414 \r\nL 138.60616 127.873647 \r\nL 138.850591 130.181952 \r\nL 139.095021 134.052238 \r\nL 139.339452 133.429115 \r\nL 139.583882 127.2949 \r\nL 139.828313 131.888636 \r\nL 140.072743 128.457283 \r\nL 140.317174 130.93953 \r\nL 140.561604 131.026217 \r\nL 140.806035 128.190285 \r\nL 141.050465 131.687666 \r\nL 141.294896 132.91129 \r\nL 141.539327 132.019968 \r\nL 141.783757 127.913046 \r\nL 142.028188 128.232858 \r\nL 142.272618 130.726071 \r\nL 142.761479 129.284306 \r\nL 143.00591 129.394738 \r\nL 143.25034 131.892819 \r\nL 143.494771 132.603309 \r\nL 143.739201 128.833683 \r\nL 143.983632 132.936528 \r\nL 144.228062 132.620427 \r\nL 144.472493 128.837818 \r\nL 144.716923 127.750622 \r\nL 144.961354 132.496829 \r\nL 145.205785 130.741009 \r\nL 145.450215 129.897202 \r\nL 145.694646 134.48865 \r\nL 145.939076 127.84187 \r\nL 146.183507 131.665246 \r\nL 146.427937 127.840356 \r\nL 146.672368 129.798201 \r\nL 146.916798 128.532776 \r\nL 147.161229 128.531014 \r\nL 147.405659 132.522582 \r\nL 147.65009 132.504983 \r\nL 147.89452 134.865959 \r\nL 148.138951 127.622064 \r\nL 148.383382 129.292757 \r\nL 148.627812 128.967801 \r\nL 148.872243 127.954089 \r\nL 149.116673 131.230788 \r\nL 149.361104 128.07023 \r\nL 149.605534 133.113882 \r\nL 149.849965 128.25 \r\nL 150.094395 131.454286 \r\nL 150.338826 131.499986 \r\nL 150.827687 128.259513 \r\nL 151.072117 132.314341 \r\nL 151.316548 131.282588 \r\nL 151.560979 128.7176 \r\nL 151.805409 130.062663 \r\nL 152.04984 129.737552 \r\nL 152.29427 130.379893 \r\nL 152.538701 128.805261 \r\nL 152.783131 130.205519 \r\nL 153.027562 129.30856 \r\nL 153.271992 126.732544 \r\nL 153.760853 132.938036 \r\nL 154.005284 128.851981 \r\nL 154.249714 127.804186 \r\nL 154.494145 129.092445 \r\nL 154.738576 129.55142 \r\nL 154.983006 130.912529 \r\nL 155.471867 129.867982 \r\nL 155.716298 130.055046 \r\nL 155.960728 131.165805 \r\nL 156.205159 131.619393 \r\nL 156.449589 130.967703 \r\nL 156.69402 128.006296 \r\nL 156.93845 131.896266 \r\nL 157.182881 130.36415 \r\nL 157.427311 133.3083 \r\nL 157.671742 129.314749 \r\nL 157.916173 131.173866 \r\nL 158.160603 127.651992 \r\nL 158.405034 134.469612 \r\nL 158.649464 131.705656 \r\nL 158.893895 132.028511 \r\nL 159.138325 131.939772 \r\nL 159.627186 128.84785 \r\nL 159.871617 129.713772 \r\nL 160.116047 131.664891 \r\nL 160.360478 131.376685 \r\nL 160.604908 129.440136 \r\nL 160.849339 129.825861 \r\nL 161.3382 133.698749 \r\nL 161.582631 130.539712 \r\nL 161.827061 133.848972 \r\nL 162.071492 135.036884 \r\nL 162.315922 127.353451 \r\nL 162.560353 128.720978 \r\nL 162.804783 129.29559 \r\nL 163.049214 131.859777 \r\nL 163.293644 132.395184 \r\nL 163.538075 128.068612 \r\nL 163.782505 130.857616 \r\nL 164.026936 130.55957 \r\nL 164.271367 131.721468 \r\nL 164.515797 126.997772 \r\nL 164.760228 127.299968 \r\nL 165.004658 132.213246 \r\nL 165.249089 132.030657 \r\nL 165.493519 134.608654 \r\nL 165.73795 130.844682 \r\nL 165.98238 132.658059 \r\nL 166.226811 130.432284 \r\nL 166.471241 132.982036 \r\nL 166.715672 132.640777 \r\nL 166.960102 130.022272 \r\nL 167.204533 130.884029 \r\nL 167.448964 131.323017 \r\nL 167.693394 133.598349 \r\nL 167.937825 131.1217 \r\nL 168.182255 131.221826 \r\nL 168.426686 130.522065 \r\nL 168.671116 131.837101 \r\nL 168.915547 128.344072 \r\nL 169.159977 133.821747 \r\nL 169.648838 130.524729 \r\nL 169.893269 133.114589 \r\nL 170.137699 130.157343 \r\nL 170.38213 131.257779 \r\nL 170.626561 128.893339 \r\nL 170.870991 130.507099 \r\nL 171.115422 130.486969 \r\nL 171.359852 133.382456 \r\nL 171.604283 132.831279 \r\nL 171.848713 130.929125 \r\nL 172.093144 131.3653 \r\nL 172.337574 130.094232 \r\nL 172.826435 130.386085 \r\nL 173.070866 131.675572 \r\nL 173.315296 130.812705 \r\nL 173.559727 131.972259 \r\nL 173.804158 131.128246 \r\nL 174.048588 131.227594 \r\nL 174.293019 130.644524 \r\nL 174.537449 131.971279 \r\nL 174.78188 129.053387 \r\nL 175.02631 132.395544 \r\nL 175.270741 129.311317 \r\nL 175.515171 130.991591 \r\nL 175.759602 130.773185 \r\nL 176.004032 129.490699 \r\nL 176.248463 131.118308 \r\nL 176.492893 131.456084 \r\nL 176.737324 134.195338 \r\nL 176.981755 130.593249 \r\nL 177.226185 130.829766 \r\nL 177.470616 132.65517 \r\nL 177.715046 131.912532 \r\nL 177.959477 129.220588 \r\nL 178.203907 131.529177 \r\nL 178.448338 130.897459 \r\nL 178.692768 130.719895 \r\nL 178.937199 131.363385 \r\nL 179.181629 134.230563 \r\nL 179.67049 130.316513 \r\nL 179.914921 130.163042 \r\nL 180.159352 134.525006 \r\nL 180.403782 130.502221 \r\nL 180.648213 132.797528 \r\nL 180.892643 130.631428 \r\nL 181.137074 133.524996 \r\nL 181.381504 133.778761 \r\nL 181.625935 131.591669 \r\nL 181.870365 130.916541 \r\nL 182.114796 127.402709 \r\nL 182.359226 129.356309 \r\nL 182.603657 126.93522 \r\nL 182.848087 133.078081 \r\nL 183.092518 130.387467 \r\nL 183.336949 129.110242 \r\nL 183.581379 128.896298 \r\nL 183.82581 129.759873 \r\nL 184.07024 132.810147 \r\nL 184.314671 130.90649 \r\nL 184.559101 131.560974 \r\nL 184.803532 131.358839 \r\nL 185.047962 129.994105 \r\nL 185.292393 132.262985 \r\nL 185.536823 133.471211 \r\nL 185.781254 129.112219 \r\nL 186.270115 133.527298 \r\nL 186.514546 130.883651 \r\nL 186.758976 131.690578 \r\nL 187.003407 132.024265 \r\nL 187.247837 132.099395 \r\nL 187.492268 128.515904 \r\nL 187.736698 129.761045 \r\nL 187.981129 133.542543 \r\nL 188.225559 132.32596 \r\nL 188.46999 130.290541 \r\nL 188.71442 129.86863 \r\nL 189.203281 134.573669 \r\nL 189.447712 131.811412 \r\nL 189.692143 134.470144 \r\nL 189.936573 131.8958 \r\nL 190.181004 130.672181 \r\nL 190.425434 128.448597 \r\nL 190.669865 133.10401 \r\nL 190.914295 133.48172 \r\nL 191.158726 132.215509 \r\nL 191.403156 133.285868 \r\nL 191.647587 131.883918 \r\nL 191.892017 132.029203 \r\nL 192.136448 129.666844 \r\nL 192.380878 130.955658 \r\nL 192.625309 130.524505 \r\nL 192.86974 135.541487 \r\nL 193.11417 129.358614 \r\nL 193.358601 131.689471 \r\nL 193.603031 132.202862 \r\nL 193.847462 132.428949 \r\nL 194.091892 132.821675 \r\nL 194.336323 129.238417 \r\nL 194.580753 133.947494 \r\nL 194.825184 129.776827 \r\nL 195.069614 128.733434 \r\nL 195.314045 129.199684 \r\nL 195.558475 134.101677 \r\nL 195.802906 130.726724 \r\nL 196.047337 133.086777 \r\nL 196.291767 133.101402 \r\nL 196.536198 131.447786 \r\nL 196.780628 130.93672 \r\nL 197.025059 131.212616 \r\nL 197.269489 132.11593 \r\nL 197.51392 130.563886 \r\nL 197.75835 133.760135 \r\nL 198.002781 131.420624 \r\nL 198.247211 130.435756 \r\nL 198.491642 132.458851 \r\nL 198.980503 132.039438 \r\nL 199.224934 131.829284 \r\nL 199.469364 133.773986 \r\nL 199.713795 131.362365 \r\nL 199.958225 133.910095 \r\nL 200.447086 133.218948 \r\nL 200.691517 133.772591 \r\nL 200.935947 129.538177 \r\nL 201.180378 132.552833 \r\nL 201.424808 132.666518 \r\nL 201.669239 130.038737 \r\nL 202.1581 132.333247 \r\nL 202.402531 130.351537 \r\nL 202.646961 130.298571 \r\nL 202.891392 130.828892 \r\nL 203.135822 130.099262 \r\nL 203.380253 131.984564 \r\nL 203.624683 132.814919 \r\nL 203.869114 130.145536 \r\nL 204.113544 130.545553 \r\nL 204.357975 130.124529 \r\nL 204.602405 130.563235 \r\nL 204.846836 134.973469 \r\nL 205.091266 132.434581 \r\nL 205.335697 133.489813 \r\nL 205.580128 132.848681 \r\nL 205.824558 131.158255 \r\nL 206.068989 133.58885 \r\nL 206.313419 132.181549 \r\nL 206.55785 132.025921 \r\nL 206.80228 134.310342 \r\nL 207.046711 131.218297 \r\nL 207.291141 130.316585 \r\nL 207.535572 128.418434 \r\nL 207.780002 132.580997 \r\nL 208.024433 131.237591 \r\nL 208.268863 128.605534 \r\nL 208.513294 131.297404 \r\nL 208.757724 129.373371 \r\nL 209.002155 130.987138 \r\nL 209.246586 129.771778 \r\nL 209.491016 132.47331 \r\nL 209.735447 131.234147 \r\nL 209.979877 130.817442 \r\nL 210.224308 129.965114 \r\nL 210.468738 130.480541 \r\nL 210.713169 133.682691 \r\nL 211.20203 132.390462 \r\nL 211.44646 133.71493 \r\nL 211.690891 130.595069 \r\nL 211.935321 133.945042 \r\nL 212.179752 129.874901 \r\nL 212.424183 130.582456 \r\nL 212.668613 134.146275 \r\nL 213.157474 132.514192 \r\nL 213.401905 135.750891 \r\nL 213.890766 132.576969 \r\nL 214.135196 129.333976 \r\nL 214.379627 131.079757 \r\nL 214.624057 129.617354 \r\nL 214.868488 129.09974 \r\nL 215.112918 132.570488 \r\nL 215.357349 132.887208 \r\nL 215.60178 129.307162 \r\nL 215.84621 131.342309 \r\nL 216.090641 132.254502 \r\nL 216.335071 130.637666 \r\nL 216.579502 133.368037 \r\nL 216.823932 130.186884 \r\nL 217.068363 129.341013 \r\nL 217.312793 133.73893 \r\nL 217.557224 129.812378 \r\nL 217.801654 132.795918 \r\nL 218.290515 131.715939 \r\nL 218.534946 130.056402 \r\nL 218.779377 124.773154 \r\nL 219.268238 131.784191 \r\nL 219.512668 132.967778 \r\nL 219.757099 131.012501 \r\nL 220.001529 132.080364 \r\nL 220.24596 130.641769 \r\nL 220.49039 131.844528 \r\nL 220.734821 129.492184 \r\nL 220.979251 129.293009 \r\nL 221.468112 133.226375 \r\nL 221.712543 133.13742 \r\nL 221.956974 130.963314 \r\nL 222.201404 131.062373 \r\nL 222.445835 132.841265 \r\nL 222.690265 128.70157 \r\nL 223.423557 135.183907 \r\nL 223.912418 131.789825 \r\nL 224.156848 129.943728 \r\nL 224.401279 129.405425 \r\nL 224.645709 131.968335 \r\nL 224.89014 130.221918 \r\nL 225.134571 131.053258 \r\nL 225.379001 134.194509 \r\nL 225.623432 130.116524 \r\nL 225.867862 129.658108 \r\nL 226.112293 133.277003 \r\nL 226.356723 131.620658 \r\nL 226.601154 134.403906 \r\nL 226.845584 130.757827 \r\nL 227.090015 129.391257 \r\nL 227.334445 133.636368 \r\nL 227.578876 132.331152 \r\nL 228.067737 134.434688 \r\nL 228.312168 131.126499 \r\nL 228.801029 133.442733 \r\nL 229.045459 131.070271 \r\nL 229.28989 132.799242 \r\nL 229.53432 131.501962 \r\nL 229.778751 133.119069 \r\nL 230.512042 134.121118 \r\nL 230.756473 131.67775 \r\nL 231.000903 132.03645 \r\nL 231.245334 131.029858 \r\nL 231.489765 133.013466 \r\nL 231.734195 130.556108 \r\nL 231.978626 134.370435 \r\nL 232.223056 132.777732 \r\nL 232.467487 128.941851 \r\nL 232.711917 132.881363 \r\nL 232.956348 131.33277 \r\nL 233.200778 131.908393 \r\nL 233.445209 132.888579 \r\nL 233.689639 131.178703 \r\nL 233.93407 136.922727 \r\nL 234.1785 134.101947 \r\nL 234.667362 132.120975 \r\nL 234.911792 133.479159 \r\nL 235.156223 132.004569 \r\nL 235.400653 133.543214 \r\nL 235.645084 130.687116 \r\nL 235.889514 132.334993 \r\nL 236.133945 131.474836 \r\nL 236.378375 131.103769 \r\nL 236.622806 133.286978 \r\nL 236.867236 129.371895 \r\nL 237.111667 130.525503 \r\nL 237.356097 132.902312 \r\nL 237.600528 133.231131 \r\nL 237.844959 132.054402 \r\nL 238.089389 133.574643 \r\nL 238.33382 133.39567 \r\nL 238.57825 130.843226 \r\nL 238.822681 130.018594 \r\nL 239.067111 135.745386 \r\nL 239.311542 134.243833 \r\nL 239.555972 130.476607 \r\nL 239.800403 132.082322 \r\nL 240.044833 132.655059 \r\nL 240.289264 132.312572 \r\nL 240.533694 130.944481 \r\nL 240.778125 133.327909 \r\nL 240.778125 133.327909 \r\n\" style=\"fill:none;stroke:#1f77b4;stroke-linecap:square;stroke-width:1.5;\"/>\r\n   </g>\r\n   <g id=\"patch_3\">\r\n    <path d=\"M 45.478125 143.1 \r\nL 45.478125 7.2 \r\n\" style=\"fill:none;stroke:#000000;stroke-linecap:square;stroke-linejoin:miter;stroke-width:0.8;\"/>\r\n   </g>\r\n   <g id=\"patch_4\">\r\n    <path d=\"M 240.778125 143.1 \r\nL 240.778125 7.2 \r\n\" style=\"fill:none;stroke:#000000;stroke-linecap:square;stroke-linejoin:miter;stroke-width:0.8;\"/>\r\n   </g>\r\n   <g id=\"patch_5\">\r\n    <path d=\"M 45.478125 143.1 \r\nL 240.778125 143.1 \r\n\" style=\"fill:none;stroke:#000000;stroke-linecap:square;stroke-linejoin:miter;stroke-width:0.8;\"/>\r\n   </g>\r\n   <g id=\"patch_6\">\r\n    <path d=\"M 45.478125 7.2 \r\nL 240.778125 7.2 \r\n\" style=\"fill:none;stroke:#000000;stroke-linecap:square;stroke-linejoin:miter;stroke-width:0.8;\"/>\r\n   </g>\r\n  </g>\r\n </g>\r\n <defs>\r\n  <clipPath id=\"pdc3532ef82\">\r\n   <rect height=\"135.9\" width=\"195.3\" x=\"45.478125\" y=\"7.2\"/>\r\n  </clipPath>\r\n </defs>\r\n</svg>\r\n",
            "text/plain": [
              "<Figure size 252x180 with 1 Axes>"
            ]
          },
          "metadata": {
            "needs_background": "light"
          },
          "output_type": "display_data"
        }
      ],
      "source": [
        "model = train_and_pred(train_features, test_features, train_labels, test_data,\n",
        "               num_epochs, lr, weight_decay, batch_size)"
      ]
    },
    {
      "cell_type": "code",
      "execution_count": 71,
      "id": "efcae2b6",
      "metadata": {},
      "outputs": [
        {
          "name": "stdout",
          "output_type": "stream",
          "text": [
            "The MSE Loss of test: 7.323230266571045\n"
          ]
        },
        {
          "data": {
            "image/svg+xml": "<?xml version=\"1.0\" encoding=\"utf-8\" standalone=\"no\"?>\r\n<!DOCTYPE svg PUBLIC \"-//W3C//DTD SVG 1.1//EN\"\r\n  \"http://www.w3.org/Graphics/SVG/1.1/DTD/svg11.dtd\">\r\n<!-- Created with matplotlib (https://matplotlib.org/) -->\r\n<svg height=\"121.078125pt\" version=\"1.1\" viewBox=\"0 0 664.125 121.078125\" width=\"664.125pt\" xmlns=\"http://www.w3.org/2000/svg\" xmlns:xlink=\"http://www.w3.org/1999/xlink\">\r\n <metadata>\r\n  <rdf:RDF xmlns:cc=\"http://creativecommons.org/ns#\" xmlns:dc=\"http://purl.org/dc/elements/1.1/\" xmlns:rdf=\"http://www.w3.org/1999/02/22-rdf-syntax-ns#\">\r\n   <cc:Work>\r\n    <dc:type rdf:resource=\"http://purl.org/dc/dcmitype/StillImage\"/>\r\n    <dc:date>2022-11-20T21:52:18.553975</dc:date>\r\n    <dc:format>image/svg+xml</dc:format>\r\n    <dc:creator>\r\n     <cc:Agent>\r\n      <dc:title>Matplotlib v3.3.4, https://matplotlib.org/</dc:title>\r\n     </cc:Agent>\r\n    </dc:creator>\r\n   </cc:Work>\r\n  </rdf:RDF>\r\n </metadata>\r\n <defs>\r\n  <style type=\"text/css\">*{stroke-linecap:butt;stroke-linejoin:round;}</style>\r\n </defs>\r\n <g id=\"figure_1\">\r\n  <g id=\"patch_1\">\r\n   <path d=\"M 0 121.078125 \r\nL 664.125 121.078125 \r\nL 664.125 0 \r\nL 0 0 \r\nz\r\n\" style=\"fill:none;\"/>\r\n  </g>\r\n  <g id=\"axes_1\">\r\n   <g id=\"patch_2\">\r\n    <path d=\"M 26.925 97.2 \r\nL 656.925 97.2 \r\nL 656.925 7.2 \r\nL 26.925 7.2 \r\nz\r\n\" style=\"fill:#ffffff;\"/>\r\n   </g>\r\n   <g id=\"matplotlib.axis_1\">\r\n    <g id=\"xtick_1\">\r\n     <g id=\"line2d_1\">\r\n      <defs>\r\n       <path d=\"M 0 0 \r\nL 0 3.5 \r\n\" id=\"m24162ff695\" style=\"stroke:#000000;stroke-width:0.8;\"/>\r\n      </defs>\r\n      <g>\r\n       <use style=\"stroke:#000000;stroke-width:0.8;\" x=\"55.561364\" xlink:href=\"#m24162ff695\" y=\"97.2\"/>\r\n      </g>\r\n     </g>\r\n     <g id=\"text_1\">\r\n      <!-- 0 -->\r\n      <g transform=\"translate(52.380114 111.798438)scale(0.1 -0.1)\">\r\n       <defs>\r\n        <path d=\"M 31.78125 66.40625 \r\nQ 24.171875 66.40625 20.328125 58.90625 \r\nQ 16.5 51.421875 16.5 36.375 \r\nQ 16.5 21.390625 20.328125 13.890625 \r\nQ 24.171875 6.390625 31.78125 6.390625 \r\nQ 39.453125 6.390625 43.28125 13.890625 \r\nQ 47.125 21.390625 47.125 36.375 \r\nQ 47.125 51.421875 43.28125 58.90625 \r\nQ 39.453125 66.40625 31.78125 66.40625 \r\nz\r\nM 31.78125 74.21875 \r\nQ 44.046875 74.21875 50.515625 64.515625 \r\nQ 56.984375 54.828125 56.984375 36.375 \r\nQ 56.984375 17.96875 50.515625 8.265625 \r\nQ 44.046875 -1.421875 31.78125 -1.421875 \r\nQ 19.53125 -1.421875 13.0625 8.265625 \r\nQ 6.59375 17.96875 6.59375 36.375 \r\nQ 6.59375 54.828125 13.0625 64.515625 \r\nQ 19.53125 74.21875 31.78125 74.21875 \r\nz\r\n\" id=\"DejaVuSans-48\"/>\r\n       </defs>\r\n       <use xlink:href=\"#DejaVuSans-48\"/>\r\n      </g>\r\n     </g>\r\n    </g>\r\n    <g id=\"xtick_2\">\r\n     <g id=\"line2d_2\">\r\n      <g>\r\n       <use style=\"stroke:#000000;stroke-width:0.8;\" x=\"182.834091\" xlink:href=\"#m24162ff695\" y=\"97.2\"/>\r\n      </g>\r\n     </g>\r\n     <g id=\"text_2\">\r\n      <!-- 10 -->\r\n      <g transform=\"translate(176.471591 111.798438)scale(0.1 -0.1)\">\r\n       <defs>\r\n        <path d=\"M 12.40625 8.296875 \r\nL 28.515625 8.296875 \r\nL 28.515625 63.921875 \r\nL 10.984375 60.40625 \r\nL 10.984375 69.390625 \r\nL 28.421875 72.90625 \r\nL 38.28125 72.90625 \r\nL 38.28125 8.296875 \r\nL 54.390625 8.296875 \r\nL 54.390625 0 \r\nL 12.40625 0 \r\nz\r\n\" id=\"DejaVuSans-49\"/>\r\n       </defs>\r\n       <use xlink:href=\"#DejaVuSans-49\"/>\r\n       <use x=\"63.623047\" xlink:href=\"#DejaVuSans-48\"/>\r\n      </g>\r\n     </g>\r\n    </g>\r\n    <g id=\"xtick_3\">\r\n     <g id=\"line2d_3\">\r\n      <g>\r\n       <use style=\"stroke:#000000;stroke-width:0.8;\" x=\"310.106818\" xlink:href=\"#m24162ff695\" y=\"97.2\"/>\r\n      </g>\r\n     </g>\r\n     <g id=\"text_3\">\r\n      <!-- 20 -->\r\n      <g transform=\"translate(303.744318 111.798438)scale(0.1 -0.1)\">\r\n       <defs>\r\n        <path d=\"M 19.1875 8.296875 \r\nL 53.609375 8.296875 \r\nL 53.609375 0 \r\nL 7.328125 0 \r\nL 7.328125 8.296875 \r\nQ 12.9375 14.109375 22.625 23.890625 \r\nQ 32.328125 33.6875 34.8125 36.53125 \r\nQ 39.546875 41.84375 41.421875 45.53125 \r\nQ 43.3125 49.21875 43.3125 52.78125 \r\nQ 43.3125 58.59375 39.234375 62.25 \r\nQ 35.15625 65.921875 28.609375 65.921875 \r\nQ 23.96875 65.921875 18.8125 64.3125 \r\nQ 13.671875 62.703125 7.8125 59.421875 \r\nL 7.8125 69.390625 \r\nQ 13.765625 71.78125 18.9375 73 \r\nQ 24.125 74.21875 28.421875 74.21875 \r\nQ 39.75 74.21875 46.484375 68.546875 \r\nQ 53.21875 62.890625 53.21875 53.421875 \r\nQ 53.21875 48.921875 51.53125 44.890625 \r\nQ 49.859375 40.875 45.40625 35.40625 \r\nQ 44.1875 33.984375 37.640625 27.21875 \r\nQ 31.109375 20.453125 19.1875 8.296875 \r\nz\r\n\" id=\"DejaVuSans-50\"/>\r\n       </defs>\r\n       <use xlink:href=\"#DejaVuSans-50\"/>\r\n       <use x=\"63.623047\" xlink:href=\"#DejaVuSans-48\"/>\r\n      </g>\r\n     </g>\r\n    </g>\r\n    <g id=\"xtick_4\">\r\n     <g id=\"line2d_4\">\r\n      <g>\r\n       <use style=\"stroke:#000000;stroke-width:0.8;\" x=\"437.379545\" xlink:href=\"#m24162ff695\" y=\"97.2\"/>\r\n      </g>\r\n     </g>\r\n     <g id=\"text_4\">\r\n      <!-- 30 -->\r\n      <g transform=\"translate(431.017045 111.798438)scale(0.1 -0.1)\">\r\n       <defs>\r\n        <path d=\"M 40.578125 39.3125 \r\nQ 47.65625 37.796875 51.625 33 \r\nQ 55.609375 28.21875 55.609375 21.1875 \r\nQ 55.609375 10.40625 48.1875 4.484375 \r\nQ 40.765625 -1.421875 27.09375 -1.421875 \r\nQ 22.515625 -1.421875 17.65625 -0.515625 \r\nQ 12.796875 0.390625 7.625 2.203125 \r\nL 7.625 11.71875 \r\nQ 11.71875 9.328125 16.59375 8.109375 \r\nQ 21.484375 6.890625 26.8125 6.890625 \r\nQ 36.078125 6.890625 40.9375 10.546875 \r\nQ 45.796875 14.203125 45.796875 21.1875 \r\nQ 45.796875 27.640625 41.28125 31.265625 \r\nQ 36.765625 34.90625 28.71875 34.90625 \r\nL 20.21875 34.90625 \r\nL 20.21875 43.015625 \r\nL 29.109375 43.015625 \r\nQ 36.375 43.015625 40.234375 45.921875 \r\nQ 44.09375 48.828125 44.09375 54.296875 \r\nQ 44.09375 59.90625 40.109375 62.90625 \r\nQ 36.140625 65.921875 28.71875 65.921875 \r\nQ 24.65625 65.921875 20.015625 65.03125 \r\nQ 15.375 64.15625 9.8125 62.3125 \r\nL 9.8125 71.09375 \r\nQ 15.4375 72.65625 20.34375 73.4375 \r\nQ 25.25 74.21875 29.59375 74.21875 \r\nQ 40.828125 74.21875 47.359375 69.109375 \r\nQ 53.90625 64.015625 53.90625 55.328125 \r\nQ 53.90625 49.265625 50.4375 45.09375 \r\nQ 46.96875 40.921875 40.578125 39.3125 \r\nz\r\n\" id=\"DejaVuSans-51\"/>\r\n       </defs>\r\n       <use xlink:href=\"#DejaVuSans-51\"/>\r\n       <use x=\"63.623047\" xlink:href=\"#DejaVuSans-48\"/>\r\n      </g>\r\n     </g>\r\n    </g>\r\n    <g id=\"xtick_5\">\r\n     <g id=\"line2d_5\">\r\n      <g>\r\n       <use style=\"stroke:#000000;stroke-width:0.8;\" x=\"564.652273\" xlink:href=\"#m24162ff695\" y=\"97.2\"/>\r\n      </g>\r\n     </g>\r\n     <g id=\"text_5\">\r\n      <!-- 40 -->\r\n      <g transform=\"translate(558.289773 111.798438)scale(0.1 -0.1)\">\r\n       <defs>\r\n        <path d=\"M 37.796875 64.3125 \r\nL 12.890625 25.390625 \r\nL 37.796875 25.390625 \r\nz\r\nM 35.203125 72.90625 \r\nL 47.609375 72.90625 \r\nL 47.609375 25.390625 \r\nL 58.015625 25.390625 \r\nL 58.015625 17.1875 \r\nL 47.609375 17.1875 \r\nL 47.609375 0 \r\nL 37.796875 0 \r\nL 37.796875 17.1875 \r\nL 4.890625 17.1875 \r\nL 4.890625 26.703125 \r\nz\r\n\" id=\"DejaVuSans-52\"/>\r\n       </defs>\r\n       <use xlink:href=\"#DejaVuSans-52\"/>\r\n       <use x=\"63.623047\" xlink:href=\"#DejaVuSans-48\"/>\r\n      </g>\r\n     </g>\r\n    </g>\r\n   </g>\r\n   <g id=\"matplotlib.axis_2\">\r\n    <g id=\"ytick_1\">\r\n     <g id=\"line2d_6\">\r\n      <defs>\r\n       <path d=\"M 0 0 \r\nL -3.5 0 \r\n\" id=\"m841ba46e13\" style=\"stroke:#000000;stroke-width:0.8;\"/>\r\n      </defs>\r\n      <g>\r\n       <use style=\"stroke:#000000;stroke-width:0.8;\" x=\"26.925\" xlink:href=\"#m841ba46e13\" y=\"76.745455\"/>\r\n      </g>\r\n     </g>\r\n     <g id=\"text_6\">\r\n      <!-- 5 -->\r\n      <g transform=\"translate(13.5625 80.544673)scale(0.1 -0.1)\">\r\n       <defs>\r\n        <path d=\"M 10.796875 72.90625 \r\nL 49.515625 72.90625 \r\nL 49.515625 64.59375 \r\nL 19.828125 64.59375 \r\nL 19.828125 46.734375 \r\nQ 21.96875 47.46875 24.109375 47.828125 \r\nQ 26.265625 48.1875 28.421875 48.1875 \r\nQ 40.625 48.1875 47.75 41.5 \r\nQ 54.890625 34.8125 54.890625 23.390625 \r\nQ 54.890625 11.625 47.5625 5.09375 \r\nQ 40.234375 -1.421875 26.90625 -1.421875 \r\nQ 22.3125 -1.421875 17.546875 -0.640625 \r\nQ 12.796875 0.140625 7.71875 1.703125 \r\nL 7.71875 11.625 \r\nQ 12.109375 9.234375 16.796875 8.0625 \r\nQ 21.484375 6.890625 26.703125 6.890625 \r\nQ 35.15625 6.890625 40.078125 11.328125 \r\nQ 45.015625 15.765625 45.015625 23.390625 \r\nQ 45.015625 31 40.078125 35.4375 \r\nQ 35.15625 39.890625 26.703125 39.890625 \r\nQ 22.75 39.890625 18.8125 39.015625 \r\nQ 14.890625 38.140625 10.796875 36.28125 \r\nz\r\n\" id=\"DejaVuSans-53\"/>\r\n       </defs>\r\n       <use xlink:href=\"#DejaVuSans-53\"/>\r\n      </g>\r\n     </g>\r\n    </g>\r\n    <g id=\"ytick_2\">\r\n     <g id=\"line2d_7\">\r\n      <g>\r\n       <use style=\"stroke:#000000;stroke-width:0.8;\" x=\"26.925\" xlink:href=\"#m841ba46e13\" y=\"35.836364\"/>\r\n      </g>\r\n     </g>\r\n     <g id=\"text_7\">\r\n      <!-- 10 -->\r\n      <g transform=\"translate(7.2 39.635582)scale(0.1 -0.1)\">\r\n       <use xlink:href=\"#DejaVuSans-49\"/>\r\n       <use x=\"63.623047\" xlink:href=\"#DejaVuSans-48\"/>\r\n      </g>\r\n     </g>\r\n    </g>\r\n   </g>\r\n   <g id=\"line2d_8\">\r\n    <path clip-path=\"url(#pebcf950c8b)\" d=\"M 55.561364 35.836364 \r\nL 68.288636 68.563636 \r\nL 81.015909 19.472727 \r\nL 93.743182 44.018182 \r\nL 106.470455 27.654545 \r\nL 119.197727 35.836364 \r\nL 131.925 52.2 \r\nL 144.652273 44.018182 \r\nL 157.379545 19.472727 \r\nL 170.106818 44.018182 \r\nL 182.834091 68.563636 \r\nL 195.561364 76.745455 \r\nL 208.288636 19.472727 \r\nL 221.015909 27.654545 \r\nL 233.743182 84.927273 \r\nL 246.470455 60.381818 \r\nL 259.197727 52.2 \r\nL 271.925 52.2 \r\nL 284.652273 19.472727 \r\nL 297.379545 19.472727 \r\nL 310.106818 35.836364 \r\nL 322.834091 93.109091 \r\nL 335.561364 68.563636 \r\nL 348.288636 76.745455 \r\nL 361.015909 68.563636 \r\nL 373.743182 44.018182 \r\nL 386.470455 27.654545 \r\nL 399.197727 35.836364 \r\nL 411.925 76.745455 \r\nL 424.652273 60.381818 \r\nL 437.379545 52.2 \r\nL 450.106818 35.836364 \r\nL 462.834091 60.381818 \r\nL 475.561364 35.836364 \r\nL 488.288636 76.745455 \r\nL 501.015909 27.654545 \r\nL 513.743182 44.018182 \r\nL 526.470455 60.381818 \r\nL 539.197727 68.563636 \r\nL 551.925 35.836364 \r\nL 564.652273 11.290909 \r\nL 577.379545 27.654545 \r\nL 590.106818 19.472727 \r\nL 602.834091 44.018182 \r\nL 615.561364 11.290909 \r\nL 628.288636 60.381818 \r\n\" style=\"fill:none;stroke:#1f77b4;stroke-linecap:square;stroke-width:1.5;\"/>\r\n   </g>\r\n   <g id=\"line2d_9\">\r\n    <path clip-path=\"url(#pebcf950c8b)\" d=\"M 55.561364 22.815606 \r\nL 68.288636 44.274636 \r\nL 81.015909 48.40175 \r\nL 93.743182 55.03828 \r\nL 106.470455 54.290165 \r\nL 119.197727 42.181655 \r\nL 131.925 54.560804 \r\nL 144.652273 67.506003 \r\nL 157.379545 43.640901 \r\nL 170.106818 56.734451 \r\nL 182.834091 51.213649 \r\nL 195.561364 39.107535 \r\nL 208.288636 53.13429 \r\nL 221.015909 52.731023 \r\nL 233.743182 28.591411 \r\nL 246.470455 63.801929 \r\nL 259.197727 44.743709 \r\nL 271.925 58.965553 \r\nL 284.652273 49.070426 \r\nL 297.379545 54.268722 \r\nL 310.106818 38.146145 \r\nL 322.834091 62.150995 \r\nL 335.561364 43.883911 \r\nL 348.288636 53.148226 \r\nL 361.015909 37.00757 \r\nL 373.743182 36.164213 \r\nL 386.470455 58.460366 \r\nL 399.197727 39.930971 \r\nL 411.925 57.360902 \r\nL 424.652273 52.741904 \r\nL 437.379545 47.149535 \r\nL 450.106818 61.997971 \r\nL 462.834091 55.111158 \r\nL 475.561364 51.156892 \r\nL 488.288636 50.320901 \r\nL 501.015909 26.736243 \r\nL 513.743182 47.514986 \r\nL 526.470455 42.410885 \r\nL 539.197727 49.491137 \r\nL 551.925 45.030609 \r\nL 564.652273 29.90604 \r\nL 577.379545 48.615867 \r\nL 590.106818 53.155272 \r\nL 602.834091 48.69817 \r\nL 615.561364 41.092619 \r\nL 628.288636 53.001522 \r\n\" style=\"fill:none;stroke:#ff7f0e;stroke-linecap:square;stroke-width:1.5;\"/>\r\n   </g>\r\n   <g id=\"patch_3\">\r\n    <path d=\"M 26.925 97.2 \r\nL 26.925 7.2 \r\n\" style=\"fill:none;stroke:#000000;stroke-linecap:square;stroke-linejoin:miter;stroke-width:0.8;\"/>\r\n   </g>\r\n   <g id=\"patch_4\">\r\n    <path d=\"M 656.925 97.2 \r\nL 656.925 7.2 \r\n\" style=\"fill:none;stroke:#000000;stroke-linecap:square;stroke-linejoin:miter;stroke-width:0.8;\"/>\r\n   </g>\r\n   <g id=\"patch_5\">\r\n    <path d=\"M 26.925 97.2 \r\nL 656.925 97.2 \r\n\" style=\"fill:none;stroke:#000000;stroke-linecap:square;stroke-linejoin:miter;stroke-width:0.8;\"/>\r\n   </g>\r\n   <g id=\"patch_6\">\r\n    <path d=\"M 26.925 7.2 \r\nL 656.925 7.2 \r\n\" style=\"fill:none;stroke:#000000;stroke-linecap:square;stroke-linejoin:miter;stroke-width:0.8;\"/>\r\n   </g>\r\n  </g>\r\n </g>\r\n <defs>\r\n  <clipPath id=\"pebcf950c8b\">\r\n   <rect height=\"90\" width=\"630\" x=\"26.925\" y=\"7.2\"/>\r\n  </clipPath>\r\n </defs>\r\n</svg>\r\n",
            "text/plain": [
              "<Figure size 252x180 with 1 Axes>"
            ]
          },
          "metadata": {
            "needs_background": "light"
          },
          "output_type": "display_data"
        }
      ],
      "source": [
        "verifyData = pd.read_csv(r'submission.csv')\n",
        "# verifyData.iloc[:,0].tolist()\n",
        "# a = verifyData.iloc[:,0].tolist()\n",
        "origin = torch.FloatTensor(verifyData.iloc[:,0].tolist())\n",
        "predict = torch.FloatTensor(verifyData.iloc[:,1].tolist())\n",
        "print(f'The MSE Loss of test: {loss(origin,predict)}')\n",
        "\n",
        "import matplotlib.pyplot as plt\n",
        "plt.axes([0, 0, 2.5, 0.5])\n",
        "plt.plot(origin)\n",
        "plt.plot(predict)\n",
        "\n",
        "\n",
        "plt.show()"
      ]
    },
    {
      "cell_type": "code",
      "execution_count": 72,
      "id": "cbc3a519",
      "metadata": {},
      "outputs": [
        {
          "data": {
            "text/plain": [
              "0     11.591426\n",
              "1      8.968656\n",
              "2      8.464231\n",
              "3      7.653099\n",
              "4      7.744535\n",
              "5      9.224464\n",
              "6      7.711457\n",
              "7      6.129266\n",
              "8      9.046112\n",
              "9      7.445789\n",
              "10     8.120554\n",
              "11     9.600190\n",
              "12     7.885809\n",
              "13     7.935097\n",
              "14    10.885494\n",
              "15     6.581986\n",
              "16     8.911324\n",
              "17     7.173099\n",
              "18     8.382504\n",
              "19     7.747156\n",
              "20     9.717693\n",
              "21     6.783767\n",
              "22     9.016411\n",
              "23     7.884106\n",
              "24     9.856853\n",
              "25     9.959929\n",
              "26     7.234844\n",
              "27     9.499548\n",
              "28     7.369223\n",
              "29     7.933767\n",
              "30     8.617279\n",
              "31     6.802470\n",
              "32     7.644192\n",
              "33     8.127491\n",
              "34     8.229668\n",
              "35    11.112237\n",
              "36     8.572613\n",
              "37     9.196447\n",
              "38     8.331083\n",
              "39     8.876259\n",
              "40    10.724817\n",
              "41     8.438061\n",
              "42     7.883245\n",
              "43     8.428001\n",
              "44     9.357569\n",
              "45     7.902036\n",
              "Name: day_divided 3, dtype: float64"
            ]
          },
          "execution_count": 72,
          "metadata": {},
          "output_type": "execute_result"
        }
      ],
      "source": [
        "import pandas as pd \n",
        "result1 = pd.read_csv('submission.csv')\n",
        "result1['day_divided 3']\n",
        "\n",
        "\n",
        "\n"
      ]
    },
    {
      "cell_type": "markdown",
      "id": "98457a07",
      "metadata": {},
      "source": [
        "mix up\n",
        "timm\n",
        "对比学习\n"
      ]
    },
    {
      "cell_type": "code",
      "execution_count": 73,
      "id": "96b62c99",
      "metadata": {},
      "outputs": [
        {
          "name": "stderr",
          "output_type": "stream",
          "text": [
            "Using a non-full backward hook when the forward contains multiple autograd Nodes is deprecated and will be removed in future versions. This hook will be missing some grad_input. Please use register_full_backward_hook to get the documented behavior.\n"
          ]
        },
        {
          "data": {
            "image/svg+xml": "<?xml version=\"1.0\" encoding=\"utf-8\" standalone=\"no\"?>\r\n<!DOCTYPE svg PUBLIC \"-//W3C//DTD SVG 1.1//EN\"\r\n  \"http://www.w3.org/Graphics/SVG/1.1/DTD/svg11.dtd\">\r\n<!-- Created with matplotlib (https://matplotlib.org/) -->\r\n<svg height=\"413.257938pt\" version=\"1.1\" viewBox=\"0 0 674.851406 413.257938\" width=\"674.851406pt\" xmlns=\"http://www.w3.org/2000/svg\" xmlns:xlink=\"http://www.w3.org/1999/xlink\">\r\n <metadata>\r\n  <rdf:RDF xmlns:cc=\"http://creativecommons.org/ns#\" xmlns:dc=\"http://purl.org/dc/elements/1.1/\" xmlns:rdf=\"http://www.w3.org/1999/02/22-rdf-syntax-ns#\">\r\n   <cc:Work>\r\n    <dc:type rdf:resource=\"http://purl.org/dc/dcmitype/StillImage\"/>\r\n    <dc:date>2022-11-20T21:52:19.176975</dc:date>\r\n    <dc:format>image/svg+xml</dc:format>\r\n    <dc:creator>\r\n     <cc:Agent>\r\n      <dc:title>Matplotlib v3.3.4, https://matplotlib.org/</dc:title>\r\n     </cc:Agent>\r\n    </dc:creator>\r\n   </cc:Work>\r\n  </rdf:RDF>\r\n </metadata>\r\n <defs>\r\n  <style type=\"text/css\">*{stroke-linecap:butt;stroke-linejoin:round;}</style>\r\n </defs>\r\n <g id=\"figure_1\">\r\n  <g id=\"patch_1\">\r\n   <path d=\"M 0 413.257938 \r\nL 674.851406 413.257938 \r\nL 674.851406 0 \r\nL 0 0 \r\nz\r\n\" style=\"fill:none;\"/>\r\n  </g>\r\n  <g id=\"axes_1\">\r\n   <g id=\"patch_2\">\r\n    <path d=\"M 221.251406 371.412 \r\nL 667.651406 371.412 \r\nL 667.651406 7.2 \r\nL 221.251406 7.2 \r\nz\r\n\" style=\"fill:#ffffff;\"/>\r\n   </g>\r\n   <g id=\"line2d_1\">\r\n    <path clip-path=\"url(#pca04448e51)\" d=\"M 221.251406 371.412 \r\nL 221.251406 7.2 \r\n\" style=\"fill:none;stroke:#999999;stroke-linecap:square;stroke-width:1.5;\"/>\r\n   </g>\r\n   <g id=\"patch_3\">\r\n    <path clip-path=\"url(#pca04448e51)\" d=\"M 221.251406 354.502157 \r\nL 221.251406 354.502157 \r\nL 221.251406 336.291557 \r\nL 221.251406 336.291557 \r\nz\r\n\" style=\"fill:#008bfb;\"/>\r\n   </g>\r\n   <g id=\"patch_4\">\r\n    <path clip-path=\"url(#pca04448e51)\" d=\"M 221.251406 328.487014 \r\nL 221.251406 328.487014 \r\nL 221.251406 310.276414 \r\nL 221.251406 310.276414 \r\nz\r\n\" style=\"fill:#008bfb;\"/>\r\n   </g>\r\n   <g id=\"patch_5\">\r\n    <path clip-path=\"url(#pca04448e51)\" d=\"M 221.251406 302.471871 \r\nL 221.558651 302.471871 \r\nL 221.558651 284.261271 \r\nL 221.251406 284.261271 \r\nz\r\n\" style=\"fill:#008bfb;\"/>\r\n   </g>\r\n   <g id=\"patch_6\">\r\n    <path clip-path=\"url(#pca04448e51)\" d=\"M 221.251406 276.456729 \r\nL 227.697401 276.456729 \r\nL 227.697401 258.246129 \r\nL 221.251406 258.246129 \r\nz\r\n\" style=\"fill:#008bfb;\"/>\r\n   </g>\r\n   <g id=\"patch_7\">\r\n    <path clip-path=\"url(#pca04448e51)\" d=\"M 221.251406 250.441586 \r\nL 229.119937 250.441586 \r\nL 229.119937 232.230986 \r\nL 221.251406 232.230986 \r\nz\r\n\" style=\"fill:#008bfb;\"/>\r\n   </g>\r\n   <g id=\"patch_8\">\r\n    <path clip-path=\"url(#pca04448e51)\" d=\"M 221.251406 224.426443 \r\nL 230.13097 224.426443 \r\nL 230.13097 206.215843 \r\nL 221.251406 206.215843 \r\nz\r\n\" style=\"fill:#008bfb;\"/>\r\n   </g>\r\n   <g id=\"patch_9\">\r\n    <path clip-path=\"url(#pca04448e51)\" d=\"M 221.251406 198.4113 \r\nL 240.303934 198.4113 \r\nL 240.303934 180.2007 \r\nL 221.251406 180.2007 \r\nz\r\n\" style=\"fill:#008bfb;\"/>\r\n   </g>\r\n   <g id=\"patch_10\">\r\n    <path clip-path=\"url(#pca04448e51)\" d=\"M 221.251406 172.396157 \r\nL 272.221323 172.396157 \r\nL 272.221323 154.185557 \r\nL 221.251406 154.185557 \r\nz\r\n\" style=\"fill:#008bfb;\"/>\r\n   </g>\r\n   <g id=\"patch_11\">\r\n    <path clip-path=\"url(#pca04448e51)\" d=\"M 221.251406 146.381014 \r\nL 330.345283 146.381014 \r\nL 330.345283 128.170414 \r\nL 221.251406 128.170414 \r\nz\r\n\" style=\"fill:#008bfb;\"/>\r\n   </g>\r\n   <g id=\"patch_12\">\r\n    <path clip-path=\"url(#pca04448e51)\" d=\"M 221.251406 120.365871 \r\nL 381.902572 120.365871 \r\nL 381.902572 102.155271 \r\nL 221.251406 102.155271 \r\nz\r\n\" style=\"fill:#008bfb;\"/>\r\n   </g>\r\n   <g id=\"patch_13\">\r\n    <path clip-path=\"url(#pca04448e51)\" d=\"M 221.251406 94.350729 \r\nL 392.576849 94.350729 \r\nL 392.576849 76.140129 \r\nL 221.251406 76.140129 \r\nz\r\n\" style=\"fill:#008bfb;\"/>\r\n   </g>\r\n   <g id=\"patch_14\">\r\n    <path clip-path=\"url(#pca04448e51)\" d=\"M 221.251406 68.335586 \r\nL 416.531208 68.335586 \r\nL 416.531208 50.124986 \r\nL 221.251406 50.124986 \r\nz\r\n\" style=\"fill:#008bfb;\"/>\r\n   </g>\r\n   <g id=\"patch_15\">\r\n    <path clip-path=\"url(#pca04448e51)\" d=\"M 221.251406 42.320443 \r\nL 646.394263 42.320443 \r\nL 646.394263 24.109843 \r\nL 221.251406 24.109843 \r\nz\r\n\" style=\"fill:#008bfb;\"/>\r\n   </g>\r\n   <g id=\"matplotlib.axis_1\">\r\n    <g id=\"xtick_1\">\r\n     <g id=\"line2d_2\">\r\n      <defs>\r\n       <path d=\"M 0 0 \r\nL 0 3.5 \r\n\" id=\"m03cfe3d172\" style=\"stroke:#333333;stroke-width:0.8;\"/>\r\n      </defs>\r\n      <g>\r\n       <use style=\"fill:#333333;stroke:#333333;stroke-width:0.8;\" x=\"221.251406\" xlink:href=\"#m03cfe3d172\" y=\"371.412\"/>\r\n      </g>\r\n     </g>\r\n     <g id=\"text_1\">\r\n      <!-- 0.0 -->\r\n      <g style=\"fill:#333333;\" transform=\"translate(212.504688 386.770281)scale(0.11 -0.11)\">\r\n       <defs>\r\n        <path d=\"M 31.78125 66.40625 \r\nQ 24.171875 66.40625 20.328125 58.90625 \r\nQ 16.5 51.421875 16.5 36.375 \r\nQ 16.5 21.390625 20.328125 13.890625 \r\nQ 24.171875 6.390625 31.78125 6.390625 \r\nQ 39.453125 6.390625 43.28125 13.890625 \r\nQ 47.125 21.390625 47.125 36.375 \r\nQ 47.125 51.421875 43.28125 58.90625 \r\nQ 39.453125 66.40625 31.78125 66.40625 \r\nz\r\nM 31.78125 74.21875 \r\nQ 44.046875 74.21875 50.515625 64.515625 \r\nQ 56.984375 54.828125 56.984375 36.375 \r\nQ 56.984375 17.96875 50.515625 8.265625 \r\nQ 44.046875 -1.421875 31.78125 -1.421875 \r\nQ 19.53125 -1.421875 13.0625 8.265625 \r\nQ 6.59375 17.96875 6.59375 36.375 \r\nQ 6.59375 54.828125 13.0625 64.515625 \r\nQ 19.53125 74.21875 31.78125 74.21875 \r\nz\r\n\" id=\"DejaVuSans-48\"/>\r\n        <path d=\"M 10.6875 12.40625 \r\nL 21 12.40625 \r\nL 21 0 \r\nL 10.6875 0 \r\nz\r\n\" id=\"DejaVuSans-46\"/>\r\n       </defs>\r\n       <use xlink:href=\"#DejaVuSans-48\"/>\r\n       <use x=\"63.623047\" xlink:href=\"#DejaVuSans-46\"/>\r\n       <use x=\"95.410156\" xlink:href=\"#DejaVuSans-48\"/>\r\n      </g>\r\n     </g>\r\n    </g>\r\n    <g id=\"xtick_2\">\r\n     <g id=\"line2d_3\">\r\n      <g>\r\n       <use style=\"fill:#333333;stroke:#333333;stroke-width:0.8;\" x=\"313.926262\" xlink:href=\"#m03cfe3d172\" y=\"371.412\"/>\r\n      </g>\r\n     </g>\r\n     <g id=\"text_2\">\r\n      <!-- 0.1 -->\r\n      <g style=\"fill:#333333;\" transform=\"translate(305.179543 386.770281)scale(0.11 -0.11)\">\r\n       <defs>\r\n        <path d=\"M 12.40625 8.296875 \r\nL 28.515625 8.296875 \r\nL 28.515625 63.921875 \r\nL 10.984375 60.40625 \r\nL 10.984375 69.390625 \r\nL 28.421875 72.90625 \r\nL 38.28125 72.90625 \r\nL 38.28125 8.296875 \r\nL 54.390625 8.296875 \r\nL 54.390625 0 \r\nL 12.40625 0 \r\nz\r\n\" id=\"DejaVuSans-49\"/>\r\n       </defs>\r\n       <use xlink:href=\"#DejaVuSans-48\"/>\r\n       <use x=\"63.623047\" xlink:href=\"#DejaVuSans-46\"/>\r\n       <use x=\"95.410156\" xlink:href=\"#DejaVuSans-49\"/>\r\n      </g>\r\n     </g>\r\n    </g>\r\n    <g id=\"xtick_3\">\r\n     <g id=\"line2d_4\">\r\n      <g>\r\n       <use style=\"fill:#333333;stroke:#333333;stroke-width:0.8;\" x=\"406.601118\" xlink:href=\"#m03cfe3d172\" y=\"371.412\"/>\r\n      </g>\r\n     </g>\r\n     <g id=\"text_3\">\r\n      <!-- 0.2 -->\r\n      <g style=\"fill:#333333;\" transform=\"translate(397.854399 386.770281)scale(0.11 -0.11)\">\r\n       <defs>\r\n        <path d=\"M 19.1875 8.296875 \r\nL 53.609375 8.296875 \r\nL 53.609375 0 \r\nL 7.328125 0 \r\nL 7.328125 8.296875 \r\nQ 12.9375 14.109375 22.625 23.890625 \r\nQ 32.328125 33.6875 34.8125 36.53125 \r\nQ 39.546875 41.84375 41.421875 45.53125 \r\nQ 43.3125 49.21875 43.3125 52.78125 \r\nQ 43.3125 58.59375 39.234375 62.25 \r\nQ 35.15625 65.921875 28.609375 65.921875 \r\nQ 23.96875 65.921875 18.8125 64.3125 \r\nQ 13.671875 62.703125 7.8125 59.421875 \r\nL 7.8125 69.390625 \r\nQ 13.765625 71.78125 18.9375 73 \r\nQ 24.125 74.21875 28.421875 74.21875 \r\nQ 39.75 74.21875 46.484375 68.546875 \r\nQ 53.21875 62.890625 53.21875 53.421875 \r\nQ 53.21875 48.921875 51.53125 44.890625 \r\nQ 49.859375 40.875 45.40625 35.40625 \r\nQ 44.1875 33.984375 37.640625 27.21875 \r\nQ 31.109375 20.453125 19.1875 8.296875 \r\nz\r\n\" id=\"DejaVuSans-50\"/>\r\n       </defs>\r\n       <use xlink:href=\"#DejaVuSans-48\"/>\r\n       <use x=\"63.623047\" xlink:href=\"#DejaVuSans-46\"/>\r\n       <use x=\"95.410156\" xlink:href=\"#DejaVuSans-50\"/>\r\n      </g>\r\n     </g>\r\n    </g>\r\n    <g id=\"xtick_4\">\r\n     <g id=\"line2d_5\">\r\n      <g>\r\n       <use style=\"fill:#333333;stroke:#333333;stroke-width:0.8;\" x=\"499.275974\" xlink:href=\"#m03cfe3d172\" y=\"371.412\"/>\r\n      </g>\r\n     </g>\r\n     <g id=\"text_4\">\r\n      <!-- 0.3 -->\r\n      <g style=\"fill:#333333;\" transform=\"translate(490.529255 386.770281)scale(0.11 -0.11)\">\r\n       <defs>\r\n        <path d=\"M 40.578125 39.3125 \r\nQ 47.65625 37.796875 51.625 33 \r\nQ 55.609375 28.21875 55.609375 21.1875 \r\nQ 55.609375 10.40625 48.1875 4.484375 \r\nQ 40.765625 -1.421875 27.09375 -1.421875 \r\nQ 22.515625 -1.421875 17.65625 -0.515625 \r\nQ 12.796875 0.390625 7.625 2.203125 \r\nL 7.625 11.71875 \r\nQ 11.71875 9.328125 16.59375 8.109375 \r\nQ 21.484375 6.890625 26.8125 6.890625 \r\nQ 36.078125 6.890625 40.9375 10.546875 \r\nQ 45.796875 14.203125 45.796875 21.1875 \r\nQ 45.796875 27.640625 41.28125 31.265625 \r\nQ 36.765625 34.90625 28.71875 34.90625 \r\nL 20.21875 34.90625 \r\nL 20.21875 43.015625 \r\nL 29.109375 43.015625 \r\nQ 36.375 43.015625 40.234375 45.921875 \r\nQ 44.09375 48.828125 44.09375 54.296875 \r\nQ 44.09375 59.90625 40.109375 62.90625 \r\nQ 36.140625 65.921875 28.71875 65.921875 \r\nQ 24.65625 65.921875 20.015625 65.03125 \r\nQ 15.375 64.15625 9.8125 62.3125 \r\nL 9.8125 71.09375 \r\nQ 15.4375 72.65625 20.34375 73.4375 \r\nQ 25.25 74.21875 29.59375 74.21875 \r\nQ 40.828125 74.21875 47.359375 69.109375 \r\nQ 53.90625 64.015625 53.90625 55.328125 \r\nQ 53.90625 49.265625 50.4375 45.09375 \r\nQ 46.96875 40.921875 40.578125 39.3125 \r\nz\r\n\" id=\"DejaVuSans-51\"/>\r\n       </defs>\r\n       <use xlink:href=\"#DejaVuSans-48\"/>\r\n       <use x=\"63.623047\" xlink:href=\"#DejaVuSans-46\"/>\r\n       <use x=\"95.410156\" xlink:href=\"#DejaVuSans-51\"/>\r\n      </g>\r\n     </g>\r\n    </g>\r\n    <g id=\"xtick_5\">\r\n     <g id=\"line2d_6\">\r\n      <g>\r\n       <use style=\"fill:#333333;stroke:#333333;stroke-width:0.8;\" x=\"591.95083\" xlink:href=\"#m03cfe3d172\" y=\"371.412\"/>\r\n      </g>\r\n     </g>\r\n     <g id=\"text_5\">\r\n      <!-- 0.4 -->\r\n      <g style=\"fill:#333333;\" transform=\"translate(583.204111 386.770281)scale(0.11 -0.11)\">\r\n       <defs>\r\n        <path d=\"M 37.796875 64.3125 \r\nL 12.890625 25.390625 \r\nL 37.796875 25.390625 \r\nz\r\nM 35.203125 72.90625 \r\nL 47.609375 72.90625 \r\nL 47.609375 25.390625 \r\nL 58.015625 25.390625 \r\nL 58.015625 17.1875 \r\nL 47.609375 17.1875 \r\nL 47.609375 0 \r\nL 37.796875 0 \r\nL 37.796875 17.1875 \r\nL 4.890625 17.1875 \r\nL 4.890625 26.703125 \r\nz\r\n\" id=\"DejaVuSans-52\"/>\r\n       </defs>\r\n       <use xlink:href=\"#DejaVuSans-48\"/>\r\n       <use x=\"63.623047\" xlink:href=\"#DejaVuSans-46\"/>\r\n       <use x=\"95.410156\" xlink:href=\"#DejaVuSans-52\"/>\r\n      </g>\r\n     </g>\r\n    </g>\r\n    <g id=\"text_6\">\r\n     <!-- mean(|SHAP value|) (average impact on model output magnitude) -->\r\n     <g transform=\"translate(227.982109 402.992781)scale(0.13 -0.13)\">\r\n      <defs>\r\n       <path d=\"M 52 44.1875 \r\nQ 55.375 50.25 60.0625 53.125 \r\nQ 64.75 56 71.09375 56 \r\nQ 79.640625 56 84.28125 50.015625 \r\nQ 88.921875 44.046875 88.921875 33.015625 \r\nL 88.921875 0 \r\nL 79.890625 0 \r\nL 79.890625 32.71875 \r\nQ 79.890625 40.578125 77.09375 44.375 \r\nQ 74.3125 48.1875 68.609375 48.1875 \r\nQ 61.625 48.1875 57.5625 43.546875 \r\nQ 53.515625 38.921875 53.515625 30.90625 \r\nL 53.515625 0 \r\nL 44.484375 0 \r\nL 44.484375 32.71875 \r\nQ 44.484375 40.625 41.703125 44.40625 \r\nQ 38.921875 48.1875 33.109375 48.1875 \r\nQ 26.21875 48.1875 22.15625 43.53125 \r\nQ 18.109375 38.875 18.109375 30.90625 \r\nL 18.109375 0 \r\nL 9.078125 0 \r\nL 9.078125 54.6875 \r\nL 18.109375 54.6875 \r\nL 18.109375 46.1875 \r\nQ 21.1875 51.21875 25.484375 53.609375 \r\nQ 29.78125 56 35.6875 56 \r\nQ 41.65625 56 45.828125 52.96875 \r\nQ 50 49.953125 52 44.1875 \r\nz\r\n\" id=\"DejaVuSans-109\"/>\r\n       <path d=\"M 56.203125 29.59375 \r\nL 56.203125 25.203125 \r\nL 14.890625 25.203125 \r\nQ 15.484375 15.921875 20.484375 11.0625 \r\nQ 25.484375 6.203125 34.421875 6.203125 \r\nQ 39.59375 6.203125 44.453125 7.46875 \r\nQ 49.3125 8.734375 54.109375 11.28125 \r\nL 54.109375 2.78125 \r\nQ 49.265625 0.734375 44.1875 -0.34375 \r\nQ 39.109375 -1.421875 33.890625 -1.421875 \r\nQ 20.796875 -1.421875 13.15625 6.1875 \r\nQ 5.515625 13.8125 5.515625 26.8125 \r\nQ 5.515625 40.234375 12.765625 48.109375 \r\nQ 20.015625 56 32.328125 56 \r\nQ 43.359375 56 49.78125 48.890625 \r\nQ 56.203125 41.796875 56.203125 29.59375 \r\nz\r\nM 47.21875 32.234375 \r\nQ 47.125 39.59375 43.09375 43.984375 \r\nQ 39.0625 48.390625 32.421875 48.390625 \r\nQ 24.90625 48.390625 20.390625 44.140625 \r\nQ 15.875 39.890625 15.1875 32.171875 \r\nz\r\n\" id=\"DejaVuSans-101\"/>\r\n       <path d=\"M 34.28125 27.484375 \r\nQ 23.390625 27.484375 19.1875 25 \r\nQ 14.984375 22.515625 14.984375 16.5 \r\nQ 14.984375 11.71875 18.140625 8.90625 \r\nQ 21.296875 6.109375 26.703125 6.109375 \r\nQ 34.1875 6.109375 38.703125 11.40625 \r\nQ 43.21875 16.703125 43.21875 25.484375 \r\nL 43.21875 27.484375 \r\nz\r\nM 52.203125 31.203125 \r\nL 52.203125 0 \r\nL 43.21875 0 \r\nL 43.21875 8.296875 \r\nQ 40.140625 3.328125 35.546875 0.953125 \r\nQ 30.953125 -1.421875 24.3125 -1.421875 \r\nQ 15.921875 -1.421875 10.953125 3.296875 \r\nQ 6 8.015625 6 15.921875 \r\nQ 6 25.140625 12.171875 29.828125 \r\nQ 18.359375 34.515625 30.609375 34.515625 \r\nL 43.21875 34.515625 \r\nL 43.21875 35.40625 \r\nQ 43.21875 41.609375 39.140625 45 \r\nQ 35.0625 48.390625 27.6875 48.390625 \r\nQ 23 48.390625 18.546875 47.265625 \r\nQ 14.109375 46.140625 10.015625 43.890625 \r\nL 10.015625 52.203125 \r\nQ 14.9375 54.109375 19.578125 55.046875 \r\nQ 24.21875 56 28.609375 56 \r\nQ 40.484375 56 46.34375 49.84375 \r\nQ 52.203125 43.703125 52.203125 31.203125 \r\nz\r\n\" id=\"DejaVuSans-97\"/>\r\n       <path d=\"M 54.890625 33.015625 \r\nL 54.890625 0 \r\nL 45.90625 0 \r\nL 45.90625 32.71875 \r\nQ 45.90625 40.484375 42.875 44.328125 \r\nQ 39.84375 48.1875 33.796875 48.1875 \r\nQ 26.515625 48.1875 22.3125 43.546875 \r\nQ 18.109375 38.921875 18.109375 30.90625 \r\nL 18.109375 0 \r\nL 9.078125 0 \r\nL 9.078125 54.6875 \r\nL 18.109375 54.6875 \r\nL 18.109375 46.1875 \r\nQ 21.34375 51.125 25.703125 53.5625 \r\nQ 30.078125 56 35.796875 56 \r\nQ 45.21875 56 50.046875 50.171875 \r\nQ 54.890625 44.34375 54.890625 33.015625 \r\nz\r\n\" id=\"DejaVuSans-110\"/>\r\n       <path d=\"M 31 75.875 \r\nQ 24.46875 64.65625 21.28125 53.65625 \r\nQ 18.109375 42.671875 18.109375 31.390625 \r\nQ 18.109375 20.125 21.3125 9.0625 \r\nQ 24.515625 -2 31 -13.1875 \r\nL 23.1875 -13.1875 \r\nQ 15.875 -1.703125 12.234375 9.375 \r\nQ 8.59375 20.453125 8.59375 31.390625 \r\nQ 8.59375 42.28125 12.203125 53.3125 \r\nQ 15.828125 64.359375 23.1875 75.875 \r\nz\r\n\" id=\"DejaVuSans-40\"/>\r\n       <path d=\"M 21 76.421875 \r\nL 21 -23.578125 \r\nL 12.703125 -23.578125 \r\nL 12.703125 76.421875 \r\nz\r\n\" id=\"DejaVuSans-124\"/>\r\n       <path d=\"M 53.515625 70.515625 \r\nL 53.515625 60.890625 \r\nQ 47.90625 63.578125 42.921875 64.890625 \r\nQ 37.9375 66.21875 33.296875 66.21875 \r\nQ 25.25 66.21875 20.875 63.09375 \r\nQ 16.5 59.96875 16.5 54.203125 \r\nQ 16.5 49.359375 19.40625 46.890625 \r\nQ 22.3125 44.4375 30.421875 42.921875 \r\nL 36.375 41.703125 \r\nQ 47.40625 39.59375 52.65625 34.296875 \r\nQ 57.90625 29 57.90625 20.125 \r\nQ 57.90625 9.515625 50.796875 4.046875 \r\nQ 43.703125 -1.421875 29.984375 -1.421875 \r\nQ 24.8125 -1.421875 18.96875 -0.25 \r\nQ 13.140625 0.921875 6.890625 3.21875 \r\nL 6.890625 13.375 \r\nQ 12.890625 10.015625 18.65625 8.296875 \r\nQ 24.421875 6.59375 29.984375 6.59375 \r\nQ 38.421875 6.59375 43.015625 9.90625 \r\nQ 47.609375 13.234375 47.609375 19.390625 \r\nQ 47.609375 24.75 44.3125 27.78125 \r\nQ 41.015625 30.8125 33.5 32.328125 \r\nL 27.484375 33.5 \r\nQ 16.453125 35.6875 11.515625 40.375 \r\nQ 6.59375 45.0625 6.59375 53.421875 \r\nQ 6.59375 63.09375 13.40625 68.65625 \r\nQ 20.21875 74.21875 32.171875 74.21875 \r\nQ 37.3125 74.21875 42.625 73.28125 \r\nQ 47.953125 72.359375 53.515625 70.515625 \r\nz\r\n\" id=\"DejaVuSans-83\"/>\r\n       <path d=\"M 9.8125 72.90625 \r\nL 19.671875 72.90625 \r\nL 19.671875 43.015625 \r\nL 55.515625 43.015625 \r\nL 55.515625 72.90625 \r\nL 65.375 72.90625 \r\nL 65.375 0 \r\nL 55.515625 0 \r\nL 55.515625 34.71875 \r\nL 19.671875 34.71875 \r\nL 19.671875 0 \r\nL 9.8125 0 \r\nz\r\n\" id=\"DejaVuSans-72\"/>\r\n       <path d=\"M 34.1875 63.1875 \r\nL 20.796875 26.90625 \r\nL 47.609375 26.90625 \r\nz\r\nM 28.609375 72.90625 \r\nL 39.796875 72.90625 \r\nL 67.578125 0 \r\nL 57.328125 0 \r\nL 50.6875 18.703125 \r\nL 17.828125 18.703125 \r\nL 11.1875 0 \r\nL 0.78125 0 \r\nz\r\n\" id=\"DejaVuSans-65\"/>\r\n       <path d=\"M 19.671875 64.796875 \r\nL 19.671875 37.40625 \r\nL 32.078125 37.40625 \r\nQ 38.96875 37.40625 42.71875 40.96875 \r\nQ 46.484375 44.53125 46.484375 51.125 \r\nQ 46.484375 57.671875 42.71875 61.234375 \r\nQ 38.96875 64.796875 32.078125 64.796875 \r\nz\r\nM 9.8125 72.90625 \r\nL 32.078125 72.90625 \r\nQ 44.34375 72.90625 50.609375 67.359375 \r\nQ 56.890625 61.8125 56.890625 51.125 \r\nQ 56.890625 40.328125 50.609375 34.8125 \r\nQ 44.34375 29.296875 32.078125 29.296875 \r\nL 19.671875 29.296875 \r\nL 19.671875 0 \r\nL 9.8125 0 \r\nz\r\n\" id=\"DejaVuSans-80\"/>\r\n       <path id=\"DejaVuSans-32\"/>\r\n       <path d=\"M 2.984375 54.6875 \r\nL 12.5 54.6875 \r\nL 29.59375 8.796875 \r\nL 46.6875 54.6875 \r\nL 56.203125 54.6875 \r\nL 35.6875 0 \r\nL 23.484375 0 \r\nz\r\n\" id=\"DejaVuSans-118\"/>\r\n       <path d=\"M 9.421875 75.984375 \r\nL 18.40625 75.984375 \r\nL 18.40625 0 \r\nL 9.421875 0 \r\nz\r\n\" id=\"DejaVuSans-108\"/>\r\n       <path d=\"M 8.5 21.578125 \r\nL 8.5 54.6875 \r\nL 17.484375 54.6875 \r\nL 17.484375 21.921875 \r\nQ 17.484375 14.15625 20.5 10.265625 \r\nQ 23.53125 6.390625 29.59375 6.390625 \r\nQ 36.859375 6.390625 41.078125 11.03125 \r\nQ 45.3125 15.671875 45.3125 23.6875 \r\nL 45.3125 54.6875 \r\nL 54.296875 54.6875 \r\nL 54.296875 0 \r\nL 45.3125 0 \r\nL 45.3125 8.40625 \r\nQ 42.046875 3.421875 37.71875 1 \r\nQ 33.40625 -1.421875 27.6875 -1.421875 \r\nQ 18.265625 -1.421875 13.375 4.4375 \r\nQ 8.5 10.296875 8.5 21.578125 \r\nz\r\nM 31.109375 56 \r\nz\r\n\" id=\"DejaVuSans-117\"/>\r\n       <path d=\"M 8.015625 75.875 \r\nL 15.828125 75.875 \r\nQ 23.140625 64.359375 26.78125 53.3125 \r\nQ 30.421875 42.28125 30.421875 31.390625 \r\nQ 30.421875 20.453125 26.78125 9.375 \r\nQ 23.140625 -1.703125 15.828125 -13.1875 \r\nL 8.015625 -13.1875 \r\nQ 14.5 -2 17.703125 9.0625 \r\nQ 20.90625 20.125 20.90625 31.390625 \r\nQ 20.90625 42.671875 17.703125 53.65625 \r\nQ 14.5 64.65625 8.015625 75.875 \r\nz\r\n\" id=\"DejaVuSans-41\"/>\r\n       <path d=\"M 41.109375 46.296875 \r\nQ 39.59375 47.171875 37.8125 47.578125 \r\nQ 36.03125 48 33.890625 48 \r\nQ 26.265625 48 22.1875 43.046875 \r\nQ 18.109375 38.09375 18.109375 28.8125 \r\nL 18.109375 0 \r\nL 9.078125 0 \r\nL 9.078125 54.6875 \r\nL 18.109375 54.6875 \r\nL 18.109375 46.1875 \r\nQ 20.953125 51.171875 25.484375 53.578125 \r\nQ 30.03125 56 36.53125 56 \r\nQ 37.453125 56 38.578125 55.875 \r\nQ 39.703125 55.765625 41.0625 55.515625 \r\nz\r\n\" id=\"DejaVuSans-114\"/>\r\n       <path d=\"M 45.40625 27.984375 \r\nQ 45.40625 37.75 41.375 43.109375 \r\nQ 37.359375 48.484375 30.078125 48.484375 \r\nQ 22.859375 48.484375 18.828125 43.109375 \r\nQ 14.796875 37.75 14.796875 27.984375 \r\nQ 14.796875 18.265625 18.828125 12.890625 \r\nQ 22.859375 7.515625 30.078125 7.515625 \r\nQ 37.359375 7.515625 41.375 12.890625 \r\nQ 45.40625 18.265625 45.40625 27.984375 \r\nz\r\nM 54.390625 6.78125 \r\nQ 54.390625 -7.171875 48.1875 -13.984375 \r\nQ 42 -20.796875 29.203125 -20.796875 \r\nQ 24.46875 -20.796875 20.265625 -20.09375 \r\nQ 16.0625 -19.390625 12.109375 -17.921875 \r\nL 12.109375 -9.1875 \r\nQ 16.0625 -11.328125 19.921875 -12.34375 \r\nQ 23.78125 -13.375 27.78125 -13.375 \r\nQ 36.625 -13.375 41.015625 -8.765625 \r\nQ 45.40625 -4.15625 45.40625 5.171875 \r\nL 45.40625 9.625 \r\nQ 42.625 4.78125 38.28125 2.390625 \r\nQ 33.9375 0 27.875 0 \r\nQ 17.828125 0 11.671875 7.65625 \r\nQ 5.515625 15.328125 5.515625 27.984375 \r\nQ 5.515625 40.671875 11.671875 48.328125 \r\nQ 17.828125 56 27.875 56 \r\nQ 33.9375 56 38.28125 53.609375 \r\nQ 42.625 51.21875 45.40625 46.390625 \r\nL 45.40625 54.6875 \r\nL 54.390625 54.6875 \r\nz\r\n\" id=\"DejaVuSans-103\"/>\r\n       <path d=\"M 9.421875 54.6875 \r\nL 18.40625 54.6875 \r\nL 18.40625 0 \r\nL 9.421875 0 \r\nz\r\nM 9.421875 75.984375 \r\nL 18.40625 75.984375 \r\nL 18.40625 64.59375 \r\nL 9.421875 64.59375 \r\nz\r\n\" id=\"DejaVuSans-105\"/>\r\n       <path d=\"M 18.109375 8.203125 \r\nL 18.109375 -20.796875 \r\nL 9.078125 -20.796875 \r\nL 9.078125 54.6875 \r\nL 18.109375 54.6875 \r\nL 18.109375 46.390625 \r\nQ 20.953125 51.265625 25.265625 53.625 \r\nQ 29.59375 56 35.59375 56 \r\nQ 45.5625 56 51.78125 48.09375 \r\nQ 58.015625 40.1875 58.015625 27.296875 \r\nQ 58.015625 14.40625 51.78125 6.484375 \r\nQ 45.5625 -1.421875 35.59375 -1.421875 \r\nQ 29.59375 -1.421875 25.265625 0.953125 \r\nQ 20.953125 3.328125 18.109375 8.203125 \r\nz\r\nM 48.6875 27.296875 \r\nQ 48.6875 37.203125 44.609375 42.84375 \r\nQ 40.53125 48.484375 33.40625 48.484375 \r\nQ 26.265625 48.484375 22.1875 42.84375 \r\nQ 18.109375 37.203125 18.109375 27.296875 \r\nQ 18.109375 17.390625 22.1875 11.75 \r\nQ 26.265625 6.109375 33.40625 6.109375 \r\nQ 40.53125 6.109375 44.609375 11.75 \r\nQ 48.6875 17.390625 48.6875 27.296875 \r\nz\r\n\" id=\"DejaVuSans-112\"/>\r\n       <path d=\"M 48.78125 52.59375 \r\nL 48.78125 44.1875 \r\nQ 44.96875 46.296875 41.140625 47.34375 \r\nQ 37.3125 48.390625 33.40625 48.390625 \r\nQ 24.65625 48.390625 19.8125 42.84375 \r\nQ 14.984375 37.3125 14.984375 27.296875 \r\nQ 14.984375 17.28125 19.8125 11.734375 \r\nQ 24.65625 6.203125 33.40625 6.203125 \r\nQ 37.3125 6.203125 41.140625 7.25 \r\nQ 44.96875 8.296875 48.78125 10.40625 \r\nL 48.78125 2.09375 \r\nQ 45.015625 0.34375 40.984375 -0.53125 \r\nQ 36.96875 -1.421875 32.421875 -1.421875 \r\nQ 20.0625 -1.421875 12.78125 6.34375 \r\nQ 5.515625 14.109375 5.515625 27.296875 \r\nQ 5.515625 40.671875 12.859375 48.328125 \r\nQ 20.21875 56 33.015625 56 \r\nQ 37.15625 56 41.109375 55.140625 \r\nQ 45.0625 54.296875 48.78125 52.59375 \r\nz\r\n\" id=\"DejaVuSans-99\"/>\r\n       <path d=\"M 18.3125 70.21875 \r\nL 18.3125 54.6875 \r\nL 36.8125 54.6875 \r\nL 36.8125 47.703125 \r\nL 18.3125 47.703125 \r\nL 18.3125 18.015625 \r\nQ 18.3125 11.328125 20.140625 9.421875 \r\nQ 21.96875 7.515625 27.59375 7.515625 \r\nL 36.8125 7.515625 \r\nL 36.8125 0 \r\nL 27.59375 0 \r\nQ 17.1875 0 13.234375 3.875 \r\nQ 9.28125 7.765625 9.28125 18.015625 \r\nL 9.28125 47.703125 \r\nL 2.6875 47.703125 \r\nL 2.6875 54.6875 \r\nL 9.28125 54.6875 \r\nL 9.28125 70.21875 \r\nz\r\n\" id=\"DejaVuSans-116\"/>\r\n       <path d=\"M 30.609375 48.390625 \r\nQ 23.390625 48.390625 19.1875 42.75 \r\nQ 14.984375 37.109375 14.984375 27.296875 \r\nQ 14.984375 17.484375 19.15625 11.84375 \r\nQ 23.34375 6.203125 30.609375 6.203125 \r\nQ 37.796875 6.203125 41.984375 11.859375 \r\nQ 46.1875 17.53125 46.1875 27.296875 \r\nQ 46.1875 37.015625 41.984375 42.703125 \r\nQ 37.796875 48.390625 30.609375 48.390625 \r\nz\r\nM 30.609375 56 \r\nQ 42.328125 56 49.015625 48.375 \r\nQ 55.71875 40.765625 55.71875 27.296875 \r\nQ 55.71875 13.875 49.015625 6.21875 \r\nQ 42.328125 -1.421875 30.609375 -1.421875 \r\nQ 18.84375 -1.421875 12.171875 6.21875 \r\nQ 5.515625 13.875 5.515625 27.296875 \r\nQ 5.515625 40.765625 12.171875 48.375 \r\nQ 18.84375 56 30.609375 56 \r\nz\r\n\" id=\"DejaVuSans-111\"/>\r\n       <path d=\"M 45.40625 46.390625 \r\nL 45.40625 75.984375 \r\nL 54.390625 75.984375 \r\nL 54.390625 0 \r\nL 45.40625 0 \r\nL 45.40625 8.203125 \r\nQ 42.578125 3.328125 38.25 0.953125 \r\nQ 33.9375 -1.421875 27.875 -1.421875 \r\nQ 17.96875 -1.421875 11.734375 6.484375 \r\nQ 5.515625 14.40625 5.515625 27.296875 \r\nQ 5.515625 40.1875 11.734375 48.09375 \r\nQ 17.96875 56 27.875 56 \r\nQ 33.9375 56 38.25 53.625 \r\nQ 42.578125 51.265625 45.40625 46.390625 \r\nz\r\nM 14.796875 27.296875 \r\nQ 14.796875 17.390625 18.875 11.75 \r\nQ 22.953125 6.109375 30.078125 6.109375 \r\nQ 37.203125 6.109375 41.296875 11.75 \r\nQ 45.40625 17.390625 45.40625 27.296875 \r\nQ 45.40625 37.203125 41.296875 42.84375 \r\nQ 37.203125 48.484375 30.078125 48.484375 \r\nQ 22.953125 48.484375 18.875 42.84375 \r\nQ 14.796875 37.203125 14.796875 27.296875 \r\nz\r\n\" id=\"DejaVuSans-100\"/>\r\n      </defs>\r\n      <use xlink:href=\"#DejaVuSans-109\"/>\r\n      <use x=\"97.412109\" xlink:href=\"#DejaVuSans-101\"/>\r\n      <use x=\"158.935547\" xlink:href=\"#DejaVuSans-97\"/>\r\n      <use x=\"220.214844\" xlink:href=\"#DejaVuSans-110\"/>\r\n      <use x=\"283.59375\" xlink:href=\"#DejaVuSans-40\"/>\r\n      <use x=\"322.607422\" xlink:href=\"#DejaVuSans-124\"/>\r\n      <use x=\"356.298828\" xlink:href=\"#DejaVuSans-83\"/>\r\n      <use x=\"419.775391\" xlink:href=\"#DejaVuSans-72\"/>\r\n      <use x=\"494.970703\" xlink:href=\"#DejaVuSans-65\"/>\r\n      <use x=\"563.378906\" xlink:href=\"#DejaVuSans-80\"/>\r\n      <use x=\"623.681641\" xlink:href=\"#DejaVuSans-32\"/>\r\n      <use x=\"655.46875\" xlink:href=\"#DejaVuSans-118\"/>\r\n      <use x=\"714.648438\" xlink:href=\"#DejaVuSans-97\"/>\r\n      <use x=\"775.927734\" xlink:href=\"#DejaVuSans-108\"/>\r\n      <use x=\"803.710938\" xlink:href=\"#DejaVuSans-117\"/>\r\n      <use x=\"867.089844\" xlink:href=\"#DejaVuSans-101\"/>\r\n      <use x=\"928.613281\" xlink:href=\"#DejaVuSans-124\"/>\r\n      <use x=\"962.304688\" xlink:href=\"#DejaVuSans-41\"/>\r\n      <use x=\"1001.318359\" xlink:href=\"#DejaVuSans-32\"/>\r\n      <use x=\"1033.105469\" xlink:href=\"#DejaVuSans-40\"/>\r\n      <use x=\"1072.119141\" xlink:href=\"#DejaVuSans-97\"/>\r\n      <use x=\"1133.398438\" xlink:href=\"#DejaVuSans-118\"/>\r\n      <use x=\"1192.578125\" xlink:href=\"#DejaVuSans-101\"/>\r\n      <use x=\"1254.101562\" xlink:href=\"#DejaVuSans-114\"/>\r\n      <use x=\"1295.214844\" xlink:href=\"#DejaVuSans-97\"/>\r\n      <use x=\"1356.494141\" xlink:href=\"#DejaVuSans-103\"/>\r\n      <use x=\"1419.970703\" xlink:href=\"#DejaVuSans-101\"/>\r\n      <use x=\"1481.494141\" xlink:href=\"#DejaVuSans-32\"/>\r\n      <use x=\"1513.28125\" xlink:href=\"#DejaVuSans-105\"/>\r\n      <use x=\"1541.064453\" xlink:href=\"#DejaVuSans-109\"/>\r\n      <use x=\"1638.476562\" xlink:href=\"#DejaVuSans-112\"/>\r\n      <use x=\"1701.953125\" xlink:href=\"#DejaVuSans-97\"/>\r\n      <use x=\"1763.232422\" xlink:href=\"#DejaVuSans-99\"/>\r\n      <use x=\"1818.212891\" xlink:href=\"#DejaVuSans-116\"/>\r\n      <use x=\"1857.421875\" xlink:href=\"#DejaVuSans-32\"/>\r\n      <use x=\"1889.208984\" xlink:href=\"#DejaVuSans-111\"/>\r\n      <use x=\"1950.390625\" xlink:href=\"#DejaVuSans-110\"/>\r\n      <use x=\"2013.769531\" xlink:href=\"#DejaVuSans-32\"/>\r\n      <use x=\"2045.556641\" xlink:href=\"#DejaVuSans-109\"/>\r\n      <use x=\"2142.96875\" xlink:href=\"#DejaVuSans-111\"/>\r\n      <use x=\"2204.150391\" xlink:href=\"#DejaVuSans-100\"/>\r\n      <use x=\"2267.626953\" xlink:href=\"#DejaVuSans-101\"/>\r\n      <use x=\"2329.150391\" xlink:href=\"#DejaVuSans-108\"/>\r\n      <use x=\"2356.933594\" xlink:href=\"#DejaVuSans-32\"/>\r\n      <use x=\"2388.720703\" xlink:href=\"#DejaVuSans-111\"/>\r\n      <use x=\"2449.902344\" xlink:href=\"#DejaVuSans-117\"/>\r\n      <use x=\"2513.28125\" xlink:href=\"#DejaVuSans-116\"/>\r\n      <use x=\"2552.490234\" xlink:href=\"#DejaVuSans-112\"/>\r\n      <use x=\"2615.966797\" xlink:href=\"#DejaVuSans-117\"/>\r\n      <use x=\"2679.345703\" xlink:href=\"#DejaVuSans-116\"/>\r\n      <use x=\"2718.554688\" xlink:href=\"#DejaVuSans-32\"/>\r\n      <use x=\"2750.341797\" xlink:href=\"#DejaVuSans-109\"/>\r\n      <use x=\"2847.753906\" xlink:href=\"#DejaVuSans-97\"/>\r\n      <use x=\"2909.033203\" xlink:href=\"#DejaVuSans-103\"/>\r\n      <use x=\"2972.509766\" xlink:href=\"#DejaVuSans-110\"/>\r\n      <use x=\"3035.888672\" xlink:href=\"#DejaVuSans-105\"/>\r\n      <use x=\"3063.671875\" xlink:href=\"#DejaVuSans-116\"/>\r\n      <use x=\"3102.880859\" xlink:href=\"#DejaVuSans-117\"/>\r\n      <use x=\"3166.259766\" xlink:href=\"#DejaVuSans-100\"/>\r\n      <use x=\"3229.736328\" xlink:href=\"#DejaVuSans-101\"/>\r\n      <use x=\"3291.259766\" xlink:href=\"#DejaVuSans-41\"/>\r\n     </g>\r\n    </g>\r\n   </g>\r\n   <g id=\"matplotlib.axis_2\">\r\n    <g id=\"ytick_1\">\r\n     <g id=\"text_7\">\r\n      <!-- is_Atelectasis_nan -->\r\n      <g style=\"fill:#333333;\" transform=\"translate(95.685313 350.335842)scale(0.13 -0.13)\">\r\n       <defs>\r\n        <path d=\"M 44.28125 53.078125 \r\nL 44.28125 44.578125 \r\nQ 40.484375 46.53125 36.375 47.5 \r\nQ 32.28125 48.484375 27.875 48.484375 \r\nQ 21.1875 48.484375 17.84375 46.4375 \r\nQ 14.5 44.390625 14.5 40.28125 \r\nQ 14.5 37.15625 16.890625 35.375 \r\nQ 19.28125 33.59375 26.515625 31.984375 \r\nL 29.59375 31.296875 \r\nQ 39.15625 29.25 43.1875 25.515625 \r\nQ 47.21875 21.78125 47.21875 15.09375 \r\nQ 47.21875 7.46875 41.1875 3.015625 \r\nQ 35.15625 -1.421875 24.609375 -1.421875 \r\nQ 20.21875 -1.421875 15.453125 -0.5625 \r\nQ 10.6875 0.296875 5.421875 2 \r\nL 5.421875 11.28125 \r\nQ 10.40625 8.6875 15.234375 7.390625 \r\nQ 20.0625 6.109375 24.8125 6.109375 \r\nQ 31.15625 6.109375 34.5625 8.28125 \r\nQ 37.984375 10.453125 37.984375 14.40625 \r\nQ 37.984375 18.0625 35.515625 20.015625 \r\nQ 33.0625 21.96875 24.703125 23.78125 \r\nL 21.578125 24.515625 \r\nQ 13.234375 26.265625 9.515625 29.90625 \r\nQ 5.8125 33.546875 5.8125 39.890625 \r\nQ 5.8125 47.609375 11.28125 51.796875 \r\nQ 16.75 56 26.8125 56 \r\nQ 31.78125 56 36.171875 55.265625 \r\nQ 40.578125 54.546875 44.28125 53.078125 \r\nz\r\n\" id=\"DejaVuSans-115\"/>\r\n        <path d=\"M 50.984375 -16.609375 \r\nL 50.984375 -23.578125 \r\nL -0.984375 -23.578125 \r\nL -0.984375 -16.609375 \r\nz\r\n\" id=\"DejaVuSans-95\"/>\r\n       </defs>\r\n       <use xlink:href=\"#DejaVuSans-105\"/>\r\n       <use x=\"27.783203\" xlink:href=\"#DejaVuSans-115\"/>\r\n       <use x=\"79.882812\" xlink:href=\"#DejaVuSans-95\"/>\r\n       <use x=\"129.882812\" xlink:href=\"#DejaVuSans-65\"/>\r\n       <use x=\"196.541016\" xlink:href=\"#DejaVuSans-116\"/>\r\n       <use x=\"235.75\" xlink:href=\"#DejaVuSans-101\"/>\r\n       <use x=\"297.273438\" xlink:href=\"#DejaVuSans-108\"/>\r\n       <use x=\"325.056641\" xlink:href=\"#DejaVuSans-101\"/>\r\n       <use x=\"386.580078\" xlink:href=\"#DejaVuSans-99\"/>\r\n       <use x=\"441.560547\" xlink:href=\"#DejaVuSans-116\"/>\r\n       <use x=\"480.769531\" xlink:href=\"#DejaVuSans-97\"/>\r\n       <use x=\"542.048828\" xlink:href=\"#DejaVuSans-115\"/>\r\n       <use x=\"594.148438\" xlink:href=\"#DejaVuSans-105\"/>\r\n       <use x=\"621.931641\" xlink:href=\"#DejaVuSans-115\"/>\r\n       <use x=\"674.03125\" xlink:href=\"#DejaVuSans-95\"/>\r\n       <use x=\"724.03125\" xlink:href=\"#DejaVuSans-110\"/>\r\n       <use x=\"787.410156\" xlink:href=\"#DejaVuSans-97\"/>\r\n       <use x=\"848.689453\" xlink:href=\"#DejaVuSans-110\"/>\r\n      </g>\r\n     </g>\r\n    </g>\r\n    <g id=\"ytick_2\">\r\n     <g id=\"text_8\">\r\n      <!-- is_calcification_nan -->\r\n      <g style=\"fill:#333333;\" transform=\"translate(88.734375 324.320699)scale(0.13 -0.13)\">\r\n       <defs>\r\n        <path d=\"M 37.109375 75.984375 \r\nL 37.109375 68.5 \r\nL 28.515625 68.5 \r\nQ 23.6875 68.5 21.796875 66.546875 \r\nQ 19.921875 64.59375 19.921875 59.515625 \r\nL 19.921875 54.6875 \r\nL 34.71875 54.6875 \r\nL 34.71875 47.703125 \r\nL 19.921875 47.703125 \r\nL 19.921875 0 \r\nL 10.890625 0 \r\nL 10.890625 47.703125 \r\nL 2.296875 47.703125 \r\nL 2.296875 54.6875 \r\nL 10.890625 54.6875 \r\nL 10.890625 58.5 \r\nQ 10.890625 67.625 15.140625 71.796875 \r\nQ 19.390625 75.984375 28.609375 75.984375 \r\nz\r\n\" id=\"DejaVuSans-102\"/>\r\n       </defs>\r\n       <use xlink:href=\"#DejaVuSans-105\"/>\r\n       <use x=\"27.783203\" xlink:href=\"#DejaVuSans-115\"/>\r\n       <use x=\"79.882812\" xlink:href=\"#DejaVuSans-95\"/>\r\n       <use x=\"129.882812\" xlink:href=\"#DejaVuSans-99\"/>\r\n       <use x=\"184.863281\" xlink:href=\"#DejaVuSans-97\"/>\r\n       <use x=\"246.142578\" xlink:href=\"#DejaVuSans-108\"/>\r\n       <use x=\"273.925781\" xlink:href=\"#DejaVuSans-99\"/>\r\n       <use x=\"328.90625\" xlink:href=\"#DejaVuSans-105\"/>\r\n       <use x=\"356.689453\" xlink:href=\"#DejaVuSans-102\"/>\r\n       <use x=\"391.894531\" xlink:href=\"#DejaVuSans-105\"/>\r\n       <use x=\"419.677734\" xlink:href=\"#DejaVuSans-99\"/>\r\n       <use x=\"474.658203\" xlink:href=\"#DejaVuSans-97\"/>\r\n       <use x=\"535.9375\" xlink:href=\"#DejaVuSans-116\"/>\r\n       <use x=\"575.146484\" xlink:href=\"#DejaVuSans-105\"/>\r\n       <use x=\"602.929688\" xlink:href=\"#DejaVuSans-111\"/>\r\n       <use x=\"664.111328\" xlink:href=\"#DejaVuSans-110\"/>\r\n       <use x=\"727.490234\" xlink:href=\"#DejaVuSans-95\"/>\r\n       <use x=\"777.490234\" xlink:href=\"#DejaVuSans-110\"/>\r\n       <use x=\"840.869141\" xlink:href=\"#DejaVuSans-97\"/>\r\n       <use x=\"902.148438\" xlink:href=\"#DejaVuSans-110\"/>\r\n      </g>\r\n     </g>\r\n    </g>\r\n    <g id=\"ytick_3\">\r\n     <g id=\"text_9\">\r\n      <!-- is_Atelectasis_0.0 -->\r\n      <g style=\"fill:#333333;\" transform=\"translate(99.455313 298.305556)scale(0.13 -0.13)\">\r\n       <use xlink:href=\"#DejaVuSans-105\"/>\r\n       <use x=\"27.783203\" xlink:href=\"#DejaVuSans-115\"/>\r\n       <use x=\"79.882812\" xlink:href=\"#DejaVuSans-95\"/>\r\n       <use x=\"129.882812\" xlink:href=\"#DejaVuSans-65\"/>\r\n       <use x=\"196.541016\" xlink:href=\"#DejaVuSans-116\"/>\r\n       <use x=\"235.75\" xlink:href=\"#DejaVuSans-101\"/>\r\n       <use x=\"297.273438\" xlink:href=\"#DejaVuSans-108\"/>\r\n       <use x=\"325.056641\" xlink:href=\"#DejaVuSans-101\"/>\r\n       <use x=\"386.580078\" xlink:href=\"#DejaVuSans-99\"/>\r\n       <use x=\"441.560547\" xlink:href=\"#DejaVuSans-116\"/>\r\n       <use x=\"480.769531\" xlink:href=\"#DejaVuSans-97\"/>\r\n       <use x=\"542.048828\" xlink:href=\"#DejaVuSans-115\"/>\r\n       <use x=\"594.148438\" xlink:href=\"#DejaVuSans-105\"/>\r\n       <use x=\"621.931641\" xlink:href=\"#DejaVuSans-115\"/>\r\n       <use x=\"674.03125\" xlink:href=\"#DejaVuSans-95\"/>\r\n       <use x=\"724.03125\" xlink:href=\"#DejaVuSans-48\"/>\r\n       <use x=\"787.654297\" xlink:href=\"#DejaVuSans-46\"/>\r\n       <use x=\"819.441406\" xlink:href=\"#DejaVuSans-48\"/>\r\n      </g>\r\n     </g>\r\n    </g>\r\n    <g id=\"ytick_4\">\r\n     <g id=\"text_10\">\r\n      <!-- Carotid_calcification -->\r\n      <g style=\"fill:#333333;\" transform=\"translate(83.050938 272.290413)scale(0.13 -0.13)\">\r\n       <defs>\r\n        <path d=\"M 64.40625 67.28125 \r\nL 64.40625 56.890625 \r\nQ 59.421875 61.53125 53.78125 63.8125 \r\nQ 48.140625 66.109375 41.796875 66.109375 \r\nQ 29.296875 66.109375 22.65625 58.46875 \r\nQ 16.015625 50.828125 16.015625 36.375 \r\nQ 16.015625 21.96875 22.65625 14.328125 \r\nQ 29.296875 6.6875 41.796875 6.6875 \r\nQ 48.140625 6.6875 53.78125 8.984375 \r\nQ 59.421875 11.28125 64.40625 15.921875 \r\nL 64.40625 5.609375 \r\nQ 59.234375 2.09375 53.4375 0.328125 \r\nQ 47.65625 -1.421875 41.21875 -1.421875 \r\nQ 24.65625 -1.421875 15.125 8.703125 \r\nQ 5.609375 18.84375 5.609375 36.375 \r\nQ 5.609375 53.953125 15.125 64.078125 \r\nQ 24.65625 74.21875 41.21875 74.21875 \r\nQ 47.75 74.21875 53.53125 72.484375 \r\nQ 59.328125 70.75 64.40625 67.28125 \r\nz\r\n\" id=\"DejaVuSans-67\"/>\r\n       </defs>\r\n       <use xlink:href=\"#DejaVuSans-67\"/>\r\n       <use x=\"69.824219\" xlink:href=\"#DejaVuSans-97\"/>\r\n       <use x=\"131.103516\" xlink:href=\"#DejaVuSans-114\"/>\r\n       <use x=\"169.966797\" xlink:href=\"#DejaVuSans-111\"/>\r\n       <use x=\"231.148438\" xlink:href=\"#DejaVuSans-116\"/>\r\n       <use x=\"270.357422\" xlink:href=\"#DejaVuSans-105\"/>\r\n       <use x=\"298.140625\" xlink:href=\"#DejaVuSans-100\"/>\r\n       <use x=\"361.617188\" xlink:href=\"#DejaVuSans-95\"/>\r\n       <use x=\"411.617188\" xlink:href=\"#DejaVuSans-99\"/>\r\n       <use x=\"466.597656\" xlink:href=\"#DejaVuSans-97\"/>\r\n       <use x=\"527.876953\" xlink:href=\"#DejaVuSans-108\"/>\r\n       <use x=\"555.660156\" xlink:href=\"#DejaVuSans-99\"/>\r\n       <use x=\"610.640625\" xlink:href=\"#DejaVuSans-105\"/>\r\n       <use x=\"638.423828\" xlink:href=\"#DejaVuSans-102\"/>\r\n       <use x=\"673.628906\" xlink:href=\"#DejaVuSans-105\"/>\r\n       <use x=\"701.412109\" xlink:href=\"#DejaVuSans-99\"/>\r\n       <use x=\"756.392578\" xlink:href=\"#DejaVuSans-97\"/>\r\n       <use x=\"817.671875\" xlink:href=\"#DejaVuSans-116\"/>\r\n       <use x=\"856.880859\" xlink:href=\"#DejaVuSans-105\"/>\r\n       <use x=\"884.664062\" xlink:href=\"#DejaVuSans-111\"/>\r\n       <use x=\"945.845703\" xlink:href=\"#DejaVuSans-110\"/>\r\n      </g>\r\n     </g>\r\n    </g>\r\n    <g id=\"ytick_5\">\r\n     <g id=\"text_11\">\r\n      <!-- is_calcification_1.0 -->\r\n      <g style=\"fill:#333333;\" transform=\"translate(92.504375 246.27527)scale(0.13 -0.13)\">\r\n       <use xlink:href=\"#DejaVuSans-105\"/>\r\n       <use x=\"27.783203\" xlink:href=\"#DejaVuSans-115\"/>\r\n       <use x=\"79.882812\" xlink:href=\"#DejaVuSans-95\"/>\r\n       <use x=\"129.882812\" xlink:href=\"#DejaVuSans-99\"/>\r\n       <use x=\"184.863281\" xlink:href=\"#DejaVuSans-97\"/>\r\n       <use x=\"246.142578\" xlink:href=\"#DejaVuSans-108\"/>\r\n       <use x=\"273.925781\" xlink:href=\"#DejaVuSans-99\"/>\r\n       <use x=\"328.90625\" xlink:href=\"#DejaVuSans-105\"/>\r\n       <use x=\"356.689453\" xlink:href=\"#DejaVuSans-102\"/>\r\n       <use x=\"391.894531\" xlink:href=\"#DejaVuSans-105\"/>\r\n       <use x=\"419.677734\" xlink:href=\"#DejaVuSans-99\"/>\r\n       <use x=\"474.658203\" xlink:href=\"#DejaVuSans-97\"/>\r\n       <use x=\"535.9375\" xlink:href=\"#DejaVuSans-116\"/>\r\n       <use x=\"575.146484\" xlink:href=\"#DejaVuSans-105\"/>\r\n       <use x=\"602.929688\" xlink:href=\"#DejaVuSans-111\"/>\r\n       <use x=\"664.111328\" xlink:href=\"#DejaVuSans-110\"/>\r\n       <use x=\"727.490234\" xlink:href=\"#DejaVuSans-95\"/>\r\n       <use x=\"777.490234\" xlink:href=\"#DejaVuSans-49\"/>\r\n       <use x=\"841.113281\" xlink:href=\"#DejaVuSans-46\"/>\r\n       <use x=\"872.900391\" xlink:href=\"#DejaVuSans-48\"/>\r\n      </g>\r\n     </g>\r\n    </g>\r\n    <g id=\"ytick_6\">\r\n     <g id=\"text_12\">\r\n      <!-- is_Atelectasis_1.0 -->\r\n      <g style=\"fill:#333333;\" transform=\"translate(99.455313 220.260127)scale(0.13 -0.13)\">\r\n       <use xlink:href=\"#DejaVuSans-105\"/>\r\n       <use x=\"27.783203\" xlink:href=\"#DejaVuSans-115\"/>\r\n       <use x=\"79.882812\" xlink:href=\"#DejaVuSans-95\"/>\r\n       <use x=\"129.882812\" xlink:href=\"#DejaVuSans-65\"/>\r\n       <use x=\"196.541016\" xlink:href=\"#DejaVuSans-116\"/>\r\n       <use x=\"235.75\" xlink:href=\"#DejaVuSans-101\"/>\r\n       <use x=\"297.273438\" xlink:href=\"#DejaVuSans-108\"/>\r\n       <use x=\"325.056641\" xlink:href=\"#DejaVuSans-101\"/>\r\n       <use x=\"386.580078\" xlink:href=\"#DejaVuSans-99\"/>\r\n       <use x=\"441.560547\" xlink:href=\"#DejaVuSans-116\"/>\r\n       <use x=\"480.769531\" xlink:href=\"#DejaVuSans-97\"/>\r\n       <use x=\"542.048828\" xlink:href=\"#DejaVuSans-115\"/>\r\n       <use x=\"594.148438\" xlink:href=\"#DejaVuSans-105\"/>\r\n       <use x=\"621.931641\" xlink:href=\"#DejaVuSans-115\"/>\r\n       <use x=\"674.03125\" xlink:href=\"#DejaVuSans-95\"/>\r\n       <use x=\"724.03125\" xlink:href=\"#DejaVuSans-49\"/>\r\n       <use x=\"787.654297\" xlink:href=\"#DejaVuSans-46\"/>\r\n       <use x=\"819.441406\" xlink:href=\"#DejaVuSans-48\"/>\r\n      </g>\r\n     </g>\r\n    </g>\r\n    <g id=\"ytick_7\">\r\n     <g id=\"text_13\">\r\n      <!-- is_calcification_0.0 -->\r\n      <g style=\"fill:#333333;\" transform=\"translate(92.504375 194.244984)scale(0.13 -0.13)\">\r\n       <use xlink:href=\"#DejaVuSans-105\"/>\r\n       <use x=\"27.783203\" xlink:href=\"#DejaVuSans-115\"/>\r\n       <use x=\"79.882812\" xlink:href=\"#DejaVuSans-95\"/>\r\n       <use x=\"129.882812\" xlink:href=\"#DejaVuSans-99\"/>\r\n       <use x=\"184.863281\" xlink:href=\"#DejaVuSans-97\"/>\r\n       <use x=\"246.142578\" xlink:href=\"#DejaVuSans-108\"/>\r\n       <use x=\"273.925781\" xlink:href=\"#DejaVuSans-99\"/>\r\n       <use x=\"328.90625\" xlink:href=\"#DejaVuSans-105\"/>\r\n       <use x=\"356.689453\" xlink:href=\"#DejaVuSans-102\"/>\r\n       <use x=\"391.894531\" xlink:href=\"#DejaVuSans-105\"/>\r\n       <use x=\"419.677734\" xlink:href=\"#DejaVuSans-99\"/>\r\n       <use x=\"474.658203\" xlink:href=\"#DejaVuSans-97\"/>\r\n       <use x=\"535.9375\" xlink:href=\"#DejaVuSans-116\"/>\r\n       <use x=\"575.146484\" xlink:href=\"#DejaVuSans-105\"/>\r\n       <use x=\"602.929688\" xlink:href=\"#DejaVuSans-111\"/>\r\n       <use x=\"664.111328\" xlink:href=\"#DejaVuSans-110\"/>\r\n       <use x=\"727.490234\" xlink:href=\"#DejaVuSans-95\"/>\r\n       <use x=\"777.490234\" xlink:href=\"#DejaVuSans-48\"/>\r\n       <use x=\"841.113281\" xlink:href=\"#DejaVuSans-46\"/>\r\n       <use x=\"872.900391\" xlink:href=\"#DejaVuSans-48\"/>\r\n      </g>\r\n     </g>\r\n    </g>\r\n    <g id=\"ytick_8\">\r\n     <g id=\"text_14\">\r\n      <!-- final_volume_sum -->\r\n      <g style=\"fill:#333333;\" transform=\"translate(97.411875 168.229842)scale(0.13 -0.13)\">\r\n       <use xlink:href=\"#DejaVuSans-102\"/>\r\n       <use x=\"35.205078\" xlink:href=\"#DejaVuSans-105\"/>\r\n       <use x=\"62.988281\" xlink:href=\"#DejaVuSans-110\"/>\r\n       <use x=\"126.367188\" xlink:href=\"#DejaVuSans-97\"/>\r\n       <use x=\"187.646484\" xlink:href=\"#DejaVuSans-108\"/>\r\n       <use x=\"215.429688\" xlink:href=\"#DejaVuSans-95\"/>\r\n       <use x=\"265.429688\" xlink:href=\"#DejaVuSans-118\"/>\r\n       <use x=\"324.609375\" xlink:href=\"#DejaVuSans-111\"/>\r\n       <use x=\"385.791016\" xlink:href=\"#DejaVuSans-108\"/>\r\n       <use x=\"413.574219\" xlink:href=\"#DejaVuSans-117\"/>\r\n       <use x=\"476.953125\" xlink:href=\"#DejaVuSans-109\"/>\r\n       <use x=\"574.365234\" xlink:href=\"#DejaVuSans-101\"/>\r\n       <use x=\"635.888672\" xlink:href=\"#DejaVuSans-95\"/>\r\n       <use x=\"685.888672\" xlink:href=\"#DejaVuSans-115\"/>\r\n       <use x=\"737.988281\" xlink:href=\"#DejaVuSans-117\"/>\r\n       <use x=\"801.367188\" xlink:href=\"#DejaVuSans-109\"/>\r\n      </g>\r\n     </g>\r\n    </g>\r\n    <g id=\"ytick_9\">\r\n     <g id=\"text_15\">\r\n      <!-- init_volume_sum -->\r\n      <g style=\"fill:#333333;\" transform=\"translate(104.858438 142.214699)scale(0.13 -0.13)\">\r\n       <use xlink:href=\"#DejaVuSans-105\"/>\r\n       <use x=\"27.783203\" xlink:href=\"#DejaVuSans-110\"/>\r\n       <use x=\"91.162109\" xlink:href=\"#DejaVuSans-105\"/>\r\n       <use x=\"118.945312\" xlink:href=\"#DejaVuSans-116\"/>\r\n       <use x=\"158.154297\" xlink:href=\"#DejaVuSans-95\"/>\r\n       <use x=\"208.154297\" xlink:href=\"#DejaVuSans-118\"/>\r\n       <use x=\"267.333984\" xlink:href=\"#DejaVuSans-111\"/>\r\n       <use x=\"328.515625\" xlink:href=\"#DejaVuSans-108\"/>\r\n       <use x=\"356.298828\" xlink:href=\"#DejaVuSans-117\"/>\r\n       <use x=\"419.677734\" xlink:href=\"#DejaVuSans-109\"/>\r\n       <use x=\"517.089844\" xlink:href=\"#DejaVuSans-101\"/>\r\n       <use x=\"578.613281\" xlink:href=\"#DejaVuSans-95\"/>\r\n       <use x=\"628.613281\" xlink:href=\"#DejaVuSans-115\"/>\r\n       <use x=\"680.712891\" xlink:href=\"#DejaVuSans-117\"/>\r\n       <use x=\"744.091797\" xlink:href=\"#DejaVuSans-109\"/>\r\n      </g>\r\n     </g>\r\n    </g>\r\n    <g id=\"ytick_10\">\r\n     <g id=\"text_16\">\r\n      <!-- inferiorVenaCavaShortDiameter -->\r\n      <g style=\"fill:#333333;\" transform=\"translate(7.2 116.199556)scale(0.13 -0.13)\">\r\n       <defs>\r\n        <path d=\"M 28.609375 0 \r\nL 0.78125 72.90625 \r\nL 11.078125 72.90625 \r\nL 34.1875 11.53125 \r\nL 57.328125 72.90625 \r\nL 67.578125 72.90625 \r\nL 39.796875 0 \r\nz\r\n\" id=\"DejaVuSans-86\"/>\r\n        <path d=\"M 54.890625 33.015625 \r\nL 54.890625 0 \r\nL 45.90625 0 \r\nL 45.90625 32.71875 \r\nQ 45.90625 40.484375 42.875 44.328125 \r\nQ 39.84375 48.1875 33.796875 48.1875 \r\nQ 26.515625 48.1875 22.3125 43.546875 \r\nQ 18.109375 38.921875 18.109375 30.90625 \r\nL 18.109375 0 \r\nL 9.078125 0 \r\nL 9.078125 75.984375 \r\nL 18.109375 75.984375 \r\nL 18.109375 46.1875 \r\nQ 21.34375 51.125 25.703125 53.5625 \r\nQ 30.078125 56 35.796875 56 \r\nQ 45.21875 56 50.046875 50.171875 \r\nQ 54.890625 44.34375 54.890625 33.015625 \r\nz\r\n\" id=\"DejaVuSans-104\"/>\r\n        <path d=\"M 19.671875 64.796875 \r\nL 19.671875 8.109375 \r\nL 31.59375 8.109375 \r\nQ 46.6875 8.109375 53.6875 14.9375 \r\nQ 60.6875 21.78125 60.6875 36.53125 \r\nQ 60.6875 51.171875 53.6875 57.984375 \r\nQ 46.6875 64.796875 31.59375 64.796875 \r\nz\r\nM 9.8125 72.90625 \r\nL 30.078125 72.90625 \r\nQ 51.265625 72.90625 61.171875 64.09375 \r\nQ 71.09375 55.28125 71.09375 36.53125 \r\nQ 71.09375 17.671875 61.125 8.828125 \r\nQ 51.171875 0 30.078125 0 \r\nL 9.8125 0 \r\nz\r\n\" id=\"DejaVuSans-68\"/>\r\n       </defs>\r\n       <use xlink:href=\"#DejaVuSans-105\"/>\r\n       <use x=\"27.783203\" xlink:href=\"#DejaVuSans-110\"/>\r\n       <use x=\"91.162109\" xlink:href=\"#DejaVuSans-102\"/>\r\n       <use x=\"126.367188\" xlink:href=\"#DejaVuSans-101\"/>\r\n       <use x=\"187.890625\" xlink:href=\"#DejaVuSans-114\"/>\r\n       <use x=\"229.003906\" xlink:href=\"#DejaVuSans-105\"/>\r\n       <use x=\"256.787109\" xlink:href=\"#DejaVuSans-111\"/>\r\n       <use x=\"317.96875\" xlink:href=\"#DejaVuSans-114\"/>\r\n       <use x=\"359.082031\" xlink:href=\"#DejaVuSans-86\"/>\r\n       <use x=\"419.740234\" xlink:href=\"#DejaVuSans-101\"/>\r\n       <use x=\"481.263672\" xlink:href=\"#DejaVuSans-110\"/>\r\n       <use x=\"544.642578\" xlink:href=\"#DejaVuSans-97\"/>\r\n       <use x=\"605.921875\" xlink:href=\"#DejaVuSans-67\"/>\r\n       <use x=\"675.746094\" xlink:href=\"#DejaVuSans-97\"/>\r\n       <use x=\"737.025391\" xlink:href=\"#DejaVuSans-118\"/>\r\n       <use x=\"796.205078\" xlink:href=\"#DejaVuSans-97\"/>\r\n       <use x=\"857.484375\" xlink:href=\"#DejaVuSans-83\"/>\r\n       <use x=\"920.960938\" xlink:href=\"#DejaVuSans-104\"/>\r\n       <use x=\"984.339844\" xlink:href=\"#DejaVuSans-111\"/>\r\n       <use x=\"1045.521484\" xlink:href=\"#DejaVuSans-114\"/>\r\n       <use x=\"1086.634766\" xlink:href=\"#DejaVuSans-116\"/>\r\n       <use x=\"1125.84375\" xlink:href=\"#DejaVuSans-68\"/>\r\n       <use x=\"1202.845703\" xlink:href=\"#DejaVuSans-105\"/>\r\n       <use x=\"1230.628906\" xlink:href=\"#DejaVuSans-97\"/>\r\n       <use x=\"1291.908203\" xlink:href=\"#DejaVuSans-109\"/>\r\n       <use x=\"1389.320312\" xlink:href=\"#DejaVuSans-101\"/>\r\n       <use x=\"1450.84375\" xlink:href=\"#DejaVuSans-116\"/>\r\n       <use x=\"1490.052734\" xlink:href=\"#DejaVuSans-101\"/>\r\n       <use x=\"1551.576172\" xlink:href=\"#DejaVuSans-114\"/>\r\n      </g>\r\n     </g>\r\n    </g>\r\n    <g id=\"ytick_11\">\r\n     <g id=\"text_17\">\r\n      <!-- rate1 -->\r\n      <g style=\"fill:#333333;\" transform=\"translate(179.573906 90.184413)scale(0.13 -0.13)\">\r\n       <use xlink:href=\"#DejaVuSans-114\"/>\r\n       <use x=\"41.113281\" xlink:href=\"#DejaVuSans-97\"/>\r\n       <use x=\"102.392578\" xlink:href=\"#DejaVuSans-116\"/>\r\n       <use x=\"141.601562\" xlink:href=\"#DejaVuSans-101\"/>\r\n       <use x=\"203.125\" xlink:href=\"#DejaVuSans-49\"/>\r\n      </g>\r\n     </g>\r\n    </g>\r\n    <g id=\"ytick_12\">\r\n     <g id=\"text_18\">\r\n      <!-- cardiothoracic_ratio -->\r\n      <g style=\"fill:#333333;\" transform=\"translate(85.220313 64.16927)scale(0.13 -0.13)\">\r\n       <use xlink:href=\"#DejaVuSans-99\"/>\r\n       <use x=\"54.980469\" xlink:href=\"#DejaVuSans-97\"/>\r\n       <use x=\"116.259766\" xlink:href=\"#DejaVuSans-114\"/>\r\n       <use x=\"155.623047\" xlink:href=\"#DejaVuSans-100\"/>\r\n       <use x=\"219.099609\" xlink:href=\"#DejaVuSans-105\"/>\r\n       <use x=\"246.882812\" xlink:href=\"#DejaVuSans-111\"/>\r\n       <use x=\"308.064453\" xlink:href=\"#DejaVuSans-116\"/>\r\n       <use x=\"347.273438\" xlink:href=\"#DejaVuSans-104\"/>\r\n       <use x=\"410.652344\" xlink:href=\"#DejaVuSans-111\"/>\r\n       <use x=\"471.833984\" xlink:href=\"#DejaVuSans-114\"/>\r\n       <use x=\"512.947266\" xlink:href=\"#DejaVuSans-97\"/>\r\n       <use x=\"574.226562\" xlink:href=\"#DejaVuSans-99\"/>\r\n       <use x=\"629.207031\" xlink:href=\"#DejaVuSans-105\"/>\r\n       <use x=\"656.990234\" xlink:href=\"#DejaVuSans-99\"/>\r\n       <use x=\"711.970703\" xlink:href=\"#DejaVuSans-95\"/>\r\n       <use x=\"761.970703\" xlink:href=\"#DejaVuSans-114\"/>\r\n       <use x=\"803.083984\" xlink:href=\"#DejaVuSans-97\"/>\r\n       <use x=\"864.363281\" xlink:href=\"#DejaVuSans-116\"/>\r\n       <use x=\"903.572266\" xlink:href=\"#DejaVuSans-105\"/>\r\n       <use x=\"931.355469\" xlink:href=\"#DejaVuSans-111\"/>\r\n      </g>\r\n     </g>\r\n    </g>\r\n    <g id=\"ytick_13\">\r\n     <g id=\"text_19\">\r\n      <!-- T12_BMD -->\r\n      <g style=\"fill:#333333;\" transform=\"translate(153.122969 38.039362)scale(0.13 -0.13)\">\r\n       <defs>\r\n        <path d=\"M -0.296875 72.90625 \r\nL 61.375 72.90625 \r\nL 61.375 64.59375 \r\nL 35.5 64.59375 \r\nL 35.5 0 \r\nL 25.59375 0 \r\nL 25.59375 64.59375 \r\nL -0.296875 64.59375 \r\nz\r\n\" id=\"DejaVuSans-84\"/>\r\n        <path d=\"M 19.671875 34.8125 \r\nL 19.671875 8.109375 \r\nL 35.5 8.109375 \r\nQ 43.453125 8.109375 47.28125 11.40625 \r\nQ 51.125 14.703125 51.125 21.484375 \r\nQ 51.125 28.328125 47.28125 31.5625 \r\nQ 43.453125 34.8125 35.5 34.8125 \r\nz\r\nM 19.671875 64.796875 \r\nL 19.671875 42.828125 \r\nL 34.28125 42.828125 \r\nQ 41.5 42.828125 45.03125 45.53125 \r\nQ 48.578125 48.25 48.578125 53.8125 \r\nQ 48.578125 59.328125 45.03125 62.0625 \r\nQ 41.5 64.796875 34.28125 64.796875 \r\nz\r\nM 9.8125 72.90625 \r\nL 35.015625 72.90625 \r\nQ 46.296875 72.90625 52.390625 68.21875 \r\nQ 58.5 63.53125 58.5 54.890625 \r\nQ 58.5 48.1875 55.375 44.234375 \r\nQ 52.25 40.28125 46.1875 39.3125 \r\nQ 53.46875 37.75 57.5 32.78125 \r\nQ 61.53125 27.828125 61.53125 20.40625 \r\nQ 61.53125 10.640625 54.890625 5.3125 \r\nQ 48.25 0 35.984375 0 \r\nL 9.8125 0 \r\nz\r\n\" id=\"DejaVuSans-66\"/>\r\n        <path d=\"M 9.8125 72.90625 \r\nL 24.515625 72.90625 \r\nL 43.109375 23.296875 \r\nL 61.8125 72.90625 \r\nL 76.515625 72.90625 \r\nL 76.515625 0 \r\nL 66.890625 0 \r\nL 66.890625 64.015625 \r\nL 48.09375 14.015625 \r\nL 38.1875 14.015625 \r\nL 19.390625 64.015625 \r\nL 19.390625 0 \r\nL 9.8125 0 \r\nz\r\n\" id=\"DejaVuSans-77\"/>\r\n       </defs>\r\n       <use xlink:href=\"#DejaVuSans-84\"/>\r\n       <use x=\"61.083984\" xlink:href=\"#DejaVuSans-49\"/>\r\n       <use x=\"124.707031\" xlink:href=\"#DejaVuSans-50\"/>\r\n       <use x=\"188.330078\" xlink:href=\"#DejaVuSans-95\"/>\r\n       <use x=\"238.330078\" xlink:href=\"#DejaVuSans-66\"/>\r\n       <use x=\"306.933594\" xlink:href=\"#DejaVuSans-77\"/>\r\n       <use x=\"393.212891\" xlink:href=\"#DejaVuSans-68\"/>\r\n      </g>\r\n     </g>\r\n    </g>\r\n   </g>\r\n   <g id=\"patch_16\">\r\n    <path d=\"M 221.251406 371.412 \r\nL 667.651406 371.412 \r\n\" style=\"fill:none;stroke:#000000;stroke-linecap:square;stroke-linejoin:miter;stroke-width:0.8;\"/>\r\n   </g>\r\n  </g>\r\n </g>\r\n <defs>\r\n  <clipPath id=\"pca04448e51\">\r\n   <rect height=\"364.212\" width=\"446.4\" x=\"221.251406\" y=\"7.2\"/>\r\n  </clipPath>\r\n </defs>\r\n</svg>\r\n",
            "text/plain": [
              "<Figure size 576x482.4 with 1 Axes>"
            ]
          },
          "metadata": {
            "needs_background": "light"
          },
          "output_type": "display_data"
        }
      ],
      "source": [
        "# import shap\n",
        "\n",
        "# explainer = shap.DeepExplainer(model, shap_train_features)\n",
        "# shap_values = explainer.shap_values(shap_test_features)\n",
        "# shap.summary_plot(shap_values, shap_test_features, plot_type='bar')\n",
        "\n",
        "\n",
        "import shap\n",
        "\n",
        "explainer = shap.DeepExplainer(model, torch.from_numpy(shap_train_features).float())\n",
        "shap_values = explainer.shap_values(torch.from_numpy(shap_test_features).float())\n",
        "shap.summary_plot(shap_values, origin_shap_test_features, plot_type='bar')"
      ]
    },
    {
      "cell_type": "markdown",
      "id": "2951247d",
      "metadata": {
        "id": "2951247d",
        "origin_pos": 48
      },
      "source": [
        "接下来，如 :numref:`fig_kaggle_submit2`中所示，\n",
        "我们可以提交预测到Kaggle上，并查看在测试集上的预测与实际房价（标签）的比较情况。\n",
        "步骤非常简单：\n",
        "\n",
        "* 登录Kaggle网站，访问房价预测竞赛页面。\n",
        "* 点击“Submit Predictions”或“Late Submission”按钮（在撰写本文时，该按钮位于右侧）。\n",
        "* 点击页面底部虚线框中的“Upload Submission File”按钮，选择你要上传的预测文件。\n",
        "* 点击页面底部的“Make Submission”按钮，即可查看你的结果。\n",
        "\n",
        "![向Kaggle提交数据](https://github.com/d2l-ai/d2l-zh-pytorch-colab/blob/master/img/kaggle-submit2.png?raw=1)\n",
        ":width:`400px`\n",
        ":label:`fig_kaggle_submit2`\n",
        "\n",
        "## 小结\n",
        "\n",
        "* 真实数据通常混合了不同的数据类型，需要进行预处理。\n",
        "* 常用的预处理方法：将实值数据重新缩放为零均值和单位方法；用均值替换缺失值。\n",
        "* 将类别特征转化为指标特征，可以使我们把这个特征当作一个独热向量来对待。\n",
        "* 我们可以使用$K$折交叉验证来选择模型并调整超参数。\n",
        "* 对数对于相对误差很有用。\n",
        "\n",
        "## 练习\n",
        "\n",
        "1. 把你的预测提交给Kaggle，它有多好？\n",
        "1. 你能通过直接最小化价格的对数来改进你的模型吗？如果你试图预测价格的对数而不是价格，会发生什么？\n",
        "1. 用平均值替换缺失值总是好主意吗？提示：你能构造一个不随机丢失值的情况吗？\n",
        "1. 通过$K$折交叉验证调整超参数，从而提高Kaggle的得分。\n",
        "1. 通过改进模型（例如，层、权重衰减和dropout）来提高分数。\n",
        "1. 如果我们没有像本节所做的那样标准化连续的数值特征，会发生什么？\n"
      ]
    },
    {
      "cell_type": "markdown",
      "id": "fa091bce",
      "metadata": {
        "id": "fa091bce",
        "origin_pos": 50,
        "tab": [
          "pytorch"
        ]
      },
      "source": [
        "[Discussions](https://discuss.d2l.ai/t/1824)\n"
      ]
    }
  ],
  "metadata": {
    "colab": {
      "provenance": []
    },
    "kernelspec": {
      "display_name": "Python 3.6.13 ('bilitorch')",
      "language": "python",
      "name": "python3"
    },
    "language_info": {
      "codemirror_mode": {
        "name": "ipython",
        "version": 3
      },
      "file_extension": ".py",
      "mimetype": "text/x-python",
      "name": "python",
      "nbconvert_exporter": "python",
      "pygments_lexer": "ipython3",
      "version": "3.6.13"
    },
    "vscode": {
      "interpreter": {
        "hash": "557cc881288740aa094b77261477a45d9329eaf2c1519f0f9a24066320bb748e"
      }
    }
  },
  "nbformat": 4,
  "nbformat_minor": 5
}
