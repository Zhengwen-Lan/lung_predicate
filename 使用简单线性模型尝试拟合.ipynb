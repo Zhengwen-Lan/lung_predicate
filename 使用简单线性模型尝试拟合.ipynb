{
  "cells": [
    {
      "cell_type": "markdown",
      "metadata": {
        "id": "view-in-github",
        "colab_type": "text"
      },
      "source": [
        "<a href=\"https://colab.research.google.com/github/Zhengwen-Lan/lung_predicate/blob/master/%E4%BD%BF%E7%94%A8%E7%AE%80%E5%8D%95%E7%BA%BF%E6%80%A7%E6%A8%A1%E5%9E%8B%E5%B0%9D%E8%AF%95%E6%8B%9F%E5%90%88.ipynb\" target=\"_parent\"><img src=\"https://colab.research.google.com/assets/colab-badge.svg\" alt=\"Open In Colab\"/></a>"
      ]
    },
    {
      "cell_type": "markdown",
      "metadata": {
        "id": "guE34D3Fj2R9"
      },
      "source": [
        "# **Homework 1: COVID-19 Cases Prediction (Regression)**"
      ]
    },
    {
      "cell_type": "markdown",
      "metadata": {
        "id": "V57zhcTp1Xxb"
      },
      "source": [
        "Objectives:\n",
        "* Solve a regression problem with deep neural networks (DNN).\n",
        "* Understand basic DNN training tips.\n",
        "* Familiarize yourself with PyTorch.\n",
        "\n",
        "If you have any questions, please contact the TAs via TA hours, NTU COOL, or email to mlta-2022-spring@googlegroups.com"
      ]
    },
    {
      "cell_type": "markdown",
      "metadata": {
        "id": "Tm2aXcb-j9Fc"
      },
      "source": [
        "# Download data\n",
        "If the Google Drive links below do not work, you can download data from [Kaggle](https://www.kaggle.com/c/ml2022spring-hw1/data), and upload data manually to the workspace."
      ]
    },
    {
      "cell_type": "markdown",
      "metadata": {
        "id": "YPmfl-awlKZA",
        "outputId": "71e77d1b-5543-4b3e-dc70-604bd7952f2b"
      },
      "source": [
        "!gdown --id '1kLSW_-cW2Huj7bh84YTdimGBOJaODiOS' --output covid.train.csv\n",
        "!gdown --id '1iiI5qROrAhZn-o4FPqsE97bMzDEFvIdg' --output covid.test.csv"
      ]
    },
    {
      "cell_type": "code",
      "source": [
        "!gdown --id '1kLSW_-cW2Huj7bh84YTdimGBOJaODiOS' --output covid.train.csv\n",
        "!gdown --id '1iiI5qROrAhZn-o4FPqsE97bMzDEFvIdg' --output covid.test.csv"
      ],
      "metadata": {
        "colab": {
          "base_uri": "https://localhost:8080/"
        },
        "id": "A6RC0pL76QxF",
        "outputId": "f351090f-603a-4203-d9bc-490918b351d1"
      },
      "execution_count": 1,
      "outputs": [
        {
          "output_type": "stream",
          "name": "stdout",
          "text": [
            "/usr/local/lib/python3.7/dist-packages/gdown/cli.py:131: FutureWarning: Option `--id` was deprecated in version 4.3.1 and will be removed in 5.0. You don't need to pass it anymore to use a file ID.\n",
            "  category=FutureWarning,\n",
            "Downloading...\n",
            "From: https://drive.google.com/uc?id=1kLSW_-cW2Huj7bh84YTdimGBOJaODiOS\n",
            "To: /content/covid.train.csv\n",
            "100% 2.49M/2.49M [00:00<00:00, 242MB/s]\n",
            "/usr/local/lib/python3.7/dist-packages/gdown/cli.py:131: FutureWarning: Option `--id` was deprecated in version 4.3.1 and will be removed in 5.0. You don't need to pass it anymore to use a file ID.\n",
            "  category=FutureWarning,\n",
            "Downloading...\n",
            "From: https://drive.google.com/uc?id=1iiI5qROrAhZn-o4FPqsE97bMzDEFvIdg\n",
            "To: /content/covid.test.csv\n",
            "100% 993k/993k [00:00<00:00, 113MB/s]\n"
          ]
        }
      ]
    },
    {
      "cell_type": "markdown",
      "metadata": {
        "id": "igqIMEgu64-F"
      },
      "source": [
        "# Import packages"
      ]
    },
    {
      "cell_type": "code",
      "execution_count": 2,
      "metadata": {
        "id": "xybQNYCXYu13"
      },
      "outputs": [],
      "source": [
        "# Numerical Operations\n",
        "import math\n",
        "import numpy as np\n",
        "\n",
        "# Reading/Writing Data\n",
        "import pandas as pd\n",
        "import os\n",
        "import csv\n",
        "\n",
        "# For Progress Bar\n",
        "from tqdm import tqdm\n",
        "\n",
        "# Pytorch\n",
        "import torch \n",
        "import torch.nn as nn\n",
        "from torch.utils.data import Dataset, DataLoader, random_split"
      ]
    },
    {
      "cell_type": "markdown",
      "metadata": {
        "id": "fTAVqRfc2KK3"
      },
      "source": [
        "# Some Utility Functions\n",
        "\n",
        "You do not need to modify this part."
      ]
    },
    {
      "cell_type": "code",
      "execution_count": 21,
      "metadata": {
        "id": "RbrcpfYN2I-H"
      },
      "outputs": [],
      "source": [
        "def same_seed(seed): \n",
        "    '''Fixes random number generator seeds for reproducibility.'''\n",
        "    torch.backends.cudnn.deterministic = True\n",
        "    torch.backends.cudnn.benchmark = False\n",
        "    np.random.seed(seed)\n",
        "    torch.manual_seed(seed)\n",
        "    if torch.cuda.is_available():\n",
        "        torch.cuda.manual_seed_all(seed)\n",
        "\n",
        "def train_valid_split(data_set, valid_ratio, seed):\n",
        "    '''Split provided training data into training set and validation set'''\n",
        "    valid_set_size = int(valid_ratio * len(data_set)) \n",
        "    train_set_size = len(data_set) - valid_set_size\n",
        "    train_set, valid_set = random_split(data_set, [train_set_size, valid_set_size],\n",
        "                                        generator=torch.Generator().manual_seed(seed))\n",
        "    return np.array(train_set), np.array(valid_set)\n",
        "\n",
        "def predict(test_loader, model, device):\n",
        "    model.eval() # Set your model to evaluation mode.\n",
        "    preds = []\n",
        "    true = []\n",
        "    for x,y in tqdm(test_loader):\n",
        "        x = x.to(device)\n",
        "        y = y.to(device)                        \n",
        "        with torch.no_grad():                   \n",
        "            pred = model(x)\n",
        "            true.append(y.detach().cpu())                     \n",
        "            preds.append(pred.detach().cpu())   \n",
        "    preds = torch.cat(preds, dim=0).numpy()\n",
        "    true = torch.cat(true, dim=0).numpy()  \n",
        "    return preds,true"
      ]
    },
    {
      "cell_type": "markdown",
      "metadata": {
        "id": "IqO3lTm78nNO"
      },
      "source": [
        "# Dataset"
      ]
    },
    {
      "cell_type": "code",
      "execution_count": 4,
      "metadata": {
        "id": "-mjaJM0wprMs"
      },
      "outputs": [],
      "source": [
        "class COVID19Dataset(Dataset):\n",
        "    '''\n",
        "    x: Features.\n",
        "    y: Targets, if none, do prediction.\n",
        "    '''\n",
        "    def __init__(self, x, y=None):\n",
        "        if y is None:\n",
        "            self.y = y\n",
        "        else:\n",
        "            self.y = torch.FloatTensor(y)\n",
        "        self.x = torch.FloatTensor(x)\n",
        "\n",
        "\n",
        "    def __getitem__(self, idx):\n",
        "        if self.y is None:\n",
        "            return self.x[idx]\n",
        "        else:\n",
        "            return self.x[idx], self.y[idx]\n",
        "\n",
        "    def __len__(self):\n",
        "        return len(self.x)"
      ]
    },
    {
      "cell_type": "markdown",
      "metadata": {
        "id": "m73ooU75CL_j"
      },
      "source": [
        "# Neural Network Model\n",
        "Try out different model architectures by modifying the class below."
      ]
    },
    {
      "cell_type": "code",
      "execution_count": 5,
      "metadata": {
        "id": "Qn97_WvvrEkG"
      },
      "outputs": [],
      "source": [
        "class My_Model(nn.Module):\n",
        "    def __init__(self, input_dim):\n",
        "        super(My_Model, self).__init__()\n",
        "        # TODO: modify model's structure, be aware of dimensions. \n",
        "        #input_dim is the num of features we selected\n",
        "        self.layers = nn.Sequential(\n",
        "            nn.Linear(input_dim, 64),\n",
        "            nn.LeakyReLU(0.2),\n",
        "            nn.BatchNorm1d(64),\n",
        "            nn.Dropout(0.2),\n",
        "            \n",
        "            nn.Linear(64, 16),\n",
        "            nn.LeakyReLU(0.2),\n",
        "            #nn.BatchNorm1d(10),\n",
        "            nn.Dropout(0.1),\n",
        "            \n",
        "            nn.Linear(16, 1)\n",
        "        )\n",
        "\n",
        "    def forward(self, x):\n",
        "        x = self.layers(x)\n",
        "        x = x.squeeze(1) # (B, 1) -> (B)\n",
        "        return x"
      ]
    },
    {
      "cell_type": "markdown",
      "metadata": {
        "id": "x5-LKF6R8xeq"
      },
      "source": [
        "# Feature Selection\n",
        "Choose features you deem useful by modifying the function below."
      ]
    },
    {
      "cell_type": "code",
      "execution_count": 6,
      "metadata": {
        "colab": {
          "base_uri": "https://localhost:8080/"
        },
        "id": "Sfw1GITP6Kp1",
        "outputId": "b88e9d3b-508e-48c2-fdcf-b0341a19744a"
      },
      "outputs": [
        {
          "output_type": "stream",
          "name": "stdout",
          "text": [
            "Top 24 Best feature score \n",
            "[12.54039316  9.18562733  8.74134264  8.20898027  7.04282     5.89698183\n",
            "  5.10828974  4.41529349  3.93214189  3.76961107  3.55097504  3.05184337\n",
            "  2.89367774  2.84456261  2.43850815  2.37889465  2.33181354  2.16927202\n",
            "  1.57379768  1.55879125  1.55829913  1.50623183  1.4923475   1.46844444]\n",
            "\n",
            "Top 24 Best feature index \n",
            "[23  1 46  0 13  8 28 24  4  9 30 45 27 10 18 43 44  5 22 16 42 26 25 41]\n",
            "\n",
            "Top 24 Best feature name\n",
            "Index(['cardiothoracic_ratio', 'init_volume_sum_per',\n",
            "       'degreeOfBoneHyperplasia', 'init_volume_sum', 'is_pleuralEffusion',\n",
            "       'degreeOfAlveolarConsolidation', 'AbdominalShortDiameterOfTheSameLayer',\n",
            "       'mainPulmonaryArtery', 'final_volume_sum_per', 'is_fibrotic_lesions',\n",
            "       'SpleenThicknessAndDiameter', 'T12_BMD',\n",
            "       'inferiorVenaCavaShortDiameter', 'is_noduleMass',\n",
            "       'LeftThyroidLobeDensity', 'T10_BMD', 'T11_BMD', 'final_avg_volume',\n",
            "       'Carotid_calcification', 'RightThyroidLobeDensity', 'T9_BMD', 'rate1',\n",
            "       'mainAscendingAorta', 'T8_BMD'],\n",
            "      dtype='object')\n",
            "[0, 1, 4, 5, 8, 9, 10, 13, 16, 18, 22, 23, 24, 25, 26, 27, 28, 30, 41, 42, 43, 44, 45, 46]\n",
            "Index(['init_volume_sum', 'init_volume_sum_per', 'final_volume_sum_per',\n",
            "       'final_avg_volume', 'degreeOfAlveolarConsolidation',\n",
            "       'is_fibrotic_lesions', 'is_noduleMass', 'is_pleuralEffusion',\n",
            "       'RightThyroidLobeDensity', 'LeftThyroidLobeDensity',\n",
            "       'Carotid_calcification', 'cardiothoracic_ratio', 'mainPulmonaryArtery',\n",
            "       'mainAscendingAorta', 'rate1', 'inferiorVenaCavaShortDiameter',\n",
            "       'AbdominalShortDiameterOfTheSameLayer', 'SpleenThicknessAndDiameter',\n",
            "       'T8_BMD', 'T9_BMD', 'T10_BMD', 'T11_BMD', 'T12_BMD',\n",
            "       'degreeOfBoneHyperplasia'],\n",
            "      dtype='object')\n"
          ]
        }
      ],
      "source": [
        "from sklearn.feature_selection import SelectKBest\n",
        "from sklearn.feature_selection import f_regression\n",
        "\n",
        "features = pd.read_csv('/content/train_unit3.csv')\n",
        "x_data, y_data = features.iloc[:, 0:-2], features.iloc[:, -2]\n",
        "\n",
        "#try choose your k best features\n",
        "k = 24\n",
        "selector = SelectKBest(score_func=f_regression, k=k)\n",
        "result = selector.fit(x_data, y_data)\n",
        "\n",
        "#result.scores_ inclues scores for each features\n",
        "#np.argsort sort scores in ascending order by index, we reverse it to make it descending.\n",
        "idx = np.argsort(result.scores_)[::-1]\n",
        "print(f'Top {k} Best feature score ')\n",
        "print(result.scores_[idx[:k]])\n",
        "\n",
        "print(f'\\nTop {k} Best feature index ')\n",
        "print(idx[:k])\n",
        "\n",
        "print(f'\\nTop {k} Best feature name')\n",
        "print(x_data.columns[idx[:k]])\n",
        "\n",
        "selected_idx = list(np.sort(idx[:k]))\n",
        "print(selected_idx)\n",
        "print(x_data.columns[selected_idx])"
      ]
    },
    {
      "cell_type": "code",
      "execution_count": 7,
      "metadata": {
        "id": "0FEnKRaIIeKp"
      },
      "outputs": [],
      "source": [
        "def select_feat(train_data, valid_data, test_data, select_all=True):\n",
        "    '''Selects useful features to perform regression'''\n",
        "    y_train, y_valid = train_data[:,-1], valid_data[:,-1]\n",
        "    raw_x_train, raw_x_valid, raw_x_test = train_data[:,:-2], valid_data[:,:-2], test_data[:,:-2]\n",
        "\n",
        "    if select_all:\n",
        "        feat_idx = list(range(raw_x_train.shape[1]))\n",
        "    else:\n",
        "        feat_idx = selected_idx\n",
        "        # TODO: Select suitable feature columns.\n",
        "        \n",
        "    return raw_x_train[:,feat_idx], raw_x_valid[:,feat_idx], raw_x_test[:,feat_idx], y_train, y_valid"
      ]
    },
    {
      "cell_type": "markdown",
      "metadata": {
        "id": "kADIPNQ2Ih5X"
      },
      "source": [
        "# Training Loop"
      ]
    },
    {
      "cell_type": "code",
      "execution_count": 8,
      "metadata": {
        "id": "k4Rq8_TztAhq"
      },
      "outputs": [],
      "source": [
        "def trainer(train_loader, valid_loader, model, config, device):\n",
        "\n",
        "    criterion = nn.MSELoss(reduction='mean') # Define your loss function, do not modify this.\n",
        "\n",
        "    # Define your optimization algorithm. \n",
        "    # TODO: Please check https://pytorch.org/docs/stable/optim.html to get more available algorithms.\n",
        "    # TODO: L2 regularization (optimizer(weight decay...) or implement by your self).\n",
        "    #optimizer = torch.optim.SGD(model.parameters(), lr=config['learning_rate'], momentum=0.9) \n",
        "    optimizer = torch.optim.Adam(model.parameters(), lr=config['learning_rate']*50,\n",
        "                                 weight_decay=1e-3)\n",
        "    scheduler = torch.optim.lr_scheduler.CosineAnnealingWarmRestarts(optimizer, \n",
        "                                        T_0=2, T_mult=2, eta_min=config['learning_rate'])\n",
        "\n",
        "    if not os.path.isdir('./models'):\n",
        "        os.mkdir('./models') # Create directory of saving models.\n",
        "\n",
        "    n_epochs, best_loss, step, early_stop_count = config['n_epochs'], math.inf, 0, 0\n",
        "    \n",
        "    train_losses = []\n",
        "    val_losses = []\n",
        "\n",
        "    for epoch in range(n_epochs):\n",
        "        model.train() # Set your model to train mode.\n",
        "        loss_record = []\n",
        "\n",
        "        # tqdm is a package to visualize your training progress.\n",
        "        train_pbar = tqdm(train_loader, position=0, leave=True)\n",
        "\n",
        "        for x, y in train_pbar:\n",
        "            optimizer.zero_grad()               # Set gradient to zero.\n",
        "            x, y = x.to(device), y.to(device)   # Move your data to device. \n",
        "            pred = model(x)             \n",
        "            loss = criterion(pred, y)\n",
        "            loss.backward()                     # Compute gradient(backpropagation).\n",
        "            optimizer.step()                    # Update parameters.\n",
        "            step += 1\n",
        "            loss_record.append(loss.detach().item())\n",
        "            \n",
        "            # Display current epoch number and loss on tqdm progress bar.\n",
        "            train_pbar.set_description(f'Epoch [{epoch+1}/{n_epochs}]')\n",
        "            train_pbar.set_postfix({'loss': loss.detach().item()})\n",
        "            \n",
        "        scheduler.step() \n",
        "\n",
        "        mean_train_loss = sum(loss_record)/len(loss_record)\n",
        "        train_losses.append(mean_train_loss)\n",
        "\n",
        "        model.eval() # Set your model to evaluation mode.\n",
        "        loss_record = []\n",
        "        for x, y in valid_loader:\n",
        "            x, y = x.to(device), y.to(device)\n",
        "            with torch.no_grad():\n",
        "                pred = model(x)\n",
        "                loss = criterion(pred, y)\n",
        "\n",
        "            loss_record.append(loss.item())\n",
        "            \n",
        "        mean_valid_loss = sum(loss_record)/len(loss_record)\n",
        "        val_losses.append(mean_valid_loss)\n",
        "        print(f'Epoch [{epoch+1}/{n_epochs}]: Train loss: {mean_train_loss:.4f}, Valid loss: {mean_valid_loss:.4f}')\n",
        "\n",
        "        if mean_valid_loss < best_loss:\n",
        "            best_loss = mean_valid_loss\n",
        "            torch.save(model.state_dict(), config['save_path']) # Save your best model\n",
        "            print('Saving model with loss {:.3f}...'.format(best_loss))\n",
        "            early_stop_count = 0\n",
        "        else: \n",
        "            early_stop_count += 1\n",
        "\n",
        "        if early_stop_count >= config['early_stop']:\n",
        "            print('\\nModel is not improving, so we halt the training session.')\n",
        "            break\n",
        "    return train_losses, val_losses"
      ]
    },
    {
      "cell_type": "markdown",
      "metadata": {
        "id": "0pgkOh2e9UjE"
      },
      "source": [
        "# Configurations\n",
        "`config` contains hyper-parameters for training and the path to save your model."
      ]
    },
    {
      "cell_type": "code",
      "execution_count": 9,
      "metadata": {
        "id": "QoWPUahCtoT6"
      },
      "outputs": [],
      "source": [
        "device = 'cuda' if torch.cuda.is_available() else 'cpu'\n",
        "config = {\n",
        "    'seed': 5201314,      # Your seed number, you can pick your lucky number. :)\n",
        "    'select_all': True,   # Whether to use all features.\n",
        "    'valid_ratio': 0.2,   # validation_size = train_size * valid_ratio\n",
        "    'n_epochs': 5000,     # Number of epochs.            \n",
        "    'batch_size': 256, \n",
        "    'learning_rate': 1e-5,              \n",
        "    'early_stop': 500,    # If model has not improved for this many consecutive epochs, stop training.     \n",
        "    'save_path': './models/model.ckpt'  # Your model will be saved here.\n",
        "}"
      ]
    },
    {
      "cell_type": "markdown",
      "metadata": {
        "id": "lrS-aJJh9XkW"
      },
      "source": [
        "# Dataloader\n",
        "Read data from files and set up training, validation, and testing sets. You do not need to modify this part."
      ]
    },
    {
      "cell_type": "code",
      "execution_count": 10,
      "metadata": {
        "colab": {
          "base_uri": "https://localhost:8080/"
        },
        "id": "2jc7ZfDot2t9",
        "outputId": "dcf50913-4cde-4909-e64c-cc34b675c7e6"
      },
      "outputs": [
        {
          "output_type": "stream",
          "name": "stdout",
          "text": [
            "train_data size: (335, 52) \n",
            "valid_data size: (83, 52) \n",
            "test_data size: (36, 52)\n",
            "train_data size: (335, 24) \n",
            "valid_data size: (83, 24) \n",
            "test_data size: (36, 24)\n",
            "number of features: 24\n"
          ]
        }
      ],
      "source": [
        "# Set seed for reproducibility\n",
        "same_seed(config['seed'])\n",
        "\n",
        "\n",
        "# train_data size: 2699 x 118 (id + 37 states + 16 features x 5 days) \n",
        "# test_data size: 1078 x 117 (without last day's positive rate)\n",
        "train_data, test_data = pd.read_csv('/content/train_unit3.csv').values, pd.read_csv('/content/test_unit3.csv').values\n",
        "train_data, valid_data = train_valid_split(train_data, config['valid_ratio'], config['seed'])\n",
        "\n",
        "# Print out the data size.\n",
        "print(f\"\"\"train_data size: {train_data.shape} \n",
        "valid_data size: {valid_data.shape} \n",
        "test_data size: {test_data.shape}\"\"\")\n",
        "\n",
        "# Select features\n",
        "x_train, x_valid, x_test, y_train, y_valid = select_feat(train_data, valid_data, test_data, False)\n",
        "\n",
        "\n",
        "#normalization\n",
        "x_min, x_max = x_train.min(axis=0), x_train.max(axis=0)\n",
        "x_train = (x_train - x_min) / (x_max - x_min)\n",
        "x_valid = (x_valid - x_min) / (x_max - x_min)\n",
        "x_test = (x_test - x_min) / (x_max - x_min)\n",
        "\n",
        "print(f\"\"\"train_data size: {x_train.shape} \n",
        "valid_data size: {x_valid.shape} \n",
        "test_data size: {x_test.shape}\"\"\")\n",
        "# Print out the number of features.\n",
        "print(f'number of features: {x_train.shape[1]}')\n",
        "\n",
        "train_dataset, valid_dataset, test_dataset = COVID19Dataset(x_train, y_train), \\\n",
        "                                            COVID19Dataset(x_valid, y_valid), \\\n",
        "                                            COVID19Dataset(x_test)\n",
        "\n",
        "# Pytorch data loader loads pytorch dataset into batches.\n",
        "train_loader = DataLoader(train_dataset, batch_size=config['batch_size'], shuffle=True, pin_memory=True)\n",
        "valid_loader = DataLoader(valid_dataset, batch_size=config['batch_size'], shuffle=True, pin_memory=True)\n",
        "test_loader = DataLoader(test_dataset, batch_size=config['batch_size'], shuffle=False, pin_memory=True)"
      ]
    },
    {
      "cell_type": "markdown",
      "metadata": {
        "id": "0OBYgjCA-YwD"
      },
      "source": [
        "# Start training!"
      ]
    },
    {
      "cell_type": "code",
      "execution_count": 11,
      "metadata": {
        "colab": {
          "base_uri": "https://localhost:8080/"
        },
        "id": "YdttVRkAfu2t",
        "outputId": "b4d2085e-a18a-4123-9f55-c0fba61e2a44",
        "scrolled": true
      },
      "outputs": [
        {
          "output_type": "stream",
          "name": "stderr",
          "text": [
            "Epoch [1/5000]: 100%|██████████| 2/2 [00:03<00:00,  1.80s/it, loss=80.3]\n"
          ]
        },
        {
          "output_type": "stream",
          "name": "stdout",
          "text": [
            "Epoch [1/5000]: Train loss: 83.8752, Valid loss: 86.3361\n",
            "Saving model with loss 86.336...\n"
          ]
        },
        {
          "output_type": "stream",
          "name": "stderr",
          "text": [
            "Epoch [2/5000]: 100%|██████████| 2/2 [00:00<00:00, 66.33it/s, loss=82.4]\n"
          ]
        },
        {
          "output_type": "stream",
          "name": "stdout",
          "text": [
            "Epoch [2/5000]: Train loss: 84.3927, Valid loss: 86.2683\n",
            "Saving model with loss 86.268...\n"
          ]
        },
        {
          "output_type": "stream",
          "name": "stderr",
          "text": [
            "Epoch [3/5000]: 100%|██████████| 2/2 [00:00<00:00, 49.30it/s, loss=89.4]\n"
          ]
        },
        {
          "output_type": "stream",
          "name": "stdout",
          "text": [
            "Epoch [3/5000]: Train loss: 86.5691, Valid loss: 86.1205\n",
            "Saving model with loss 86.120...\n"
          ]
        },
        {
          "output_type": "stream",
          "name": "stderr",
          "text": [
            "Epoch [4/5000]: 100%|██████████| 2/2 [00:00<00:00, 57.36it/s, loss=84]\n"
          ]
        },
        {
          "output_type": "stream",
          "name": "stdout",
          "text": [
            "Epoch [4/5000]: Train loss: 84.5847, Valid loss: 86.0090\n",
            "Saving model with loss 86.009...\n"
          ]
        },
        {
          "output_type": "stream",
          "name": "stderr",
          "text": [
            "Epoch [5/5000]: 100%|██████████| 2/2 [00:00<00:00, 62.77it/s, loss=77.6]\n"
          ]
        },
        {
          "output_type": "stream",
          "name": "stdout",
          "text": [
            "Epoch [5/5000]: Train loss: 82.0677, Valid loss: 85.9682\n",
            "Saving model with loss 85.968...\n"
          ]
        },
        {
          "output_type": "stream",
          "name": "stderr",
          "text": [
            "Epoch [6/5000]: 100%|██████████| 2/2 [00:00<00:00, 15.45it/s, loss=77.9]\n"
          ]
        },
        {
          "output_type": "stream",
          "name": "stdout",
          "text": [
            "Epoch [6/5000]: Train loss: 82.0078, Valid loss: 85.9897\n"
          ]
        },
        {
          "output_type": "stream",
          "name": "stderr",
          "text": [
            "Epoch [7/5000]: 100%|██████████| 2/2 [00:00<00:00, 101.64it/s, loss=75.8]\n"
          ]
        },
        {
          "output_type": "stream",
          "name": "stdout",
          "text": [
            "Epoch [7/5000]: Train loss: 81.2792, Valid loss: 85.8424\n",
            "Saving model with loss 85.842...\n"
          ]
        },
        {
          "output_type": "stream",
          "name": "stderr",
          "text": [
            "Epoch [8/5000]: 100%|██████████| 2/2 [00:00<00:00, 102.85it/s, loss=84.7]\n"
          ]
        },
        {
          "output_type": "stream",
          "name": "stdout",
          "text": [
            "Epoch [8/5000]: Train loss: 84.2624, Valid loss: 85.6941\n",
            "Saving model with loss 85.694...\n"
          ]
        },
        {
          "output_type": "stream",
          "name": "stderr",
          "text": [
            "Epoch [9/5000]: 100%|██████████| 2/2 [00:00<00:00, 67.65it/s, loss=88.4]\n"
          ]
        },
        {
          "output_type": "stream",
          "name": "stdout",
          "text": [
            "Epoch [9/5000]: Train loss: 85.2970, Valid loss: 85.5879\n",
            "Saving model with loss 85.588...\n"
          ]
        },
        {
          "output_type": "stream",
          "name": "stderr",
          "text": [
            "Epoch [10/5000]: 100%|██████████| 2/2 [00:00<00:00, 122.94it/s, loss=79.9]\n"
          ]
        },
        {
          "output_type": "stream",
          "name": "stdout",
          "text": [
            "Epoch [10/5000]: Train loss: 82.3180, Valid loss: 85.4940\n",
            "Saving model with loss 85.494...\n"
          ]
        },
        {
          "output_type": "stream",
          "name": "stderr",
          "text": [
            "Epoch [11/5000]: 100%|██████████| 2/2 [00:00<00:00, 90.95it/s, loss=82.3]\n"
          ]
        },
        {
          "output_type": "stream",
          "name": "stdout",
          "text": [
            "Epoch [11/5000]: Train loss: 82.8116, Valid loss: 85.4333\n",
            "Saving model with loss 85.433...\n"
          ]
        },
        {
          "output_type": "stream",
          "name": "stderr",
          "text": [
            "Epoch [12/5000]: 100%|██████████| 2/2 [00:00<00:00, 83.08it/s, loss=78.7]\n"
          ]
        },
        {
          "output_type": "stream",
          "name": "stdout",
          "text": [
            "Epoch [12/5000]: Train loss: 81.5960, Valid loss: 85.3961\n",
            "Saving model with loss 85.396...\n"
          ]
        },
        {
          "output_type": "stream",
          "name": "stderr",
          "text": [
            "Epoch [13/5000]: 100%|██████████| 2/2 [00:00<00:00, 117.86it/s, loss=86.5]\n"
          ]
        },
        {
          "output_type": "stream",
          "name": "stdout",
          "text": [
            "Epoch [13/5000]: Train loss: 84.1393, Valid loss: 85.3955\n",
            "Saving model with loss 85.396...\n"
          ]
        },
        {
          "output_type": "stream",
          "name": "stderr",
          "text": [
            "Epoch [14/5000]: 100%|██████████| 2/2 [00:00<00:00, 99.37it/s, loss=78.5]\n"
          ]
        },
        {
          "output_type": "stream",
          "name": "stdout",
          "text": [
            "Epoch [14/5000]: Train loss: 81.4050, Valid loss: 85.4087\n"
          ]
        },
        {
          "output_type": "stream",
          "name": "stderr",
          "text": [
            "Epoch [15/5000]: 100%|██████████| 2/2 [00:00<00:00, 65.85it/s, loss=78.4]\n"
          ]
        },
        {
          "output_type": "stream",
          "name": "stdout",
          "text": [
            "Epoch [15/5000]: Train loss: 81.3661, Valid loss: 85.1871\n",
            "Saving model with loss 85.187...\n"
          ]
        },
        {
          "output_type": "stream",
          "name": "stderr",
          "text": [
            "Epoch [16/5000]: 100%|██████████| 2/2 [00:00<00:00, 50.69it/s, loss=85.8]\n"
          ]
        },
        {
          "output_type": "stream",
          "name": "stdout",
          "text": [
            "Epoch [16/5000]: Train loss: 83.6328, Valid loss: 84.9540\n",
            "Saving model with loss 84.954...\n"
          ]
        },
        {
          "output_type": "stream",
          "name": "stderr",
          "text": [
            "Epoch [17/5000]: 100%|██████████| 2/2 [00:00<00:00, 53.06it/s, loss=89.8]\n"
          ]
        },
        {
          "output_type": "stream",
          "name": "stdout",
          "text": [
            "Epoch [17/5000]: Train loss: 84.8488, Valid loss: 84.7186\n",
            "Saving model with loss 84.719...\n"
          ]
        },
        {
          "output_type": "stream",
          "name": "stderr",
          "text": [
            "Epoch [18/5000]: 100%|██████████| 2/2 [00:00<00:00, 41.43it/s, loss=83.1]\n"
          ]
        },
        {
          "output_type": "stream",
          "name": "stdout",
          "text": [
            "Epoch [18/5000]: Train loss: 82.5520, Valid loss: 84.5001\n",
            "Saving model with loss 84.500...\n"
          ]
        },
        {
          "output_type": "stream",
          "name": "stderr",
          "text": [
            "Epoch [19/5000]: 100%|██████████| 2/2 [00:00<00:00, 66.37it/s, loss=77.1]\n"
          ]
        },
        {
          "output_type": "stream",
          "name": "stdout",
          "text": [
            "Epoch [19/5000]: Train loss: 80.0902, Valid loss: 84.2097\n",
            "Saving model with loss 84.210...\n"
          ]
        },
        {
          "output_type": "stream",
          "name": "stderr",
          "text": [
            "Epoch [20/5000]: 100%|██████████| 2/2 [00:00<00:00, 63.62it/s, loss=72.3]\n"
          ]
        },
        {
          "output_type": "stream",
          "name": "stdout",
          "text": [
            "Epoch [20/5000]: Train loss: 78.3359, Valid loss: 83.9612\n",
            "Saving model with loss 83.961...\n"
          ]
        },
        {
          "output_type": "stream",
          "name": "stderr",
          "text": [
            "Epoch [21/5000]: 100%|██████████| 2/2 [00:00<00:00, 64.53it/s, loss=74.8]\n"
          ]
        },
        {
          "output_type": "stream",
          "name": "stdout",
          "text": [
            "Epoch [21/5000]: Train loss: 79.0906, Valid loss: 83.7550\n",
            "Saving model with loss 83.755...\n"
          ]
        },
        {
          "output_type": "stream",
          "name": "stderr",
          "text": [
            "Epoch [22/5000]: 100%|██████████| 2/2 [00:00<00:00, 59.13it/s, loss=78.6]\n"
          ]
        },
        {
          "output_type": "stream",
          "name": "stdout",
          "text": [
            "Epoch [22/5000]: Train loss: 80.2580, Valid loss: 83.5587\n",
            "Saving model with loss 83.559...\n"
          ]
        },
        {
          "output_type": "stream",
          "name": "stderr",
          "text": [
            "Epoch [23/5000]: 100%|██████████| 2/2 [00:00<00:00, 44.23it/s, loss=75.1]\n"
          ]
        },
        {
          "output_type": "stream",
          "name": "stdout",
          "text": [
            "Epoch [23/5000]: Train loss: 78.9903, Valid loss: 83.3854\n",
            "Saving model with loss 83.385...\n"
          ]
        },
        {
          "output_type": "stream",
          "name": "stderr",
          "text": [
            "Epoch [24/5000]: 100%|██████████| 2/2 [00:00<00:00, 75.84it/s, loss=89.5]\n"
          ]
        },
        {
          "output_type": "stream",
          "name": "stdout",
          "text": [
            "Epoch [24/5000]: Train loss: 83.8824, Valid loss: 83.2345\n",
            "Saving model with loss 83.234...\n"
          ]
        },
        {
          "output_type": "stream",
          "name": "stderr",
          "text": [
            "Epoch [25/5000]: 100%|██████████| 2/2 [00:00<00:00, 48.00it/s, loss=78.1]\n"
          ]
        },
        {
          "output_type": "stream",
          "name": "stdout",
          "text": [
            "Epoch [25/5000]: Train loss: 79.7773, Valid loss: 83.1068\n",
            "Saving model with loss 83.107...\n"
          ]
        },
        {
          "output_type": "stream",
          "name": "stderr",
          "text": [
            "Epoch [26/5000]: 100%|██████████| 2/2 [00:00<00:00, 67.79it/s, loss=82.7]\n"
          ]
        },
        {
          "output_type": "stream",
          "name": "stdout",
          "text": [
            "Epoch [26/5000]: Train loss: 81.4095, Valid loss: 83.0504\n",
            "Saving model with loss 83.050...\n"
          ]
        },
        {
          "output_type": "stream",
          "name": "stderr",
          "text": [
            "Epoch [27/5000]: 100%|██████████| 2/2 [00:00<00:00, 47.36it/s, loss=80]\n"
          ]
        },
        {
          "output_type": "stream",
          "name": "stdout",
          "text": [
            "Epoch [27/5000]: Train loss: 80.2913, Valid loss: 82.9880\n",
            "Saving model with loss 82.988...\n"
          ]
        },
        {
          "output_type": "stream",
          "name": "stderr",
          "text": [
            "Epoch [28/5000]: 100%|██████████| 2/2 [00:00<00:00, 82.13it/s, loss=73.4]\n"
          ]
        },
        {
          "output_type": "stream",
          "name": "stdout",
          "text": [
            "Epoch [28/5000]: Train loss: 77.8736, Valid loss: 82.9794\n",
            "Saving model with loss 82.979...\n"
          ]
        },
        {
          "output_type": "stream",
          "name": "stderr",
          "text": [
            "Epoch [29/5000]: 100%|██████████| 2/2 [00:00<00:00, 56.11it/s, loss=82.1]\n"
          ]
        },
        {
          "output_type": "stream",
          "name": "stdout",
          "text": [
            "Epoch [29/5000]: Train loss: 81.0321, Valid loss: 82.9567\n",
            "Saving model with loss 82.957...\n"
          ]
        },
        {
          "output_type": "stream",
          "name": "stderr",
          "text": [
            "Epoch [30/5000]: 100%|██████████| 2/2 [00:00<00:00, 51.82it/s, loss=83]\n"
          ]
        },
        {
          "output_type": "stream",
          "name": "stdout",
          "text": [
            "Epoch [30/5000]: Train loss: 81.2755, Valid loss: 82.9589\n"
          ]
        },
        {
          "output_type": "stream",
          "name": "stderr",
          "text": [
            "Epoch [31/5000]: 100%|██████████| 2/2 [00:00<00:00, 74.02it/s, loss=74.6]\n"
          ]
        },
        {
          "output_type": "stream",
          "name": "stdout",
          "text": [
            "Epoch [31/5000]: Train loss: 78.3407, Valid loss: 82.5172\n",
            "Saving model with loss 82.517...\n"
          ]
        },
        {
          "output_type": "stream",
          "name": "stderr",
          "text": [
            "Epoch [32/5000]: 100%|██████████| 2/2 [00:00<00:00, 63.04it/s, loss=81.6]\n"
          ]
        },
        {
          "output_type": "stream",
          "name": "stdout",
          "text": [
            "Epoch [32/5000]: Train loss: 80.5745, Valid loss: 82.0722\n",
            "Saving model with loss 82.072...\n"
          ]
        },
        {
          "output_type": "stream",
          "name": "stderr",
          "text": [
            "Epoch [33/5000]: 100%|██████████| 2/2 [00:00<00:00, 87.85it/s, loss=82]\n"
          ]
        },
        {
          "output_type": "stream",
          "name": "stdout",
          "text": [
            "Epoch [33/5000]: Train loss: 80.4414, Valid loss: 81.7243\n",
            "Saving model with loss 81.724...\n"
          ]
        },
        {
          "output_type": "stream",
          "name": "stderr",
          "text": [
            "Epoch [34/5000]: 100%|██████████| 2/2 [00:00<00:00, 93.73it/s, loss=80.4]\n"
          ]
        },
        {
          "output_type": "stream",
          "name": "stdout",
          "text": [
            "Epoch [34/5000]: Train loss: 79.5260, Valid loss: 81.3356\n",
            "Saving model with loss 81.336...\n"
          ]
        },
        {
          "output_type": "stream",
          "name": "stderr",
          "text": [
            "Epoch [35/5000]: 100%|██████████| 2/2 [00:00<00:00, 101.10it/s, loss=81.7]\n"
          ]
        },
        {
          "output_type": "stream",
          "name": "stdout",
          "text": [
            "Epoch [35/5000]: Train loss: 79.8573, Valid loss: 80.9000\n",
            "Saving model with loss 80.900...\n"
          ]
        },
        {
          "output_type": "stream",
          "name": "stderr",
          "text": [
            "Epoch [36/5000]: 100%|██████████| 2/2 [00:00<00:00, 96.39it/s, loss=76.4]\n"
          ]
        },
        {
          "output_type": "stream",
          "name": "stdout",
          "text": [
            "Epoch [36/5000]: Train loss: 77.9841, Valid loss: 80.5693\n",
            "Saving model with loss 80.569...\n"
          ]
        },
        {
          "output_type": "stream",
          "name": "stderr",
          "text": [
            "Epoch [37/5000]: 100%|██████████| 2/2 [00:00<00:00, 90.47it/s, loss=65.4]\n"
          ]
        },
        {
          "output_type": "stream",
          "name": "stdout",
          "text": [
            "Epoch [37/5000]: Train loss: 73.9095, Valid loss: 80.1600\n",
            "Saving model with loss 80.160...\n"
          ]
        },
        {
          "output_type": "stream",
          "name": "stderr",
          "text": [
            "Epoch [38/5000]: 100%|██████████| 2/2 [00:00<00:00, 103.54it/s, loss=78.6]\n"
          ]
        },
        {
          "output_type": "stream",
          "name": "stdout",
          "text": [
            "Epoch [38/5000]: Train loss: 78.4367, Valid loss: 79.8122\n",
            "Saving model with loss 79.812...\n"
          ]
        },
        {
          "output_type": "stream",
          "name": "stderr",
          "text": [
            "Epoch [39/5000]: 100%|██████████| 2/2 [00:00<00:00, 94.87it/s, loss=78.4]\n"
          ]
        },
        {
          "output_type": "stream",
          "name": "stdout",
          "text": [
            "Epoch [39/5000]: Train loss: 78.0423, Valid loss: 79.5422\n",
            "Saving model with loss 79.542...\n"
          ]
        },
        {
          "output_type": "stream",
          "name": "stderr",
          "text": [
            "Epoch [40/5000]: 100%|██████████| 2/2 [00:00<00:00, 91.93it/s, loss=71]\n"
          ]
        },
        {
          "output_type": "stream",
          "name": "stdout",
          "text": [
            "Epoch [40/5000]: Train loss: 75.3758, Valid loss: 79.2094\n",
            "Saving model with loss 79.209...\n"
          ]
        },
        {
          "output_type": "stream",
          "name": "stderr",
          "text": [
            "Epoch [41/5000]: 100%|██████████| 2/2 [00:00<00:00, 70.37it/s, loss=77]\n"
          ]
        },
        {
          "output_type": "stream",
          "name": "stdout",
          "text": [
            "Epoch [41/5000]: Train loss: 77.1500, Valid loss: 78.9431\n",
            "Saving model with loss 78.943...\n"
          ]
        },
        {
          "output_type": "stream",
          "name": "stderr",
          "text": [
            "Epoch [42/5000]: 100%|██████████| 2/2 [00:00<00:00, 68.14it/s, loss=73.8]\n"
          ]
        },
        {
          "output_type": "stream",
          "name": "stdout",
          "text": [
            "Epoch [42/5000]: Train loss: 76.1802, Valid loss: 78.7481\n",
            "Saving model with loss 78.748...\n"
          ]
        },
        {
          "output_type": "stream",
          "name": "stderr",
          "text": [
            "Epoch [43/5000]: 100%|██████████| 2/2 [00:00<00:00, 101.36it/s, loss=83.2]\n"
          ]
        },
        {
          "output_type": "stream",
          "name": "stdout",
          "text": [
            "Epoch [43/5000]: Train loss: 78.9955, Valid loss: 78.5527\n",
            "Saving model with loss 78.553...\n"
          ]
        },
        {
          "output_type": "stream",
          "name": "stderr",
          "text": [
            "Epoch [44/5000]: 100%|██████████| 2/2 [00:00<00:00, 103.24it/s, loss=77.1]\n"
          ]
        },
        {
          "output_type": "stream",
          "name": "stdout",
          "text": [
            "Epoch [44/5000]: Train loss: 76.6428, Valid loss: 78.3294\n",
            "Saving model with loss 78.329...\n"
          ]
        },
        {
          "output_type": "stream",
          "name": "stderr",
          "text": [
            "Epoch [45/5000]: 100%|██████████| 2/2 [00:00<00:00, 88.28it/s, loss=77.1]\n"
          ]
        },
        {
          "output_type": "stream",
          "name": "stdout",
          "text": [
            "Epoch [45/5000]: Train loss: 76.7469, Valid loss: 78.2122\n",
            "Saving model with loss 78.212...\n"
          ]
        },
        {
          "output_type": "stream",
          "name": "stderr",
          "text": [
            "Epoch [46/5000]: 100%|██████████| 2/2 [00:00<00:00, 118.70it/s, loss=69.9]\n"
          ]
        },
        {
          "output_type": "stream",
          "name": "stdout",
          "text": [
            "Epoch [46/5000]: Train loss: 74.1147, Valid loss: 78.1136\n",
            "Saving model with loss 78.114...\n"
          ]
        },
        {
          "output_type": "stream",
          "name": "stderr",
          "text": [
            "Epoch [47/5000]: 100%|██████████| 2/2 [00:00<00:00, 68.23it/s, loss=83.7]\n"
          ]
        },
        {
          "output_type": "stream",
          "name": "stdout",
          "text": [
            "Epoch [47/5000]: Train loss: 78.6013, Valid loss: 77.9499\n",
            "Saving model with loss 77.950...\n"
          ]
        },
        {
          "output_type": "stream",
          "name": "stderr",
          "text": [
            "Epoch [48/5000]: 100%|██████████| 2/2 [00:00<00:00, 94.91it/s, loss=78.7]\n"
          ]
        },
        {
          "output_type": "stream",
          "name": "stdout",
          "text": [
            "Epoch [48/5000]: Train loss: 76.4616, Valid loss: 77.7988\n",
            "Saving model with loss 77.799...\n"
          ]
        },
        {
          "output_type": "stream",
          "name": "stderr",
          "text": [
            "Epoch [49/5000]: 100%|██████████| 2/2 [00:00<00:00, 95.30it/s, loss=78.2]\n"
          ]
        },
        {
          "output_type": "stream",
          "name": "stdout",
          "text": [
            "Epoch [49/5000]: Train loss: 76.6704, Valid loss: 77.6807\n",
            "Saving model with loss 77.681...\n"
          ]
        },
        {
          "output_type": "stream",
          "name": "stderr",
          "text": [
            "Epoch [50/5000]: 100%|██████████| 2/2 [00:00<00:00, 81.73it/s, loss=82.4]\n"
          ]
        },
        {
          "output_type": "stream",
          "name": "stdout",
          "text": [
            "Epoch [50/5000]: Train loss: 77.6379, Valid loss: 77.6084\n",
            "Saving model with loss 77.608...\n"
          ]
        },
        {
          "output_type": "stream",
          "name": "stderr",
          "text": [
            "Epoch [51/5000]: 100%|██████████| 2/2 [00:00<00:00, 82.60it/s, loss=66]\n"
          ]
        },
        {
          "output_type": "stream",
          "name": "stdout",
          "text": [
            "Epoch [51/5000]: Train loss: 72.2201, Valid loss: 77.4790\n",
            "Saving model with loss 77.479...\n"
          ]
        },
        {
          "output_type": "stream",
          "name": "stderr",
          "text": [
            "Epoch [52/5000]: 100%|██████████| 2/2 [00:00<00:00, 87.97it/s, loss=68.2]\n"
          ]
        },
        {
          "output_type": "stream",
          "name": "stdout",
          "text": [
            "Epoch [52/5000]: Train loss: 72.9273, Valid loss: 77.5040\n"
          ]
        },
        {
          "output_type": "stream",
          "name": "stderr",
          "text": [
            "Epoch [53/5000]: 100%|██████████| 2/2 [00:00<00:00, 76.15it/s, loss=81.3]\n"
          ]
        },
        {
          "output_type": "stream",
          "name": "stdout",
          "text": [
            "Epoch [53/5000]: Train loss: 77.2905, Valid loss: 77.4605\n",
            "Saving model with loss 77.460...\n"
          ]
        },
        {
          "output_type": "stream",
          "name": "stderr",
          "text": [
            "Epoch [54/5000]: 100%|██████████| 2/2 [00:00<00:00, 82.33it/s, loss=68.4]\n"
          ]
        },
        {
          "output_type": "stream",
          "name": "stdout",
          "text": [
            "Epoch [54/5000]: Train loss: 72.7195, Valid loss: 77.4550\n",
            "Saving model with loss 77.455...\n"
          ]
        },
        {
          "output_type": "stream",
          "name": "stderr",
          "text": [
            "Epoch [55/5000]: 100%|██████████| 2/2 [00:00<00:00, 82.89it/s, loss=71.3]\n"
          ]
        },
        {
          "output_type": "stream",
          "name": "stdout",
          "text": [
            "Epoch [55/5000]: Train loss: 73.6936, Valid loss: 77.3679\n",
            "Saving model with loss 77.368...\n"
          ]
        },
        {
          "output_type": "stream",
          "name": "stderr",
          "text": [
            "Epoch [56/5000]: 100%|██████████| 2/2 [00:00<00:00, 65.85it/s, loss=67.1]\n"
          ]
        },
        {
          "output_type": "stream",
          "name": "stdout",
          "text": [
            "Epoch [56/5000]: Train loss: 72.1882, Valid loss: 77.3558\n",
            "Saving model with loss 77.356...\n"
          ]
        },
        {
          "output_type": "stream",
          "name": "stderr",
          "text": [
            "Epoch [57/5000]: 100%|██████████| 2/2 [00:00<00:00, 93.67it/s, loss=77.6]\n"
          ]
        },
        {
          "output_type": "stream",
          "name": "stdout",
          "text": [
            "Epoch [57/5000]: Train loss: 75.5713, Valid loss: 77.3325\n",
            "Saving model with loss 77.332...\n"
          ]
        },
        {
          "output_type": "stream",
          "name": "stderr",
          "text": [
            "Epoch [58/5000]: 100%|██████████| 2/2 [00:00<00:00, 96.71it/s, loss=69.6]\n"
          ]
        },
        {
          "output_type": "stream",
          "name": "stdout",
          "text": [
            "Epoch [58/5000]: Train loss: 73.0239, Valid loss: 77.3217\n",
            "Saving model with loss 77.322...\n"
          ]
        },
        {
          "output_type": "stream",
          "name": "stderr",
          "text": [
            "Epoch [59/5000]: 100%|██████████| 2/2 [00:00<00:00, 106.70it/s, loss=70.8]\n"
          ]
        },
        {
          "output_type": "stream",
          "name": "stdout",
          "text": [
            "Epoch [59/5000]: Train loss: 73.3807, Valid loss: 77.2574\n",
            "Saving model with loss 77.257...\n"
          ]
        },
        {
          "output_type": "stream",
          "name": "stderr",
          "text": [
            "Epoch [60/5000]: 100%|██████████| 2/2 [00:00<00:00, 101.37it/s, loss=72.1]\n"
          ]
        },
        {
          "output_type": "stream",
          "name": "stdout",
          "text": [
            "Epoch [60/5000]: Train loss: 73.6770, Valid loss: 77.2723\n"
          ]
        },
        {
          "output_type": "stream",
          "name": "stderr",
          "text": [
            "Epoch [61/5000]: 100%|██████████| 2/2 [00:00<00:00, 101.27it/s, loss=80]\n"
          ]
        },
        {
          "output_type": "stream",
          "name": "stdout",
          "text": [
            "Epoch [61/5000]: Train loss: 76.3505, Valid loss: 77.3238\n"
          ]
        },
        {
          "output_type": "stream",
          "name": "stderr",
          "text": [
            "Epoch [62/5000]: 100%|██████████| 2/2 [00:00<00:00, 114.78it/s, loss=71.7]\n"
          ]
        },
        {
          "output_type": "stream",
          "name": "stdout",
          "text": [
            "Epoch [62/5000]: Train loss: 73.7942, Valid loss: 77.4324\n"
          ]
        },
        {
          "output_type": "stream",
          "name": "stderr",
          "text": [
            "Epoch [63/5000]: 100%|██████████| 2/2 [00:00<00:00, 88.13it/s, loss=84.5]\n"
          ]
        },
        {
          "output_type": "stream",
          "name": "stdout",
          "text": [
            "Epoch [63/5000]: Train loss: 77.7321, Valid loss: 77.0742\n",
            "Saving model with loss 77.074...\n"
          ]
        },
        {
          "output_type": "stream",
          "name": "stderr",
          "text": [
            "Epoch [64/5000]: 100%|██████████| 2/2 [00:00<00:00, 99.00it/s, loss=74.1]\n"
          ]
        },
        {
          "output_type": "stream",
          "name": "stdout",
          "text": [
            "Epoch [64/5000]: Train loss: 74.2063, Valid loss: 76.6667\n",
            "Saving model with loss 76.667...\n"
          ]
        },
        {
          "output_type": "stream",
          "name": "stderr",
          "text": [
            "Epoch [65/5000]: 100%|██████████| 2/2 [00:00<00:00, 100.56it/s, loss=78.3]\n"
          ]
        },
        {
          "output_type": "stream",
          "name": "stdout",
          "text": [
            "Epoch [65/5000]: Train loss: 75.5291, Valid loss: 76.2525\n",
            "Saving model with loss 76.252...\n"
          ]
        },
        {
          "output_type": "stream",
          "name": "stderr",
          "text": [
            "Epoch [66/5000]: 100%|██████████| 2/2 [00:00<00:00, 96.12it/s, loss=66.3]\n"
          ]
        },
        {
          "output_type": "stream",
          "name": "stdout",
          "text": [
            "Epoch [66/5000]: Train loss: 70.9569, Valid loss: 75.8334\n",
            "Saving model with loss 75.833...\n"
          ]
        },
        {
          "output_type": "stream",
          "name": "stderr",
          "text": [
            "Epoch [67/5000]: 100%|██████████| 2/2 [00:00<00:00, 101.31it/s, loss=71]\n"
          ]
        },
        {
          "output_type": "stream",
          "name": "stdout",
          "text": [
            "Epoch [67/5000]: Train loss: 72.2696, Valid loss: 75.4609\n",
            "Saving model with loss 75.461...\n"
          ]
        },
        {
          "output_type": "stream",
          "name": "stderr",
          "text": [
            "Epoch [68/5000]: 100%|██████████| 2/2 [00:00<00:00, 102.65it/s, loss=80]\n"
          ]
        },
        {
          "output_type": "stream",
          "name": "stdout",
          "text": [
            "Epoch [68/5000]: Train loss: 74.8947, Valid loss: 75.0432\n",
            "Saving model with loss 75.043...\n"
          ]
        },
        {
          "output_type": "stream",
          "name": "stderr",
          "text": [
            "Epoch [69/5000]: 100%|██████████| 2/2 [00:00<00:00, 102.92it/s, loss=74.5]\n"
          ]
        },
        {
          "output_type": "stream",
          "name": "stdout",
          "text": [
            "Epoch [69/5000]: Train loss: 72.8802, Valid loss: 74.7298\n",
            "Saving model with loss 74.730...\n"
          ]
        },
        {
          "output_type": "stream",
          "name": "stderr",
          "text": [
            "Epoch [70/5000]: 100%|██████████| 2/2 [00:00<00:00, 86.37it/s, loss=74]\n"
          ]
        },
        {
          "output_type": "stream",
          "name": "stdout",
          "text": [
            "Epoch [70/5000]: Train loss: 72.6346, Valid loss: 74.2423\n",
            "Saving model with loss 74.242...\n"
          ]
        },
        {
          "output_type": "stream",
          "name": "stderr",
          "text": [
            "Epoch [71/5000]: 100%|██████████| 2/2 [00:00<00:00, 93.83it/s, loss=63.5]\n"
          ]
        },
        {
          "output_type": "stream",
          "name": "stdout",
          "text": [
            "Epoch [71/5000]: Train loss: 68.5709, Valid loss: 73.8208\n",
            "Saving model with loss 73.821...\n"
          ]
        },
        {
          "output_type": "stream",
          "name": "stderr",
          "text": [
            "Epoch [72/5000]: 100%|██████████| 2/2 [00:00<00:00, 95.18it/s, loss=78.7]\n"
          ]
        },
        {
          "output_type": "stream",
          "name": "stdout",
          "text": [
            "Epoch [72/5000]: Train loss: 73.5317, Valid loss: 73.3267\n",
            "Saving model with loss 73.327...\n"
          ]
        },
        {
          "output_type": "stream",
          "name": "stderr",
          "text": [
            "Epoch [73/5000]: 100%|██████████| 2/2 [00:00<00:00, 101.86it/s, loss=65.5]\n"
          ]
        },
        {
          "output_type": "stream",
          "name": "stdout",
          "text": [
            "Epoch [73/5000]: Train loss: 68.6799, Valid loss: 72.8978\n",
            "Saving model with loss 72.898...\n"
          ]
        },
        {
          "output_type": "stream",
          "name": "stderr",
          "text": [
            "Epoch [74/5000]: 100%|██████████| 2/2 [00:00<00:00, 114.56it/s, loss=71.2]\n"
          ]
        },
        {
          "output_type": "stream",
          "name": "stdout",
          "text": [
            "Epoch [74/5000]: Train loss: 70.3782, Valid loss: 72.4697\n",
            "Saving model with loss 72.470...\n"
          ]
        },
        {
          "output_type": "stream",
          "name": "stderr",
          "text": [
            "Epoch [75/5000]: 100%|██████████| 2/2 [00:00<00:00, 112.75it/s, loss=78.2]\n"
          ]
        },
        {
          "output_type": "stream",
          "name": "stdout",
          "text": [
            "Epoch [75/5000]: Train loss: 72.1808, Valid loss: 72.0933\n",
            "Saving model with loss 72.093...\n"
          ]
        },
        {
          "output_type": "stream",
          "name": "stderr",
          "text": [
            "Epoch [76/5000]: 100%|██████████| 2/2 [00:00<00:00, 94.02it/s, loss=71.9]\n"
          ]
        },
        {
          "output_type": "stream",
          "name": "stdout",
          "text": [
            "Epoch [76/5000]: Train loss: 69.8738, Valid loss: 71.6605\n",
            "Saving model with loss 71.660...\n"
          ]
        },
        {
          "output_type": "stream",
          "name": "stderr",
          "text": [
            "Epoch [77/5000]: 100%|██████████| 2/2 [00:00<00:00, 102.41it/s, loss=58.7]\n"
          ]
        },
        {
          "output_type": "stream",
          "name": "stdout",
          "text": [
            "Epoch [77/5000]: Train loss: 65.0536, Valid loss: 71.2312\n",
            "Saving model with loss 71.231...\n"
          ]
        },
        {
          "output_type": "stream",
          "name": "stderr",
          "text": [
            "Epoch [78/5000]: 100%|██████████| 2/2 [00:00<00:00, 103.19it/s, loss=67.5]\n"
          ]
        },
        {
          "output_type": "stream",
          "name": "stdout",
          "text": [
            "Epoch [78/5000]: Train loss: 68.2736, Valid loss: 70.7514\n",
            "Saving model with loss 70.751...\n"
          ]
        },
        {
          "output_type": "stream",
          "name": "stderr",
          "text": [
            "Epoch [79/5000]: 100%|██████████| 2/2 [00:00<00:00, 21.26it/s, loss=65.4]\n"
          ]
        },
        {
          "output_type": "stream",
          "name": "stdout",
          "text": [
            "Epoch [79/5000]: Train loss: 67.1371, Valid loss: 70.2358\n",
            "Saving model with loss 70.236...\n"
          ]
        },
        {
          "output_type": "stream",
          "name": "stderr",
          "text": [
            "Epoch [80/5000]: 100%|██████████| 2/2 [00:00<00:00, 92.88it/s, loss=64.5]\n"
          ]
        },
        {
          "output_type": "stream",
          "name": "stdout",
          "text": [
            "Epoch [80/5000]: Train loss: 66.5339, Valid loss: 69.8096\n",
            "Saving model with loss 69.810...\n"
          ]
        },
        {
          "output_type": "stream",
          "name": "stderr",
          "text": [
            "Epoch [81/5000]: 100%|██████████| 2/2 [00:00<00:00, 103.30it/s, loss=70.1]\n"
          ]
        },
        {
          "output_type": "stream",
          "name": "stdout",
          "text": [
            "Epoch [81/5000]: Train loss: 67.9925, Valid loss: 69.3706\n",
            "Saving model with loss 69.371...\n"
          ]
        },
        {
          "output_type": "stream",
          "name": "stderr",
          "text": [
            "Epoch [82/5000]: 100%|██████████| 2/2 [00:00<00:00, 95.17it/s, loss=65.6]\n"
          ]
        },
        {
          "output_type": "stream",
          "name": "stdout",
          "text": [
            "Epoch [82/5000]: Train loss: 66.3747, Valid loss: 69.0801\n",
            "Saving model with loss 69.080...\n"
          ]
        },
        {
          "output_type": "stream",
          "name": "stderr",
          "text": [
            "Epoch [83/5000]: 100%|██████████| 2/2 [00:00<00:00, 82.25it/s, loss=66.6]\n"
          ]
        },
        {
          "output_type": "stream",
          "name": "stdout",
          "text": [
            "Epoch [83/5000]: Train loss: 65.9740, Valid loss: 68.5233\n",
            "Saving model with loss 68.523...\n"
          ]
        },
        {
          "output_type": "stream",
          "name": "stderr",
          "text": [
            "Epoch [84/5000]: 100%|██████████| 2/2 [00:00<00:00, 90.35it/s, loss=65.5]\n"
          ]
        },
        {
          "output_type": "stream",
          "name": "stdout",
          "text": [
            "Epoch [84/5000]: Train loss: 65.6283, Valid loss: 68.1370\n",
            "Saving model with loss 68.137...\n"
          ]
        },
        {
          "output_type": "stream",
          "name": "stderr",
          "text": [
            "Epoch [85/5000]: 100%|██████████| 2/2 [00:00<00:00, 86.23it/s, loss=57.9]\n"
          ]
        },
        {
          "output_type": "stream",
          "name": "stdout",
          "text": [
            "Epoch [85/5000]: Train loss: 62.6055, Valid loss: 67.8212\n",
            "Saving model with loss 67.821...\n"
          ]
        },
        {
          "output_type": "stream",
          "name": "stderr",
          "text": [
            "Epoch [86/5000]: 100%|██████████| 2/2 [00:00<00:00, 111.36it/s, loss=57.5]\n"
          ]
        },
        {
          "output_type": "stream",
          "name": "stdout",
          "text": [
            "Epoch [86/5000]: Train loss: 62.0959, Valid loss: 67.5824\n",
            "Saving model with loss 67.582...\n"
          ]
        },
        {
          "output_type": "stream",
          "name": "stderr",
          "text": [
            "Epoch [87/5000]: 100%|██████████| 2/2 [00:00<00:00, 85.28it/s, loss=69.7]\n"
          ]
        },
        {
          "output_type": "stream",
          "name": "stdout",
          "text": [
            "Epoch [87/5000]: Train loss: 65.8819, Valid loss: 67.2154\n",
            "Saving model with loss 67.215...\n"
          ]
        },
        {
          "output_type": "stream",
          "name": "stderr",
          "text": [
            "Epoch [88/5000]: 100%|██████████| 2/2 [00:00<00:00, 94.60it/s, loss=65.3]\n"
          ]
        },
        {
          "output_type": "stream",
          "name": "stdout",
          "text": [
            "Epoch [88/5000]: Train loss: 64.2271, Valid loss: 66.9168\n",
            "Saving model with loss 66.917...\n"
          ]
        },
        {
          "output_type": "stream",
          "name": "stderr",
          "text": [
            "Epoch [89/5000]: 100%|██████████| 2/2 [00:00<00:00, 68.65it/s, loss=61.1]\n"
          ]
        },
        {
          "output_type": "stream",
          "name": "stdout",
          "text": [
            "Epoch [89/5000]: Train loss: 62.4646, Valid loss: 66.4535\n",
            "Saving model with loss 66.454...\n"
          ]
        },
        {
          "output_type": "stream",
          "name": "stderr",
          "text": [
            "Epoch [90/5000]: 100%|██████████| 2/2 [00:00<00:00, 87.29it/s, loss=62.7]\n"
          ]
        },
        {
          "output_type": "stream",
          "name": "stdout",
          "text": [
            "Epoch [90/5000]: Train loss: 62.4180, Valid loss: 66.0906\n",
            "Saving model with loss 66.091...\n"
          ]
        },
        {
          "output_type": "stream",
          "name": "stderr",
          "text": [
            "Epoch [91/5000]: 100%|██████████| 2/2 [00:00<00:00, 89.92it/s, loss=70.5]\n"
          ]
        },
        {
          "output_type": "stream",
          "name": "stdout",
          "text": [
            "Epoch [91/5000]: Train loss: 65.0481, Valid loss: 65.8579\n",
            "Saving model with loss 65.858...\n"
          ]
        },
        {
          "output_type": "stream",
          "name": "stderr",
          "text": [
            "Epoch [92/5000]: 100%|██████████| 2/2 [00:00<00:00, 87.59it/s, loss=56.8]\n"
          ]
        },
        {
          "output_type": "stream",
          "name": "stdout",
          "text": [
            "Epoch [92/5000]: Train loss: 60.5480, Valid loss: 65.5104\n",
            "Saving model with loss 65.510...\n"
          ]
        },
        {
          "output_type": "stream",
          "name": "stderr",
          "text": [
            "Epoch [93/5000]: 100%|██████████| 2/2 [00:00<00:00, 97.26it/s, loss=65.8]\n"
          ]
        },
        {
          "output_type": "stream",
          "name": "stdout",
          "text": [
            "Epoch [93/5000]: Train loss: 63.2528, Valid loss: 65.1747\n",
            "Saving model with loss 65.175...\n"
          ]
        },
        {
          "output_type": "stream",
          "name": "stderr",
          "text": [
            "Epoch [94/5000]: 100%|██████████| 2/2 [00:00<00:00, 90.35it/s, loss=56.5]\n"
          ]
        },
        {
          "output_type": "stream",
          "name": "stdout",
          "text": [
            "Epoch [94/5000]: Train loss: 59.5413, Valid loss: 64.8905\n",
            "Saving model with loss 64.891...\n"
          ]
        },
        {
          "output_type": "stream",
          "name": "stderr",
          "text": [
            "Epoch [95/5000]: 100%|██████████| 2/2 [00:00<00:00, 85.95it/s, loss=66]\n"
          ]
        },
        {
          "output_type": "stream",
          "name": "stdout",
          "text": [
            "Epoch [95/5000]: Train loss: 62.8367, Valid loss: 64.5252\n",
            "Saving model with loss 64.525...\n"
          ]
        },
        {
          "output_type": "stream",
          "name": "stderr",
          "text": [
            "Epoch [96/5000]: 100%|██████████| 2/2 [00:00<00:00, 81.00it/s, loss=59.7]\n"
          ]
        },
        {
          "output_type": "stream",
          "name": "stdout",
          "text": [
            "Epoch [96/5000]: Train loss: 60.0886, Valid loss: 64.2146\n",
            "Saving model with loss 64.215...\n"
          ]
        },
        {
          "output_type": "stream",
          "name": "stderr",
          "text": [
            "Epoch [97/5000]: 100%|██████████| 2/2 [00:00<00:00, 105.75it/s, loss=65.7]\n"
          ]
        },
        {
          "output_type": "stream",
          "name": "stdout",
          "text": [
            "Epoch [97/5000]: Train loss: 62.2498, Valid loss: 63.9275\n",
            "Saving model with loss 63.927...\n"
          ]
        },
        {
          "output_type": "stream",
          "name": "stderr",
          "text": [
            "Epoch [98/5000]: 100%|██████████| 2/2 [00:00<00:00, 93.76it/s, loss=55.7]\n"
          ]
        },
        {
          "output_type": "stream",
          "name": "stdout",
          "text": [
            "Epoch [98/5000]: Train loss: 58.6718, Valid loss: 63.6357\n",
            "Saving model with loss 63.636...\n"
          ]
        },
        {
          "output_type": "stream",
          "name": "stderr",
          "text": [
            "Epoch [99/5000]: 100%|██████████| 2/2 [00:00<00:00, 85.14it/s, loss=55.5]\n"
          ]
        },
        {
          "output_type": "stream",
          "name": "stdout",
          "text": [
            "Epoch [99/5000]: Train loss: 58.1972, Valid loss: 63.2829\n",
            "Saving model with loss 63.283...\n"
          ]
        },
        {
          "output_type": "stream",
          "name": "stderr",
          "text": [
            "Epoch [100/5000]: 100%|██████████| 2/2 [00:00<00:00, 85.74it/s, loss=56.4]\n"
          ]
        },
        {
          "output_type": "stream",
          "name": "stdout",
          "text": [
            "Epoch [100/5000]: Train loss: 58.8971, Valid loss: 63.1640\n",
            "Saving model with loss 63.164...\n"
          ]
        },
        {
          "output_type": "stream",
          "name": "stderr",
          "text": [
            "Epoch [101/5000]: 100%|██████████| 2/2 [00:00<00:00, 111.87it/s, loss=66.1]\n"
          ]
        },
        {
          "output_type": "stream",
          "name": "stdout",
          "text": [
            "Epoch [101/5000]: Train loss: 61.6357, Valid loss: 62.7557\n",
            "Saving model with loss 62.756...\n"
          ]
        },
        {
          "output_type": "stream",
          "name": "stderr",
          "text": [
            "Epoch [102/5000]: 100%|██████████| 2/2 [00:00<00:00, 80.61it/s, loss=49.7]\n"
          ]
        },
        {
          "output_type": "stream",
          "name": "stdout",
          "text": [
            "Epoch [102/5000]: Train loss: 56.1121, Valid loss: 62.5131\n",
            "Saving model with loss 62.513...\n"
          ]
        },
        {
          "output_type": "stream",
          "name": "stderr",
          "text": [
            "Epoch [103/5000]: 100%|██████████| 2/2 [00:00<00:00, 83.39it/s, loss=61.3]\n"
          ]
        },
        {
          "output_type": "stream",
          "name": "stdout",
          "text": [
            "Epoch [103/5000]: Train loss: 59.5515, Valid loss: 62.2736\n",
            "Saving model with loss 62.274...\n"
          ]
        },
        {
          "output_type": "stream",
          "name": "stderr",
          "text": [
            "Epoch [104/5000]: 100%|██████████| 2/2 [00:00<00:00, 74.83it/s, loss=55.9]\n"
          ]
        },
        {
          "output_type": "stream",
          "name": "stdout",
          "text": [
            "Epoch [104/5000]: Train loss: 57.3121, Valid loss: 62.0220\n",
            "Saving model with loss 62.022...\n"
          ]
        },
        {
          "output_type": "stream",
          "name": "stderr",
          "text": [
            "Epoch [105/5000]: 100%|██████████| 2/2 [00:00<00:00, 80.17it/s, loss=58.9]\n"
          ]
        },
        {
          "output_type": "stream",
          "name": "stdout",
          "text": [
            "Epoch [105/5000]: Train loss: 58.5879, Valid loss: 61.7168\n",
            "Saving model with loss 61.717...\n"
          ]
        },
        {
          "output_type": "stream",
          "name": "stderr",
          "text": [
            "Epoch [106/5000]: 100%|██████████| 2/2 [00:00<00:00, 84.20it/s, loss=55.3]\n"
          ]
        },
        {
          "output_type": "stream",
          "name": "stdout",
          "text": [
            "Epoch [106/5000]: Train loss: 57.1755, Valid loss: 61.5944\n",
            "Saving model with loss 61.594...\n"
          ]
        },
        {
          "output_type": "stream",
          "name": "stderr",
          "text": [
            "Epoch [107/5000]: 100%|██████████| 2/2 [00:00<00:00, 86.21it/s, loss=54.7]\n"
          ]
        },
        {
          "output_type": "stream",
          "name": "stdout",
          "text": [
            "Epoch [107/5000]: Train loss: 56.7711, Valid loss: 61.4134\n",
            "Saving model with loss 61.413...\n"
          ]
        },
        {
          "output_type": "stream",
          "name": "stderr",
          "text": [
            "Epoch [108/5000]: 100%|██████████| 2/2 [00:00<00:00, 88.43it/s, loss=54.4]\n"
          ]
        },
        {
          "output_type": "stream",
          "name": "stdout",
          "text": [
            "Epoch [108/5000]: Train loss: 56.7323, Valid loss: 61.2599\n",
            "Saving model with loss 61.260...\n"
          ]
        },
        {
          "output_type": "stream",
          "name": "stderr",
          "text": [
            "Epoch [109/5000]: 100%|██████████| 2/2 [00:00<00:00, 80.89it/s, loss=56]\n"
          ]
        },
        {
          "output_type": "stream",
          "name": "stdout",
          "text": [
            "Epoch [109/5000]: Train loss: 57.2011, Valid loss: 61.1699\n",
            "Saving model with loss 61.170...\n"
          ]
        },
        {
          "output_type": "stream",
          "name": "stderr",
          "text": [
            "Epoch [110/5000]: 100%|██████████| 2/2 [00:00<00:00, 80.55it/s, loss=58.4]\n"
          ]
        },
        {
          "output_type": "stream",
          "name": "stdout",
          "text": [
            "Epoch [110/5000]: Train loss: 57.7834, Valid loss: 61.1769\n"
          ]
        },
        {
          "output_type": "stream",
          "name": "stderr",
          "text": [
            "Epoch [111/5000]: 100%|██████████| 2/2 [00:00<00:00, 77.32it/s, loss=59.2]\n"
          ]
        },
        {
          "output_type": "stream",
          "name": "stdout",
          "text": [
            "Epoch [111/5000]: Train loss: 57.9133, Valid loss: 61.1233\n",
            "Saving model with loss 61.123...\n"
          ]
        },
        {
          "output_type": "stream",
          "name": "stderr",
          "text": [
            "Epoch [112/5000]: 100%|██████████| 2/2 [00:00<00:00, 78.74it/s, loss=62.9]\n"
          ]
        },
        {
          "output_type": "stream",
          "name": "stdout",
          "text": [
            "Epoch [112/5000]: Train loss: 59.3764, Valid loss: 60.8235\n",
            "Saving model with loss 60.823...\n"
          ]
        },
        {
          "output_type": "stream",
          "name": "stderr",
          "text": [
            "Epoch [113/5000]: 100%|██████████| 2/2 [00:00<00:00, 81.01it/s, loss=54.2]\n"
          ]
        },
        {
          "output_type": "stream",
          "name": "stdout",
          "text": [
            "Epoch [113/5000]: Train loss: 56.2354, Valid loss: 60.5596\n",
            "Saving model with loss 60.560...\n"
          ]
        },
        {
          "output_type": "stream",
          "name": "stderr",
          "text": [
            "Epoch [114/5000]: 100%|██████████| 2/2 [00:00<00:00, 71.54it/s, loss=62.1]\n"
          ]
        },
        {
          "output_type": "stream",
          "name": "stdout",
          "text": [
            "Epoch [114/5000]: Train loss: 58.7296, Valid loss: 60.4339\n",
            "Saving model with loss 60.434...\n"
          ]
        },
        {
          "output_type": "stream",
          "name": "stderr",
          "text": [
            "Epoch [115/5000]: 100%|██████████| 2/2 [00:00<00:00, 75.00it/s, loss=56.7]\n"
          ]
        },
        {
          "output_type": "stream",
          "name": "stdout",
          "text": [
            "Epoch [115/5000]: Train loss: 56.3330, Valid loss: 60.4687\n"
          ]
        },
        {
          "output_type": "stream",
          "name": "stderr",
          "text": [
            "Epoch [116/5000]: 100%|██████████| 2/2 [00:00<00:00, 57.58it/s, loss=57.8]\n"
          ]
        },
        {
          "output_type": "stream",
          "name": "stdout",
          "text": [
            "Epoch [116/5000]: Train loss: 57.0520, Valid loss: 60.3101\n",
            "Saving model with loss 60.310...\n"
          ]
        },
        {
          "output_type": "stream",
          "name": "stderr",
          "text": [
            "Epoch [117/5000]: 100%|██████████| 2/2 [00:00<00:00, 99.84it/s, loss=53.2]\n"
          ]
        },
        {
          "output_type": "stream",
          "name": "stdout",
          "text": [
            "Epoch [117/5000]: Train loss: 55.8425, Valid loss: 60.1802\n",
            "Saving model with loss 60.180...\n"
          ]
        },
        {
          "output_type": "stream",
          "name": "stderr",
          "text": [
            "Epoch [118/5000]: 100%|██████████| 2/2 [00:00<00:00, 114.15it/s, loss=49.6]\n"
          ]
        },
        {
          "output_type": "stream",
          "name": "stdout",
          "text": [
            "Epoch [118/5000]: Train loss: 54.3086, Valid loss: 60.1017\n",
            "Saving model with loss 60.102...\n"
          ]
        },
        {
          "output_type": "stream",
          "name": "stderr",
          "text": [
            "Epoch [119/5000]: 100%|██████████| 2/2 [00:00<00:00, 100.43it/s, loss=58.8]\n"
          ]
        },
        {
          "output_type": "stream",
          "name": "stdout",
          "text": [
            "Epoch [119/5000]: Train loss: 57.3212, Valid loss: 60.1311\n"
          ]
        },
        {
          "output_type": "stream",
          "name": "stderr",
          "text": [
            "Epoch [120/5000]: 100%|██████████| 2/2 [00:00<00:00, 74.06it/s, loss=54.9]\n"
          ]
        },
        {
          "output_type": "stream",
          "name": "stdout",
          "text": [
            "Epoch [120/5000]: Train loss: 55.9110, Valid loss: 60.0114\n",
            "Saving model with loss 60.011...\n"
          ]
        },
        {
          "output_type": "stream",
          "name": "stderr",
          "text": [
            "Epoch [121/5000]: 100%|██████████| 2/2 [00:00<00:00, 101.43it/s, loss=57.8]\n"
          ]
        },
        {
          "output_type": "stream",
          "name": "stdout",
          "text": [
            "Epoch [121/5000]: Train loss: 57.3231, Valid loss: 60.1492\n"
          ]
        },
        {
          "output_type": "stream",
          "name": "stderr",
          "text": [
            "Epoch [122/5000]: 100%|██████████| 2/2 [00:00<00:00, 72.51it/s, loss=62.5]\n"
          ]
        },
        {
          "output_type": "stream",
          "name": "stdout",
          "text": [
            "Epoch [122/5000]: Train loss: 58.4621, Valid loss: 60.1317\n"
          ]
        },
        {
          "output_type": "stream",
          "name": "stderr",
          "text": [
            "Epoch [123/5000]: 100%|██████████| 2/2 [00:00<00:00, 82.60it/s, loss=56]\n"
          ]
        },
        {
          "output_type": "stream",
          "name": "stdout",
          "text": [
            "Epoch [123/5000]: Train loss: 56.0454, Valid loss: 60.0265\n"
          ]
        },
        {
          "output_type": "stream",
          "name": "stderr",
          "text": [
            "Epoch [124/5000]: 100%|██████████| 2/2 [00:00<00:00, 87.49it/s, loss=61.7]\n"
          ]
        },
        {
          "output_type": "stream",
          "name": "stdout",
          "text": [
            "Epoch [124/5000]: Train loss: 58.4485, Valid loss: 60.0660\n"
          ]
        },
        {
          "output_type": "stream",
          "name": "stderr",
          "text": [
            "Epoch [125/5000]: 100%|██████████| 2/2 [00:00<00:00, 85.61it/s, loss=58.6]\n"
          ]
        },
        {
          "output_type": "stream",
          "name": "stdout",
          "text": [
            "Epoch [125/5000]: Train loss: 56.9146, Valid loss: 60.1191\n"
          ]
        },
        {
          "output_type": "stream",
          "name": "stderr",
          "text": [
            "Epoch [126/5000]: 100%|██████████| 2/2 [00:00<00:00, 66.27it/s, loss=51.1]\n"
          ]
        },
        {
          "output_type": "stream",
          "name": "stdout",
          "text": [
            "Epoch [126/5000]: Train loss: 54.7881, Valid loss: 60.0822\n"
          ]
        },
        {
          "output_type": "stream",
          "name": "stderr",
          "text": [
            "Epoch [127/5000]: 100%|██████████| 2/2 [00:00<00:00, 103.12it/s, loss=65.8]\n"
          ]
        },
        {
          "output_type": "stream",
          "name": "stdout",
          "text": [
            "Epoch [127/5000]: Train loss: 59.8398, Valid loss: 59.6964\n",
            "Saving model with loss 59.696...\n"
          ]
        },
        {
          "output_type": "stream",
          "name": "stderr",
          "text": [
            "Epoch [128/5000]: 100%|██████████| 2/2 [00:00<00:00, 67.46it/s, loss=63.7]\n"
          ]
        },
        {
          "output_type": "stream",
          "name": "stdout",
          "text": [
            "Epoch [128/5000]: Train loss: 58.8046, Valid loss: 59.1513\n",
            "Saving model with loss 59.151...\n"
          ]
        },
        {
          "output_type": "stream",
          "name": "stderr",
          "text": [
            "Epoch [129/5000]: 100%|██████████| 2/2 [00:00<00:00, 91.09it/s, loss=53.2]\n"
          ]
        },
        {
          "output_type": "stream",
          "name": "stdout",
          "text": [
            "Epoch [129/5000]: Train loss: 54.5745, Valid loss: 58.6254\n",
            "Saving model with loss 58.625...\n"
          ]
        },
        {
          "output_type": "stream",
          "name": "stderr",
          "text": [
            "Epoch [130/5000]: 100%|██████████| 2/2 [00:00<00:00, 99.54it/s, loss=52.2]"
          ]
        },
        {
          "output_type": "stream",
          "name": "stdout",
          "text": [
            "Epoch [130/5000]: Train loss: 53.6395, Valid loss: 58.1236\n"
          ]
        },
        {
          "output_type": "stream",
          "name": "stderr",
          "text": [
            "\n"
          ]
        },
        {
          "output_type": "stream",
          "name": "stdout",
          "text": [
            "Saving model with loss 58.124...\n"
          ]
        },
        {
          "output_type": "stream",
          "name": "stderr",
          "text": [
            "Epoch [131/5000]: 100%|██████████| 2/2 [00:00<00:00, 61.71it/s, loss=58.1]\n"
          ]
        },
        {
          "output_type": "stream",
          "name": "stdout",
          "text": [
            "Epoch [131/5000]: Train loss: 55.2240, Valid loss: 57.5746\n",
            "Saving model with loss 57.575...\n"
          ]
        },
        {
          "output_type": "stream",
          "name": "stderr",
          "text": [
            "Epoch [132/5000]: 100%|██████████| 2/2 [00:00<00:00, 78.64it/s, loss=42.3]\n"
          ]
        },
        {
          "output_type": "stream",
          "name": "stdout",
          "text": [
            "Epoch [132/5000]: Train loss: 49.7362, Valid loss: 56.8300\n",
            "Saving model with loss 56.830...\n"
          ]
        },
        {
          "output_type": "stream",
          "name": "stderr",
          "text": [
            "Epoch [133/5000]: 100%|██████████| 2/2 [00:00<00:00, 81.35it/s, loss=44.4]\n"
          ]
        },
        {
          "output_type": "stream",
          "name": "stdout",
          "text": [
            "Epoch [133/5000]: Train loss: 50.3193, Valid loss: 56.1568\n",
            "Saving model with loss 56.157...\n"
          ]
        },
        {
          "output_type": "stream",
          "name": "stderr",
          "text": [
            "Epoch [134/5000]: 100%|██████████| 2/2 [00:00<00:00, 81.91it/s, loss=49]\n"
          ]
        },
        {
          "output_type": "stream",
          "name": "stdout",
          "text": [
            "Epoch [134/5000]: Train loss: 50.8210, Valid loss: 55.4243\n",
            "Saving model with loss 55.424...\n"
          ]
        },
        {
          "output_type": "stream",
          "name": "stderr",
          "text": [
            "Epoch [135/5000]: 100%|██████████| 2/2 [00:00<00:00, 66.18it/s, loss=55.5]\n"
          ]
        },
        {
          "output_type": "stream",
          "name": "stdout",
          "text": [
            "Epoch [135/5000]: Train loss: 52.7159, Valid loss: 54.8681\n",
            "Saving model with loss 54.868...\n"
          ]
        },
        {
          "output_type": "stream",
          "name": "stderr",
          "text": [
            "Epoch [136/5000]: 100%|██████████| 2/2 [00:00<00:00, 91.57it/s, loss=51.5]\n"
          ]
        },
        {
          "output_type": "stream",
          "name": "stdout",
          "text": [
            "Epoch [136/5000]: Train loss: 50.9766, Valid loss: 54.3924\n",
            "Saving model with loss 54.392...\n"
          ]
        },
        {
          "output_type": "stream",
          "name": "stderr",
          "text": [
            "Epoch [137/5000]: 100%|██████████| 2/2 [00:00<00:00, 82.03it/s, loss=48.7]\n"
          ]
        },
        {
          "output_type": "stream",
          "name": "stdout",
          "text": [
            "Epoch [137/5000]: Train loss: 49.2863, Valid loss: 53.6321\n",
            "Saving model with loss 53.632...\n"
          ]
        },
        {
          "output_type": "stream",
          "name": "stderr",
          "text": [
            "Epoch [138/5000]: 100%|██████████| 2/2 [00:00<00:00, 85.33it/s, loss=45.7]\n"
          ]
        },
        {
          "output_type": "stream",
          "name": "stdout",
          "text": [
            "Epoch [138/5000]: Train loss: 48.0863, Valid loss: 53.1392\n",
            "Saving model with loss 53.139...\n"
          ]
        },
        {
          "output_type": "stream",
          "name": "stderr",
          "text": [
            "Epoch [139/5000]: 100%|██████████| 2/2 [00:00<00:00, 81.27it/s, loss=42.9]\n"
          ]
        },
        {
          "output_type": "stream",
          "name": "stdout",
          "text": [
            "Epoch [139/5000]: Train loss: 46.8227, Valid loss: 52.3921\n",
            "Saving model with loss 52.392...\n"
          ]
        },
        {
          "output_type": "stream",
          "name": "stderr",
          "text": [
            "Epoch [140/5000]: 100%|██████████| 2/2 [00:00<00:00, 85.29it/s, loss=45.9]\n"
          ]
        },
        {
          "output_type": "stream",
          "name": "stdout",
          "text": [
            "Epoch [140/5000]: Train loss: 47.1698, Valid loss: 51.6926\n",
            "Saving model with loss 51.693...\n"
          ]
        },
        {
          "output_type": "stream",
          "name": "stderr",
          "text": [
            "Epoch [141/5000]: 100%|██████████| 2/2 [00:00<00:00, 88.71it/s, loss=50.2]\n"
          ]
        },
        {
          "output_type": "stream",
          "name": "stdout",
          "text": [
            "Epoch [141/5000]: Train loss: 48.2852, Valid loss: 51.0612\n",
            "Saving model with loss 51.061...\n"
          ]
        },
        {
          "output_type": "stream",
          "name": "stderr",
          "text": [
            "Epoch [142/5000]: 100%|██████████| 2/2 [00:00<00:00, 65.09it/s, loss=46.4]\n"
          ]
        },
        {
          "output_type": "stream",
          "name": "stdout",
          "text": [
            "Epoch [142/5000]: Train loss: 46.7580, Valid loss: 50.4002\n",
            "Saving model with loss 50.400...\n"
          ]
        },
        {
          "output_type": "stream",
          "name": "stderr",
          "text": [
            "Epoch [143/5000]: 100%|██████████| 2/2 [00:00<00:00, 102.43it/s, loss=44.6]\n"
          ]
        },
        {
          "output_type": "stream",
          "name": "stdout",
          "text": [
            "Epoch [143/5000]: Train loss: 45.5582, Valid loss: 50.0163\n",
            "Saving model with loss 50.016...\n"
          ]
        },
        {
          "output_type": "stream",
          "name": "stderr",
          "text": [
            "Epoch [144/5000]: 100%|██████████| 2/2 [00:00<00:00, 85.58it/s, loss=47.5]\n"
          ]
        },
        {
          "output_type": "stream",
          "name": "stdout",
          "text": [
            "Epoch [144/5000]: Train loss: 46.3248, Valid loss: 49.3924\n",
            "Saving model with loss 49.392...\n"
          ]
        },
        {
          "output_type": "stream",
          "name": "stderr",
          "text": [
            "Epoch [145/5000]: 100%|██████████| 2/2 [00:00<00:00, 91.89it/s, loss=46.2]\n"
          ]
        },
        {
          "output_type": "stream",
          "name": "stdout",
          "text": [
            "Epoch [145/5000]: Train loss: 45.6675, Valid loss: 48.6842\n",
            "Saving model with loss 48.684...\n"
          ]
        },
        {
          "output_type": "stream",
          "name": "stderr",
          "text": [
            "Epoch [146/5000]: 100%|██████████| 2/2 [00:00<00:00, 93.62it/s, loss=43.4]\n"
          ]
        },
        {
          "output_type": "stream",
          "name": "stdout",
          "text": [
            "Epoch [146/5000]: Train loss: 43.7253, Valid loss: 48.1052\n",
            "Saving model with loss 48.105...\n"
          ]
        },
        {
          "output_type": "stream",
          "name": "stderr",
          "text": [
            "Epoch [147/5000]: 100%|██████████| 2/2 [00:00<00:00, 94.13it/s, loss=47.3]\n"
          ]
        },
        {
          "output_type": "stream",
          "name": "stdout",
          "text": [
            "Epoch [147/5000]: Train loss: 44.3305, Valid loss: 47.4588\n",
            "Saving model with loss 47.459...\n"
          ]
        },
        {
          "output_type": "stream",
          "name": "stderr",
          "text": [
            "Epoch [148/5000]: 100%|██████████| 2/2 [00:00<00:00, 85.08it/s, loss=50.4]\n"
          ]
        },
        {
          "output_type": "stream",
          "name": "stdout",
          "text": [
            "Epoch [148/5000]: Train loss: 45.2620, Valid loss: 46.7972\n",
            "Saving model with loss 46.797...\n"
          ]
        },
        {
          "output_type": "stream",
          "name": "stderr",
          "text": [
            "Epoch [149/5000]: 100%|██████████| 2/2 [00:00<00:00, 84.57it/s, loss=48.9]\n"
          ]
        },
        {
          "output_type": "stream",
          "name": "stdout",
          "text": [
            "Epoch [149/5000]: Train loss: 44.3219, Valid loss: 46.0006\n",
            "Saving model with loss 46.001...\n"
          ]
        },
        {
          "output_type": "stream",
          "name": "stderr",
          "text": [
            "Epoch [150/5000]: 100%|██████████| 2/2 [00:00<00:00, 97.06it/s, loss=37.6]\n"
          ]
        },
        {
          "output_type": "stream",
          "name": "stdout",
          "text": [
            "Epoch [150/5000]: Train loss: 40.5753, Valid loss: 45.2133\n",
            "Saving model with loss 45.213...\n"
          ]
        },
        {
          "output_type": "stream",
          "name": "stderr",
          "text": [
            "Epoch [151/5000]: 100%|██████████| 2/2 [00:00<00:00, 84.65it/s, loss=41.5]\n"
          ]
        },
        {
          "output_type": "stream",
          "name": "stdout",
          "text": [
            "Epoch [151/5000]: Train loss: 41.3022, Valid loss: 44.4542\n",
            "Saving model with loss 44.454...\n"
          ]
        },
        {
          "output_type": "stream",
          "name": "stderr",
          "text": [
            "Epoch [152/5000]: 100%|██████████| 2/2 [00:00<00:00, 88.03it/s, loss=40.3]\n"
          ]
        },
        {
          "output_type": "stream",
          "name": "stdout",
          "text": [
            "Epoch [152/5000]: Train loss: 40.3686, Valid loss: 43.7890\n",
            "Saving model with loss 43.789...\n"
          ]
        },
        {
          "output_type": "stream",
          "name": "stderr",
          "text": [
            "Epoch [153/5000]: 100%|██████████| 2/2 [00:00<00:00, 100.85it/s, loss=37.7]\n"
          ]
        },
        {
          "output_type": "stream",
          "name": "stdout",
          "text": [
            "Epoch [153/5000]: Train loss: 38.4784, Valid loss: 43.0460\n",
            "Saving model with loss 43.046...\n"
          ]
        },
        {
          "output_type": "stream",
          "name": "stderr",
          "text": [
            "Epoch [154/5000]: 100%|██████████| 2/2 [00:00<00:00, 95.35it/s, loss=37.3]\n"
          ]
        },
        {
          "output_type": "stream",
          "name": "stdout",
          "text": [
            "Epoch [154/5000]: Train loss: 38.1124, Valid loss: 42.4628\n",
            "Saving model with loss 42.463...\n"
          ]
        },
        {
          "output_type": "stream",
          "name": "stderr",
          "text": [
            "Epoch [155/5000]: 100%|██████████| 2/2 [00:00<00:00, 95.61it/s, loss=38.8]\n"
          ]
        },
        {
          "output_type": "stream",
          "name": "stdout",
          "text": [
            "Epoch [155/5000]: Train loss: 38.5294, Valid loss: 41.6790\n",
            "Saving model with loss 41.679...\n"
          ]
        },
        {
          "output_type": "stream",
          "name": "stderr",
          "text": [
            "Epoch [156/5000]: 100%|██████████| 2/2 [00:00<00:00, 73.46it/s, loss=40.8]\n"
          ]
        },
        {
          "output_type": "stream",
          "name": "stdout",
          "text": [
            "Epoch [156/5000]: Train loss: 38.7437, Valid loss: 40.9907\n",
            "Saving model with loss 40.991...\n"
          ]
        },
        {
          "output_type": "stream",
          "name": "stderr",
          "text": [
            "Epoch [157/5000]: 100%|██████████| 2/2 [00:00<00:00, 89.00it/s, loss=43.4]\n"
          ]
        },
        {
          "output_type": "stream",
          "name": "stdout",
          "text": [
            "Epoch [157/5000]: Train loss: 39.6550, Valid loss: 40.3336\n",
            "Saving model with loss 40.334...\n"
          ]
        },
        {
          "output_type": "stream",
          "name": "stderr",
          "text": [
            "Epoch [158/5000]: 100%|██████████| 2/2 [00:00<00:00, 109.73it/s, loss=44.7]\n"
          ]
        },
        {
          "output_type": "stream",
          "name": "stdout",
          "text": [
            "Epoch [158/5000]: Train loss: 39.7862, Valid loss: 39.7431\n",
            "Saving model with loss 39.743...\n"
          ]
        },
        {
          "output_type": "stream",
          "name": "stderr",
          "text": [
            "Epoch [159/5000]: 100%|██████████| 2/2 [00:00<00:00, 87.80it/s, loss=34.9]\n"
          ]
        },
        {
          "output_type": "stream",
          "name": "stdout",
          "text": [
            "Epoch [159/5000]: Train loss: 36.0606, Valid loss: 39.4062\n",
            "Saving model with loss 39.406...\n"
          ]
        },
        {
          "output_type": "stream",
          "name": "stderr",
          "text": [
            "Epoch [160/5000]: 100%|██████████| 2/2 [00:00<00:00, 77.02it/s, loss=36.1]\n"
          ]
        },
        {
          "output_type": "stream",
          "name": "stdout",
          "text": [
            "Epoch [160/5000]: Train loss: 35.4478, Valid loss: 38.7462\n",
            "Saving model with loss 38.746...\n"
          ]
        },
        {
          "output_type": "stream",
          "name": "stderr",
          "text": [
            "Epoch [161/5000]: 100%|██████████| 2/2 [00:00<00:00, 90.51it/s, loss=35.9]\n"
          ]
        },
        {
          "output_type": "stream",
          "name": "stdout",
          "text": [
            "Epoch [161/5000]: Train loss: 35.3251, Valid loss: 38.3530\n",
            "Saving model with loss 38.353...\n"
          ]
        },
        {
          "output_type": "stream",
          "name": "stderr",
          "text": [
            "Epoch [162/5000]: 100%|██████████| 2/2 [00:00<00:00, 93.35it/s, loss=34.8]\n"
          ]
        },
        {
          "output_type": "stream",
          "name": "stdout",
          "text": [
            "Epoch [162/5000]: Train loss: 35.0480, Valid loss: 37.8269\n",
            "Saving model with loss 37.827...\n"
          ]
        },
        {
          "output_type": "stream",
          "name": "stderr",
          "text": [
            "Epoch [163/5000]: 100%|██████████| 2/2 [00:00<00:00, 91.41it/s, loss=37.3]\n"
          ]
        },
        {
          "output_type": "stream",
          "name": "stdout",
          "text": [
            "Epoch [163/5000]: Train loss: 35.2805, Valid loss: 37.1557\n",
            "Saving model with loss 37.156...\n"
          ]
        },
        {
          "output_type": "stream",
          "name": "stderr",
          "text": [
            "Epoch [164/5000]: 100%|██████████| 2/2 [00:00<00:00, 82.37it/s, loss=28.4]\n"
          ]
        },
        {
          "output_type": "stream",
          "name": "stdout",
          "text": [
            "Epoch [164/5000]: Train loss: 32.6571, Valid loss: 36.4610\n",
            "Saving model with loss 36.461...\n"
          ]
        },
        {
          "output_type": "stream",
          "name": "stderr",
          "text": [
            "Epoch [165/5000]: 100%|██████████| 2/2 [00:00<00:00, 62.97it/s, loss=33.1]\n"
          ]
        },
        {
          "output_type": "stream",
          "name": "stdout",
          "text": [
            "Epoch [165/5000]: Train loss: 32.6564, Valid loss: 35.9692\n",
            "Saving model with loss 35.969...\n"
          ]
        },
        {
          "output_type": "stream",
          "name": "stderr",
          "text": [
            "Epoch [166/5000]: 100%|██████████| 2/2 [00:00<00:00, 81.51it/s, loss=32.3]\n"
          ]
        },
        {
          "output_type": "stream",
          "name": "stdout",
          "text": [
            "Epoch [166/5000]: Train loss: 32.7511, Valid loss: 35.4566\n",
            "Saving model with loss 35.457...\n"
          ]
        },
        {
          "output_type": "stream",
          "name": "stderr",
          "text": [
            "Epoch [167/5000]: 100%|██████████| 2/2 [00:00<00:00, 114.72it/s, loss=32.1]\n"
          ]
        },
        {
          "output_type": "stream",
          "name": "stdout",
          "text": [
            "Epoch [167/5000]: Train loss: 33.1021, Valid loss: 34.8871\n",
            "Saving model with loss 34.887...\n"
          ]
        },
        {
          "output_type": "stream",
          "name": "stderr",
          "text": [
            "Epoch [168/5000]: 100%|██████████| 2/2 [00:00<00:00, 97.77it/s, loss=28.6]\n"
          ]
        },
        {
          "output_type": "stream",
          "name": "stdout",
          "text": [
            "Epoch [168/5000]: Train loss: 31.1447, Valid loss: 34.2592\n",
            "Saving model with loss 34.259...\n"
          ]
        },
        {
          "output_type": "stream",
          "name": "stderr",
          "text": [
            "Epoch [169/5000]: 100%|██████████| 2/2 [00:00<00:00, 87.76it/s, loss=30.5]\n"
          ]
        },
        {
          "output_type": "stream",
          "name": "stdout",
          "text": [
            "Epoch [169/5000]: Train loss: 30.9725, Valid loss: 33.7156\n",
            "Saving model with loss 33.716...\n"
          ]
        },
        {
          "output_type": "stream",
          "name": "stderr",
          "text": [
            "Epoch [170/5000]: 100%|██████████| 2/2 [00:00<00:00, 86.07it/s, loss=28.9]\n"
          ]
        },
        {
          "output_type": "stream",
          "name": "stdout",
          "text": [
            "Epoch [170/5000]: Train loss: 30.8560, Valid loss: 33.1997\n",
            "Saving model with loss 33.200...\n"
          ]
        },
        {
          "output_type": "stream",
          "name": "stderr",
          "text": [
            "Epoch [171/5000]: 100%|██████████| 2/2 [00:00<00:00, 85.28it/s, loss=31.3]\n"
          ]
        },
        {
          "output_type": "stream",
          "name": "stdout",
          "text": [
            "Epoch [171/5000]: Train loss: 30.5956, Valid loss: 32.8458\n",
            "Saving model with loss 32.846...\n"
          ]
        },
        {
          "output_type": "stream",
          "name": "stderr",
          "text": [
            "Epoch [172/5000]: 100%|██████████| 2/2 [00:00<00:00, 89.14it/s, loss=30.4]\n"
          ]
        },
        {
          "output_type": "stream",
          "name": "stdout",
          "text": [
            "Epoch [172/5000]: Train loss: 30.8762, Valid loss: 32.5693\n",
            "Saving model with loss 32.569...\n"
          ]
        },
        {
          "output_type": "stream",
          "name": "stderr",
          "text": [
            "Epoch [173/5000]: 100%|██████████| 2/2 [00:00<00:00, 94.30it/s, loss=26.4]\n"
          ]
        },
        {
          "output_type": "stream",
          "name": "stdout",
          "text": [
            "Epoch [173/5000]: Train loss: 28.6146, Valid loss: 32.2575\n",
            "Saving model with loss 32.258...\n"
          ]
        },
        {
          "output_type": "stream",
          "name": "stderr",
          "text": [
            "Epoch [174/5000]: 100%|██████████| 2/2 [00:00<00:00, 37.78it/s, loss=29.7]\n"
          ]
        },
        {
          "output_type": "stream",
          "name": "stdout",
          "text": [
            "Epoch [174/5000]: Train loss: 29.2757, Valid loss: 31.7401\n",
            "Saving model with loss 31.740...\n"
          ]
        },
        {
          "output_type": "stream",
          "name": "stderr",
          "text": [
            "Epoch [175/5000]: 100%|██████████| 2/2 [00:00<00:00, 111.32it/s, loss=25.9]\n"
          ]
        },
        {
          "output_type": "stream",
          "name": "stdout",
          "text": [
            "Epoch [175/5000]: Train loss: 28.2746, Valid loss: 31.2919\n",
            "Saving model with loss 31.292...\n"
          ]
        },
        {
          "output_type": "stream",
          "name": "stderr",
          "text": [
            "Epoch [176/5000]: 100%|██████████| 2/2 [00:00<00:00, 80.11it/s, loss=23.3]\n"
          ]
        },
        {
          "output_type": "stream",
          "name": "stdout",
          "text": [
            "Epoch [176/5000]: Train loss: 27.3388, Valid loss: 30.9427\n",
            "Saving model with loss 30.943...\n"
          ]
        },
        {
          "output_type": "stream",
          "name": "stderr",
          "text": [
            "Epoch [177/5000]: 100%|██████████| 2/2 [00:00<00:00, 80.00it/s, loss=31.1]\n"
          ]
        },
        {
          "output_type": "stream",
          "name": "stdout",
          "text": [
            "Epoch [177/5000]: Train loss: 30.0258, Valid loss: 30.6161\n",
            "Saving model with loss 30.616...\n"
          ]
        },
        {
          "output_type": "stream",
          "name": "stderr",
          "text": [
            "Epoch [178/5000]: 100%|██████████| 2/2 [00:00<00:00, 60.35it/s, loss=35.6]\n"
          ]
        },
        {
          "output_type": "stream",
          "name": "stdout",
          "text": [
            "Epoch [178/5000]: Train loss: 30.8320, Valid loss: 30.1335\n",
            "Saving model with loss 30.134...\n"
          ]
        },
        {
          "output_type": "stream",
          "name": "stderr",
          "text": [
            "Epoch [179/5000]: 100%|██████████| 2/2 [00:00<00:00, 93.97it/s, loss=27]\n"
          ]
        },
        {
          "output_type": "stream",
          "name": "stdout",
          "text": [
            "Epoch [179/5000]: Train loss: 27.8426, Valid loss: 29.8503\n",
            "Saving model with loss 29.850...\n"
          ]
        },
        {
          "output_type": "stream",
          "name": "stderr",
          "text": [
            "Epoch [180/5000]: 100%|██████████| 2/2 [00:00<00:00, 91.50it/s, loss=30.9]\n"
          ]
        },
        {
          "output_type": "stream",
          "name": "stdout",
          "text": [
            "Epoch [180/5000]: Train loss: 28.1465, Valid loss: 29.5899\n",
            "Saving model with loss 29.590...\n"
          ]
        },
        {
          "output_type": "stream",
          "name": "stderr",
          "text": [
            "Epoch [181/5000]: 100%|██████████| 2/2 [00:00<00:00, 104.52it/s, loss=22.2]\n"
          ]
        },
        {
          "output_type": "stream",
          "name": "stdout",
          "text": [
            "Epoch [181/5000]: Train loss: 25.6868, Valid loss: 29.2247\n",
            "Saving model with loss 29.225...\n"
          ]
        },
        {
          "output_type": "stream",
          "name": "stderr",
          "text": [
            "Epoch [182/5000]: 100%|██████████| 2/2 [00:00<00:00, 106.67it/s, loss=25.8]\n"
          ]
        },
        {
          "output_type": "stream",
          "name": "stdout",
          "text": [
            "Epoch [182/5000]: Train loss: 27.3081, Valid loss: 28.8005\n",
            "Saving model with loss 28.800...\n"
          ]
        },
        {
          "output_type": "stream",
          "name": "stderr",
          "text": [
            "Epoch [183/5000]: 100%|██████████| 2/2 [00:00<00:00, 101.61it/s, loss=28.6]\n"
          ]
        },
        {
          "output_type": "stream",
          "name": "stdout",
          "text": [
            "Epoch [183/5000]: Train loss: 27.4849, Valid loss: 28.5090\n",
            "Saving model with loss 28.509...\n"
          ]
        },
        {
          "output_type": "stream",
          "name": "stderr",
          "text": [
            "Epoch [184/5000]: 100%|██████████| 2/2 [00:00<00:00, 89.49it/s, loss=32.1]\n"
          ]
        },
        {
          "output_type": "stream",
          "name": "stdout",
          "text": [
            "Epoch [184/5000]: Train loss: 29.0533, Valid loss: 28.2277\n",
            "Saving model with loss 28.228...\n"
          ]
        },
        {
          "output_type": "stream",
          "name": "stderr",
          "text": [
            "Epoch [185/5000]: 100%|██████████| 2/2 [00:00<00:00, 95.94it/s, loss=25.2]\n"
          ]
        },
        {
          "output_type": "stream",
          "name": "stdout",
          "text": [
            "Epoch [185/5000]: Train loss: 25.3788, Valid loss: 27.8794\n",
            "Saving model with loss 27.879...\n"
          ]
        },
        {
          "output_type": "stream",
          "name": "stderr",
          "text": [
            "Epoch [186/5000]: 100%|██████████| 2/2 [00:00<00:00, 108.77it/s, loss=34.9]\n"
          ]
        },
        {
          "output_type": "stream",
          "name": "stdout",
          "text": [
            "Epoch [186/5000]: Train loss: 29.4189, Valid loss: 27.5372\n",
            "Saving model with loss 27.537...\n"
          ]
        },
        {
          "output_type": "stream",
          "name": "stderr",
          "text": [
            "Epoch [187/5000]: 100%|██████████| 2/2 [00:00<00:00, 103.14it/s, loss=27.9]\n"
          ]
        },
        {
          "output_type": "stream",
          "name": "stdout",
          "text": [
            "Epoch [187/5000]: Train loss: 27.0599, Valid loss: 27.3645\n",
            "Saving model with loss 27.365...\n"
          ]
        },
        {
          "output_type": "stream",
          "name": "stderr",
          "text": [
            "Epoch [188/5000]: 100%|██████████| 2/2 [00:00<00:00, 97.38it/s, loss=29.5]\n"
          ]
        },
        {
          "output_type": "stream",
          "name": "stdout",
          "text": [
            "Epoch [188/5000]: Train loss: 27.6343, Valid loss: 26.8529\n",
            "Saving model with loss 26.853...\n"
          ]
        },
        {
          "output_type": "stream",
          "name": "stderr",
          "text": [
            "Epoch [189/5000]: 100%|██████████| 2/2 [00:00<00:00, 103.40it/s, loss=24.7]\n"
          ]
        },
        {
          "output_type": "stream",
          "name": "stdout",
          "text": [
            "Epoch [189/5000]: Train loss: 24.9192, Valid loss: 26.6533\n",
            "Saving model with loss 26.653...\n"
          ]
        },
        {
          "output_type": "stream",
          "name": "stderr",
          "text": [
            "Epoch [190/5000]: 100%|██████████| 2/2 [00:00<00:00, 84.62it/s, loss=27]\n"
          ]
        },
        {
          "output_type": "stream",
          "name": "stdout",
          "text": [
            "Epoch [190/5000]: Train loss: 26.4405, Valid loss: 26.4947\n",
            "Saving model with loss 26.495...\n"
          ]
        },
        {
          "output_type": "stream",
          "name": "stderr",
          "text": [
            "Epoch [191/5000]: 100%|██████████| 2/2 [00:00<00:00, 85.17it/s, loss=21.3]\n"
          ]
        },
        {
          "output_type": "stream",
          "name": "stdout",
          "text": [
            "Epoch [191/5000]: Train loss: 24.5117, Valid loss: 26.2904\n",
            "Saving model with loss 26.290...\n"
          ]
        },
        {
          "output_type": "stream",
          "name": "stderr",
          "text": [
            "Epoch [192/5000]: 100%|██████████| 2/2 [00:00<00:00, 66.22it/s, loss=22.5]\n"
          ]
        },
        {
          "output_type": "stream",
          "name": "stdout",
          "text": [
            "Epoch [192/5000]: Train loss: 24.6767, Valid loss: 25.9612\n",
            "Saving model with loss 25.961...\n"
          ]
        },
        {
          "output_type": "stream",
          "name": "stderr",
          "text": [
            "Epoch [193/5000]: 100%|██████████| 2/2 [00:00<00:00, 105.78it/s, loss=32.4]\n"
          ]
        },
        {
          "output_type": "stream",
          "name": "stdout",
          "text": [
            "Epoch [193/5000]: Train loss: 27.5850, Valid loss: 25.8022\n",
            "Saving model with loss 25.802...\n"
          ]
        },
        {
          "output_type": "stream",
          "name": "stderr",
          "text": [
            "Epoch [194/5000]: 100%|██████████| 2/2 [00:00<00:00, 94.76it/s, loss=23]\n"
          ]
        },
        {
          "output_type": "stream",
          "name": "stdout",
          "text": [
            "Epoch [194/5000]: Train loss: 24.1103, Valid loss: 25.6434\n",
            "Saving model with loss 25.643...\n"
          ]
        },
        {
          "output_type": "stream",
          "name": "stderr",
          "text": [
            "Epoch [195/5000]: 100%|██████████| 2/2 [00:00<00:00, 86.77it/s, loss=23.5]\n"
          ]
        },
        {
          "output_type": "stream",
          "name": "stdout",
          "text": [
            "Epoch [195/5000]: Train loss: 23.5327, Valid loss: 25.5205\n",
            "Saving model with loss 25.520...\n"
          ]
        },
        {
          "output_type": "stream",
          "name": "stderr",
          "text": [
            "Epoch [196/5000]: 100%|██████████| 2/2 [00:00<00:00, 79.96it/s, loss=28]\n"
          ]
        },
        {
          "output_type": "stream",
          "name": "stdout",
          "text": [
            "Epoch [196/5000]: Train loss: 26.0252, Valid loss: 25.3635\n",
            "Saving model with loss 25.364...\n"
          ]
        },
        {
          "output_type": "stream",
          "name": "stderr",
          "text": [
            "Epoch [197/5000]: 100%|██████████| 2/2 [00:00<00:00, 74.22it/s, loss=23.8]\n"
          ]
        },
        {
          "output_type": "stream",
          "name": "stdout",
          "text": [
            "Epoch [197/5000]: Train loss: 24.8758, Valid loss: 25.0991\n",
            "Saving model with loss 25.099...\n"
          ]
        },
        {
          "output_type": "stream",
          "name": "stderr",
          "text": [
            "Epoch [198/5000]: 100%|██████████| 2/2 [00:00<00:00, 74.14it/s, loss=24.7]\n"
          ]
        },
        {
          "output_type": "stream",
          "name": "stdout",
          "text": [
            "Epoch [198/5000]: Train loss: 24.0027, Valid loss: 24.9368\n",
            "Saving model with loss 24.937...\n"
          ]
        },
        {
          "output_type": "stream",
          "name": "stderr",
          "text": [
            "Epoch [199/5000]: 100%|██████████| 2/2 [00:00<00:00, 66.42it/s, loss=25.3]\n"
          ]
        },
        {
          "output_type": "stream",
          "name": "stdout",
          "text": [
            "Epoch [199/5000]: Train loss: 25.7241, Valid loss: 24.8746\n",
            "Saving model with loss 24.875...\n"
          ]
        },
        {
          "output_type": "stream",
          "name": "stderr",
          "text": [
            "Epoch [200/5000]: 100%|██████████| 2/2 [00:00<00:00, 75.13it/s, loss=22.8]\n"
          ]
        },
        {
          "output_type": "stream",
          "name": "stdout",
          "text": [
            "Epoch [200/5000]: Train loss: 23.5932, Valid loss: 24.7232\n",
            "Saving model with loss 24.723...\n"
          ]
        },
        {
          "output_type": "stream",
          "name": "stderr",
          "text": [
            "Epoch [201/5000]: 100%|██████████| 2/2 [00:00<00:00, 83.76it/s, loss=21.5]\n"
          ]
        },
        {
          "output_type": "stream",
          "name": "stdout",
          "text": [
            "Epoch [201/5000]: Train loss: 23.1724, Valid loss: 24.6899\n",
            "Saving model with loss 24.690...\n"
          ]
        },
        {
          "output_type": "stream",
          "name": "stderr",
          "text": [
            "Epoch [202/5000]: 100%|██████████| 2/2 [00:00<00:00, 109.76it/s, loss=23.8]\n"
          ]
        },
        {
          "output_type": "stream",
          "name": "stdout",
          "text": [
            "Epoch [202/5000]: Train loss: 23.8454, Valid loss: 24.4743\n",
            "Saving model with loss 24.474...\n"
          ]
        },
        {
          "output_type": "stream",
          "name": "stderr",
          "text": [
            "Epoch [203/5000]: 100%|██████████| 2/2 [00:00<00:00, 43.89it/s, loss=24.4]\n"
          ]
        },
        {
          "output_type": "stream",
          "name": "stdout",
          "text": [
            "Epoch [203/5000]: Train loss: 24.1677, Valid loss: 24.3263\n",
            "Saving model with loss 24.326...\n"
          ]
        },
        {
          "output_type": "stream",
          "name": "stderr",
          "text": [
            "Epoch [204/5000]: 100%|██████████| 2/2 [00:00<00:00, 63.30it/s, loss=22.8]\n"
          ]
        },
        {
          "output_type": "stream",
          "name": "stdout",
          "text": [
            "Epoch [204/5000]: Train loss: 24.2190, Valid loss: 24.2794\n",
            "Saving model with loss 24.279...\n"
          ]
        },
        {
          "output_type": "stream",
          "name": "stderr",
          "text": [
            "Epoch [205/5000]: 100%|██████████| 2/2 [00:00<00:00, 81.04it/s, loss=23.3]\n"
          ]
        },
        {
          "output_type": "stream",
          "name": "stdout",
          "text": [
            "Epoch [205/5000]: Train loss: 23.7433, Valid loss: 24.1832\n",
            "Saving model with loss 24.183...\n"
          ]
        },
        {
          "output_type": "stream",
          "name": "stderr",
          "text": [
            "Epoch [206/5000]: 100%|██████████| 2/2 [00:00<00:00, 81.07it/s, loss=22.1]\n"
          ]
        },
        {
          "output_type": "stream",
          "name": "stdout",
          "text": [
            "Epoch [206/5000]: Train loss: 23.3436, Valid loss: 24.1129\n",
            "Saving model with loss 24.113...\n"
          ]
        },
        {
          "output_type": "stream",
          "name": "stderr",
          "text": [
            "Epoch [207/5000]: 100%|██████████| 2/2 [00:00<00:00, 89.85it/s, loss=18]\n"
          ]
        },
        {
          "output_type": "stream",
          "name": "stdout",
          "text": [
            "Epoch [207/5000]: Train loss: 21.0023, Valid loss: 23.9283\n",
            "Saving model with loss 23.928...\n"
          ]
        },
        {
          "output_type": "stream",
          "name": "stderr",
          "text": [
            "Epoch [208/5000]: 100%|██████████| 2/2 [00:00<00:00, 99.99it/s, loss=26.4]\n"
          ]
        },
        {
          "output_type": "stream",
          "name": "stdout",
          "text": [
            "Epoch [208/5000]: Train loss: 24.6890, Valid loss: 23.7805\n",
            "Saving model with loss 23.780...\n"
          ]
        },
        {
          "output_type": "stream",
          "name": "stderr",
          "text": [
            "Epoch [209/5000]: 100%|██████████| 2/2 [00:00<00:00, 104.37it/s, loss=23.7]\n"
          ]
        },
        {
          "output_type": "stream",
          "name": "stdout",
          "text": [
            "Epoch [209/5000]: Train loss: 23.8679, Valid loss: 23.7238\n",
            "Saving model with loss 23.724...\n"
          ]
        },
        {
          "output_type": "stream",
          "name": "stderr",
          "text": [
            "Epoch [210/5000]: 100%|██████████| 2/2 [00:00<00:00, 71.85it/s, loss=23.7]\n"
          ]
        },
        {
          "output_type": "stream",
          "name": "stdout",
          "text": [
            "Epoch [210/5000]: Train loss: 23.5719, Valid loss: 23.6534\n",
            "Saving model with loss 23.653...\n"
          ]
        },
        {
          "output_type": "stream",
          "name": "stderr",
          "text": [
            "Epoch [211/5000]: 100%|██████████| 2/2 [00:00<00:00, 76.89it/s, loss=24.5]\n"
          ]
        },
        {
          "output_type": "stream",
          "name": "stdout",
          "text": [
            "Epoch [211/5000]: Train loss: 23.7849, Valid loss: 23.4401\n",
            "Saving model with loss 23.440...\n"
          ]
        },
        {
          "output_type": "stream",
          "name": "stderr",
          "text": [
            "Epoch [212/5000]: 100%|██████████| 2/2 [00:00<00:00, 87.16it/s, loss=21.6]\n"
          ]
        },
        {
          "output_type": "stream",
          "name": "stdout",
          "text": [
            "Epoch [212/5000]: Train loss: 22.8589, Valid loss: 23.3676\n",
            "Saving model with loss 23.368...\n"
          ]
        },
        {
          "output_type": "stream",
          "name": "stderr",
          "text": [
            "Epoch [213/5000]: 100%|██████████| 2/2 [00:00<00:00, 71.60it/s, loss=24.6]\n"
          ]
        },
        {
          "output_type": "stream",
          "name": "stdout",
          "text": [
            "Epoch [213/5000]: Train loss: 23.8263, Valid loss: 23.3179\n",
            "Saving model with loss 23.318...\n"
          ]
        },
        {
          "output_type": "stream",
          "name": "stderr",
          "text": [
            "Epoch [214/5000]: 100%|██████████| 2/2 [00:00<00:00, 79.98it/s, loss=24]\n"
          ]
        },
        {
          "output_type": "stream",
          "name": "stdout",
          "text": [
            "Epoch [214/5000]: Train loss: 22.6900, Valid loss: 23.2135\n",
            "Saving model with loss 23.213...\n"
          ]
        },
        {
          "output_type": "stream",
          "name": "stderr",
          "text": [
            "Epoch [215/5000]: 100%|██████████| 2/2 [00:00<00:00, 102.44it/s, loss=23.1]\n"
          ]
        },
        {
          "output_type": "stream",
          "name": "stdout",
          "text": [
            "Epoch [215/5000]: Train loss: 22.4479, Valid loss: 23.0816\n",
            "Saving model with loss 23.082...\n"
          ]
        },
        {
          "output_type": "stream",
          "name": "stderr",
          "text": [
            "Epoch [216/5000]: 100%|██████████| 2/2 [00:00<00:00, 98.23it/s, loss=25.9]\n"
          ]
        },
        {
          "output_type": "stream",
          "name": "stdout",
          "text": [
            "Epoch [216/5000]: Train loss: 23.8469, Valid loss: 23.1146\n"
          ]
        },
        {
          "output_type": "stream",
          "name": "stderr",
          "text": [
            "Epoch [217/5000]: 100%|██████████| 2/2 [00:00<00:00, 101.11it/s, loss=25.3]\n"
          ]
        },
        {
          "output_type": "stream",
          "name": "stdout",
          "text": [
            "Epoch [217/5000]: Train loss: 23.6992, Valid loss: 23.0859\n"
          ]
        },
        {
          "output_type": "stream",
          "name": "stderr",
          "text": [
            "Epoch [218/5000]: 100%|██████████| 2/2 [00:00<00:00, 103.16it/s, loss=23.7]\n"
          ]
        },
        {
          "output_type": "stream",
          "name": "stdout",
          "text": [
            "Epoch [218/5000]: Train loss: 24.0681, Valid loss: 22.9914\n",
            "Saving model with loss 22.991...\n"
          ]
        },
        {
          "output_type": "stream",
          "name": "stderr",
          "text": [
            "Epoch [219/5000]: 100%|██████████| 2/2 [00:00<00:00, 112.28it/s, loss=25.5]\n"
          ]
        },
        {
          "output_type": "stream",
          "name": "stdout",
          "text": [
            "Epoch [219/5000]: Train loss: 23.5746, Valid loss: 22.8629\n",
            "Saving model with loss 22.863...\n"
          ]
        },
        {
          "output_type": "stream",
          "name": "stderr",
          "text": [
            "Epoch [220/5000]: 100%|██████████| 2/2 [00:00<00:00, 100.56it/s, loss=25.8]\n"
          ]
        },
        {
          "output_type": "stream",
          "name": "stdout",
          "text": [
            "Epoch [220/5000]: Train loss: 24.3127, Valid loss: 22.8239\n",
            "Saving model with loss 22.824...\n"
          ]
        },
        {
          "output_type": "stream",
          "name": "stderr",
          "text": [
            "Epoch [221/5000]: 100%|██████████| 2/2 [00:00<00:00, 109.70it/s, loss=23.5]\n"
          ]
        },
        {
          "output_type": "stream",
          "name": "stdout",
          "text": [
            "Epoch [221/5000]: Train loss: 23.6608, Valid loss: 22.7950\n",
            "Saving model with loss 22.795...\n"
          ]
        },
        {
          "output_type": "stream",
          "name": "stderr",
          "text": [
            "Epoch [222/5000]: 100%|██████████| 2/2 [00:00<00:00, 99.58it/s, loss=20.8]\n"
          ]
        },
        {
          "output_type": "stream",
          "name": "stdout",
          "text": [
            "Epoch [222/5000]: Train loss: 21.9584, Valid loss: 22.6968\n",
            "Saving model with loss 22.697...\n"
          ]
        },
        {
          "output_type": "stream",
          "name": "stderr",
          "text": [
            "Epoch [223/5000]: 100%|██████████| 2/2 [00:00<00:00, 100.99it/s, loss=21.4]\n"
          ]
        },
        {
          "output_type": "stream",
          "name": "stdout",
          "text": [
            "Epoch [223/5000]: Train loss: 21.8130, Valid loss: 22.5492\n",
            "Saving model with loss 22.549...\n"
          ]
        },
        {
          "output_type": "stream",
          "name": "stderr",
          "text": [
            "Epoch [224/5000]: 100%|██████████| 2/2 [00:00<00:00, 119.38it/s, loss=19.5]\n"
          ]
        },
        {
          "output_type": "stream",
          "name": "stdout",
          "text": [
            "Epoch [224/5000]: Train loss: 22.0084, Valid loss: 22.5905\n"
          ]
        },
        {
          "output_type": "stream",
          "name": "stderr",
          "text": [
            "Epoch [225/5000]: 100%|██████████| 2/2 [00:00<00:00, 103.16it/s, loss=19.4]\n"
          ]
        },
        {
          "output_type": "stream",
          "name": "stdout",
          "text": [
            "Epoch [225/5000]: Train loss: 21.0420, Valid loss: 22.6011\n"
          ]
        },
        {
          "output_type": "stream",
          "name": "stderr",
          "text": [
            "Epoch [226/5000]: 100%|██████████| 2/2 [00:00<00:00, 118.02it/s, loss=23.7]\n"
          ]
        },
        {
          "output_type": "stream",
          "name": "stdout",
          "text": [
            "Epoch [226/5000]: Train loss: 23.9917, Valid loss: 22.5967\n"
          ]
        },
        {
          "output_type": "stream",
          "name": "stderr",
          "text": [
            "Epoch [227/5000]: 100%|██████████| 2/2 [00:00<00:00, 104.25it/s, loss=25.3]\n"
          ]
        },
        {
          "output_type": "stream",
          "name": "stdout",
          "text": [
            "Epoch [227/5000]: Train loss: 23.5115, Valid loss: 22.4786\n",
            "Saving model with loss 22.479...\n"
          ]
        },
        {
          "output_type": "stream",
          "name": "stderr",
          "text": [
            "Epoch [228/5000]: 100%|██████████| 2/2 [00:00<00:00, 140.46it/s, loss=15.8]\n"
          ]
        },
        {
          "output_type": "stream",
          "name": "stdout",
          "text": [
            "Epoch [228/5000]: Train loss: 20.1999, Valid loss: 22.4619\n",
            "Saving model with loss 22.462...\n"
          ]
        },
        {
          "output_type": "stream",
          "name": "stderr",
          "text": [
            "Epoch [229/5000]: 100%|██████████| 2/2 [00:00<00:00, 111.72it/s, loss=28.6]\n"
          ]
        },
        {
          "output_type": "stream",
          "name": "stdout",
          "text": [
            "Epoch [229/5000]: Train loss: 24.7452, Valid loss: 22.3981\n",
            "Saving model with loss 22.398...\n"
          ]
        },
        {
          "output_type": "stream",
          "name": "stderr",
          "text": [
            "Epoch [230/5000]: 100%|██████████| 2/2 [00:00<00:00, 100.18it/s, loss=23.4]\n"
          ]
        },
        {
          "output_type": "stream",
          "name": "stdout",
          "text": [
            "Epoch [230/5000]: Train loss: 23.3621, Valid loss: 22.3927\n",
            "Saving model with loss 22.393...\n"
          ]
        },
        {
          "output_type": "stream",
          "name": "stderr",
          "text": [
            "Epoch [231/5000]: 100%|██████████| 2/2 [00:00<00:00, 106.14it/s, loss=20]\n"
          ]
        },
        {
          "output_type": "stream",
          "name": "stdout",
          "text": [
            "Epoch [231/5000]: Train loss: 21.8832, Valid loss: 22.3855\n",
            "Saving model with loss 22.385...\n"
          ]
        },
        {
          "output_type": "stream",
          "name": "stderr",
          "text": [
            "Epoch [232/5000]: 100%|██████████| 2/2 [00:00<00:00, 88.92it/s, loss=24.5]\n"
          ]
        },
        {
          "output_type": "stream",
          "name": "stdout",
          "text": [
            "Epoch [232/5000]: Train loss: 22.9975, Valid loss: 22.3476\n",
            "Saving model with loss 22.348...\n"
          ]
        },
        {
          "output_type": "stream",
          "name": "stderr",
          "text": [
            "Epoch [233/5000]: 100%|██████████| 2/2 [00:00<00:00, 97.84it/s, loss=27.8]\n"
          ]
        },
        {
          "output_type": "stream",
          "name": "stdout",
          "text": [
            "Epoch [233/5000]: Train loss: 24.0194, Valid loss: 22.2581\n",
            "Saving model with loss 22.258...\n"
          ]
        },
        {
          "output_type": "stream",
          "name": "stderr",
          "text": [
            "Epoch [234/5000]: 100%|██████████| 2/2 [00:00<00:00, 101.35it/s, loss=25.4]\n"
          ]
        },
        {
          "output_type": "stream",
          "name": "stdout",
          "text": [
            "Epoch [234/5000]: Train loss: 23.3769, Valid loss: 22.2222\n",
            "Saving model with loss 22.222...\n"
          ]
        },
        {
          "output_type": "stream",
          "name": "stderr",
          "text": [
            "Epoch [235/5000]: 100%|██████████| 2/2 [00:00<00:00, 113.63it/s, loss=18.8]\n"
          ]
        },
        {
          "output_type": "stream",
          "name": "stdout",
          "text": [
            "Epoch [235/5000]: Train loss: 20.9535, Valid loss: 22.1416\n",
            "Saving model with loss 22.142...\n"
          ]
        },
        {
          "output_type": "stream",
          "name": "stderr",
          "text": [
            "Epoch [236/5000]: 100%|██████████| 2/2 [00:00<00:00, 111.60it/s, loss=24.9]\n"
          ]
        },
        {
          "output_type": "stream",
          "name": "stdout",
          "text": [
            "Epoch [236/5000]: Train loss: 23.4212, Valid loss: 22.0940\n",
            "Saving model with loss 22.094...\n"
          ]
        },
        {
          "output_type": "stream",
          "name": "stderr",
          "text": [
            "Epoch [237/5000]: 100%|██████████| 2/2 [00:00<00:00, 113.00it/s, loss=25.2]\n"
          ]
        },
        {
          "output_type": "stream",
          "name": "stdout",
          "text": [
            "Epoch [237/5000]: Train loss: 24.2829, Valid loss: 22.1084\n"
          ]
        },
        {
          "output_type": "stream",
          "name": "stderr",
          "text": [
            "Epoch [238/5000]: 100%|██████████| 2/2 [00:00<00:00, 105.90it/s, loss=26.1]\n"
          ]
        },
        {
          "output_type": "stream",
          "name": "stdout",
          "text": [
            "Epoch [238/5000]: Train loss: 23.5804, Valid loss: 22.0855\n",
            "Saving model with loss 22.085...\n"
          ]
        },
        {
          "output_type": "stream",
          "name": "stderr",
          "text": [
            "Epoch [239/5000]: 100%|██████████| 2/2 [00:00<00:00, 105.21it/s, loss=24.8]\n"
          ]
        },
        {
          "output_type": "stream",
          "name": "stdout",
          "text": [
            "Epoch [239/5000]: Train loss: 23.6221, Valid loss: 21.9510\n",
            "Saving model with loss 21.951...\n"
          ]
        },
        {
          "output_type": "stream",
          "name": "stderr",
          "text": [
            "Epoch [240/5000]: 100%|██████████| 2/2 [00:00<00:00, 102.88it/s, loss=20.2]\n"
          ]
        },
        {
          "output_type": "stream",
          "name": "stdout",
          "text": [
            "Epoch [240/5000]: Train loss: 21.3125, Valid loss: 22.0189\n"
          ]
        },
        {
          "output_type": "stream",
          "name": "stderr",
          "text": [
            "Epoch [241/5000]: 100%|██████████| 2/2 [00:00<00:00, 104.67it/s, loss=21.9]\n"
          ]
        },
        {
          "output_type": "stream",
          "name": "stdout",
          "text": [
            "Epoch [241/5000]: Train loss: 21.5830, Valid loss: 22.1169\n"
          ]
        },
        {
          "output_type": "stream",
          "name": "stderr",
          "text": [
            "Epoch [242/5000]: 100%|██████████| 2/2 [00:00<00:00, 74.18it/s, loss=18.9]\n"
          ]
        },
        {
          "output_type": "stream",
          "name": "stdout",
          "text": [
            "Epoch [242/5000]: Train loss: 20.3150, Valid loss: 22.0656\n"
          ]
        },
        {
          "output_type": "stream",
          "name": "stderr",
          "text": [
            "Epoch [243/5000]: 100%|██████████| 2/2 [00:00<00:00, 91.52it/s, loss=20.5]\n"
          ]
        },
        {
          "output_type": "stream",
          "name": "stdout",
          "text": [
            "Epoch [243/5000]: Train loss: 21.0117, Valid loss: 22.0657\n"
          ]
        },
        {
          "output_type": "stream",
          "name": "stderr",
          "text": [
            "Epoch [244/5000]: 100%|██████████| 2/2 [00:00<00:00, 103.97it/s, loss=25.3]\n"
          ]
        },
        {
          "output_type": "stream",
          "name": "stdout",
          "text": [
            "Epoch [244/5000]: Train loss: 23.3141, Valid loss: 22.0069\n"
          ]
        },
        {
          "output_type": "stream",
          "name": "stderr",
          "text": [
            "Epoch [245/5000]: 100%|██████████| 2/2 [00:00<00:00, 101.48it/s, loss=22.8]\n"
          ]
        },
        {
          "output_type": "stream",
          "name": "stdout",
          "text": [
            "Epoch [245/5000]: Train loss: 22.5987, Valid loss: 21.8754\n",
            "Saving model with loss 21.875...\n"
          ]
        },
        {
          "output_type": "stream",
          "name": "stderr",
          "text": [
            "Epoch [246/5000]: 100%|██████████| 2/2 [00:00<00:00, 121.22it/s, loss=26.1]\n"
          ]
        },
        {
          "output_type": "stream",
          "name": "stdout",
          "text": [
            "Epoch [246/5000]: Train loss: 23.3294, Valid loss: 21.7210\n",
            "Saving model with loss 21.721...\n"
          ]
        },
        {
          "output_type": "stream",
          "name": "stderr",
          "text": [
            "Epoch [247/5000]: 100%|██████████| 2/2 [00:00<00:00, 104.82it/s, loss=20.1]\n"
          ]
        },
        {
          "output_type": "stream",
          "name": "stdout",
          "text": [
            "Epoch [247/5000]: Train loss: 21.7457, Valid loss: 21.7634\n"
          ]
        },
        {
          "output_type": "stream",
          "name": "stderr",
          "text": [
            "Epoch [248/5000]: 100%|██████████| 2/2 [00:00<00:00, 108.66it/s, loss=21.4]\n"
          ]
        },
        {
          "output_type": "stream",
          "name": "stdout",
          "text": [
            "Epoch [248/5000]: Train loss: 22.3938, Valid loss: 21.8204\n"
          ]
        },
        {
          "output_type": "stream",
          "name": "stderr",
          "text": [
            "Epoch [249/5000]: 100%|██████████| 2/2 [00:00<00:00, 114.58it/s, loss=22]\n"
          ]
        },
        {
          "output_type": "stream",
          "name": "stdout",
          "text": [
            "Epoch [249/5000]: Train loss: 21.5884, Valid loss: 21.8988\n"
          ]
        },
        {
          "output_type": "stream",
          "name": "stderr",
          "text": [
            "Epoch [250/5000]: 100%|██████████| 2/2 [00:00<00:00, 95.51it/s, loss=18.5]\n"
          ]
        },
        {
          "output_type": "stream",
          "name": "stdout",
          "text": [
            "Epoch [250/5000]: Train loss: 20.0107, Valid loss: 21.9708\n"
          ]
        },
        {
          "output_type": "stream",
          "name": "stderr",
          "text": [
            "Epoch [251/5000]: 100%|██████████| 2/2 [00:00<00:00, 114.16it/s, loss=23.5]\n"
          ]
        },
        {
          "output_type": "stream",
          "name": "stdout",
          "text": [
            "Epoch [251/5000]: Train loss: 22.5074, Valid loss: 22.0117\n"
          ]
        },
        {
          "output_type": "stream",
          "name": "stderr",
          "text": [
            "Epoch [252/5000]: 100%|██████████| 2/2 [00:00<00:00, 13.33it/s, loss=17.1]\n"
          ]
        },
        {
          "output_type": "stream",
          "name": "stdout",
          "text": [
            "Epoch [252/5000]: Train loss: 19.9948, Valid loss: 21.9137\n"
          ]
        },
        {
          "output_type": "stream",
          "name": "stderr",
          "text": [
            "Epoch [253/5000]: 100%|██████████| 2/2 [00:00<00:00, 95.23it/s, loss=28.3]\n"
          ]
        },
        {
          "output_type": "stream",
          "name": "stdout",
          "text": [
            "Epoch [253/5000]: Train loss: 24.6590, Valid loss: 21.9373\n"
          ]
        },
        {
          "output_type": "stream",
          "name": "stderr",
          "text": [
            "Epoch [254/5000]: 100%|██████████| 2/2 [00:00<00:00, 95.18it/s, loss=19.6]\n"
          ]
        },
        {
          "output_type": "stream",
          "name": "stdout",
          "text": [
            "Epoch [254/5000]: Train loss: 21.7032, Valid loss: 21.9407\n"
          ]
        },
        {
          "output_type": "stream",
          "name": "stderr",
          "text": [
            "Epoch [255/5000]: 100%|██████████| 2/2 [00:00<00:00, 105.64it/s, loss=18.7]\n"
          ]
        },
        {
          "output_type": "stream",
          "name": "stdout",
          "text": [
            "Epoch [255/5000]: Train loss: 20.3499, Valid loss: 21.9300\n"
          ]
        },
        {
          "output_type": "stream",
          "name": "stderr",
          "text": [
            "Epoch [256/5000]: 100%|██████████| 2/2 [00:00<00:00, 70.95it/s, loss=18.1]\n"
          ]
        },
        {
          "output_type": "stream",
          "name": "stdout",
          "text": [
            "Epoch [256/5000]: Train loss: 20.3752, Valid loss: 21.8420\n"
          ]
        },
        {
          "output_type": "stream",
          "name": "stderr",
          "text": [
            "Epoch [257/5000]: 100%|██████████| 2/2 [00:00<00:00, 79.62it/s, loss=19.4]\n"
          ]
        },
        {
          "output_type": "stream",
          "name": "stdout",
          "text": [
            "Epoch [257/5000]: Train loss: 21.2985, Valid loss: 21.7997\n"
          ]
        },
        {
          "output_type": "stream",
          "name": "stderr",
          "text": [
            "Epoch [258/5000]: 100%|██████████| 2/2 [00:00<00:00, 70.20it/s, loss=18.2]\n"
          ]
        },
        {
          "output_type": "stream",
          "name": "stdout",
          "text": [
            "Epoch [258/5000]: Train loss: 20.4239, Valid loss: 21.7172\n",
            "Saving model with loss 21.717...\n"
          ]
        },
        {
          "output_type": "stream",
          "name": "stderr",
          "text": [
            "Epoch [259/5000]: 100%|██████████| 2/2 [00:00<00:00, 82.01it/s, loss=19.7]\n"
          ]
        },
        {
          "output_type": "stream",
          "name": "stdout",
          "text": [
            "Epoch [259/5000]: Train loss: 21.1061, Valid loss: 21.5356\n",
            "Saving model with loss 21.536...\n"
          ]
        },
        {
          "output_type": "stream",
          "name": "stderr",
          "text": [
            "Epoch [260/5000]: 100%|██████████| 2/2 [00:00<00:00, 72.38it/s, loss=22.2]\n"
          ]
        },
        {
          "output_type": "stream",
          "name": "stdout",
          "text": [
            "Epoch [260/5000]: Train loss: 21.7065, Valid loss: 21.4974\n",
            "Saving model with loss 21.497...\n"
          ]
        },
        {
          "output_type": "stream",
          "name": "stderr",
          "text": [
            "Epoch [261/5000]: 100%|██████████| 2/2 [00:00<00:00, 86.13it/s, loss=18.8]\n"
          ]
        },
        {
          "output_type": "stream",
          "name": "stdout",
          "text": [
            "Epoch [261/5000]: Train loss: 20.2619, Valid loss: 21.2649\n",
            "Saving model with loss 21.265...\n"
          ]
        },
        {
          "output_type": "stream",
          "name": "stderr",
          "text": [
            "Epoch [262/5000]: 100%|██████████| 2/2 [00:00<00:00, 80.91it/s, loss=19.6]\n"
          ]
        },
        {
          "output_type": "stream",
          "name": "stdout",
          "text": [
            "Epoch [262/5000]: Train loss: 20.0055, Valid loss: 21.0203\n",
            "Saving model with loss 21.020...\n"
          ]
        },
        {
          "output_type": "stream",
          "name": "stderr",
          "text": [
            "Epoch [263/5000]: 100%|██████████| 2/2 [00:00<00:00, 67.88it/s, loss=20.7]\n"
          ]
        },
        {
          "output_type": "stream",
          "name": "stdout",
          "text": [
            "Epoch [263/5000]: Train loss: 20.4756, Valid loss: 20.8346\n",
            "Saving model with loss 20.835...\n"
          ]
        },
        {
          "output_type": "stream",
          "name": "stderr",
          "text": [
            "Epoch [264/5000]: 100%|██████████| 2/2 [00:00<00:00, 65.97it/s, loss=17.5]\n"
          ]
        },
        {
          "output_type": "stream",
          "name": "stdout",
          "text": [
            "Epoch [264/5000]: Train loss: 19.1635, Valid loss: 20.6894\n",
            "Saving model with loss 20.689...\n"
          ]
        },
        {
          "output_type": "stream",
          "name": "stderr",
          "text": [
            "Epoch [265/5000]: 100%|██████████| 2/2 [00:00<00:00, 89.62it/s, loss=20.5]\n"
          ]
        },
        {
          "output_type": "stream",
          "name": "stdout",
          "text": [
            "Epoch [265/5000]: Train loss: 20.1841, Valid loss: 20.4374\n",
            "Saving model with loss 20.437...\n"
          ]
        },
        {
          "output_type": "stream",
          "name": "stderr",
          "text": [
            "Epoch [266/5000]: 100%|██████████| 2/2 [00:00<00:00, 61.50it/s, loss=17.3]\n"
          ]
        },
        {
          "output_type": "stream",
          "name": "stdout",
          "text": [
            "Epoch [266/5000]: Train loss: 18.9937, Valid loss: 20.3104\n",
            "Saving model with loss 20.310...\n"
          ]
        },
        {
          "output_type": "stream",
          "name": "stderr",
          "text": [
            "Epoch [267/5000]: 100%|██████████| 2/2 [00:00<00:00, 89.00it/s, loss=21.1]\n"
          ]
        },
        {
          "output_type": "stream",
          "name": "stdout",
          "text": [
            "Epoch [267/5000]: Train loss: 20.3602, Valid loss: 20.0669\n",
            "Saving model with loss 20.067...\n"
          ]
        },
        {
          "output_type": "stream",
          "name": "stderr",
          "text": [
            "Epoch [268/5000]: 100%|██████████| 2/2 [00:00<00:00, 64.90it/s, loss=16.4]\n"
          ]
        },
        {
          "output_type": "stream",
          "name": "stdout",
          "text": [
            "Epoch [268/5000]: Train loss: 17.5752, Valid loss: 19.8444\n",
            "Saving model with loss 19.844...\n"
          ]
        },
        {
          "output_type": "stream",
          "name": "stderr",
          "text": [
            "Epoch [269/5000]: 100%|██████████| 2/2 [00:00<00:00, 70.43it/s, loss=15.7]\n"
          ]
        },
        {
          "output_type": "stream",
          "name": "stdout",
          "text": [
            "Epoch [269/5000]: Train loss: 17.5794, Valid loss: 19.6226\n",
            "Saving model with loss 19.623...\n"
          ]
        },
        {
          "output_type": "stream",
          "name": "stderr",
          "text": [
            "Epoch [270/5000]: 100%|██████████| 2/2 [00:00<00:00, 82.81it/s, loss=18.1]\n"
          ]
        },
        {
          "output_type": "stream",
          "name": "stdout",
          "text": [
            "Epoch [270/5000]: Train loss: 19.8975, Valid loss: 19.4570\n",
            "Saving model with loss 19.457...\n"
          ]
        },
        {
          "output_type": "stream",
          "name": "stderr",
          "text": [
            "Epoch [271/5000]: 100%|██████████| 2/2 [00:00<00:00, 73.47it/s, loss=17.3]\n"
          ]
        },
        {
          "output_type": "stream",
          "name": "stdout",
          "text": [
            "Epoch [271/5000]: Train loss: 18.5077, Valid loss: 19.2885\n",
            "Saving model with loss 19.289...\n"
          ]
        },
        {
          "output_type": "stream",
          "name": "stderr",
          "text": [
            "Epoch [272/5000]: 100%|██████████| 2/2 [00:00<00:00, 66.80it/s, loss=21.2]\n"
          ]
        },
        {
          "output_type": "stream",
          "name": "stdout",
          "text": [
            "Epoch [272/5000]: Train loss: 19.3513, Valid loss: 19.0561\n",
            "Saving model with loss 19.056...\n"
          ]
        },
        {
          "output_type": "stream",
          "name": "stderr",
          "text": [
            "Epoch [273/5000]: 100%|██████████| 2/2 [00:00<00:00, 97.61it/s, loss=17.3]\n"
          ]
        },
        {
          "output_type": "stream",
          "name": "stdout",
          "text": [
            "Epoch [273/5000]: Train loss: 17.6287, Valid loss: 18.8525\n",
            "Saving model with loss 18.852...\n"
          ]
        },
        {
          "output_type": "stream",
          "name": "stderr",
          "text": [
            "Epoch [274/5000]: 100%|██████████| 2/2 [00:00<00:00, 89.32it/s, loss=22.9]\n"
          ]
        },
        {
          "output_type": "stream",
          "name": "stdout",
          "text": [
            "Epoch [274/5000]: Train loss: 20.1799, Valid loss: 18.6276\n",
            "Saving model with loss 18.628...\n"
          ]
        },
        {
          "output_type": "stream",
          "name": "stderr",
          "text": [
            "Epoch [275/5000]: 100%|██████████| 2/2 [00:00<00:00, 94.39it/s, loss=14.8]\n"
          ]
        },
        {
          "output_type": "stream",
          "name": "stdout",
          "text": [
            "Epoch [275/5000]: Train loss: 17.3095, Valid loss: 18.4918\n",
            "Saving model with loss 18.492...\n"
          ]
        },
        {
          "output_type": "stream",
          "name": "stderr",
          "text": [
            "Epoch [276/5000]: 100%|██████████| 2/2 [00:00<00:00, 91.20it/s, loss=21.3]\n"
          ]
        },
        {
          "output_type": "stream",
          "name": "stdout",
          "text": [
            "Epoch [276/5000]: Train loss: 19.5121, Valid loss: 18.3559\n",
            "Saving model with loss 18.356...\n"
          ]
        },
        {
          "output_type": "stream",
          "name": "stderr",
          "text": [
            "Epoch [277/5000]: 100%|██████████| 2/2 [00:00<00:00, 101.32it/s, loss=16.5]\n"
          ]
        },
        {
          "output_type": "stream",
          "name": "stdout",
          "text": [
            "Epoch [277/5000]: Train loss: 17.4816, Valid loss: 18.2816\n",
            "Saving model with loss 18.282...\n"
          ]
        },
        {
          "output_type": "stream",
          "name": "stderr",
          "text": [
            "Epoch [278/5000]: 100%|██████████| 2/2 [00:00<00:00, 84.51it/s, loss=18.2]\n"
          ]
        },
        {
          "output_type": "stream",
          "name": "stdout",
          "text": [
            "Epoch [278/5000]: Train loss: 18.5924, Valid loss: 18.1159\n",
            "Saving model with loss 18.116...\n"
          ]
        },
        {
          "output_type": "stream",
          "name": "stderr",
          "text": [
            "Epoch [279/5000]: 100%|██████████| 2/2 [00:00<00:00, 82.00it/s, loss=15.7]\n"
          ]
        },
        {
          "output_type": "stream",
          "name": "stdout",
          "text": [
            "Epoch [279/5000]: Train loss: 17.9902, Valid loss: 17.9423\n",
            "Saving model with loss 17.942...\n"
          ]
        },
        {
          "output_type": "stream",
          "name": "stderr",
          "text": [
            "Epoch [280/5000]: 100%|██████████| 2/2 [00:00<00:00, 91.23it/s, loss=20.4]\n"
          ]
        },
        {
          "output_type": "stream",
          "name": "stdout",
          "text": [
            "Epoch [280/5000]: Train loss: 18.6547, Valid loss: 17.8459\n",
            "Saving model with loss 17.846...\n"
          ]
        },
        {
          "output_type": "stream",
          "name": "stderr",
          "text": [
            "Epoch [281/5000]: 100%|██████████| 2/2 [00:00<00:00, 92.58it/s, loss=19.8]\n"
          ]
        },
        {
          "output_type": "stream",
          "name": "stdout",
          "text": [
            "Epoch [281/5000]: Train loss: 18.2517, Valid loss: 17.7848\n",
            "Saving model with loss 17.785...\n"
          ]
        },
        {
          "output_type": "stream",
          "name": "stderr",
          "text": [
            "Epoch [282/5000]: 100%|██████████| 2/2 [00:00<00:00, 91.13it/s, loss=16.5]\n"
          ]
        },
        {
          "output_type": "stream",
          "name": "stdout",
          "text": [
            "Epoch [282/5000]: Train loss: 17.5755, Valid loss: 17.7137\n",
            "Saving model with loss 17.714...\n"
          ]
        },
        {
          "output_type": "stream",
          "name": "stderr",
          "text": [
            "Epoch [283/5000]: 100%|██████████| 2/2 [00:00<00:00, 71.08it/s, loss=16.4]\n"
          ]
        },
        {
          "output_type": "stream",
          "name": "stdout",
          "text": [
            "Epoch [283/5000]: Train loss: 16.1372, Valid loss: 17.7001\n",
            "Saving model with loss 17.700...\n"
          ]
        },
        {
          "output_type": "stream",
          "name": "stderr",
          "text": [
            "Epoch [284/5000]: 100%|██████████| 2/2 [00:00<00:00, 90.91it/s, loss=16.5]\n"
          ]
        },
        {
          "output_type": "stream",
          "name": "stdout",
          "text": [
            "Epoch [284/5000]: Train loss: 18.2058, Valid loss: 17.5677\n",
            "Saving model with loss 17.568...\n"
          ]
        },
        {
          "output_type": "stream",
          "name": "stderr",
          "text": [
            "Epoch [285/5000]: 100%|██████████| 2/2 [00:00<00:00, 71.74it/s, loss=15.9]\n"
          ]
        },
        {
          "output_type": "stream",
          "name": "stdout",
          "text": [
            "Epoch [285/5000]: Train loss: 16.7363, Valid loss: 17.4271\n",
            "Saving model with loss 17.427...\n"
          ]
        },
        {
          "output_type": "stream",
          "name": "stderr",
          "text": [
            "Epoch [286/5000]: 100%|██████████| 2/2 [00:00<00:00, 84.55it/s, loss=17]\n"
          ]
        },
        {
          "output_type": "stream",
          "name": "stdout",
          "text": [
            "Epoch [286/5000]: Train loss: 17.0158, Valid loss: 17.3535\n",
            "Saving model with loss 17.353...\n"
          ]
        },
        {
          "output_type": "stream",
          "name": "stderr",
          "text": [
            "Epoch [287/5000]: 100%|██████████| 2/2 [00:00<00:00, 88.36it/s, loss=16.5]\n"
          ]
        },
        {
          "output_type": "stream",
          "name": "stdout",
          "text": [
            "Epoch [287/5000]: Train loss: 17.5612, Valid loss: 17.1031\n",
            "Saving model with loss 17.103...\n"
          ]
        },
        {
          "output_type": "stream",
          "name": "stderr",
          "text": [
            "Epoch [288/5000]: 100%|██████████| 2/2 [00:00<00:00, 91.94it/s, loss=13.7]\n"
          ]
        },
        {
          "output_type": "stream",
          "name": "stdout",
          "text": [
            "Epoch [288/5000]: Train loss: 15.4632, Valid loss: 17.0129\n",
            "Saving model with loss 17.013...\n"
          ]
        },
        {
          "output_type": "stream",
          "name": "stderr",
          "text": [
            "Epoch [289/5000]: 100%|██████████| 2/2 [00:00<00:00, 90.20it/s, loss=15.2]\n"
          ]
        },
        {
          "output_type": "stream",
          "name": "stdout",
          "text": [
            "Epoch [289/5000]: Train loss: 16.1467, Valid loss: 16.8727\n",
            "Saving model with loss 16.873...\n"
          ]
        },
        {
          "output_type": "stream",
          "name": "stderr",
          "text": [
            "Epoch [290/5000]: 100%|██████████| 2/2 [00:00<00:00, 87.81it/s, loss=14.8]\n"
          ]
        },
        {
          "output_type": "stream",
          "name": "stdout",
          "text": [
            "Epoch [290/5000]: Train loss: 15.5791, Valid loss: 16.8139\n",
            "Saving model with loss 16.814...\n"
          ]
        },
        {
          "output_type": "stream",
          "name": "stderr",
          "text": [
            "Epoch [291/5000]: 100%|██████████| 2/2 [00:00<00:00, 63.41it/s, loss=17.1]\n"
          ]
        },
        {
          "output_type": "stream",
          "name": "stdout",
          "text": [
            "Epoch [291/5000]: Train loss: 17.2133, Valid loss: 16.8289\n"
          ]
        },
        {
          "output_type": "stream",
          "name": "stderr",
          "text": [
            "Epoch [292/5000]: 100%|██████████| 2/2 [00:00<00:00, 61.70it/s, loss=16.2]\n"
          ]
        },
        {
          "output_type": "stream",
          "name": "stdout",
          "text": [
            "Epoch [292/5000]: Train loss: 16.4138, Valid loss: 16.8278\n"
          ]
        },
        {
          "output_type": "stream",
          "name": "stderr",
          "text": [
            "Epoch [293/5000]: 100%|██████████| 2/2 [00:00<00:00, 79.77it/s, loss=15.8]\n"
          ]
        },
        {
          "output_type": "stream",
          "name": "stdout",
          "text": [
            "Epoch [293/5000]: Train loss: 16.0042, Valid loss: 16.7551\n",
            "Saving model with loss 16.755...\n"
          ]
        },
        {
          "output_type": "stream",
          "name": "stderr",
          "text": [
            "Epoch [294/5000]: 100%|██████████| 2/2 [00:00<00:00, 67.72it/s, loss=20]\n"
          ]
        },
        {
          "output_type": "stream",
          "name": "stdout",
          "text": [
            "Epoch [294/5000]: Train loss: 18.4413, Valid loss: 16.8609\n"
          ]
        },
        {
          "output_type": "stream",
          "name": "stderr",
          "text": [
            "Epoch [295/5000]: 100%|██████████| 2/2 [00:00<00:00, 71.44it/s, loss=11.3]\n"
          ]
        },
        {
          "output_type": "stream",
          "name": "stdout",
          "text": [
            "Epoch [295/5000]: Train loss: 14.2976, Valid loss: 16.9380\n"
          ]
        },
        {
          "output_type": "stream",
          "name": "stderr",
          "text": [
            "Epoch [296/5000]: 100%|██████████| 2/2 [00:00<00:00, 86.12it/s, loss=15.6]\n"
          ]
        },
        {
          "output_type": "stream",
          "name": "stdout",
          "text": [
            "Epoch [296/5000]: Train loss: 15.9336, Valid loss: 16.8710\n"
          ]
        },
        {
          "output_type": "stream",
          "name": "stderr",
          "text": [
            "Epoch [297/5000]: 100%|██████████| 2/2 [00:00<00:00, 95.60it/s, loss=11.6]\n"
          ]
        },
        {
          "output_type": "stream",
          "name": "stdout",
          "text": [
            "Epoch [297/5000]: Train loss: 14.4495, Valid loss: 16.6736\n",
            "Saving model with loss 16.674...\n"
          ]
        },
        {
          "output_type": "stream",
          "name": "stderr",
          "text": [
            "Epoch [298/5000]: 100%|██████████| 2/2 [00:00<00:00, 114.82it/s, loss=12.7]\n"
          ]
        },
        {
          "output_type": "stream",
          "name": "stdout",
          "text": [
            "Epoch [298/5000]: Train loss: 15.4987, Valid loss: 16.5800\n",
            "Saving model with loss 16.580...\n"
          ]
        },
        {
          "output_type": "stream",
          "name": "stderr",
          "text": [
            "Epoch [299/5000]: 100%|██████████| 2/2 [00:00<00:00, 108.29it/s, loss=12.4]\n"
          ]
        },
        {
          "output_type": "stream",
          "name": "stdout",
          "text": [
            "Epoch [299/5000]: Train loss: 14.9962, Valid loss: 16.4518\n",
            "Saving model with loss 16.452...\n"
          ]
        },
        {
          "output_type": "stream",
          "name": "stderr",
          "text": [
            "Epoch [300/5000]: 100%|██████████| 2/2 [00:00<00:00, 104.62it/s, loss=14.1]\n"
          ]
        },
        {
          "output_type": "stream",
          "name": "stdout",
          "text": [
            "Epoch [300/5000]: Train loss: 16.1354, Valid loss: 16.3160\n",
            "Saving model with loss 16.316...\n"
          ]
        },
        {
          "output_type": "stream",
          "name": "stderr",
          "text": [
            "Epoch [301/5000]: 100%|██████████| 2/2 [00:00<00:00, 96.03it/s, loss=17.2]\n"
          ]
        },
        {
          "output_type": "stream",
          "name": "stdout",
          "text": [
            "Epoch [301/5000]: Train loss: 16.6187, Valid loss: 16.1631\n",
            "Saving model with loss 16.163...\n"
          ]
        },
        {
          "output_type": "stream",
          "name": "stderr",
          "text": [
            "Epoch [302/5000]: 100%|██████████| 2/2 [00:00<00:00, 98.98it/s, loss=15.9]\n"
          ]
        },
        {
          "output_type": "stream",
          "name": "stdout",
          "text": [
            "Epoch [302/5000]: Train loss: 15.5812, Valid loss: 16.1186\n",
            "Saving model with loss 16.119...\n"
          ]
        },
        {
          "output_type": "stream",
          "name": "stderr",
          "text": [
            "Epoch [303/5000]: 100%|██████████| 2/2 [00:00<00:00, 106.13it/s, loss=14.7]\n"
          ]
        },
        {
          "output_type": "stream",
          "name": "stdout",
          "text": [
            "Epoch [303/5000]: Train loss: 14.7015, Valid loss: 16.0376\n",
            "Saving model with loss 16.038...\n"
          ]
        },
        {
          "output_type": "stream",
          "name": "stderr",
          "text": [
            "Epoch [304/5000]: 100%|██████████| 2/2 [00:00<00:00, 100.06it/s, loss=21.1]\n"
          ]
        },
        {
          "output_type": "stream",
          "name": "stdout",
          "text": [
            "Epoch [304/5000]: Train loss: 17.8189, Valid loss: 16.0547\n"
          ]
        },
        {
          "output_type": "stream",
          "name": "stderr",
          "text": [
            "Epoch [305/5000]: 100%|██████████| 2/2 [00:00<00:00, 105.93it/s, loss=12.5]\n"
          ]
        },
        {
          "output_type": "stream",
          "name": "stdout",
          "text": [
            "Epoch [305/5000]: Train loss: 14.8989, Valid loss: 15.9320\n",
            "Saving model with loss 15.932...\n"
          ]
        },
        {
          "output_type": "stream",
          "name": "stderr",
          "text": [
            "Epoch [306/5000]: 100%|██████████| 2/2 [00:00<00:00, 107.07it/s, loss=16.7]\n"
          ]
        },
        {
          "output_type": "stream",
          "name": "stdout",
          "text": [
            "Epoch [306/5000]: Train loss: 15.6082, Valid loss: 15.8745\n",
            "Saving model with loss 15.875...\n"
          ]
        },
        {
          "output_type": "stream",
          "name": "stderr",
          "text": [
            "Epoch [307/5000]: 100%|██████████| 2/2 [00:00<00:00, 93.16it/s, loss=13.9]\n"
          ]
        },
        {
          "output_type": "stream",
          "name": "stdout",
          "text": [
            "Epoch [307/5000]: Train loss: 15.1506, Valid loss: 15.8206\n",
            "Saving model with loss 15.821...\n"
          ]
        },
        {
          "output_type": "stream",
          "name": "stderr",
          "text": [
            "Epoch [308/5000]: 100%|██████████| 2/2 [00:00<00:00, 100.32it/s, loss=11.6]\n"
          ]
        },
        {
          "output_type": "stream",
          "name": "stdout",
          "text": [
            "Epoch [308/5000]: Train loss: 13.6904, Valid loss: 15.8065\n",
            "Saving model with loss 15.806...\n"
          ]
        },
        {
          "output_type": "stream",
          "name": "stderr",
          "text": [
            "Epoch [309/5000]: 100%|██████████| 2/2 [00:00<00:00, 103.40it/s, loss=16.1]\n"
          ]
        },
        {
          "output_type": "stream",
          "name": "stdout",
          "text": [
            "Epoch [309/5000]: Train loss: 15.2153, Valid loss: 15.7538\n",
            "Saving model with loss 15.754...\n"
          ]
        },
        {
          "output_type": "stream",
          "name": "stderr",
          "text": [
            "Epoch [310/5000]: 100%|██████████| 2/2 [00:00<00:00, 111.34it/s, loss=15.9]\n"
          ]
        },
        {
          "output_type": "stream",
          "name": "stdout",
          "text": [
            "Epoch [310/5000]: Train loss: 15.3549, Valid loss: 15.6780\n",
            "Saving model with loss 15.678...\n"
          ]
        },
        {
          "output_type": "stream",
          "name": "stderr",
          "text": [
            "Epoch [311/5000]: 100%|██████████| 2/2 [00:00<00:00, 80.57it/s, loss=14.9]\n"
          ]
        },
        {
          "output_type": "stream",
          "name": "stdout",
          "text": [
            "Epoch [311/5000]: Train loss: 15.3767, Valid loss: 15.7085\n"
          ]
        },
        {
          "output_type": "stream",
          "name": "stderr",
          "text": [
            "Epoch [312/5000]: 100%|██████████| 2/2 [00:00<00:00, 115.33it/s, loss=15]\n"
          ]
        },
        {
          "output_type": "stream",
          "name": "stdout",
          "text": [
            "Epoch [312/5000]: Train loss: 14.6141, Valid loss: 15.6878\n"
          ]
        },
        {
          "output_type": "stream",
          "name": "stderr",
          "text": [
            "Epoch [313/5000]: 100%|██████████| 2/2 [00:00<00:00, 83.34it/s, loss=9.54]\n"
          ]
        },
        {
          "output_type": "stream",
          "name": "stdout",
          "text": [
            "Epoch [313/5000]: Train loss: 12.8161, Valid loss: 15.6614\n",
            "Saving model with loss 15.661...\n"
          ]
        },
        {
          "output_type": "stream",
          "name": "stderr",
          "text": [
            "Epoch [314/5000]: 100%|██████████| 2/2 [00:00<00:00, 83.82it/s, loss=13.1]\n"
          ]
        },
        {
          "output_type": "stream",
          "name": "stdout",
          "text": [
            "Epoch [314/5000]: Train loss: 13.8448, Valid loss: 15.5879\n",
            "Saving model with loss 15.588...\n"
          ]
        },
        {
          "output_type": "stream",
          "name": "stderr",
          "text": [
            "Epoch [315/5000]: 100%|██████████| 2/2 [00:00<00:00, 91.83it/s, loss=15.4]\n"
          ]
        },
        {
          "output_type": "stream",
          "name": "stdout",
          "text": [
            "Epoch [315/5000]: Train loss: 14.8067, Valid loss: 15.5691\n",
            "Saving model with loss 15.569...\n"
          ]
        },
        {
          "output_type": "stream",
          "name": "stderr",
          "text": [
            "Epoch [316/5000]: 100%|██████████| 2/2 [00:00<00:00, 111.14it/s, loss=18.9]\n"
          ]
        },
        {
          "output_type": "stream",
          "name": "stdout",
          "text": [
            "Epoch [316/5000]: Train loss: 16.7945, Valid loss: 15.5123\n",
            "Saving model with loss 15.512...\n"
          ]
        },
        {
          "output_type": "stream",
          "name": "stderr",
          "text": [
            "Epoch [317/5000]: 100%|██████████| 2/2 [00:00<00:00, 115.14it/s, loss=16.5]\n"
          ]
        },
        {
          "output_type": "stream",
          "name": "stdout",
          "text": [
            "Epoch [317/5000]: Train loss: 15.1426, Valid loss: 15.5073\n",
            "Saving model with loss 15.507...\n"
          ]
        },
        {
          "output_type": "stream",
          "name": "stderr",
          "text": [
            "Epoch [318/5000]: 100%|██████████| 2/2 [00:00<00:00, 87.90it/s, loss=13.8]\n"
          ]
        },
        {
          "output_type": "stream",
          "name": "stdout",
          "text": [
            "Epoch [318/5000]: Train loss: 14.2435, Valid loss: 15.4746\n",
            "Saving model with loss 15.475...\n"
          ]
        },
        {
          "output_type": "stream",
          "name": "stderr",
          "text": [
            "Epoch [319/5000]: 100%|██████████| 2/2 [00:00<00:00, 81.85it/s, loss=13.2]\n"
          ]
        },
        {
          "output_type": "stream",
          "name": "stdout",
          "text": [
            "Epoch [319/5000]: Train loss: 13.6709, Valid loss: 15.5240\n"
          ]
        },
        {
          "output_type": "stream",
          "name": "stderr",
          "text": [
            "Epoch [320/5000]: 100%|██████████| 2/2 [00:00<00:00, 101.66it/s, loss=19.4]\n"
          ]
        },
        {
          "output_type": "stream",
          "name": "stdout",
          "text": [
            "Epoch [320/5000]: Train loss: 16.2682, Valid loss: 15.6238\n"
          ]
        },
        {
          "output_type": "stream",
          "name": "stderr",
          "text": [
            "Epoch [321/5000]: 100%|██████████| 2/2 [00:00<00:00, 104.42it/s, loss=15.3]\n"
          ]
        },
        {
          "output_type": "stream",
          "name": "stdout",
          "text": [
            "Epoch [321/5000]: Train loss: 14.7605, Valid loss: 15.6873\n"
          ]
        },
        {
          "output_type": "stream",
          "name": "stderr",
          "text": [
            "Epoch [322/5000]: 100%|██████████| 2/2 [00:00<00:00, 97.34it/s, loss=17]\n"
          ]
        },
        {
          "output_type": "stream",
          "name": "stdout",
          "text": [
            "Epoch [322/5000]: Train loss: 15.0265, Valid loss: 15.7341\n"
          ]
        },
        {
          "output_type": "stream",
          "name": "stderr",
          "text": [
            "Epoch [323/5000]: 100%|██████████| 2/2 [00:00<00:00, 105.23it/s, loss=13.1]\n"
          ]
        },
        {
          "output_type": "stream",
          "name": "stdout",
          "text": [
            "Epoch [323/5000]: Train loss: 14.2045, Valid loss: 15.6565\n"
          ]
        },
        {
          "output_type": "stream",
          "name": "stderr",
          "text": [
            "Epoch [324/5000]: 100%|██████████| 2/2 [00:00<00:00, 117.13it/s, loss=17]\n"
          ]
        },
        {
          "output_type": "stream",
          "name": "stdout",
          "text": [
            "Epoch [324/5000]: Train loss: 15.7614, Valid loss: 15.4857\n"
          ]
        },
        {
          "output_type": "stream",
          "name": "stderr",
          "text": [
            "Epoch [325/5000]: 100%|██████████| 2/2 [00:00<00:00, 106.79it/s, loss=15.9]\n"
          ]
        },
        {
          "output_type": "stream",
          "name": "stdout",
          "text": [
            "Epoch [325/5000]: Train loss: 16.5919, Valid loss: 15.2787\n",
            "Saving model with loss 15.279...\n"
          ]
        },
        {
          "output_type": "stream",
          "name": "stderr",
          "text": [
            "Epoch [326/5000]: 100%|██████████| 2/2 [00:00<00:00, 108.05it/s, loss=13.2]\n"
          ]
        },
        {
          "output_type": "stream",
          "name": "stdout",
          "text": [
            "Epoch [326/5000]: Train loss: 13.2943, Valid loss: 15.1116\n",
            "Saving model with loss 15.112...\n"
          ]
        },
        {
          "output_type": "stream",
          "name": "stderr",
          "text": [
            "Epoch [327/5000]: 100%|██████████| 2/2 [00:00<00:00, 103.33it/s, loss=11]\n"
          ]
        },
        {
          "output_type": "stream",
          "name": "stdout",
          "text": [
            "Epoch [327/5000]: Train loss: 12.5851, Valid loss: 14.9917\n",
            "Saving model with loss 14.992...\n"
          ]
        },
        {
          "output_type": "stream",
          "name": "stderr",
          "text": [
            "Epoch [328/5000]: 100%|██████████| 2/2 [00:00<00:00, 93.42it/s, loss=10.7]\n"
          ]
        },
        {
          "output_type": "stream",
          "name": "stdout",
          "text": [
            "Epoch [328/5000]: Train loss: 13.4416, Valid loss: 14.8840\n",
            "Saving model with loss 14.884...\n"
          ]
        },
        {
          "output_type": "stream",
          "name": "stderr",
          "text": [
            "Epoch [329/5000]: 100%|██████████| 2/2 [00:00<00:00, 95.13it/s, loss=14.8]\n"
          ]
        },
        {
          "output_type": "stream",
          "name": "stdout",
          "text": [
            "Epoch [329/5000]: Train loss: 14.0611, Valid loss: 14.8442\n",
            "Saving model with loss 14.844...\n"
          ]
        },
        {
          "output_type": "stream",
          "name": "stderr",
          "text": [
            "Epoch [330/5000]: 100%|██████████| 2/2 [00:00<00:00, 73.95it/s, loss=11.5]\n"
          ]
        },
        {
          "output_type": "stream",
          "name": "stdout",
          "text": [
            "Epoch [330/5000]: Train loss: 13.2630, Valid loss: 14.7314\n",
            "Saving model with loss 14.731...\n"
          ]
        },
        {
          "output_type": "stream",
          "name": "stderr",
          "text": [
            "Epoch [331/5000]: 100%|██████████| 2/2 [00:00<00:00, 69.21it/s, loss=14.4]\n"
          ]
        },
        {
          "output_type": "stream",
          "name": "stdout",
          "text": [
            "Epoch [331/5000]: Train loss: 14.3067, Valid loss: 14.6817\n",
            "Saving model with loss 14.682...\n"
          ]
        },
        {
          "output_type": "stream",
          "name": "stderr",
          "text": [
            "Epoch [332/5000]: 100%|██████████| 2/2 [00:00<00:00, 83.38it/s, loss=13.4]\n"
          ]
        },
        {
          "output_type": "stream",
          "name": "stdout",
          "text": [
            "Epoch [332/5000]: Train loss: 13.4020, Valid loss: 14.6823\n"
          ]
        },
        {
          "output_type": "stream",
          "name": "stderr",
          "text": [
            "Epoch [333/5000]: 100%|██████████| 2/2 [00:00<00:00, 117.67it/s, loss=13.2]\n"
          ]
        },
        {
          "output_type": "stream",
          "name": "stdout",
          "text": [
            "Epoch [333/5000]: Train loss: 13.3402, Valid loss: 14.5755\n",
            "Saving model with loss 14.576...\n"
          ]
        },
        {
          "output_type": "stream",
          "name": "stderr",
          "text": [
            "Epoch [334/5000]: 100%|██████████| 2/2 [00:00<00:00, 97.73it/s, loss=10.7]\n"
          ]
        },
        {
          "output_type": "stream",
          "name": "stdout",
          "text": [
            "Epoch [334/5000]: Train loss: 11.9940, Valid loss: 14.4740\n",
            "Saving model with loss 14.474...\n"
          ]
        },
        {
          "output_type": "stream",
          "name": "stderr",
          "text": [
            "Epoch [335/5000]: 100%|██████████| 2/2 [00:00<00:00, 92.88it/s, loss=11.3]\n"
          ]
        },
        {
          "output_type": "stream",
          "name": "stdout",
          "text": [
            "Epoch [335/5000]: Train loss: 12.2653, Valid loss: 14.4456\n",
            "Saving model with loss 14.446...\n"
          ]
        },
        {
          "output_type": "stream",
          "name": "stderr",
          "text": [
            "Epoch [336/5000]: 100%|██████████| 2/2 [00:00<00:00, 109.07it/s, loss=20.8]\n"
          ]
        },
        {
          "output_type": "stream",
          "name": "stdout",
          "text": [
            "Epoch [336/5000]: Train loss: 16.5850, Valid loss: 14.4091\n",
            "Saving model with loss 14.409...\n"
          ]
        },
        {
          "output_type": "stream",
          "name": "stderr",
          "text": [
            "Epoch [337/5000]: 100%|██████████| 2/2 [00:00<00:00, 77.58it/s, loss=12.3]\n"
          ]
        },
        {
          "output_type": "stream",
          "name": "stdout",
          "text": [
            "Epoch [337/5000]: Train loss: 13.2782, Valid loss: 14.2908\n",
            "Saving model with loss 14.291...\n"
          ]
        },
        {
          "output_type": "stream",
          "name": "stderr",
          "text": [
            "Epoch [338/5000]: 100%|██████████| 2/2 [00:00<00:00, 116.11it/s, loss=13.5]\n"
          ]
        },
        {
          "output_type": "stream",
          "name": "stdout",
          "text": [
            "Epoch [338/5000]: Train loss: 13.4178, Valid loss: 14.1886\n",
            "Saving model with loss 14.189...\n"
          ]
        },
        {
          "output_type": "stream",
          "name": "stderr",
          "text": [
            "Epoch [339/5000]: 100%|██████████| 2/2 [00:00<00:00, 115.94it/s, loss=17.5]\n"
          ]
        },
        {
          "output_type": "stream",
          "name": "stdout",
          "text": [
            "Epoch [339/5000]: Train loss: 15.8136, Valid loss: 14.1609\n",
            "Saving model with loss 14.161...\n"
          ]
        },
        {
          "output_type": "stream",
          "name": "stderr",
          "text": [
            "Epoch [340/5000]: 100%|██████████| 2/2 [00:00<00:00, 110.59it/s, loss=15.6]\n"
          ]
        },
        {
          "output_type": "stream",
          "name": "stdout",
          "text": [
            "Epoch [340/5000]: Train loss: 14.1909, Valid loss: 14.2171\n"
          ]
        },
        {
          "output_type": "stream",
          "name": "stderr",
          "text": [
            "Epoch [341/5000]: 100%|██████████| 2/2 [00:00<00:00, 99.13it/s, loss=11.6]\n"
          ]
        },
        {
          "output_type": "stream",
          "name": "stdout",
          "text": [
            "Epoch [341/5000]: Train loss: 12.8291, Valid loss: 14.2122\n"
          ]
        },
        {
          "output_type": "stream",
          "name": "stderr",
          "text": [
            "Epoch [342/5000]: 100%|██████████| 2/2 [00:00<00:00, 121.28it/s, loss=16.3]\n"
          ]
        },
        {
          "output_type": "stream",
          "name": "stdout",
          "text": [
            "Epoch [342/5000]: Train loss: 14.0284, Valid loss: 14.1753\n"
          ]
        },
        {
          "output_type": "stream",
          "name": "stderr",
          "text": [
            "Epoch [343/5000]: 100%|██████████| 2/2 [00:00<00:00, 114.63it/s, loss=10.9]\n"
          ]
        },
        {
          "output_type": "stream",
          "name": "stdout",
          "text": [
            "Epoch [343/5000]: Train loss: 13.0087, Valid loss: 14.1254\n",
            "Saving model with loss 14.125...\n"
          ]
        },
        {
          "output_type": "stream",
          "name": "stderr",
          "text": [
            "Epoch [344/5000]: 100%|██████████| 2/2 [00:00<00:00, 82.55it/s, loss=14.8]\n"
          ]
        },
        {
          "output_type": "stream",
          "name": "stdout",
          "text": [
            "Epoch [344/5000]: Train loss: 14.6063, Valid loss: 14.0757\n",
            "Saving model with loss 14.076...\n"
          ]
        },
        {
          "output_type": "stream",
          "name": "stderr",
          "text": [
            "Epoch [345/5000]: 100%|██████████| 2/2 [00:00<00:00, 73.76it/s, loss=12.4]\n"
          ]
        },
        {
          "output_type": "stream",
          "name": "stdout",
          "text": [
            "Epoch [345/5000]: Train loss: 12.6660, Valid loss: 13.9379\n",
            "Saving model with loss 13.938...\n"
          ]
        },
        {
          "output_type": "stream",
          "name": "stderr",
          "text": [
            "Epoch [346/5000]: 100%|██████████| 2/2 [00:00<00:00, 73.42it/s, loss=12.8]\n"
          ]
        },
        {
          "output_type": "stream",
          "name": "stdout",
          "text": [
            "Epoch [346/5000]: Train loss: 13.2056, Valid loss: 13.8113\n",
            "Saving model with loss 13.811...\n"
          ]
        },
        {
          "output_type": "stream",
          "name": "stderr",
          "text": [
            "Epoch [347/5000]: 100%|██████████| 2/2 [00:00<00:00, 107.41it/s, loss=12.8]\n"
          ]
        },
        {
          "output_type": "stream",
          "name": "stdout",
          "text": [
            "Epoch [347/5000]: Train loss: 12.6190, Valid loss: 13.6860\n",
            "Saving model with loss 13.686...\n"
          ]
        },
        {
          "output_type": "stream",
          "name": "stderr",
          "text": [
            "Epoch [348/5000]: 100%|██████████| 2/2 [00:00<00:00, 101.67it/s, loss=15.2]\n"
          ]
        },
        {
          "output_type": "stream",
          "name": "stdout",
          "text": [
            "Epoch [348/5000]: Train loss: 13.6723, Valid loss: 13.6206\n",
            "Saving model with loss 13.621...\n"
          ]
        },
        {
          "output_type": "stream",
          "name": "stderr",
          "text": [
            "Epoch [349/5000]: 100%|██████████| 2/2 [00:00<00:00, 113.78it/s, loss=17.2]\n"
          ]
        },
        {
          "output_type": "stream",
          "name": "stdout",
          "text": [
            "Epoch [349/5000]: Train loss: 14.1740, Valid loss: 13.5522\n",
            "Saving model with loss 13.552...\n"
          ]
        },
        {
          "output_type": "stream",
          "name": "stderr",
          "text": [
            "Epoch [350/5000]: 100%|██████████| 2/2 [00:00<00:00, 95.10it/s, loss=13.5]\n"
          ]
        },
        {
          "output_type": "stream",
          "name": "stdout",
          "text": [
            "Epoch [350/5000]: Train loss: 12.7728, Valid loss: 13.4568\n",
            "Saving model with loss 13.457...\n"
          ]
        },
        {
          "output_type": "stream",
          "name": "stderr",
          "text": [
            "Epoch [351/5000]: 100%|██████████| 2/2 [00:00<00:00, 110.01it/s, loss=10.9]\n"
          ]
        },
        {
          "output_type": "stream",
          "name": "stdout",
          "text": [
            "Epoch [351/5000]: Train loss: 11.5674, Valid loss: 13.3251\n",
            "Saving model with loss 13.325...\n"
          ]
        },
        {
          "output_type": "stream",
          "name": "stderr",
          "text": [
            "Epoch [352/5000]: 100%|██████████| 2/2 [00:00<00:00, 110.74it/s, loss=11.1]\n"
          ]
        },
        {
          "output_type": "stream",
          "name": "stdout",
          "text": [
            "Epoch [352/5000]: Train loss: 12.6021, Valid loss: 13.2419\n",
            "Saving model with loss 13.242...\n"
          ]
        },
        {
          "output_type": "stream",
          "name": "stderr",
          "text": [
            "Epoch [353/5000]: 100%|██████████| 2/2 [00:00<00:00, 106.59it/s, loss=12.6]\n"
          ]
        },
        {
          "output_type": "stream",
          "name": "stdout",
          "text": [
            "Epoch [353/5000]: Train loss: 12.9954, Valid loss: 13.2399\n",
            "Saving model with loss 13.240...\n"
          ]
        },
        {
          "output_type": "stream",
          "name": "stderr",
          "text": [
            "Epoch [354/5000]: 100%|██████████| 2/2 [00:00<00:00, 110.40it/s, loss=12.9]\n"
          ]
        },
        {
          "output_type": "stream",
          "name": "stdout",
          "text": [
            "Epoch [354/5000]: Train loss: 13.0021, Valid loss: 13.2531\n"
          ]
        },
        {
          "output_type": "stream",
          "name": "stderr",
          "text": [
            "Epoch [355/5000]: 100%|██████████| 2/2 [00:00<00:00, 110.92it/s, loss=11.9]\n"
          ]
        },
        {
          "output_type": "stream",
          "name": "stdout",
          "text": [
            "Epoch [355/5000]: Train loss: 13.3742, Valid loss: 13.2863\n"
          ]
        },
        {
          "output_type": "stream",
          "name": "stderr",
          "text": [
            "Epoch [356/5000]: 100%|██████████| 2/2 [00:00<00:00, 100.47it/s, loss=11.4]\n"
          ]
        },
        {
          "output_type": "stream",
          "name": "stdout",
          "text": [
            "Epoch [356/5000]: Train loss: 12.3978, Valid loss: 13.2451\n"
          ]
        },
        {
          "output_type": "stream",
          "name": "stderr",
          "text": [
            "Epoch [357/5000]: 100%|██████████| 2/2 [00:00<00:00, 106.28it/s, loss=9.06]\n"
          ]
        },
        {
          "output_type": "stream",
          "name": "stdout",
          "text": [
            "Epoch [357/5000]: Train loss: 11.6126, Valid loss: 13.2118\n",
            "Saving model with loss 13.212...\n"
          ]
        },
        {
          "output_type": "stream",
          "name": "stderr",
          "text": [
            "Epoch [358/5000]: 100%|██████████| 2/2 [00:00<00:00, 122.06it/s, loss=12.3]\n"
          ]
        },
        {
          "output_type": "stream",
          "name": "stdout",
          "text": [
            "Epoch [358/5000]: Train loss: 12.4798, Valid loss: 13.1516\n",
            "Saving model with loss 13.152...\n"
          ]
        },
        {
          "output_type": "stream",
          "name": "stderr",
          "text": [
            "Epoch [359/5000]: 100%|██████████| 2/2 [00:00<00:00, 109.90it/s, loss=13.9]\n"
          ]
        },
        {
          "output_type": "stream",
          "name": "stdout",
          "text": [
            "Epoch [359/5000]: Train loss: 13.6392, Valid loss: 13.1012\n",
            "Saving model with loss 13.101...\n"
          ]
        },
        {
          "output_type": "stream",
          "name": "stderr",
          "text": [
            "Epoch [360/5000]: 100%|██████████| 2/2 [00:00<00:00, 103.01it/s, loss=12.4]\n"
          ]
        },
        {
          "output_type": "stream",
          "name": "stdout",
          "text": [
            "Epoch [360/5000]: Train loss: 12.5569, Valid loss: 13.0391\n",
            "Saving model with loss 13.039...\n"
          ]
        },
        {
          "output_type": "stream",
          "name": "stderr",
          "text": [
            "Epoch [361/5000]: 100%|██████████| 2/2 [00:00<00:00, 89.19it/s, loss=13.7]\n"
          ]
        },
        {
          "output_type": "stream",
          "name": "stdout",
          "text": [
            "Epoch [361/5000]: Train loss: 13.4243, Valid loss: 12.8703\n",
            "Saving model with loss 12.870...\n"
          ]
        },
        {
          "output_type": "stream",
          "name": "stderr",
          "text": [
            "Epoch [362/5000]: 100%|██████████| 2/2 [00:00<00:00, 86.78it/s, loss=12.2]\n"
          ]
        },
        {
          "output_type": "stream",
          "name": "stdout",
          "text": [
            "Epoch [362/5000]: Train loss: 13.4742, Valid loss: 12.8572\n",
            "Saving model with loss 12.857...\n"
          ]
        },
        {
          "output_type": "stream",
          "name": "stderr",
          "text": [
            "Epoch [363/5000]: 100%|██████████| 2/2 [00:00<00:00, 82.05it/s, loss=12.8]\n"
          ]
        },
        {
          "output_type": "stream",
          "name": "stdout",
          "text": [
            "Epoch [363/5000]: Train loss: 12.5942, Valid loss: 12.7531\n",
            "Saving model with loss 12.753...\n"
          ]
        },
        {
          "output_type": "stream",
          "name": "stderr",
          "text": [
            "Epoch [364/5000]: 100%|██████████| 2/2 [00:00<00:00, 86.92it/s, loss=16.9]\n"
          ]
        },
        {
          "output_type": "stream",
          "name": "stdout",
          "text": [
            "Epoch [364/5000]: Train loss: 14.6618, Valid loss: 12.6625\n",
            "Saving model with loss 12.663...\n"
          ]
        },
        {
          "output_type": "stream",
          "name": "stderr",
          "text": [
            "Epoch [365/5000]: 100%|██████████| 2/2 [00:00<00:00, 85.81it/s, loss=9.4]\n"
          ]
        },
        {
          "output_type": "stream",
          "name": "stdout",
          "text": [
            "Epoch [365/5000]: Train loss: 11.1431, Valid loss: 12.6318\n",
            "Saving model with loss 12.632...\n"
          ]
        },
        {
          "output_type": "stream",
          "name": "stderr",
          "text": [
            "Epoch [366/5000]: 100%|██████████| 2/2 [00:00<00:00, 89.02it/s, loss=13.1]\n"
          ]
        },
        {
          "output_type": "stream",
          "name": "stdout",
          "text": [
            "Epoch [366/5000]: Train loss: 12.6345, Valid loss: 12.5883\n",
            "Saving model with loss 12.588...\n"
          ]
        },
        {
          "output_type": "stream",
          "name": "stderr",
          "text": [
            "Epoch [367/5000]: 100%|██████████| 2/2 [00:00<00:00, 114.90it/s, loss=11.6]\n"
          ]
        },
        {
          "output_type": "stream",
          "name": "stdout",
          "text": [
            "Epoch [367/5000]: Train loss: 11.9419, Valid loss: 12.5396\n",
            "Saving model with loss 12.540...\n"
          ]
        },
        {
          "output_type": "stream",
          "name": "stderr",
          "text": [
            "Epoch [368/5000]: 100%|██████████| 2/2 [00:00<00:00, 110.61it/s, loss=12.1]\n"
          ]
        },
        {
          "output_type": "stream",
          "name": "stdout",
          "text": [
            "Epoch [368/5000]: Train loss: 12.8038, Valid loss: 12.5429\n"
          ]
        },
        {
          "output_type": "stream",
          "name": "stderr",
          "text": [
            "Epoch [369/5000]: 100%|██████████| 2/2 [00:00<00:00, 106.10it/s, loss=11.6]\n"
          ]
        },
        {
          "output_type": "stream",
          "name": "stdout",
          "text": [
            "Epoch [369/5000]: Train loss: 12.3200, Valid loss: 12.5165\n",
            "Saving model with loss 12.516...\n"
          ]
        },
        {
          "output_type": "stream",
          "name": "stderr",
          "text": [
            "Epoch [370/5000]: 100%|██████████| 2/2 [00:00<00:00, 104.55it/s, loss=16.1]\n"
          ]
        },
        {
          "output_type": "stream",
          "name": "stdout",
          "text": [
            "Epoch [370/5000]: Train loss: 14.1922, Valid loss: 12.4757\n",
            "Saving model with loss 12.476...\n"
          ]
        },
        {
          "output_type": "stream",
          "name": "stderr",
          "text": [
            "Epoch [371/5000]: 100%|██████████| 2/2 [00:00<00:00, 91.89it/s, loss=12.6]\n"
          ]
        },
        {
          "output_type": "stream",
          "name": "stdout",
          "text": [
            "Epoch [371/5000]: Train loss: 11.9384, Valid loss: 12.4544\n",
            "Saving model with loss 12.454...\n"
          ]
        },
        {
          "output_type": "stream",
          "name": "stderr",
          "text": [
            "Epoch [372/5000]: 100%|██████████| 2/2 [00:00<00:00, 114.98it/s, loss=15.9]\n"
          ]
        },
        {
          "output_type": "stream",
          "name": "stdout",
          "text": [
            "Epoch [372/5000]: Train loss: 13.4112, Valid loss: 12.5153\n"
          ]
        },
        {
          "output_type": "stream",
          "name": "stderr",
          "text": [
            "Epoch [373/5000]: 100%|██████████| 2/2 [00:00<00:00, 96.16it/s, loss=14.1]\n"
          ]
        },
        {
          "output_type": "stream",
          "name": "stdout",
          "text": [
            "Epoch [373/5000]: Train loss: 13.3094, Valid loss: 12.5347\n"
          ]
        },
        {
          "output_type": "stream",
          "name": "stderr",
          "text": [
            "Epoch [374/5000]: 100%|██████████| 2/2 [00:00<00:00, 126.99it/s, loss=14.5]\n"
          ]
        },
        {
          "output_type": "stream",
          "name": "stdout",
          "text": [
            "Epoch [374/5000]: Train loss: 13.3496, Valid loss: 12.5877\n"
          ]
        },
        {
          "output_type": "stream",
          "name": "stderr",
          "text": [
            "Epoch [375/5000]: 100%|██████████| 2/2 [00:00<00:00, 93.92it/s, loss=13.4]\n"
          ]
        },
        {
          "output_type": "stream",
          "name": "stdout",
          "text": [
            "Epoch [375/5000]: Train loss: 13.8516, Valid loss: 12.6590\n"
          ]
        },
        {
          "output_type": "stream",
          "name": "stderr",
          "text": [
            "Epoch [376/5000]: 100%|██████████| 2/2 [00:00<00:00, 124.53it/s, loss=11.5]\n"
          ]
        },
        {
          "output_type": "stream",
          "name": "stdout",
          "text": [
            "Epoch [376/5000]: Train loss: 11.6397, Valid loss: 12.7286\n"
          ]
        },
        {
          "output_type": "stream",
          "name": "stderr",
          "text": [
            "Epoch [377/5000]: 100%|██████████| 2/2 [00:00<00:00, 105.21it/s, loss=12.4]\n"
          ]
        },
        {
          "output_type": "stream",
          "name": "stdout",
          "text": [
            "Epoch [377/5000]: Train loss: 12.1370, Valid loss: 12.7641\n"
          ]
        },
        {
          "output_type": "stream",
          "name": "stderr",
          "text": [
            "Epoch [378/5000]: 100%|██████████| 2/2 [00:00<00:00, 125.11it/s, loss=11.9]\n"
          ]
        },
        {
          "output_type": "stream",
          "name": "stdout",
          "text": [
            "Epoch [378/5000]: Train loss: 11.8157, Valid loss: 12.8216\n"
          ]
        },
        {
          "output_type": "stream",
          "name": "stderr",
          "text": [
            "Epoch [379/5000]: 100%|██████████| 2/2 [00:00<00:00, 112.10it/s, loss=14.1]\n"
          ]
        },
        {
          "output_type": "stream",
          "name": "stdout",
          "text": [
            "Epoch [379/5000]: Train loss: 13.3600, Valid loss: 12.8538\n"
          ]
        },
        {
          "output_type": "stream",
          "name": "stderr",
          "text": [
            "Epoch [380/5000]: 100%|██████████| 2/2 [00:00<00:00, 87.33it/s, loss=10.8]\n"
          ]
        },
        {
          "output_type": "stream",
          "name": "stdout",
          "text": [
            "Epoch [380/5000]: Train loss: 11.9281, Valid loss: 12.8240\n"
          ]
        },
        {
          "output_type": "stream",
          "name": "stderr",
          "text": [
            "Epoch [381/5000]: 100%|██████████| 2/2 [00:00<00:00, 92.79it/s, loss=13.6]\n"
          ]
        },
        {
          "output_type": "stream",
          "name": "stdout",
          "text": [
            "Epoch [381/5000]: Train loss: 12.8200, Valid loss: 12.7503\n"
          ]
        },
        {
          "output_type": "stream",
          "name": "stderr",
          "text": [
            "Epoch [382/5000]: 100%|██████████| 2/2 [00:00<00:00, 83.49it/s, loss=14]\n"
          ]
        },
        {
          "output_type": "stream",
          "name": "stdout",
          "text": [
            "Epoch [382/5000]: Train loss: 13.4027, Valid loss: 12.6187\n"
          ]
        },
        {
          "output_type": "stream",
          "name": "stderr",
          "text": [
            "Epoch [383/5000]: 100%|██████████| 2/2 [00:00<00:00, 101.45it/s, loss=11.1]\n"
          ]
        },
        {
          "output_type": "stream",
          "name": "stdout",
          "text": [
            "Epoch [383/5000]: Train loss: 11.4162, Valid loss: 12.4715\n"
          ]
        },
        {
          "output_type": "stream",
          "name": "stderr",
          "text": [
            "Epoch [384/5000]: 100%|██████████| 2/2 [00:00<00:00, 91.33it/s, loss=13.6]\n"
          ]
        },
        {
          "output_type": "stream",
          "name": "stdout",
          "text": [
            "Epoch [384/5000]: Train loss: 12.8293, Valid loss: 12.4190\n",
            "Saving model with loss 12.419...\n"
          ]
        },
        {
          "output_type": "stream",
          "name": "stderr",
          "text": [
            "Epoch [385/5000]: 100%|██████████| 2/2 [00:00<00:00, 79.09it/s, loss=12.2]\n"
          ]
        },
        {
          "output_type": "stream",
          "name": "stdout",
          "text": [
            "Epoch [385/5000]: Train loss: 12.6968, Valid loss: 12.3254\n",
            "Saving model with loss 12.325...\n"
          ]
        },
        {
          "output_type": "stream",
          "name": "stderr",
          "text": [
            "Epoch [386/5000]: 100%|██████████| 2/2 [00:00<00:00, 80.78it/s, loss=12.4]\n"
          ]
        },
        {
          "output_type": "stream",
          "name": "stdout",
          "text": [
            "Epoch [386/5000]: Train loss: 11.9238, Valid loss: 12.2737\n",
            "Saving model with loss 12.274...\n"
          ]
        },
        {
          "output_type": "stream",
          "name": "stderr",
          "text": [
            "Epoch [387/5000]: 100%|██████████| 2/2 [00:00<00:00, 109.13it/s, loss=13.9]\n"
          ]
        },
        {
          "output_type": "stream",
          "name": "stdout",
          "text": [
            "Epoch [387/5000]: Train loss: 12.1291, Valid loss: 12.2203\n",
            "Saving model with loss 12.220...\n"
          ]
        },
        {
          "output_type": "stream",
          "name": "stderr",
          "text": [
            "Epoch [388/5000]: 100%|██████████| 2/2 [00:00<00:00, 106.51it/s, loss=13.5]\n"
          ]
        },
        {
          "output_type": "stream",
          "name": "stdout",
          "text": [
            "Epoch [388/5000]: Train loss: 12.8415, Valid loss: 12.2033\n",
            "Saving model with loss 12.203...\n"
          ]
        },
        {
          "output_type": "stream",
          "name": "stderr",
          "text": [
            "Epoch [389/5000]: 100%|██████████| 2/2 [00:00<00:00, 108.23it/s, loss=12.2]\n"
          ]
        },
        {
          "output_type": "stream",
          "name": "stdout",
          "text": [
            "Epoch [389/5000]: Train loss: 11.7610, Valid loss: 12.1242\n",
            "Saving model with loss 12.124...\n"
          ]
        },
        {
          "output_type": "stream",
          "name": "stderr",
          "text": [
            "Epoch [390/5000]: 100%|██████████| 2/2 [00:00<00:00, 113.30it/s, loss=10.4]\n"
          ]
        },
        {
          "output_type": "stream",
          "name": "stdout",
          "text": [
            "Epoch [390/5000]: Train loss: 10.6759, Valid loss: 12.0911\n",
            "Saving model with loss 12.091...\n"
          ]
        },
        {
          "output_type": "stream",
          "name": "stderr",
          "text": [
            "Epoch [391/5000]: 100%|██████████| 2/2 [00:00<00:00, 115.27it/s, loss=13.2]\n"
          ]
        },
        {
          "output_type": "stream",
          "name": "stdout",
          "text": [
            "Epoch [391/5000]: Train loss: 12.8190, Valid loss: 12.0501\n",
            "Saving model with loss 12.050...\n"
          ]
        },
        {
          "output_type": "stream",
          "name": "stderr",
          "text": [
            "Epoch [392/5000]: 100%|██████████| 2/2 [00:00<00:00, 108.78it/s, loss=14.7]\n"
          ]
        },
        {
          "output_type": "stream",
          "name": "stdout",
          "text": [
            "Epoch [392/5000]: Train loss: 12.9824, Valid loss: 12.0638\n"
          ]
        },
        {
          "output_type": "stream",
          "name": "stderr",
          "text": [
            "Epoch [393/5000]: 100%|██████████| 2/2 [00:00<00:00, 93.50it/s, loss=12.5]\n"
          ]
        },
        {
          "output_type": "stream",
          "name": "stdout",
          "text": [
            "Epoch [393/5000]: Train loss: 12.0385, Valid loss: 11.9935\n",
            "Saving model with loss 11.993...\n"
          ]
        },
        {
          "output_type": "stream",
          "name": "stderr",
          "text": [
            "Epoch [394/5000]: 100%|██████████| 2/2 [00:00<00:00, 101.68it/s, loss=13]\n"
          ]
        },
        {
          "output_type": "stream",
          "name": "stdout",
          "text": [
            "Epoch [394/5000]: Train loss: 12.5866, Valid loss: 12.0315\n"
          ]
        },
        {
          "output_type": "stream",
          "name": "stderr",
          "text": [
            "Epoch [395/5000]: 100%|██████████| 2/2 [00:00<00:00, 111.03it/s, loss=13.4]\n"
          ]
        },
        {
          "output_type": "stream",
          "name": "stdout",
          "text": [
            "Epoch [395/5000]: Train loss: 12.7703, Valid loss: 12.0580\n"
          ]
        },
        {
          "output_type": "stream",
          "name": "stderr",
          "text": [
            "Epoch [396/5000]: 100%|██████████| 2/2 [00:00<00:00, 104.66it/s, loss=11.8]\n"
          ]
        },
        {
          "output_type": "stream",
          "name": "stdout",
          "text": [
            "Epoch [396/5000]: Train loss: 11.8162, Valid loss: 12.1110\n"
          ]
        },
        {
          "output_type": "stream",
          "name": "stderr",
          "text": [
            "Epoch [397/5000]: 100%|██████████| 2/2 [00:00<00:00, 105.61it/s, loss=12.7]\n"
          ]
        },
        {
          "output_type": "stream",
          "name": "stdout",
          "text": [
            "Epoch [397/5000]: Train loss: 12.5432, Valid loss: 12.1051\n"
          ]
        },
        {
          "output_type": "stream",
          "name": "stderr",
          "text": [
            "Epoch [398/5000]: 100%|██████████| 2/2 [00:00<00:00, 107.90it/s, loss=13.2]\n"
          ]
        },
        {
          "output_type": "stream",
          "name": "stdout",
          "text": [
            "Epoch [398/5000]: Train loss: 13.2862, Valid loss: 12.1337\n"
          ]
        },
        {
          "output_type": "stream",
          "name": "stderr",
          "text": [
            "Epoch [399/5000]: 100%|██████████| 2/2 [00:00<00:00, 96.64it/s, loss=13.8]\n"
          ]
        },
        {
          "output_type": "stream",
          "name": "stdout",
          "text": [
            "Epoch [399/5000]: Train loss: 12.2800, Valid loss: 12.1360\n"
          ]
        },
        {
          "output_type": "stream",
          "name": "stderr",
          "text": [
            "Epoch [400/5000]: 100%|██████████| 2/2 [00:00<00:00, 114.19it/s, loss=10.2]\n"
          ]
        },
        {
          "output_type": "stream",
          "name": "stdout",
          "text": [
            "Epoch [400/5000]: Train loss: 10.7191, Valid loss: 12.1385\n"
          ]
        },
        {
          "output_type": "stream",
          "name": "stderr",
          "text": [
            "Epoch [401/5000]: 100%|██████████| 2/2 [00:00<00:00, 111.99it/s, loss=15.5]\n"
          ]
        },
        {
          "output_type": "stream",
          "name": "stdout",
          "text": [
            "Epoch [401/5000]: Train loss: 14.0255, Valid loss: 12.1292\n"
          ]
        },
        {
          "output_type": "stream",
          "name": "stderr",
          "text": [
            "Epoch [402/5000]: 100%|██████████| 2/2 [00:00<00:00, 74.51it/s, loss=14]\n"
          ]
        },
        {
          "output_type": "stream",
          "name": "stdout",
          "text": [
            "Epoch [402/5000]: Train loss: 12.8664, Valid loss: 12.1220\n"
          ]
        },
        {
          "output_type": "stream",
          "name": "stderr",
          "text": [
            "Epoch [403/5000]: 100%|██████████| 2/2 [00:00<00:00, 87.32it/s, loss=10.7]\n"
          ]
        },
        {
          "output_type": "stream",
          "name": "stdout",
          "text": [
            "Epoch [403/5000]: Train loss: 11.5131, Valid loss: 12.0968\n"
          ]
        },
        {
          "output_type": "stream",
          "name": "stderr",
          "text": [
            "Epoch [404/5000]: 100%|██████████| 2/2 [00:00<00:00, 89.96it/s, loss=11.1]\n"
          ]
        },
        {
          "output_type": "stream",
          "name": "stdout",
          "text": [
            "Epoch [404/5000]: Train loss: 11.7624, Valid loss: 12.0841\n"
          ]
        },
        {
          "output_type": "stream",
          "name": "stderr",
          "text": [
            "Epoch [405/5000]: 100%|██████████| 2/2 [00:00<00:00, 93.84it/s, loss=12.6]\n"
          ]
        },
        {
          "output_type": "stream",
          "name": "stdout",
          "text": [
            "Epoch [405/5000]: Train loss: 12.6237, Valid loss: 12.0637\n"
          ]
        },
        {
          "output_type": "stream",
          "name": "stderr",
          "text": [
            "Epoch [406/5000]: 100%|██████████| 2/2 [00:00<00:00, 107.87it/s, loss=11.4]\n"
          ]
        },
        {
          "output_type": "stream",
          "name": "stdout",
          "text": [
            "Epoch [406/5000]: Train loss: 11.3101, Valid loss: 12.0978\n"
          ]
        },
        {
          "output_type": "stream",
          "name": "stderr",
          "text": [
            "Epoch [407/5000]: 100%|██████████| 2/2 [00:00<00:00, 95.13it/s, loss=10.3]\n"
          ]
        },
        {
          "output_type": "stream",
          "name": "stdout",
          "text": [
            "Epoch [407/5000]: Train loss: 12.1197, Valid loss: 12.1188\n"
          ]
        },
        {
          "output_type": "stream",
          "name": "stderr",
          "text": [
            "Epoch [408/5000]: 100%|██████████| 2/2 [00:00<00:00,  5.71it/s, loss=15.3]\n"
          ]
        },
        {
          "output_type": "stream",
          "name": "stdout",
          "text": [
            "Epoch [408/5000]: Train loss: 13.6101, Valid loss: 12.0062\n"
          ]
        },
        {
          "output_type": "stream",
          "name": "stderr",
          "text": [
            "Epoch [409/5000]: 100%|██████████| 2/2 [00:00<00:00, 72.27it/s, loss=11.2]\n"
          ]
        },
        {
          "output_type": "stream",
          "name": "stdout",
          "text": [
            "Epoch [409/5000]: Train loss: 10.9154, Valid loss: 11.9470\n",
            "Saving model with loss 11.947...\n"
          ]
        },
        {
          "output_type": "stream",
          "name": "stderr",
          "text": [
            "Epoch [410/5000]: 100%|██████████| 2/2 [00:00<00:00, 88.90it/s, loss=12.1]\n"
          ]
        },
        {
          "output_type": "stream",
          "name": "stdout",
          "text": [
            "Epoch [410/5000]: Train loss: 11.7238, Valid loss: 11.8952\n",
            "Saving model with loss 11.895...\n"
          ]
        },
        {
          "output_type": "stream",
          "name": "stderr",
          "text": [
            "Epoch [411/5000]: 100%|██████████| 2/2 [00:00<00:00, 103.34it/s, loss=16.2]\n"
          ]
        },
        {
          "output_type": "stream",
          "name": "stdout",
          "text": [
            "Epoch [411/5000]: Train loss: 14.4163, Valid loss: 11.8337\n",
            "Saving model with loss 11.834...\n"
          ]
        },
        {
          "output_type": "stream",
          "name": "stderr",
          "text": [
            "Epoch [412/5000]: 100%|██████████| 2/2 [00:00<00:00, 110.31it/s, loss=15.2]\n"
          ]
        },
        {
          "output_type": "stream",
          "name": "stdout",
          "text": [
            "Epoch [412/5000]: Train loss: 13.5962, Valid loss: 11.8590\n"
          ]
        },
        {
          "output_type": "stream",
          "name": "stderr",
          "text": [
            "Epoch [413/5000]: 100%|██████████| 2/2 [00:00<00:00, 69.71it/s, loss=11.6]\n"
          ]
        },
        {
          "output_type": "stream",
          "name": "stdout",
          "text": [
            "Epoch [413/5000]: Train loss: 11.7351, Valid loss: 11.8828\n"
          ]
        },
        {
          "output_type": "stream",
          "name": "stderr",
          "text": [
            "Epoch [414/5000]: 100%|██████████| 2/2 [00:00<00:00, 86.07it/s, loss=12.5]\n"
          ]
        },
        {
          "output_type": "stream",
          "name": "stdout",
          "text": [
            "Epoch [414/5000]: Train loss: 12.7459, Valid loss: 11.8788\n"
          ]
        },
        {
          "output_type": "stream",
          "name": "stderr",
          "text": [
            "Epoch [415/5000]: 100%|██████████| 2/2 [00:00<00:00, 104.48it/s, loss=10.6]\n"
          ]
        },
        {
          "output_type": "stream",
          "name": "stdout",
          "text": [
            "Epoch [415/5000]: Train loss: 11.5066, Valid loss: 11.8683\n"
          ]
        },
        {
          "output_type": "stream",
          "name": "stderr",
          "text": [
            "Epoch [416/5000]: 100%|██████████| 2/2 [00:00<00:00, 83.78it/s, loss=15.2]\n"
          ]
        },
        {
          "output_type": "stream",
          "name": "stdout",
          "text": [
            "Epoch [416/5000]: Train loss: 13.0097, Valid loss: 11.8582\n"
          ]
        },
        {
          "output_type": "stream",
          "name": "stderr",
          "text": [
            "Epoch [417/5000]: 100%|██████████| 2/2 [00:00<00:00, 90.34it/s, loss=12.4]\n"
          ]
        },
        {
          "output_type": "stream",
          "name": "stdout",
          "text": [
            "Epoch [417/5000]: Train loss: 12.6827, Valid loss: 11.8644\n"
          ]
        },
        {
          "output_type": "stream",
          "name": "stderr",
          "text": [
            "Epoch [418/5000]: 100%|██████████| 2/2 [00:00<00:00, 87.33it/s, loss=12.5]\n"
          ]
        },
        {
          "output_type": "stream",
          "name": "stdout",
          "text": [
            "Epoch [418/5000]: Train loss: 12.4303, Valid loss: 11.8230\n",
            "Saving model with loss 11.823...\n"
          ]
        },
        {
          "output_type": "stream",
          "name": "stderr",
          "text": [
            "Epoch [419/5000]: 100%|██████████| 2/2 [00:00<00:00, 101.04it/s, loss=13.3]\n"
          ]
        },
        {
          "output_type": "stream",
          "name": "stdout",
          "text": [
            "Epoch [419/5000]: Train loss: 12.6306, Valid loss: 11.7840\n",
            "Saving model with loss 11.784...\n"
          ]
        },
        {
          "output_type": "stream",
          "name": "stderr",
          "text": [
            "Epoch [420/5000]: 100%|██████████| 2/2 [00:00<00:00, 83.97it/s, loss=12.2]\n"
          ]
        },
        {
          "output_type": "stream",
          "name": "stdout",
          "text": [
            "Epoch [420/5000]: Train loss: 11.6521, Valid loss: 11.7664\n",
            "Saving model with loss 11.766...\n"
          ]
        },
        {
          "output_type": "stream",
          "name": "stderr",
          "text": [
            "Epoch [421/5000]: 100%|██████████| 2/2 [00:00<00:00, 79.01it/s, loss=11.3]\n"
          ]
        },
        {
          "output_type": "stream",
          "name": "stdout",
          "text": [
            "Epoch [421/5000]: Train loss: 12.2140, Valid loss: 11.7774\n"
          ]
        },
        {
          "output_type": "stream",
          "name": "stderr",
          "text": [
            "Epoch [422/5000]: 100%|██████████| 2/2 [00:00<00:00, 90.30it/s, loss=15.4]\n"
          ]
        },
        {
          "output_type": "stream",
          "name": "stdout",
          "text": [
            "Epoch [422/5000]: Train loss: 13.8862, Valid loss: 11.6856\n",
            "Saving model with loss 11.686...\n"
          ]
        },
        {
          "output_type": "stream",
          "name": "stderr",
          "text": [
            "Epoch [423/5000]: 100%|██████████| 2/2 [00:00<00:00, 97.75it/s, loss=8.55]\n"
          ]
        },
        {
          "output_type": "stream",
          "name": "stdout",
          "text": [
            "Epoch [423/5000]: Train loss: 10.4808, Valid loss: 11.6253\n",
            "Saving model with loss 11.625...\n"
          ]
        },
        {
          "output_type": "stream",
          "name": "stderr",
          "text": [
            "Epoch [424/5000]: 100%|██████████| 2/2 [00:00<00:00, 84.66it/s, loss=11.2]\n"
          ]
        },
        {
          "output_type": "stream",
          "name": "stdout",
          "text": [
            "Epoch [424/5000]: Train loss: 11.7112, Valid loss: 11.6141\n",
            "Saving model with loss 11.614...\n"
          ]
        },
        {
          "output_type": "stream",
          "name": "stderr",
          "text": [
            "Epoch [425/5000]: 100%|██████████| 2/2 [00:00<00:00, 84.17it/s, loss=14.1]\n"
          ]
        },
        {
          "output_type": "stream",
          "name": "stdout",
          "text": [
            "Epoch [425/5000]: Train loss: 13.4170, Valid loss: 11.6335\n"
          ]
        },
        {
          "output_type": "stream",
          "name": "stderr",
          "text": [
            "Epoch [426/5000]: 100%|██████████| 2/2 [00:00<00:00, 81.08it/s, loss=12]\n"
          ]
        },
        {
          "output_type": "stream",
          "name": "stdout",
          "text": [
            "Epoch [426/5000]: Train loss: 11.9764, Valid loss: 11.6006\n",
            "Saving model with loss 11.601...\n"
          ]
        },
        {
          "output_type": "stream",
          "name": "stderr",
          "text": [
            "Epoch [427/5000]: 100%|██████████| 2/2 [00:00<00:00, 88.68it/s, loss=10.6]\n"
          ]
        },
        {
          "output_type": "stream",
          "name": "stdout",
          "text": [
            "Epoch [427/5000]: Train loss: 11.5504, Valid loss: 11.6112\n"
          ]
        },
        {
          "output_type": "stream",
          "name": "stderr",
          "text": [
            "Epoch [428/5000]: 100%|██████████| 2/2 [00:00<00:00, 85.56it/s, loss=13.2]\n"
          ]
        },
        {
          "output_type": "stream",
          "name": "stdout",
          "text": [
            "Epoch [428/5000]: Train loss: 12.5561, Valid loss: 11.6227\n"
          ]
        },
        {
          "output_type": "stream",
          "name": "stderr",
          "text": [
            "Epoch [429/5000]: 100%|██████████| 2/2 [00:00<00:00, 89.29it/s, loss=11.1]\n"
          ]
        },
        {
          "output_type": "stream",
          "name": "stdout",
          "text": [
            "Epoch [429/5000]: Train loss: 12.3819, Valid loss: 11.6421\n"
          ]
        },
        {
          "output_type": "stream",
          "name": "stderr",
          "text": [
            "Epoch [430/5000]: 100%|██████████| 2/2 [00:00<00:00, 95.88it/s, loss=14.4]\n"
          ]
        },
        {
          "output_type": "stream",
          "name": "stdout",
          "text": [
            "Epoch [430/5000]: Train loss: 13.2259, Valid loss: 11.6326\n"
          ]
        },
        {
          "output_type": "stream",
          "name": "stderr",
          "text": [
            "Epoch [431/5000]: 100%|██████████| 2/2 [00:00<00:00, 92.17it/s, loss=11.1]\n"
          ]
        },
        {
          "output_type": "stream",
          "name": "stdout",
          "text": [
            "Epoch [431/5000]: Train loss: 11.8313, Valid loss: 11.6487\n"
          ]
        },
        {
          "output_type": "stream",
          "name": "stderr",
          "text": [
            "Epoch [432/5000]: 100%|██████████| 2/2 [00:00<00:00, 75.78it/s, loss=12.4]\n"
          ]
        },
        {
          "output_type": "stream",
          "name": "stdout",
          "text": [
            "Epoch [432/5000]: Train loss: 12.5260, Valid loss: 11.6356\n"
          ]
        },
        {
          "output_type": "stream",
          "name": "stderr",
          "text": [
            "Epoch [433/5000]: 100%|██████████| 2/2 [00:00<00:00, 84.44it/s, loss=11.1]\n"
          ]
        },
        {
          "output_type": "stream",
          "name": "stdout",
          "text": [
            "Epoch [433/5000]: Train loss: 11.8912, Valid loss: 11.6037\n"
          ]
        },
        {
          "output_type": "stream",
          "name": "stderr",
          "text": [
            "Epoch [434/5000]: 100%|██████████| 2/2 [00:00<00:00, 97.11it/s, loss=13.3]\n"
          ]
        },
        {
          "output_type": "stream",
          "name": "stdout",
          "text": [
            "Epoch [434/5000]: Train loss: 12.7789, Valid loss: 11.5758\n",
            "Saving model with loss 11.576...\n"
          ]
        },
        {
          "output_type": "stream",
          "name": "stderr",
          "text": [
            "Epoch [435/5000]: 100%|██████████| 2/2 [00:00<00:00, 96.67it/s, loss=14.7]\n"
          ]
        },
        {
          "output_type": "stream",
          "name": "stdout",
          "text": [
            "Epoch [435/5000]: Train loss: 12.7585, Valid loss: 11.5928\n"
          ]
        },
        {
          "output_type": "stream",
          "name": "stderr",
          "text": [
            "Epoch [436/5000]: 100%|██████████| 2/2 [00:00<00:00, 99.09it/s, loss=11.1]\n"
          ]
        },
        {
          "output_type": "stream",
          "name": "stdout",
          "text": [
            "Epoch [436/5000]: Train loss: 11.2031, Valid loss: 11.6254\n"
          ]
        },
        {
          "output_type": "stream",
          "name": "stderr",
          "text": [
            "Epoch [437/5000]: 100%|██████████| 2/2 [00:00<00:00, 95.15it/s, loss=11.4]\n"
          ]
        },
        {
          "output_type": "stream",
          "name": "stdout",
          "text": [
            "Epoch [437/5000]: Train loss: 11.5006, Valid loss: 11.6055\n"
          ]
        },
        {
          "output_type": "stream",
          "name": "stderr",
          "text": [
            "Epoch [438/5000]: 100%|██████████| 2/2 [00:00<00:00, 87.80it/s, loss=16.4]\n"
          ]
        },
        {
          "output_type": "stream",
          "name": "stdout",
          "text": [
            "Epoch [438/5000]: Train loss: 14.1815, Valid loss: 11.5298\n",
            "Saving model with loss 11.530...\n"
          ]
        },
        {
          "output_type": "stream",
          "name": "stderr",
          "text": [
            "Epoch [439/5000]: 100%|██████████| 2/2 [00:00<00:00, 95.97it/s, loss=16.1]\n"
          ]
        },
        {
          "output_type": "stream",
          "name": "stdout",
          "text": [
            "Epoch [439/5000]: Train loss: 13.9584, Valid loss: 11.5810\n"
          ]
        },
        {
          "output_type": "stream",
          "name": "stderr",
          "text": [
            "Epoch [440/5000]: 100%|██████████| 2/2 [00:00<00:00, 85.97it/s, loss=12.1]\n"
          ]
        },
        {
          "output_type": "stream",
          "name": "stdout",
          "text": [
            "Epoch [440/5000]: Train loss: 12.3757, Valid loss: 11.5315\n"
          ]
        },
        {
          "output_type": "stream",
          "name": "stderr",
          "text": [
            "Epoch [441/5000]: 100%|██████████| 2/2 [00:00<00:00, 83.53it/s, loss=10.9]\n"
          ]
        },
        {
          "output_type": "stream",
          "name": "stdout",
          "text": [
            "Epoch [441/5000]: Train loss: 10.9781, Valid loss: 11.4697\n",
            "Saving model with loss 11.470...\n"
          ]
        },
        {
          "output_type": "stream",
          "name": "stderr",
          "text": [
            "Epoch [442/5000]: 100%|██████████| 2/2 [00:00<00:00, 93.05it/s, loss=12.3]\n"
          ]
        },
        {
          "output_type": "stream",
          "name": "stdout",
          "text": [
            "Epoch [442/5000]: Train loss: 12.6635, Valid loss: 11.4526\n",
            "Saving model with loss 11.453...\n"
          ]
        },
        {
          "output_type": "stream",
          "name": "stderr",
          "text": [
            "Epoch [443/5000]: 100%|██████████| 2/2 [00:00<00:00, 77.59it/s, loss=14.9]\n"
          ]
        },
        {
          "output_type": "stream",
          "name": "stdout",
          "text": [
            "Epoch [443/5000]: Train loss: 13.8111, Valid loss: 11.4096\n",
            "Saving model with loss 11.410...\n"
          ]
        },
        {
          "output_type": "stream",
          "name": "stderr",
          "text": [
            "Epoch [444/5000]: 100%|██████████| 2/2 [00:00<00:00, 94.21it/s, loss=12.7]\n"
          ]
        },
        {
          "output_type": "stream",
          "name": "stdout",
          "text": [
            "Epoch [444/5000]: Train loss: 12.7675, Valid loss: 11.3424\n",
            "Saving model with loss 11.342...\n"
          ]
        },
        {
          "output_type": "stream",
          "name": "stderr",
          "text": [
            "Epoch [445/5000]: 100%|██████████| 2/2 [00:00<00:00, 94.16it/s, loss=14.4]\n"
          ]
        },
        {
          "output_type": "stream",
          "name": "stdout",
          "text": [
            "Epoch [445/5000]: Train loss: 13.2818, Valid loss: 11.3539\n"
          ]
        },
        {
          "output_type": "stream",
          "name": "stderr",
          "text": [
            "Epoch [446/5000]: 100%|██████████| 2/2 [00:00<00:00, 69.35it/s, loss=14.6]\n"
          ]
        },
        {
          "output_type": "stream",
          "name": "stdout",
          "text": [
            "Epoch [446/5000]: Train loss: 12.7239, Valid loss: 11.3439\n"
          ]
        },
        {
          "output_type": "stream",
          "name": "stderr",
          "text": [
            "Epoch [447/5000]: 100%|██████████| 2/2 [00:00<00:00, 87.66it/s, loss=11.2]\n"
          ]
        },
        {
          "output_type": "stream",
          "name": "stdout",
          "text": [
            "Epoch [447/5000]: Train loss: 12.0704, Valid loss: 11.4156\n"
          ]
        },
        {
          "output_type": "stream",
          "name": "stderr",
          "text": [
            "Epoch [448/5000]: 100%|██████████| 2/2 [00:00<00:00, 70.51it/s, loss=12.9]\n"
          ]
        },
        {
          "output_type": "stream",
          "name": "stdout",
          "text": [
            "Epoch [448/5000]: Train loss: 12.9527, Valid loss: 11.3988\n"
          ]
        },
        {
          "output_type": "stream",
          "name": "stderr",
          "text": [
            "Epoch [449/5000]: 100%|██████████| 2/2 [00:00<00:00, 82.95it/s, loss=11]\n"
          ]
        },
        {
          "output_type": "stream",
          "name": "stdout",
          "text": [
            "Epoch [449/5000]: Train loss: 11.0398, Valid loss: 11.4306\n"
          ]
        },
        {
          "output_type": "stream",
          "name": "stderr",
          "text": [
            "Epoch [450/5000]: 100%|██████████| 2/2 [00:00<00:00, 87.63it/s, loss=15.3]\n"
          ]
        },
        {
          "output_type": "stream",
          "name": "stdout",
          "text": [
            "Epoch [450/5000]: Train loss: 13.7399, Valid loss: 11.4048\n"
          ]
        },
        {
          "output_type": "stream",
          "name": "stderr",
          "text": [
            "Epoch [451/5000]: 100%|██████████| 2/2 [00:00<00:00, 12.32it/s, loss=10.1]\n"
          ]
        },
        {
          "output_type": "stream",
          "name": "stdout",
          "text": [
            "Epoch [451/5000]: Train loss: 11.3848, Valid loss: 11.4142\n"
          ]
        },
        {
          "output_type": "stream",
          "name": "stderr",
          "text": [
            "Epoch [452/5000]: 100%|██████████| 2/2 [00:00<00:00, 68.34it/s, loss=10.8]\n"
          ]
        },
        {
          "output_type": "stream",
          "name": "stdout",
          "text": [
            "Epoch [452/5000]: Train loss: 10.9331, Valid loss: 11.4162\n"
          ]
        },
        {
          "output_type": "stream",
          "name": "stderr",
          "text": [
            "Epoch [453/5000]: 100%|██████████| 2/2 [00:00<00:00, 93.57it/s, loss=16.8]\n"
          ]
        },
        {
          "output_type": "stream",
          "name": "stdout",
          "text": [
            "Epoch [453/5000]: Train loss: 13.8610, Valid loss: 11.4824\n"
          ]
        },
        {
          "output_type": "stream",
          "name": "stderr",
          "text": [
            "Epoch [454/5000]: 100%|██████████| 2/2 [00:00<00:00, 98.87it/s, loss=12]\n"
          ]
        },
        {
          "output_type": "stream",
          "name": "stdout",
          "text": [
            "Epoch [454/5000]: Train loss: 11.9378, Valid loss: 11.5147\n"
          ]
        },
        {
          "output_type": "stream",
          "name": "stderr",
          "text": [
            "Epoch [455/5000]: 100%|██████████| 2/2 [00:00<00:00, 86.15it/s, loss=14.1]\n"
          ]
        },
        {
          "output_type": "stream",
          "name": "stdout",
          "text": [
            "Epoch [455/5000]: Train loss: 12.7668, Valid loss: 11.5126\n"
          ]
        },
        {
          "output_type": "stream",
          "name": "stderr",
          "text": [
            "Epoch [456/5000]: 100%|██████████| 2/2 [00:00<00:00, 98.81it/s, loss=12.1]\n"
          ]
        },
        {
          "output_type": "stream",
          "name": "stdout",
          "text": [
            "Epoch [456/5000]: Train loss: 12.3992, Valid loss: 11.4908\n"
          ]
        },
        {
          "output_type": "stream",
          "name": "stderr",
          "text": [
            "Epoch [457/5000]: 100%|██████████| 2/2 [00:00<00:00, 86.56it/s, loss=11.9]\n"
          ]
        },
        {
          "output_type": "stream",
          "name": "stdout",
          "text": [
            "Epoch [457/5000]: Train loss: 12.2469, Valid loss: 11.4780\n"
          ]
        },
        {
          "output_type": "stream",
          "name": "stderr",
          "text": [
            "Epoch [458/5000]: 100%|██████████| 2/2 [00:00<00:00, 92.93it/s, loss=11.7]\n"
          ]
        },
        {
          "output_type": "stream",
          "name": "stdout",
          "text": [
            "Epoch [458/5000]: Train loss: 12.2552, Valid loss: 11.4207\n"
          ]
        },
        {
          "output_type": "stream",
          "name": "stderr",
          "text": [
            "Epoch [459/5000]: 100%|██████████| 2/2 [00:00<00:00, 82.28it/s, loss=10.9]\n"
          ]
        },
        {
          "output_type": "stream",
          "name": "stdout",
          "text": [
            "Epoch [459/5000]: Train loss: 10.7219, Valid loss: 11.4399\n"
          ]
        },
        {
          "output_type": "stream",
          "name": "stderr",
          "text": [
            "Epoch [460/5000]: 100%|██████████| 2/2 [00:00<00:00, 94.58it/s, loss=11.9]\n"
          ]
        },
        {
          "output_type": "stream",
          "name": "stdout",
          "text": [
            "Epoch [460/5000]: Train loss: 12.3949, Valid loss: 11.4204\n"
          ]
        },
        {
          "output_type": "stream",
          "name": "stderr",
          "text": [
            "Epoch [461/5000]: 100%|██████████| 2/2 [00:00<00:00, 103.90it/s, loss=15.3]\n"
          ]
        },
        {
          "output_type": "stream",
          "name": "stdout",
          "text": [
            "Epoch [461/5000]: Train loss: 13.6045, Valid loss: 11.3972\n"
          ]
        },
        {
          "output_type": "stream",
          "name": "stderr",
          "text": [
            "Epoch [462/5000]: 100%|██████████| 2/2 [00:00<00:00, 89.38it/s, loss=11.4]\n"
          ]
        },
        {
          "output_type": "stream",
          "name": "stdout",
          "text": [
            "Epoch [462/5000]: Train loss: 11.6594, Valid loss: 11.3864\n"
          ]
        },
        {
          "output_type": "stream",
          "name": "stderr",
          "text": [
            "Epoch [463/5000]: 100%|██████████| 2/2 [00:00<00:00, 81.60it/s, loss=9.54]\n"
          ]
        },
        {
          "output_type": "stream",
          "name": "stdout",
          "text": [
            "Epoch [463/5000]: Train loss: 10.5502, Valid loss: 11.3468\n"
          ]
        },
        {
          "output_type": "stream",
          "name": "stderr",
          "text": [
            "Epoch [464/5000]: 100%|██████████| 2/2 [00:00<00:00, 73.26it/s, loss=12.5]\n"
          ]
        },
        {
          "output_type": "stream",
          "name": "stdout",
          "text": [
            "Epoch [464/5000]: Train loss: 11.9583, Valid loss: 11.3606\n"
          ]
        },
        {
          "output_type": "stream",
          "name": "stderr",
          "text": [
            "Epoch [465/5000]: 100%|██████████| 2/2 [00:00<00:00, 83.11it/s, loss=11.7]\n"
          ]
        },
        {
          "output_type": "stream",
          "name": "stdout",
          "text": [
            "Epoch [465/5000]: Train loss: 11.6865, Valid loss: 11.3502\n"
          ]
        },
        {
          "output_type": "stream",
          "name": "stderr",
          "text": [
            "Epoch [466/5000]: 100%|██████████| 2/2 [00:00<00:00, 92.25it/s, loss=12]\n"
          ]
        },
        {
          "output_type": "stream",
          "name": "stdout",
          "text": [
            "Epoch [466/5000]: Train loss: 12.6967, Valid loss: 11.4158\n"
          ]
        },
        {
          "output_type": "stream",
          "name": "stderr",
          "text": [
            "Epoch [467/5000]: 100%|██████████| 2/2 [00:00<00:00, 90.97it/s, loss=12.3]\n"
          ]
        },
        {
          "output_type": "stream",
          "name": "stdout",
          "text": [
            "Epoch [467/5000]: Train loss: 12.1169, Valid loss: 11.4503\n"
          ]
        },
        {
          "output_type": "stream",
          "name": "stderr",
          "text": [
            "Epoch [468/5000]: 100%|██████████| 2/2 [00:00<00:00, 74.04it/s, loss=11.6]\n"
          ]
        },
        {
          "output_type": "stream",
          "name": "stdout",
          "text": [
            "Epoch [468/5000]: Train loss: 11.5198, Valid loss: 11.4738\n"
          ]
        },
        {
          "output_type": "stream",
          "name": "stderr",
          "text": [
            "Epoch [469/5000]: 100%|██████████| 2/2 [00:00<00:00, 85.29it/s, loss=14.1]\n"
          ]
        },
        {
          "output_type": "stream",
          "name": "stdout",
          "text": [
            "Epoch [469/5000]: Train loss: 13.4228, Valid loss: 11.4895\n"
          ]
        },
        {
          "output_type": "stream",
          "name": "stderr",
          "text": [
            "Epoch [470/5000]: 100%|██████████| 2/2 [00:00<00:00, 78.15it/s, loss=12]\n"
          ]
        },
        {
          "output_type": "stream",
          "name": "stdout",
          "text": [
            "Epoch [470/5000]: Train loss: 11.3063, Valid loss: 11.4571\n"
          ]
        },
        {
          "output_type": "stream",
          "name": "stderr",
          "text": [
            "Epoch [471/5000]: 100%|██████████| 2/2 [00:00<00:00, 88.92it/s, loss=10.3]\n"
          ]
        },
        {
          "output_type": "stream",
          "name": "stdout",
          "text": [
            "Epoch [471/5000]: Train loss: 11.5169, Valid loss: 11.4569\n"
          ]
        },
        {
          "output_type": "stream",
          "name": "stderr",
          "text": [
            "Epoch [472/5000]: 100%|██████████| 2/2 [00:00<00:00, 81.61it/s, loss=13.2]\n"
          ]
        },
        {
          "output_type": "stream",
          "name": "stdout",
          "text": [
            "Epoch [472/5000]: Train loss: 12.1048, Valid loss: 11.4753\n"
          ]
        },
        {
          "output_type": "stream",
          "name": "stderr",
          "text": [
            "Epoch [473/5000]: 100%|██████████| 2/2 [00:00<00:00, 62.63it/s, loss=9.71]\n"
          ]
        },
        {
          "output_type": "stream",
          "name": "stdout",
          "text": [
            "Epoch [473/5000]: Train loss: 10.7835, Valid loss: 11.5092\n"
          ]
        },
        {
          "output_type": "stream",
          "name": "stderr",
          "text": [
            "Epoch [474/5000]: 100%|██████████| 2/2 [00:00<00:00, 90.52it/s, loss=12.1]\n"
          ]
        },
        {
          "output_type": "stream",
          "name": "stdout",
          "text": [
            "Epoch [474/5000]: Train loss: 12.3931, Valid loss: 11.4662\n"
          ]
        },
        {
          "output_type": "stream",
          "name": "stderr",
          "text": [
            "Epoch [475/5000]: 100%|██████████| 2/2 [00:00<00:00, 129.93it/s, loss=11]\n"
          ]
        },
        {
          "output_type": "stream",
          "name": "stdout",
          "text": [
            "Epoch [475/5000]: Train loss: 11.8991, Valid loss: 11.4807\n"
          ]
        },
        {
          "output_type": "stream",
          "name": "stderr",
          "text": [
            "Epoch [476/5000]: 100%|██████████| 2/2 [00:00<00:00, 93.35it/s, loss=11.5]\n"
          ]
        },
        {
          "output_type": "stream",
          "name": "stdout",
          "text": [
            "Epoch [476/5000]: Train loss: 12.1409, Valid loss: 11.4455\n"
          ]
        },
        {
          "output_type": "stream",
          "name": "stderr",
          "text": [
            "Epoch [477/5000]: 100%|██████████| 2/2 [00:00<00:00, 103.91it/s, loss=10.1]\n"
          ]
        },
        {
          "output_type": "stream",
          "name": "stdout",
          "text": [
            "Epoch [477/5000]: Train loss: 11.0262, Valid loss: 11.4256\n"
          ]
        },
        {
          "output_type": "stream",
          "name": "stderr",
          "text": [
            "Epoch [478/5000]: 100%|██████████| 2/2 [00:00<00:00, 101.55it/s, loss=15.1]\n"
          ]
        },
        {
          "output_type": "stream",
          "name": "stdout",
          "text": [
            "Epoch [478/5000]: Train loss: 13.9413, Valid loss: 11.3842\n"
          ]
        },
        {
          "output_type": "stream",
          "name": "stderr",
          "text": [
            "Epoch [479/5000]: 100%|██████████| 2/2 [00:00<00:00, 123.13it/s, loss=11.1]\n"
          ]
        },
        {
          "output_type": "stream",
          "name": "stdout",
          "text": [
            "Epoch [479/5000]: Train loss: 11.4585, Valid loss: 11.4212\n"
          ]
        },
        {
          "output_type": "stream",
          "name": "stderr",
          "text": [
            "Epoch [480/5000]: 100%|██████████| 2/2 [00:00<00:00, 106.20it/s, loss=11.1]\n"
          ]
        },
        {
          "output_type": "stream",
          "name": "stdout",
          "text": [
            "Epoch [480/5000]: Train loss: 11.2340, Valid loss: 11.3763\n"
          ]
        },
        {
          "output_type": "stream",
          "name": "stderr",
          "text": [
            "Epoch [481/5000]: 100%|██████████| 2/2 [00:00<00:00, 117.49it/s, loss=9.87]\n"
          ]
        },
        {
          "output_type": "stream",
          "name": "stdout",
          "text": [
            "Epoch [481/5000]: Train loss: 11.6373, Valid loss: 11.4105\n"
          ]
        },
        {
          "output_type": "stream",
          "name": "stderr",
          "text": [
            "Epoch [482/5000]: 100%|██████████| 2/2 [00:00<00:00, 99.26it/s, loss=13.1]\n"
          ]
        },
        {
          "output_type": "stream",
          "name": "stdout",
          "text": [
            "Epoch [482/5000]: Train loss: 12.1961, Valid loss: 11.4943\n"
          ]
        },
        {
          "output_type": "stream",
          "name": "stderr",
          "text": [
            "Epoch [483/5000]: 100%|██████████| 2/2 [00:00<00:00, 90.79it/s, loss=11.9]\n"
          ]
        },
        {
          "output_type": "stream",
          "name": "stdout",
          "text": [
            "Epoch [483/5000]: Train loss: 11.6194, Valid loss: 11.5473\n"
          ]
        },
        {
          "output_type": "stream",
          "name": "stderr",
          "text": [
            "Epoch [484/5000]: 100%|██████████| 2/2 [00:00<00:00, 141.83it/s, loss=12.9]\n"
          ]
        },
        {
          "output_type": "stream",
          "name": "stdout",
          "text": [
            "Epoch [484/5000]: Train loss: 12.2165, Valid loss: 11.5136\n"
          ]
        },
        {
          "output_type": "stream",
          "name": "stderr",
          "text": [
            "Epoch [485/5000]: 100%|██████████| 2/2 [00:00<00:00, 115.98it/s, loss=14.4]\n"
          ]
        },
        {
          "output_type": "stream",
          "name": "stdout",
          "text": [
            "Epoch [485/5000]: Train loss: 12.4167, Valid loss: 11.5313\n"
          ]
        },
        {
          "output_type": "stream",
          "name": "stderr",
          "text": [
            "Epoch [486/5000]: 100%|██████████| 2/2 [00:00<00:00, 96.75it/s, loss=13.8]\n"
          ]
        },
        {
          "output_type": "stream",
          "name": "stdout",
          "text": [
            "Epoch [486/5000]: Train loss: 13.3510, Valid loss: 11.5572\n"
          ]
        },
        {
          "output_type": "stream",
          "name": "stderr",
          "text": [
            "Epoch [487/5000]: 100%|██████████| 2/2 [00:00<00:00, 95.44it/s, loss=15]\n"
          ]
        },
        {
          "output_type": "stream",
          "name": "stdout",
          "text": [
            "Epoch [487/5000]: Train loss: 12.9184, Valid loss: 11.5351\n"
          ]
        },
        {
          "output_type": "stream",
          "name": "stderr",
          "text": [
            "Epoch [488/5000]: 100%|██████████| 2/2 [00:00<00:00, 96.99it/s, loss=15.2]\n"
          ]
        },
        {
          "output_type": "stream",
          "name": "stdout",
          "text": [
            "Epoch [488/5000]: Train loss: 13.4444, Valid loss: 11.5433\n"
          ]
        },
        {
          "output_type": "stream",
          "name": "stderr",
          "text": [
            "Epoch [489/5000]: 100%|██████████| 2/2 [00:00<00:00, 115.36it/s, loss=13.7]\n"
          ]
        },
        {
          "output_type": "stream",
          "name": "stdout",
          "text": [
            "Epoch [489/5000]: Train loss: 12.9652, Valid loss: 11.4927\n"
          ]
        },
        {
          "output_type": "stream",
          "name": "stderr",
          "text": [
            "Epoch [490/5000]: 100%|██████████| 2/2 [00:00<00:00, 106.55it/s, loss=12.3]\n"
          ]
        },
        {
          "output_type": "stream",
          "name": "stdout",
          "text": [
            "Epoch [490/5000]: Train loss: 12.1125, Valid loss: 11.5220\n"
          ]
        },
        {
          "output_type": "stream",
          "name": "stderr",
          "text": [
            "Epoch [491/5000]: 100%|██████████| 2/2 [00:00<00:00, 103.24it/s, loss=13.2]\n"
          ]
        },
        {
          "output_type": "stream",
          "name": "stdout",
          "text": [
            "Epoch [491/5000]: Train loss: 12.0892, Valid loss: 11.4477\n"
          ]
        },
        {
          "output_type": "stream",
          "name": "stderr",
          "text": [
            "Epoch [492/5000]: 100%|██████████| 2/2 [00:00<00:00, 102.22it/s, loss=17.4]\n"
          ]
        },
        {
          "output_type": "stream",
          "name": "stdout",
          "text": [
            "Epoch [492/5000]: Train loss: 14.5587, Valid loss: 11.4109\n"
          ]
        },
        {
          "output_type": "stream",
          "name": "stderr",
          "text": [
            "Epoch [493/5000]: 100%|██████████| 2/2 [00:00<00:00, 119.19it/s, loss=9.86]\n"
          ]
        },
        {
          "output_type": "stream",
          "name": "stdout",
          "text": [
            "Epoch [493/5000]: Train loss: 10.7686, Valid loss: 11.4106\n"
          ]
        },
        {
          "output_type": "stream",
          "name": "stderr",
          "text": [
            "Epoch [494/5000]: 100%|██████████| 2/2 [00:00<00:00, 113.03it/s, loss=13.3]\n"
          ]
        },
        {
          "output_type": "stream",
          "name": "stdout",
          "text": [
            "Epoch [494/5000]: Train loss: 11.5737, Valid loss: 11.4472\n"
          ]
        },
        {
          "output_type": "stream",
          "name": "stderr",
          "text": [
            "Epoch [495/5000]: 100%|██████████| 2/2 [00:00<00:00, 105.66it/s, loss=12.2]\n"
          ]
        },
        {
          "output_type": "stream",
          "name": "stdout",
          "text": [
            "Epoch [495/5000]: Train loss: 12.9912, Valid loss: 11.4595\n"
          ]
        },
        {
          "output_type": "stream",
          "name": "stderr",
          "text": [
            "Epoch [496/5000]: 100%|██████████| 2/2 [00:00<00:00, 108.63it/s, loss=10.1]\n"
          ]
        },
        {
          "output_type": "stream",
          "name": "stdout",
          "text": [
            "Epoch [496/5000]: Train loss: 10.5035, Valid loss: 11.4912\n"
          ]
        },
        {
          "output_type": "stream",
          "name": "stderr",
          "text": [
            "Epoch [497/5000]: 100%|██████████| 2/2 [00:00<00:00, 113.48it/s, loss=12.9]\n"
          ]
        },
        {
          "output_type": "stream",
          "name": "stdout",
          "text": [
            "Epoch [497/5000]: Train loss: 12.1559, Valid loss: 11.4065\n"
          ]
        },
        {
          "output_type": "stream",
          "name": "stderr",
          "text": [
            "Epoch [498/5000]: 100%|██████████| 2/2 [00:00<00:00, 107.87it/s, loss=10.3]\n"
          ]
        },
        {
          "output_type": "stream",
          "name": "stdout",
          "text": [
            "Epoch [498/5000]: Train loss: 11.2036, Valid loss: 11.4248\n"
          ]
        },
        {
          "output_type": "stream",
          "name": "stderr",
          "text": [
            "Epoch [499/5000]: 100%|██████████| 2/2 [00:00<00:00, 137.30it/s, loss=10.4]\n"
          ]
        },
        {
          "output_type": "stream",
          "name": "stdout",
          "text": [
            "Epoch [499/5000]: Train loss: 11.0543, Valid loss: 11.4647\n"
          ]
        },
        {
          "output_type": "stream",
          "name": "stderr",
          "text": [
            "Epoch [500/5000]: 100%|██████████| 2/2 [00:00<00:00, 110.55it/s, loss=12.9]\n"
          ]
        },
        {
          "output_type": "stream",
          "name": "stdout",
          "text": [
            "Epoch [500/5000]: Train loss: 12.0181, Valid loss: 11.4652\n"
          ]
        },
        {
          "output_type": "stream",
          "name": "stderr",
          "text": [
            "Epoch [501/5000]: 100%|██████████| 2/2 [00:00<00:00, 100.20it/s, loss=9.82]\n"
          ]
        },
        {
          "output_type": "stream",
          "name": "stdout",
          "text": [
            "Epoch [501/5000]: Train loss: 11.2137, Valid loss: 11.4624\n"
          ]
        },
        {
          "output_type": "stream",
          "name": "stderr",
          "text": [
            "Epoch [502/5000]: 100%|██████████| 2/2 [00:00<00:00, 120.82it/s, loss=12]\n"
          ]
        },
        {
          "output_type": "stream",
          "name": "stdout",
          "text": [
            "Epoch [502/5000]: Train loss: 12.2691, Valid loss: 11.4631\n"
          ]
        },
        {
          "output_type": "stream",
          "name": "stderr",
          "text": [
            "Epoch [503/5000]: 100%|██████████| 2/2 [00:00<00:00, 100.48it/s, loss=12.9]\n"
          ]
        },
        {
          "output_type": "stream",
          "name": "stdout",
          "text": [
            "Epoch [503/5000]: Train loss: 11.3739, Valid loss: 11.4959\n"
          ]
        },
        {
          "output_type": "stream",
          "name": "stderr",
          "text": [
            "Epoch [504/5000]: 100%|██████████| 2/2 [00:00<00:00, 88.84it/s, loss=16.9]\n"
          ]
        },
        {
          "output_type": "stream",
          "name": "stdout",
          "text": [
            "Epoch [504/5000]: Train loss: 13.9182, Valid loss: 11.4279\n"
          ]
        },
        {
          "output_type": "stream",
          "name": "stderr",
          "text": [
            "Epoch [505/5000]: 100%|██████████| 2/2 [00:00<00:00, 128.99it/s, loss=9.93]\n"
          ]
        },
        {
          "output_type": "stream",
          "name": "stdout",
          "text": [
            "Epoch [505/5000]: Train loss: 10.9633, Valid loss: 11.4925\n"
          ]
        },
        {
          "output_type": "stream",
          "name": "stderr",
          "text": [
            "Epoch [506/5000]: 100%|██████████| 2/2 [00:00<00:00, 105.37it/s, loss=14.4]\n"
          ]
        },
        {
          "output_type": "stream",
          "name": "stdout",
          "text": [
            "Epoch [506/5000]: Train loss: 12.8949, Valid loss: 11.5253\n"
          ]
        },
        {
          "output_type": "stream",
          "name": "stderr",
          "text": [
            "Epoch [507/5000]: 100%|██████████| 2/2 [00:00<00:00, 128.94it/s, loss=10.6]\n"
          ]
        },
        {
          "output_type": "stream",
          "name": "stdout",
          "text": [
            "Epoch [507/5000]: Train loss: 11.2109, Valid loss: 11.4986\n"
          ]
        },
        {
          "output_type": "stream",
          "name": "stderr",
          "text": [
            "Epoch [508/5000]: 100%|██████████| 2/2 [00:00<00:00, 93.56it/s, loss=9.72]\n"
          ]
        },
        {
          "output_type": "stream",
          "name": "stdout",
          "text": [
            "Epoch [508/5000]: Train loss: 10.3273, Valid loss: 11.4366\n"
          ]
        },
        {
          "output_type": "stream",
          "name": "stderr",
          "text": [
            "Epoch [509/5000]: 100%|██████████| 2/2 [00:00<00:00, 130.57it/s, loss=13.2]\n"
          ]
        },
        {
          "output_type": "stream",
          "name": "stdout",
          "text": [
            "Epoch [509/5000]: Train loss: 12.8047, Valid loss: 11.4034\n"
          ]
        },
        {
          "output_type": "stream",
          "name": "stderr",
          "text": [
            "Epoch [510/5000]: 100%|██████████| 2/2 [00:00<00:00, 93.93it/s, loss=12.4]\n"
          ]
        },
        {
          "output_type": "stream",
          "name": "stdout",
          "text": [
            "Epoch [510/5000]: Train loss: 12.6915, Valid loss: 11.3595\n"
          ]
        },
        {
          "output_type": "stream",
          "name": "stderr",
          "text": [
            "Epoch [511/5000]: 100%|██████████| 2/2 [00:00<00:00, 133.57it/s, loss=11.8]\n"
          ]
        },
        {
          "output_type": "stream",
          "name": "stdout",
          "text": [
            "Epoch [511/5000]: Train loss: 11.2334, Valid loss: 11.2806\n",
            "Saving model with loss 11.281...\n"
          ]
        },
        {
          "output_type": "stream",
          "name": "stderr",
          "text": [
            "Epoch [512/5000]: 100%|██████████| 2/2 [00:00<00:00, 131.13it/s, loss=11.5]\n"
          ]
        },
        {
          "output_type": "stream",
          "name": "stdout",
          "text": [
            "Epoch [512/5000]: Train loss: 12.1100, Valid loss: 11.2196\n",
            "Saving model with loss 11.220...\n"
          ]
        },
        {
          "output_type": "stream",
          "name": "stderr",
          "text": [
            "Epoch [513/5000]: 100%|██████████| 2/2 [00:00<00:00, 98.90it/s, loss=12.1]\n"
          ]
        },
        {
          "output_type": "stream",
          "name": "stdout",
          "text": [
            "Epoch [513/5000]: Train loss: 11.1656, Valid loss: 11.2605\n"
          ]
        },
        {
          "output_type": "stream",
          "name": "stderr",
          "text": [
            "Epoch [514/5000]: 100%|██████████| 2/2 [00:00<00:00, 114.59it/s, loss=10.8]\n"
          ]
        },
        {
          "output_type": "stream",
          "name": "stdout",
          "text": [
            "Epoch [514/5000]: Train loss: 12.3795, Valid loss: 11.3147\n"
          ]
        },
        {
          "output_type": "stream",
          "name": "stderr",
          "text": [
            "Epoch [515/5000]: 100%|██████████| 2/2 [00:00<00:00, 90.82it/s, loss=16.5]\n"
          ]
        },
        {
          "output_type": "stream",
          "name": "stdout",
          "text": [
            "Epoch [515/5000]: Train loss: 13.5304, Valid loss: 11.3696\n"
          ]
        },
        {
          "output_type": "stream",
          "name": "stderr",
          "text": [
            "Epoch [516/5000]: 100%|██████████| 2/2 [00:00<00:00, 127.07it/s, loss=13]\n"
          ]
        },
        {
          "output_type": "stream",
          "name": "stdout",
          "text": [
            "Epoch [516/5000]: Train loss: 12.8973, Valid loss: 11.4309\n"
          ]
        },
        {
          "output_type": "stream",
          "name": "stderr",
          "text": [
            "Epoch [517/5000]: 100%|██████████| 2/2 [00:00<00:00, 97.70it/s, loss=13.3]\n"
          ]
        },
        {
          "output_type": "stream",
          "name": "stdout",
          "text": [
            "Epoch [517/5000]: Train loss: 12.4583, Valid loss: 11.4385\n"
          ]
        },
        {
          "output_type": "stream",
          "name": "stderr",
          "text": [
            "Epoch [518/5000]: 100%|██████████| 2/2 [00:00<00:00, 107.19it/s, loss=12.9]\n"
          ]
        },
        {
          "output_type": "stream",
          "name": "stdout",
          "text": [
            "Epoch [518/5000]: Train loss: 12.2899, Valid loss: 11.4897\n"
          ]
        },
        {
          "output_type": "stream",
          "name": "stderr",
          "text": [
            "Epoch [519/5000]: 100%|██████████| 2/2 [00:00<00:00, 103.09it/s, loss=8.82]\n"
          ]
        },
        {
          "output_type": "stream",
          "name": "stdout",
          "text": [
            "Epoch [519/5000]: Train loss: 10.8570, Valid loss: 11.5260\n"
          ]
        },
        {
          "output_type": "stream",
          "name": "stderr",
          "text": [
            "Epoch [520/5000]: 100%|██████████| 2/2 [00:00<00:00, 109.59it/s, loss=11.5]\n"
          ]
        },
        {
          "output_type": "stream",
          "name": "stdout",
          "text": [
            "Epoch [520/5000]: Train loss: 10.6235, Valid loss: 11.5258\n"
          ]
        },
        {
          "output_type": "stream",
          "name": "stderr",
          "text": [
            "Epoch [521/5000]: 100%|██████████| 2/2 [00:00<00:00, 104.67it/s, loss=10.3]\n"
          ]
        },
        {
          "output_type": "stream",
          "name": "stdout",
          "text": [
            "Epoch [521/5000]: Train loss: 11.7054, Valid loss: 11.5284\n"
          ]
        },
        {
          "output_type": "stream",
          "name": "stderr",
          "text": [
            "Epoch [522/5000]: 100%|██████████| 2/2 [00:00<00:00, 125.30it/s, loss=12.9]\n"
          ]
        },
        {
          "output_type": "stream",
          "name": "stdout",
          "text": [
            "Epoch [522/5000]: Train loss: 12.0421, Valid loss: 11.6072\n"
          ]
        },
        {
          "output_type": "stream",
          "name": "stderr",
          "text": [
            "Epoch [523/5000]: 100%|██████████| 2/2 [00:00<00:00, 101.99it/s, loss=11.3]\n"
          ]
        },
        {
          "output_type": "stream",
          "name": "stdout",
          "text": [
            "Epoch [523/5000]: Train loss: 11.8697, Valid loss: 11.5233\n"
          ]
        },
        {
          "output_type": "stream",
          "name": "stderr",
          "text": [
            "Epoch [524/5000]: 100%|██████████| 2/2 [00:00<00:00, 94.51it/s, loss=15.7]\n"
          ]
        },
        {
          "output_type": "stream",
          "name": "stdout",
          "text": [
            "Epoch [524/5000]: Train loss: 13.4180, Valid loss: 11.4528\n"
          ]
        },
        {
          "output_type": "stream",
          "name": "stderr",
          "text": [
            "Epoch [525/5000]: 100%|██████████| 2/2 [00:00<00:00, 104.40it/s, loss=9.27]\n"
          ]
        },
        {
          "output_type": "stream",
          "name": "stdout",
          "text": [
            "Epoch [525/5000]: Train loss: 11.2088, Valid loss: 11.3956\n"
          ]
        },
        {
          "output_type": "stream",
          "name": "stderr",
          "text": [
            "Epoch [526/5000]: 100%|██████████| 2/2 [00:00<00:00, 100.08it/s, loss=13.1]\n"
          ]
        },
        {
          "output_type": "stream",
          "name": "stdout",
          "text": [
            "Epoch [526/5000]: Train loss: 12.1033, Valid loss: 11.4089\n"
          ]
        },
        {
          "output_type": "stream",
          "name": "stderr",
          "text": [
            "Epoch [527/5000]: 100%|██████████| 2/2 [00:00<00:00, 99.16it/s, loss=14.4]\n"
          ]
        },
        {
          "output_type": "stream",
          "name": "stdout",
          "text": [
            "Epoch [527/5000]: Train loss: 12.6316, Valid loss: 11.3690\n"
          ]
        },
        {
          "output_type": "stream",
          "name": "stderr",
          "text": [
            "Epoch [528/5000]: 100%|██████████| 2/2 [00:00<00:00, 128.28it/s, loss=9.57]\n"
          ]
        },
        {
          "output_type": "stream",
          "name": "stdout",
          "text": [
            "Epoch [528/5000]: Train loss: 10.9008, Valid loss: 11.3170\n"
          ]
        },
        {
          "output_type": "stream",
          "name": "stderr",
          "text": [
            "Epoch [529/5000]: 100%|██████████| 2/2 [00:00<00:00, 106.10it/s, loss=8.61]\n"
          ]
        },
        {
          "output_type": "stream",
          "name": "stdout",
          "text": [
            "Epoch [529/5000]: Train loss: 10.9623, Valid loss: 11.2438\n"
          ]
        },
        {
          "output_type": "stream",
          "name": "stderr",
          "text": [
            "Epoch [530/5000]: 100%|██████████| 2/2 [00:00<00:00, 115.84it/s, loss=13.1]\n"
          ]
        },
        {
          "output_type": "stream",
          "name": "stdout",
          "text": [
            "Epoch [530/5000]: Train loss: 12.5202, Valid loss: 11.1570\n",
            "Saving model with loss 11.157...\n"
          ]
        },
        {
          "output_type": "stream",
          "name": "stderr",
          "text": [
            "Epoch [531/5000]: 100%|██████████| 2/2 [00:00<00:00, 103.39it/s, loss=13.6]\n"
          ]
        },
        {
          "output_type": "stream",
          "name": "stdout",
          "text": [
            "Epoch [531/5000]: Train loss: 13.1358, Valid loss: 11.1105\n",
            "Saving model with loss 11.110...\n"
          ]
        },
        {
          "output_type": "stream",
          "name": "stderr",
          "text": [
            "Epoch [532/5000]: 100%|██████████| 2/2 [00:00<00:00, 115.54it/s, loss=11.4]\n"
          ]
        },
        {
          "output_type": "stream",
          "name": "stdout",
          "text": [
            "Epoch [532/5000]: Train loss: 11.3160, Valid loss: 10.9902\n",
            "Saving model with loss 10.990...\n"
          ]
        },
        {
          "output_type": "stream",
          "name": "stderr",
          "text": [
            "Epoch [533/5000]: 100%|██████████| 2/2 [00:00<00:00, 128.80it/s, loss=14.9]\n"
          ]
        },
        {
          "output_type": "stream",
          "name": "stdout",
          "text": [
            "Epoch [533/5000]: Train loss: 12.9416, Valid loss: 10.8634\n",
            "Saving model with loss 10.863...\n"
          ]
        },
        {
          "output_type": "stream",
          "name": "stderr",
          "text": [
            "Epoch [534/5000]: 100%|██████████| 2/2 [00:00<00:00, 90.94it/s, loss=12.2]\n"
          ]
        },
        {
          "output_type": "stream",
          "name": "stdout",
          "text": [
            "Epoch [534/5000]: Train loss: 11.5071, Valid loss: 10.8288\n",
            "Saving model with loss 10.829...\n"
          ]
        },
        {
          "output_type": "stream",
          "name": "stderr",
          "text": [
            "Epoch [535/5000]: 100%|██████████| 2/2 [00:00<00:00, 109.75it/s, loss=8.37]\n"
          ]
        },
        {
          "output_type": "stream",
          "name": "stdout",
          "text": [
            "Epoch [535/5000]: Train loss: 10.7780, Valid loss: 10.8733\n"
          ]
        },
        {
          "output_type": "stream",
          "name": "stderr",
          "text": [
            "Epoch [536/5000]: 100%|██████████| 2/2 [00:00<00:00, 119.53it/s, loss=13.4]\n"
          ]
        },
        {
          "output_type": "stream",
          "name": "stdout",
          "text": [
            "Epoch [536/5000]: Train loss: 12.9103, Valid loss: 10.7970\n",
            "Saving model with loss 10.797...\n"
          ]
        },
        {
          "output_type": "stream",
          "name": "stderr",
          "text": [
            "Epoch [537/5000]: 100%|██████████| 2/2 [00:00<00:00, 101.31it/s, loss=11.4]\n"
          ]
        },
        {
          "output_type": "stream",
          "name": "stdout",
          "text": [
            "Epoch [537/5000]: Train loss: 11.4949, Valid loss: 10.7600\n",
            "Saving model with loss 10.760...\n"
          ]
        },
        {
          "output_type": "stream",
          "name": "stderr",
          "text": [
            "Epoch [538/5000]: 100%|██████████| 2/2 [00:00<00:00, 97.21it/s, loss=12.5]\n"
          ]
        },
        {
          "output_type": "stream",
          "name": "stdout",
          "text": [
            "Epoch [538/5000]: Train loss: 11.6902, Valid loss: 10.7750\n"
          ]
        },
        {
          "output_type": "stream",
          "name": "stderr",
          "text": [
            "Epoch [539/5000]: 100%|██████████| 2/2 [00:00<00:00, 114.28it/s, loss=9.91]\n"
          ]
        },
        {
          "output_type": "stream",
          "name": "stdout",
          "text": [
            "Epoch [539/5000]: Train loss: 10.8903, Valid loss: 10.8176\n"
          ]
        },
        {
          "output_type": "stream",
          "name": "stderr",
          "text": [
            "Epoch [540/5000]: 100%|██████████| 2/2 [00:00<00:00, 111.80it/s, loss=11.5]\n"
          ]
        },
        {
          "output_type": "stream",
          "name": "stdout",
          "text": [
            "Epoch [540/5000]: Train loss: 12.2044, Valid loss: 10.8847\n"
          ]
        },
        {
          "output_type": "stream",
          "name": "stderr",
          "text": [
            "Epoch [541/5000]: 100%|██████████| 2/2 [00:00<00:00, 108.99it/s, loss=13.6]\n"
          ]
        },
        {
          "output_type": "stream",
          "name": "stdout",
          "text": [
            "Epoch [541/5000]: Train loss: 12.2255, Valid loss: 11.0112\n"
          ]
        },
        {
          "output_type": "stream",
          "name": "stderr",
          "text": [
            "Epoch [542/5000]: 100%|██████████| 2/2 [00:00<00:00, 105.57it/s, loss=13.9]\n"
          ]
        },
        {
          "output_type": "stream",
          "name": "stdout",
          "text": [
            "Epoch [542/5000]: Train loss: 12.7151, Valid loss: 11.0967\n"
          ]
        },
        {
          "output_type": "stream",
          "name": "stderr",
          "text": [
            "Epoch [543/5000]: 100%|██████████| 2/2 [00:00<00:00, 129.09it/s, loss=13.1]\n"
          ]
        },
        {
          "output_type": "stream",
          "name": "stdout",
          "text": [
            "Epoch [543/5000]: Train loss: 11.9832, Valid loss: 11.2008\n"
          ]
        },
        {
          "output_type": "stream",
          "name": "stderr",
          "text": [
            "Epoch [544/5000]: 100%|██████████| 2/2 [00:00<00:00, 127.47it/s, loss=12.1]\n"
          ]
        },
        {
          "output_type": "stream",
          "name": "stdout",
          "text": [
            "Epoch [544/5000]: Train loss: 11.8506, Valid loss: 11.2526\n"
          ]
        },
        {
          "output_type": "stream",
          "name": "stderr",
          "text": [
            "Epoch [545/5000]: 100%|██████████| 2/2 [00:00<00:00, 111.01it/s, loss=11.8]\n"
          ]
        },
        {
          "output_type": "stream",
          "name": "stdout",
          "text": [
            "Epoch [545/5000]: Train loss: 11.2315, Valid loss: 11.2906\n"
          ]
        },
        {
          "output_type": "stream",
          "name": "stderr",
          "text": [
            "Epoch [546/5000]: 100%|██████████| 2/2 [00:00<00:00, 122.53it/s, loss=10.1]\n"
          ]
        },
        {
          "output_type": "stream",
          "name": "stdout",
          "text": [
            "Epoch [546/5000]: Train loss: 10.1792, Valid loss: 11.2298\n"
          ]
        },
        {
          "output_type": "stream",
          "name": "stderr",
          "text": [
            "Epoch [547/5000]: 100%|██████████| 2/2 [00:00<00:00, 111.59it/s, loss=11.8]\n"
          ]
        },
        {
          "output_type": "stream",
          "name": "stdout",
          "text": [
            "Epoch [547/5000]: Train loss: 11.6693, Valid loss: 11.2249\n"
          ]
        },
        {
          "output_type": "stream",
          "name": "stderr",
          "text": [
            "Epoch [548/5000]: 100%|██████████| 2/2 [00:00<00:00, 74.28it/s, loss=10.1]\n"
          ]
        },
        {
          "output_type": "stream",
          "name": "stdout",
          "text": [
            "Epoch [548/5000]: Train loss: 10.7878, Valid loss: 11.1589\n"
          ]
        },
        {
          "output_type": "stream",
          "name": "stderr",
          "text": [
            "Epoch [549/5000]: 100%|██████████| 2/2 [00:00<00:00, 104.00it/s, loss=8.66]\n"
          ]
        },
        {
          "output_type": "stream",
          "name": "stdout",
          "text": [
            "Epoch [549/5000]: Train loss: 10.5899, Valid loss: 11.0047\n"
          ]
        },
        {
          "output_type": "stream",
          "name": "stderr",
          "text": [
            "Epoch [550/5000]: 100%|██████████| 2/2 [00:00<00:00, 105.27it/s, loss=9.79]\n"
          ]
        },
        {
          "output_type": "stream",
          "name": "stdout",
          "text": [
            "Epoch [550/5000]: Train loss: 10.5425, Valid loss: 10.9813\n"
          ]
        },
        {
          "output_type": "stream",
          "name": "stderr",
          "text": [
            "Epoch [551/5000]: 100%|██████████| 2/2 [00:00<00:00, 103.55it/s, loss=11.7]\n"
          ]
        },
        {
          "output_type": "stream",
          "name": "stdout",
          "text": [
            "Epoch [551/5000]: Train loss: 11.0206, Valid loss: 11.0157\n"
          ]
        },
        {
          "output_type": "stream",
          "name": "stderr",
          "text": [
            "Epoch [552/5000]: 100%|██████████| 2/2 [00:00<00:00, 99.80it/s, loss=12.2]\n"
          ]
        },
        {
          "output_type": "stream",
          "name": "stdout",
          "text": [
            "Epoch [552/5000]: Train loss: 12.2175, Valid loss: 11.0789\n"
          ]
        },
        {
          "output_type": "stream",
          "name": "stderr",
          "text": [
            "Epoch [553/5000]: 100%|██████████| 2/2 [00:00<00:00, 108.91it/s, loss=13.6]\n"
          ]
        },
        {
          "output_type": "stream",
          "name": "stdout",
          "text": [
            "Epoch [553/5000]: Train loss: 11.9850, Valid loss: 11.1468\n"
          ]
        },
        {
          "output_type": "stream",
          "name": "stderr",
          "text": [
            "Epoch [554/5000]: 100%|██████████| 2/2 [00:00<00:00, 99.98it/s, loss=12.7]\n"
          ]
        },
        {
          "output_type": "stream",
          "name": "stdout",
          "text": [
            "Epoch [554/5000]: Train loss: 11.6248, Valid loss: 11.3004\n"
          ]
        },
        {
          "output_type": "stream",
          "name": "stderr",
          "text": [
            "Epoch [555/5000]: 100%|██████████| 2/2 [00:00<00:00, 116.34it/s, loss=13.7]\n"
          ]
        },
        {
          "output_type": "stream",
          "name": "stdout",
          "text": [
            "Epoch [555/5000]: Train loss: 12.9620, Valid loss: 11.4516\n"
          ]
        },
        {
          "output_type": "stream",
          "name": "stderr",
          "text": [
            "Epoch [556/5000]: 100%|██████████| 2/2 [00:00<00:00, 111.43it/s, loss=9.57]\n"
          ]
        },
        {
          "output_type": "stream",
          "name": "stdout",
          "text": [
            "Epoch [556/5000]: Train loss: 10.9575, Valid loss: 11.5478\n"
          ]
        },
        {
          "output_type": "stream",
          "name": "stderr",
          "text": [
            "Epoch [557/5000]: 100%|██████████| 2/2 [00:00<00:00, 121.83it/s, loss=11.2]\n"
          ]
        },
        {
          "output_type": "stream",
          "name": "stdout",
          "text": [
            "Epoch [557/5000]: Train loss: 11.0180, Valid loss: 11.5477\n"
          ]
        },
        {
          "output_type": "stream",
          "name": "stderr",
          "text": [
            "Epoch [558/5000]: 100%|██████████| 2/2 [00:00<00:00, 98.82it/s, loss=8.19]\n"
          ]
        },
        {
          "output_type": "stream",
          "name": "stdout",
          "text": [
            "Epoch [558/5000]: Train loss: 10.3285, Valid loss: 11.4659\n"
          ]
        },
        {
          "output_type": "stream",
          "name": "stderr",
          "text": [
            "Epoch [559/5000]: 100%|██████████| 2/2 [00:00<00:00, 111.14it/s, loss=14.2]\n"
          ]
        },
        {
          "output_type": "stream",
          "name": "stdout",
          "text": [
            "Epoch [559/5000]: Train loss: 12.7822, Valid loss: 11.5786\n"
          ]
        },
        {
          "output_type": "stream",
          "name": "stderr",
          "text": [
            "Epoch [560/5000]: 100%|██████████| 2/2 [00:00<00:00, 110.19it/s, loss=15.1]\n"
          ]
        },
        {
          "output_type": "stream",
          "name": "stdout",
          "text": [
            "Epoch [560/5000]: Train loss: 13.1125, Valid loss: 11.5899\n"
          ]
        },
        {
          "output_type": "stream",
          "name": "stderr",
          "text": [
            "Epoch [561/5000]: 100%|██████████| 2/2 [00:00<00:00, 101.20it/s, loss=14.5]\n"
          ]
        },
        {
          "output_type": "stream",
          "name": "stdout",
          "text": [
            "Epoch [561/5000]: Train loss: 13.1008, Valid loss: 11.4964\n"
          ]
        },
        {
          "output_type": "stream",
          "name": "stderr",
          "text": [
            "Epoch [562/5000]: 100%|██████████| 2/2 [00:00<00:00, 125.08it/s, loss=11.4]\n"
          ]
        },
        {
          "output_type": "stream",
          "name": "stdout",
          "text": [
            "Epoch [562/5000]: Train loss: 10.7124, Valid loss: 11.4757\n"
          ]
        },
        {
          "output_type": "stream",
          "name": "stderr",
          "text": [
            "Epoch [563/5000]: 100%|██████████| 2/2 [00:00<00:00, 80.38it/s, loss=16.2]\n"
          ]
        },
        {
          "output_type": "stream",
          "name": "stdout",
          "text": [
            "Epoch [563/5000]: Train loss: 13.6725, Valid loss: 11.4581\n"
          ]
        },
        {
          "output_type": "stream",
          "name": "stderr",
          "text": [
            "Epoch [564/5000]: 100%|██████████| 2/2 [00:00<00:00, 96.14it/s, loss=13.7]\n"
          ]
        },
        {
          "output_type": "stream",
          "name": "stdout",
          "text": [
            "Epoch [564/5000]: Train loss: 12.5349, Valid loss: 11.4203\n"
          ]
        },
        {
          "output_type": "stream",
          "name": "stderr",
          "text": [
            "Epoch [565/5000]: 100%|██████████| 2/2 [00:00<00:00, 85.73it/s, loss=12.7]\n"
          ]
        },
        {
          "output_type": "stream",
          "name": "stdout",
          "text": [
            "Epoch [565/5000]: Train loss: 11.4411, Valid loss: 11.2583\n"
          ]
        },
        {
          "output_type": "stream",
          "name": "stderr",
          "text": [
            "Epoch [566/5000]: 100%|██████████| 2/2 [00:00<00:00, 114.84it/s, loss=11.9]\n"
          ]
        },
        {
          "output_type": "stream",
          "name": "stdout",
          "text": [
            "Epoch [566/5000]: Train loss: 11.0604, Valid loss: 11.0929\n"
          ]
        },
        {
          "output_type": "stream",
          "name": "stderr",
          "text": [
            "Epoch [567/5000]: 100%|██████████| 2/2 [00:00<00:00, 23.86it/s, loss=8.87]\n"
          ]
        },
        {
          "output_type": "stream",
          "name": "stdout",
          "text": [
            "Epoch [567/5000]: Train loss: 10.3747, Valid loss: 11.0031\n"
          ]
        },
        {
          "output_type": "stream",
          "name": "stderr",
          "text": [
            "Epoch [568/5000]: 100%|██████████| 2/2 [00:00<00:00, 90.74it/s, loss=13.8]\n"
          ]
        },
        {
          "output_type": "stream",
          "name": "stdout",
          "text": [
            "Epoch [568/5000]: Train loss: 12.4461, Valid loss: 10.8321\n"
          ]
        },
        {
          "output_type": "stream",
          "name": "stderr",
          "text": [
            "Epoch [569/5000]: 100%|██████████| 2/2 [00:00<00:00, 116.67it/s, loss=11.2]\n"
          ]
        },
        {
          "output_type": "stream",
          "name": "stdout",
          "text": [
            "Epoch [569/5000]: Train loss: 11.1382, Valid loss: 10.8748\n"
          ]
        },
        {
          "output_type": "stream",
          "name": "stderr",
          "text": [
            "Epoch [570/5000]: 100%|██████████| 2/2 [00:00<00:00, 88.89it/s, loss=10.8]\n"
          ]
        },
        {
          "output_type": "stream",
          "name": "stdout",
          "text": [
            "Epoch [570/5000]: Train loss: 10.8007, Valid loss: 10.8637\n"
          ]
        },
        {
          "output_type": "stream",
          "name": "stderr",
          "text": [
            "Epoch [571/5000]: 100%|██████████| 2/2 [00:00<00:00, 80.91it/s, loss=12]\n"
          ]
        },
        {
          "output_type": "stream",
          "name": "stdout",
          "text": [
            "Epoch [571/5000]: Train loss: 11.7604, Valid loss: 10.9282\n"
          ]
        },
        {
          "output_type": "stream",
          "name": "stderr",
          "text": [
            "Epoch [572/5000]: 100%|██████████| 2/2 [00:00<00:00, 52.00it/s, loss=11.2]\n"
          ]
        },
        {
          "output_type": "stream",
          "name": "stdout",
          "text": [
            "Epoch [572/5000]: Train loss: 11.3001, Valid loss: 10.9657\n"
          ]
        },
        {
          "output_type": "stream",
          "name": "stderr",
          "text": [
            "Epoch [573/5000]: 100%|██████████| 2/2 [00:00<00:00,  6.54it/s, loss=10.1]\n"
          ]
        },
        {
          "output_type": "stream",
          "name": "stdout",
          "text": [
            "Epoch [573/5000]: Train loss: 9.8407, Valid loss: 10.9078\n"
          ]
        },
        {
          "output_type": "stream",
          "name": "stderr",
          "text": [
            "Epoch [574/5000]: 100%|██████████| 2/2 [00:00<00:00, 93.19it/s, loss=11]\n"
          ]
        },
        {
          "output_type": "stream",
          "name": "stdout",
          "text": [
            "Epoch [574/5000]: Train loss: 10.5517, Valid loss: 10.8966\n"
          ]
        },
        {
          "output_type": "stream",
          "name": "stderr",
          "text": [
            "Epoch [575/5000]: 100%|██████████| 2/2 [00:00<00:00, 93.08it/s, loss=12.9]\n"
          ]
        },
        {
          "output_type": "stream",
          "name": "stdout",
          "text": [
            "Epoch [575/5000]: Train loss: 12.4518, Valid loss: 10.9164\n"
          ]
        },
        {
          "output_type": "stream",
          "name": "stderr",
          "text": [
            "Epoch [576/5000]: 100%|██████████| 2/2 [00:00<00:00, 99.38it/s, loss=11.8]\n"
          ]
        },
        {
          "output_type": "stream",
          "name": "stdout",
          "text": [
            "Epoch [576/5000]: Train loss: 12.0670, Valid loss: 10.8455\n"
          ]
        },
        {
          "output_type": "stream",
          "name": "stderr",
          "text": [
            "Epoch [577/5000]: 100%|██████████| 2/2 [00:00<00:00, 85.91it/s, loss=9.87]\n"
          ]
        },
        {
          "output_type": "stream",
          "name": "stdout",
          "text": [
            "Epoch [577/5000]: Train loss: 10.3528, Valid loss: 10.8477\n"
          ]
        },
        {
          "output_type": "stream",
          "name": "stderr",
          "text": [
            "Epoch [578/5000]: 100%|██████████| 2/2 [00:00<00:00, 100.80it/s, loss=13.8]\n"
          ]
        },
        {
          "output_type": "stream",
          "name": "stdout",
          "text": [
            "Epoch [578/5000]: Train loss: 11.6289, Valid loss: 10.8656\n"
          ]
        },
        {
          "output_type": "stream",
          "name": "stderr",
          "text": [
            "Epoch [579/5000]: 100%|██████████| 2/2 [00:00<00:00, 81.82it/s, loss=12.5]\n"
          ]
        },
        {
          "output_type": "stream",
          "name": "stdout",
          "text": [
            "Epoch [579/5000]: Train loss: 12.1103, Valid loss: 10.9145\n"
          ]
        },
        {
          "output_type": "stream",
          "name": "stderr",
          "text": [
            "Epoch [580/5000]: 100%|██████████| 2/2 [00:00<00:00, 89.96it/s, loss=12.6]\n"
          ]
        },
        {
          "output_type": "stream",
          "name": "stdout",
          "text": [
            "Epoch [580/5000]: Train loss: 11.5394, Valid loss: 10.9978\n"
          ]
        },
        {
          "output_type": "stream",
          "name": "stderr",
          "text": [
            "Epoch [581/5000]: 100%|██████████| 2/2 [00:00<00:00, 94.26it/s, loss=8.03]\n"
          ]
        },
        {
          "output_type": "stream",
          "name": "stdout",
          "text": [
            "Epoch [581/5000]: Train loss: 9.9144, Valid loss: 11.0629\n"
          ]
        },
        {
          "output_type": "stream",
          "name": "stderr",
          "text": [
            "Epoch [582/5000]: 100%|██████████| 2/2 [00:00<00:00, 95.19it/s, loss=9.69]\n"
          ]
        },
        {
          "output_type": "stream",
          "name": "stdout",
          "text": [
            "Epoch [582/5000]: Train loss: 11.0521, Valid loss: 11.1315\n"
          ]
        },
        {
          "output_type": "stream",
          "name": "stderr",
          "text": [
            "Epoch [583/5000]: 100%|██████████| 2/2 [00:00<00:00, 99.22it/s, loss=8.68]\n"
          ]
        },
        {
          "output_type": "stream",
          "name": "stdout",
          "text": [
            "Epoch [583/5000]: Train loss: 10.2064, Valid loss: 11.2393\n"
          ]
        },
        {
          "output_type": "stream",
          "name": "stderr",
          "text": [
            "Epoch [584/5000]: 100%|██████████| 2/2 [00:00<00:00, 91.99it/s, loss=12.7]\n"
          ]
        },
        {
          "output_type": "stream",
          "name": "stdout",
          "text": [
            "Epoch [584/5000]: Train loss: 11.7792, Valid loss: 11.1838\n"
          ]
        },
        {
          "output_type": "stream",
          "name": "stderr",
          "text": [
            "Epoch [585/5000]: 100%|██████████| 2/2 [00:00<00:00, 96.90it/s, loss=10.1]\n"
          ]
        },
        {
          "output_type": "stream",
          "name": "stdout",
          "text": [
            "Epoch [585/5000]: Train loss: 10.7566, Valid loss: 11.1001\n"
          ]
        },
        {
          "output_type": "stream",
          "name": "stderr",
          "text": [
            "Epoch [586/5000]: 100%|██████████| 2/2 [00:00<00:00, 98.92it/s, loss=9.3]\n"
          ]
        },
        {
          "output_type": "stream",
          "name": "stdout",
          "text": [
            "Epoch [586/5000]: Train loss: 10.5739, Valid loss: 11.0618\n"
          ]
        },
        {
          "output_type": "stream",
          "name": "stderr",
          "text": [
            "Epoch [587/5000]: 100%|██████████| 2/2 [00:00<00:00, 89.56it/s, loss=7.79]\n"
          ]
        },
        {
          "output_type": "stream",
          "name": "stdout",
          "text": [
            "Epoch [587/5000]: Train loss: 8.7391, Valid loss: 11.0373\n"
          ]
        },
        {
          "output_type": "stream",
          "name": "stderr",
          "text": [
            "Epoch [588/5000]: 100%|██████████| 2/2 [00:00<00:00, 75.72it/s, loss=12.8]\n"
          ]
        },
        {
          "output_type": "stream",
          "name": "stdout",
          "text": [
            "Epoch [588/5000]: Train loss: 12.0205, Valid loss: 10.8562\n"
          ]
        },
        {
          "output_type": "stream",
          "name": "stderr",
          "text": [
            "Epoch [589/5000]: 100%|██████████| 2/2 [00:00<00:00, 88.71it/s, loss=11.4]\n"
          ]
        },
        {
          "output_type": "stream",
          "name": "stdout",
          "text": [
            "Epoch [589/5000]: Train loss: 11.2313, Valid loss: 10.7444\n",
            "Saving model with loss 10.744...\n"
          ]
        },
        {
          "output_type": "stream",
          "name": "stderr",
          "text": [
            "Epoch [590/5000]: 100%|██████████| 2/2 [00:00<00:00, 101.36it/s, loss=13.8]"
          ]
        },
        {
          "output_type": "stream",
          "name": "stdout",
          "text": [
            "Epoch [590/5000]: Train loss: 11.9775, Valid loss: 10.6693"
          ]
        },
        {
          "output_type": "stream",
          "name": "stderr",
          "text": [
            "\n"
          ]
        },
        {
          "output_type": "stream",
          "name": "stdout",
          "text": [
            "\n",
            "Saving model with loss 10.669...\n"
          ]
        },
        {
          "output_type": "stream",
          "name": "stderr",
          "text": [
            "Epoch [591/5000]: 100%|██████████| 2/2 [00:00<00:00, 94.59it/s, loss=11.1]\n"
          ]
        },
        {
          "output_type": "stream",
          "name": "stdout",
          "text": [
            "Epoch [591/5000]: Train loss: 11.8012, Valid loss: 10.6214\n",
            "Saving model with loss 10.621...\n"
          ]
        },
        {
          "output_type": "stream",
          "name": "stderr",
          "text": [
            "Epoch [592/5000]: 100%|██████████| 2/2 [00:00<00:00, 84.66it/s, loss=12.2]\n"
          ]
        },
        {
          "output_type": "stream",
          "name": "stdout",
          "text": [
            "Epoch [592/5000]: Train loss: 11.4519, Valid loss: 10.6205\n",
            "Saving model with loss 10.620...\n"
          ]
        },
        {
          "output_type": "stream",
          "name": "stderr",
          "text": [
            "Epoch [593/5000]: 100%|██████████| 2/2 [00:00<00:00, 97.08it/s, loss=10.5]\n"
          ]
        },
        {
          "output_type": "stream",
          "name": "stdout",
          "text": [
            "Epoch [593/5000]: Train loss: 10.2156, Valid loss: 10.6105\n",
            "Saving model with loss 10.611...\n"
          ]
        },
        {
          "output_type": "stream",
          "name": "stderr",
          "text": [
            "Epoch [594/5000]: 100%|██████████| 2/2 [00:00<00:00, 92.94it/s, loss=9.85]\n"
          ]
        },
        {
          "output_type": "stream",
          "name": "stdout",
          "text": [
            "Epoch [594/5000]: Train loss: 10.0335, Valid loss: 10.5665\n",
            "Saving model with loss 10.566...\n"
          ]
        },
        {
          "output_type": "stream",
          "name": "stderr",
          "text": [
            "Epoch [595/5000]: 100%|██████████| 2/2 [00:00<00:00, 97.02it/s, loss=11.1]\n"
          ]
        },
        {
          "output_type": "stream",
          "name": "stdout",
          "text": [
            "Epoch [595/5000]: Train loss: 11.0521, Valid loss: 10.6191\n"
          ]
        },
        {
          "output_type": "stream",
          "name": "stderr",
          "text": [
            "Epoch [596/5000]: 100%|██████████| 2/2 [00:00<00:00, 82.56it/s, loss=8.97]\n"
          ]
        },
        {
          "output_type": "stream",
          "name": "stdout",
          "text": [
            "Epoch [596/5000]: Train loss: 8.9841, Valid loss: 10.7075\n"
          ]
        },
        {
          "output_type": "stream",
          "name": "stderr",
          "text": [
            "Epoch [597/5000]: 100%|██████████| 2/2 [00:00<00:00, 85.44it/s, loss=14.5]\n"
          ]
        },
        {
          "output_type": "stream",
          "name": "stdout",
          "text": [
            "Epoch [597/5000]: Train loss: 12.8843, Valid loss: 10.6908\n"
          ]
        },
        {
          "output_type": "stream",
          "name": "stderr",
          "text": [
            "Epoch [598/5000]: 100%|██████████| 2/2 [00:00<00:00, 92.12it/s, loss=11.9]\n"
          ]
        },
        {
          "output_type": "stream",
          "name": "stdout",
          "text": [
            "Epoch [598/5000]: Train loss: 11.3199, Valid loss: 10.7594\n"
          ]
        },
        {
          "output_type": "stream",
          "name": "stderr",
          "text": [
            "Epoch [599/5000]: 100%|██████████| 2/2 [00:00<00:00, 104.70it/s, loss=11.7]\n"
          ]
        },
        {
          "output_type": "stream",
          "name": "stdout",
          "text": [
            "Epoch [599/5000]: Train loss: 11.5720, Valid loss: 10.8341\n"
          ]
        },
        {
          "output_type": "stream",
          "name": "stderr",
          "text": [
            "Epoch [600/5000]: 100%|██████████| 2/2 [00:00<00:00, 101.51it/s, loss=11.4]\n"
          ]
        },
        {
          "output_type": "stream",
          "name": "stdout",
          "text": [
            "Epoch [600/5000]: Train loss: 11.1071, Valid loss: 10.8141\n"
          ]
        },
        {
          "output_type": "stream",
          "name": "stderr",
          "text": [
            "Epoch [601/5000]: 100%|██████████| 2/2 [00:00<00:00, 89.93it/s, loss=9.27]\n"
          ]
        },
        {
          "output_type": "stream",
          "name": "stdout",
          "text": [
            "Epoch [601/5000]: Train loss: 9.6361, Valid loss: 10.8301\n"
          ]
        },
        {
          "output_type": "stream",
          "name": "stderr",
          "text": [
            "Epoch [602/5000]: 100%|██████████| 2/2 [00:00<00:00, 92.25it/s, loss=11.6]\n"
          ]
        },
        {
          "output_type": "stream",
          "name": "stdout",
          "text": [
            "Epoch [602/5000]: Train loss: 10.2003, Valid loss: 10.7735\n"
          ]
        },
        {
          "output_type": "stream",
          "name": "stderr",
          "text": [
            "Epoch [603/5000]: 100%|██████████| 2/2 [00:00<00:00, 68.38it/s, loss=9.39]\n"
          ]
        },
        {
          "output_type": "stream",
          "name": "stdout",
          "text": [
            "Epoch [603/5000]: Train loss: 10.3775, Valid loss: 10.7536\n"
          ]
        },
        {
          "output_type": "stream",
          "name": "stderr",
          "text": [
            "Epoch [604/5000]: 100%|██████████| 2/2 [00:00<00:00, 99.33it/s, loss=13.3]"
          ]
        },
        {
          "output_type": "stream",
          "name": "stdout",
          "text": [
            "Epoch [604/5000]: Train loss: 12.5821, Valid loss: 10.6978"
          ]
        },
        {
          "output_type": "stream",
          "name": "stderr",
          "text": [
            "\n"
          ]
        },
        {
          "output_type": "stream",
          "name": "stdout",
          "text": [
            "\n"
          ]
        },
        {
          "output_type": "stream",
          "name": "stderr",
          "text": [
            "Epoch [605/5000]: 100%|██████████| 2/2 [00:00<00:00, 71.34it/s, loss=12]\n"
          ]
        },
        {
          "output_type": "stream",
          "name": "stdout",
          "text": [
            "Epoch [605/5000]: Train loss: 11.5289, Valid loss: 10.6250\n"
          ]
        },
        {
          "output_type": "stream",
          "name": "stderr",
          "text": [
            "Epoch [606/5000]: 100%|██████████| 2/2 [00:00<00:00, 85.69it/s, loss=12.5]\n"
          ]
        },
        {
          "output_type": "stream",
          "name": "stdout",
          "text": [
            "Epoch [606/5000]: Train loss: 11.6469, Valid loss: 10.5537\n",
            "Saving model with loss 10.554...\n"
          ]
        },
        {
          "output_type": "stream",
          "name": "stderr",
          "text": [
            "Epoch [607/5000]: 100%|██████████| 2/2 [00:00<00:00, 93.52it/s, loss=9.79]\n"
          ]
        },
        {
          "output_type": "stream",
          "name": "stdout",
          "text": [
            "Epoch [607/5000]: Train loss: 10.5709, Valid loss: 10.6146\n"
          ]
        },
        {
          "output_type": "stream",
          "name": "stderr",
          "text": [
            "Epoch [608/5000]: 100%|██████████| 2/2 [00:00<00:00, 76.76it/s, loss=9.2]\n"
          ]
        },
        {
          "output_type": "stream",
          "name": "stdout",
          "text": [
            "Epoch [608/5000]: Train loss: 9.2417, Valid loss: 10.6799\n"
          ]
        },
        {
          "output_type": "stream",
          "name": "stderr",
          "text": [
            "Epoch [609/5000]: 100%|██████████| 2/2 [00:00<00:00, 85.76it/s, loss=10.6]\n"
          ]
        },
        {
          "output_type": "stream",
          "name": "stdout",
          "text": [
            "Epoch [609/5000]: Train loss: 11.1544, Valid loss: 10.6490\n"
          ]
        },
        {
          "output_type": "stream",
          "name": "stderr",
          "text": [
            "Epoch [610/5000]: 100%|██████████| 2/2 [00:00<00:00, 80.24it/s, loss=11.8]\n"
          ]
        },
        {
          "output_type": "stream",
          "name": "stdout",
          "text": [
            "Epoch [610/5000]: Train loss: 11.2437, Valid loss: 10.5902\n"
          ]
        },
        {
          "output_type": "stream",
          "name": "stderr",
          "text": [
            "Epoch [611/5000]: 100%|██████████| 2/2 [00:00<00:00, 95.53it/s, loss=11.6]\n"
          ]
        },
        {
          "output_type": "stream",
          "name": "stdout",
          "text": [
            "Epoch [611/5000]: Train loss: 11.0567, Valid loss: 10.5292\n",
            "Saving model with loss 10.529...\n"
          ]
        },
        {
          "output_type": "stream",
          "name": "stderr",
          "text": [
            "Epoch [612/5000]: 100%|██████████| 2/2 [00:00<00:00, 102.33it/s, loss=10.4]\n"
          ]
        },
        {
          "output_type": "stream",
          "name": "stdout",
          "text": [
            "Epoch [612/5000]: Train loss: 10.4168, Valid loss: 10.4214\n",
            "Saving model with loss 10.421...\n"
          ]
        },
        {
          "output_type": "stream",
          "name": "stderr",
          "text": [
            "Epoch [613/5000]: 100%|██████████| 2/2 [00:00<00:00, 98.74it/s, loss=11.8]\n"
          ]
        },
        {
          "output_type": "stream",
          "name": "stdout",
          "text": [
            "Epoch [613/5000]: Train loss: 10.6374, Valid loss: 10.3740\n",
            "Saving model with loss 10.374...\n"
          ]
        },
        {
          "output_type": "stream",
          "name": "stderr",
          "text": [
            "Epoch [614/5000]: 100%|██████████| 2/2 [00:00<00:00, 85.49it/s, loss=9.53]\n"
          ]
        },
        {
          "output_type": "stream",
          "name": "stdout",
          "text": [
            "Epoch [614/5000]: Train loss: 10.7181, Valid loss: 10.3342\n",
            "Saving model with loss 10.334...\n"
          ]
        },
        {
          "output_type": "stream",
          "name": "stderr",
          "text": [
            "Epoch [615/5000]: 100%|██████████| 2/2 [00:00<00:00, 98.52it/s, loss=9.35]\n"
          ]
        },
        {
          "output_type": "stream",
          "name": "stdout",
          "text": [
            "Epoch [615/5000]: Train loss: 9.7577, Valid loss: 10.3993\n"
          ]
        },
        {
          "output_type": "stream",
          "name": "stderr",
          "text": [
            "Epoch [616/5000]: 100%|██████████| 2/2 [00:00<00:00, 79.98it/s, loss=12.3]\n"
          ]
        },
        {
          "output_type": "stream",
          "name": "stdout",
          "text": [
            "Epoch [616/5000]: Train loss: 11.2555, Valid loss: 10.3245\n",
            "Saving model with loss 10.325...\n"
          ]
        },
        {
          "output_type": "stream",
          "name": "stderr",
          "text": [
            "Epoch [617/5000]: 100%|██████████| 2/2 [00:00<00:00, 74.95it/s, loss=10.4]\n"
          ]
        },
        {
          "output_type": "stream",
          "name": "stdout",
          "text": [
            "Epoch [617/5000]: Train loss: 11.2164, Valid loss: 10.3873\n"
          ]
        },
        {
          "output_type": "stream",
          "name": "stderr",
          "text": [
            "Epoch [618/5000]: 100%|██████████| 2/2 [00:00<00:00, 95.58it/s, loss=8.52]\n"
          ]
        },
        {
          "output_type": "stream",
          "name": "stdout",
          "text": [
            "Epoch [618/5000]: Train loss: 9.7672, Valid loss: 10.3996\n"
          ]
        },
        {
          "output_type": "stream",
          "name": "stderr",
          "text": [
            "Epoch [619/5000]: 100%|██████████| 2/2 [00:00<00:00, 92.23it/s, loss=18.3]\n"
          ]
        },
        {
          "output_type": "stream",
          "name": "stdout",
          "text": [
            "Epoch [619/5000]: Train loss: 14.8324, Valid loss: 10.5145\n"
          ]
        },
        {
          "output_type": "stream",
          "name": "stderr",
          "text": [
            "Epoch [620/5000]: 100%|██████████| 2/2 [00:00<00:00, 97.95it/s, loss=8.86]\n"
          ]
        },
        {
          "output_type": "stream",
          "name": "stdout",
          "text": [
            "Epoch [620/5000]: Train loss: 9.3706, Valid loss: 10.5399\n"
          ]
        },
        {
          "output_type": "stream",
          "name": "stderr",
          "text": [
            "Epoch [621/5000]: 100%|██████████| 2/2 [00:00<00:00, 84.49it/s, loss=8.45]\n"
          ]
        },
        {
          "output_type": "stream",
          "name": "stdout",
          "text": [
            "Epoch [621/5000]: Train loss: 9.8220, Valid loss: 10.5823\n"
          ]
        },
        {
          "output_type": "stream",
          "name": "stderr",
          "text": [
            "Epoch [622/5000]: 100%|██████████| 2/2 [00:00<00:00, 89.35it/s, loss=17.1]\n"
          ]
        },
        {
          "output_type": "stream",
          "name": "stdout",
          "text": [
            "Epoch [622/5000]: Train loss: 13.8345, Valid loss: 10.7031\n"
          ]
        },
        {
          "output_type": "stream",
          "name": "stderr",
          "text": [
            "Epoch [623/5000]: 100%|██████████| 2/2 [00:00<00:00, 90.11it/s, loss=12.4]\n"
          ]
        },
        {
          "output_type": "stream",
          "name": "stdout",
          "text": [
            "Epoch [623/5000]: Train loss: 11.1877, Valid loss: 10.7214\n"
          ]
        },
        {
          "output_type": "stream",
          "name": "stderr",
          "text": [
            "Epoch [624/5000]: 100%|██████████| 2/2 [00:00<00:00, 99.37it/s, loss=10]\n"
          ]
        },
        {
          "output_type": "stream",
          "name": "stdout",
          "text": [
            "Epoch [624/5000]: Train loss: 10.7627, Valid loss: 10.7415\n"
          ]
        },
        {
          "output_type": "stream",
          "name": "stderr",
          "text": [
            "Epoch [625/5000]: 100%|██████████| 2/2 [00:00<00:00, 92.73it/s, loss=10.4]\n"
          ]
        },
        {
          "output_type": "stream",
          "name": "stdout",
          "text": [
            "Epoch [625/5000]: Train loss: 10.9225, Valid loss: 10.7938\n"
          ]
        },
        {
          "output_type": "stream",
          "name": "stderr",
          "text": [
            "Epoch [626/5000]: 100%|██████████| 2/2 [00:00<00:00, 84.13it/s, loss=13.6]\n"
          ]
        },
        {
          "output_type": "stream",
          "name": "stdout",
          "text": [
            "Epoch [626/5000]: Train loss: 12.0480, Valid loss: 10.7613\n"
          ]
        },
        {
          "output_type": "stream",
          "name": "stderr",
          "text": [
            "Epoch [627/5000]: 100%|██████████| 2/2 [00:00<00:00, 80.42it/s, loss=8.36]\n"
          ]
        },
        {
          "output_type": "stream",
          "name": "stdout",
          "text": [
            "Epoch [627/5000]: Train loss: 9.4531, Valid loss: 10.7858\n"
          ]
        },
        {
          "output_type": "stream",
          "name": "stderr",
          "text": [
            "Epoch [628/5000]: 100%|██████████| 2/2 [00:00<00:00, 96.43it/s, loss=10.7]\n"
          ]
        },
        {
          "output_type": "stream",
          "name": "stdout",
          "text": [
            "Epoch [628/5000]: Train loss: 10.6932, Valid loss: 10.6452\n"
          ]
        },
        {
          "output_type": "stream",
          "name": "stderr",
          "text": [
            "Epoch [629/5000]: 100%|██████████| 2/2 [00:00<00:00, 91.69it/s, loss=10.7]\n"
          ]
        },
        {
          "output_type": "stream",
          "name": "stdout",
          "text": [
            "Epoch [629/5000]: Train loss: 10.8433, Valid loss: 10.5843\n"
          ]
        },
        {
          "output_type": "stream",
          "name": "stderr",
          "text": [
            "Epoch [630/5000]: 100%|██████████| 2/2 [00:00<00:00, 87.70it/s, loss=12.2]\n"
          ]
        },
        {
          "output_type": "stream",
          "name": "stdout",
          "text": [
            "Epoch [630/5000]: Train loss: 10.8025, Valid loss: 10.4525\n"
          ]
        },
        {
          "output_type": "stream",
          "name": "stderr",
          "text": [
            "Epoch [631/5000]: 100%|██████████| 2/2 [00:00<00:00, 83.37it/s, loss=14]\n"
          ]
        },
        {
          "output_type": "stream",
          "name": "stdout",
          "text": [
            "Epoch [631/5000]: Train loss: 12.6453, Valid loss: 10.4030\n"
          ]
        },
        {
          "output_type": "stream",
          "name": "stderr",
          "text": [
            "Epoch [632/5000]: 100%|██████████| 2/2 [00:00<00:00, 92.96it/s, loss=12.8]\n"
          ]
        },
        {
          "output_type": "stream",
          "name": "stdout",
          "text": [
            "Epoch [632/5000]: Train loss: 12.8828, Valid loss: 10.2917\n",
            "Saving model with loss 10.292...\n"
          ]
        },
        {
          "output_type": "stream",
          "name": "stderr",
          "text": [
            "Epoch [633/5000]: 100%|██████████| 2/2 [00:00<00:00, 70.35it/s, loss=11.7]\n"
          ]
        },
        {
          "output_type": "stream",
          "name": "stdout",
          "text": [
            "Epoch [633/5000]: Train loss: 11.1807, Valid loss: 10.2925\n"
          ]
        },
        {
          "output_type": "stream",
          "name": "stderr",
          "text": [
            "Epoch [634/5000]: 100%|██████████| 2/2 [00:00<00:00, 87.68it/s, loss=11.3]\n"
          ]
        },
        {
          "output_type": "stream",
          "name": "stdout",
          "text": [
            "Epoch [634/5000]: Train loss: 10.5724, Valid loss: 10.3418\n"
          ]
        },
        {
          "output_type": "stream",
          "name": "stderr",
          "text": [
            "Epoch [635/5000]: 100%|██████████| 2/2 [00:00<00:00, 105.84it/s, loss=10]\n"
          ]
        },
        {
          "output_type": "stream",
          "name": "stdout",
          "text": [
            "Epoch [635/5000]: Train loss: 10.4160, Valid loss: 10.3084\n"
          ]
        },
        {
          "output_type": "stream",
          "name": "stderr",
          "text": [
            "Epoch [636/5000]: 100%|██████████| 2/2 [00:00<00:00, 106.82it/s, loss=8.88]\n"
          ]
        },
        {
          "output_type": "stream",
          "name": "stdout",
          "text": [
            "Epoch [636/5000]: Train loss: 9.6183, Valid loss: 10.3359\n"
          ]
        },
        {
          "output_type": "stream",
          "name": "stderr",
          "text": [
            "Epoch [637/5000]: 100%|██████████| 2/2 [00:00<00:00, 93.02it/s, loss=13.7]\n"
          ]
        },
        {
          "output_type": "stream",
          "name": "stdout",
          "text": [
            "Epoch [637/5000]: Train loss: 11.6782, Valid loss: 10.3497\n"
          ]
        },
        {
          "output_type": "stream",
          "name": "stderr",
          "text": [
            "Epoch [638/5000]: 100%|██████████| 2/2 [00:00<00:00, 85.96it/s, loss=12.7]\n"
          ]
        },
        {
          "output_type": "stream",
          "name": "stdout",
          "text": [
            "Epoch [638/5000]: Train loss: 12.2386, Valid loss: 10.4056\n"
          ]
        },
        {
          "output_type": "stream",
          "name": "stderr",
          "text": [
            "Epoch [639/5000]: 100%|██████████| 2/2 [00:00<00:00, 125.97it/s, loss=11.7]\n"
          ]
        },
        {
          "output_type": "stream",
          "name": "stdout",
          "text": [
            "Epoch [639/5000]: Train loss: 11.3122, Valid loss: 10.4429\n"
          ]
        },
        {
          "output_type": "stream",
          "name": "stderr",
          "text": [
            "Epoch [640/5000]: 100%|██████████| 2/2 [00:00<00:00, 104.95it/s, loss=13.8]\n"
          ]
        },
        {
          "output_type": "stream",
          "name": "stdout",
          "text": [
            "Epoch [640/5000]: Train loss: 11.8621, Valid loss: 10.5582\n"
          ]
        },
        {
          "output_type": "stream",
          "name": "stderr",
          "text": [
            "Epoch [641/5000]: 100%|██████████| 2/2 [00:00<00:00, 101.57it/s, loss=12.4]\n"
          ]
        },
        {
          "output_type": "stream",
          "name": "stdout",
          "text": [
            "Epoch [641/5000]: Train loss: 11.3751, Valid loss: 10.5008\n"
          ]
        },
        {
          "output_type": "stream",
          "name": "stderr",
          "text": [
            "Epoch [642/5000]: 100%|██████████| 2/2 [00:00<00:00, 99.76it/s, loss=11.6]\n"
          ]
        },
        {
          "output_type": "stream",
          "name": "stdout",
          "text": [
            "Epoch [642/5000]: Train loss: 10.8898, Valid loss: 10.5782\n"
          ]
        },
        {
          "output_type": "stream",
          "name": "stderr",
          "text": [
            "Epoch [643/5000]: 100%|██████████| 2/2 [00:00<00:00, 109.31it/s, loss=12.6]\n"
          ]
        },
        {
          "output_type": "stream",
          "name": "stdout",
          "text": [
            "Epoch [643/5000]: Train loss: 11.5056, Valid loss: 10.6333\n"
          ]
        },
        {
          "output_type": "stream",
          "name": "stderr",
          "text": [
            "Epoch [644/5000]: 100%|██████████| 2/2 [00:00<00:00, 87.93it/s, loss=12.1]\n"
          ]
        },
        {
          "output_type": "stream",
          "name": "stdout",
          "text": [
            "Epoch [644/5000]: Train loss: 12.0285, Valid loss: 10.7589\n"
          ]
        },
        {
          "output_type": "stream",
          "name": "stderr",
          "text": [
            "Epoch [645/5000]: 100%|██████████| 2/2 [00:00<00:00, 109.50it/s, loss=9.44]\n"
          ]
        },
        {
          "output_type": "stream",
          "name": "stdout",
          "text": [
            "Epoch [645/5000]: Train loss: 10.0640, Valid loss: 10.7731\n"
          ]
        },
        {
          "output_type": "stream",
          "name": "stderr",
          "text": [
            "Epoch [646/5000]: 100%|██████████| 2/2 [00:00<00:00, 108.00it/s, loss=9.29]\n"
          ]
        },
        {
          "output_type": "stream",
          "name": "stdout",
          "text": [
            "Epoch [646/5000]: Train loss: 9.7552, Valid loss: 10.6872\n"
          ]
        },
        {
          "output_type": "stream",
          "name": "stderr",
          "text": [
            "Epoch [647/5000]: 100%|██████████| 2/2 [00:00<00:00, 103.87it/s, loss=9.63]\n"
          ]
        },
        {
          "output_type": "stream",
          "name": "stdout",
          "text": [
            "Epoch [647/5000]: Train loss: 9.9815, Valid loss: 10.6023\n"
          ]
        },
        {
          "output_type": "stream",
          "name": "stderr",
          "text": [
            "Epoch [648/5000]: 100%|██████████| 2/2 [00:00<00:00, 128.13it/s, loss=10.4]\n"
          ]
        },
        {
          "output_type": "stream",
          "name": "stdout",
          "text": [
            "Epoch [648/5000]: Train loss: 10.5273, Valid loss: 10.5650\n"
          ]
        },
        {
          "output_type": "stream",
          "name": "stderr",
          "text": [
            "Epoch [649/5000]: 100%|██████████| 2/2 [00:00<00:00, 92.03it/s, loss=10.2]\n"
          ]
        },
        {
          "output_type": "stream",
          "name": "stdout",
          "text": [
            "Epoch [649/5000]: Train loss: 10.0617, Valid loss: 10.5094\n"
          ]
        },
        {
          "output_type": "stream",
          "name": "stderr",
          "text": [
            "Epoch [650/5000]: 100%|██████████| 2/2 [00:00<00:00, 99.77it/s, loss=9.26]\n"
          ]
        },
        {
          "output_type": "stream",
          "name": "stdout",
          "text": [
            "Epoch [650/5000]: Train loss: 10.5680, Valid loss: 10.4751\n"
          ]
        },
        {
          "output_type": "stream",
          "name": "stderr",
          "text": [
            "Epoch [651/5000]: 100%|██████████| 2/2 [00:00<00:00, 103.55it/s, loss=11.1]\n"
          ]
        },
        {
          "output_type": "stream",
          "name": "stdout",
          "text": [
            "Epoch [651/5000]: Train loss: 10.6627, Valid loss: 10.3823\n"
          ]
        },
        {
          "output_type": "stream",
          "name": "stderr",
          "text": [
            "Epoch [652/5000]: 100%|██████████| 2/2 [00:00<00:00, 98.98it/s, loss=12.7]\n"
          ]
        },
        {
          "output_type": "stream",
          "name": "stdout",
          "text": [
            "Epoch [652/5000]: Train loss: 10.9085, Valid loss: 10.2355\n",
            "Saving model with loss 10.236...\n"
          ]
        },
        {
          "output_type": "stream",
          "name": "stderr",
          "text": [
            "Epoch [653/5000]: 100%|██████████| 2/2 [00:00<00:00, 103.38it/s, loss=12.4]\n"
          ]
        },
        {
          "output_type": "stream",
          "name": "stdout",
          "text": [
            "Epoch [653/5000]: Train loss: 11.0170, Valid loss: 10.2337\n",
            "Saving model with loss 10.234...\n"
          ]
        },
        {
          "output_type": "stream",
          "name": "stderr",
          "text": [
            "Epoch [654/5000]: 100%|██████████| 2/2 [00:00<00:00, 128.08it/s, loss=10.5]\n"
          ]
        },
        {
          "output_type": "stream",
          "name": "stdout",
          "text": [
            "Epoch [654/5000]: Train loss: 10.8163, Valid loss: 10.2338\n"
          ]
        },
        {
          "output_type": "stream",
          "name": "stderr",
          "text": [
            "Epoch [655/5000]: 100%|██████████| 2/2 [00:00<00:00, 93.92it/s, loss=9.77]\n"
          ]
        },
        {
          "output_type": "stream",
          "name": "stdout",
          "text": [
            "Epoch [655/5000]: Train loss: 11.0206, Valid loss: 10.1148\n",
            "Saving model with loss 10.115...\n"
          ]
        },
        {
          "output_type": "stream",
          "name": "stderr",
          "text": [
            "Epoch [656/5000]: 100%|██████████| 2/2 [00:00<00:00, 94.11it/s, loss=10.8]\n"
          ]
        },
        {
          "output_type": "stream",
          "name": "stdout",
          "text": [
            "Epoch [656/5000]: Train loss: 10.9544, Valid loss: 10.1123\n",
            "Saving model with loss 10.112...\n"
          ]
        },
        {
          "output_type": "stream",
          "name": "stderr",
          "text": [
            "Epoch [657/5000]: 100%|██████████| 2/2 [00:00<00:00, 90.09it/s, loss=10.6]\n"
          ]
        },
        {
          "output_type": "stream",
          "name": "stdout",
          "text": [
            "Epoch [657/5000]: Train loss: 10.8950, Valid loss: 10.1526\n"
          ]
        },
        {
          "output_type": "stream",
          "name": "stderr",
          "text": [
            "Epoch [658/5000]: 100%|██████████| 2/2 [00:00<00:00, 128.35it/s, loss=10.3]\n"
          ]
        },
        {
          "output_type": "stream",
          "name": "stdout",
          "text": [
            "Epoch [658/5000]: Train loss: 10.8845, Valid loss: 10.2184\n"
          ]
        },
        {
          "output_type": "stream",
          "name": "stderr",
          "text": [
            "Epoch [659/5000]: 100%|██████████| 2/2 [00:00<00:00, 96.06it/s, loss=10.2]\n"
          ]
        },
        {
          "output_type": "stream",
          "name": "stdout",
          "text": [
            "Epoch [659/5000]: Train loss: 11.1882, Valid loss: 10.2046\n"
          ]
        },
        {
          "output_type": "stream",
          "name": "stderr",
          "text": [
            "Epoch [660/5000]: 100%|██████████| 2/2 [00:00<00:00, 93.22it/s, loss=11.3]\n"
          ]
        },
        {
          "output_type": "stream",
          "name": "stdout",
          "text": [
            "Epoch [660/5000]: Train loss: 11.3601, Valid loss: 10.1984\n"
          ]
        },
        {
          "output_type": "stream",
          "name": "stderr",
          "text": [
            "Epoch [661/5000]: 100%|██████████| 2/2 [00:00<00:00, 127.50it/s, loss=14.2]\n"
          ]
        },
        {
          "output_type": "stream",
          "name": "stdout",
          "text": [
            "Epoch [661/5000]: Train loss: 12.4722, Valid loss: 10.2941\n"
          ]
        },
        {
          "output_type": "stream",
          "name": "stderr",
          "text": [
            "Epoch [662/5000]: 100%|██████████| 2/2 [00:00<00:00, 97.86it/s, loss=9.48]\n"
          ]
        },
        {
          "output_type": "stream",
          "name": "stdout",
          "text": [
            "Epoch [662/5000]: Train loss: 9.9731, Valid loss: 10.3071\n"
          ]
        },
        {
          "output_type": "stream",
          "name": "stderr",
          "text": [
            "Epoch [663/5000]: 100%|██████████| 2/2 [00:00<00:00, 23.56it/s, loss=12.4]\n"
          ]
        },
        {
          "output_type": "stream",
          "name": "stdout",
          "text": [
            "Epoch [663/5000]: Train loss: 11.7049, Valid loss: 10.3037\n"
          ]
        },
        {
          "output_type": "stream",
          "name": "stderr",
          "text": [
            "Epoch [664/5000]: 100%|██████████| 2/2 [00:00<00:00, 101.81it/s, loss=10.6]\n"
          ]
        },
        {
          "output_type": "stream",
          "name": "stdout",
          "text": [
            "Epoch [664/5000]: Train loss: 10.3864, Valid loss: 10.3190\n"
          ]
        },
        {
          "output_type": "stream",
          "name": "stderr",
          "text": [
            "Epoch [665/5000]: 100%|██████████| 2/2 [00:00<00:00, 100.77it/s, loss=14]\n"
          ]
        },
        {
          "output_type": "stream",
          "name": "stdout",
          "text": [
            "Epoch [665/5000]: Train loss: 12.5157, Valid loss: 10.3300\n"
          ]
        },
        {
          "output_type": "stream",
          "name": "stderr",
          "text": [
            "Epoch [666/5000]: 100%|██████████| 2/2 [00:00<00:00, 89.37it/s, loss=13.1]\n"
          ]
        },
        {
          "output_type": "stream",
          "name": "stdout",
          "text": [
            "Epoch [666/5000]: Train loss: 11.2478, Valid loss: 10.2262\n"
          ]
        },
        {
          "output_type": "stream",
          "name": "stderr",
          "text": [
            "Epoch [667/5000]: 100%|██████████| 2/2 [00:00<00:00, 127.57it/s, loss=9.85]\n"
          ]
        },
        {
          "output_type": "stream",
          "name": "stdout",
          "text": [
            "Epoch [667/5000]: Train loss: 10.2925, Valid loss: 10.2606\n"
          ]
        },
        {
          "output_type": "stream",
          "name": "stderr",
          "text": [
            "Epoch [668/5000]: 100%|██████████| 2/2 [00:00<00:00, 79.80it/s, loss=10.8]\n"
          ]
        },
        {
          "output_type": "stream",
          "name": "stdout",
          "text": [
            "Epoch [668/5000]: Train loss: 10.8915, Valid loss: 10.3338\n"
          ]
        },
        {
          "output_type": "stream",
          "name": "stderr",
          "text": [
            "Epoch [669/5000]: 100%|██████████| 2/2 [00:00<00:00, 92.58it/s, loss=11.9]\n"
          ]
        },
        {
          "output_type": "stream",
          "name": "stdout",
          "text": [
            "Epoch [669/5000]: Train loss: 11.3829, Valid loss: 10.3154\n"
          ]
        },
        {
          "output_type": "stream",
          "name": "stderr",
          "text": [
            "Epoch [670/5000]: 100%|██████████| 2/2 [00:00<00:00, 90.37it/s, loss=11.4]\n"
          ]
        },
        {
          "output_type": "stream",
          "name": "stdout",
          "text": [
            "Epoch [670/5000]: Train loss: 10.5249, Valid loss: 10.2757\n"
          ]
        },
        {
          "output_type": "stream",
          "name": "stderr",
          "text": [
            "Epoch [671/5000]: 100%|██████████| 2/2 [00:00<00:00, 133.20it/s, loss=10.1]\n"
          ]
        },
        {
          "output_type": "stream",
          "name": "stdout",
          "text": [
            "Epoch [671/5000]: Train loss: 10.3297, Valid loss: 10.1569\n"
          ]
        },
        {
          "output_type": "stream",
          "name": "stderr",
          "text": [
            "Epoch [672/5000]: 100%|██████████| 2/2 [00:00<00:00, 91.14it/s, loss=11]\n"
          ]
        },
        {
          "output_type": "stream",
          "name": "stdout",
          "text": [
            "Epoch [672/5000]: Train loss: 10.8305, Valid loss: 10.0663\n",
            "Saving model with loss 10.066...\n"
          ]
        },
        {
          "output_type": "stream",
          "name": "stderr",
          "text": [
            "Epoch [673/5000]: 100%|██████████| 2/2 [00:00<00:00, 93.48it/s, loss=10.3]\n"
          ]
        },
        {
          "output_type": "stream",
          "name": "stdout",
          "text": [
            "Epoch [673/5000]: Train loss: 9.7733, Valid loss: 10.0524\n",
            "Saving model with loss 10.052...\n"
          ]
        },
        {
          "output_type": "stream",
          "name": "stderr",
          "text": [
            "Epoch [674/5000]: 100%|██████████| 2/2 [00:00<00:00, 91.89it/s, loss=6.34]\n"
          ]
        },
        {
          "output_type": "stream",
          "name": "stdout",
          "text": [
            "Epoch [674/5000]: Train loss: 8.7461, Valid loss: 10.0297\n",
            "Saving model with loss 10.030...\n"
          ]
        },
        {
          "output_type": "stream",
          "name": "stderr",
          "text": [
            "Epoch [675/5000]: 100%|██████████| 2/2 [00:00<00:00, 94.08it/s, loss=9.18]\n"
          ]
        },
        {
          "output_type": "stream",
          "name": "stdout",
          "text": [
            "Epoch [675/5000]: Train loss: 10.6086, Valid loss: 10.1041\n"
          ]
        },
        {
          "output_type": "stream",
          "name": "stderr",
          "text": [
            "Epoch [676/5000]: 100%|██████████| 2/2 [00:00<00:00, 131.38it/s, loss=8.49]\n"
          ]
        },
        {
          "output_type": "stream",
          "name": "stdout",
          "text": [
            "Epoch [676/5000]: Train loss: 9.3491, Valid loss: 10.2196\n"
          ]
        },
        {
          "output_type": "stream",
          "name": "stderr",
          "text": [
            "Epoch [677/5000]: 100%|██████████| 2/2 [00:00<00:00, 97.72it/s, loss=12.3]\n"
          ]
        },
        {
          "output_type": "stream",
          "name": "stdout",
          "text": [
            "Epoch [677/5000]: Train loss: 11.1376, Valid loss: 10.3252\n"
          ]
        },
        {
          "output_type": "stream",
          "name": "stderr",
          "text": [
            "Epoch [678/5000]: 100%|██████████| 2/2 [00:00<00:00, 90.78it/s, loss=8.52]\n"
          ]
        },
        {
          "output_type": "stream",
          "name": "stdout",
          "text": [
            "Epoch [678/5000]: Train loss: 9.1949, Valid loss: 10.3485\n"
          ]
        },
        {
          "output_type": "stream",
          "name": "stderr",
          "text": [
            "Epoch [679/5000]: 100%|██████████| 2/2 [00:00<00:00, 126.96it/s, loss=14.2]\n"
          ]
        },
        {
          "output_type": "stream",
          "name": "stdout",
          "text": [
            "Epoch [679/5000]: Train loss: 11.4755, Valid loss: 10.4001\n"
          ]
        },
        {
          "output_type": "stream",
          "name": "stderr",
          "text": [
            "Epoch [680/5000]: 100%|██████████| 2/2 [00:00<00:00, 94.34it/s, loss=12.2]\n"
          ]
        },
        {
          "output_type": "stream",
          "name": "stdout",
          "text": [
            "Epoch [680/5000]: Train loss: 10.7182, Valid loss: 10.3874\n"
          ]
        },
        {
          "output_type": "stream",
          "name": "stderr",
          "text": [
            "Epoch [681/5000]: 100%|██████████| 2/2 [00:00<00:00, 93.57it/s, loss=15.7]\n"
          ]
        },
        {
          "output_type": "stream",
          "name": "stdout",
          "text": [
            "Epoch [681/5000]: Train loss: 13.1497, Valid loss: 10.2346\n"
          ]
        },
        {
          "output_type": "stream",
          "name": "stderr",
          "text": [
            "Epoch [682/5000]: 100%|██████████| 2/2 [00:00<00:00, 127.67it/s, loss=10.5]\n"
          ]
        },
        {
          "output_type": "stream",
          "name": "stdout",
          "text": [
            "Epoch [682/5000]: Train loss: 10.2375, Valid loss: 10.1498\n"
          ]
        },
        {
          "output_type": "stream",
          "name": "stderr",
          "text": [
            "Epoch [683/5000]: 100%|██████████| 2/2 [00:00<00:00, 105.02it/s, loss=10.6]\n"
          ]
        },
        {
          "output_type": "stream",
          "name": "stdout",
          "text": [
            "Epoch [683/5000]: Train loss: 10.8129, Valid loss: 10.2008\n"
          ]
        },
        {
          "output_type": "stream",
          "name": "stderr",
          "text": [
            "Epoch [684/5000]: 100%|██████████| 2/2 [00:00<00:00, 89.95it/s, loss=10.8]\n"
          ]
        },
        {
          "output_type": "stream",
          "name": "stdout",
          "text": [
            "Epoch [684/5000]: Train loss: 11.1872, Valid loss: 10.0612\n"
          ]
        },
        {
          "output_type": "stream",
          "name": "stderr",
          "text": [
            "Epoch [685/5000]: 100%|██████████| 2/2 [00:00<00:00, 125.47it/s, loss=13.1]\n"
          ]
        },
        {
          "output_type": "stream",
          "name": "stdout",
          "text": [
            "Epoch [685/5000]: Train loss: 11.6728, Valid loss: 10.0388\n"
          ]
        },
        {
          "output_type": "stream",
          "name": "stderr",
          "text": [
            "Epoch [686/5000]: 100%|██████████| 2/2 [00:00<00:00, 77.18it/s, loss=13.6]\n"
          ]
        },
        {
          "output_type": "stream",
          "name": "stdout",
          "text": [
            "Epoch [686/5000]: Train loss: 12.1743, Valid loss: 9.9951\n",
            "Saving model with loss 9.995...\n"
          ]
        },
        {
          "output_type": "stream",
          "name": "stderr",
          "text": [
            "Epoch [687/5000]: 100%|██████████| 2/2 [00:00<00:00, 95.39it/s, loss=9.15]\n"
          ]
        },
        {
          "output_type": "stream",
          "name": "stdout",
          "text": [
            "Epoch [687/5000]: Train loss: 9.4657, Valid loss: 9.9529\n",
            "Saving model with loss 9.953...\n"
          ]
        },
        {
          "output_type": "stream",
          "name": "stderr",
          "text": [
            "Epoch [688/5000]: 100%|██████████| 2/2 [00:00<00:00, 100.19it/s, loss=8.52]\n"
          ]
        },
        {
          "output_type": "stream",
          "name": "stdout",
          "text": [
            "Epoch [688/5000]: Train loss: 10.3013, Valid loss: 9.9066\n",
            "Saving model with loss 9.907...\n"
          ]
        },
        {
          "output_type": "stream",
          "name": "stderr",
          "text": [
            "Epoch [689/5000]: 100%|██████████| 2/2 [00:00<00:00, 74.11it/s, loss=12.2]\n"
          ]
        },
        {
          "output_type": "stream",
          "name": "stdout",
          "text": [
            "Epoch [689/5000]: Train loss: 11.9923, Valid loss: 9.9458\n"
          ]
        },
        {
          "output_type": "stream",
          "name": "stderr",
          "text": [
            "Epoch [690/5000]: 100%|██████████| 2/2 [00:00<00:00, 128.88it/s, loss=11]\n"
          ]
        },
        {
          "output_type": "stream",
          "name": "stdout",
          "text": [
            "Epoch [690/5000]: Train loss: 10.6542, Valid loss: 10.0491\n"
          ]
        },
        {
          "output_type": "stream",
          "name": "stderr",
          "text": [
            "Epoch [691/5000]: 100%|██████████| 2/2 [00:00<00:00, 93.13it/s, loss=10.7]\n"
          ]
        },
        {
          "output_type": "stream",
          "name": "stdout",
          "text": [
            "Epoch [691/5000]: Train loss: 10.3449, Valid loss: 10.2034\n"
          ]
        },
        {
          "output_type": "stream",
          "name": "stderr",
          "text": [
            "Epoch [692/5000]: 100%|██████████| 2/2 [00:00<00:00, 132.84it/s, loss=11.6]\n"
          ]
        },
        {
          "output_type": "stream",
          "name": "stdout",
          "text": [
            "Epoch [692/5000]: Train loss: 10.7516, Valid loss: 10.2436\n"
          ]
        },
        {
          "output_type": "stream",
          "name": "stderr",
          "text": [
            "Epoch [693/5000]: 100%|██████████| 2/2 [00:00<00:00, 111.42it/s, loss=8.88]\n"
          ]
        },
        {
          "output_type": "stream",
          "name": "stdout",
          "text": [
            "Epoch [693/5000]: Train loss: 9.8403, Valid loss: 10.2141\n"
          ]
        },
        {
          "output_type": "stream",
          "name": "stderr",
          "text": [
            "Epoch [694/5000]: 100%|██████████| 2/2 [00:00<00:00, 94.30it/s, loss=9.95]\n"
          ]
        },
        {
          "output_type": "stream",
          "name": "stdout",
          "text": [
            "Epoch [694/5000]: Train loss: 10.1030, Valid loss: 10.2063\n"
          ]
        },
        {
          "output_type": "stream",
          "name": "stderr",
          "text": [
            "Epoch [695/5000]: 100%|██████████| 2/2 [00:00<00:00, 129.41it/s, loss=9.68]\n"
          ]
        },
        {
          "output_type": "stream",
          "name": "stdout",
          "text": [
            "Epoch [695/5000]: Train loss: 9.7988, Valid loss: 10.1506\n"
          ]
        },
        {
          "output_type": "stream",
          "name": "stderr",
          "text": [
            "Epoch [696/5000]: 100%|██████████| 2/2 [00:00<00:00, 92.06it/s, loss=13.6]\n"
          ]
        },
        {
          "output_type": "stream",
          "name": "stdout",
          "text": [
            "Epoch [696/5000]: Train loss: 11.2884, Valid loss: 10.2645\n"
          ]
        },
        {
          "output_type": "stream",
          "name": "stderr",
          "text": [
            "Epoch [697/5000]: 100%|██████████| 2/2 [00:00<00:00, 90.93it/s, loss=8.68]\n"
          ]
        },
        {
          "output_type": "stream",
          "name": "stdout",
          "text": [
            "Epoch [697/5000]: Train loss: 9.0925, Valid loss: 10.2802\n"
          ]
        },
        {
          "output_type": "stream",
          "name": "stderr",
          "text": [
            "Epoch [698/5000]: 100%|██████████| 2/2 [00:00<00:00, 128.90it/s, loss=9.19]\n"
          ]
        },
        {
          "output_type": "stream",
          "name": "stdout",
          "text": [
            "Epoch [698/5000]: Train loss: 9.6566, Valid loss: 10.2670\n"
          ]
        },
        {
          "output_type": "stream",
          "name": "stderr",
          "text": [
            "Epoch [699/5000]: 100%|██████████| 2/2 [00:00<00:00, 94.59it/s, loss=14.1]\n"
          ]
        },
        {
          "output_type": "stream",
          "name": "stdout",
          "text": [
            "Epoch [699/5000]: Train loss: 11.8387, Valid loss: 10.2467\n"
          ]
        },
        {
          "output_type": "stream",
          "name": "stderr",
          "text": [
            "Epoch [700/5000]: 100%|██████████| 2/2 [00:00<00:00, 136.75it/s, loss=10.3]\n"
          ]
        },
        {
          "output_type": "stream",
          "name": "stdout",
          "text": [
            "Epoch [700/5000]: Train loss: 10.4491, Valid loss: 10.1342\n"
          ]
        },
        {
          "output_type": "stream",
          "name": "stderr",
          "text": [
            "Epoch [701/5000]: 100%|██████████| 2/2 [00:00<00:00, 77.90it/s, loss=11.1]\n"
          ]
        },
        {
          "output_type": "stream",
          "name": "stdout",
          "text": [
            "Epoch [701/5000]: Train loss: 10.6309, Valid loss: 10.0589\n"
          ]
        },
        {
          "output_type": "stream",
          "name": "stderr",
          "text": [
            "Epoch [702/5000]: 100%|██████████| 2/2 [00:00<00:00, 102.02it/s, loss=12.8]\n"
          ]
        },
        {
          "output_type": "stream",
          "name": "stdout",
          "text": [
            "Epoch [702/5000]: Train loss: 11.6350, Valid loss: 10.0280\n"
          ]
        },
        {
          "output_type": "stream",
          "name": "stderr",
          "text": [
            "Epoch [703/5000]: 100%|██████████| 2/2 [00:00<00:00, 76.15it/s, loss=13.9]\n"
          ]
        },
        {
          "output_type": "stream",
          "name": "stdout",
          "text": [
            "Epoch [703/5000]: Train loss: 12.0062, Valid loss: 9.9422\n"
          ]
        },
        {
          "output_type": "stream",
          "name": "stderr",
          "text": [
            "Epoch [704/5000]: 100%|██████████| 2/2 [00:00<00:00, 136.54it/s, loss=9.49]\n"
          ]
        },
        {
          "output_type": "stream",
          "name": "stdout",
          "text": [
            "Epoch [704/5000]: Train loss: 10.4410, Valid loss: 9.8998\n",
            "Saving model with loss 9.900...\n"
          ]
        },
        {
          "output_type": "stream",
          "name": "stderr",
          "text": [
            "Epoch [705/5000]: 100%|██████████| 2/2 [00:00<00:00, 131.85it/s, loss=8.85]\n"
          ]
        },
        {
          "output_type": "stream",
          "name": "stdout",
          "text": [
            "Epoch [705/5000]: Train loss: 10.6329, Valid loss: 9.8379\n",
            "Saving model with loss 9.838...\n"
          ]
        },
        {
          "output_type": "stream",
          "name": "stderr",
          "text": [
            "Epoch [706/5000]: 100%|██████████| 2/2 [00:00<00:00, 136.33it/s, loss=7.74]\n"
          ]
        },
        {
          "output_type": "stream",
          "name": "stdout",
          "text": [
            "Epoch [706/5000]: Train loss: 9.0528, Valid loss: 9.8267\n",
            "Saving model with loss 9.827...\n"
          ]
        },
        {
          "output_type": "stream",
          "name": "stderr",
          "text": [
            "Epoch [707/5000]: 100%|██████████| 2/2 [00:00<00:00,  9.67it/s, loss=9.4]\n"
          ]
        },
        {
          "output_type": "stream",
          "name": "stdout",
          "text": [
            "Epoch [707/5000]: Train loss: 9.6132, Valid loss: 9.8041\n",
            "Saving model with loss 9.804...\n"
          ]
        },
        {
          "output_type": "stream",
          "name": "stderr",
          "text": [
            "Epoch [708/5000]: 100%|██████████| 2/2 [00:00<00:00, 78.04it/s, loss=13.4]\n"
          ]
        },
        {
          "output_type": "stream",
          "name": "stdout",
          "text": [
            "Epoch [708/5000]: Train loss: 11.7963, Valid loss: 9.8460\n"
          ]
        },
        {
          "output_type": "stream",
          "name": "stderr",
          "text": [
            "Epoch [709/5000]: 100%|██████████| 2/2 [00:00<00:00, 98.18it/s, loss=8.1]\n"
          ]
        },
        {
          "output_type": "stream",
          "name": "stdout",
          "text": [
            "Epoch [709/5000]: Train loss: 8.9805, Valid loss: 9.8214\n"
          ]
        },
        {
          "output_type": "stream",
          "name": "stderr",
          "text": [
            "Epoch [710/5000]: 100%|██████████| 2/2 [00:00<00:00, 94.41it/s, loss=11.1]\n"
          ]
        },
        {
          "output_type": "stream",
          "name": "stdout",
          "text": [
            "Epoch [710/5000]: Train loss: 10.6603, Valid loss: 9.8927\n"
          ]
        },
        {
          "output_type": "stream",
          "name": "stderr",
          "text": [
            "Epoch [711/5000]: 100%|██████████| 2/2 [00:00<00:00, 96.07it/s, loss=12.5]\n"
          ]
        },
        {
          "output_type": "stream",
          "name": "stdout",
          "text": [
            "Epoch [711/5000]: Train loss: 11.2043, Valid loss: 9.9268\n"
          ]
        },
        {
          "output_type": "stream",
          "name": "stderr",
          "text": [
            "Epoch [712/5000]: 100%|██████████| 2/2 [00:00<00:00, 104.94it/s, loss=9.74]\n"
          ]
        },
        {
          "output_type": "stream",
          "name": "stdout",
          "text": [
            "Epoch [712/5000]: Train loss: 10.9422, Valid loss: 9.9166\n"
          ]
        },
        {
          "output_type": "stream",
          "name": "stderr",
          "text": [
            "Epoch [713/5000]: 100%|██████████| 2/2 [00:00<00:00, 89.15it/s, loss=12.6]\n"
          ]
        },
        {
          "output_type": "stream",
          "name": "stdout",
          "text": [
            "Epoch [713/5000]: Train loss: 11.0452, Valid loss: 10.0130\n"
          ]
        },
        {
          "output_type": "stream",
          "name": "stderr",
          "text": [
            "Epoch [714/5000]: 100%|██████████| 2/2 [00:00<00:00, 83.74it/s, loss=11.2]\n"
          ]
        },
        {
          "output_type": "stream",
          "name": "stdout",
          "text": [
            "Epoch [714/5000]: Train loss: 10.3378, Valid loss: 10.0659\n"
          ]
        },
        {
          "output_type": "stream",
          "name": "stderr",
          "text": [
            "Epoch [715/5000]: 100%|██████████| 2/2 [00:00<00:00, 92.28it/s, loss=12]\n"
          ]
        },
        {
          "output_type": "stream",
          "name": "stdout",
          "text": [
            "Epoch [715/5000]: Train loss: 11.4200, Valid loss: 10.1012\n"
          ]
        },
        {
          "output_type": "stream",
          "name": "stderr",
          "text": [
            "Epoch [716/5000]: 100%|██████████| 2/2 [00:00<00:00, 97.85it/s, loss=10.9]\n"
          ]
        },
        {
          "output_type": "stream",
          "name": "stdout",
          "text": [
            "Epoch [716/5000]: Train loss: 11.4134, Valid loss: 10.1374\n"
          ]
        },
        {
          "output_type": "stream",
          "name": "stderr",
          "text": [
            "Epoch [717/5000]: 100%|██████████| 2/2 [00:00<00:00, 83.39it/s, loss=11.8]\n"
          ]
        },
        {
          "output_type": "stream",
          "name": "stdout",
          "text": [
            "Epoch [717/5000]: Train loss: 11.1997, Valid loss: 10.1903\n"
          ]
        },
        {
          "output_type": "stream",
          "name": "stderr",
          "text": [
            "Epoch [718/5000]: 100%|██████████| 2/2 [00:00<00:00, 85.30it/s, loss=12]\n"
          ]
        },
        {
          "output_type": "stream",
          "name": "stdout",
          "text": [
            "Epoch [718/5000]: Train loss: 11.4482, Valid loss: 10.1375\n"
          ]
        },
        {
          "output_type": "stream",
          "name": "stderr",
          "text": [
            "Epoch [719/5000]: 100%|██████████| 2/2 [00:00<00:00, 107.38it/s, loss=10.8]\n"
          ]
        },
        {
          "output_type": "stream",
          "name": "stdout",
          "text": [
            "Epoch [719/5000]: Train loss: 9.9169, Valid loss: 10.1484\n"
          ]
        },
        {
          "output_type": "stream",
          "name": "stderr",
          "text": [
            "Epoch [720/5000]: 100%|██████████| 2/2 [00:00<00:00, 98.49it/s, loss=8.68]\n"
          ]
        },
        {
          "output_type": "stream",
          "name": "stdout",
          "text": [
            "Epoch [720/5000]: Train loss: 9.3798, Valid loss: 10.1544\n"
          ]
        },
        {
          "output_type": "stream",
          "name": "stderr",
          "text": [
            "Epoch [721/5000]: 100%|██████████| 2/2 [00:00<00:00, 101.56it/s, loss=12.8]\n"
          ]
        },
        {
          "output_type": "stream",
          "name": "stdout",
          "text": [
            "Epoch [721/5000]: Train loss: 11.3418, Valid loss: 10.1589\n"
          ]
        },
        {
          "output_type": "stream",
          "name": "stderr",
          "text": [
            "Epoch [722/5000]: 100%|██████████| 2/2 [00:00<00:00, 91.18it/s, loss=11.3]\n"
          ]
        },
        {
          "output_type": "stream",
          "name": "stdout",
          "text": [
            "Epoch [722/5000]: Train loss: 10.8310, Valid loss: 10.1315\n"
          ]
        },
        {
          "output_type": "stream",
          "name": "stderr",
          "text": [
            "Epoch [723/5000]: 100%|██████████| 2/2 [00:00<00:00, 81.23it/s, loss=9.48]\n"
          ]
        },
        {
          "output_type": "stream",
          "name": "stdout",
          "text": [
            "Epoch [723/5000]: Train loss: 9.4800, Valid loss: 10.1314\n"
          ]
        },
        {
          "output_type": "stream",
          "name": "stderr",
          "text": [
            "Epoch [724/5000]: 100%|██████████| 2/2 [00:00<00:00, 97.39it/s, loss=10.2]\n"
          ]
        },
        {
          "output_type": "stream",
          "name": "stdout",
          "text": [
            "Epoch [724/5000]: Train loss: 10.5234, Valid loss: 10.1352\n"
          ]
        },
        {
          "output_type": "stream",
          "name": "stderr",
          "text": [
            "Epoch [725/5000]: 100%|██████████| 2/2 [00:00<00:00, 81.34it/s, loss=13.5]\n"
          ]
        },
        {
          "output_type": "stream",
          "name": "stdout",
          "text": [
            "Epoch [725/5000]: Train loss: 11.3589, Valid loss: 10.0791\n"
          ]
        },
        {
          "output_type": "stream",
          "name": "stderr",
          "text": [
            "Epoch [726/5000]: 100%|██████████| 2/2 [00:00<00:00, 85.46it/s, loss=10.4]"
          ]
        },
        {
          "output_type": "stream",
          "name": "stdout",
          "text": [
            "Epoch [726/5000]: Train loss: 10.4194, Valid loss: 10.1065"
          ]
        },
        {
          "output_type": "stream",
          "name": "stderr",
          "text": [
            "\n"
          ]
        },
        {
          "output_type": "stream",
          "name": "stdout",
          "text": [
            "\n"
          ]
        },
        {
          "output_type": "stream",
          "name": "stderr",
          "text": [
            "Epoch [727/5000]: 100%|██████████| 2/2 [00:00<00:00, 91.33it/s, loss=9.51]\n"
          ]
        },
        {
          "output_type": "stream",
          "name": "stdout",
          "text": [
            "Epoch [727/5000]: Train loss: 10.0151, Valid loss: 10.0824\n"
          ]
        },
        {
          "output_type": "stream",
          "name": "stderr",
          "text": [
            "Epoch [728/5000]: 100%|██████████| 2/2 [00:00<00:00, 76.82it/s, loss=10.6]\n"
          ]
        },
        {
          "output_type": "stream",
          "name": "stdout",
          "text": [
            "Epoch [728/5000]: Train loss: 9.4429, Valid loss: 10.0615\n"
          ]
        },
        {
          "output_type": "stream",
          "name": "stderr",
          "text": [
            "Epoch [729/5000]: 100%|██████████| 2/2 [00:00<00:00, 82.34it/s, loss=7.52]\n"
          ]
        },
        {
          "output_type": "stream",
          "name": "stdout",
          "text": [
            "Epoch [729/5000]: Train loss: 9.6773, Valid loss: 9.9999\n"
          ]
        },
        {
          "output_type": "stream",
          "name": "stderr",
          "text": [
            "Epoch [730/5000]: 100%|██████████| 2/2 [00:00<00:00, 73.17it/s, loss=13.8]\n"
          ]
        },
        {
          "output_type": "stream",
          "name": "stdout",
          "text": [
            "Epoch [730/5000]: Train loss: 12.1210, Valid loss: 10.0089\n"
          ]
        },
        {
          "output_type": "stream",
          "name": "stderr",
          "text": [
            "Epoch [731/5000]: 100%|██████████| 2/2 [00:00<00:00, 74.10it/s, loss=11]\n"
          ]
        },
        {
          "output_type": "stream",
          "name": "stdout",
          "text": [
            "Epoch [731/5000]: Train loss: 11.1749, Valid loss: 10.0214\n"
          ]
        },
        {
          "output_type": "stream",
          "name": "stderr",
          "text": [
            "Epoch [732/5000]: 100%|██████████| 2/2 [00:00<00:00, 83.66it/s, loss=8.78]\n"
          ]
        },
        {
          "output_type": "stream",
          "name": "stdout",
          "text": [
            "Epoch [732/5000]: Train loss: 9.4950, Valid loss: 10.0790\n"
          ]
        },
        {
          "output_type": "stream",
          "name": "stderr",
          "text": [
            "Epoch [733/5000]: 100%|██████████| 2/2 [00:00<00:00, 98.47it/s, loss=11.3]\n"
          ]
        },
        {
          "output_type": "stream",
          "name": "stdout",
          "text": [
            "Epoch [733/5000]: Train loss: 11.2128, Valid loss: 10.1408\n"
          ]
        },
        {
          "output_type": "stream",
          "name": "stderr",
          "text": [
            "Epoch [734/5000]: 100%|██████████| 2/2 [00:00<00:00, 83.41it/s, loss=17.2]\n"
          ]
        },
        {
          "output_type": "stream",
          "name": "stdout",
          "text": [
            "Epoch [734/5000]: Train loss: 13.9619, Valid loss: 10.1600\n"
          ]
        },
        {
          "output_type": "stream",
          "name": "stderr",
          "text": [
            "Epoch [735/5000]: 100%|██████████| 2/2 [00:00<00:00, 89.01it/s, loss=8.96]\n"
          ]
        },
        {
          "output_type": "stream",
          "name": "stdout",
          "text": [
            "Epoch [735/5000]: Train loss: 9.4598, Valid loss: 10.1088\n"
          ]
        },
        {
          "output_type": "stream",
          "name": "stderr",
          "text": [
            "Epoch [736/5000]: 100%|██████████| 2/2 [00:00<00:00, 78.49it/s, loss=13.7]\n"
          ]
        },
        {
          "output_type": "stream",
          "name": "stdout",
          "text": [
            "Epoch [736/5000]: Train loss: 12.1710, Valid loss: 10.0577\n"
          ]
        },
        {
          "output_type": "stream",
          "name": "stderr",
          "text": [
            "Epoch [737/5000]: 100%|██████████| 2/2 [00:00<00:00, 95.86it/s, loss=9.69]\n"
          ]
        },
        {
          "output_type": "stream",
          "name": "stdout",
          "text": [
            "Epoch [737/5000]: Train loss: 9.7809, Valid loss: 10.0958\n"
          ]
        },
        {
          "output_type": "stream",
          "name": "stderr",
          "text": [
            "Epoch [738/5000]: 100%|██████████| 2/2 [00:00<00:00, 92.83it/s, loss=8.37]\n"
          ]
        },
        {
          "output_type": "stream",
          "name": "stdout",
          "text": [
            "Epoch [738/5000]: Train loss: 9.1448, Valid loss: 10.1527\n"
          ]
        },
        {
          "output_type": "stream",
          "name": "stderr",
          "text": [
            "Epoch [739/5000]: 100%|██████████| 2/2 [00:00<00:00, 78.22it/s, loss=9.04]\n"
          ]
        },
        {
          "output_type": "stream",
          "name": "stdout",
          "text": [
            "Epoch [739/5000]: Train loss: 9.0848, Valid loss: 10.2065\n"
          ]
        },
        {
          "output_type": "stream",
          "name": "stderr",
          "text": [
            "Epoch [740/5000]: 100%|██████████| 2/2 [00:00<00:00, 99.26it/s, loss=11.7]\n"
          ]
        },
        {
          "output_type": "stream",
          "name": "stdout",
          "text": [
            "Epoch [740/5000]: Train loss: 11.2413, Valid loss: 10.2329\n"
          ]
        },
        {
          "output_type": "stream",
          "name": "stderr",
          "text": [
            "Epoch [741/5000]: 100%|██████████| 2/2 [00:00<00:00, 85.15it/s, loss=8.92]\n"
          ]
        },
        {
          "output_type": "stream",
          "name": "stdout",
          "text": [
            "Epoch [741/5000]: Train loss: 9.8097, Valid loss: 10.2316\n"
          ]
        },
        {
          "output_type": "stream",
          "name": "stderr",
          "text": [
            "Epoch [742/5000]: 100%|██████████| 2/2 [00:00<00:00, 89.11it/s, loss=10.8]\n"
          ]
        },
        {
          "output_type": "stream",
          "name": "stdout",
          "text": [
            "Epoch [742/5000]: Train loss: 10.4300, Valid loss: 10.2337\n"
          ]
        },
        {
          "output_type": "stream",
          "name": "stderr",
          "text": [
            "Epoch [743/5000]: 100%|██████████| 2/2 [00:00<00:00, 89.01it/s, loss=9.8]\n"
          ]
        },
        {
          "output_type": "stream",
          "name": "stdout",
          "text": [
            "Epoch [743/5000]: Train loss: 10.6007, Valid loss: 10.2614\n"
          ]
        },
        {
          "output_type": "stream",
          "name": "stderr",
          "text": [
            "Epoch [744/5000]: 100%|██████████| 2/2 [00:00<00:00, 87.68it/s, loss=9.21]\n"
          ]
        },
        {
          "output_type": "stream",
          "name": "stdout",
          "text": [
            "Epoch [744/5000]: Train loss: 10.0565, Valid loss: 10.2647\n"
          ]
        },
        {
          "output_type": "stream",
          "name": "stderr",
          "text": [
            "Epoch [745/5000]: 100%|██████████| 2/2 [00:00<00:00, 81.95it/s, loss=9.9]\n"
          ]
        },
        {
          "output_type": "stream",
          "name": "stdout",
          "text": [
            "Epoch [745/5000]: Train loss: 10.0027, Valid loss: 10.2315\n"
          ]
        },
        {
          "output_type": "stream",
          "name": "stderr",
          "text": [
            "Epoch [746/5000]: 100%|██████████| 2/2 [00:00<00:00, 96.43it/s, loss=9.81]\n"
          ]
        },
        {
          "output_type": "stream",
          "name": "stdout",
          "text": [
            "Epoch [746/5000]: Train loss: 9.7368, Valid loss: 10.2421\n"
          ]
        },
        {
          "output_type": "stream",
          "name": "stderr",
          "text": [
            "Epoch [747/5000]: 100%|██████████| 2/2 [00:00<00:00, 89.16it/s, loss=11]\n"
          ]
        },
        {
          "output_type": "stream",
          "name": "stdout",
          "text": [
            "Epoch [747/5000]: Train loss: 10.8164, Valid loss: 10.1984\n"
          ]
        },
        {
          "output_type": "stream",
          "name": "stderr",
          "text": [
            "Epoch [748/5000]: 100%|██████████| 2/2 [00:00<00:00, 96.96it/s, loss=13.9]\n"
          ]
        },
        {
          "output_type": "stream",
          "name": "stdout",
          "text": [
            "Epoch [748/5000]: Train loss: 11.1659, Valid loss: 10.2565\n"
          ]
        },
        {
          "output_type": "stream",
          "name": "stderr",
          "text": [
            "Epoch [749/5000]: 100%|██████████| 2/2 [00:00<00:00, 88.17it/s, loss=10.3]\n"
          ]
        },
        {
          "output_type": "stream",
          "name": "stdout",
          "text": [
            "Epoch [749/5000]: Train loss: 9.8645, Valid loss: 10.2179\n"
          ]
        },
        {
          "output_type": "stream",
          "name": "stderr",
          "text": [
            "Epoch [750/5000]: 100%|██████████| 2/2 [00:00<00:00, 95.31it/s, loss=14.1]\n"
          ]
        },
        {
          "output_type": "stream",
          "name": "stdout",
          "text": [
            "Epoch [750/5000]: Train loss: 12.7206, Valid loss: 10.1938\n"
          ]
        },
        {
          "output_type": "stream",
          "name": "stderr",
          "text": [
            "Epoch [751/5000]: 100%|██████████| 2/2 [00:00<00:00, 97.67it/s, loss=12.9]\n"
          ]
        },
        {
          "output_type": "stream",
          "name": "stdout",
          "text": [
            "Epoch [751/5000]: Train loss: 11.9321, Valid loss: 10.2087\n"
          ]
        },
        {
          "output_type": "stream",
          "name": "stderr",
          "text": [
            "Epoch [752/5000]: 100%|██████████| 2/2 [00:00<00:00, 81.08it/s, loss=10.1]\n"
          ]
        },
        {
          "output_type": "stream",
          "name": "stdout",
          "text": [
            "Epoch [752/5000]: Train loss: 10.2316, Valid loss: 10.2094\n"
          ]
        },
        {
          "output_type": "stream",
          "name": "stderr",
          "text": [
            "Epoch [753/5000]: 100%|██████████| 2/2 [00:00<00:00, 91.17it/s, loss=8.9]\n"
          ]
        },
        {
          "output_type": "stream",
          "name": "stdout",
          "text": [
            "Epoch [753/5000]: Train loss: 9.1734, Valid loss: 10.0979\n"
          ]
        },
        {
          "output_type": "stream",
          "name": "stderr",
          "text": [
            "Epoch [754/5000]: 100%|██████████| 2/2 [00:00<00:00, 93.90it/s, loss=9.46]\n"
          ]
        },
        {
          "output_type": "stream",
          "name": "stdout",
          "text": [
            "Epoch [754/5000]: Train loss: 9.4898, Valid loss: 10.0891\n"
          ]
        },
        {
          "output_type": "stream",
          "name": "stderr",
          "text": [
            "Epoch [755/5000]: 100%|██████████| 2/2 [00:00<00:00, 86.81it/s, loss=10.4]\n"
          ]
        },
        {
          "output_type": "stream",
          "name": "stdout",
          "text": [
            "Epoch [755/5000]: Train loss: 10.1220, Valid loss: 10.0784\n"
          ]
        },
        {
          "output_type": "stream",
          "name": "stderr",
          "text": [
            "Epoch [756/5000]: 100%|██████████| 2/2 [00:00<00:00, 88.73it/s, loss=7.75]\n"
          ]
        },
        {
          "output_type": "stream",
          "name": "stdout",
          "text": [
            "Epoch [756/5000]: Train loss: 9.8058, Valid loss: 10.1133\n"
          ]
        },
        {
          "output_type": "stream",
          "name": "stderr",
          "text": [
            "Epoch [757/5000]: 100%|██████████| 2/2 [00:00<00:00, 83.69it/s, loss=11.2]\n"
          ]
        },
        {
          "output_type": "stream",
          "name": "stdout",
          "text": [
            "Epoch [757/5000]: Train loss: 10.1044, Valid loss: 10.0508\n"
          ]
        },
        {
          "output_type": "stream",
          "name": "stderr",
          "text": [
            "Epoch [758/5000]: 100%|██████████| 2/2 [00:00<00:00, 86.98it/s, loss=12]\n"
          ]
        },
        {
          "output_type": "stream",
          "name": "stdout",
          "text": [
            "Epoch [758/5000]: Train loss: 11.7786, Valid loss: 10.0944\n"
          ]
        },
        {
          "output_type": "stream",
          "name": "stderr",
          "text": [
            "Epoch [759/5000]: 100%|██████████| 2/2 [00:00<00:00, 80.23it/s, loss=13.7]\n"
          ]
        },
        {
          "output_type": "stream",
          "name": "stdout",
          "text": [
            "Epoch [759/5000]: Train loss: 12.0728, Valid loss: 10.1436\n"
          ]
        },
        {
          "output_type": "stream",
          "name": "stderr",
          "text": [
            "Epoch [760/5000]: 100%|██████████| 2/2 [00:00<00:00, 86.49it/s, loss=7.61]\n"
          ]
        },
        {
          "output_type": "stream",
          "name": "stdout",
          "text": [
            "Epoch [760/5000]: Train loss: 8.8487, Valid loss: 10.1715\n"
          ]
        },
        {
          "output_type": "stream",
          "name": "stderr",
          "text": [
            "Epoch [761/5000]: 100%|██████████| 2/2 [00:00<00:00, 95.91it/s, loss=8.47]\n"
          ]
        },
        {
          "output_type": "stream",
          "name": "stdout",
          "text": [
            "Epoch [761/5000]: Train loss: 9.5303, Valid loss: 10.1707\n"
          ]
        },
        {
          "output_type": "stream",
          "name": "stderr",
          "text": [
            "Epoch [762/5000]: 100%|██████████| 2/2 [00:00<00:00, 83.94it/s, loss=9.8]\n"
          ]
        },
        {
          "output_type": "stream",
          "name": "stdout",
          "text": [
            "Epoch [762/5000]: Train loss: 9.7081, Valid loss: 10.0859\n"
          ]
        },
        {
          "output_type": "stream",
          "name": "stderr",
          "text": [
            "Epoch [763/5000]: 100%|██████████| 2/2 [00:00<00:00, 90.43it/s, loss=9.75]\n"
          ]
        },
        {
          "output_type": "stream",
          "name": "stdout",
          "text": [
            "Epoch [763/5000]: Train loss: 10.0124, Valid loss: 10.1155\n"
          ]
        },
        {
          "output_type": "stream",
          "name": "stderr",
          "text": [
            "Epoch [764/5000]: 100%|██████████| 2/2 [00:00<00:00, 83.17it/s, loss=11.1]\n"
          ]
        },
        {
          "output_type": "stream",
          "name": "stdout",
          "text": [
            "Epoch [764/5000]: Train loss: 11.2329, Valid loss: 10.1085\n"
          ]
        },
        {
          "output_type": "stream",
          "name": "stderr",
          "text": [
            "Epoch [765/5000]: 100%|██████████| 2/2 [00:00<00:00, 99.26it/s, loss=11.4]\n"
          ]
        },
        {
          "output_type": "stream",
          "name": "stdout",
          "text": [
            "Epoch [765/5000]: Train loss: 10.4968, Valid loss: 10.1647\n"
          ]
        },
        {
          "output_type": "stream",
          "name": "stderr",
          "text": [
            "Epoch [766/5000]: 100%|██████████| 2/2 [00:00<00:00, 87.43it/s, loss=7.72]\n"
          ]
        },
        {
          "output_type": "stream",
          "name": "stdout",
          "text": [
            "Epoch [766/5000]: Train loss: 8.9173, Valid loss: 10.1704\n"
          ]
        },
        {
          "output_type": "stream",
          "name": "stderr",
          "text": [
            "Epoch [767/5000]: 100%|██████████| 2/2 [00:00<00:00, 98.50it/s, loss=8.32]\n"
          ]
        },
        {
          "output_type": "stream",
          "name": "stdout",
          "text": [
            "Epoch [767/5000]: Train loss: 9.5864, Valid loss: 10.1600\n"
          ]
        },
        {
          "output_type": "stream",
          "name": "stderr",
          "text": [
            "Epoch [768/5000]: 100%|██████████| 2/2 [00:00<00:00, 91.23it/s, loss=10.2]\n"
          ]
        },
        {
          "output_type": "stream",
          "name": "stdout",
          "text": [
            "Epoch [768/5000]: Train loss: 11.0785, Valid loss: 10.0931\n"
          ]
        },
        {
          "output_type": "stream",
          "name": "stderr",
          "text": [
            "Epoch [769/5000]: 100%|██████████| 2/2 [00:00<00:00, 101.03it/s, loss=10.6]\n"
          ]
        },
        {
          "output_type": "stream",
          "name": "stdout",
          "text": [
            "Epoch [769/5000]: Train loss: 10.2238, Valid loss: 10.0053\n"
          ]
        },
        {
          "output_type": "stream",
          "name": "stderr",
          "text": [
            "Epoch [770/5000]: 100%|██████████| 2/2 [00:00<00:00, 99.19it/s, loss=13.8]\n"
          ]
        },
        {
          "output_type": "stream",
          "name": "stdout",
          "text": [
            "Epoch [770/5000]: Train loss: 11.3380, Valid loss: 9.9583\n"
          ]
        },
        {
          "output_type": "stream",
          "name": "stderr",
          "text": [
            "Epoch [771/5000]: 100%|██████████| 2/2 [00:00<00:00, 98.65it/s, loss=14.4]\n"
          ]
        },
        {
          "output_type": "stream",
          "name": "stdout",
          "text": [
            "Epoch [771/5000]: Train loss: 11.8469, Valid loss: 9.9808\n"
          ]
        },
        {
          "output_type": "stream",
          "name": "stderr",
          "text": [
            "Epoch [772/5000]: 100%|██████████| 2/2 [00:00<00:00, 96.94it/s, loss=10.5]\n"
          ]
        },
        {
          "output_type": "stream",
          "name": "stdout",
          "text": [
            "Epoch [772/5000]: Train loss: 9.8156, Valid loss: 10.0161\n"
          ]
        },
        {
          "output_type": "stream",
          "name": "stderr",
          "text": [
            "Epoch [773/5000]: 100%|██████████| 2/2 [00:00<00:00, 105.05it/s, loss=10.9]\n"
          ]
        },
        {
          "output_type": "stream",
          "name": "stdout",
          "text": [
            "Epoch [773/5000]: Train loss: 11.3669, Valid loss: 9.9703\n"
          ]
        },
        {
          "output_type": "stream",
          "name": "stderr",
          "text": [
            "Epoch [774/5000]: 100%|██████████| 2/2 [00:00<00:00, 90.56it/s, loss=12.3]\n"
          ]
        },
        {
          "output_type": "stream",
          "name": "stdout",
          "text": [
            "Epoch [774/5000]: Train loss: 11.6274, Valid loss: 9.9159\n"
          ]
        },
        {
          "output_type": "stream",
          "name": "stderr",
          "text": [
            "Epoch [775/5000]: 100%|██████████| 2/2 [00:00<00:00, 90.52it/s, loss=10.3]\n"
          ]
        },
        {
          "output_type": "stream",
          "name": "stdout",
          "text": [
            "Epoch [775/5000]: Train loss: 10.4680, Valid loss: 9.9347\n"
          ]
        },
        {
          "output_type": "stream",
          "name": "stderr",
          "text": [
            "Epoch [776/5000]: 100%|██████████| 2/2 [00:00<00:00, 73.63it/s, loss=8.03]\n"
          ]
        },
        {
          "output_type": "stream",
          "name": "stdout",
          "text": [
            "Epoch [776/5000]: Train loss: 9.4594, Valid loss: 9.9329\n"
          ]
        },
        {
          "output_type": "stream",
          "name": "stderr",
          "text": [
            "Epoch [777/5000]: 100%|██████████| 2/2 [00:00<00:00, 72.83it/s, loss=13.4]\n"
          ]
        },
        {
          "output_type": "stream",
          "name": "stdout",
          "text": [
            "Epoch [777/5000]: Train loss: 11.3181, Valid loss: 9.9402\n"
          ]
        },
        {
          "output_type": "stream",
          "name": "stderr",
          "text": [
            "Epoch [778/5000]: 100%|██████████| 2/2 [00:00<00:00, 81.44it/s, loss=13.8]\n"
          ]
        },
        {
          "output_type": "stream",
          "name": "stdout",
          "text": [
            "Epoch [778/5000]: Train loss: 11.1818, Valid loss: 9.9291\n"
          ]
        },
        {
          "output_type": "stream",
          "name": "stderr",
          "text": [
            "Epoch [779/5000]: 100%|██████████| 2/2 [00:00<00:00, 78.20it/s, loss=7.64]\n"
          ]
        },
        {
          "output_type": "stream",
          "name": "stdout",
          "text": [
            "Epoch [779/5000]: Train loss: 9.1783, Valid loss: 9.9104\n"
          ]
        },
        {
          "output_type": "stream",
          "name": "stderr",
          "text": [
            "Epoch [780/5000]: 100%|██████████| 2/2 [00:00<00:00, 84.76it/s, loss=11.8]\n"
          ]
        },
        {
          "output_type": "stream",
          "name": "stdout",
          "text": [
            "Epoch [780/5000]: Train loss: 10.4025, Valid loss: 9.9316\n"
          ]
        },
        {
          "output_type": "stream",
          "name": "stderr",
          "text": [
            "Epoch [781/5000]: 100%|██████████| 2/2 [00:00<00:00, 88.09it/s, loss=9.34]\n"
          ]
        },
        {
          "output_type": "stream",
          "name": "stdout",
          "text": [
            "Epoch [781/5000]: Train loss: 9.9177, Valid loss: 9.9567\n"
          ]
        },
        {
          "output_type": "stream",
          "name": "stderr",
          "text": [
            "Epoch [782/5000]: 100%|██████████| 2/2 [00:00<00:00, 86.32it/s, loss=11.2]\n"
          ]
        },
        {
          "output_type": "stream",
          "name": "stdout",
          "text": [
            "Epoch [782/5000]: Train loss: 10.5101, Valid loss: 10.0183\n"
          ]
        },
        {
          "output_type": "stream",
          "name": "stderr",
          "text": [
            "Epoch [783/5000]: 100%|██████████| 2/2 [00:00<00:00, 82.19it/s, loss=9.42]\n"
          ]
        },
        {
          "output_type": "stream",
          "name": "stdout",
          "text": [
            "Epoch [783/5000]: Train loss: 10.2277, Valid loss: 10.0881\n"
          ]
        },
        {
          "output_type": "stream",
          "name": "stderr",
          "text": [
            "Epoch [784/5000]: 100%|██████████| 2/2 [00:00<00:00, 88.28it/s, loss=12.6]\n"
          ]
        },
        {
          "output_type": "stream",
          "name": "stdout",
          "text": [
            "Epoch [784/5000]: Train loss: 11.2540, Valid loss: 10.1618\n"
          ]
        },
        {
          "output_type": "stream",
          "name": "stderr",
          "text": [
            "Epoch [785/5000]: 100%|██████████| 2/2 [00:00<00:00, 77.07it/s, loss=12.1]\n"
          ]
        },
        {
          "output_type": "stream",
          "name": "stdout",
          "text": [
            "Epoch [785/5000]: Train loss: 11.1507, Valid loss: 10.1985\n"
          ]
        },
        {
          "output_type": "stream",
          "name": "stderr",
          "text": [
            "Epoch [786/5000]: 100%|██████████| 2/2 [00:00<00:00, 93.24it/s, loss=12.1]\n"
          ]
        },
        {
          "output_type": "stream",
          "name": "stdout",
          "text": [
            "Epoch [786/5000]: Train loss: 10.7453, Valid loss: 10.2568\n"
          ]
        },
        {
          "output_type": "stream",
          "name": "stderr",
          "text": [
            "Epoch [787/5000]: 100%|██████████| 2/2 [00:00<00:00, 96.75it/s, loss=10.2]\n"
          ]
        },
        {
          "output_type": "stream",
          "name": "stdout",
          "text": [
            "Epoch [787/5000]: Train loss: 9.7911, Valid loss: 10.2172\n"
          ]
        },
        {
          "output_type": "stream",
          "name": "stderr",
          "text": [
            "Epoch [788/5000]: 100%|██████████| 2/2 [00:00<00:00, 96.43it/s, loss=13.4]\n"
          ]
        },
        {
          "output_type": "stream",
          "name": "stdout",
          "text": [
            "Epoch [788/5000]: Train loss: 11.3790, Valid loss: 10.2250\n"
          ]
        },
        {
          "output_type": "stream",
          "name": "stderr",
          "text": [
            "Epoch [789/5000]: 100%|██████████| 2/2 [00:00<00:00, 86.42it/s, loss=8.09]\n"
          ]
        },
        {
          "output_type": "stream",
          "name": "stdout",
          "text": [
            "Epoch [789/5000]: Train loss: 9.0009, Valid loss: 10.1696\n"
          ]
        },
        {
          "output_type": "stream",
          "name": "stderr",
          "text": [
            "Epoch [790/5000]: 100%|██████████| 2/2 [00:00<00:00, 77.02it/s, loss=11.1]\n"
          ]
        },
        {
          "output_type": "stream",
          "name": "stdout",
          "text": [
            "Epoch [790/5000]: Train loss: 11.1256, Valid loss: 10.1682\n"
          ]
        },
        {
          "output_type": "stream",
          "name": "stderr",
          "text": [
            "Epoch [791/5000]: 100%|██████████| 2/2 [00:00<00:00, 92.59it/s, loss=10.9]\n"
          ]
        },
        {
          "output_type": "stream",
          "name": "stdout",
          "text": [
            "Epoch [791/5000]: Train loss: 10.4117, Valid loss: 10.1929\n"
          ]
        },
        {
          "output_type": "stream",
          "name": "stderr",
          "text": [
            "Epoch [792/5000]: 100%|██████████| 2/2 [00:00<00:00, 87.63it/s, loss=8.04]\n"
          ]
        },
        {
          "output_type": "stream",
          "name": "stdout",
          "text": [
            "Epoch [792/5000]: Train loss: 8.9782, Valid loss: 10.1844\n"
          ]
        },
        {
          "output_type": "stream",
          "name": "stderr",
          "text": [
            "Epoch [793/5000]: 100%|██████████| 2/2 [00:00<00:00, 81.47it/s, loss=7.81]\n"
          ]
        },
        {
          "output_type": "stream",
          "name": "stdout",
          "text": [
            "Epoch [793/5000]: Train loss: 8.6829, Valid loss: 10.2034\n"
          ]
        },
        {
          "output_type": "stream",
          "name": "stderr",
          "text": [
            "Epoch [794/5000]: 100%|██████████| 2/2 [00:00<00:00, 76.76it/s, loss=9.96]\n"
          ]
        },
        {
          "output_type": "stream",
          "name": "stdout",
          "text": [
            "Epoch [794/5000]: Train loss: 9.9605, Valid loss: 10.1913\n"
          ]
        },
        {
          "output_type": "stream",
          "name": "stderr",
          "text": [
            "Epoch [795/5000]: 100%|██████████| 2/2 [00:00<00:00, 96.73it/s, loss=9.58]\n"
          ]
        },
        {
          "output_type": "stream",
          "name": "stdout",
          "text": [
            "Epoch [795/5000]: Train loss: 10.2047, Valid loss: 10.1927\n"
          ]
        },
        {
          "output_type": "stream",
          "name": "stderr",
          "text": [
            "Epoch [796/5000]: 100%|██████████| 2/2 [00:00<00:00, 92.24it/s, loss=9.98]\n"
          ]
        },
        {
          "output_type": "stream",
          "name": "stdout",
          "text": [
            "Epoch [796/5000]: Train loss: 10.1210, Valid loss: 10.1293\n"
          ]
        },
        {
          "output_type": "stream",
          "name": "stderr",
          "text": [
            "Epoch [797/5000]: 100%|██████████| 2/2 [00:00<00:00, 100.50it/s, loss=11.5]\n"
          ]
        },
        {
          "output_type": "stream",
          "name": "stdout",
          "text": [
            "Epoch [797/5000]: Train loss: 10.6951, Valid loss: 10.0754\n"
          ]
        },
        {
          "output_type": "stream",
          "name": "stderr",
          "text": [
            "Epoch [798/5000]: 100%|██████████| 2/2 [00:00<00:00, 91.84it/s, loss=10]\n"
          ]
        },
        {
          "output_type": "stream",
          "name": "stdout",
          "text": [
            "Epoch [798/5000]: Train loss: 9.9196, Valid loss: 10.0579\n"
          ]
        },
        {
          "output_type": "stream",
          "name": "stderr",
          "text": [
            "Epoch [799/5000]: 100%|██████████| 2/2 [00:00<00:00, 92.24it/s, loss=11.3]\n"
          ]
        },
        {
          "output_type": "stream",
          "name": "stdout",
          "text": [
            "Epoch [799/5000]: Train loss: 10.7218, Valid loss: 10.0108\n"
          ]
        },
        {
          "output_type": "stream",
          "name": "stderr",
          "text": [
            "Epoch [800/5000]: 100%|██████████| 2/2 [00:00<00:00, 97.39it/s, loss=16.8]\n"
          ]
        },
        {
          "output_type": "stream",
          "name": "stdout",
          "text": [
            "Epoch [800/5000]: Train loss: 12.9428, Valid loss: 10.0352\n"
          ]
        },
        {
          "output_type": "stream",
          "name": "stderr",
          "text": [
            "Epoch [801/5000]: 100%|██████████| 2/2 [00:00<00:00, 94.75it/s, loss=10.8]\n"
          ]
        },
        {
          "output_type": "stream",
          "name": "stdout",
          "text": [
            "Epoch [801/5000]: Train loss: 10.5956, Valid loss: 10.1492\n"
          ]
        },
        {
          "output_type": "stream",
          "name": "stderr",
          "text": [
            "Epoch [802/5000]: 100%|██████████| 2/2 [00:00<00:00, 74.65it/s, loss=9.8]\n"
          ]
        },
        {
          "output_type": "stream",
          "name": "stdout",
          "text": [
            "Epoch [802/5000]: Train loss: 9.9365, Valid loss: 10.2007\n"
          ]
        },
        {
          "output_type": "stream",
          "name": "stderr",
          "text": [
            "Epoch [803/5000]: 100%|██████████| 2/2 [00:00<00:00, 106.36it/s, loss=11.6]\n"
          ]
        },
        {
          "output_type": "stream",
          "name": "stdout",
          "text": [
            "Epoch [803/5000]: Train loss: 9.8929, Valid loss: 10.1905\n"
          ]
        },
        {
          "output_type": "stream",
          "name": "stderr",
          "text": [
            "Epoch [804/5000]: 100%|██████████| 2/2 [00:00<00:00, 100.43it/s, loss=7.92]\n"
          ]
        },
        {
          "output_type": "stream",
          "name": "stdout",
          "text": [
            "Epoch [804/5000]: Train loss: 9.8138, Valid loss: 10.1359\n"
          ]
        },
        {
          "output_type": "stream",
          "name": "stderr",
          "text": [
            "Epoch [805/5000]: 100%|██████████| 2/2 [00:00<00:00, 94.84it/s, loss=7.61]\n"
          ]
        },
        {
          "output_type": "stream",
          "name": "stdout",
          "text": [
            "Epoch [805/5000]: Train loss: 9.6478, Valid loss: 10.0920\n"
          ]
        },
        {
          "output_type": "stream",
          "name": "stderr",
          "text": [
            "Epoch [806/5000]: 100%|██████████| 2/2 [00:00<00:00, 87.95it/s, loss=11.9]\n"
          ]
        },
        {
          "output_type": "stream",
          "name": "stdout",
          "text": [
            "Epoch [806/5000]: Train loss: 10.2149, Valid loss: 10.0215\n"
          ]
        },
        {
          "output_type": "stream",
          "name": "stderr",
          "text": [
            "Epoch [807/5000]: 100%|██████████| 2/2 [00:00<00:00, 95.65it/s, loss=12.3]\n"
          ]
        },
        {
          "output_type": "stream",
          "name": "stdout",
          "text": [
            "Epoch [807/5000]: Train loss: 10.6936, Valid loss: 10.0339\n"
          ]
        },
        {
          "output_type": "stream",
          "name": "stderr",
          "text": [
            "Epoch [808/5000]: 100%|██████████| 2/2 [00:00<00:00, 86.37it/s, loss=12.9]\n"
          ]
        },
        {
          "output_type": "stream",
          "name": "stdout",
          "text": [
            "Epoch [808/5000]: Train loss: 11.0944, Valid loss: 9.9805\n"
          ]
        },
        {
          "output_type": "stream",
          "name": "stderr",
          "text": [
            "Epoch [809/5000]: 100%|██████████| 2/2 [00:00<00:00, 93.64it/s, loss=8]\n"
          ]
        },
        {
          "output_type": "stream",
          "name": "stdout",
          "text": [
            "Epoch [809/5000]: Train loss: 9.1795, Valid loss: 9.9108\n"
          ]
        },
        {
          "output_type": "stream",
          "name": "stderr",
          "text": [
            "Epoch [810/5000]: 100%|██████████| 2/2 [00:00<00:00, 96.79it/s, loss=7.83]\n"
          ]
        },
        {
          "output_type": "stream",
          "name": "stdout",
          "text": [
            "Epoch [810/5000]: Train loss: 9.3768, Valid loss: 9.9027\n"
          ]
        },
        {
          "output_type": "stream",
          "name": "stderr",
          "text": [
            "Epoch [811/5000]: 100%|██████████| 2/2 [00:00<00:00, 83.60it/s, loss=9.93]\n"
          ]
        },
        {
          "output_type": "stream",
          "name": "stdout",
          "text": [
            "Epoch [811/5000]: Train loss: 9.8292, Valid loss: 9.9262\n"
          ]
        },
        {
          "output_type": "stream",
          "name": "stderr",
          "text": [
            "Epoch [812/5000]: 100%|██████████| 2/2 [00:00<00:00, 84.84it/s, loss=8.36]\n"
          ]
        },
        {
          "output_type": "stream",
          "name": "stdout",
          "text": [
            "Epoch [812/5000]: Train loss: 8.7558, Valid loss: 9.9872\n"
          ]
        },
        {
          "output_type": "stream",
          "name": "stderr",
          "text": [
            "Epoch [813/5000]: 100%|██████████| 2/2 [00:00<00:00, 81.86it/s, loss=11.6]\n"
          ]
        },
        {
          "output_type": "stream",
          "name": "stdout",
          "text": [
            "Epoch [813/5000]: Train loss: 10.2664, Valid loss: 9.9686\n"
          ]
        },
        {
          "output_type": "stream",
          "name": "stderr",
          "text": [
            "Epoch [814/5000]: 100%|██████████| 2/2 [00:00<00:00, 94.67it/s, loss=11.5]\n"
          ]
        },
        {
          "output_type": "stream",
          "name": "stdout",
          "text": [
            "Epoch [814/5000]: Train loss: 10.3054, Valid loss: 9.9674\n"
          ]
        },
        {
          "output_type": "stream",
          "name": "stderr",
          "text": [
            "Epoch [815/5000]: 100%|██████████| 2/2 [00:00<00:00, 92.34it/s, loss=13.8]\n"
          ]
        },
        {
          "output_type": "stream",
          "name": "stdout",
          "text": [
            "Epoch [815/5000]: Train loss: 12.3090, Valid loss: 10.0102\n"
          ]
        },
        {
          "output_type": "stream",
          "name": "stderr",
          "text": [
            "Epoch [816/5000]: 100%|██████████| 2/2 [00:00<00:00, 92.95it/s, loss=7.67]\n"
          ]
        },
        {
          "output_type": "stream",
          "name": "stdout",
          "text": [
            "Epoch [816/5000]: Train loss: 8.8705, Valid loss: 9.9907\n"
          ]
        },
        {
          "output_type": "stream",
          "name": "stderr",
          "text": [
            "Epoch [817/5000]: 100%|██████████| 2/2 [00:00<00:00, 85.30it/s, loss=11.7]\n"
          ]
        },
        {
          "output_type": "stream",
          "name": "stdout",
          "text": [
            "Epoch [817/5000]: Train loss: 10.8015, Valid loss: 9.9701\n"
          ]
        },
        {
          "output_type": "stream",
          "name": "stderr",
          "text": [
            "Epoch [818/5000]: 100%|██████████| 2/2 [00:00<00:00, 82.67it/s, loss=10.4]\n"
          ]
        },
        {
          "output_type": "stream",
          "name": "stdout",
          "text": [
            "Epoch [818/5000]: Train loss: 10.6218, Valid loss: 9.9293\n"
          ]
        },
        {
          "output_type": "stream",
          "name": "stderr",
          "text": [
            "Epoch [819/5000]: 100%|██████████| 2/2 [00:00<00:00, 79.72it/s, loss=10.8]\n"
          ]
        },
        {
          "output_type": "stream",
          "name": "stdout",
          "text": [
            "Epoch [819/5000]: Train loss: 9.8626, Valid loss: 9.9238\n"
          ]
        },
        {
          "output_type": "stream",
          "name": "stderr",
          "text": [
            "Epoch [820/5000]: 100%|██████████| 2/2 [00:00<00:00, 89.80it/s, loss=8.49]\n"
          ]
        },
        {
          "output_type": "stream",
          "name": "stdout",
          "text": [
            "Epoch [820/5000]: Train loss: 9.0740, Valid loss: 9.9807\n"
          ]
        },
        {
          "output_type": "stream",
          "name": "stderr",
          "text": [
            "Epoch [821/5000]: 100%|██████████| 2/2 [00:00<00:00, 87.72it/s, loss=11.9]\n"
          ]
        },
        {
          "output_type": "stream",
          "name": "stdout",
          "text": [
            "Epoch [821/5000]: Train loss: 10.7975, Valid loss: 10.0415\n"
          ]
        },
        {
          "output_type": "stream",
          "name": "stderr",
          "text": [
            "Epoch [822/5000]: 100%|██████████| 2/2 [00:00<00:00, 91.76it/s, loss=10.8]\n"
          ]
        },
        {
          "output_type": "stream",
          "name": "stdout",
          "text": [
            "Epoch [822/5000]: Train loss: 10.5359, Valid loss: 10.0233\n"
          ]
        },
        {
          "output_type": "stream",
          "name": "stderr",
          "text": [
            "Epoch [823/5000]: 100%|██████████| 2/2 [00:00<00:00, 97.77it/s, loss=9.85]\n"
          ]
        },
        {
          "output_type": "stream",
          "name": "stdout",
          "text": [
            "Epoch [823/5000]: Train loss: 10.5746, Valid loss: 10.0586\n"
          ]
        },
        {
          "output_type": "stream",
          "name": "stderr",
          "text": [
            "Epoch [824/5000]: 100%|██████████| 2/2 [00:00<00:00, 96.05it/s, loss=9.11]\n"
          ]
        },
        {
          "output_type": "stream",
          "name": "stdout",
          "text": [
            "Epoch [824/5000]: Train loss: 9.6707, Valid loss: 10.0728\n"
          ]
        },
        {
          "output_type": "stream",
          "name": "stderr",
          "text": [
            "Epoch [825/5000]: 100%|██████████| 2/2 [00:00<00:00, 84.51it/s, loss=14.3]\n"
          ]
        },
        {
          "output_type": "stream",
          "name": "stdout",
          "text": [
            "Epoch [825/5000]: Train loss: 11.9669, Valid loss: 10.0011\n"
          ]
        },
        {
          "output_type": "stream",
          "name": "stderr",
          "text": [
            "Epoch [826/5000]: 100%|██████████| 2/2 [00:00<00:00, 81.08it/s, loss=10.9]\n"
          ]
        },
        {
          "output_type": "stream",
          "name": "stdout",
          "text": [
            "Epoch [826/5000]: Train loss: 10.5101, Valid loss: 9.9555\n"
          ]
        },
        {
          "output_type": "stream",
          "name": "stderr",
          "text": [
            "Epoch [827/5000]: 100%|██████████| 2/2 [00:00<00:00, 81.62it/s, loss=8.85]\n"
          ]
        },
        {
          "output_type": "stream",
          "name": "stdout",
          "text": [
            "Epoch [827/5000]: Train loss: 9.2412, Valid loss: 9.9844\n"
          ]
        },
        {
          "output_type": "stream",
          "name": "stderr",
          "text": [
            "Epoch [828/5000]: 100%|██████████| 2/2 [00:00<00:00, 93.76it/s, loss=12.4]\n"
          ]
        },
        {
          "output_type": "stream",
          "name": "stdout",
          "text": [
            "Epoch [828/5000]: Train loss: 11.3394, Valid loss: 10.0084\n"
          ]
        },
        {
          "output_type": "stream",
          "name": "stderr",
          "text": [
            "Epoch [829/5000]: 100%|██████████| 2/2 [00:00<00:00, 89.67it/s, loss=8.47]\n"
          ]
        },
        {
          "output_type": "stream",
          "name": "stdout",
          "text": [
            "Epoch [829/5000]: Train loss: 9.1332, Valid loss: 10.0354\n"
          ]
        },
        {
          "output_type": "stream",
          "name": "stderr",
          "text": [
            "Epoch [830/5000]: 100%|██████████| 2/2 [00:00<00:00, 92.54it/s, loss=12.2]\n"
          ]
        },
        {
          "output_type": "stream",
          "name": "stdout",
          "text": [
            "Epoch [830/5000]: Train loss: 11.1986, Valid loss: 10.0514\n"
          ]
        },
        {
          "output_type": "stream",
          "name": "stderr",
          "text": [
            "Epoch [831/5000]: 100%|██████████| 2/2 [00:00<00:00, 100.55it/s, loss=9.34]\n"
          ]
        },
        {
          "output_type": "stream",
          "name": "stdout",
          "text": [
            "Epoch [831/5000]: Train loss: 9.6821, Valid loss: 10.0748\n"
          ]
        },
        {
          "output_type": "stream",
          "name": "stderr",
          "text": [
            "Epoch [832/5000]: 100%|██████████| 2/2 [00:00<00:00, 98.80it/s, loss=11.2]\n"
          ]
        },
        {
          "output_type": "stream",
          "name": "stdout",
          "text": [
            "Epoch [832/5000]: Train loss: 10.4868, Valid loss: 10.0615\n"
          ]
        },
        {
          "output_type": "stream",
          "name": "stderr",
          "text": [
            "Epoch [833/5000]: 100%|██████████| 2/2 [00:00<00:00, 134.94it/s, loss=7.08]\n"
          ]
        },
        {
          "output_type": "stream",
          "name": "stdout",
          "text": [
            "Epoch [833/5000]: Train loss: 8.9901, Valid loss: 10.1191\n"
          ]
        },
        {
          "output_type": "stream",
          "name": "stderr",
          "text": [
            "Epoch [834/5000]: 100%|██████████| 2/2 [00:00<00:00, 98.58it/s, loss=11]\n"
          ]
        },
        {
          "output_type": "stream",
          "name": "stdout",
          "text": [
            "Epoch [834/5000]: Train loss: 11.1958, Valid loss: 10.1419\n"
          ]
        },
        {
          "output_type": "stream",
          "name": "stderr",
          "text": [
            "Epoch [835/5000]: 100%|██████████| 2/2 [00:00<00:00, 77.63it/s, loss=11.3]\n"
          ]
        },
        {
          "output_type": "stream",
          "name": "stdout",
          "text": [
            "Epoch [835/5000]: Train loss: 10.9348, Valid loss: 10.1194\n"
          ]
        },
        {
          "output_type": "stream",
          "name": "stderr",
          "text": [
            "Epoch [836/5000]: 100%|██████████| 2/2 [00:00<00:00, 89.69it/s, loss=9.56]\n"
          ]
        },
        {
          "output_type": "stream",
          "name": "stdout",
          "text": [
            "Epoch [836/5000]: Train loss: 9.5414, Valid loss: 10.1393\n"
          ]
        },
        {
          "output_type": "stream",
          "name": "stderr",
          "text": [
            "Epoch [837/5000]: 100%|██████████| 2/2 [00:00<00:00, 79.48it/s, loss=15.5]\n"
          ]
        },
        {
          "output_type": "stream",
          "name": "stdout",
          "text": [
            "Epoch [837/5000]: Train loss: 12.5240, Valid loss: 10.0718\n"
          ]
        },
        {
          "output_type": "stream",
          "name": "stderr",
          "text": [
            "Epoch [838/5000]: 100%|██████████| 2/2 [00:00<00:00, 28.13it/s, loss=12.5]\n"
          ]
        },
        {
          "output_type": "stream",
          "name": "stdout",
          "text": [
            "Epoch [838/5000]: Train loss: 11.2738, Valid loss: 10.0487\n"
          ]
        },
        {
          "output_type": "stream",
          "name": "stderr",
          "text": [
            "Epoch [839/5000]: 100%|██████████| 2/2 [00:00<00:00, 79.98it/s, loss=7.67]\n"
          ]
        },
        {
          "output_type": "stream",
          "name": "stdout",
          "text": [
            "Epoch [839/5000]: Train loss: 8.9111, Valid loss: 10.0984\n"
          ]
        },
        {
          "output_type": "stream",
          "name": "stderr",
          "text": [
            "Epoch [840/5000]: 100%|██████████| 2/2 [00:00<00:00, 83.45it/s, loss=12]\n"
          ]
        },
        {
          "output_type": "stream",
          "name": "stdout",
          "text": [
            "Epoch [840/5000]: Train loss: 11.4589, Valid loss: 10.1232\n"
          ]
        },
        {
          "output_type": "stream",
          "name": "stderr",
          "text": [
            "Epoch [841/5000]: 100%|██████████| 2/2 [00:00<00:00, 79.33it/s, loss=11.4]\n"
          ]
        },
        {
          "output_type": "stream",
          "name": "stdout",
          "text": [
            "Epoch [841/5000]: Train loss: 11.2055, Valid loss: 10.1624\n"
          ]
        },
        {
          "output_type": "stream",
          "name": "stderr",
          "text": [
            "Epoch [842/5000]: 100%|██████████| 2/2 [00:00<00:00, 138.59it/s, loss=10.5]\n"
          ]
        },
        {
          "output_type": "stream",
          "name": "stdout",
          "text": [
            "Epoch [842/5000]: Train loss: 10.6696, Valid loss: 10.1796\n"
          ]
        },
        {
          "output_type": "stream",
          "name": "stderr",
          "text": [
            "Epoch [843/5000]: 100%|██████████| 2/2 [00:00<00:00, 77.45it/s, loss=11.6]\n"
          ]
        },
        {
          "output_type": "stream",
          "name": "stdout",
          "text": [
            "Epoch [843/5000]: Train loss: 10.7844, Valid loss: 10.1038\n"
          ]
        },
        {
          "output_type": "stream",
          "name": "stderr",
          "text": [
            "Epoch [844/5000]: 100%|██████████| 2/2 [00:00<00:00, 38.37it/s, loss=12.1]\n"
          ]
        },
        {
          "output_type": "stream",
          "name": "stdout",
          "text": [
            "Epoch [844/5000]: Train loss: 11.3472, Valid loss: 10.1420\n"
          ]
        },
        {
          "output_type": "stream",
          "name": "stderr",
          "text": [
            "Epoch [845/5000]: 100%|██████████| 2/2 [00:00<00:00, 98.11it/s, loss=9.8]\n"
          ]
        },
        {
          "output_type": "stream",
          "name": "stdout",
          "text": [
            "Epoch [845/5000]: Train loss: 10.2214, Valid loss: 10.0687\n"
          ]
        },
        {
          "output_type": "stream",
          "name": "stderr",
          "text": [
            "Epoch [846/5000]: 100%|██████████| 2/2 [00:00<00:00, 103.33it/s, loss=10.4]\n"
          ]
        },
        {
          "output_type": "stream",
          "name": "stdout",
          "text": [
            "Epoch [846/5000]: Train loss: 10.2869, Valid loss: 9.9761\n"
          ]
        },
        {
          "output_type": "stream",
          "name": "stderr",
          "text": [
            "Epoch [847/5000]: 100%|██████████| 2/2 [00:00<00:00, 91.15it/s, loss=9.91]\n"
          ]
        },
        {
          "output_type": "stream",
          "name": "stdout",
          "text": [
            "Epoch [847/5000]: Train loss: 9.6274, Valid loss: 9.9202\n"
          ]
        },
        {
          "output_type": "stream",
          "name": "stderr",
          "text": [
            "Epoch [848/5000]: 100%|██████████| 2/2 [00:00<00:00, 104.91it/s, loss=10.1]\n"
          ]
        },
        {
          "output_type": "stream",
          "name": "stdout",
          "text": [
            "Epoch [848/5000]: Train loss: 9.7997, Valid loss: 9.8686\n"
          ]
        },
        {
          "output_type": "stream",
          "name": "stderr",
          "text": [
            "Epoch [849/5000]: 100%|██████████| 2/2 [00:00<00:00, 100.01it/s, loss=11]\n"
          ]
        },
        {
          "output_type": "stream",
          "name": "stdout",
          "text": [
            "Epoch [849/5000]: Train loss: 10.6568, Valid loss: 9.8150\n"
          ]
        },
        {
          "output_type": "stream",
          "name": "stderr",
          "text": [
            "Epoch [850/5000]: 100%|██████████| 2/2 [00:00<00:00, 98.90it/s, loss=9.52]\n"
          ]
        },
        {
          "output_type": "stream",
          "name": "stdout",
          "text": [
            "Epoch [850/5000]: Train loss: 9.8057, Valid loss: 9.7977\n",
            "Saving model with loss 9.798...\n"
          ]
        },
        {
          "output_type": "stream",
          "name": "stderr",
          "text": [
            "Epoch [851/5000]: 100%|██████████| 2/2 [00:00<00:00, 86.17it/s, loss=11.7]\n"
          ]
        },
        {
          "output_type": "stream",
          "name": "stdout",
          "text": [
            "Epoch [851/5000]: Train loss: 9.8748, Valid loss: 9.7775\n",
            "Saving model with loss 9.778...\n"
          ]
        },
        {
          "output_type": "stream",
          "name": "stderr",
          "text": [
            "Epoch [852/5000]: 100%|██████████| 2/2 [00:00<00:00, 98.04it/s, loss=11.5]\n"
          ]
        },
        {
          "output_type": "stream",
          "name": "stdout",
          "text": [
            "Epoch [852/5000]: Train loss: 10.9084, Valid loss: 9.7729\n",
            "Saving model with loss 9.773...\n"
          ]
        },
        {
          "output_type": "stream",
          "name": "stderr",
          "text": [
            "Epoch [853/5000]: 100%|██████████| 2/2 [00:00<00:00, 94.54it/s, loss=13.2]\n"
          ]
        },
        {
          "output_type": "stream",
          "name": "stdout",
          "text": [
            "Epoch [853/5000]: Train loss: 11.2985, Valid loss: 9.7566\n",
            "Saving model with loss 9.757...\n"
          ]
        },
        {
          "output_type": "stream",
          "name": "stderr",
          "text": [
            "Epoch [854/5000]: 100%|██████████| 2/2 [00:00<00:00, 90.29it/s, loss=11.5]\n"
          ]
        },
        {
          "output_type": "stream",
          "name": "stdout",
          "text": [
            "Epoch [854/5000]: Train loss: 10.8215, Valid loss: 9.8395\n"
          ]
        },
        {
          "output_type": "stream",
          "name": "stderr",
          "text": [
            "Epoch [855/5000]: 100%|██████████| 2/2 [00:00<00:00, 111.59it/s, loss=10.4]\n"
          ]
        },
        {
          "output_type": "stream",
          "name": "stdout",
          "text": [
            "Epoch [855/5000]: Train loss: 10.1804, Valid loss: 9.8286\n"
          ]
        },
        {
          "output_type": "stream",
          "name": "stderr",
          "text": [
            "Epoch [856/5000]: 100%|██████████| 2/2 [00:00<00:00, 88.27it/s, loss=10.4]\n"
          ]
        },
        {
          "output_type": "stream",
          "name": "stdout",
          "text": [
            "Epoch [856/5000]: Train loss: 10.7090, Valid loss: 9.8234\n"
          ]
        },
        {
          "output_type": "stream",
          "name": "stderr",
          "text": [
            "Epoch [857/5000]: 100%|██████████| 2/2 [00:00<00:00, 90.05it/s, loss=14.6]\n"
          ]
        },
        {
          "output_type": "stream",
          "name": "stdout",
          "text": [
            "Epoch [857/5000]: Train loss: 12.4209, Valid loss: 9.8847\n"
          ]
        },
        {
          "output_type": "stream",
          "name": "stderr",
          "text": [
            "Epoch [858/5000]: 100%|██████████| 2/2 [00:00<00:00, 83.90it/s, loss=12.2]\n"
          ]
        },
        {
          "output_type": "stream",
          "name": "stdout",
          "text": [
            "Epoch [858/5000]: Train loss: 11.0670, Valid loss: 9.9422\n"
          ]
        },
        {
          "output_type": "stream",
          "name": "stderr",
          "text": [
            "Epoch [859/5000]: 100%|██████████| 2/2 [00:00<00:00, 79.45it/s, loss=11.2]\n"
          ]
        },
        {
          "output_type": "stream",
          "name": "stdout",
          "text": [
            "Epoch [859/5000]: Train loss: 10.5996, Valid loss: 9.9246\n"
          ]
        },
        {
          "output_type": "stream",
          "name": "stderr",
          "text": [
            "Epoch [860/5000]: 100%|██████████| 2/2 [00:00<00:00, 98.94it/s, loss=11]\n"
          ]
        },
        {
          "output_type": "stream",
          "name": "stdout",
          "text": [
            "Epoch [860/5000]: Train loss: 10.6038, Valid loss: 9.8826\n"
          ]
        },
        {
          "output_type": "stream",
          "name": "stderr",
          "text": [
            "Epoch [861/5000]: 100%|██████████| 2/2 [00:00<00:00, 105.07it/s, loss=10.7]\n"
          ]
        },
        {
          "output_type": "stream",
          "name": "stdout",
          "text": [
            "Epoch [861/5000]: Train loss: 9.7680, Valid loss: 9.9565\n"
          ]
        },
        {
          "output_type": "stream",
          "name": "stderr",
          "text": [
            "Epoch [862/5000]: 100%|██████████| 2/2 [00:00<00:00, 79.30it/s, loss=16.2]\n"
          ]
        },
        {
          "output_type": "stream",
          "name": "stdout",
          "text": [
            "Epoch [862/5000]: Train loss: 12.4007, Valid loss: 9.9888\n"
          ]
        },
        {
          "output_type": "stream",
          "name": "stderr",
          "text": [
            "Epoch [863/5000]: 100%|██████████| 2/2 [00:00<00:00, 81.80it/s, loss=9.06]\n"
          ]
        },
        {
          "output_type": "stream",
          "name": "stdout",
          "text": [
            "Epoch [863/5000]: Train loss: 9.4123, Valid loss: 9.9367\n"
          ]
        },
        {
          "output_type": "stream",
          "name": "stderr",
          "text": [
            "Epoch [864/5000]: 100%|██████████| 2/2 [00:00<00:00, 81.04it/s, loss=8.51]\n"
          ]
        },
        {
          "output_type": "stream",
          "name": "stdout",
          "text": [
            "Epoch [864/5000]: Train loss: 9.5224, Valid loss: 10.0122\n"
          ]
        },
        {
          "output_type": "stream",
          "name": "stderr",
          "text": [
            "Epoch [865/5000]: 100%|██████████| 2/2 [00:00<00:00, 76.19it/s, loss=13.9]\n"
          ]
        },
        {
          "output_type": "stream",
          "name": "stdout",
          "text": [
            "Epoch [865/5000]: Train loss: 11.8728, Valid loss: 10.0386\n"
          ]
        },
        {
          "output_type": "stream",
          "name": "stderr",
          "text": [
            "Epoch [866/5000]: 100%|██████████| 2/2 [00:00<00:00, 87.49it/s, loss=9.18]\n"
          ]
        },
        {
          "output_type": "stream",
          "name": "stdout",
          "text": [
            "Epoch [866/5000]: Train loss: 10.1984, Valid loss: 9.9803\n"
          ]
        },
        {
          "output_type": "stream",
          "name": "stderr",
          "text": [
            "Epoch [867/5000]: 100%|██████████| 2/2 [00:00<00:00, 83.94it/s, loss=10.5]\n"
          ]
        },
        {
          "output_type": "stream",
          "name": "stdout",
          "text": [
            "Epoch [867/5000]: Train loss: 10.6200, Valid loss: 9.9538\n"
          ]
        },
        {
          "output_type": "stream",
          "name": "stderr",
          "text": [
            "Epoch [868/5000]: 100%|██████████| 2/2 [00:00<00:00, 89.73it/s, loss=9.74]\n"
          ]
        },
        {
          "output_type": "stream",
          "name": "stdout",
          "text": [
            "Epoch [868/5000]: Train loss: 9.6416, Valid loss: 10.0299\n"
          ]
        },
        {
          "output_type": "stream",
          "name": "stderr",
          "text": [
            "Epoch [869/5000]: 100%|██████████| 2/2 [00:00<00:00, 94.58it/s, loss=7.84]\n"
          ]
        },
        {
          "output_type": "stream",
          "name": "stdout",
          "text": [
            "Epoch [869/5000]: Train loss: 8.8107, Valid loss: 10.0051\n"
          ]
        },
        {
          "output_type": "stream",
          "name": "stderr",
          "text": [
            "Epoch [870/5000]: 100%|██████████| 2/2 [00:00<00:00, 104.92it/s, loss=10.5]\n"
          ]
        },
        {
          "output_type": "stream",
          "name": "stdout",
          "text": [
            "Epoch [870/5000]: Train loss: 9.8397, Valid loss: 9.9949\n"
          ]
        },
        {
          "output_type": "stream",
          "name": "stderr",
          "text": [
            "Epoch [871/5000]: 100%|██████████| 2/2 [00:00<00:00, 80.42it/s, loss=13.9]\n"
          ]
        },
        {
          "output_type": "stream",
          "name": "stdout",
          "text": [
            "Epoch [871/5000]: Train loss: 12.2751, Valid loss: 9.9487\n"
          ]
        },
        {
          "output_type": "stream",
          "name": "stderr",
          "text": [
            "Epoch [872/5000]: 100%|██████████| 2/2 [00:00<00:00, 92.41it/s, loss=7.8]\n"
          ]
        },
        {
          "output_type": "stream",
          "name": "stdout",
          "text": [
            "Epoch [872/5000]: Train loss: 8.7748, Valid loss: 9.9633\n"
          ]
        },
        {
          "output_type": "stream",
          "name": "stderr",
          "text": [
            "Epoch [873/5000]: 100%|██████████| 2/2 [00:00<00:00, 93.47it/s, loss=8.71]\n"
          ]
        },
        {
          "output_type": "stream",
          "name": "stdout",
          "text": [
            "Epoch [873/5000]: Train loss: 9.3624, Valid loss: 9.9685\n"
          ]
        },
        {
          "output_type": "stream",
          "name": "stderr",
          "text": [
            "Epoch [874/5000]: 100%|██████████| 2/2 [00:00<00:00, 68.10it/s, loss=9.57]\n"
          ]
        },
        {
          "output_type": "stream",
          "name": "stdout",
          "text": [
            "Epoch [874/5000]: Train loss: 10.0612, Valid loss: 9.9598\n"
          ]
        },
        {
          "output_type": "stream",
          "name": "stderr",
          "text": [
            "Epoch [875/5000]: 100%|██████████| 2/2 [00:00<00:00, 71.71it/s, loss=8.73]\n"
          ]
        },
        {
          "output_type": "stream",
          "name": "stdout",
          "text": [
            "Epoch [875/5000]: Train loss: 9.2393, Valid loss: 10.0563\n"
          ]
        },
        {
          "output_type": "stream",
          "name": "stderr",
          "text": [
            "Epoch [876/5000]: 100%|██████████| 2/2 [00:00<00:00, 78.26it/s, loss=10.7]\n"
          ]
        },
        {
          "output_type": "stream",
          "name": "stdout",
          "text": [
            "Epoch [876/5000]: Train loss: 10.2476, Valid loss: 10.0298\n"
          ]
        },
        {
          "output_type": "stream",
          "name": "stderr",
          "text": [
            "Epoch [877/5000]: 100%|██████████| 2/2 [00:00<00:00, 121.95it/s, loss=9.03]\n"
          ]
        },
        {
          "output_type": "stream",
          "name": "stdout",
          "text": [
            "Epoch [877/5000]: Train loss: 9.7637, Valid loss: 10.0166\n"
          ]
        },
        {
          "output_type": "stream",
          "name": "stderr",
          "text": [
            "Epoch [878/5000]: 100%|██████████| 2/2 [00:00<00:00, 110.86it/s, loss=9.53]\n"
          ]
        },
        {
          "output_type": "stream",
          "name": "stdout",
          "text": [
            "Epoch [878/5000]: Train loss: 10.1306, Valid loss: 10.0382\n"
          ]
        },
        {
          "output_type": "stream",
          "name": "stderr",
          "text": [
            "Epoch [879/5000]: 100%|██████████| 2/2 [00:00<00:00, 92.24it/s, loss=11.7]\n"
          ]
        },
        {
          "output_type": "stream",
          "name": "stdout",
          "text": [
            "Epoch [879/5000]: Train loss: 10.4120, Valid loss: 10.0421\n"
          ]
        },
        {
          "output_type": "stream",
          "name": "stderr",
          "text": [
            "Epoch [880/5000]: 100%|██████████| 2/2 [00:00<00:00, 131.91it/s, loss=11.3]\n"
          ]
        },
        {
          "output_type": "stream",
          "name": "stdout",
          "text": [
            "Epoch [880/5000]: Train loss: 10.4249, Valid loss: 10.0049\n"
          ]
        },
        {
          "output_type": "stream",
          "name": "stderr",
          "text": [
            "Epoch [881/5000]: 100%|██████████| 2/2 [00:00<00:00, 88.24it/s, loss=9.08]\n"
          ]
        },
        {
          "output_type": "stream",
          "name": "stdout",
          "text": [
            "Epoch [881/5000]: Train loss: 9.4116, Valid loss: 9.9892\n"
          ]
        },
        {
          "output_type": "stream",
          "name": "stderr",
          "text": [
            "Epoch [882/5000]: 100%|██████████| 2/2 [00:00<00:00, 122.17it/s, loss=13.8]\n"
          ]
        },
        {
          "output_type": "stream",
          "name": "stdout",
          "text": [
            "Epoch [882/5000]: Train loss: 11.5432, Valid loss: 9.9807\n"
          ]
        },
        {
          "output_type": "stream",
          "name": "stderr",
          "text": [
            "Epoch [883/5000]: 100%|██████████| 2/2 [00:00<00:00, 84.30it/s, loss=8.53]\n"
          ]
        },
        {
          "output_type": "stream",
          "name": "stdout",
          "text": [
            "Epoch [883/5000]: Train loss: 9.8679, Valid loss: 9.9858\n"
          ]
        },
        {
          "output_type": "stream",
          "name": "stderr",
          "text": [
            "Epoch [884/5000]: 100%|██████████| 2/2 [00:00<00:00, 118.67it/s, loss=9.39]\n"
          ]
        },
        {
          "output_type": "stream",
          "name": "stdout",
          "text": [
            "Epoch [884/5000]: Train loss: 9.9608, Valid loss: 10.0095\n"
          ]
        },
        {
          "output_type": "stream",
          "name": "stderr",
          "text": [
            "Epoch [885/5000]: 100%|██████████| 2/2 [00:00<00:00, 90.00it/s, loss=10.8]\n"
          ]
        },
        {
          "output_type": "stream",
          "name": "stdout",
          "text": [
            "Epoch [885/5000]: Train loss: 10.8000, Valid loss: 9.9807\n"
          ]
        },
        {
          "output_type": "stream",
          "name": "stderr",
          "text": [
            "Epoch [886/5000]: 100%|██████████| 2/2 [00:00<00:00, 84.17it/s, loss=9.34]\n"
          ]
        },
        {
          "output_type": "stream",
          "name": "stdout",
          "text": [
            "Epoch [886/5000]: Train loss: 9.9504, Valid loss: 9.9872\n"
          ]
        },
        {
          "output_type": "stream",
          "name": "stderr",
          "text": [
            "Epoch [887/5000]: 100%|██████████| 2/2 [00:00<00:00, 20.28it/s, loss=10.5]\n"
          ]
        },
        {
          "output_type": "stream",
          "name": "stdout",
          "text": [
            "Epoch [887/5000]: Train loss: 10.0875, Valid loss: 10.0020\n"
          ]
        },
        {
          "output_type": "stream",
          "name": "stderr",
          "text": [
            "Epoch [888/5000]: 100%|██████████| 2/2 [00:00<00:00, 86.23it/s, loss=11.9]\n"
          ]
        },
        {
          "output_type": "stream",
          "name": "stdout",
          "text": [
            "Epoch [888/5000]: Train loss: 10.9706, Valid loss: 10.0514\n"
          ]
        },
        {
          "output_type": "stream",
          "name": "stderr",
          "text": [
            "Epoch [889/5000]: 100%|██████████| 2/2 [00:00<00:00, 88.65it/s, loss=8.94]\n"
          ]
        },
        {
          "output_type": "stream",
          "name": "stdout",
          "text": [
            "Epoch [889/5000]: Train loss: 9.3454, Valid loss: 10.0065\n"
          ]
        },
        {
          "output_type": "stream",
          "name": "stderr",
          "text": [
            "Epoch [890/5000]: 100%|██████████| 2/2 [00:00<00:00, 93.94it/s, loss=12.5]\n"
          ]
        },
        {
          "output_type": "stream",
          "name": "stdout",
          "text": [
            "Epoch [890/5000]: Train loss: 11.4484, Valid loss: 10.0173\n"
          ]
        },
        {
          "output_type": "stream",
          "name": "stderr",
          "text": [
            "Epoch [891/5000]: 100%|██████████| 2/2 [00:00<00:00, 99.68it/s, loss=8.38]\n"
          ]
        },
        {
          "output_type": "stream",
          "name": "stdout",
          "text": [
            "Epoch [891/5000]: Train loss: 9.1940, Valid loss: 10.0279\n"
          ]
        },
        {
          "output_type": "stream",
          "name": "stderr",
          "text": [
            "Epoch [892/5000]: 100%|██████████| 2/2 [00:00<00:00, 73.11it/s, loss=9.62]\n"
          ]
        },
        {
          "output_type": "stream",
          "name": "stdout",
          "text": [
            "Epoch [892/5000]: Train loss: 9.5446, Valid loss: 10.0433\n"
          ]
        },
        {
          "output_type": "stream",
          "name": "stderr",
          "text": [
            "Epoch [893/5000]: 100%|██████████| 2/2 [00:00<00:00, 87.31it/s, loss=11.6]\n"
          ]
        },
        {
          "output_type": "stream",
          "name": "stdout",
          "text": [
            "Epoch [893/5000]: Train loss: 11.0975, Valid loss: 10.0255\n"
          ]
        },
        {
          "output_type": "stream",
          "name": "stderr",
          "text": [
            "Epoch [894/5000]: 100%|██████████| 2/2 [00:00<00:00, 111.24it/s, loss=11.2]\n"
          ]
        },
        {
          "output_type": "stream",
          "name": "stdout",
          "text": [
            "Epoch [894/5000]: Train loss: 11.3526, Valid loss: 10.0163\n"
          ]
        },
        {
          "output_type": "stream",
          "name": "stderr",
          "text": [
            "Epoch [895/5000]: 100%|██████████| 2/2 [00:00<00:00, 86.41it/s, loss=9.95]\n"
          ]
        },
        {
          "output_type": "stream",
          "name": "stdout",
          "text": [
            "Epoch [895/5000]: Train loss: 9.4713, Valid loss: 10.0165\n"
          ]
        },
        {
          "output_type": "stream",
          "name": "stderr",
          "text": [
            "Epoch [896/5000]: 100%|██████████| 2/2 [00:00<00:00, 13.14it/s, loss=8.62]\n"
          ]
        },
        {
          "output_type": "stream",
          "name": "stdout",
          "text": [
            "Epoch [896/5000]: Train loss: 9.8370, Valid loss: 10.0061\n"
          ]
        },
        {
          "output_type": "stream",
          "name": "stderr",
          "text": [
            "Epoch [897/5000]: 100%|██████████| 2/2 [00:00<00:00, 71.04it/s, loss=8.53]\n"
          ]
        },
        {
          "output_type": "stream",
          "name": "stdout",
          "text": [
            "Epoch [897/5000]: Train loss: 9.0071, Valid loss: 9.9753\n"
          ]
        },
        {
          "output_type": "stream",
          "name": "stderr",
          "text": [
            "Epoch [898/5000]: 100%|██████████| 2/2 [00:00<00:00, 77.32it/s, loss=9.3]\n"
          ]
        },
        {
          "output_type": "stream",
          "name": "stdout",
          "text": [
            "Epoch [898/5000]: Train loss: 9.4886, Valid loss: 10.0083\n"
          ]
        },
        {
          "output_type": "stream",
          "name": "stderr",
          "text": [
            "Epoch [899/5000]: 100%|██████████| 2/2 [00:00<00:00, 79.38it/s, loss=8.51]\n"
          ]
        },
        {
          "output_type": "stream",
          "name": "stdout",
          "text": [
            "Epoch [899/5000]: Train loss: 9.3099, Valid loss: 9.9605\n"
          ]
        },
        {
          "output_type": "stream",
          "name": "stderr",
          "text": [
            "Epoch [900/5000]: 100%|██████████| 2/2 [00:00<00:00, 89.44it/s, loss=10.7]\n"
          ]
        },
        {
          "output_type": "stream",
          "name": "stdout",
          "text": [
            "Epoch [900/5000]: Train loss: 10.8249, Valid loss: 9.9952\n"
          ]
        },
        {
          "output_type": "stream",
          "name": "stderr",
          "text": [
            "Epoch [901/5000]: 100%|██████████| 2/2 [00:00<00:00, 83.32it/s, loss=12.9]\n"
          ]
        },
        {
          "output_type": "stream",
          "name": "stdout",
          "text": [
            "Epoch [901/5000]: Train loss: 11.5978, Valid loss: 10.0451\n"
          ]
        },
        {
          "output_type": "stream",
          "name": "stderr",
          "text": [
            "Epoch [902/5000]: 100%|██████████| 2/2 [00:00<00:00, 102.62it/s, loss=13.7]\n"
          ]
        },
        {
          "output_type": "stream",
          "name": "stdout",
          "text": [
            "Epoch [902/5000]: Train loss: 11.8679, Valid loss: 10.0500\n"
          ]
        },
        {
          "output_type": "stream",
          "name": "stderr",
          "text": [
            "Epoch [903/5000]: 100%|██████████| 2/2 [00:00<00:00, 76.94it/s, loss=14.6]\n"
          ]
        },
        {
          "output_type": "stream",
          "name": "stdout",
          "text": [
            "Epoch [903/5000]: Train loss: 12.2567, Valid loss: 10.0161\n"
          ]
        },
        {
          "output_type": "stream",
          "name": "stderr",
          "text": [
            "Epoch [904/5000]: 100%|██████████| 2/2 [00:00<00:00, 85.02it/s, loss=11.8]\n"
          ]
        },
        {
          "output_type": "stream",
          "name": "stdout",
          "text": [
            "Epoch [904/5000]: Train loss: 11.0466, Valid loss: 9.9609\n"
          ]
        },
        {
          "output_type": "stream",
          "name": "stderr",
          "text": [
            "Epoch [905/5000]: 100%|██████████| 2/2 [00:00<00:00, 98.13it/s, loss=9.26]\n"
          ]
        },
        {
          "output_type": "stream",
          "name": "stdout",
          "text": [
            "Epoch [905/5000]: Train loss: 10.2097, Valid loss: 9.9913\n"
          ]
        },
        {
          "output_type": "stream",
          "name": "stderr",
          "text": [
            "Epoch [906/5000]: 100%|██████████| 2/2 [00:00<00:00, 90.94it/s, loss=10.1]\n"
          ]
        },
        {
          "output_type": "stream",
          "name": "stdout",
          "text": [
            "Epoch [906/5000]: Train loss: 10.1081, Valid loss: 10.0105\n"
          ]
        },
        {
          "output_type": "stream",
          "name": "stderr",
          "text": [
            "Epoch [907/5000]: 100%|██████████| 2/2 [00:00<00:00, 93.53it/s, loss=11.1]\n"
          ]
        },
        {
          "output_type": "stream",
          "name": "stdout",
          "text": [
            "Epoch [907/5000]: Train loss: 10.5530, Valid loss: 10.0078\n"
          ]
        },
        {
          "output_type": "stream",
          "name": "stderr",
          "text": [
            "Epoch [908/5000]: 100%|██████████| 2/2 [00:00<00:00, 94.00it/s, loss=7.56]\n"
          ]
        },
        {
          "output_type": "stream",
          "name": "stdout",
          "text": [
            "Epoch [908/5000]: Train loss: 9.0146, Valid loss: 10.0346\n"
          ]
        },
        {
          "output_type": "stream",
          "name": "stderr",
          "text": [
            "Epoch [909/5000]: 100%|██████████| 2/2 [00:00<00:00, 81.20it/s, loss=9.41]\n"
          ]
        },
        {
          "output_type": "stream",
          "name": "stdout",
          "text": [
            "Epoch [909/5000]: Train loss: 9.5950, Valid loss: 10.0836\n"
          ]
        },
        {
          "output_type": "stream",
          "name": "stderr",
          "text": [
            "Epoch [910/5000]: 100%|██████████| 2/2 [00:00<00:00, 96.55it/s, loss=10.1]\n"
          ]
        },
        {
          "output_type": "stream",
          "name": "stdout",
          "text": [
            "Epoch [910/5000]: Train loss: 9.5005, Valid loss: 10.1072\n"
          ]
        },
        {
          "output_type": "stream",
          "name": "stderr",
          "text": [
            "Epoch [911/5000]: 100%|██████████| 2/2 [00:00<00:00, 92.72it/s, loss=8.89]\n"
          ]
        },
        {
          "output_type": "stream",
          "name": "stdout",
          "text": [
            "Epoch [911/5000]: Train loss: 9.7801, Valid loss: 10.0825\n"
          ]
        },
        {
          "output_type": "stream",
          "name": "stderr",
          "text": [
            "Epoch [912/5000]: 100%|██████████| 2/2 [00:00<00:00, 82.45it/s, loss=12.3]\n"
          ]
        },
        {
          "output_type": "stream",
          "name": "stdout",
          "text": [
            "Epoch [912/5000]: Train loss: 11.1850, Valid loss: 10.1333\n"
          ]
        },
        {
          "output_type": "stream",
          "name": "stderr",
          "text": [
            "Epoch [913/5000]: 100%|██████████| 2/2 [00:00<00:00, 89.73it/s, loss=9.83]\n"
          ]
        },
        {
          "output_type": "stream",
          "name": "stdout",
          "text": [
            "Epoch [913/5000]: Train loss: 10.1858, Valid loss: 10.1241\n"
          ]
        },
        {
          "output_type": "stream",
          "name": "stderr",
          "text": [
            "Epoch [914/5000]: 100%|██████████| 2/2 [00:00<00:00, 89.73it/s, loss=11.6]\n"
          ]
        },
        {
          "output_type": "stream",
          "name": "stdout",
          "text": [
            "Epoch [914/5000]: Train loss: 11.2891, Valid loss: 10.1414\n"
          ]
        },
        {
          "output_type": "stream",
          "name": "stderr",
          "text": [
            "Epoch [915/5000]: 100%|██████████| 2/2 [00:00<00:00, 89.78it/s, loss=9.64]\n"
          ]
        },
        {
          "output_type": "stream",
          "name": "stdout",
          "text": [
            "Epoch [915/5000]: Train loss: 8.8926, Valid loss: 10.1731\n"
          ]
        },
        {
          "output_type": "stream",
          "name": "stderr",
          "text": [
            "Epoch [916/5000]: 100%|██████████| 2/2 [00:00<00:00, 94.73it/s, loss=8.96]\n"
          ]
        },
        {
          "output_type": "stream",
          "name": "stdout",
          "text": [
            "Epoch [916/5000]: Train loss: 9.1957, Valid loss: 10.1730\n"
          ]
        },
        {
          "output_type": "stream",
          "name": "stderr",
          "text": [
            "Epoch [917/5000]: 100%|██████████| 2/2 [00:00<00:00, 96.55it/s, loss=8.74]\n"
          ]
        },
        {
          "output_type": "stream",
          "name": "stdout",
          "text": [
            "Epoch [917/5000]: Train loss: 9.6651, Valid loss: 10.1080\n"
          ]
        },
        {
          "output_type": "stream",
          "name": "stderr",
          "text": [
            "Epoch [918/5000]: 100%|██████████| 2/2 [00:00<00:00, 92.12it/s, loss=8.94]\n"
          ]
        },
        {
          "output_type": "stream",
          "name": "stdout",
          "text": [
            "Epoch [918/5000]: Train loss: 9.7215, Valid loss: 10.1121\n"
          ]
        },
        {
          "output_type": "stream",
          "name": "stderr",
          "text": [
            "Epoch [919/5000]: 100%|██████████| 2/2 [00:00<00:00, 94.25it/s, loss=8.81]\n"
          ]
        },
        {
          "output_type": "stream",
          "name": "stdout",
          "text": [
            "Epoch [919/5000]: Train loss: 9.5416, Valid loss: 10.0649\n"
          ]
        },
        {
          "output_type": "stream",
          "name": "stderr",
          "text": [
            "Epoch [920/5000]: 100%|██████████| 2/2 [00:00<00:00, 89.30it/s, loss=9.2]\n"
          ]
        },
        {
          "output_type": "stream",
          "name": "stdout",
          "text": [
            "Epoch [920/5000]: Train loss: 9.3845, Valid loss: 9.9654\n"
          ]
        },
        {
          "output_type": "stream",
          "name": "stderr",
          "text": [
            "Epoch [921/5000]: 100%|██████████| 2/2 [00:00<00:00, 95.57it/s, loss=7.84]\n"
          ]
        },
        {
          "output_type": "stream",
          "name": "stdout",
          "text": [
            "Epoch [921/5000]: Train loss: 9.4708, Valid loss: 10.0015\n"
          ]
        },
        {
          "output_type": "stream",
          "name": "stderr",
          "text": [
            "Epoch [922/5000]: 100%|██████████| 2/2 [00:00<00:00, 94.63it/s, loss=7.88]\n"
          ]
        },
        {
          "output_type": "stream",
          "name": "stdout",
          "text": [
            "Epoch [922/5000]: Train loss: 9.0305, Valid loss: 10.0430\n"
          ]
        },
        {
          "output_type": "stream",
          "name": "stderr",
          "text": [
            "Epoch [923/5000]: 100%|██████████| 2/2 [00:00<00:00, 96.08it/s, loss=8.85]\n"
          ]
        },
        {
          "output_type": "stream",
          "name": "stdout",
          "text": [
            "Epoch [923/5000]: Train loss: 9.3828, Valid loss: 10.0487\n"
          ]
        },
        {
          "output_type": "stream",
          "name": "stderr",
          "text": [
            "Epoch [924/5000]: 100%|██████████| 2/2 [00:00<00:00, 76.95it/s, loss=10.9]\n"
          ]
        },
        {
          "output_type": "stream",
          "name": "stdout",
          "text": [
            "Epoch [924/5000]: Train loss: 10.8959, Valid loss: 10.0191\n"
          ]
        },
        {
          "output_type": "stream",
          "name": "stderr",
          "text": [
            "Epoch [925/5000]: 100%|██████████| 2/2 [00:00<00:00, 91.57it/s, loss=8.16]\n"
          ]
        },
        {
          "output_type": "stream",
          "name": "stdout",
          "text": [
            "Epoch [925/5000]: Train loss: 8.7014, Valid loss: 10.0565\n"
          ]
        },
        {
          "output_type": "stream",
          "name": "stderr",
          "text": [
            "Epoch [926/5000]: 100%|██████████| 2/2 [00:00<00:00, 96.81it/s, loss=10.8]\n"
          ]
        },
        {
          "output_type": "stream",
          "name": "stdout",
          "text": [
            "Epoch [926/5000]: Train loss: 10.6355, Valid loss: 10.0826\n"
          ]
        },
        {
          "output_type": "stream",
          "name": "stderr",
          "text": [
            "Epoch [927/5000]: 100%|██████████| 2/2 [00:00<00:00, 73.77it/s, loss=11.1]\n"
          ]
        },
        {
          "output_type": "stream",
          "name": "stdout",
          "text": [
            "Epoch [927/5000]: Train loss: 10.4929, Valid loss: 9.9840\n"
          ]
        },
        {
          "output_type": "stream",
          "name": "stderr",
          "text": [
            "Epoch [928/5000]: 100%|██████████| 2/2 [00:00<00:00, 98.42it/s, loss=8.82]\n"
          ]
        },
        {
          "output_type": "stream",
          "name": "stdout",
          "text": [
            "Epoch [928/5000]: Train loss: 9.6533, Valid loss: 9.9374\n"
          ]
        },
        {
          "output_type": "stream",
          "name": "stderr",
          "text": [
            "Epoch [929/5000]: 100%|██████████| 2/2 [00:00<00:00, 91.92it/s, loss=11.4]\n"
          ]
        },
        {
          "output_type": "stream",
          "name": "stdout",
          "text": [
            "Epoch [929/5000]: Train loss: 11.6398, Valid loss: 9.9096\n"
          ]
        },
        {
          "output_type": "stream",
          "name": "stderr",
          "text": [
            "Epoch [930/5000]: 100%|██████████| 2/2 [00:00<00:00, 76.89it/s, loss=10.6]\n"
          ]
        },
        {
          "output_type": "stream",
          "name": "stdout",
          "text": [
            "Epoch [930/5000]: Train loss: 9.9651, Valid loss: 9.9209\n"
          ]
        },
        {
          "output_type": "stream",
          "name": "stderr",
          "text": [
            "Epoch [931/5000]: 100%|██████████| 2/2 [00:00<00:00, 94.40it/s, loss=10.1]\n"
          ]
        },
        {
          "output_type": "stream",
          "name": "stdout",
          "text": [
            "Epoch [931/5000]: Train loss: 9.9381, Valid loss: 9.9409\n"
          ]
        },
        {
          "output_type": "stream",
          "name": "stderr",
          "text": [
            "Epoch [932/5000]: 100%|██████████| 2/2 [00:00<00:00, 97.47it/s, loss=11.9]\n"
          ]
        },
        {
          "output_type": "stream",
          "name": "stdout",
          "text": [
            "Epoch [932/5000]: Train loss: 10.5980, Valid loss: 9.9446\n"
          ]
        },
        {
          "output_type": "stream",
          "name": "stderr",
          "text": [
            "Epoch [933/5000]: 100%|██████████| 2/2 [00:00<00:00, 100.34it/s, loss=7.63]\n"
          ]
        },
        {
          "output_type": "stream",
          "name": "stdout",
          "text": [
            "Epoch [933/5000]: Train loss: 8.9546, Valid loss: 9.9408\n"
          ]
        },
        {
          "output_type": "stream",
          "name": "stderr",
          "text": [
            "Epoch [934/5000]: 100%|██████████| 2/2 [00:00<00:00, 94.45it/s, loss=9.31]\n"
          ]
        },
        {
          "output_type": "stream",
          "name": "stdout",
          "text": [
            "Epoch [934/5000]: Train loss: 10.2108, Valid loss: 9.9608\n"
          ]
        },
        {
          "output_type": "stream",
          "name": "stderr",
          "text": [
            "Epoch [935/5000]: 100%|██████████| 2/2 [00:00<00:00, 101.52it/s, loss=11.7]\n"
          ]
        },
        {
          "output_type": "stream",
          "name": "stdout",
          "text": [
            "Epoch [935/5000]: Train loss: 10.7328, Valid loss: 9.9985\n"
          ]
        },
        {
          "output_type": "stream",
          "name": "stderr",
          "text": [
            "Epoch [936/5000]: 100%|██████████| 2/2 [00:00<00:00, 88.84it/s, loss=11]\n"
          ]
        },
        {
          "output_type": "stream",
          "name": "stdout",
          "text": [
            "Epoch [936/5000]: Train loss: 10.6095, Valid loss: 10.0141\n"
          ]
        },
        {
          "output_type": "stream",
          "name": "stderr",
          "text": [
            "Epoch [937/5000]: 100%|██████████| 2/2 [00:00<00:00, 89.29it/s, loss=8.5]\n"
          ]
        },
        {
          "output_type": "stream",
          "name": "stdout",
          "text": [
            "Epoch [937/5000]: Train loss: 9.2170, Valid loss: 10.0052\n"
          ]
        },
        {
          "output_type": "stream",
          "name": "stderr",
          "text": [
            "Epoch [938/5000]: 100%|██████████| 2/2 [00:00<00:00, 85.35it/s, loss=10.4]\n"
          ]
        },
        {
          "output_type": "stream",
          "name": "stdout",
          "text": [
            "Epoch [938/5000]: Train loss: 10.3158, Valid loss: 10.0040\n"
          ]
        },
        {
          "output_type": "stream",
          "name": "stderr",
          "text": [
            "Epoch [939/5000]: 100%|██████████| 2/2 [00:00<00:00, 97.43it/s, loss=11.6]\n"
          ]
        },
        {
          "output_type": "stream",
          "name": "stdout",
          "text": [
            "Epoch [939/5000]: Train loss: 11.0251, Valid loss: 10.0487\n"
          ]
        },
        {
          "output_type": "stream",
          "name": "stderr",
          "text": [
            "Epoch [940/5000]: 100%|██████████| 2/2 [00:00<00:00, 92.94it/s, loss=9]\n"
          ]
        },
        {
          "output_type": "stream",
          "name": "stdout",
          "text": [
            "Epoch [940/5000]: Train loss: 9.4364, Valid loss: 9.9218\n"
          ]
        },
        {
          "output_type": "stream",
          "name": "stderr",
          "text": [
            "Epoch [941/5000]: 100%|██████████| 2/2 [00:00<00:00, 84.72it/s, loss=7.71]\n"
          ]
        },
        {
          "output_type": "stream",
          "name": "stdout",
          "text": [
            "Epoch [941/5000]: Train loss: 9.2702, Valid loss: 9.9364\n"
          ]
        },
        {
          "output_type": "stream",
          "name": "stderr",
          "text": [
            "Epoch [942/5000]: 100%|██████████| 2/2 [00:00<00:00, 70.07it/s, loss=12.7]\n"
          ]
        },
        {
          "output_type": "stream",
          "name": "stdout",
          "text": [
            "Epoch [942/5000]: Train loss: 11.7772, Valid loss: 9.9918\n"
          ]
        },
        {
          "output_type": "stream",
          "name": "stderr",
          "text": [
            "Epoch [943/5000]: 100%|██████████| 2/2 [00:00<00:00, 93.29it/s, loss=10.4]\n"
          ]
        },
        {
          "output_type": "stream",
          "name": "stdout",
          "text": [
            "Epoch [943/5000]: Train loss: 10.3597, Valid loss: 10.0432\n"
          ]
        },
        {
          "output_type": "stream",
          "name": "stderr",
          "text": [
            "Epoch [944/5000]: 100%|██████████| 2/2 [00:00<00:00, 84.07it/s, loss=9.99]\n"
          ]
        },
        {
          "output_type": "stream",
          "name": "stdout",
          "text": [
            "Epoch [944/5000]: Train loss: 10.0790, Valid loss: 9.9756\n"
          ]
        },
        {
          "output_type": "stream",
          "name": "stderr",
          "text": [
            "Epoch [945/5000]: 100%|██████████| 2/2 [00:00<00:00, 94.30it/s, loss=9.46]\n"
          ]
        },
        {
          "output_type": "stream",
          "name": "stdout",
          "text": [
            "Epoch [945/5000]: Train loss: 10.2578, Valid loss: 10.0253\n"
          ]
        },
        {
          "output_type": "stream",
          "name": "stderr",
          "text": [
            "Epoch [946/5000]: 100%|██████████| 2/2 [00:00<00:00, 97.55it/s, loss=10.3]\n"
          ]
        },
        {
          "output_type": "stream",
          "name": "stdout",
          "text": [
            "Epoch [946/5000]: Train loss: 10.0368, Valid loss: 10.0197\n"
          ]
        },
        {
          "output_type": "stream",
          "name": "stderr",
          "text": [
            "Epoch [947/5000]: 100%|██████████| 2/2 [00:00<00:00, 88.88it/s, loss=8.46]\n"
          ]
        },
        {
          "output_type": "stream",
          "name": "stdout",
          "text": [
            "Epoch [947/5000]: Train loss: 8.8273, Valid loss: 10.0329\n"
          ]
        },
        {
          "output_type": "stream",
          "name": "stderr",
          "text": [
            "Epoch [948/5000]: 100%|██████████| 2/2 [00:00<00:00, 106.00it/s, loss=10]\n"
          ]
        },
        {
          "output_type": "stream",
          "name": "stdout",
          "text": [
            "Epoch [948/5000]: Train loss: 10.0982, Valid loss: 10.0225\n"
          ]
        },
        {
          "output_type": "stream",
          "name": "stderr",
          "text": [
            "Epoch [949/5000]: 100%|██████████| 2/2 [00:00<00:00, 94.51it/s, loss=11.1]\n"
          ]
        },
        {
          "output_type": "stream",
          "name": "stdout",
          "text": [
            "Epoch [949/5000]: Train loss: 10.4637, Valid loss: 10.0962\n"
          ]
        },
        {
          "output_type": "stream",
          "name": "stderr",
          "text": [
            "Epoch [950/5000]: 100%|██████████| 2/2 [00:00<00:00, 104.68it/s, loss=13.2]\n"
          ]
        },
        {
          "output_type": "stream",
          "name": "stdout",
          "text": [
            "Epoch [950/5000]: Train loss: 11.7904, Valid loss: 10.1201\n"
          ]
        },
        {
          "output_type": "stream",
          "name": "stderr",
          "text": [
            "Epoch [951/5000]: 100%|██████████| 2/2 [00:00<00:00, 81.08it/s, loss=10.8]\n"
          ]
        },
        {
          "output_type": "stream",
          "name": "stdout",
          "text": [
            "Epoch [951/5000]: Train loss: 10.0854, Valid loss: 10.1000\n"
          ]
        },
        {
          "output_type": "stream",
          "name": "stderr",
          "text": [
            "Epoch [952/5000]: 100%|██████████| 2/2 [00:00<00:00, 79.44it/s, loss=10.6]\n"
          ]
        },
        {
          "output_type": "stream",
          "name": "stdout",
          "text": [
            "Epoch [952/5000]: Train loss: 10.9467, Valid loss: 10.1733\n"
          ]
        },
        {
          "output_type": "stream",
          "name": "stderr",
          "text": [
            "Epoch [953/5000]: 100%|██████████| 2/2 [00:00<00:00, 98.99it/s, loss=6.78]\n"
          ]
        },
        {
          "output_type": "stream",
          "name": "stdout",
          "text": [
            "Epoch [953/5000]: Train loss: 9.0005, Valid loss: 10.1401\n"
          ]
        },
        {
          "output_type": "stream",
          "name": "stderr",
          "text": [
            "Epoch [954/5000]: 100%|██████████| 2/2 [00:00<00:00, 142.71it/s, loss=9.19]\n"
          ]
        },
        {
          "output_type": "stream",
          "name": "stdout",
          "text": [
            "Epoch [954/5000]: Train loss: 9.5687, Valid loss: 10.1186\n"
          ]
        },
        {
          "output_type": "stream",
          "name": "stderr",
          "text": [
            "Epoch [955/5000]: 100%|██████████| 2/2 [00:00<00:00, 94.78it/s, loss=8.48]\n"
          ]
        },
        {
          "output_type": "stream",
          "name": "stdout",
          "text": [
            "Epoch [955/5000]: Train loss: 9.1152, Valid loss: 10.1343\n"
          ]
        },
        {
          "output_type": "stream",
          "name": "stderr",
          "text": [
            "Epoch [956/5000]: 100%|██████████| 2/2 [00:00<00:00, 150.81it/s, loss=12.2]\n"
          ]
        },
        {
          "output_type": "stream",
          "name": "stdout",
          "text": [
            "Epoch [956/5000]: Train loss: 11.0815, Valid loss: 10.1148\n"
          ]
        },
        {
          "output_type": "stream",
          "name": "stderr",
          "text": [
            "Epoch [957/5000]: 100%|██████████| 2/2 [00:00<00:00, 95.31it/s, loss=7.15]\n"
          ]
        },
        {
          "output_type": "stream",
          "name": "stdout",
          "text": [
            "Epoch [957/5000]: Train loss: 8.6679, Valid loss: 10.0801\n"
          ]
        },
        {
          "output_type": "stream",
          "name": "stderr",
          "text": [
            "Epoch [958/5000]: 100%|██████████| 2/2 [00:00<00:00, 110.35it/s, loss=11.4]\n"
          ]
        },
        {
          "output_type": "stream",
          "name": "stdout",
          "text": [
            "Epoch [958/5000]: Train loss: 11.1319, Valid loss: 10.0324\n"
          ]
        },
        {
          "output_type": "stream",
          "name": "stderr",
          "text": [
            "Epoch [959/5000]: 100%|██████████| 2/2 [00:00<00:00, 89.66it/s, loss=11]\n"
          ]
        },
        {
          "output_type": "stream",
          "name": "stdout",
          "text": [
            "Epoch [959/5000]: Train loss: 9.9516, Valid loss: 10.0577\n"
          ]
        },
        {
          "output_type": "stream",
          "name": "stderr",
          "text": [
            "Epoch [960/5000]: 100%|██████████| 2/2 [00:00<00:00, 84.61it/s, loss=10.9]\n"
          ]
        },
        {
          "output_type": "stream",
          "name": "stdout",
          "text": [
            "Epoch [960/5000]: Train loss: 10.0401, Valid loss: 10.0079\n"
          ]
        },
        {
          "output_type": "stream",
          "name": "stderr",
          "text": [
            "Epoch [961/5000]: 100%|██████████| 2/2 [00:00<00:00, 91.64it/s, loss=10.3]\n"
          ]
        },
        {
          "output_type": "stream",
          "name": "stdout",
          "text": [
            "Epoch [961/5000]: Train loss: 10.0852, Valid loss: 10.0462\n"
          ]
        },
        {
          "output_type": "stream",
          "name": "stderr",
          "text": [
            "Epoch [962/5000]: 100%|██████████| 2/2 [00:00<00:00, 132.37it/s, loss=9.31]\n"
          ]
        },
        {
          "output_type": "stream",
          "name": "stdout",
          "text": [
            "Epoch [962/5000]: Train loss: 9.8131, Valid loss: 10.0192\n"
          ]
        },
        {
          "output_type": "stream",
          "name": "stderr",
          "text": [
            "Epoch [963/5000]: 100%|██████████| 2/2 [00:00<00:00, 81.83it/s, loss=9.63]\n"
          ]
        },
        {
          "output_type": "stream",
          "name": "stdout",
          "text": [
            "Epoch [963/5000]: Train loss: 10.0019, Valid loss: 9.9601\n"
          ]
        },
        {
          "output_type": "stream",
          "name": "stderr",
          "text": [
            "Epoch [964/5000]: 100%|██████████| 2/2 [00:00<00:00, 118.20it/s, loss=10.6]\n"
          ]
        },
        {
          "output_type": "stream",
          "name": "stdout",
          "text": [
            "Epoch [964/5000]: Train loss: 10.8378, Valid loss: 10.0192\n"
          ]
        },
        {
          "output_type": "stream",
          "name": "stderr",
          "text": [
            "Epoch [965/5000]: 100%|██████████| 2/2 [00:00<00:00, 96.65it/s, loss=10.6]\n"
          ]
        },
        {
          "output_type": "stream",
          "name": "stdout",
          "text": [
            "Epoch [965/5000]: Train loss: 10.4705, Valid loss: 9.9813\n"
          ]
        },
        {
          "output_type": "stream",
          "name": "stderr",
          "text": [
            "Epoch [966/5000]: 100%|██████████| 2/2 [00:00<00:00, 138.77it/s, loss=12.5]\n"
          ]
        },
        {
          "output_type": "stream",
          "name": "stdout",
          "text": [
            "Epoch [966/5000]: Train loss: 11.2336, Valid loss: 9.9765\n"
          ]
        },
        {
          "output_type": "stream",
          "name": "stderr",
          "text": [
            "Epoch [967/5000]: 100%|██████████| 2/2 [00:00<00:00, 78.89it/s, loss=10.7]\n"
          ]
        },
        {
          "output_type": "stream",
          "name": "stdout",
          "text": [
            "Epoch [967/5000]: Train loss: 10.2435, Valid loss: 10.0057\n"
          ]
        },
        {
          "output_type": "stream",
          "name": "stderr",
          "text": [
            "Epoch [968/5000]: 100%|██████████| 2/2 [00:00<00:00, 131.31it/s, loss=11.5]\n"
          ]
        },
        {
          "output_type": "stream",
          "name": "stdout",
          "text": [
            "Epoch [968/5000]: Train loss: 11.3507, Valid loss: 9.9610\n"
          ]
        },
        {
          "output_type": "stream",
          "name": "stderr",
          "text": [
            "Epoch [969/5000]: 100%|██████████| 2/2 [00:00<00:00, 105.44it/s, loss=8.96]\n"
          ]
        },
        {
          "output_type": "stream",
          "name": "stdout",
          "text": [
            "Epoch [969/5000]: Train loss: 9.2964, Valid loss: 10.0179\n"
          ]
        },
        {
          "output_type": "stream",
          "name": "stderr",
          "text": [
            "Epoch [970/5000]: 100%|██████████| 2/2 [00:00<00:00, 100.08it/s, loss=12.5]\n"
          ]
        },
        {
          "output_type": "stream",
          "name": "stdout",
          "text": [
            "Epoch [970/5000]: Train loss: 10.8961, Valid loss: 10.0367\n"
          ]
        },
        {
          "output_type": "stream",
          "name": "stderr",
          "text": [
            "Epoch [971/5000]: 100%|██████████| 2/2 [00:00<00:00, 71.73it/s, loss=7.22]\n"
          ]
        },
        {
          "output_type": "stream",
          "name": "stdout",
          "text": [
            "Epoch [971/5000]: Train loss: 8.6063, Valid loss: 10.0302\n"
          ]
        },
        {
          "output_type": "stream",
          "name": "stderr",
          "text": [
            "Epoch [972/5000]: 100%|██████████| 2/2 [00:00<00:00, 18.73it/s, loss=8.06]\n"
          ]
        },
        {
          "output_type": "stream",
          "name": "stdout",
          "text": [
            "Epoch [972/5000]: Train loss: 9.6382, Valid loss: 9.9728\n"
          ]
        },
        {
          "output_type": "stream",
          "name": "stderr",
          "text": [
            "Epoch [973/5000]: 100%|██████████| 2/2 [00:00<00:00, 88.24it/s, loss=11.3]\n"
          ]
        },
        {
          "output_type": "stream",
          "name": "stdout",
          "text": [
            "Epoch [973/5000]: Train loss: 10.5580, Valid loss: 9.9760\n"
          ]
        },
        {
          "output_type": "stream",
          "name": "stderr",
          "text": [
            "Epoch [974/5000]: 100%|██████████| 2/2 [00:00<00:00, 96.36it/s, loss=10.8]\n"
          ]
        },
        {
          "output_type": "stream",
          "name": "stdout",
          "text": [
            "Epoch [974/5000]: Train loss: 11.3520, Valid loss: 9.9699\n"
          ]
        },
        {
          "output_type": "stream",
          "name": "stderr",
          "text": [
            "Epoch [975/5000]: 100%|██████████| 2/2 [00:00<00:00, 98.96it/s, loss=9.94]\n"
          ]
        },
        {
          "output_type": "stream",
          "name": "stdout",
          "text": [
            "Epoch [975/5000]: Train loss: 9.2132, Valid loss: 9.9797\n"
          ]
        },
        {
          "output_type": "stream",
          "name": "stderr",
          "text": [
            "Epoch [976/5000]: 100%|██████████| 2/2 [00:00<00:00, 90.67it/s, loss=9.11]\n"
          ]
        },
        {
          "output_type": "stream",
          "name": "stdout",
          "text": [
            "Epoch [976/5000]: Train loss: 9.1661, Valid loss: 10.0343\n"
          ]
        },
        {
          "output_type": "stream",
          "name": "stderr",
          "text": [
            "Epoch [977/5000]: 100%|██████████| 2/2 [00:00<00:00, 103.94it/s, loss=9.22]\n"
          ]
        },
        {
          "output_type": "stream",
          "name": "stdout",
          "text": [
            "Epoch [977/5000]: Train loss: 9.8482, Valid loss: 10.0659\n"
          ]
        },
        {
          "output_type": "stream",
          "name": "stderr",
          "text": [
            "Epoch [978/5000]: 100%|██████████| 2/2 [00:00<00:00, 88.56it/s, loss=11.9]\n"
          ]
        },
        {
          "output_type": "stream",
          "name": "stdout",
          "text": [
            "Epoch [978/5000]: Train loss: 11.1608, Valid loss: 10.0132\n"
          ]
        },
        {
          "output_type": "stream",
          "name": "stderr",
          "text": [
            "Epoch [979/5000]: 100%|██████████| 2/2 [00:00<00:00, 92.95it/s, loss=15.5]\n"
          ]
        },
        {
          "output_type": "stream",
          "name": "stdout",
          "text": [
            "Epoch [979/5000]: Train loss: 12.3177, Valid loss: 10.0261\n"
          ]
        },
        {
          "output_type": "stream",
          "name": "stderr",
          "text": [
            "Epoch [980/5000]: 100%|██████████| 2/2 [00:00<00:00, 82.47it/s, loss=11.9]\n"
          ]
        },
        {
          "output_type": "stream",
          "name": "stdout",
          "text": [
            "Epoch [980/5000]: Train loss: 10.5104, Valid loss: 10.0453\n"
          ]
        },
        {
          "output_type": "stream",
          "name": "stderr",
          "text": [
            "Epoch [981/5000]: 100%|██████████| 2/2 [00:00<00:00, 97.80it/s, loss=11.1]\n"
          ]
        },
        {
          "output_type": "stream",
          "name": "stdout",
          "text": [
            "Epoch [981/5000]: Train loss: 10.6660, Valid loss: 9.9740\n"
          ]
        },
        {
          "output_type": "stream",
          "name": "stderr",
          "text": [
            "Epoch [982/5000]: 100%|██████████| 2/2 [00:00<00:00, 99.98it/s, loss=8.82]\n"
          ]
        },
        {
          "output_type": "stream",
          "name": "stdout",
          "text": [
            "Epoch [982/5000]: Train loss: 9.8204, Valid loss: 10.0146\n"
          ]
        },
        {
          "output_type": "stream",
          "name": "stderr",
          "text": [
            "Epoch [983/5000]: 100%|██████████| 2/2 [00:00<00:00, 95.68it/s, loss=17.1]\n"
          ]
        },
        {
          "output_type": "stream",
          "name": "stdout",
          "text": [
            "Epoch [983/5000]: Train loss: 12.9720, Valid loss: 10.0484\n"
          ]
        },
        {
          "output_type": "stream",
          "name": "stderr",
          "text": [
            "Epoch [984/5000]: 100%|██████████| 2/2 [00:00<00:00, 88.13it/s, loss=10.1]\n"
          ]
        },
        {
          "output_type": "stream",
          "name": "stdout",
          "text": [
            "Epoch [984/5000]: Train loss: 10.2274, Valid loss: 9.9997\n"
          ]
        },
        {
          "output_type": "stream",
          "name": "stderr",
          "text": [
            "Epoch [985/5000]: 100%|██████████| 2/2 [00:00<00:00, 91.60it/s, loss=8.46]\n"
          ]
        },
        {
          "output_type": "stream",
          "name": "stdout",
          "text": [
            "Epoch [985/5000]: Train loss: 9.2991, Valid loss: 10.0092\n"
          ]
        },
        {
          "output_type": "stream",
          "name": "stderr",
          "text": [
            "Epoch [986/5000]: 100%|██████████| 2/2 [00:00<00:00, 78.17it/s, loss=8.98]\n"
          ]
        },
        {
          "output_type": "stream",
          "name": "stdout",
          "text": [
            "Epoch [986/5000]: Train loss: 9.7167, Valid loss: 10.0607\n"
          ]
        },
        {
          "output_type": "stream",
          "name": "stderr",
          "text": [
            "Epoch [987/5000]: 100%|██████████| 2/2 [00:00<00:00, 90.12it/s, loss=10.1]\n"
          ]
        },
        {
          "output_type": "stream",
          "name": "stdout",
          "text": [
            "Epoch [987/5000]: Train loss: 10.2622, Valid loss: 9.9410\n"
          ]
        },
        {
          "output_type": "stream",
          "name": "stderr",
          "text": [
            "Epoch [988/5000]: 100%|██████████| 2/2 [00:00<00:00, 71.39it/s, loss=12.8]\n"
          ]
        },
        {
          "output_type": "stream",
          "name": "stdout",
          "text": [
            "Epoch [988/5000]: Train loss: 11.9866, Valid loss: 9.9458\n"
          ]
        },
        {
          "output_type": "stream",
          "name": "stderr",
          "text": [
            "Epoch [989/5000]: 100%|██████████| 2/2 [00:00<00:00, 97.38it/s, loss=7.84]\n"
          ]
        },
        {
          "output_type": "stream",
          "name": "stdout",
          "text": [
            "Epoch [989/5000]: Train loss: 9.2868, Valid loss: 9.9906\n"
          ]
        },
        {
          "output_type": "stream",
          "name": "stderr",
          "text": [
            "Epoch [990/5000]: 100%|██████████| 2/2 [00:00<00:00, 88.12it/s, loss=13.1]\n"
          ]
        },
        {
          "output_type": "stream",
          "name": "stdout",
          "text": [
            "Epoch [990/5000]: Train loss: 10.5153, Valid loss: 10.0119\n"
          ]
        },
        {
          "output_type": "stream",
          "name": "stderr",
          "text": [
            "Epoch [991/5000]: 100%|██████████| 2/2 [00:00<00:00, 96.77it/s, loss=10.2]\n"
          ]
        },
        {
          "output_type": "stream",
          "name": "stdout",
          "text": [
            "Epoch [991/5000]: Train loss: 10.2333, Valid loss: 9.9568\n"
          ]
        },
        {
          "output_type": "stream",
          "name": "stderr",
          "text": [
            "Epoch [992/5000]: 100%|██████████| 2/2 [00:00<00:00, 91.80it/s, loss=9.3]\n"
          ]
        },
        {
          "output_type": "stream",
          "name": "stdout",
          "text": [
            "Epoch [992/5000]: Train loss: 9.1582, Valid loss: 9.9492\n"
          ]
        },
        {
          "output_type": "stream",
          "name": "stderr",
          "text": [
            "Epoch [993/5000]: 100%|██████████| 2/2 [00:00<00:00, 95.86it/s, loss=9.29]\n"
          ]
        },
        {
          "output_type": "stream",
          "name": "stdout",
          "text": [
            "Epoch [993/5000]: Train loss: 9.7204, Valid loss: 9.8995\n"
          ]
        },
        {
          "output_type": "stream",
          "name": "stderr",
          "text": [
            "Epoch [994/5000]: 100%|██████████| 2/2 [00:00<00:00, 91.60it/s, loss=10.5]\n"
          ]
        },
        {
          "output_type": "stream",
          "name": "stdout",
          "text": [
            "Epoch [994/5000]: Train loss: 10.6788, Valid loss: 9.9158\n"
          ]
        },
        {
          "output_type": "stream",
          "name": "stderr",
          "text": [
            "Epoch [995/5000]: 100%|██████████| 2/2 [00:00<00:00, 84.73it/s, loss=12.2]\n"
          ]
        },
        {
          "output_type": "stream",
          "name": "stdout",
          "text": [
            "Epoch [995/5000]: Train loss: 11.5217, Valid loss: 9.9287\n"
          ]
        },
        {
          "output_type": "stream",
          "name": "stderr",
          "text": [
            "Epoch [996/5000]: 100%|██████████| 2/2 [00:00<00:00, 93.05it/s, loss=8.04]\n"
          ]
        },
        {
          "output_type": "stream",
          "name": "stdout",
          "text": [
            "Epoch [996/5000]: Train loss: 8.6549, Valid loss: 9.9558\n"
          ]
        },
        {
          "output_type": "stream",
          "name": "stderr",
          "text": [
            "Epoch [997/5000]: 100%|██████████| 2/2 [00:00<00:00, 80.30it/s, loss=10.9]\n"
          ]
        },
        {
          "output_type": "stream",
          "name": "stdout",
          "text": [
            "Epoch [997/5000]: Train loss: 10.4949, Valid loss: 9.9719\n"
          ]
        },
        {
          "output_type": "stream",
          "name": "stderr",
          "text": [
            "Epoch [998/5000]: 100%|██████████| 2/2 [00:00<00:00, 95.97it/s, loss=11.6]\n"
          ]
        },
        {
          "output_type": "stream",
          "name": "stdout",
          "text": [
            "Epoch [998/5000]: Train loss: 10.5181, Valid loss: 9.9324\n"
          ]
        },
        {
          "output_type": "stream",
          "name": "stderr",
          "text": [
            "Epoch [999/5000]: 100%|██████████| 2/2 [00:00<00:00, 104.03it/s, loss=12.9]\n"
          ]
        },
        {
          "output_type": "stream",
          "name": "stdout",
          "text": [
            "Epoch [999/5000]: Train loss: 11.3126, Valid loss: 9.9299\n"
          ]
        },
        {
          "output_type": "stream",
          "name": "stderr",
          "text": [
            "Epoch [1000/5000]: 100%|██████████| 2/2 [00:00<00:00, 75.69it/s, loss=10.2]\n"
          ]
        },
        {
          "output_type": "stream",
          "name": "stdout",
          "text": [
            "Epoch [1000/5000]: Train loss: 10.9061, Valid loss: 9.9588\n"
          ]
        },
        {
          "output_type": "stream",
          "name": "stderr",
          "text": [
            "Epoch [1001/5000]: 100%|██████████| 2/2 [00:00<00:00, 76.12it/s, loss=11]\n"
          ]
        },
        {
          "output_type": "stream",
          "name": "stdout",
          "text": [
            "Epoch [1001/5000]: Train loss: 10.0534, Valid loss: 9.9623\n"
          ]
        },
        {
          "output_type": "stream",
          "name": "stderr",
          "text": [
            "Epoch [1002/5000]: 100%|██████████| 2/2 [00:00<00:00, 103.79it/s, loss=9.62]\n"
          ]
        },
        {
          "output_type": "stream",
          "name": "stdout",
          "text": [
            "Epoch [1002/5000]: Train loss: 10.5148, Valid loss: 9.9606\n"
          ]
        },
        {
          "output_type": "stream",
          "name": "stderr",
          "text": [
            "Epoch [1003/5000]: 100%|██████████| 2/2 [00:00<00:00, 98.15it/s, loss=11]\n"
          ]
        },
        {
          "output_type": "stream",
          "name": "stdout",
          "text": [
            "Epoch [1003/5000]: Train loss: 10.0321, Valid loss: 9.9770\n"
          ]
        },
        {
          "output_type": "stream",
          "name": "stderr",
          "text": [
            "Epoch [1004/5000]: 100%|██████████| 2/2 [00:00<00:00, 89.12it/s, loss=8.4]\n"
          ]
        },
        {
          "output_type": "stream",
          "name": "stdout",
          "text": [
            "Epoch [1004/5000]: Train loss: 9.4687, Valid loss: 10.0001\n"
          ]
        },
        {
          "output_type": "stream",
          "name": "stderr",
          "text": [
            "Epoch [1005/5000]: 100%|██████████| 2/2 [00:00<00:00, 82.89it/s, loss=11.1]\n"
          ]
        },
        {
          "output_type": "stream",
          "name": "stdout",
          "text": [
            "Epoch [1005/5000]: Train loss: 10.0439, Valid loss: 9.9479\n"
          ]
        },
        {
          "output_type": "stream",
          "name": "stderr",
          "text": [
            "Epoch [1006/5000]: 100%|██████████| 2/2 [00:00<00:00, 102.19it/s, loss=10.8]\n"
          ]
        },
        {
          "output_type": "stream",
          "name": "stdout",
          "text": [
            "Epoch [1006/5000]: Train loss: 10.0385, Valid loss: 9.9015\n"
          ]
        },
        {
          "output_type": "stream",
          "name": "stderr",
          "text": [
            "Epoch [1007/5000]: 100%|██████████| 2/2 [00:00<00:00, 97.54it/s, loss=10.4]\n"
          ]
        },
        {
          "output_type": "stream",
          "name": "stdout",
          "text": [
            "Epoch [1007/5000]: Train loss: 10.0281, Valid loss: 9.9779\n"
          ]
        },
        {
          "output_type": "stream",
          "name": "stderr",
          "text": [
            "Epoch [1008/5000]: 100%|██████████| 2/2 [00:00<00:00, 95.58it/s, loss=9.72]\n"
          ]
        },
        {
          "output_type": "stream",
          "name": "stdout",
          "text": [
            "Epoch [1008/5000]: Train loss: 9.6749, Valid loss: 9.9860\n"
          ]
        },
        {
          "output_type": "stream",
          "name": "stderr",
          "text": [
            "Epoch [1009/5000]: 100%|██████████| 2/2 [00:00<00:00, 84.82it/s, loss=7.66]\n"
          ]
        },
        {
          "output_type": "stream",
          "name": "stdout",
          "text": [
            "Epoch [1009/5000]: Train loss: 9.4335, Valid loss: 9.9949\n"
          ]
        },
        {
          "output_type": "stream",
          "name": "stderr",
          "text": [
            "Epoch [1010/5000]: 100%|██████████| 2/2 [00:00<00:00, 80.05it/s, loss=13]\n"
          ]
        },
        {
          "output_type": "stream",
          "name": "stdout",
          "text": [
            "Epoch [1010/5000]: Train loss: 11.4193, Valid loss: 9.9260\n"
          ]
        },
        {
          "output_type": "stream",
          "name": "stderr",
          "text": [
            "Epoch [1011/5000]: 100%|██████████| 2/2 [00:00<00:00, 77.33it/s, loss=13.5]\n"
          ]
        },
        {
          "output_type": "stream",
          "name": "stdout",
          "text": [
            "Epoch [1011/5000]: Train loss: 11.6827, Valid loss: 9.8781\n"
          ]
        },
        {
          "output_type": "stream",
          "name": "stderr",
          "text": [
            "Epoch [1012/5000]: 100%|██████████| 2/2 [00:00<00:00, 79.16it/s, loss=14.2]\n"
          ]
        },
        {
          "output_type": "stream",
          "name": "stdout",
          "text": [
            "Epoch [1012/5000]: Train loss: 12.1268, Valid loss: 9.9031\n"
          ]
        },
        {
          "output_type": "stream",
          "name": "stderr",
          "text": [
            "Epoch [1013/5000]: 100%|██████████| 2/2 [00:00<00:00, 99.16it/s, loss=10.9]\n"
          ]
        },
        {
          "output_type": "stream",
          "name": "stdout",
          "text": [
            "Epoch [1013/5000]: Train loss: 10.3325, Valid loss: 9.9178\n"
          ]
        },
        {
          "output_type": "stream",
          "name": "stderr",
          "text": [
            "Epoch [1014/5000]: 100%|██████████| 2/2 [00:00<00:00, 106.58it/s, loss=7.55]\n"
          ]
        },
        {
          "output_type": "stream",
          "name": "stdout",
          "text": [
            "Epoch [1014/5000]: Train loss: 9.1096, Valid loss: 9.9537\n"
          ]
        },
        {
          "output_type": "stream",
          "name": "stderr",
          "text": [
            "Epoch [1015/5000]: 100%|██████████| 2/2 [00:00<00:00, 91.55it/s, loss=10.6]\n"
          ]
        },
        {
          "output_type": "stream",
          "name": "stdout",
          "text": [
            "Epoch [1015/5000]: Train loss: 9.9708, Valid loss: 9.9628\n"
          ]
        },
        {
          "output_type": "stream",
          "name": "stderr",
          "text": [
            "Epoch [1016/5000]: 100%|██████████| 2/2 [00:00<00:00, 79.25it/s, loss=13.6]\n"
          ]
        },
        {
          "output_type": "stream",
          "name": "stdout",
          "text": [
            "Epoch [1016/5000]: Train loss: 11.1979, Valid loss: 9.9327\n"
          ]
        },
        {
          "output_type": "stream",
          "name": "stderr",
          "text": [
            "Epoch [1017/5000]: 100%|██████████| 2/2 [00:00<00:00, 94.19it/s, loss=11.6]\n"
          ]
        },
        {
          "output_type": "stream",
          "name": "stdout",
          "text": [
            "Epoch [1017/5000]: Train loss: 10.8327, Valid loss: 9.8966\n"
          ]
        },
        {
          "output_type": "stream",
          "name": "stderr",
          "text": [
            "Epoch [1018/5000]: 100%|██████████| 2/2 [00:00<00:00, 104.21it/s, loss=8.63]\n"
          ]
        },
        {
          "output_type": "stream",
          "name": "stdout",
          "text": [
            "Epoch [1018/5000]: Train loss: 9.0255, Valid loss: 9.9550\n"
          ]
        },
        {
          "output_type": "stream",
          "name": "stderr",
          "text": [
            "Epoch [1019/5000]: 100%|██████████| 2/2 [00:00<00:00, 85.60it/s, loss=10.5]\n"
          ]
        },
        {
          "output_type": "stream",
          "name": "stdout",
          "text": [
            "Epoch [1019/5000]: Train loss: 9.9163, Valid loss: 9.9163\n"
          ]
        },
        {
          "output_type": "stream",
          "name": "stderr",
          "text": [
            "Epoch [1020/5000]: 100%|██████████| 2/2 [00:00<00:00, 61.01it/s, loss=10.8]\n"
          ]
        },
        {
          "output_type": "stream",
          "name": "stdout",
          "text": [
            "Epoch [1020/5000]: Train loss: 10.1734, Valid loss: 9.9008\n"
          ]
        },
        {
          "output_type": "stream",
          "name": "stderr",
          "text": [
            "Epoch [1021/5000]: 100%|██████████| 2/2 [00:00<00:00, 111.61it/s, loss=11.1]\n"
          ]
        },
        {
          "output_type": "stream",
          "name": "stdout",
          "text": [
            "Epoch [1021/5000]: Train loss: 10.3404, Valid loss: 9.8861\n"
          ]
        },
        {
          "output_type": "stream",
          "name": "stderr",
          "text": [
            "Epoch [1022/5000]: 100%|██████████| 2/2 [00:00<00:00, 107.71it/s, loss=12.9]\n"
          ]
        },
        {
          "output_type": "stream",
          "name": "stdout",
          "text": [
            "Epoch [1022/5000]: Train loss: 11.1290, Valid loss: 9.8158\n"
          ]
        },
        {
          "output_type": "stream",
          "name": "stderr",
          "text": [
            "Epoch [1023/5000]: 100%|██████████| 2/2 [00:00<00:00, 94.64it/s, loss=11.6]\n"
          ]
        },
        {
          "output_type": "stream",
          "name": "stdout",
          "text": [
            "Epoch [1023/5000]: Train loss: 10.4646, Valid loss: 9.7769\n"
          ]
        },
        {
          "output_type": "stream",
          "name": "stderr",
          "text": [
            "Epoch [1024/5000]: 100%|██████████| 2/2 [00:00<00:00, 100.56it/s, loss=9.36]\n"
          ]
        },
        {
          "output_type": "stream",
          "name": "stdout",
          "text": [
            "Epoch [1024/5000]: Train loss: 9.4868, Valid loss: 9.7226\n",
            "Saving model with loss 9.723...\n"
          ]
        },
        {
          "output_type": "stream",
          "name": "stderr",
          "text": [
            "Epoch [1025/5000]: 100%|██████████| 2/2 [00:00<00:00, 100.48it/s, loss=13.7]\n"
          ]
        },
        {
          "output_type": "stream",
          "name": "stdout",
          "text": [
            "Epoch [1025/5000]: Train loss: 11.5862, Valid loss: 9.7640\n"
          ]
        },
        {
          "output_type": "stream",
          "name": "stderr",
          "text": [
            "Epoch [1026/5000]: 100%|██████████| 2/2 [00:00<00:00, 110.75it/s, loss=12.3]\n"
          ]
        },
        {
          "output_type": "stream",
          "name": "stdout",
          "text": [
            "Epoch [1026/5000]: Train loss: 10.8653, Valid loss: 9.8041\n"
          ]
        },
        {
          "output_type": "stream",
          "name": "stderr",
          "text": [
            "Epoch [1027/5000]: 100%|██████████| 2/2 [00:00<00:00, 110.35it/s, loss=11.3]\n"
          ]
        },
        {
          "output_type": "stream",
          "name": "stdout",
          "text": [
            "Epoch [1027/5000]: Train loss: 10.0091, Valid loss: 9.7170\n",
            "Saving model with loss 9.717...\n"
          ]
        },
        {
          "output_type": "stream",
          "name": "stderr",
          "text": [
            "Epoch [1028/5000]: 100%|██████████| 2/2 [00:00<00:00, 102.38it/s, loss=11]\n"
          ]
        },
        {
          "output_type": "stream",
          "name": "stdout",
          "text": [
            "Epoch [1028/5000]: Train loss: 11.0406, Valid loss: 9.7051\n",
            "Saving model with loss 9.705...\n"
          ]
        },
        {
          "output_type": "stream",
          "name": "stderr",
          "text": [
            "Epoch [1029/5000]: 100%|██████████| 2/2 [00:00<00:00, 104.88it/s, loss=9.25]\n"
          ]
        },
        {
          "output_type": "stream",
          "name": "stdout",
          "text": [
            "Epoch [1029/5000]: Train loss: 9.2993, Valid loss: 9.6496\n",
            "Saving model with loss 9.650...\n"
          ]
        },
        {
          "output_type": "stream",
          "name": "stderr",
          "text": [
            "Epoch [1030/5000]: 100%|██████████| 2/2 [00:00<00:00, 104.00it/s, loss=10.3]\n"
          ]
        },
        {
          "output_type": "stream",
          "name": "stdout",
          "text": [
            "Epoch [1030/5000]: Train loss: 10.2417, Valid loss: 9.7505\n"
          ]
        },
        {
          "output_type": "stream",
          "name": "stderr",
          "text": [
            "Epoch [1031/5000]: 100%|██████████| 2/2 [00:00<00:00, 104.05it/s, loss=10.3]\n"
          ]
        },
        {
          "output_type": "stream",
          "name": "stdout",
          "text": [
            "Epoch [1031/5000]: Train loss: 10.0359, Valid loss: 9.8520\n"
          ]
        },
        {
          "output_type": "stream",
          "name": "stderr",
          "text": [
            "Epoch [1032/5000]: 100%|██████████| 2/2 [00:00<00:00, 106.97it/s, loss=9.88]\n"
          ]
        },
        {
          "output_type": "stream",
          "name": "stdout",
          "text": [
            "Epoch [1032/5000]: Train loss: 10.0739, Valid loss: 9.9023\n"
          ]
        },
        {
          "output_type": "stream",
          "name": "stderr",
          "text": [
            "Epoch [1033/5000]: 100%|██████████| 2/2 [00:00<00:00, 103.29it/s, loss=9.17]\n"
          ]
        },
        {
          "output_type": "stream",
          "name": "stdout",
          "text": [
            "Epoch [1033/5000]: Train loss: 9.8721, Valid loss: 9.9543\n"
          ]
        },
        {
          "output_type": "stream",
          "name": "stderr",
          "text": [
            "Epoch [1034/5000]: 100%|██████████| 2/2 [00:00<00:00, 118.71it/s, loss=11.8]\n"
          ]
        },
        {
          "output_type": "stream",
          "name": "stdout",
          "text": [
            "Epoch [1034/5000]: Train loss: 10.9178, Valid loss: 9.9580\n"
          ]
        },
        {
          "output_type": "stream",
          "name": "stderr",
          "text": [
            "Epoch [1035/5000]: 100%|██████████| 2/2 [00:00<00:00, 115.80it/s, loss=8.81]\n"
          ]
        },
        {
          "output_type": "stream",
          "name": "stdout",
          "text": [
            "Epoch [1035/5000]: Train loss: 9.4674, Valid loss: 9.9790\n"
          ]
        },
        {
          "output_type": "stream",
          "name": "stderr",
          "text": [
            "Epoch [1036/5000]: 100%|██████████| 2/2 [00:00<00:00, 90.06it/s, loss=12.6]\n"
          ]
        },
        {
          "output_type": "stream",
          "name": "stdout",
          "text": [
            "Epoch [1036/5000]: Train loss: 10.6636, Valid loss: 9.9729\n"
          ]
        },
        {
          "output_type": "stream",
          "name": "stderr",
          "text": [
            "Epoch [1037/5000]: 100%|██████████| 2/2 [00:00<00:00, 106.98it/s, loss=11.3]\n"
          ]
        },
        {
          "output_type": "stream",
          "name": "stdout",
          "text": [
            "Epoch [1037/5000]: Train loss: 10.8120, Valid loss: 10.0351\n"
          ]
        },
        {
          "output_type": "stream",
          "name": "stderr",
          "text": [
            "Epoch [1038/5000]: 100%|██████████| 2/2 [00:00<00:00, 99.40it/s, loss=8.61]\n"
          ]
        },
        {
          "output_type": "stream",
          "name": "stdout",
          "text": [
            "Epoch [1038/5000]: Train loss: 8.7882, Valid loss: 10.0644\n"
          ]
        },
        {
          "output_type": "stream",
          "name": "stderr",
          "text": [
            "Epoch [1039/5000]: 100%|██████████| 2/2 [00:00<00:00, 119.78it/s, loss=10.6]\n"
          ]
        },
        {
          "output_type": "stream",
          "name": "stdout",
          "text": [
            "Epoch [1039/5000]: Train loss: 10.9672, Valid loss: 10.1056\n"
          ]
        },
        {
          "output_type": "stream",
          "name": "stderr",
          "text": [
            "Epoch [1040/5000]: 100%|██████████| 2/2 [00:00<00:00, 113.12it/s, loss=11.8]\n"
          ]
        },
        {
          "output_type": "stream",
          "name": "stdout",
          "text": [
            "Epoch [1040/5000]: Train loss: 10.5062, Valid loss: 10.1294\n"
          ]
        },
        {
          "output_type": "stream",
          "name": "stderr",
          "text": [
            "Epoch [1041/5000]: 100%|██████████| 2/2 [00:00<00:00, 125.22it/s, loss=9.83]\n"
          ]
        },
        {
          "output_type": "stream",
          "name": "stdout",
          "text": [
            "Epoch [1041/5000]: Train loss: 9.2201, Valid loss: 10.1080\n"
          ]
        },
        {
          "output_type": "stream",
          "name": "stderr",
          "text": [
            "Epoch [1042/5000]: 100%|██████████| 2/2 [00:00<00:00, 109.32it/s, loss=11.8]\n"
          ]
        },
        {
          "output_type": "stream",
          "name": "stdout",
          "text": [
            "Epoch [1042/5000]: Train loss: 10.2556, Valid loss: 10.2146\n"
          ]
        },
        {
          "output_type": "stream",
          "name": "stderr",
          "text": [
            "Epoch [1043/5000]: 100%|██████████| 2/2 [00:00<00:00, 108.58it/s, loss=7.78]\n"
          ]
        },
        {
          "output_type": "stream",
          "name": "stdout",
          "text": [
            "Epoch [1043/5000]: Train loss: 9.3851, Valid loss: 10.1626\n"
          ]
        },
        {
          "output_type": "stream",
          "name": "stderr",
          "text": [
            "Epoch [1044/5000]: 100%|██████████| 2/2 [00:00<00:00, 121.92it/s, loss=8.88]\n"
          ]
        },
        {
          "output_type": "stream",
          "name": "stdout",
          "text": [
            "Epoch [1044/5000]: Train loss: 9.4425, Valid loss: 10.1309\n"
          ]
        },
        {
          "output_type": "stream",
          "name": "stderr",
          "text": [
            "Epoch [1045/5000]: 100%|██████████| 2/2 [00:00<00:00, 117.66it/s, loss=10.2]\n"
          ]
        },
        {
          "output_type": "stream",
          "name": "stdout",
          "text": [
            "Epoch [1045/5000]: Train loss: 9.8530, Valid loss: 9.9804\n"
          ]
        },
        {
          "output_type": "stream",
          "name": "stderr",
          "text": [
            "Epoch [1046/5000]: 100%|██████████| 2/2 [00:00<00:00, 122.77it/s, loss=11.8]\n"
          ]
        },
        {
          "output_type": "stream",
          "name": "stdout",
          "text": [
            "Epoch [1046/5000]: Train loss: 11.0398, Valid loss: 9.9096\n"
          ]
        },
        {
          "output_type": "stream",
          "name": "stderr",
          "text": [
            "Epoch [1047/5000]: 100%|██████████| 2/2 [00:00<00:00, 100.58it/s, loss=10.4]\n"
          ]
        },
        {
          "output_type": "stream",
          "name": "stdout",
          "text": [
            "Epoch [1047/5000]: Train loss: 9.8377, Valid loss: 9.8544\n"
          ]
        },
        {
          "output_type": "stream",
          "name": "stderr",
          "text": [
            "Epoch [1048/5000]: 100%|██████████| 2/2 [00:00<00:00, 109.35it/s, loss=9.17]\n"
          ]
        },
        {
          "output_type": "stream",
          "name": "stdout",
          "text": [
            "Epoch [1048/5000]: Train loss: 9.3645, Valid loss: 9.7870\n"
          ]
        },
        {
          "output_type": "stream",
          "name": "stderr",
          "text": [
            "Epoch [1049/5000]: 100%|██████████| 2/2 [00:00<00:00, 107.63it/s, loss=6.48]\n"
          ]
        },
        {
          "output_type": "stream",
          "name": "stdout",
          "text": [
            "Epoch [1049/5000]: Train loss: 8.3658, Valid loss: 9.8304\n"
          ]
        },
        {
          "output_type": "stream",
          "name": "stderr",
          "text": [
            "Epoch [1050/5000]: 100%|██████████| 2/2 [00:00<00:00, 105.99it/s, loss=8.09]\n"
          ]
        },
        {
          "output_type": "stream",
          "name": "stdout",
          "text": [
            "Epoch [1050/5000]: Train loss: 9.0539, Valid loss: 9.7806\n"
          ]
        },
        {
          "output_type": "stream",
          "name": "stderr",
          "text": [
            "Epoch [1051/5000]: 100%|██████████| 2/2 [00:00<00:00, 106.38it/s, loss=8.89]\n"
          ]
        },
        {
          "output_type": "stream",
          "name": "stdout",
          "text": [
            "Epoch [1051/5000]: Train loss: 9.0000, Valid loss: 9.8192\n"
          ]
        },
        {
          "output_type": "stream",
          "name": "stderr",
          "text": [
            "Epoch [1052/5000]: 100%|██████████| 2/2 [00:00<00:00, 100.87it/s, loss=9.61]\n"
          ]
        },
        {
          "output_type": "stream",
          "name": "stdout",
          "text": [
            "Epoch [1052/5000]: Train loss: 9.5502, Valid loss: 9.8805\n"
          ]
        },
        {
          "output_type": "stream",
          "name": "stderr",
          "text": [
            "Epoch [1053/5000]: 100%|██████████| 2/2 [00:00<00:00, 120.85it/s, loss=8.95]\n"
          ]
        },
        {
          "output_type": "stream",
          "name": "stdout",
          "text": [
            "Epoch [1053/5000]: Train loss: 9.8195, Valid loss: 9.9822\n"
          ]
        },
        {
          "output_type": "stream",
          "name": "stderr",
          "text": [
            "Epoch [1054/5000]: 100%|██████████| 2/2 [00:00<00:00, 104.92it/s, loss=8.98]\n"
          ]
        },
        {
          "output_type": "stream",
          "name": "stdout",
          "text": [
            "Epoch [1054/5000]: Train loss: 9.2948, Valid loss: 10.1576\n"
          ]
        },
        {
          "output_type": "stream",
          "name": "stderr",
          "text": [
            "Epoch [1055/5000]: 100%|██████████| 2/2 [00:00<00:00, 117.09it/s, loss=12.2]\n"
          ]
        },
        {
          "output_type": "stream",
          "name": "stdout",
          "text": [
            "Epoch [1055/5000]: Train loss: 10.2732, Valid loss: 10.2775\n"
          ]
        },
        {
          "output_type": "stream",
          "name": "stderr",
          "text": [
            "Epoch [1056/5000]: 100%|██████████| 2/2 [00:00<00:00, 97.64it/s, loss=14.1]\n"
          ]
        },
        {
          "output_type": "stream",
          "name": "stdout",
          "text": [
            "Epoch [1056/5000]: Train loss: 11.0827, Valid loss: 10.3148\n"
          ]
        },
        {
          "output_type": "stream",
          "name": "stderr",
          "text": [
            "Epoch [1057/5000]: 100%|██████████| 2/2 [00:00<00:00, 102.19it/s, loss=13.9]\n"
          ]
        },
        {
          "output_type": "stream",
          "name": "stdout",
          "text": [
            "Epoch [1057/5000]: Train loss: 11.4279, Valid loss: 10.3014\n"
          ]
        },
        {
          "output_type": "stream",
          "name": "stderr",
          "text": [
            "Epoch [1058/5000]: 100%|██████████| 2/2 [00:00<00:00, 105.31it/s, loss=11]\n"
          ]
        },
        {
          "output_type": "stream",
          "name": "stdout",
          "text": [
            "Epoch [1058/5000]: Train loss: 10.1686, Valid loss: 10.2926\n"
          ]
        },
        {
          "output_type": "stream",
          "name": "stderr",
          "text": [
            "Epoch [1059/5000]: 100%|██████████| 2/2 [00:00<00:00, 101.91it/s, loss=11.5]\n"
          ]
        },
        {
          "output_type": "stream",
          "name": "stdout",
          "text": [
            "Epoch [1059/5000]: Train loss: 9.9525, Valid loss: 10.2593\n"
          ]
        },
        {
          "output_type": "stream",
          "name": "stderr",
          "text": [
            "Epoch [1060/5000]: 100%|██████████| 2/2 [00:00<00:00, 112.67it/s, loss=13.1]\n"
          ]
        },
        {
          "output_type": "stream",
          "name": "stdout",
          "text": [
            "Epoch [1060/5000]: Train loss: 11.3555, Valid loss: 10.2821\n"
          ]
        },
        {
          "output_type": "stream",
          "name": "stderr",
          "text": [
            "Epoch [1061/5000]: 100%|██████████| 2/2 [00:00<00:00, 98.80it/s, loss=8.07]\n"
          ]
        },
        {
          "output_type": "stream",
          "name": "stdout",
          "text": [
            "Epoch [1061/5000]: Train loss: 8.8861, Valid loss: 10.2721\n"
          ]
        },
        {
          "output_type": "stream",
          "name": "stderr",
          "text": [
            "Epoch [1062/5000]: 100%|██████████| 2/2 [00:00<00:00, 87.24it/s, loss=8.23]\n"
          ]
        },
        {
          "output_type": "stream",
          "name": "stdout",
          "text": [
            "Epoch [1062/5000]: Train loss: 9.2029, Valid loss: 10.2717\n"
          ]
        },
        {
          "output_type": "stream",
          "name": "stderr",
          "text": [
            "Epoch [1063/5000]: 100%|██████████| 2/2 [00:00<00:00, 121.03it/s, loss=6.91]\n"
          ]
        },
        {
          "output_type": "stream",
          "name": "stdout",
          "text": [
            "Epoch [1063/5000]: Train loss: 8.8573, Valid loss: 10.3256\n"
          ]
        },
        {
          "output_type": "stream",
          "name": "stderr",
          "text": [
            "Epoch [1064/5000]: 100%|██████████| 2/2 [00:00<00:00, 94.04it/s, loss=11.7]\n"
          ]
        },
        {
          "output_type": "stream",
          "name": "stdout",
          "text": [
            "Epoch [1064/5000]: Train loss: 10.5932, Valid loss: 10.2934\n"
          ]
        },
        {
          "output_type": "stream",
          "name": "stderr",
          "text": [
            "Epoch [1065/5000]: 100%|██████████| 2/2 [00:00<00:00, 114.84it/s, loss=9.68]\n"
          ]
        },
        {
          "output_type": "stream",
          "name": "stdout",
          "text": [
            "Epoch [1065/5000]: Train loss: 10.9639, Valid loss: 10.1334\n"
          ]
        },
        {
          "output_type": "stream",
          "name": "stderr",
          "text": [
            "Epoch [1066/5000]: 100%|██████████| 2/2 [00:00<00:00, 107.36it/s, loss=9.6]\n"
          ]
        },
        {
          "output_type": "stream",
          "name": "stdout",
          "text": [
            "Epoch [1066/5000]: Train loss: 9.6352, Valid loss: 9.9632\n"
          ]
        },
        {
          "output_type": "stream",
          "name": "stderr",
          "text": [
            "Epoch [1067/5000]: 100%|██████████| 2/2 [00:00<00:00, 95.54it/s, loss=11.3]\n"
          ]
        },
        {
          "output_type": "stream",
          "name": "stdout",
          "text": [
            "Epoch [1067/5000]: Train loss: 10.1814, Valid loss: 9.8364\n"
          ]
        },
        {
          "output_type": "stream",
          "name": "stderr",
          "text": [
            "Epoch [1068/5000]: 100%|██████████| 2/2 [00:00<00:00, 107.75it/s, loss=8.25]\n"
          ]
        },
        {
          "output_type": "stream",
          "name": "stdout",
          "text": [
            "Epoch [1068/5000]: Train loss: 9.1761, Valid loss: 9.7009\n"
          ]
        },
        {
          "output_type": "stream",
          "name": "stderr",
          "text": [
            "Epoch [1069/5000]: 100%|██████████| 2/2 [00:00<00:00, 103.16it/s, loss=9.74]\n"
          ]
        },
        {
          "output_type": "stream",
          "name": "stdout",
          "text": [
            "Epoch [1069/5000]: Train loss: 9.3651, Valid loss: 9.6325\n",
            "Saving model with loss 9.632...\n"
          ]
        },
        {
          "output_type": "stream",
          "name": "stderr",
          "text": [
            "Epoch [1070/5000]: 100%|██████████| 2/2 [00:00<00:00, 109.66it/s, loss=12.7]\n"
          ]
        },
        {
          "output_type": "stream",
          "name": "stdout",
          "text": [
            "Epoch [1070/5000]: Train loss: 10.5032, Valid loss: 9.6058\n",
            "Saving model with loss 9.606...\n"
          ]
        },
        {
          "output_type": "stream",
          "name": "stderr",
          "text": [
            "Epoch [1071/5000]: 100%|██████████| 2/2 [00:00<00:00, 98.71it/s, loss=9.86]\n"
          ]
        },
        {
          "output_type": "stream",
          "name": "stdout",
          "text": [
            "Epoch [1071/5000]: Train loss: 10.3907, Valid loss: 9.5594\n",
            "Saving model with loss 9.559...\n"
          ]
        },
        {
          "output_type": "stream",
          "name": "stderr",
          "text": [
            "Epoch [1072/5000]: 100%|██████████| 2/2 [00:00<00:00, 66.39it/s, loss=8.9]\n"
          ]
        },
        {
          "output_type": "stream",
          "name": "stdout",
          "text": [
            "Epoch [1072/5000]: Train loss: 8.9793, Valid loss: 9.5966\n"
          ]
        },
        {
          "output_type": "stream",
          "name": "stderr",
          "text": [
            "Epoch [1073/5000]: 100%|██████████| 2/2 [00:00<00:00, 83.89it/s, loss=7.69]\n"
          ]
        },
        {
          "output_type": "stream",
          "name": "stdout",
          "text": [
            "Epoch [1073/5000]: Train loss: 8.5796, Valid loss: 9.6424\n"
          ]
        },
        {
          "output_type": "stream",
          "name": "stderr",
          "text": [
            "Epoch [1074/5000]: 100%|██████████| 2/2 [00:00<00:00, 97.27it/s, loss=10.9]\n"
          ]
        },
        {
          "output_type": "stream",
          "name": "stdout",
          "text": [
            "Epoch [1074/5000]: Train loss: 10.9864, Valid loss: 9.7037\n"
          ]
        },
        {
          "output_type": "stream",
          "name": "stderr",
          "text": [
            "Epoch [1075/5000]: 100%|██████████| 2/2 [00:00<00:00, 106.07it/s, loss=12]\n"
          ]
        },
        {
          "output_type": "stream",
          "name": "stdout",
          "text": [
            "Epoch [1075/5000]: Train loss: 10.9730, Valid loss: 9.8081\n"
          ]
        },
        {
          "output_type": "stream",
          "name": "stderr",
          "text": [
            "Epoch [1076/5000]: 100%|██████████| 2/2 [00:00<00:00, 105.71it/s, loss=8.22]\n"
          ]
        },
        {
          "output_type": "stream",
          "name": "stdout",
          "text": [
            "Epoch [1076/5000]: Train loss: 8.7942, Valid loss: 9.9287\n"
          ]
        },
        {
          "output_type": "stream",
          "name": "stderr",
          "text": [
            "Epoch [1077/5000]: 100%|██████████| 2/2 [00:00<00:00, 96.26it/s, loss=8.77]\n"
          ]
        },
        {
          "output_type": "stream",
          "name": "stdout",
          "text": [
            "Epoch [1077/5000]: Train loss: 9.3926, Valid loss: 9.8448\n"
          ]
        },
        {
          "output_type": "stream",
          "name": "stderr",
          "text": [
            "Epoch [1078/5000]: 100%|██████████| 2/2 [00:00<00:00, 106.20it/s, loss=10.2]\n"
          ]
        },
        {
          "output_type": "stream",
          "name": "stdout",
          "text": [
            "Epoch [1078/5000]: Train loss: 9.9511, Valid loss: 9.8007\n"
          ]
        },
        {
          "output_type": "stream",
          "name": "stderr",
          "text": [
            "Epoch [1079/5000]: 100%|██████████| 2/2 [00:00<00:00, 106.48it/s, loss=10.3]\n"
          ]
        },
        {
          "output_type": "stream",
          "name": "stdout",
          "text": [
            "Epoch [1079/5000]: Train loss: 9.5907, Valid loss: 9.6792\n"
          ]
        },
        {
          "output_type": "stream",
          "name": "stderr",
          "text": [
            "Epoch [1080/5000]: 100%|██████████| 2/2 [00:00<00:00, 103.39it/s, loss=11.6]\n"
          ]
        },
        {
          "output_type": "stream",
          "name": "stdout",
          "text": [
            "Epoch [1080/5000]: Train loss: 10.3534, Valid loss: 9.6412\n"
          ]
        },
        {
          "output_type": "stream",
          "name": "stderr",
          "text": [
            "Epoch [1081/5000]: 100%|██████████| 2/2 [00:00<00:00, 108.72it/s, loss=12.6]\n"
          ]
        },
        {
          "output_type": "stream",
          "name": "stdout",
          "text": [
            "Epoch [1081/5000]: Train loss: 10.8346, Valid loss: 9.6079\n"
          ]
        },
        {
          "output_type": "stream",
          "name": "stderr",
          "text": [
            "Epoch [1082/5000]: 100%|██████████| 2/2 [00:00<00:00, 106.33it/s, loss=11.2]\n"
          ]
        },
        {
          "output_type": "stream",
          "name": "stdout",
          "text": [
            "Epoch [1082/5000]: Train loss: 10.7301, Valid loss: 9.6599\n"
          ]
        },
        {
          "output_type": "stream",
          "name": "stderr",
          "text": [
            "Epoch [1083/5000]: 100%|██████████| 2/2 [00:00<00:00, 108.66it/s, loss=9.55]\n"
          ]
        },
        {
          "output_type": "stream",
          "name": "stdout",
          "text": [
            "Epoch [1083/5000]: Train loss: 9.4814, Valid loss: 9.8216\n"
          ]
        },
        {
          "output_type": "stream",
          "name": "stderr",
          "text": [
            "Epoch [1084/5000]: 100%|██████████| 2/2 [00:00<00:00, 108.86it/s, loss=11.8]\n"
          ]
        },
        {
          "output_type": "stream",
          "name": "stdout",
          "text": [
            "Epoch [1084/5000]: Train loss: 10.4257, Valid loss: 9.8993\n"
          ]
        },
        {
          "output_type": "stream",
          "name": "stderr",
          "text": [
            "Epoch [1085/5000]: 100%|██████████| 2/2 [00:00<00:00, 115.46it/s, loss=11.9]\n"
          ]
        },
        {
          "output_type": "stream",
          "name": "stdout",
          "text": [
            "Epoch [1085/5000]: Train loss: 10.7908, Valid loss: 9.9468\n"
          ]
        },
        {
          "output_type": "stream",
          "name": "stderr",
          "text": [
            "Epoch [1086/5000]: 100%|██████████| 2/2 [00:00<00:00, 133.16it/s, loss=8.27]\n"
          ]
        },
        {
          "output_type": "stream",
          "name": "stdout",
          "text": [
            "Epoch [1086/5000]: Train loss: 9.6880, Valid loss: 9.8947\n"
          ]
        },
        {
          "output_type": "stream",
          "name": "stderr",
          "text": [
            "Epoch [1087/5000]: 100%|██████████| 2/2 [00:00<00:00, 114.80it/s, loss=7.29]\n"
          ]
        },
        {
          "output_type": "stream",
          "name": "stdout",
          "text": [
            "Epoch [1087/5000]: Train loss: 8.4751, Valid loss: 9.8300\n"
          ]
        },
        {
          "output_type": "stream",
          "name": "stderr",
          "text": [
            "Epoch [1088/5000]: 100%|██████████| 2/2 [00:00<00:00, 118.45it/s, loss=9.17]\n"
          ]
        },
        {
          "output_type": "stream",
          "name": "stdout",
          "text": [
            "Epoch [1088/5000]: Train loss: 8.6174, Valid loss: 9.7502\n"
          ]
        },
        {
          "output_type": "stream",
          "name": "stderr",
          "text": [
            "Epoch [1089/5000]: 100%|██████████| 2/2 [00:00<00:00, 126.93it/s, loss=9.66]\n"
          ]
        },
        {
          "output_type": "stream",
          "name": "stdout",
          "text": [
            "Epoch [1089/5000]: Train loss: 9.9168, Valid loss: 9.6545\n"
          ]
        },
        {
          "output_type": "stream",
          "name": "stderr",
          "text": [
            "Epoch [1090/5000]: 100%|██████████| 2/2 [00:00<00:00, 110.21it/s, loss=8.71]\n"
          ]
        },
        {
          "output_type": "stream",
          "name": "stdout",
          "text": [
            "Epoch [1090/5000]: Train loss: 9.5290, Valid loss: 9.5330\n",
            "Saving model with loss 9.533...\n"
          ]
        },
        {
          "output_type": "stream",
          "name": "stderr",
          "text": [
            "Epoch [1091/5000]: 100%|██████████| 2/2 [00:00<00:00, 111.24it/s, loss=10.1]\n"
          ]
        },
        {
          "output_type": "stream",
          "name": "stdout",
          "text": [
            "Epoch [1091/5000]: Train loss: 10.3305, Valid loss: 9.4013\n",
            "Saving model with loss 9.401...\n"
          ]
        },
        {
          "output_type": "stream",
          "name": "stderr",
          "text": [
            "Epoch [1092/5000]: 100%|██████████| 2/2 [00:00<00:00, 121.09it/s, loss=8.73]\n"
          ]
        },
        {
          "output_type": "stream",
          "name": "stdout",
          "text": [
            "Epoch [1092/5000]: Train loss: 9.4745, Valid loss: 9.2176\n",
            "Saving model with loss 9.218...\n"
          ]
        },
        {
          "output_type": "stream",
          "name": "stderr",
          "text": [
            "Epoch [1093/5000]: 100%|██████████| 2/2 [00:00<00:00, 122.72it/s, loss=9.31]\n"
          ]
        },
        {
          "output_type": "stream",
          "name": "stdout",
          "text": [
            "Epoch [1093/5000]: Train loss: 9.7632, Valid loss: 9.2215\n"
          ]
        },
        {
          "output_type": "stream",
          "name": "stderr",
          "text": [
            "Epoch [1094/5000]: 100%|██████████| 2/2 [00:00<00:00, 118.67it/s, loss=11.1]\n"
          ]
        },
        {
          "output_type": "stream",
          "name": "stdout",
          "text": [
            "Epoch [1094/5000]: Train loss: 10.9687, Valid loss: 9.2678\n"
          ]
        },
        {
          "output_type": "stream",
          "name": "stderr",
          "text": [
            "Epoch [1095/5000]: 100%|██████████| 2/2 [00:00<00:00, 109.32it/s, loss=9.34]\n"
          ]
        },
        {
          "output_type": "stream",
          "name": "stdout",
          "text": [
            "Epoch [1095/5000]: Train loss: 9.7574, Valid loss: 9.2610\n"
          ]
        },
        {
          "output_type": "stream",
          "name": "stderr",
          "text": [
            "Epoch [1096/5000]: 100%|██████████| 2/2 [00:00<00:00, 110.58it/s, loss=10.4]\n"
          ]
        },
        {
          "output_type": "stream",
          "name": "stdout",
          "text": [
            "Epoch [1096/5000]: Train loss: 9.7842, Valid loss: 9.3585\n"
          ]
        },
        {
          "output_type": "stream",
          "name": "stderr",
          "text": [
            "Epoch [1097/5000]: 100%|██████████| 2/2 [00:00<00:00, 100.55it/s, loss=13.4]\n"
          ]
        },
        {
          "output_type": "stream",
          "name": "stdout",
          "text": [
            "Epoch [1097/5000]: Train loss: 11.4990, Valid loss: 9.5077\n"
          ]
        },
        {
          "output_type": "stream",
          "name": "stderr",
          "text": [
            "Epoch [1098/5000]: 100%|██████████| 2/2 [00:00<00:00, 110.26it/s, loss=9.73]\n"
          ]
        },
        {
          "output_type": "stream",
          "name": "stdout",
          "text": [
            "Epoch [1098/5000]: Train loss: 9.6857, Valid loss: 9.6059\n"
          ]
        },
        {
          "output_type": "stream",
          "name": "stderr",
          "text": [
            "Epoch [1099/5000]: 100%|██████████| 2/2 [00:00<00:00, 103.64it/s, loss=7.69]\n"
          ]
        },
        {
          "output_type": "stream",
          "name": "stdout",
          "text": [
            "Epoch [1099/5000]: Train loss: 9.1970, Valid loss: 9.6839\n"
          ]
        },
        {
          "output_type": "stream",
          "name": "stderr",
          "text": [
            "Epoch [1100/5000]: 100%|██████████| 2/2 [00:00<00:00, 103.98it/s, loss=8.17]\n"
          ]
        },
        {
          "output_type": "stream",
          "name": "stdout",
          "text": [
            "Epoch [1100/5000]: Train loss: 9.2752, Valid loss: 9.7451\n"
          ]
        },
        {
          "output_type": "stream",
          "name": "stderr",
          "text": [
            "Epoch [1101/5000]: 100%|██████████| 2/2 [00:00<00:00, 97.27it/s, loss=7.5]\n"
          ]
        },
        {
          "output_type": "stream",
          "name": "stdout",
          "text": [
            "Epoch [1101/5000]: Train loss: 8.4465, Valid loss: 9.7679\n"
          ]
        },
        {
          "output_type": "stream",
          "name": "stderr",
          "text": [
            "Epoch [1102/5000]: 100%|██████████| 2/2 [00:00<00:00, 108.89it/s, loss=13.6]\n"
          ]
        },
        {
          "output_type": "stream",
          "name": "stdout",
          "text": [
            "Epoch [1102/5000]: Train loss: 11.7617, Valid loss: 9.8056\n"
          ]
        },
        {
          "output_type": "stream",
          "name": "stderr",
          "text": [
            "Epoch [1103/5000]: 100%|██████████| 2/2 [00:00<00:00, 125.22it/s, loss=14.8]\n"
          ]
        },
        {
          "output_type": "stream",
          "name": "stdout",
          "text": [
            "Epoch [1103/5000]: Train loss: 12.8453, Valid loss: 9.6533\n"
          ]
        },
        {
          "output_type": "stream",
          "name": "stderr",
          "text": [
            "Epoch [1104/5000]: 100%|██████████| 2/2 [00:00<00:00, 117.06it/s, loss=12]\n"
          ]
        },
        {
          "output_type": "stream",
          "name": "stdout",
          "text": [
            "Epoch [1104/5000]: Train loss: 10.1147, Valid loss: 9.5908\n"
          ]
        },
        {
          "output_type": "stream",
          "name": "stderr",
          "text": [
            "Epoch [1105/5000]: 100%|██████████| 2/2 [00:00<00:00, 114.75it/s, loss=12.7]\n"
          ]
        },
        {
          "output_type": "stream",
          "name": "stdout",
          "text": [
            "Epoch [1105/5000]: Train loss: 11.4424, Valid loss: 9.6360\n"
          ]
        },
        {
          "output_type": "stream",
          "name": "stderr",
          "text": [
            "Epoch [1106/5000]: 100%|██████████| 2/2 [00:00<00:00, 106.60it/s, loss=10.1]\n"
          ]
        },
        {
          "output_type": "stream",
          "name": "stdout",
          "text": [
            "Epoch [1106/5000]: Train loss: 10.2353, Valid loss: 9.6277\n"
          ]
        },
        {
          "output_type": "stream",
          "name": "stderr",
          "text": [
            "Epoch [1107/5000]: 100%|██████████| 2/2 [00:00<00:00, 43.39it/s, loss=10.1]\n"
          ]
        },
        {
          "output_type": "stream",
          "name": "stdout",
          "text": [
            "Epoch [1107/5000]: Train loss: 10.4638, Valid loss: 9.7087\n"
          ]
        },
        {
          "output_type": "stream",
          "name": "stderr",
          "text": [
            "Epoch [1108/5000]: 100%|██████████| 2/2 [00:00<00:00, 21.45it/s, loss=8.46]\n"
          ]
        },
        {
          "output_type": "stream",
          "name": "stdout",
          "text": [
            "Epoch [1108/5000]: Train loss: 9.4168, Valid loss: 9.8070\n"
          ]
        },
        {
          "output_type": "stream",
          "name": "stderr",
          "text": [
            "Epoch [1109/5000]: 100%|██████████| 2/2 [00:00<00:00, 98.92it/s, loss=10.8]\n"
          ]
        },
        {
          "output_type": "stream",
          "name": "stdout",
          "text": [
            "Epoch [1109/5000]: Train loss: 10.0719, Valid loss: 9.7985\n"
          ]
        },
        {
          "output_type": "stream",
          "name": "stderr",
          "text": [
            "Epoch [1110/5000]: 100%|██████████| 2/2 [00:00<00:00, 103.00it/s, loss=8.02]\n"
          ]
        },
        {
          "output_type": "stream",
          "name": "stdout",
          "text": [
            "Epoch [1110/5000]: Train loss: 9.6802, Valid loss: 9.9029\n"
          ]
        },
        {
          "output_type": "stream",
          "name": "stderr",
          "text": [
            "Epoch [1111/5000]: 100%|██████████| 2/2 [00:00<00:00, 112.05it/s, loss=8.87]\n"
          ]
        },
        {
          "output_type": "stream",
          "name": "stdout",
          "text": [
            "Epoch [1111/5000]: Train loss: 8.8043, Valid loss: 9.9405\n"
          ]
        },
        {
          "output_type": "stream",
          "name": "stderr",
          "text": [
            "Epoch [1112/5000]: 100%|██████████| 2/2 [00:00<00:00, 104.93it/s, loss=11.8]\n"
          ]
        },
        {
          "output_type": "stream",
          "name": "stdout",
          "text": [
            "Epoch [1112/5000]: Train loss: 10.6939, Valid loss: 10.0024\n"
          ]
        },
        {
          "output_type": "stream",
          "name": "stderr",
          "text": [
            "Epoch [1113/5000]: 100%|██████████| 2/2 [00:00<00:00, 116.97it/s, loss=9.92]\n"
          ]
        },
        {
          "output_type": "stream",
          "name": "stdout",
          "text": [
            "Epoch [1113/5000]: Train loss: 9.9302, Valid loss: 10.0231\n"
          ]
        },
        {
          "output_type": "stream",
          "name": "stderr",
          "text": [
            "Epoch [1114/5000]: 100%|██████████| 2/2 [00:00<00:00, 98.13it/s, loss=8.14]\n"
          ]
        },
        {
          "output_type": "stream",
          "name": "stdout",
          "text": [
            "Epoch [1114/5000]: Train loss: 9.3608, Valid loss: 10.0234\n"
          ]
        },
        {
          "output_type": "stream",
          "name": "stderr",
          "text": [
            "Epoch [1115/5000]: 100%|██████████| 2/2 [00:00<00:00, 108.60it/s, loss=7.48]\n"
          ]
        },
        {
          "output_type": "stream",
          "name": "stdout",
          "text": [
            "Epoch [1115/5000]: Train loss: 8.1089, Valid loss: 10.1308\n"
          ]
        },
        {
          "output_type": "stream",
          "name": "stderr",
          "text": [
            "Epoch [1116/5000]: 100%|██████████| 2/2 [00:00<00:00, 105.76it/s, loss=10.2]\n"
          ]
        },
        {
          "output_type": "stream",
          "name": "stdout",
          "text": [
            "Epoch [1116/5000]: Train loss: 9.8121, Valid loss: 10.1926\n"
          ]
        },
        {
          "output_type": "stream",
          "name": "stderr",
          "text": [
            "Epoch [1117/5000]: 100%|██████████| 2/2 [00:00<00:00, 87.46it/s, loss=8.48]\n"
          ]
        },
        {
          "output_type": "stream",
          "name": "stdout",
          "text": [
            "Epoch [1117/5000]: Train loss: 9.1107, Valid loss: 10.1446\n"
          ]
        },
        {
          "output_type": "stream",
          "name": "stderr",
          "text": [
            "Epoch [1118/5000]: 100%|██████████| 2/2 [00:00<00:00, 104.56it/s, loss=9.76]\n"
          ]
        },
        {
          "output_type": "stream",
          "name": "stdout",
          "text": [
            "Epoch [1118/5000]: Train loss: 9.8312, Valid loss: 9.9186\n"
          ]
        },
        {
          "output_type": "stream",
          "name": "stderr",
          "text": [
            "Epoch [1119/5000]: 100%|██████████| 2/2 [00:00<00:00, 96.29it/s, loss=11.8]\n"
          ]
        },
        {
          "output_type": "stream",
          "name": "stdout",
          "text": [
            "Epoch [1119/5000]: Train loss: 10.7429, Valid loss: 9.8333\n"
          ]
        },
        {
          "output_type": "stream",
          "name": "stderr",
          "text": [
            "Epoch [1120/5000]: 100%|██████████| 2/2 [00:00<00:00, 101.19it/s, loss=7.21]\n"
          ]
        },
        {
          "output_type": "stream",
          "name": "stdout",
          "text": [
            "Epoch [1120/5000]: Train loss: 9.1588, Valid loss: 9.7842\n"
          ]
        },
        {
          "output_type": "stream",
          "name": "stderr",
          "text": [
            "Epoch [1121/5000]: 100%|██████████| 2/2 [00:00<00:00, 104.05it/s, loss=11.7]\n"
          ]
        },
        {
          "output_type": "stream",
          "name": "stdout",
          "text": [
            "Epoch [1121/5000]: Train loss: 9.9419, Valid loss: 9.7717\n"
          ]
        },
        {
          "output_type": "stream",
          "name": "stderr",
          "text": [
            "Epoch [1122/5000]: 100%|██████████| 2/2 [00:00<00:00, 102.57it/s, loss=8.32]\n"
          ]
        },
        {
          "output_type": "stream",
          "name": "stdout",
          "text": [
            "Epoch [1122/5000]: Train loss: 9.3356, Valid loss: 9.7130\n"
          ]
        },
        {
          "output_type": "stream",
          "name": "stderr",
          "text": [
            "Epoch [1123/5000]: 100%|██████████| 2/2 [00:00<00:00, 122.20it/s, loss=12.2]\n"
          ]
        },
        {
          "output_type": "stream",
          "name": "stdout",
          "text": [
            "Epoch [1123/5000]: Train loss: 10.3369, Valid loss: 9.6452\n"
          ]
        },
        {
          "output_type": "stream",
          "name": "stderr",
          "text": [
            "Epoch [1124/5000]: 100%|██████████| 2/2 [00:00<00:00, 105.21it/s, loss=11]\n"
          ]
        },
        {
          "output_type": "stream",
          "name": "stdout",
          "text": [
            "Epoch [1124/5000]: Train loss: 9.6322, Valid loss: 9.6631\n"
          ]
        },
        {
          "output_type": "stream",
          "name": "stderr",
          "text": [
            "Epoch [1125/5000]: 100%|██████████| 2/2 [00:00<00:00, 97.00it/s, loss=7.92]\n"
          ]
        },
        {
          "output_type": "stream",
          "name": "stdout",
          "text": [
            "Epoch [1125/5000]: Train loss: 9.1522, Valid loss: 9.7330\n"
          ]
        },
        {
          "output_type": "stream",
          "name": "stderr",
          "text": [
            "Epoch [1126/5000]: 100%|██████████| 2/2 [00:00<00:00, 126.58it/s, loss=8.04]\n"
          ]
        },
        {
          "output_type": "stream",
          "name": "stdout",
          "text": [
            "Epoch [1126/5000]: Train loss: 8.9434, Valid loss: 9.8287\n"
          ]
        },
        {
          "output_type": "stream",
          "name": "stderr",
          "text": [
            "Epoch [1127/5000]: 100%|██████████| 2/2 [00:00<00:00, 102.64it/s, loss=13.1]\n"
          ]
        },
        {
          "output_type": "stream",
          "name": "stdout",
          "text": [
            "Epoch [1127/5000]: Train loss: 11.8821, Valid loss: 10.0551\n"
          ]
        },
        {
          "output_type": "stream",
          "name": "stderr",
          "text": [
            "Epoch [1128/5000]: 100%|██████████| 2/2 [00:00<00:00, 113.69it/s, loss=8.38]\n"
          ]
        },
        {
          "output_type": "stream",
          "name": "stdout",
          "text": [
            "Epoch [1128/5000]: Train loss: 8.9470, Valid loss: 10.1456\n"
          ]
        },
        {
          "output_type": "stream",
          "name": "stderr",
          "text": [
            "Epoch [1129/5000]: 100%|██████████| 2/2 [00:00<00:00, 105.54it/s, loss=7.84]\n"
          ]
        },
        {
          "output_type": "stream",
          "name": "stdout",
          "text": [
            "Epoch [1129/5000]: Train loss: 8.3318, Valid loss: 10.2219\n"
          ]
        },
        {
          "output_type": "stream",
          "name": "stderr",
          "text": [
            "Epoch [1130/5000]: 100%|██████████| 2/2 [00:00<00:00, 107.44it/s, loss=11.2]\n"
          ]
        },
        {
          "output_type": "stream",
          "name": "stdout",
          "text": [
            "Epoch [1130/5000]: Train loss: 10.9217, Valid loss: 10.2138\n"
          ]
        },
        {
          "output_type": "stream",
          "name": "stderr",
          "text": [
            "Epoch [1131/5000]: 100%|██████████| 2/2 [00:00<00:00, 106.81it/s, loss=11.1]\n"
          ]
        },
        {
          "output_type": "stream",
          "name": "stdout",
          "text": [
            "Epoch [1131/5000]: Train loss: 9.6675, Valid loss: 10.1275\n"
          ]
        },
        {
          "output_type": "stream",
          "name": "stderr",
          "text": [
            "Epoch [1132/5000]: 100%|██████████| 2/2 [00:00<00:00, 117.63it/s, loss=9.21]\n"
          ]
        },
        {
          "output_type": "stream",
          "name": "stdout",
          "text": [
            "Epoch [1132/5000]: Train loss: 9.7095, Valid loss: 10.0257\n"
          ]
        },
        {
          "output_type": "stream",
          "name": "stderr",
          "text": [
            "Epoch [1133/5000]: 100%|██████████| 2/2 [00:00<00:00, 111.90it/s, loss=7]\n"
          ]
        },
        {
          "output_type": "stream",
          "name": "stdout",
          "text": [
            "Epoch [1133/5000]: Train loss: 8.1029, Valid loss: 9.9691\n"
          ]
        },
        {
          "output_type": "stream",
          "name": "stderr",
          "text": [
            "Epoch [1134/5000]: 100%|██████████| 2/2 [00:00<00:00, 104.53it/s, loss=13]\n"
          ]
        },
        {
          "output_type": "stream",
          "name": "stdout",
          "text": [
            "Epoch [1134/5000]: Train loss: 11.3646, Valid loss: 9.9459\n"
          ]
        },
        {
          "output_type": "stream",
          "name": "stderr",
          "text": [
            "Epoch [1135/5000]: 100%|██████████| 2/2 [00:00<00:00, 101.65it/s, loss=8.66]\n"
          ]
        },
        {
          "output_type": "stream",
          "name": "stdout",
          "text": [
            "Epoch [1135/5000]: Train loss: 8.8923, Valid loss: 9.9246\n"
          ]
        },
        {
          "output_type": "stream",
          "name": "stderr",
          "text": [
            "Epoch [1136/5000]: 100%|██████████| 2/2 [00:00<00:00, 105.71it/s, loss=13.9]\n"
          ]
        },
        {
          "output_type": "stream",
          "name": "stdout",
          "text": [
            "Epoch [1136/5000]: Train loss: 12.9469, Valid loss: 9.8155\n"
          ]
        },
        {
          "output_type": "stream",
          "name": "stderr",
          "text": [
            "Epoch [1137/5000]: 100%|██████████| 2/2 [00:00<00:00, 100.77it/s, loss=11.6]\n"
          ]
        },
        {
          "output_type": "stream",
          "name": "stdout",
          "text": [
            "Epoch [1137/5000]: Train loss: 9.3943, Valid loss: 9.7906\n"
          ]
        },
        {
          "output_type": "stream",
          "name": "stderr",
          "text": [
            "Epoch [1138/5000]: 100%|██████████| 2/2 [00:00<00:00, 123.26it/s, loss=11.9]\n"
          ]
        },
        {
          "output_type": "stream",
          "name": "stdout",
          "text": [
            "Epoch [1138/5000]: Train loss: 10.4913, Valid loss: 9.8955\n"
          ]
        },
        {
          "output_type": "stream",
          "name": "stderr",
          "text": [
            "Epoch [1139/5000]: 100%|██████████| 2/2 [00:00<00:00, 101.70it/s, loss=8.46]\n"
          ]
        },
        {
          "output_type": "stream",
          "name": "stdout",
          "text": [
            "Epoch [1139/5000]: Train loss: 8.6250, Valid loss: 9.9114\n"
          ]
        },
        {
          "output_type": "stream",
          "name": "stderr",
          "text": [
            "Epoch [1140/5000]: 100%|██████████| 2/2 [00:00<00:00, 79.56it/s, loss=9.82]\n"
          ]
        },
        {
          "output_type": "stream",
          "name": "stdout",
          "text": [
            "Epoch [1140/5000]: Train loss: 9.7037, Valid loss: 9.8819\n"
          ]
        },
        {
          "output_type": "stream",
          "name": "stderr",
          "text": [
            "Epoch [1141/5000]: 100%|██████████| 2/2 [00:00<00:00, 94.38it/s, loss=14.3]\n"
          ]
        },
        {
          "output_type": "stream",
          "name": "stdout",
          "text": [
            "Epoch [1141/5000]: Train loss: 12.5182, Valid loss: 9.9039\n"
          ]
        },
        {
          "output_type": "stream",
          "name": "stderr",
          "text": [
            "Epoch [1142/5000]: 100%|██████████| 2/2 [00:00<00:00, 95.52it/s, loss=10.5]\n"
          ]
        },
        {
          "output_type": "stream",
          "name": "stdout",
          "text": [
            "Epoch [1142/5000]: Train loss: 10.7473, Valid loss: 9.9824\n"
          ]
        },
        {
          "output_type": "stream",
          "name": "stderr",
          "text": [
            "Epoch [1143/5000]: 100%|██████████| 2/2 [00:00<00:00, 107.07it/s, loss=11]\n"
          ]
        },
        {
          "output_type": "stream",
          "name": "stdout",
          "text": [
            "Epoch [1143/5000]: Train loss: 9.8405, Valid loss: 10.0673\n"
          ]
        },
        {
          "output_type": "stream",
          "name": "stderr",
          "text": [
            "Epoch [1144/5000]: 100%|██████████| 2/2 [00:00<00:00, 101.48it/s, loss=11.3]\n"
          ]
        },
        {
          "output_type": "stream",
          "name": "stdout",
          "text": [
            "Epoch [1144/5000]: Train loss: 10.3318, Valid loss: 10.1730\n"
          ]
        },
        {
          "output_type": "stream",
          "name": "stderr",
          "text": [
            "Epoch [1145/5000]: 100%|██████████| 2/2 [00:00<00:00, 111.55it/s, loss=10.5]\n"
          ]
        },
        {
          "output_type": "stream",
          "name": "stdout",
          "text": [
            "Epoch [1145/5000]: Train loss: 9.9903, Valid loss: 10.0508\n"
          ]
        },
        {
          "output_type": "stream",
          "name": "stderr",
          "text": [
            "Epoch [1146/5000]: 100%|██████████| 2/2 [00:00<00:00, 108.39it/s, loss=10.7]\n"
          ]
        },
        {
          "output_type": "stream",
          "name": "stdout",
          "text": [
            "Epoch [1146/5000]: Train loss: 10.1107, Valid loss: 10.0516\n"
          ]
        },
        {
          "output_type": "stream",
          "name": "stderr",
          "text": [
            "Epoch [1147/5000]: 100%|██████████| 2/2 [00:00<00:00, 106.10it/s, loss=7.08]\n"
          ]
        },
        {
          "output_type": "stream",
          "name": "stdout",
          "text": [
            "Epoch [1147/5000]: Train loss: 8.4791, Valid loss: 10.0300\n"
          ]
        },
        {
          "output_type": "stream",
          "name": "stderr",
          "text": [
            "Epoch [1148/5000]: 100%|██████████| 2/2 [00:00<00:00, 84.21it/s, loss=13.1]\n"
          ]
        },
        {
          "output_type": "stream",
          "name": "stdout",
          "text": [
            "Epoch [1148/5000]: Train loss: 11.3431, Valid loss: 9.8826\n"
          ]
        },
        {
          "output_type": "stream",
          "name": "stderr",
          "text": [
            "Epoch [1149/5000]: 100%|██████████| 2/2 [00:00<00:00, 86.02it/s, loss=9.68]\n"
          ]
        },
        {
          "output_type": "stream",
          "name": "stdout",
          "text": [
            "Epoch [1149/5000]: Train loss: 9.6308, Valid loss: 9.8656\n"
          ]
        },
        {
          "output_type": "stream",
          "name": "stderr",
          "text": [
            "Epoch [1150/5000]: 100%|██████████| 2/2 [00:00<00:00, 16.97it/s, loss=9.28]\n"
          ]
        },
        {
          "output_type": "stream",
          "name": "stdout",
          "text": [
            "Epoch [1150/5000]: Train loss: 8.9820, Valid loss: 9.8454\n"
          ]
        },
        {
          "output_type": "stream",
          "name": "stderr",
          "text": [
            "Epoch [1151/5000]: 100%|██████████| 2/2 [00:00<00:00, 107.12it/s, loss=9.61]\n"
          ]
        },
        {
          "output_type": "stream",
          "name": "stdout",
          "text": [
            "Epoch [1151/5000]: Train loss: 9.1925, Valid loss: 9.8099\n"
          ]
        },
        {
          "output_type": "stream",
          "name": "stderr",
          "text": [
            "Epoch [1152/5000]: 100%|██████████| 2/2 [00:00<00:00, 92.63it/s, loss=9.98]\n"
          ]
        },
        {
          "output_type": "stream",
          "name": "stdout",
          "text": [
            "Epoch [1152/5000]: Train loss: 9.0632, Valid loss: 9.7101\n"
          ]
        },
        {
          "output_type": "stream",
          "name": "stderr",
          "text": [
            "Epoch [1153/5000]: 100%|██████████| 2/2 [00:00<00:00, 113.74it/s, loss=10.1]\n"
          ]
        },
        {
          "output_type": "stream",
          "name": "stdout",
          "text": [
            "Epoch [1153/5000]: Train loss: 9.1780, Valid loss: 9.5986\n"
          ]
        },
        {
          "output_type": "stream",
          "name": "stderr",
          "text": [
            "Epoch [1154/5000]: 100%|██████████| 2/2 [00:00<00:00, 101.63it/s, loss=10.7]\n"
          ]
        },
        {
          "output_type": "stream",
          "name": "stdout",
          "text": [
            "Epoch [1154/5000]: Train loss: 10.0362, Valid loss: 9.6083\n"
          ]
        },
        {
          "output_type": "stream",
          "name": "stderr",
          "text": [
            "Epoch [1155/5000]: 100%|██████████| 2/2 [00:00<00:00, 100.59it/s, loss=7.91]\n"
          ]
        },
        {
          "output_type": "stream",
          "name": "stdout",
          "text": [
            "Epoch [1155/5000]: Train loss: 9.0439, Valid loss: 9.6155\n"
          ]
        },
        {
          "output_type": "stream",
          "name": "stderr",
          "text": [
            "Epoch [1156/5000]: 100%|██████████| 2/2 [00:00<00:00, 100.12it/s, loss=10.7]\n"
          ]
        },
        {
          "output_type": "stream",
          "name": "stdout",
          "text": [
            "Epoch [1156/5000]: Train loss: 10.1118, Valid loss: 9.6234\n"
          ]
        },
        {
          "output_type": "stream",
          "name": "stderr",
          "text": [
            "Epoch [1157/5000]: 100%|██████████| 2/2 [00:00<00:00, 103.41it/s, loss=11.3]\n"
          ]
        },
        {
          "output_type": "stream",
          "name": "stdout",
          "text": [
            "Epoch [1157/5000]: Train loss: 10.1132, Valid loss: 9.6018\n"
          ]
        },
        {
          "output_type": "stream",
          "name": "stderr",
          "text": [
            "Epoch [1158/5000]: 100%|██████████| 2/2 [00:00<00:00, 107.04it/s, loss=8.39]\n"
          ]
        },
        {
          "output_type": "stream",
          "name": "stdout",
          "text": [
            "Epoch [1158/5000]: Train loss: 8.9510, Valid loss: 9.5918\n"
          ]
        },
        {
          "output_type": "stream",
          "name": "stderr",
          "text": [
            "Epoch [1159/5000]: 100%|██████████| 2/2 [00:00<00:00, 109.35it/s, loss=11.8]\n"
          ]
        },
        {
          "output_type": "stream",
          "name": "stdout",
          "text": [
            "Epoch [1159/5000]: Train loss: 10.6466, Valid loss: 9.6714\n"
          ]
        },
        {
          "output_type": "stream",
          "name": "stderr",
          "text": [
            "Epoch [1160/5000]: 100%|██████████| 2/2 [00:00<00:00, 111.05it/s, loss=8.64]\n"
          ]
        },
        {
          "output_type": "stream",
          "name": "stdout",
          "text": [
            "Epoch [1160/5000]: Train loss: 8.7490, Valid loss: 9.7860\n"
          ]
        },
        {
          "output_type": "stream",
          "name": "stderr",
          "text": [
            "Epoch [1161/5000]: 100%|██████████| 2/2 [00:00<00:00, 111.32it/s, loss=11]\n"
          ]
        },
        {
          "output_type": "stream",
          "name": "stdout",
          "text": [
            "Epoch [1161/5000]: Train loss: 10.0948, Valid loss: 9.7763\n"
          ]
        },
        {
          "output_type": "stream",
          "name": "stderr",
          "text": [
            "Epoch [1162/5000]: 100%|██████████| 2/2 [00:00<00:00, 107.62it/s, loss=7.61]\n"
          ]
        },
        {
          "output_type": "stream",
          "name": "stdout",
          "text": [
            "Epoch [1162/5000]: Train loss: 8.8416, Valid loss: 9.7383\n"
          ]
        },
        {
          "output_type": "stream",
          "name": "stderr",
          "text": [
            "Epoch [1163/5000]: 100%|██████████| 2/2 [00:00<00:00, 111.08it/s, loss=10.4]\n"
          ]
        },
        {
          "output_type": "stream",
          "name": "stdout",
          "text": [
            "Epoch [1163/5000]: Train loss: 9.9392, Valid loss: 9.7542\n"
          ]
        },
        {
          "output_type": "stream",
          "name": "stderr",
          "text": [
            "Epoch [1164/5000]: 100%|██████████| 2/2 [00:00<00:00, 105.91it/s, loss=9.03]\n"
          ]
        },
        {
          "output_type": "stream",
          "name": "stdout",
          "text": [
            "Epoch [1164/5000]: Train loss: 10.0471, Valid loss: 9.8017\n"
          ]
        },
        {
          "output_type": "stream",
          "name": "stderr",
          "text": [
            "Epoch [1165/5000]: 100%|██████████| 2/2 [00:00<00:00, 108.34it/s, loss=9.59]\n"
          ]
        },
        {
          "output_type": "stream",
          "name": "stdout",
          "text": [
            "Epoch [1165/5000]: Train loss: 10.0192, Valid loss: 9.8168\n"
          ]
        },
        {
          "output_type": "stream",
          "name": "stderr",
          "text": [
            "Epoch [1166/5000]: 100%|██████████| 2/2 [00:00<00:00, 104.24it/s, loss=10.3]\n"
          ]
        },
        {
          "output_type": "stream",
          "name": "stdout",
          "text": [
            "Epoch [1166/5000]: Train loss: 10.4176, Valid loss: 9.8258\n"
          ]
        },
        {
          "output_type": "stream",
          "name": "stderr",
          "text": [
            "Epoch [1167/5000]: 100%|██████████| 2/2 [00:00<00:00, 105.15it/s, loss=9.47]\n"
          ]
        },
        {
          "output_type": "stream",
          "name": "stdout",
          "text": [
            "Epoch [1167/5000]: Train loss: 9.6288, Valid loss: 9.7959\n"
          ]
        },
        {
          "output_type": "stream",
          "name": "stderr",
          "text": [
            "Epoch [1168/5000]: 100%|██████████| 2/2 [00:00<00:00, 104.92it/s, loss=7.33]\n"
          ]
        },
        {
          "output_type": "stream",
          "name": "stdout",
          "text": [
            "Epoch [1168/5000]: Train loss: 8.9401, Valid loss: 9.6913\n"
          ]
        },
        {
          "output_type": "stream",
          "name": "stderr",
          "text": [
            "Epoch [1169/5000]: 100%|██████████| 2/2 [00:00<00:00, 112.03it/s, loss=9.3]\n"
          ]
        },
        {
          "output_type": "stream",
          "name": "stdout",
          "text": [
            "Epoch [1169/5000]: Train loss: 9.5021, Valid loss: 9.6850\n"
          ]
        },
        {
          "output_type": "stream",
          "name": "stderr",
          "text": [
            "Epoch [1170/5000]: 100%|██████████| 2/2 [00:00<00:00, 110.97it/s, loss=9.89]\n"
          ]
        },
        {
          "output_type": "stream",
          "name": "stdout",
          "text": [
            "Epoch [1170/5000]: Train loss: 9.2133, Valid loss: 9.7466\n"
          ]
        },
        {
          "output_type": "stream",
          "name": "stderr",
          "text": [
            "Epoch [1171/5000]: 100%|██████████| 2/2 [00:00<00:00, 106.43it/s, loss=9.4]\n"
          ]
        },
        {
          "output_type": "stream",
          "name": "stdout",
          "text": [
            "Epoch [1171/5000]: Train loss: 9.0293, Valid loss: 9.8026\n"
          ]
        },
        {
          "output_type": "stream",
          "name": "stderr",
          "text": [
            "Epoch [1172/5000]: 100%|██████████| 2/2 [00:00<00:00, 104.55it/s, loss=11.7]\n"
          ]
        },
        {
          "output_type": "stream",
          "name": "stdout",
          "text": [
            "Epoch [1172/5000]: Train loss: 10.3456, Valid loss: 9.8569\n"
          ]
        },
        {
          "output_type": "stream",
          "name": "stderr",
          "text": [
            "Epoch [1173/5000]: 100%|██████████| 2/2 [00:00<00:00, 97.38it/s, loss=9.24]\n"
          ]
        },
        {
          "output_type": "stream",
          "name": "stdout",
          "text": [
            "Epoch [1173/5000]: Train loss: 8.8257, Valid loss: 9.9691\n"
          ]
        },
        {
          "output_type": "stream",
          "name": "stderr",
          "text": [
            "Epoch [1174/5000]: 100%|██████████| 2/2 [00:00<00:00, 84.39it/s, loss=7.33]\n"
          ]
        },
        {
          "output_type": "stream",
          "name": "stdout",
          "text": [
            "Epoch [1174/5000]: Train loss: 8.0144, Valid loss: 10.0927\n"
          ]
        },
        {
          "output_type": "stream",
          "name": "stderr",
          "text": [
            "Epoch [1175/5000]: 100%|██████████| 2/2 [00:00<00:00, 104.77it/s, loss=9.94]\n"
          ]
        },
        {
          "output_type": "stream",
          "name": "stdout",
          "text": [
            "Epoch [1175/5000]: Train loss: 9.1546, Valid loss: 10.1693\n"
          ]
        },
        {
          "output_type": "stream",
          "name": "stderr",
          "text": [
            "Epoch [1176/5000]: 100%|██████████| 2/2 [00:00<00:00, 99.56it/s, loss=8.18]\n"
          ]
        },
        {
          "output_type": "stream",
          "name": "stdout",
          "text": [
            "Epoch [1176/5000]: Train loss: 8.5724, Valid loss: 10.1633\n"
          ]
        },
        {
          "output_type": "stream",
          "name": "stderr",
          "text": [
            "Epoch [1177/5000]: 100%|██████████| 2/2 [00:00<00:00, 103.30it/s, loss=10.9]\n"
          ]
        },
        {
          "output_type": "stream",
          "name": "stdout",
          "text": [
            "Epoch [1177/5000]: Train loss: 9.8705, Valid loss: 10.0949\n"
          ]
        },
        {
          "output_type": "stream",
          "name": "stderr",
          "text": [
            "Epoch [1178/5000]: 100%|██████████| 2/2 [00:00<00:00, 104.22it/s, loss=10.5]\n"
          ]
        },
        {
          "output_type": "stream",
          "name": "stdout",
          "text": [
            "Epoch [1178/5000]: Train loss: 9.4766, Valid loss: 9.9390\n"
          ]
        },
        {
          "output_type": "stream",
          "name": "stderr",
          "text": [
            "Epoch [1179/5000]: 100%|██████████| 2/2 [00:00<00:00, 85.70it/s, loss=9.09]\n"
          ]
        },
        {
          "output_type": "stream",
          "name": "stdout",
          "text": [
            "Epoch [1179/5000]: Train loss: 9.3320, Valid loss: 9.7428\n"
          ]
        },
        {
          "output_type": "stream",
          "name": "stderr",
          "text": [
            "Epoch [1180/5000]: 100%|██████████| 2/2 [00:00<00:00, 112.71it/s, loss=7.89]\n"
          ]
        },
        {
          "output_type": "stream",
          "name": "stdout",
          "text": [
            "Epoch [1180/5000]: Train loss: 8.9593, Valid loss: 9.6958\n"
          ]
        },
        {
          "output_type": "stream",
          "name": "stderr",
          "text": [
            "Epoch [1181/5000]: 100%|██████████| 2/2 [00:00<00:00, 102.37it/s, loss=10.2]\n"
          ]
        },
        {
          "output_type": "stream",
          "name": "stdout",
          "text": [
            "Epoch [1181/5000]: Train loss: 9.9927, Valid loss: 9.7139\n"
          ]
        },
        {
          "output_type": "stream",
          "name": "stderr",
          "text": [
            "Epoch [1182/5000]: 100%|██████████| 2/2 [00:00<00:00, 102.97it/s, loss=8.49]\n"
          ]
        },
        {
          "output_type": "stream",
          "name": "stdout",
          "text": [
            "Epoch [1182/5000]: Train loss: 9.1929, Valid loss: 9.8046\n"
          ]
        },
        {
          "output_type": "stream",
          "name": "stderr",
          "text": [
            "Epoch [1183/5000]: 100%|██████████| 2/2 [00:00<00:00, 105.38it/s, loss=8.92]\n"
          ]
        },
        {
          "output_type": "stream",
          "name": "stdout",
          "text": [
            "Epoch [1183/5000]: Train loss: 9.2216, Valid loss: 9.9338\n"
          ]
        },
        {
          "output_type": "stream",
          "name": "stderr",
          "text": [
            "Epoch [1184/5000]: 100%|██████████| 2/2 [00:00<00:00, 108.54it/s, loss=8.83]\n"
          ]
        },
        {
          "output_type": "stream",
          "name": "stdout",
          "text": [
            "Epoch [1184/5000]: Train loss: 9.2362, Valid loss: 10.0443\n"
          ]
        },
        {
          "output_type": "stream",
          "name": "stderr",
          "text": [
            "Epoch [1185/5000]: 100%|██████████| 2/2 [00:00<00:00, 106.87it/s, loss=11.7]\n"
          ]
        },
        {
          "output_type": "stream",
          "name": "stdout",
          "text": [
            "Epoch [1185/5000]: Train loss: 9.6773, Valid loss: 10.1178\n"
          ]
        },
        {
          "output_type": "stream",
          "name": "stderr",
          "text": [
            "Epoch [1186/5000]: 100%|██████████| 2/2 [00:00<00:00, 106.82it/s, loss=9.15]\n"
          ]
        },
        {
          "output_type": "stream",
          "name": "stdout",
          "text": [
            "Epoch [1186/5000]: Train loss: 9.7913, Valid loss: 10.2398\n"
          ]
        },
        {
          "output_type": "stream",
          "name": "stderr",
          "text": [
            "Epoch [1187/5000]: 100%|██████████| 2/2 [00:00<00:00, 106.06it/s, loss=7.59]\n"
          ]
        },
        {
          "output_type": "stream",
          "name": "stdout",
          "text": [
            "Epoch [1187/5000]: Train loss: 7.6428, Valid loss: 10.2179\n"
          ]
        },
        {
          "output_type": "stream",
          "name": "stderr",
          "text": [
            "Epoch [1188/5000]: 100%|██████████| 2/2 [00:00<00:00, 107.59it/s, loss=11]\n"
          ]
        },
        {
          "output_type": "stream",
          "name": "stdout",
          "text": [
            "Epoch [1188/5000]: Train loss: 10.1436, Valid loss: 9.9989\n"
          ]
        },
        {
          "output_type": "stream",
          "name": "stderr",
          "text": [
            "Epoch [1189/5000]: 100%|██████████| 2/2 [00:00<00:00, 108.15it/s, loss=12.4]\n"
          ]
        },
        {
          "output_type": "stream",
          "name": "stdout",
          "text": [
            "Epoch [1189/5000]: Train loss: 10.9773, Valid loss: 9.8886\n"
          ]
        },
        {
          "output_type": "stream",
          "name": "stderr",
          "text": [
            "Epoch [1190/5000]: 100%|██████████| 2/2 [00:00<00:00, 107.58it/s, loss=10.5]\n"
          ]
        },
        {
          "output_type": "stream",
          "name": "stdout",
          "text": [
            "Epoch [1190/5000]: Train loss: 9.8672, Valid loss: 9.8558\n"
          ]
        },
        {
          "output_type": "stream",
          "name": "stderr",
          "text": [
            "Epoch [1191/5000]: 100%|██████████| 2/2 [00:00<00:00, 91.29it/s, loss=9.39]\n"
          ]
        },
        {
          "output_type": "stream",
          "name": "stdout",
          "text": [
            "Epoch [1191/5000]: Train loss: 9.4512, Valid loss: 9.8553\n"
          ]
        },
        {
          "output_type": "stream",
          "name": "stderr",
          "text": [
            "Epoch [1192/5000]: 100%|██████████| 2/2 [00:00<00:00, 111.99it/s, loss=8.44]\n"
          ]
        },
        {
          "output_type": "stream",
          "name": "stdout",
          "text": [
            "Epoch [1192/5000]: Train loss: 8.6672, Valid loss: 9.8088\n"
          ]
        },
        {
          "output_type": "stream",
          "name": "stderr",
          "text": [
            "Epoch [1193/5000]: 100%|██████████| 2/2 [00:00<00:00, 113.70it/s, loss=7.46]\n"
          ]
        },
        {
          "output_type": "stream",
          "name": "stdout",
          "text": [
            "Epoch [1193/5000]: Train loss: 8.7138, Valid loss: 9.7688\n"
          ]
        },
        {
          "output_type": "stream",
          "name": "stderr",
          "text": [
            "Epoch [1194/5000]: 100%|██████████| 2/2 [00:00<00:00, 101.21it/s, loss=9.5]\n"
          ]
        },
        {
          "output_type": "stream",
          "name": "stdout",
          "text": [
            "Epoch [1194/5000]: Train loss: 9.2265, Valid loss: 9.7691\n"
          ]
        },
        {
          "output_type": "stream",
          "name": "stderr",
          "text": [
            "Epoch [1195/5000]: 100%|██████████| 2/2 [00:00<00:00, 106.60it/s, loss=10.4]\n"
          ]
        },
        {
          "output_type": "stream",
          "name": "stdout",
          "text": [
            "Epoch [1195/5000]: Train loss: 9.8137, Valid loss: 9.6944\n"
          ]
        },
        {
          "output_type": "stream",
          "name": "stderr",
          "text": [
            "Epoch [1196/5000]: 100%|██████████| 2/2 [00:00<00:00, 112.77it/s, loss=8.41]\n"
          ]
        },
        {
          "output_type": "stream",
          "name": "stdout",
          "text": [
            "Epoch [1196/5000]: Train loss: 8.2637, Valid loss: 9.7278\n"
          ]
        },
        {
          "output_type": "stream",
          "name": "stderr",
          "text": [
            "Epoch [1197/5000]: 100%|██████████| 2/2 [00:00<00:00, 110.40it/s, loss=12.1]\n"
          ]
        },
        {
          "output_type": "stream",
          "name": "stdout",
          "text": [
            "Epoch [1197/5000]: Train loss: 11.1262, Valid loss: 9.7203\n"
          ]
        },
        {
          "output_type": "stream",
          "name": "stderr",
          "text": [
            "Epoch [1198/5000]: 100%|██████████| 2/2 [00:00<00:00, 106.93it/s, loss=9.5]\n"
          ]
        },
        {
          "output_type": "stream",
          "name": "stdout",
          "text": [
            "Epoch [1198/5000]: Train loss: 9.7691, Valid loss: 9.8207\n"
          ]
        },
        {
          "output_type": "stream",
          "name": "stderr",
          "text": [
            "Epoch [1199/5000]: 100%|██████████| 2/2 [00:00<00:00, 100.95it/s, loss=8.62]\n"
          ]
        },
        {
          "output_type": "stream",
          "name": "stdout",
          "text": [
            "Epoch [1199/5000]: Train loss: 9.9482, Valid loss: 9.8592\n"
          ]
        },
        {
          "output_type": "stream",
          "name": "stderr",
          "text": [
            "Epoch [1200/5000]: 100%|██████████| 2/2 [00:00<00:00, 111.09it/s, loss=13.2]\n"
          ]
        },
        {
          "output_type": "stream",
          "name": "stdout",
          "text": [
            "Epoch [1200/5000]: Train loss: 11.6440, Valid loss: 9.8491\n"
          ]
        },
        {
          "output_type": "stream",
          "name": "stderr",
          "text": [
            "Epoch [1201/5000]: 100%|██████████| 2/2 [00:00<00:00, 106.64it/s, loss=8.88]\n"
          ]
        },
        {
          "output_type": "stream",
          "name": "stdout",
          "text": [
            "Epoch [1201/5000]: Train loss: 9.1031, Valid loss: 9.8278\n"
          ]
        },
        {
          "output_type": "stream",
          "name": "stderr",
          "text": [
            "Epoch [1202/5000]: 100%|██████████| 2/2 [00:00<00:00, 107.40it/s, loss=10.7]\n"
          ]
        },
        {
          "output_type": "stream",
          "name": "stdout",
          "text": [
            "Epoch [1202/5000]: Train loss: 10.0743, Valid loss: 9.8475\n"
          ]
        },
        {
          "output_type": "stream",
          "name": "stderr",
          "text": [
            "Epoch [1203/5000]: 100%|██████████| 2/2 [00:00<00:00, 104.38it/s, loss=9.68]\n"
          ]
        },
        {
          "output_type": "stream",
          "name": "stdout",
          "text": [
            "Epoch [1203/5000]: Train loss: 9.7417, Valid loss: 9.8833\n"
          ]
        },
        {
          "output_type": "stream",
          "name": "stderr",
          "text": [
            "Epoch [1204/5000]: 100%|██████████| 2/2 [00:00<00:00, 109.62it/s, loss=11.2]\n"
          ]
        },
        {
          "output_type": "stream",
          "name": "stdout",
          "text": [
            "Epoch [1204/5000]: Train loss: 11.5898, Valid loss: 9.9980\n"
          ]
        },
        {
          "output_type": "stream",
          "name": "stderr",
          "text": [
            "Epoch [1205/5000]: 100%|██████████| 2/2 [00:00<00:00, 116.46it/s, loss=10.1]\n"
          ]
        },
        {
          "output_type": "stream",
          "name": "stdout",
          "text": [
            "Epoch [1205/5000]: Train loss: 9.7866, Valid loss: 10.0252\n"
          ]
        },
        {
          "output_type": "stream",
          "name": "stderr",
          "text": [
            "Epoch [1206/5000]: 100%|██████████| 2/2 [00:00<00:00, 31.61it/s, loss=9.15]\n"
          ]
        },
        {
          "output_type": "stream",
          "name": "stdout",
          "text": [
            "Epoch [1206/5000]: Train loss: 9.4585, Valid loss: 10.1019\n"
          ]
        },
        {
          "output_type": "stream",
          "name": "stderr",
          "text": [
            "Epoch [1207/5000]: 100%|██████████| 2/2 [00:00<00:00, 34.45it/s, loss=8.65]\n"
          ]
        },
        {
          "output_type": "stream",
          "name": "stdout",
          "text": [
            "Epoch [1207/5000]: Train loss: 8.4086, Valid loss: 10.2851\n"
          ]
        },
        {
          "output_type": "stream",
          "name": "stderr",
          "text": [
            "Epoch [1208/5000]: 100%|██████████| 2/2 [00:00<00:00, 32.21it/s, loss=11.8]\n"
          ]
        },
        {
          "output_type": "stream",
          "name": "stdout",
          "text": [
            "Epoch [1208/5000]: Train loss: 10.2632, Valid loss: 10.4098\n"
          ]
        },
        {
          "output_type": "stream",
          "name": "stderr",
          "text": [
            "Epoch [1209/5000]: 100%|██████████| 2/2 [00:00<00:00, 27.54it/s, loss=10.2]\n"
          ]
        },
        {
          "output_type": "stream",
          "name": "stdout",
          "text": [
            "Epoch [1209/5000]: Train loss: 10.4939, Valid loss: 10.4474\n"
          ]
        },
        {
          "output_type": "stream",
          "name": "stderr",
          "text": [
            "Epoch [1210/5000]: 100%|██████████| 2/2 [00:00<00:00, 35.24it/s, loss=10.3]\n"
          ]
        },
        {
          "output_type": "stream",
          "name": "stdout",
          "text": [
            "Epoch [1210/5000]: Train loss: 10.1888, Valid loss: 10.4030\n"
          ]
        },
        {
          "output_type": "stream",
          "name": "stderr",
          "text": [
            "Epoch [1211/5000]: 100%|██████████| 2/2 [00:00<00:00, 56.49it/s, loss=9.6]\n"
          ]
        },
        {
          "output_type": "stream",
          "name": "stdout",
          "text": [
            "Epoch [1211/5000]: Train loss: 9.3692, Valid loss: 10.2084\n"
          ]
        },
        {
          "output_type": "stream",
          "name": "stderr",
          "text": [
            "Epoch [1212/5000]: 100%|██████████| 2/2 [00:00<00:00, 42.03it/s, loss=11.1]\n"
          ]
        },
        {
          "output_type": "stream",
          "name": "stdout",
          "text": [
            "Epoch [1212/5000]: Train loss: 9.9757, Valid loss: 10.1312\n"
          ]
        },
        {
          "output_type": "stream",
          "name": "stderr",
          "text": [
            "Epoch [1213/5000]: 100%|██████████| 2/2 [00:00<00:00, 21.49it/s, loss=10.1]\n"
          ]
        },
        {
          "output_type": "stream",
          "name": "stdout",
          "text": [
            "Epoch [1213/5000]: Train loss: 9.2836, Valid loss: 10.0993\n"
          ]
        },
        {
          "output_type": "stream",
          "name": "stderr",
          "text": [
            "Epoch [1214/5000]: 100%|██████████| 2/2 [00:00<00:00, 15.95it/s, loss=8.08]\n"
          ]
        },
        {
          "output_type": "stream",
          "name": "stdout",
          "text": [
            "Epoch [1214/5000]: Train loss: 9.0178, Valid loss: 10.1077\n"
          ]
        },
        {
          "output_type": "stream",
          "name": "stderr",
          "text": [
            "Epoch [1215/5000]: 100%|██████████| 2/2 [00:00<00:00, 38.78it/s, loss=10.4]\n"
          ]
        },
        {
          "output_type": "stream",
          "name": "stdout",
          "text": [
            "Epoch [1215/5000]: Train loss: 10.3551, Valid loss: 10.0551\n"
          ]
        },
        {
          "output_type": "stream",
          "name": "stderr",
          "text": [
            "Epoch [1216/5000]: 100%|██████████| 2/2 [00:00<00:00, 50.93it/s, loss=7.61]\n"
          ]
        },
        {
          "output_type": "stream",
          "name": "stdout",
          "text": [
            "Epoch [1216/5000]: Train loss: 8.8021, Valid loss: 10.0355\n"
          ]
        },
        {
          "output_type": "stream",
          "name": "stderr",
          "text": [
            "Epoch [1217/5000]: 100%|██████████| 2/2 [00:00<00:00, 49.45it/s, loss=11.5]\n"
          ]
        },
        {
          "output_type": "stream",
          "name": "stdout",
          "text": [
            "Epoch [1217/5000]: Train loss: 11.0820, Valid loss: 10.1241\n"
          ]
        },
        {
          "output_type": "stream",
          "name": "stderr",
          "text": [
            "Epoch [1218/5000]: 100%|██████████| 2/2 [00:00<00:00, 49.37it/s, loss=8.94]\n"
          ]
        },
        {
          "output_type": "stream",
          "name": "stdout",
          "text": [
            "Epoch [1218/5000]: Train loss: 7.9954, Valid loss: 10.2156\n"
          ]
        },
        {
          "output_type": "stream",
          "name": "stderr",
          "text": [
            "Epoch [1219/5000]: 100%|██████████| 2/2 [00:00<00:00, 46.98it/s, loss=8.8]\n"
          ]
        },
        {
          "output_type": "stream",
          "name": "stdout",
          "text": [
            "Epoch [1219/5000]: Train loss: 9.1345, Valid loss: 10.2748\n"
          ]
        },
        {
          "output_type": "stream",
          "name": "stderr",
          "text": [
            "Epoch [1220/5000]: 100%|██████████| 2/2 [00:00<00:00, 105.90it/s, loss=9.52]\n"
          ]
        },
        {
          "output_type": "stream",
          "name": "stdout",
          "text": [
            "Epoch [1220/5000]: Train loss: 9.7429, Valid loss: 10.3689\n"
          ]
        },
        {
          "output_type": "stream",
          "name": "stderr",
          "text": [
            "Epoch [1221/5000]: 100%|██████████| 2/2 [00:00<00:00, 104.31it/s, loss=14.1]\n"
          ]
        },
        {
          "output_type": "stream",
          "name": "stdout",
          "text": [
            "Epoch [1221/5000]: Train loss: 11.9100, Valid loss: 10.5312\n"
          ]
        },
        {
          "output_type": "stream",
          "name": "stderr",
          "text": [
            "Epoch [1222/5000]: 100%|██████████| 2/2 [00:00<00:00, 98.82it/s, loss=7.5]\n"
          ]
        },
        {
          "output_type": "stream",
          "name": "stdout",
          "text": [
            "Epoch [1222/5000]: Train loss: 8.7877, Valid loss: 10.5755\n"
          ]
        },
        {
          "output_type": "stream",
          "name": "stderr",
          "text": [
            "Epoch [1223/5000]: 100%|██████████| 2/2 [00:00<00:00, 79.51it/s, loss=9.21]\n"
          ]
        },
        {
          "output_type": "stream",
          "name": "stdout",
          "text": [
            "Epoch [1223/5000]: Train loss: 9.3642, Valid loss: 10.5280\n"
          ]
        },
        {
          "output_type": "stream",
          "name": "stderr",
          "text": [
            "Epoch [1224/5000]: 100%|██████████| 2/2 [00:00<00:00, 107.36it/s, loss=8.52]\n"
          ]
        },
        {
          "output_type": "stream",
          "name": "stdout",
          "text": [
            "Epoch [1224/5000]: Train loss: 8.6622, Valid loss: 10.4908\n"
          ]
        },
        {
          "output_type": "stream",
          "name": "stderr",
          "text": [
            "Epoch [1225/5000]: 100%|██████████| 2/2 [00:00<00:00, 103.94it/s, loss=10.8]\n"
          ]
        },
        {
          "output_type": "stream",
          "name": "stdout",
          "text": [
            "Epoch [1225/5000]: Train loss: 9.2629, Valid loss: 10.4452\n"
          ]
        },
        {
          "output_type": "stream",
          "name": "stderr",
          "text": [
            "Epoch [1226/5000]: 100%|██████████| 2/2 [00:00<00:00, 106.70it/s, loss=7.53]\n"
          ]
        },
        {
          "output_type": "stream",
          "name": "stdout",
          "text": [
            "Epoch [1226/5000]: Train loss: 8.3499, Valid loss: 10.3531\n"
          ]
        },
        {
          "output_type": "stream",
          "name": "stderr",
          "text": [
            "Epoch [1227/5000]: 100%|██████████| 2/2 [00:00<00:00, 107.23it/s, loss=10.8]\n"
          ]
        },
        {
          "output_type": "stream",
          "name": "stdout",
          "text": [
            "Epoch [1227/5000]: Train loss: 9.8372, Valid loss: 10.2621\n"
          ]
        },
        {
          "output_type": "stream",
          "name": "stderr",
          "text": [
            "Epoch [1228/5000]: 100%|██████████| 2/2 [00:00<00:00, 108.25it/s, loss=9.94]\n"
          ]
        },
        {
          "output_type": "stream",
          "name": "stdout",
          "text": [
            "Epoch [1228/5000]: Train loss: 9.4093, Valid loss: 10.1966\n"
          ]
        },
        {
          "output_type": "stream",
          "name": "stderr",
          "text": [
            "Epoch [1229/5000]: 100%|██████████| 2/2 [00:00<00:00, 110.63it/s, loss=9.64]\n"
          ]
        },
        {
          "output_type": "stream",
          "name": "stdout",
          "text": [
            "Epoch [1229/5000]: Train loss: 9.0977, Valid loss: 10.2300\n"
          ]
        },
        {
          "output_type": "stream",
          "name": "stderr",
          "text": [
            "Epoch [1230/5000]: 100%|██████████| 2/2 [00:00<00:00, 120.14it/s, loss=9]\n"
          ]
        },
        {
          "output_type": "stream",
          "name": "stdout",
          "text": [
            "Epoch [1230/5000]: Train loss: 9.4204, Valid loss: 10.1681\n"
          ]
        },
        {
          "output_type": "stream",
          "name": "stderr",
          "text": [
            "Epoch [1231/5000]: 100%|██████████| 2/2 [00:00<00:00, 106.23it/s, loss=9.36]\n"
          ]
        },
        {
          "output_type": "stream",
          "name": "stdout",
          "text": [
            "Epoch [1231/5000]: Train loss: 9.6796, Valid loss: 10.0812\n"
          ]
        },
        {
          "output_type": "stream",
          "name": "stderr",
          "text": [
            "Epoch [1232/5000]: 100%|██████████| 2/2 [00:00<00:00, 20.85it/s, loss=8.48]\n"
          ]
        },
        {
          "output_type": "stream",
          "name": "stdout",
          "text": [
            "Epoch [1232/5000]: Train loss: 9.5363, Valid loss: 10.0990\n"
          ]
        },
        {
          "output_type": "stream",
          "name": "stderr",
          "text": [
            "Epoch [1233/5000]: 100%|██████████| 2/2 [00:00<00:00, 37.63it/s, loss=8.93]\n"
          ]
        },
        {
          "output_type": "stream",
          "name": "stdout",
          "text": [
            "Epoch [1233/5000]: Train loss: 8.3909, Valid loss: 10.0223\n"
          ]
        },
        {
          "output_type": "stream",
          "name": "stderr",
          "text": [
            "Epoch [1234/5000]: 100%|██████████| 2/2 [00:00<00:00, 43.34it/s, loss=9.4]\n"
          ]
        },
        {
          "output_type": "stream",
          "name": "stdout",
          "text": [
            "Epoch [1234/5000]: Train loss: 9.4600, Valid loss: 9.9460\n"
          ]
        },
        {
          "output_type": "stream",
          "name": "stderr",
          "text": [
            "Epoch [1235/5000]: 100%|██████████| 2/2 [00:00<00:00, 19.02it/s, loss=7.77]\n"
          ]
        },
        {
          "output_type": "stream",
          "name": "stdout",
          "text": [
            "Epoch [1235/5000]: Train loss: 7.8262, Valid loss: 9.9622\n"
          ]
        },
        {
          "output_type": "stream",
          "name": "stderr",
          "text": [
            "Epoch [1236/5000]: 100%|██████████| 2/2 [00:00<00:00, 22.14it/s, loss=9.54]\n"
          ]
        },
        {
          "output_type": "stream",
          "name": "stdout",
          "text": [
            "Epoch [1236/5000]: Train loss: 8.8335, Valid loss: 10.0467\n"
          ]
        },
        {
          "output_type": "stream",
          "name": "stderr",
          "text": [
            "Epoch [1237/5000]: 100%|██████████| 2/2 [00:00<00:00, 14.89it/s, loss=11]\n"
          ]
        },
        {
          "output_type": "stream",
          "name": "stdout",
          "text": [
            "Epoch [1237/5000]: Train loss: 9.8762, Valid loss: 10.0289\n"
          ]
        },
        {
          "output_type": "stream",
          "name": "stderr",
          "text": [
            "Epoch [1238/5000]: 100%|██████████| 2/2 [00:00<00:00, 17.30it/s, loss=10.5]\n"
          ]
        },
        {
          "output_type": "stream",
          "name": "stdout",
          "text": [
            "Epoch [1238/5000]: Train loss: 9.9805, Valid loss: 10.1891\n"
          ]
        },
        {
          "output_type": "stream",
          "name": "stderr",
          "text": [
            "Epoch [1239/5000]: 100%|██████████| 2/2 [00:00<00:00, 29.13it/s, loss=9.55]\n"
          ]
        },
        {
          "output_type": "stream",
          "name": "stdout",
          "text": [
            "Epoch [1239/5000]: Train loss: 9.3524, Valid loss: 10.3012\n"
          ]
        },
        {
          "output_type": "stream",
          "name": "stderr",
          "text": [
            "Epoch [1240/5000]: 100%|██████████| 2/2 [00:00<00:00, 11.59it/s, loss=8.91]\n"
          ]
        },
        {
          "output_type": "stream",
          "name": "stdout",
          "text": [
            "Epoch [1240/5000]: Train loss: 8.9192, Valid loss: 10.3951\n"
          ]
        },
        {
          "output_type": "stream",
          "name": "stderr",
          "text": [
            "Epoch [1241/5000]: 100%|██████████| 2/2 [00:00<00:00, 16.40it/s, loss=10.5]\n"
          ]
        },
        {
          "output_type": "stream",
          "name": "stdout",
          "text": [
            "Epoch [1241/5000]: Train loss: 9.9518, Valid loss: 10.3749\n"
          ]
        },
        {
          "output_type": "stream",
          "name": "stderr",
          "text": [
            "Epoch [1242/5000]: 100%|██████████| 2/2 [00:00<00:00, 22.76it/s, loss=7.37]\n"
          ]
        },
        {
          "output_type": "stream",
          "name": "stdout",
          "text": [
            "Epoch [1242/5000]: Train loss: 8.6714, Valid loss: 10.4659\n"
          ]
        },
        {
          "output_type": "stream",
          "name": "stderr",
          "text": [
            "Epoch [1243/5000]: 100%|██████████| 2/2 [00:00<00:00, 89.69it/s, loss=9.73]\n"
          ]
        },
        {
          "output_type": "stream",
          "name": "stdout",
          "text": [
            "Epoch [1243/5000]: Train loss: 9.4265, Valid loss: 10.4373\n"
          ]
        },
        {
          "output_type": "stream",
          "name": "stderr",
          "text": [
            "Epoch [1244/5000]: 100%|██████████| 2/2 [00:00<00:00, 101.49it/s, loss=9.29]\n"
          ]
        },
        {
          "output_type": "stream",
          "name": "stdout",
          "text": [
            "Epoch [1244/5000]: Train loss: 9.3997, Valid loss: 10.3615\n"
          ]
        },
        {
          "output_type": "stream",
          "name": "stderr",
          "text": [
            "Epoch [1245/5000]: 100%|██████████| 2/2 [00:00<00:00, 94.85it/s, loss=9.75]\n"
          ]
        },
        {
          "output_type": "stream",
          "name": "stdout",
          "text": [
            "Epoch [1245/5000]: Train loss: 9.4804, Valid loss: 10.2718\n"
          ]
        },
        {
          "output_type": "stream",
          "name": "stderr",
          "text": [
            "Epoch [1246/5000]: 100%|██████████| 2/2 [00:00<00:00, 88.46it/s, loss=9.48]\n"
          ]
        },
        {
          "output_type": "stream",
          "name": "stdout",
          "text": [
            "Epoch [1246/5000]: Train loss: 9.7372, Valid loss: 10.2128\n"
          ]
        },
        {
          "output_type": "stream",
          "name": "stderr",
          "text": [
            "Epoch [1247/5000]: 100%|██████████| 2/2 [00:00<00:00, 91.45it/s, loss=11.7]\n"
          ]
        },
        {
          "output_type": "stream",
          "name": "stdout",
          "text": [
            "Epoch [1247/5000]: Train loss: 9.9442, Valid loss: 10.2310\n"
          ]
        },
        {
          "output_type": "stream",
          "name": "stderr",
          "text": [
            "Epoch [1248/5000]: 100%|██████████| 2/2 [00:00<00:00, 93.84it/s, loss=8.54]\n"
          ]
        },
        {
          "output_type": "stream",
          "name": "stdout",
          "text": [
            "Epoch [1248/5000]: Train loss: 9.2055, Valid loss: 10.2077\n"
          ]
        },
        {
          "output_type": "stream",
          "name": "stderr",
          "text": [
            "Epoch [1249/5000]: 100%|██████████| 2/2 [00:00<00:00, 103.21it/s, loss=10.2]\n"
          ]
        },
        {
          "output_type": "stream",
          "name": "stdout",
          "text": [
            "Epoch [1249/5000]: Train loss: 9.6084, Valid loss: 10.1634\n"
          ]
        },
        {
          "output_type": "stream",
          "name": "stderr",
          "text": [
            "Epoch [1250/5000]: 100%|██████████| 2/2 [00:00<00:00, 92.01it/s, loss=8.37]\n"
          ]
        },
        {
          "output_type": "stream",
          "name": "stdout",
          "text": [
            "Epoch [1250/5000]: Train loss: 8.4743, Valid loss: 10.2627\n"
          ]
        },
        {
          "output_type": "stream",
          "name": "stderr",
          "text": [
            "Epoch [1251/5000]: 100%|██████████| 2/2 [00:00<00:00, 106.73it/s, loss=9.06]\n"
          ]
        },
        {
          "output_type": "stream",
          "name": "stdout",
          "text": [
            "Epoch [1251/5000]: Train loss: 8.6096, Valid loss: 10.3062\n"
          ]
        },
        {
          "output_type": "stream",
          "name": "stderr",
          "text": [
            "Epoch [1252/5000]: 100%|██████████| 2/2 [00:00<00:00, 83.16it/s, loss=9.06]\n"
          ]
        },
        {
          "output_type": "stream",
          "name": "stdout",
          "text": [
            "Epoch [1252/5000]: Train loss: 9.0230, Valid loss: 10.4054\n"
          ]
        },
        {
          "output_type": "stream",
          "name": "stderr",
          "text": [
            "Epoch [1253/5000]: 100%|██████████| 2/2 [00:00<00:00, 104.11it/s, loss=6.92]\n"
          ]
        },
        {
          "output_type": "stream",
          "name": "stdout",
          "text": [
            "Epoch [1253/5000]: Train loss: 8.1064, Valid loss: 10.4680\n"
          ]
        },
        {
          "output_type": "stream",
          "name": "stderr",
          "text": [
            "Epoch [1254/5000]: 100%|██████████| 2/2 [00:00<00:00, 75.82it/s, loss=8.83]\n"
          ]
        },
        {
          "output_type": "stream",
          "name": "stdout",
          "text": [
            "Epoch [1254/5000]: Train loss: 8.9357, Valid loss: 10.5047\n"
          ]
        },
        {
          "output_type": "stream",
          "name": "stderr",
          "text": [
            "Epoch [1255/5000]: 100%|██████████| 2/2 [00:00<00:00, 86.75it/s, loss=8.86]\n"
          ]
        },
        {
          "output_type": "stream",
          "name": "stdout",
          "text": [
            "Epoch [1255/5000]: Train loss: 9.5752, Valid loss: 10.6301\n"
          ]
        },
        {
          "output_type": "stream",
          "name": "stderr",
          "text": [
            "Epoch [1256/5000]: 100%|██████████| 2/2 [00:00<00:00, 95.34it/s, loss=10.7]\n"
          ]
        },
        {
          "output_type": "stream",
          "name": "stdout",
          "text": [
            "Epoch [1256/5000]: Train loss: 9.6702, Valid loss: 10.7048\n"
          ]
        },
        {
          "output_type": "stream",
          "name": "stderr",
          "text": [
            "Epoch [1257/5000]: 100%|██████████| 2/2 [00:00<00:00, 80.43it/s, loss=10.8]\n"
          ]
        },
        {
          "output_type": "stream",
          "name": "stdout",
          "text": [
            "Epoch [1257/5000]: Train loss: 10.1527, Valid loss: 10.6381\n"
          ]
        },
        {
          "output_type": "stream",
          "name": "stderr",
          "text": [
            "Epoch [1258/5000]: 100%|██████████| 2/2 [00:00<00:00, 89.55it/s, loss=11.2]\n"
          ]
        },
        {
          "output_type": "stream",
          "name": "stdout",
          "text": [
            "Epoch [1258/5000]: Train loss: 10.0901, Valid loss: 10.5749\n"
          ]
        },
        {
          "output_type": "stream",
          "name": "stderr",
          "text": [
            "Epoch [1259/5000]: 100%|██████████| 2/2 [00:00<00:00, 85.18it/s, loss=9.34]\n"
          ]
        },
        {
          "output_type": "stream",
          "name": "stdout",
          "text": [
            "Epoch [1259/5000]: Train loss: 9.5118, Valid loss: 10.4859\n"
          ]
        },
        {
          "output_type": "stream",
          "name": "stderr",
          "text": [
            "Epoch [1260/5000]: 100%|██████████| 2/2 [00:00<00:00, 91.80it/s, loss=10.1]\n"
          ]
        },
        {
          "output_type": "stream",
          "name": "stdout",
          "text": [
            "Epoch [1260/5000]: Train loss: 9.4080, Valid loss: 10.2965\n"
          ]
        },
        {
          "output_type": "stream",
          "name": "stderr",
          "text": [
            "Epoch [1261/5000]: 100%|██████████| 2/2 [00:00<00:00, 95.31it/s, loss=12.1]\n"
          ]
        },
        {
          "output_type": "stream",
          "name": "stdout",
          "text": [
            "Epoch [1261/5000]: Train loss: 10.5130, Valid loss: 10.1016\n"
          ]
        },
        {
          "output_type": "stream",
          "name": "stderr",
          "text": [
            "Epoch [1262/5000]: 100%|██████████| 2/2 [00:00<00:00, 98.87it/s, loss=10.4]\n"
          ]
        },
        {
          "output_type": "stream",
          "name": "stdout",
          "text": [
            "Epoch [1262/5000]: Train loss: 9.9508, Valid loss: 10.0391\n"
          ]
        },
        {
          "output_type": "stream",
          "name": "stderr",
          "text": [
            "Epoch [1263/5000]: 100%|██████████| 2/2 [00:00<00:00, 101.57it/s, loss=10.7]\n"
          ]
        },
        {
          "output_type": "stream",
          "name": "stdout",
          "text": [
            "Epoch [1263/5000]: Train loss: 9.6563, Valid loss: 10.0115\n"
          ]
        },
        {
          "output_type": "stream",
          "name": "stderr",
          "text": [
            "Epoch [1264/5000]: 100%|██████████| 2/2 [00:00<00:00, 103.77it/s, loss=9.42]\n"
          ]
        },
        {
          "output_type": "stream",
          "name": "stdout",
          "text": [
            "Epoch [1264/5000]: Train loss: 9.6174, Valid loss: 9.9276\n"
          ]
        },
        {
          "output_type": "stream",
          "name": "stderr",
          "text": [
            "Epoch [1265/5000]: 100%|██████████| 2/2 [00:00<00:00, 73.97it/s, loss=8.8]\n"
          ]
        },
        {
          "output_type": "stream",
          "name": "stdout",
          "text": [
            "Epoch [1265/5000]: Train loss: 8.3839, Valid loss: 9.9408\n"
          ]
        },
        {
          "output_type": "stream",
          "name": "stderr",
          "text": [
            "Epoch [1266/5000]: 100%|██████████| 2/2 [00:00<00:00, 97.12it/s, loss=9.24]\n"
          ]
        },
        {
          "output_type": "stream",
          "name": "stdout",
          "text": [
            "Epoch [1266/5000]: Train loss: 9.4230, Valid loss: 10.0240\n"
          ]
        },
        {
          "output_type": "stream",
          "name": "stderr",
          "text": [
            "Epoch [1267/5000]: 100%|██████████| 2/2 [00:00<00:00, 101.65it/s, loss=8.18]\n"
          ]
        },
        {
          "output_type": "stream",
          "name": "stdout",
          "text": [
            "Epoch [1267/5000]: Train loss: 9.0257, Valid loss: 10.1740\n"
          ]
        },
        {
          "output_type": "stream",
          "name": "stderr",
          "text": [
            "Epoch [1268/5000]: 100%|██████████| 2/2 [00:00<00:00, 79.12it/s, loss=9.8]\n"
          ]
        },
        {
          "output_type": "stream",
          "name": "stdout",
          "text": [
            "Epoch [1268/5000]: Train loss: 10.0351, Valid loss: 10.3263\n"
          ]
        },
        {
          "output_type": "stream",
          "name": "stderr",
          "text": [
            "Epoch [1269/5000]: 100%|██████████| 2/2 [00:00<00:00, 85.68it/s, loss=8.99]\n"
          ]
        },
        {
          "output_type": "stream",
          "name": "stdout",
          "text": [
            "Epoch [1269/5000]: Train loss: 9.4900, Valid loss: 10.4178\n"
          ]
        },
        {
          "output_type": "stream",
          "name": "stderr",
          "text": [
            "Epoch [1270/5000]: 100%|██████████| 2/2 [00:00<00:00, 81.32it/s, loss=9.55]\n"
          ]
        },
        {
          "output_type": "stream",
          "name": "stdout",
          "text": [
            "Epoch [1270/5000]: Train loss: 9.1016, Valid loss: 10.4151\n"
          ]
        },
        {
          "output_type": "stream",
          "name": "stderr",
          "text": [
            "Epoch [1271/5000]: 100%|██████████| 2/2 [00:00<00:00, 83.85it/s, loss=9.54]\n"
          ]
        },
        {
          "output_type": "stream",
          "name": "stdout",
          "text": [
            "Epoch [1271/5000]: Train loss: 9.5492, Valid loss: 10.4132\n"
          ]
        },
        {
          "output_type": "stream",
          "name": "stderr",
          "text": [
            "Epoch [1272/5000]: 100%|██████████| 2/2 [00:00<00:00, 77.72it/s, loss=11.1]\n"
          ]
        },
        {
          "output_type": "stream",
          "name": "stdout",
          "text": [
            "Epoch [1272/5000]: Train loss: 9.8886, Valid loss: 10.3760\n"
          ]
        },
        {
          "output_type": "stream",
          "name": "stderr",
          "text": [
            "Epoch [1273/5000]: 100%|██████████| 2/2 [00:00<00:00, 92.63it/s, loss=8.18]\n"
          ]
        },
        {
          "output_type": "stream",
          "name": "stdout",
          "text": [
            "Epoch [1273/5000]: Train loss: 7.9154, Valid loss: 10.3449\n"
          ]
        },
        {
          "output_type": "stream",
          "name": "stderr",
          "text": [
            "Epoch [1274/5000]: 100%|██████████| 2/2 [00:00<00:00, 90.70it/s, loss=8.57]\n"
          ]
        },
        {
          "output_type": "stream",
          "name": "stdout",
          "text": [
            "Epoch [1274/5000]: Train loss: 8.6192, Valid loss: 10.2974\n"
          ]
        },
        {
          "output_type": "stream",
          "name": "stderr",
          "text": [
            "Epoch [1275/5000]: 100%|██████████| 2/2 [00:00<00:00, 70.07it/s, loss=9.12]\n"
          ]
        },
        {
          "output_type": "stream",
          "name": "stdout",
          "text": [
            "Epoch [1275/5000]: Train loss: 8.8639, Valid loss: 10.3341\n"
          ]
        },
        {
          "output_type": "stream",
          "name": "stderr",
          "text": [
            "Epoch [1276/5000]: 100%|██████████| 2/2 [00:00<00:00, 86.56it/s, loss=8.58]\n"
          ]
        },
        {
          "output_type": "stream",
          "name": "stdout",
          "text": [
            "Epoch [1276/5000]: Train loss: 9.2629, Valid loss: 10.3504\n"
          ]
        },
        {
          "output_type": "stream",
          "name": "stderr",
          "text": [
            "Epoch [1277/5000]: 100%|██████████| 2/2 [00:00<00:00, 68.28it/s, loss=10.3]\n"
          ]
        },
        {
          "output_type": "stream",
          "name": "stdout",
          "text": [
            "Epoch [1277/5000]: Train loss: 10.7830, Valid loss: 10.3433\n"
          ]
        },
        {
          "output_type": "stream",
          "name": "stderr",
          "text": [
            "Epoch [1278/5000]: 100%|██████████| 2/2 [00:00<00:00, 78.70it/s, loss=11]\n"
          ]
        },
        {
          "output_type": "stream",
          "name": "stdout",
          "text": [
            "Epoch [1278/5000]: Train loss: 10.3970, Valid loss: 10.2831\n"
          ]
        },
        {
          "output_type": "stream",
          "name": "stderr",
          "text": [
            "Epoch [1279/5000]: 100%|██████████| 2/2 [00:00<00:00, 71.20it/s, loss=10.3]\n"
          ]
        },
        {
          "output_type": "stream",
          "name": "stdout",
          "text": [
            "Epoch [1279/5000]: Train loss: 10.2114, Valid loss: 10.3049\n"
          ]
        },
        {
          "output_type": "stream",
          "name": "stderr",
          "text": [
            "Epoch [1280/5000]: 100%|██████████| 2/2 [00:00<00:00, 79.55it/s, loss=9.74]\n"
          ]
        },
        {
          "output_type": "stream",
          "name": "stdout",
          "text": [
            "Epoch [1280/5000]: Train loss: 9.3140, Valid loss: 10.2568\n"
          ]
        },
        {
          "output_type": "stream",
          "name": "stderr",
          "text": [
            "Epoch [1281/5000]: 100%|██████████| 2/2 [00:00<00:00, 90.02it/s, loss=7.25]\n"
          ]
        },
        {
          "output_type": "stream",
          "name": "stdout",
          "text": [
            "Epoch [1281/5000]: Train loss: 8.6559, Valid loss: 10.1856\n"
          ]
        },
        {
          "output_type": "stream",
          "name": "stderr",
          "text": [
            "Epoch [1282/5000]: 100%|██████████| 2/2 [00:00<00:00, 89.70it/s, loss=9.25]\n"
          ]
        },
        {
          "output_type": "stream",
          "name": "stdout",
          "text": [
            "Epoch [1282/5000]: Train loss: 9.2577, Valid loss: 10.1694\n"
          ]
        },
        {
          "output_type": "stream",
          "name": "stderr",
          "text": [
            "Epoch [1283/5000]: 100%|██████████| 2/2 [00:00<00:00, 82.78it/s, loss=10.5]\n"
          ]
        },
        {
          "output_type": "stream",
          "name": "stdout",
          "text": [
            "Epoch [1283/5000]: Train loss: 10.4620, Valid loss: 10.2916\n"
          ]
        },
        {
          "output_type": "stream",
          "name": "stderr",
          "text": [
            "Epoch [1284/5000]: 100%|██████████| 2/2 [00:00<00:00, 88.33it/s, loss=11.2]\n"
          ]
        },
        {
          "output_type": "stream",
          "name": "stdout",
          "text": [
            "Epoch [1284/5000]: Train loss: 10.1813, Valid loss: 10.4120\n"
          ]
        },
        {
          "output_type": "stream",
          "name": "stderr",
          "text": [
            "Epoch [1285/5000]: 100%|██████████| 2/2 [00:00<00:00, 88.95it/s, loss=8.63]\n"
          ]
        },
        {
          "output_type": "stream",
          "name": "stdout",
          "text": [
            "Epoch [1285/5000]: Train loss: 9.2926, Valid loss: 10.4831\n"
          ]
        },
        {
          "output_type": "stream",
          "name": "stderr",
          "text": [
            "Epoch [1286/5000]: 100%|██████████| 2/2 [00:00<00:00, 60.35it/s, loss=10.7]\n"
          ]
        },
        {
          "output_type": "stream",
          "name": "stdout",
          "text": [
            "Epoch [1286/5000]: Train loss: 10.2179, Valid loss: 10.5724\n"
          ]
        },
        {
          "output_type": "stream",
          "name": "stderr",
          "text": [
            "Epoch [1287/5000]: 100%|██████████| 2/2 [00:00<00:00, 81.62it/s, loss=7.7]\n"
          ]
        },
        {
          "output_type": "stream",
          "name": "stdout",
          "text": [
            "Epoch [1287/5000]: Train loss: 8.4743, Valid loss: 10.6328\n"
          ]
        },
        {
          "output_type": "stream",
          "name": "stderr",
          "text": [
            "Epoch [1288/5000]: 100%|██████████| 2/2 [00:00<00:00, 79.53it/s, loss=12.7]\n"
          ]
        },
        {
          "output_type": "stream",
          "name": "stdout",
          "text": [
            "Epoch [1288/5000]: Train loss: 10.7917, Valid loss: 10.6547\n"
          ]
        },
        {
          "output_type": "stream",
          "name": "stderr",
          "text": [
            "Epoch [1289/5000]: 100%|██████████| 2/2 [00:00<00:00, 80.72it/s, loss=10.2]\n"
          ]
        },
        {
          "output_type": "stream",
          "name": "stdout",
          "text": [
            "Epoch [1289/5000]: Train loss: 9.6738, Valid loss: 10.5845\n"
          ]
        },
        {
          "output_type": "stream",
          "name": "stderr",
          "text": [
            "Epoch [1290/5000]: 100%|██████████| 2/2 [00:00<00:00, 87.12it/s, loss=8.6]\n"
          ]
        },
        {
          "output_type": "stream",
          "name": "stdout",
          "text": [
            "Epoch [1290/5000]: Train loss: 8.8180, Valid loss: 10.5484\n"
          ]
        },
        {
          "output_type": "stream",
          "name": "stderr",
          "text": [
            "Epoch [1291/5000]: 100%|██████████| 2/2 [00:00<00:00, 98.04it/s, loss=6.56]\n"
          ]
        },
        {
          "output_type": "stream",
          "name": "stdout",
          "text": [
            "Epoch [1291/5000]: Train loss: 7.7841, Valid loss: 10.5931\n"
          ]
        },
        {
          "output_type": "stream",
          "name": "stderr",
          "text": [
            "Epoch [1292/5000]: 100%|██████████| 2/2 [00:00<00:00, 94.17it/s, loss=9.03]\n"
          ]
        },
        {
          "output_type": "stream",
          "name": "stdout",
          "text": [
            "Epoch [1292/5000]: Train loss: 9.0359, Valid loss: 10.6144\n"
          ]
        },
        {
          "output_type": "stream",
          "name": "stderr",
          "text": [
            "Epoch [1293/5000]: 100%|██████████| 2/2 [00:00<00:00, 86.88it/s, loss=7.27]\n"
          ]
        },
        {
          "output_type": "stream",
          "name": "stdout",
          "text": [
            "Epoch [1293/5000]: Train loss: 8.3222, Valid loss: 10.6295\n"
          ]
        },
        {
          "output_type": "stream",
          "name": "stderr",
          "text": [
            "Epoch [1294/5000]: 100%|██████████| 2/2 [00:00<00:00, 89.26it/s, loss=7.56]\n"
          ]
        },
        {
          "output_type": "stream",
          "name": "stdout",
          "text": [
            "Epoch [1294/5000]: Train loss: 8.4335, Valid loss: 10.5640\n"
          ]
        },
        {
          "output_type": "stream",
          "name": "stderr",
          "text": [
            "Epoch [1295/5000]: 100%|██████████| 2/2 [00:00<00:00, 85.82it/s, loss=7.32]\n"
          ]
        },
        {
          "output_type": "stream",
          "name": "stdout",
          "text": [
            "Epoch [1295/5000]: Train loss: 7.8448, Valid loss: 10.3631\n"
          ]
        },
        {
          "output_type": "stream",
          "name": "stderr",
          "text": [
            "Epoch [1296/5000]: 100%|██████████| 2/2 [00:00<00:00, 82.47it/s, loss=8.68]\n"
          ]
        },
        {
          "output_type": "stream",
          "name": "stdout",
          "text": [
            "Epoch [1296/5000]: Train loss: 8.5683, Valid loss: 10.2062\n"
          ]
        },
        {
          "output_type": "stream",
          "name": "stderr",
          "text": [
            "Epoch [1297/5000]: 100%|██████████| 2/2 [00:00<00:00, 87.12it/s, loss=11.8]\n"
          ]
        },
        {
          "output_type": "stream",
          "name": "stdout",
          "text": [
            "Epoch [1297/5000]: Train loss: 9.8578, Valid loss: 10.1689\n"
          ]
        },
        {
          "output_type": "stream",
          "name": "stderr",
          "text": [
            "Epoch [1298/5000]: 100%|██████████| 2/2 [00:00<00:00, 78.91it/s, loss=10.4]\n"
          ]
        },
        {
          "output_type": "stream",
          "name": "stdout",
          "text": [
            "Epoch [1298/5000]: Train loss: 9.7802, Valid loss: 10.0846\n"
          ]
        },
        {
          "output_type": "stream",
          "name": "stderr",
          "text": [
            "Epoch [1299/5000]: 100%|██████████| 2/2 [00:00<00:00, 89.81it/s, loss=8.85]\n"
          ]
        },
        {
          "output_type": "stream",
          "name": "stdout",
          "text": [
            "Epoch [1299/5000]: Train loss: 9.0155, Valid loss: 10.1080\n"
          ]
        },
        {
          "output_type": "stream",
          "name": "stderr",
          "text": [
            "Epoch [1300/5000]: 100%|██████████| 2/2 [00:00<00:00, 84.16it/s, loss=10.5]\n"
          ]
        },
        {
          "output_type": "stream",
          "name": "stdout",
          "text": [
            "Epoch [1300/5000]: Train loss: 9.5618, Valid loss: 10.1907\n"
          ]
        },
        {
          "output_type": "stream",
          "name": "stderr",
          "text": [
            "Epoch [1301/5000]: 100%|██████████| 2/2 [00:00<00:00, 77.27it/s, loss=10.8]\n"
          ]
        },
        {
          "output_type": "stream",
          "name": "stdout",
          "text": [
            "Epoch [1301/5000]: Train loss: 10.2134, Valid loss: 10.2594\n"
          ]
        },
        {
          "output_type": "stream",
          "name": "stderr",
          "text": [
            "Epoch [1302/5000]: 100%|██████████| 2/2 [00:00<00:00, 79.88it/s, loss=9.04]\n"
          ]
        },
        {
          "output_type": "stream",
          "name": "stdout",
          "text": [
            "Epoch [1302/5000]: Train loss: 9.7971, Valid loss: 10.4691\n"
          ]
        },
        {
          "output_type": "stream",
          "name": "stderr",
          "text": [
            "Epoch [1303/5000]: 100%|██████████| 2/2 [00:00<00:00, 86.35it/s, loss=10.7]\n"
          ]
        },
        {
          "output_type": "stream",
          "name": "stdout",
          "text": [
            "Epoch [1303/5000]: Train loss: 10.0262, Valid loss: 10.6145\n"
          ]
        },
        {
          "output_type": "stream",
          "name": "stderr",
          "text": [
            "Epoch [1304/5000]: 100%|██████████| 2/2 [00:00<00:00, 75.03it/s, loss=9.69]\n"
          ]
        },
        {
          "output_type": "stream",
          "name": "stdout",
          "text": [
            "Epoch [1304/5000]: Train loss: 9.3435, Valid loss: 10.8158\n"
          ]
        },
        {
          "output_type": "stream",
          "name": "stderr",
          "text": [
            "Epoch [1305/5000]: 100%|██████████| 2/2 [00:00<00:00, 98.71it/s, loss=8.59]\n"
          ]
        },
        {
          "output_type": "stream",
          "name": "stdout",
          "text": [
            "Epoch [1305/5000]: Train loss: 8.4171, Valid loss: 10.8434\n"
          ]
        },
        {
          "output_type": "stream",
          "name": "stderr",
          "text": [
            "Epoch [1306/5000]: 100%|██████████| 2/2 [00:00<00:00, 97.22it/s, loss=7.56]\n"
          ]
        },
        {
          "output_type": "stream",
          "name": "stdout",
          "text": [
            "Epoch [1306/5000]: Train loss: 8.5171, Valid loss: 10.9701\n"
          ]
        },
        {
          "output_type": "stream",
          "name": "stderr",
          "text": [
            "Epoch [1307/5000]: 100%|██████████| 2/2 [00:00<00:00, 87.35it/s, loss=9.3]\n"
          ]
        },
        {
          "output_type": "stream",
          "name": "stdout",
          "text": [
            "Epoch [1307/5000]: Train loss: 9.3570, Valid loss: 10.8997\n"
          ]
        },
        {
          "output_type": "stream",
          "name": "stderr",
          "text": [
            "Epoch [1308/5000]: 100%|██████████| 2/2 [00:00<00:00, 89.77it/s, loss=7.4]\n"
          ]
        },
        {
          "output_type": "stream",
          "name": "stdout",
          "text": [
            "Epoch [1308/5000]: Train loss: 8.5828, Valid loss: 10.6926\n"
          ]
        },
        {
          "output_type": "stream",
          "name": "stderr",
          "text": [
            "Epoch [1309/5000]: 100%|██████████| 2/2 [00:00<00:00, 92.19it/s, loss=9.14]\n"
          ]
        },
        {
          "output_type": "stream",
          "name": "stdout",
          "text": [
            "Epoch [1309/5000]: Train loss: 8.6262, Valid loss: 10.6515\n"
          ]
        },
        {
          "output_type": "stream",
          "name": "stderr",
          "text": [
            "Epoch [1310/5000]: 100%|██████████| 2/2 [00:00<00:00, 90.34it/s, loss=7.41]\n"
          ]
        },
        {
          "output_type": "stream",
          "name": "stdout",
          "text": [
            "Epoch [1310/5000]: Train loss: 7.6228, Valid loss: 10.6212\n"
          ]
        },
        {
          "output_type": "stream",
          "name": "stderr",
          "text": [
            "Epoch [1311/5000]: 100%|██████████| 2/2 [00:00<00:00, 93.39it/s, loss=10.1]\n"
          ]
        },
        {
          "output_type": "stream",
          "name": "stdout",
          "text": [
            "Epoch [1311/5000]: Train loss: 9.7275, Valid loss: 10.7228\n"
          ]
        },
        {
          "output_type": "stream",
          "name": "stderr",
          "text": [
            "Epoch [1312/5000]: 100%|██████████| 2/2 [00:00<00:00, 93.99it/s, loss=6.65]\n"
          ]
        },
        {
          "output_type": "stream",
          "name": "stdout",
          "text": [
            "Epoch [1312/5000]: Train loss: 8.2262, Valid loss: 10.7977\n"
          ]
        },
        {
          "output_type": "stream",
          "name": "stderr",
          "text": [
            "Epoch [1313/5000]: 100%|██████████| 2/2 [00:00<00:00, 92.58it/s, loss=7.01]\n"
          ]
        },
        {
          "output_type": "stream",
          "name": "stdout",
          "text": [
            "Epoch [1313/5000]: Train loss: 8.9411, Valid loss: 10.8157\n"
          ]
        },
        {
          "output_type": "stream",
          "name": "stderr",
          "text": [
            "Epoch [1314/5000]: 100%|██████████| 2/2 [00:00<00:00, 96.92it/s, loss=8.99]\n"
          ]
        },
        {
          "output_type": "stream",
          "name": "stdout",
          "text": [
            "Epoch [1314/5000]: Train loss: 9.2970, Valid loss: 10.8363\n"
          ]
        },
        {
          "output_type": "stream",
          "name": "stderr",
          "text": [
            "Epoch [1315/5000]: 100%|██████████| 2/2 [00:00<00:00, 92.56it/s, loss=9.33]\n"
          ]
        },
        {
          "output_type": "stream",
          "name": "stdout",
          "text": [
            "Epoch [1315/5000]: Train loss: 9.1812, Valid loss: 10.8810\n"
          ]
        },
        {
          "output_type": "stream",
          "name": "stderr",
          "text": [
            "Epoch [1316/5000]: 100%|██████████| 2/2 [00:00<00:00, 91.94it/s, loss=9.38]\n"
          ]
        },
        {
          "output_type": "stream",
          "name": "stdout",
          "text": [
            "Epoch [1316/5000]: Train loss: 8.5713, Valid loss: 10.8941\n"
          ]
        },
        {
          "output_type": "stream",
          "name": "stderr",
          "text": [
            "Epoch [1317/5000]: 100%|██████████| 2/2 [00:00<00:00, 90.24it/s, loss=8.05]\n"
          ]
        },
        {
          "output_type": "stream",
          "name": "stdout",
          "text": [
            "Epoch [1317/5000]: Train loss: 7.8053, Valid loss: 10.8180\n"
          ]
        },
        {
          "output_type": "stream",
          "name": "stderr",
          "text": [
            "Epoch [1318/5000]: 100%|██████████| 2/2 [00:00<00:00, 92.68it/s, loss=9.5]\n"
          ]
        },
        {
          "output_type": "stream",
          "name": "stdout",
          "text": [
            "Epoch [1318/5000]: Train loss: 9.1957, Valid loss: 10.7853\n"
          ]
        },
        {
          "output_type": "stream",
          "name": "stderr",
          "text": [
            "Epoch [1319/5000]: 100%|██████████| 2/2 [00:00<00:00, 96.76it/s, loss=8.59]\n"
          ]
        },
        {
          "output_type": "stream",
          "name": "stdout",
          "text": [
            "Epoch [1319/5000]: Train loss: 8.4026, Valid loss: 10.7874\n"
          ]
        },
        {
          "output_type": "stream",
          "name": "stderr",
          "text": [
            "Epoch [1320/5000]: 100%|██████████| 2/2 [00:00<00:00, 92.67it/s, loss=12.1]\n"
          ]
        },
        {
          "output_type": "stream",
          "name": "stdout",
          "text": [
            "Epoch [1320/5000]: Train loss: 10.4870, Valid loss: 10.7151\n"
          ]
        },
        {
          "output_type": "stream",
          "name": "stderr",
          "text": [
            "Epoch [1321/5000]: 100%|██████████| 2/2 [00:00<00:00, 66.52it/s, loss=9.45]\n"
          ]
        },
        {
          "output_type": "stream",
          "name": "stdout",
          "text": [
            "Epoch [1321/5000]: Train loss: 9.2222, Valid loss: 10.6252\n"
          ]
        },
        {
          "output_type": "stream",
          "name": "stderr",
          "text": [
            "Epoch [1322/5000]: 100%|██████████| 2/2 [00:00<00:00, 87.62it/s, loss=9.58]\n"
          ]
        },
        {
          "output_type": "stream",
          "name": "stdout",
          "text": [
            "Epoch [1322/5000]: Train loss: 9.3222, Valid loss: 10.4703\n"
          ]
        },
        {
          "output_type": "stream",
          "name": "stderr",
          "text": [
            "Epoch [1323/5000]: 100%|██████████| 2/2 [00:00<00:00, 102.10it/s, loss=8.43]\n"
          ]
        },
        {
          "output_type": "stream",
          "name": "stdout",
          "text": [
            "Epoch [1323/5000]: Train loss: 8.6604, Valid loss: 10.3941\n"
          ]
        },
        {
          "output_type": "stream",
          "name": "stderr",
          "text": [
            "Epoch [1324/5000]: 100%|██████████| 2/2 [00:00<00:00, 69.47it/s, loss=5.51]\n"
          ]
        },
        {
          "output_type": "stream",
          "name": "stdout",
          "text": [
            "Epoch [1324/5000]: Train loss: 7.5250, Valid loss: 10.4329\n"
          ]
        },
        {
          "output_type": "stream",
          "name": "stderr",
          "text": [
            "Epoch [1325/5000]: 100%|██████████| 2/2 [00:00<00:00, 103.59it/s, loss=8.11]\n"
          ]
        },
        {
          "output_type": "stream",
          "name": "stdout",
          "text": [
            "Epoch [1325/5000]: Train loss: 8.4118, Valid loss: 10.5225\n"
          ]
        },
        {
          "output_type": "stream",
          "name": "stderr",
          "text": [
            "Epoch [1326/5000]: 100%|██████████| 2/2 [00:00<00:00, 78.87it/s, loss=9.28]\n"
          ]
        },
        {
          "output_type": "stream",
          "name": "stdout",
          "text": [
            "Epoch [1326/5000]: Train loss: 9.2794, Valid loss: 10.5351\n"
          ]
        },
        {
          "output_type": "stream",
          "name": "stderr",
          "text": [
            "Epoch [1327/5000]: 100%|██████████| 2/2 [00:00<00:00, 88.84it/s, loss=9.35]\n"
          ]
        },
        {
          "output_type": "stream",
          "name": "stdout",
          "text": [
            "Epoch [1327/5000]: Train loss: 8.5280, Valid loss: 10.6159\n"
          ]
        },
        {
          "output_type": "stream",
          "name": "stderr",
          "text": [
            "Epoch [1328/5000]: 100%|██████████| 2/2 [00:00<00:00, 96.13it/s, loss=7.88]\n"
          ]
        },
        {
          "output_type": "stream",
          "name": "stdout",
          "text": [
            "Epoch [1328/5000]: Train loss: 8.6364, Valid loss: 10.6181\n"
          ]
        },
        {
          "output_type": "stream",
          "name": "stderr",
          "text": [
            "Epoch [1329/5000]: 100%|██████████| 2/2 [00:00<00:00, 93.93it/s, loss=9.71]\n"
          ]
        },
        {
          "output_type": "stream",
          "name": "stdout",
          "text": [
            "Epoch [1329/5000]: Train loss: 8.9552, Valid loss: 10.6950\n"
          ]
        },
        {
          "output_type": "stream",
          "name": "stderr",
          "text": [
            "Epoch [1330/5000]: 100%|██████████| 2/2 [00:00<00:00, 84.63it/s, loss=6.56]\n"
          ]
        },
        {
          "output_type": "stream",
          "name": "stdout",
          "text": [
            "Epoch [1330/5000]: Train loss: 7.8389, Valid loss: 10.7868\n"
          ]
        },
        {
          "output_type": "stream",
          "name": "stderr",
          "text": [
            "Epoch [1331/5000]: 100%|██████████| 2/2 [00:00<00:00, 92.42it/s, loss=8.28]\n"
          ]
        },
        {
          "output_type": "stream",
          "name": "stdout",
          "text": [
            "Epoch [1331/5000]: Train loss: 8.4365, Valid loss: 10.8315\n"
          ]
        },
        {
          "output_type": "stream",
          "name": "stderr",
          "text": [
            "Epoch [1332/5000]: 100%|██████████| 2/2 [00:00<00:00, 97.78it/s, loss=5.92]\n"
          ]
        },
        {
          "output_type": "stream",
          "name": "stdout",
          "text": [
            "Epoch [1332/5000]: Train loss: 7.8413, Valid loss: 10.8237\n"
          ]
        },
        {
          "output_type": "stream",
          "name": "stderr",
          "text": [
            "Epoch [1333/5000]: 100%|██████████| 2/2 [00:00<00:00, 83.27it/s, loss=11.7]\n"
          ]
        },
        {
          "output_type": "stream",
          "name": "stdout",
          "text": [
            "Epoch [1333/5000]: Train loss: 10.9756, Valid loss: 10.9004\n"
          ]
        },
        {
          "output_type": "stream",
          "name": "stderr",
          "text": [
            "Epoch [1334/5000]: 100%|██████████| 2/2 [00:00<00:00, 76.90it/s, loss=8.85]\n"
          ]
        },
        {
          "output_type": "stream",
          "name": "stdout",
          "text": [
            "Epoch [1334/5000]: Train loss: 8.4872, Valid loss: 10.8891\n"
          ]
        },
        {
          "output_type": "stream",
          "name": "stderr",
          "text": [
            "Epoch [1335/5000]: 100%|██████████| 2/2 [00:00<00:00, 93.83it/s, loss=12.4]\n"
          ]
        },
        {
          "output_type": "stream",
          "name": "stdout",
          "text": [
            "Epoch [1335/5000]: Train loss: 10.4601, Valid loss: 10.8514\n"
          ]
        },
        {
          "output_type": "stream",
          "name": "stderr",
          "text": [
            "Epoch [1336/5000]: 100%|██████████| 2/2 [00:00<00:00, 102.94it/s, loss=9.21]\n"
          ]
        },
        {
          "output_type": "stream",
          "name": "stdout",
          "text": [
            "Epoch [1336/5000]: Train loss: 8.4802, Valid loss: 10.7931\n"
          ]
        },
        {
          "output_type": "stream",
          "name": "stderr",
          "text": [
            "Epoch [1337/5000]: 100%|██████████| 2/2 [00:00<00:00, 89.37it/s, loss=8.6]\n"
          ]
        },
        {
          "output_type": "stream",
          "name": "stdout",
          "text": [
            "Epoch [1337/5000]: Train loss: 8.4001, Valid loss: 10.8685\n"
          ]
        },
        {
          "output_type": "stream",
          "name": "stderr",
          "text": [
            "Epoch [1338/5000]: 100%|██████████| 2/2 [00:00<00:00, 87.15it/s, loss=7.6]\n"
          ]
        },
        {
          "output_type": "stream",
          "name": "stdout",
          "text": [
            "Epoch [1338/5000]: Train loss: 8.3510, Valid loss: 10.7290\n"
          ]
        },
        {
          "output_type": "stream",
          "name": "stderr",
          "text": [
            "Epoch [1339/5000]: 100%|██████████| 2/2 [00:00<00:00, 80.92it/s, loss=11.9]\n"
          ]
        },
        {
          "output_type": "stream",
          "name": "stdout",
          "text": [
            "Epoch [1339/5000]: Train loss: 10.4017, Valid loss: 10.6457\n"
          ]
        },
        {
          "output_type": "stream",
          "name": "stderr",
          "text": [
            "Epoch [1340/5000]: 100%|██████████| 2/2 [00:00<00:00, 97.27it/s, loss=8.79]\n"
          ]
        },
        {
          "output_type": "stream",
          "name": "stdout",
          "text": [
            "Epoch [1340/5000]: Train loss: 9.1251, Valid loss: 10.7320\n"
          ]
        },
        {
          "output_type": "stream",
          "name": "stderr",
          "text": [
            "Epoch [1341/5000]: 100%|██████████| 2/2 [00:00<00:00, 14.60it/s, loss=7.96]\n"
          ]
        },
        {
          "output_type": "stream",
          "name": "stdout",
          "text": [
            "Epoch [1341/5000]: Train loss: 8.6359, Valid loss: 10.7125\n"
          ]
        },
        {
          "output_type": "stream",
          "name": "stderr",
          "text": [
            "Epoch [1342/5000]: 100%|██████████| 2/2 [00:00<00:00, 93.55it/s, loss=8.97]\n"
          ]
        },
        {
          "output_type": "stream",
          "name": "stdout",
          "text": [
            "Epoch [1342/5000]: Train loss: 8.9478, Valid loss: 10.6966\n"
          ]
        },
        {
          "output_type": "stream",
          "name": "stderr",
          "text": [
            "Epoch [1343/5000]: 100%|██████████| 2/2 [00:00<00:00, 133.25it/s, loss=8.56]\n"
          ]
        },
        {
          "output_type": "stream",
          "name": "stdout",
          "text": [
            "Epoch [1343/5000]: Train loss: 8.1842, Valid loss: 10.7248\n"
          ]
        },
        {
          "output_type": "stream",
          "name": "stderr",
          "text": [
            "Epoch [1344/5000]: 100%|██████████| 2/2 [00:00<00:00, 117.66it/s, loss=8.47]\n"
          ]
        },
        {
          "output_type": "stream",
          "name": "stdout",
          "text": [
            "Epoch [1344/5000]: Train loss: 8.6216, Valid loss: 10.5961\n"
          ]
        },
        {
          "output_type": "stream",
          "name": "stderr",
          "text": [
            "Epoch [1345/5000]: 100%|██████████| 2/2 [00:00<00:00, 92.04it/s, loss=11.7]\n"
          ]
        },
        {
          "output_type": "stream",
          "name": "stdout",
          "text": [
            "Epoch [1345/5000]: Train loss: 10.1434, Valid loss: 10.5108\n"
          ]
        },
        {
          "output_type": "stream",
          "name": "stderr",
          "text": [
            "Epoch [1346/5000]: 100%|██████████| 2/2 [00:00<00:00, 114.84it/s, loss=9.82]\n"
          ]
        },
        {
          "output_type": "stream",
          "name": "stdout",
          "text": [
            "Epoch [1346/5000]: Train loss: 8.8633, Valid loss: 10.5424\n"
          ]
        },
        {
          "output_type": "stream",
          "name": "stderr",
          "text": [
            "Epoch [1347/5000]: 100%|██████████| 2/2 [00:00<00:00, 100.74it/s, loss=10.2]\n"
          ]
        },
        {
          "output_type": "stream",
          "name": "stdout",
          "text": [
            "Epoch [1347/5000]: Train loss: 9.1220, Valid loss: 10.5589\n"
          ]
        },
        {
          "output_type": "stream",
          "name": "stderr",
          "text": [
            "Epoch [1348/5000]: 100%|██████████| 2/2 [00:00<00:00, 107.83it/s, loss=10.6]\n"
          ]
        },
        {
          "output_type": "stream",
          "name": "stdout",
          "text": [
            "Epoch [1348/5000]: Train loss: 9.6687, Valid loss: 10.5929\n"
          ]
        },
        {
          "output_type": "stream",
          "name": "stderr",
          "text": [
            "Epoch [1349/5000]: 100%|██████████| 2/2 [00:00<00:00, 106.66it/s, loss=7.99]\n"
          ]
        },
        {
          "output_type": "stream",
          "name": "stdout",
          "text": [
            "Epoch [1349/5000]: Train loss: 8.8995, Valid loss: 10.6366\n"
          ]
        },
        {
          "output_type": "stream",
          "name": "stderr",
          "text": [
            "Epoch [1350/5000]: 100%|██████████| 2/2 [00:00<00:00, 95.97it/s, loss=11]\n"
          ]
        },
        {
          "output_type": "stream",
          "name": "stdout",
          "text": [
            "Epoch [1350/5000]: Train loss: 9.8608, Valid loss: 10.6524\n"
          ]
        },
        {
          "output_type": "stream",
          "name": "stderr",
          "text": [
            "Epoch [1351/5000]: 100%|██████████| 2/2 [00:00<00:00, 110.92it/s, loss=8.92]\n"
          ]
        },
        {
          "output_type": "stream",
          "name": "stdout",
          "text": [
            "Epoch [1351/5000]: Train loss: 9.4290, Valid loss: 10.7556\n"
          ]
        },
        {
          "output_type": "stream",
          "name": "stderr",
          "text": [
            "Epoch [1352/5000]: 100%|██████████| 2/2 [00:00<00:00, 109.12it/s, loss=10.3]\n"
          ]
        },
        {
          "output_type": "stream",
          "name": "stdout",
          "text": [
            "Epoch [1352/5000]: Train loss: 9.4577, Valid loss: 10.6259\n"
          ]
        },
        {
          "output_type": "stream",
          "name": "stderr",
          "text": [
            "Epoch [1353/5000]: 100%|██████████| 2/2 [00:00<00:00, 103.87it/s, loss=8.33]\n"
          ]
        },
        {
          "output_type": "stream",
          "name": "stdout",
          "text": [
            "Epoch [1353/5000]: Train loss: 9.1701, Valid loss: 10.5406\n"
          ]
        },
        {
          "output_type": "stream",
          "name": "stderr",
          "text": [
            "Epoch [1354/5000]: 100%|██████████| 2/2 [00:00<00:00, 95.99it/s, loss=8.55]\n"
          ]
        },
        {
          "output_type": "stream",
          "name": "stdout",
          "text": [
            "Epoch [1354/5000]: Train loss: 8.6307, Valid loss: 10.4435\n"
          ]
        },
        {
          "output_type": "stream",
          "name": "stderr",
          "text": [
            "Epoch [1355/5000]: 100%|██████████| 2/2 [00:00<00:00, 111.06it/s, loss=7.57]\n"
          ]
        },
        {
          "output_type": "stream",
          "name": "stdout",
          "text": [
            "Epoch [1355/5000]: Train loss: 8.3431, Valid loss: 10.3798\n"
          ]
        },
        {
          "output_type": "stream",
          "name": "stderr",
          "text": [
            "Epoch [1356/5000]: 100%|██████████| 2/2 [00:00<00:00, 94.38it/s, loss=7.93]\n"
          ]
        },
        {
          "output_type": "stream",
          "name": "stdout",
          "text": [
            "Epoch [1356/5000]: Train loss: 8.6301, Valid loss: 10.5459\n"
          ]
        },
        {
          "output_type": "stream",
          "name": "stderr",
          "text": [
            "Epoch [1357/5000]: 100%|██████████| 2/2 [00:00<00:00, 126.27it/s, loss=9.89]\n"
          ]
        },
        {
          "output_type": "stream",
          "name": "stdout",
          "text": [
            "Epoch [1357/5000]: Train loss: 8.9062, Valid loss: 10.6922\n"
          ]
        },
        {
          "output_type": "stream",
          "name": "stderr",
          "text": [
            "Epoch [1358/5000]: 100%|██████████| 2/2 [00:00<00:00, 119.66it/s, loss=9.03]\n"
          ]
        },
        {
          "output_type": "stream",
          "name": "stdout",
          "text": [
            "Epoch [1358/5000]: Train loss: 9.5918, Valid loss: 10.7150\n"
          ]
        },
        {
          "output_type": "stream",
          "name": "stderr",
          "text": [
            "Epoch [1359/5000]: 100%|██████████| 2/2 [00:00<00:00, 115.38it/s, loss=11.2]\n"
          ]
        },
        {
          "output_type": "stream",
          "name": "stdout",
          "text": [
            "Epoch [1359/5000]: Train loss: 9.9241, Valid loss: 10.8189\n"
          ]
        },
        {
          "output_type": "stream",
          "name": "stderr",
          "text": [
            "Epoch [1360/5000]: 100%|██████████| 2/2 [00:00<00:00, 107.29it/s, loss=10.4]\n"
          ]
        },
        {
          "output_type": "stream",
          "name": "stdout",
          "text": [
            "Epoch [1360/5000]: Train loss: 9.3991, Valid loss: 10.8919\n"
          ]
        },
        {
          "output_type": "stream",
          "name": "stderr",
          "text": [
            "Epoch [1361/5000]: 100%|██████████| 2/2 [00:00<00:00, 86.54it/s, loss=8]\n"
          ]
        },
        {
          "output_type": "stream",
          "name": "stdout",
          "text": [
            "Epoch [1361/5000]: Train loss: 8.3619, Valid loss: 10.7730\n"
          ]
        },
        {
          "output_type": "stream",
          "name": "stderr",
          "text": [
            "Epoch [1362/5000]: 100%|██████████| 2/2 [00:00<00:00, 86.06it/s, loss=7.58]\n"
          ]
        },
        {
          "output_type": "stream",
          "name": "stdout",
          "text": [
            "Epoch [1362/5000]: Train loss: 8.3888, Valid loss: 10.5763\n"
          ]
        },
        {
          "output_type": "stream",
          "name": "stderr",
          "text": [
            "Epoch [1363/5000]: 100%|██████████| 2/2 [00:00<00:00, 101.56it/s, loss=10.7]\n"
          ]
        },
        {
          "output_type": "stream",
          "name": "stdout",
          "text": [
            "Epoch [1363/5000]: Train loss: 9.7424, Valid loss: 10.4972\n"
          ]
        },
        {
          "output_type": "stream",
          "name": "stderr",
          "text": [
            "Epoch [1364/5000]: 100%|██████████| 2/2 [00:00<00:00, 104.15it/s, loss=9.6]\n"
          ]
        },
        {
          "output_type": "stream",
          "name": "stdout",
          "text": [
            "Epoch [1364/5000]: Train loss: 8.9377, Valid loss: 10.4180\n"
          ]
        },
        {
          "output_type": "stream",
          "name": "stderr",
          "text": [
            "Epoch [1365/5000]: 100%|██████████| 2/2 [00:00<00:00, 105.73it/s, loss=9.11]\n"
          ]
        },
        {
          "output_type": "stream",
          "name": "stdout",
          "text": [
            "Epoch [1365/5000]: Train loss: 9.0671, Valid loss: 10.3179\n"
          ]
        },
        {
          "output_type": "stream",
          "name": "stderr",
          "text": [
            "Epoch [1366/5000]: 100%|██████████| 2/2 [00:00<00:00, 15.29it/s, loss=7.84]\n"
          ]
        },
        {
          "output_type": "stream",
          "name": "stdout",
          "text": [
            "Epoch [1366/5000]: Train loss: 8.2226, Valid loss: 10.3953\n"
          ]
        },
        {
          "output_type": "stream",
          "name": "stderr",
          "text": [
            "Epoch [1367/5000]: 100%|██████████| 2/2 [00:00<00:00, 82.28it/s, loss=8.37]\n"
          ]
        },
        {
          "output_type": "stream",
          "name": "stdout",
          "text": [
            "Epoch [1367/5000]: Train loss: 8.1351, Valid loss: 10.5001\n"
          ]
        },
        {
          "output_type": "stream",
          "name": "stderr",
          "text": [
            "Epoch [1368/5000]: 100%|██████████| 2/2 [00:00<00:00, 81.27it/s, loss=7.85]\n"
          ]
        },
        {
          "output_type": "stream",
          "name": "stdout",
          "text": [
            "Epoch [1368/5000]: Train loss: 7.8718, Valid loss: 10.5450\n"
          ]
        },
        {
          "output_type": "stream",
          "name": "stderr",
          "text": [
            "Epoch [1369/5000]: 100%|██████████| 2/2 [00:00<00:00, 104.77it/s, loss=7.56]\n"
          ]
        },
        {
          "output_type": "stream",
          "name": "stdout",
          "text": [
            "Epoch [1369/5000]: Train loss: 8.1513, Valid loss: 10.6913\n"
          ]
        },
        {
          "output_type": "stream",
          "name": "stderr",
          "text": [
            "Epoch [1370/5000]: 100%|██████████| 2/2 [00:00<00:00, 82.97it/s, loss=6.59]\n"
          ]
        },
        {
          "output_type": "stream",
          "name": "stdout",
          "text": [
            "Epoch [1370/5000]: Train loss: 7.5226, Valid loss: 10.8031\n"
          ]
        },
        {
          "output_type": "stream",
          "name": "stderr",
          "text": [
            "Epoch [1371/5000]: 100%|██████████| 2/2 [00:00<00:00, 102.84it/s, loss=10.1]\n"
          ]
        },
        {
          "output_type": "stream",
          "name": "stdout",
          "text": [
            "Epoch [1371/5000]: Train loss: 9.7920, Valid loss: 10.7407\n"
          ]
        },
        {
          "output_type": "stream",
          "name": "stderr",
          "text": [
            "Epoch [1372/5000]: 100%|██████████| 2/2 [00:00<00:00, 87.56it/s, loss=8.67]\n"
          ]
        },
        {
          "output_type": "stream",
          "name": "stdout",
          "text": [
            "Epoch [1372/5000]: Train loss: 8.7725, Valid loss: 10.5513\n"
          ]
        },
        {
          "output_type": "stream",
          "name": "stderr",
          "text": [
            "Epoch [1373/5000]: 100%|██████████| 2/2 [00:00<00:00, 106.64it/s, loss=7.07]\n"
          ]
        },
        {
          "output_type": "stream",
          "name": "stdout",
          "text": [
            "Epoch [1373/5000]: Train loss: 8.0422, Valid loss: 10.4553\n"
          ]
        },
        {
          "output_type": "stream",
          "name": "stderr",
          "text": [
            "Epoch [1374/5000]: 100%|██████████| 2/2 [00:00<00:00, 90.43it/s, loss=8.87]\n"
          ]
        },
        {
          "output_type": "stream",
          "name": "stdout",
          "text": [
            "Epoch [1374/5000]: Train loss: 8.6862, Valid loss: 10.3905\n"
          ]
        },
        {
          "output_type": "stream",
          "name": "stderr",
          "text": [
            "Epoch [1375/5000]: 100%|██████████| 2/2 [00:00<00:00, 89.00it/s, loss=7.11]\n"
          ]
        },
        {
          "output_type": "stream",
          "name": "stdout",
          "text": [
            "Epoch [1375/5000]: Train loss: 7.9783, Valid loss: 10.4430\n"
          ]
        },
        {
          "output_type": "stream",
          "name": "stderr",
          "text": [
            "Epoch [1376/5000]: 100%|██████████| 2/2 [00:00<00:00, 73.86it/s, loss=9.82]\n"
          ]
        },
        {
          "output_type": "stream",
          "name": "stdout",
          "text": [
            "Epoch [1376/5000]: Train loss: 9.3903, Valid loss: 10.5386\n"
          ]
        },
        {
          "output_type": "stream",
          "name": "stderr",
          "text": [
            "Epoch [1377/5000]: 100%|██████████| 2/2 [00:00<00:00, 60.55it/s, loss=8.54]\n"
          ]
        },
        {
          "output_type": "stream",
          "name": "stdout",
          "text": [
            "Epoch [1377/5000]: Train loss: 8.5315, Valid loss: 10.6076\n"
          ]
        },
        {
          "output_type": "stream",
          "name": "stderr",
          "text": [
            "Epoch [1378/5000]: 100%|██████████| 2/2 [00:00<00:00, 81.06it/s, loss=8.07]\n"
          ]
        },
        {
          "output_type": "stream",
          "name": "stdout",
          "text": [
            "Epoch [1378/5000]: Train loss: 8.3891, Valid loss: 10.5588\n"
          ]
        },
        {
          "output_type": "stream",
          "name": "stderr",
          "text": [
            "Epoch [1379/5000]: 100%|██████████| 2/2 [00:00<00:00, 90.28it/s, loss=7.96]\n"
          ]
        },
        {
          "output_type": "stream",
          "name": "stdout",
          "text": [
            "Epoch [1379/5000]: Train loss: 8.3528, Valid loss: 10.5986\n"
          ]
        },
        {
          "output_type": "stream",
          "name": "stderr",
          "text": [
            "Epoch [1380/5000]: 100%|██████████| 2/2 [00:00<00:00, 86.32it/s, loss=8.25]\n"
          ]
        },
        {
          "output_type": "stream",
          "name": "stdout",
          "text": [
            "Epoch [1380/5000]: Train loss: 8.4570, Valid loss: 10.6143\n"
          ]
        },
        {
          "output_type": "stream",
          "name": "stderr",
          "text": [
            "Epoch [1381/5000]: 100%|██████████| 2/2 [00:00<00:00, 70.79it/s, loss=9.03]\n"
          ]
        },
        {
          "output_type": "stream",
          "name": "stdout",
          "text": [
            "Epoch [1381/5000]: Train loss: 8.4742, Valid loss: 10.6588\n"
          ]
        },
        {
          "output_type": "stream",
          "name": "stderr",
          "text": [
            "Epoch [1382/5000]: 100%|██████████| 2/2 [00:00<00:00, 60.68it/s, loss=8.88]\n"
          ]
        },
        {
          "output_type": "stream",
          "name": "stdout",
          "text": [
            "Epoch [1382/5000]: Train loss: 8.8129, Valid loss: 10.7751\n"
          ]
        },
        {
          "output_type": "stream",
          "name": "stderr",
          "text": [
            "Epoch [1383/5000]: 100%|██████████| 2/2 [00:00<00:00, 91.66it/s, loss=9.94]\n"
          ]
        },
        {
          "output_type": "stream",
          "name": "stdout",
          "text": [
            "Epoch [1383/5000]: Train loss: 8.9242, Valid loss: 10.8748\n"
          ]
        },
        {
          "output_type": "stream",
          "name": "stderr",
          "text": [
            "Epoch [1384/5000]: 100%|██████████| 2/2 [00:00<00:00, 95.21it/s, loss=10.4]\n"
          ]
        },
        {
          "output_type": "stream",
          "name": "stdout",
          "text": [
            "Epoch [1384/5000]: Train loss: 9.4716, Valid loss: 10.9954\n"
          ]
        },
        {
          "output_type": "stream",
          "name": "stderr",
          "text": [
            "Epoch [1385/5000]: 100%|██████████| 2/2 [00:00<00:00, 92.99it/s, loss=11]\n"
          ]
        },
        {
          "output_type": "stream",
          "name": "stdout",
          "text": [
            "Epoch [1385/5000]: Train loss: 9.9080, Valid loss: 10.9930\n"
          ]
        },
        {
          "output_type": "stream",
          "name": "stderr",
          "text": [
            "Epoch [1386/5000]: 100%|██████████| 2/2 [00:00<00:00, 86.03it/s, loss=9.88]\n"
          ]
        },
        {
          "output_type": "stream",
          "name": "stdout",
          "text": [
            "Epoch [1386/5000]: Train loss: 8.8820, Valid loss: 10.9771\n"
          ]
        },
        {
          "output_type": "stream",
          "name": "stderr",
          "text": [
            "Epoch [1387/5000]: 100%|██████████| 2/2 [00:00<00:00, 88.10it/s, loss=12.4]\n"
          ]
        },
        {
          "output_type": "stream",
          "name": "stdout",
          "text": [
            "Epoch [1387/5000]: Train loss: 10.1946, Valid loss: 10.9145\n"
          ]
        },
        {
          "output_type": "stream",
          "name": "stderr",
          "text": [
            "Epoch [1388/5000]: 100%|██████████| 2/2 [00:00<00:00, 72.93it/s, loss=11.3]\n"
          ]
        },
        {
          "output_type": "stream",
          "name": "stdout",
          "text": [
            "Epoch [1388/5000]: Train loss: 10.0510, Valid loss: 10.8761\n"
          ]
        },
        {
          "output_type": "stream",
          "name": "stderr",
          "text": [
            "Epoch [1389/5000]: 100%|██████████| 2/2 [00:00<00:00, 62.31it/s, loss=10.2]\n"
          ]
        },
        {
          "output_type": "stream",
          "name": "stdout",
          "text": [
            "Epoch [1389/5000]: Train loss: 9.4309, Valid loss: 10.7599\n"
          ]
        },
        {
          "output_type": "stream",
          "name": "stderr",
          "text": [
            "Epoch [1390/5000]: 100%|██████████| 2/2 [00:00<00:00, 92.53it/s, loss=9.61]\n"
          ]
        },
        {
          "output_type": "stream",
          "name": "stdout",
          "text": [
            "Epoch [1390/5000]: Train loss: 8.8398, Valid loss: 10.6319\n"
          ]
        },
        {
          "output_type": "stream",
          "name": "stderr",
          "text": [
            "Epoch [1391/5000]: 100%|██████████| 2/2 [00:00<00:00, 83.37it/s, loss=9.84]\n"
          ]
        },
        {
          "output_type": "stream",
          "name": "stdout",
          "text": [
            "Epoch [1391/5000]: Train loss: 9.1099, Valid loss: 10.5063\n"
          ]
        },
        {
          "output_type": "stream",
          "name": "stderr",
          "text": [
            "Epoch [1392/5000]: 100%|██████████| 2/2 [00:00<00:00, 91.03it/s, loss=10.7]\n"
          ]
        },
        {
          "output_type": "stream",
          "name": "stdout",
          "text": [
            "Epoch [1392/5000]: Train loss: 10.1643, Valid loss: 10.3574\n"
          ]
        },
        {
          "output_type": "stream",
          "name": "stderr",
          "text": [
            "Epoch [1393/5000]: 100%|██████████| 2/2 [00:00<00:00, 88.56it/s, loss=8.59]\n"
          ]
        },
        {
          "output_type": "stream",
          "name": "stdout",
          "text": [
            "Epoch [1393/5000]: Train loss: 9.2803, Valid loss: 10.1969\n"
          ]
        },
        {
          "output_type": "stream",
          "name": "stderr",
          "text": [
            "Epoch [1394/5000]: 100%|██████████| 2/2 [00:00<00:00, 80.36it/s, loss=7.32]\n"
          ]
        },
        {
          "output_type": "stream",
          "name": "stdout",
          "text": [
            "Epoch [1394/5000]: Train loss: 7.7052, Valid loss: 10.0922\n"
          ]
        },
        {
          "output_type": "stream",
          "name": "stderr",
          "text": [
            "Epoch [1395/5000]: 100%|██████████| 2/2 [00:00<00:00, 84.53it/s, loss=9.24]\n"
          ]
        },
        {
          "output_type": "stream",
          "name": "stdout",
          "text": [
            "Epoch [1395/5000]: Train loss: 8.8768, Valid loss: 10.0427\n"
          ]
        },
        {
          "output_type": "stream",
          "name": "stderr",
          "text": [
            "Epoch [1396/5000]: 100%|██████████| 2/2 [00:00<00:00, 76.43it/s, loss=9.5]\n"
          ]
        },
        {
          "output_type": "stream",
          "name": "stdout",
          "text": [
            "Epoch [1396/5000]: Train loss: 8.1251, Valid loss: 10.1403\n"
          ]
        },
        {
          "output_type": "stream",
          "name": "stderr",
          "text": [
            "Epoch [1397/5000]: 100%|██████████| 2/2 [00:00<00:00, 102.49it/s, loss=9.27]\n"
          ]
        },
        {
          "output_type": "stream",
          "name": "stdout",
          "text": [
            "Epoch [1397/5000]: Train loss: 8.3737, Valid loss: 10.1577\n"
          ]
        },
        {
          "output_type": "stream",
          "name": "stderr",
          "text": [
            "Epoch [1398/5000]: 100%|██████████| 2/2 [00:00<00:00, 76.90it/s, loss=8.98]\n"
          ]
        },
        {
          "output_type": "stream",
          "name": "stdout",
          "text": [
            "Epoch [1398/5000]: Train loss: 9.0491, Valid loss: 10.2290\n"
          ]
        },
        {
          "output_type": "stream",
          "name": "stderr",
          "text": [
            "Epoch [1399/5000]: 100%|██████████| 2/2 [00:00<00:00, 95.13it/s, loss=8.61]\n"
          ]
        },
        {
          "output_type": "stream",
          "name": "stdout",
          "text": [
            "Epoch [1399/5000]: Train loss: 8.9071, Valid loss: 10.2477\n"
          ]
        },
        {
          "output_type": "stream",
          "name": "stderr",
          "text": [
            "Epoch [1400/5000]: 100%|██████████| 2/2 [00:00<00:00, 64.30it/s, loss=10.3]\n"
          ]
        },
        {
          "output_type": "stream",
          "name": "stdout",
          "text": [
            "Epoch [1400/5000]: Train loss: 9.2862, Valid loss: 10.3050\n"
          ]
        },
        {
          "output_type": "stream",
          "name": "stderr",
          "text": [
            "Epoch [1401/5000]: 100%|██████████| 2/2 [00:00<00:00, 84.18it/s, loss=9.45]\n"
          ]
        },
        {
          "output_type": "stream",
          "name": "stdout",
          "text": [
            "Epoch [1401/5000]: Train loss: 9.9245, Valid loss: 10.4365\n"
          ]
        },
        {
          "output_type": "stream",
          "name": "stderr",
          "text": [
            "Epoch [1402/5000]: 100%|██████████| 2/2 [00:00<00:00, 83.84it/s, loss=7.4]\n"
          ]
        },
        {
          "output_type": "stream",
          "name": "stdout",
          "text": [
            "Epoch [1402/5000]: Train loss: 7.8574, Valid loss: 10.5189\n"
          ]
        },
        {
          "output_type": "stream",
          "name": "stderr",
          "text": [
            "Epoch [1403/5000]: 100%|██████████| 2/2 [00:00<00:00, 82.31it/s, loss=7.36]\n"
          ]
        },
        {
          "output_type": "stream",
          "name": "stdout",
          "text": [
            "Epoch [1403/5000]: Train loss: 8.0912, Valid loss: 10.6643\n"
          ]
        },
        {
          "output_type": "stream",
          "name": "stderr",
          "text": [
            "Epoch [1404/5000]: 100%|██████████| 2/2 [00:00<00:00, 92.81it/s, loss=5.79]\n"
          ]
        },
        {
          "output_type": "stream",
          "name": "stdout",
          "text": [
            "Epoch [1404/5000]: Train loss: 7.5809, Valid loss: 10.7157\n"
          ]
        },
        {
          "output_type": "stream",
          "name": "stderr",
          "text": [
            "Epoch [1405/5000]: 100%|██████████| 2/2 [00:00<00:00, 78.54it/s, loss=8.89]\n"
          ]
        },
        {
          "output_type": "stream",
          "name": "stdout",
          "text": [
            "Epoch [1405/5000]: Train loss: 8.3839, Valid loss: 10.7560\n"
          ]
        },
        {
          "output_type": "stream",
          "name": "stderr",
          "text": [
            "Epoch [1406/5000]: 100%|██████████| 2/2 [00:00<00:00, 84.24it/s, loss=8.92]\n"
          ]
        },
        {
          "output_type": "stream",
          "name": "stdout",
          "text": [
            "Epoch [1406/5000]: Train loss: 9.0999, Valid loss: 10.7112\n"
          ]
        },
        {
          "output_type": "stream",
          "name": "stderr",
          "text": [
            "Epoch [1407/5000]: 100%|██████████| 2/2 [00:00<00:00, 84.21it/s, loss=9.04]\n"
          ]
        },
        {
          "output_type": "stream",
          "name": "stdout",
          "text": [
            "Epoch [1407/5000]: Train loss: 8.3473, Valid loss: 10.7719\n"
          ]
        },
        {
          "output_type": "stream",
          "name": "stderr",
          "text": [
            "Epoch [1408/5000]: 100%|██████████| 2/2 [00:00<00:00, 86.14it/s, loss=9.43]\n"
          ]
        },
        {
          "output_type": "stream",
          "name": "stdout",
          "text": [
            "Epoch [1408/5000]: Train loss: 9.4209, Valid loss: 10.9276\n"
          ]
        },
        {
          "output_type": "stream",
          "name": "stderr",
          "text": [
            "Epoch [1409/5000]: 100%|██████████| 2/2 [00:00<00:00, 84.34it/s, loss=7.14]\n"
          ]
        },
        {
          "output_type": "stream",
          "name": "stdout",
          "text": [
            "Epoch [1409/5000]: Train loss: 7.2180, Valid loss: 10.9351\n"
          ]
        },
        {
          "output_type": "stream",
          "name": "stderr",
          "text": [
            "Epoch [1410/5000]: 100%|██████████| 2/2 [00:00<00:00, 63.84it/s, loss=6.43]\n"
          ]
        },
        {
          "output_type": "stream",
          "name": "stdout",
          "text": [
            "Epoch [1410/5000]: Train loss: 7.5899, Valid loss: 10.8270\n"
          ]
        },
        {
          "output_type": "stream",
          "name": "stderr",
          "text": [
            "Epoch [1411/5000]: 100%|██████████| 2/2 [00:00<00:00, 86.10it/s, loss=11.2]\n"
          ]
        },
        {
          "output_type": "stream",
          "name": "stdout",
          "text": [
            "Epoch [1411/5000]: Train loss: 9.6363, Valid loss: 10.8374\n"
          ]
        },
        {
          "output_type": "stream",
          "name": "stderr",
          "text": [
            "Epoch [1412/5000]: 100%|██████████| 2/2 [00:00<00:00, 86.40it/s, loss=10.5]\n"
          ]
        },
        {
          "output_type": "stream",
          "name": "stdout",
          "text": [
            "Epoch [1412/5000]: Train loss: 8.8448, Valid loss: 10.8927\n"
          ]
        },
        {
          "output_type": "stream",
          "name": "stderr",
          "text": [
            "Epoch [1413/5000]: 100%|██████████| 2/2 [00:00<00:00, 127.25it/s, loss=8.74]\n"
          ]
        },
        {
          "output_type": "stream",
          "name": "stdout",
          "text": [
            "Epoch [1413/5000]: Train loss: 8.8090, Valid loss: 10.8637\n"
          ]
        },
        {
          "output_type": "stream",
          "name": "stderr",
          "text": [
            "Epoch [1414/5000]: 100%|██████████| 2/2 [00:00<00:00, 89.73it/s, loss=7.59]\n"
          ]
        },
        {
          "output_type": "stream",
          "name": "stdout",
          "text": [
            "Epoch [1414/5000]: Train loss: 8.7215, Valid loss: 10.8380\n"
          ]
        },
        {
          "output_type": "stream",
          "name": "stderr",
          "text": [
            "Epoch [1415/5000]: 100%|██████████| 2/2 [00:00<00:00, 127.55it/s, loss=9.36]\n"
          ]
        },
        {
          "output_type": "stream",
          "name": "stdout",
          "text": [
            "Epoch [1415/5000]: Train loss: 9.3859, Valid loss: 10.7862\n"
          ]
        },
        {
          "output_type": "stream",
          "name": "stderr",
          "text": [
            "Epoch [1416/5000]: 100%|██████████| 2/2 [00:00<00:00, 104.59it/s, loss=8.75]\n"
          ]
        },
        {
          "output_type": "stream",
          "name": "stdout",
          "text": [
            "Epoch [1416/5000]: Train loss: 8.3332, Valid loss: 10.7268\n"
          ]
        },
        {
          "output_type": "stream",
          "name": "stderr",
          "text": [
            "Epoch [1417/5000]: 100%|██████████| 2/2 [00:00<00:00, 106.83it/s, loss=8.8]\n"
          ]
        },
        {
          "output_type": "stream",
          "name": "stdout",
          "text": [
            "Epoch [1417/5000]: Train loss: 8.6253, Valid loss: 10.6845\n"
          ]
        },
        {
          "output_type": "stream",
          "name": "stderr",
          "text": [
            "Epoch [1418/5000]: 100%|██████████| 2/2 [00:00<00:00, 95.16it/s, loss=8.88]\n"
          ]
        },
        {
          "output_type": "stream",
          "name": "stdout",
          "text": [
            "Epoch [1418/5000]: Train loss: 9.1133, Valid loss: 10.7307\n"
          ]
        },
        {
          "output_type": "stream",
          "name": "stderr",
          "text": [
            "Epoch [1419/5000]: 100%|██████████| 2/2 [00:00<00:00, 131.25it/s, loss=9.98]\n"
          ]
        },
        {
          "output_type": "stream",
          "name": "stdout",
          "text": [
            "Epoch [1419/5000]: Train loss: 9.1205, Valid loss: 10.7058\n"
          ]
        },
        {
          "output_type": "stream",
          "name": "stderr",
          "text": [
            "Epoch [1420/5000]: 100%|██████████| 2/2 [00:00<00:00, 107.82it/s, loss=10.6]\n"
          ]
        },
        {
          "output_type": "stream",
          "name": "stdout",
          "text": [
            "Epoch [1420/5000]: Train loss: 9.6877, Valid loss: 10.8481\n"
          ]
        },
        {
          "output_type": "stream",
          "name": "stderr",
          "text": [
            "Epoch [1421/5000]: 100%|██████████| 2/2 [00:00<00:00, 87.69it/s, loss=8.05]\n"
          ]
        },
        {
          "output_type": "stream",
          "name": "stdout",
          "text": [
            "Epoch [1421/5000]: Train loss: 7.9556, Valid loss: 10.9525\n"
          ]
        },
        {
          "output_type": "stream",
          "name": "stderr",
          "text": [
            "Epoch [1422/5000]: 100%|██████████| 2/2 [00:00<00:00, 136.58it/s, loss=10.4]\n"
          ]
        },
        {
          "output_type": "stream",
          "name": "stdout",
          "text": [
            "Epoch [1422/5000]: Train loss: 9.3177, Valid loss: 11.1457\n"
          ]
        },
        {
          "output_type": "stream",
          "name": "stderr",
          "text": [
            "Epoch [1423/5000]: 100%|██████████| 2/2 [00:00<00:00, 115.82it/s, loss=11.5]\n"
          ]
        },
        {
          "output_type": "stream",
          "name": "stdout",
          "text": [
            "Epoch [1423/5000]: Train loss: 9.9950, Valid loss: 11.2088\n"
          ]
        },
        {
          "output_type": "stream",
          "name": "stderr",
          "text": [
            "Epoch [1424/5000]: 100%|██████████| 2/2 [00:00<00:00, 115.54it/s, loss=9.03]\n"
          ]
        },
        {
          "output_type": "stream",
          "name": "stdout",
          "text": [
            "Epoch [1424/5000]: Train loss: 8.2604, Valid loss: 11.2372\n"
          ]
        },
        {
          "output_type": "stream",
          "name": "stderr",
          "text": [
            "Epoch [1425/5000]: 100%|██████████| 2/2 [00:00<00:00, 97.23it/s, loss=8.06]\n"
          ]
        },
        {
          "output_type": "stream",
          "name": "stdout",
          "text": [
            "Epoch [1425/5000]: Train loss: 8.2538, Valid loss: 11.0920\n"
          ]
        },
        {
          "output_type": "stream",
          "name": "stderr",
          "text": [
            "Epoch [1426/5000]: 100%|██████████| 2/2 [00:00<00:00, 106.86it/s, loss=10.4]\n"
          ]
        },
        {
          "output_type": "stream",
          "name": "stdout",
          "text": [
            "Epoch [1426/5000]: Train loss: 9.6428, Valid loss: 11.0476\n"
          ]
        },
        {
          "output_type": "stream",
          "name": "stderr",
          "text": [
            "Epoch [1427/5000]: 100%|██████████| 2/2 [00:00<00:00, 115.42it/s, loss=6.37]\n"
          ]
        },
        {
          "output_type": "stream",
          "name": "stdout",
          "text": [
            "Epoch [1427/5000]: Train loss: 7.9798, Valid loss: 10.9246\n"
          ]
        },
        {
          "output_type": "stream",
          "name": "stderr",
          "text": [
            "Epoch [1428/5000]: 100%|██████████| 2/2 [00:00<00:00, 107.56it/s, loss=9.09]\n"
          ]
        },
        {
          "output_type": "stream",
          "name": "stdout",
          "text": [
            "Epoch [1428/5000]: Train loss: 8.5165, Valid loss: 10.7686\n"
          ]
        },
        {
          "output_type": "stream",
          "name": "stderr",
          "text": [
            "Epoch [1429/5000]: 100%|██████████| 2/2 [00:00<00:00, 92.49it/s, loss=10.8]\n"
          ]
        },
        {
          "output_type": "stream",
          "name": "stdout",
          "text": [
            "Epoch [1429/5000]: Train loss: 9.6610, Valid loss: 10.5743\n"
          ]
        },
        {
          "output_type": "stream",
          "name": "stderr",
          "text": [
            "Epoch [1430/5000]: 100%|██████████| 2/2 [00:00<00:00, 132.19it/s, loss=9.32]\n"
          ]
        },
        {
          "output_type": "stream",
          "name": "stdout",
          "text": [
            "Epoch [1430/5000]: Train loss: 8.7296, Valid loss: 10.4378\n"
          ]
        },
        {
          "output_type": "stream",
          "name": "stderr",
          "text": [
            "Epoch [1431/5000]: 100%|██████████| 2/2 [00:00<00:00, 110.67it/s, loss=9.54]\n"
          ]
        },
        {
          "output_type": "stream",
          "name": "stdout",
          "text": [
            "Epoch [1431/5000]: Train loss: 8.8236, Valid loss: 10.3380\n"
          ]
        },
        {
          "output_type": "stream",
          "name": "stderr",
          "text": [
            "Epoch [1432/5000]: 100%|██████████| 2/2 [00:00<00:00, 94.07it/s, loss=6.73]\n"
          ]
        },
        {
          "output_type": "stream",
          "name": "stdout",
          "text": [
            "Epoch [1432/5000]: Train loss: 8.3534, Valid loss: 10.3427\n"
          ]
        },
        {
          "output_type": "stream",
          "name": "stderr",
          "text": [
            "Epoch [1433/5000]: 100%|██████████| 2/2 [00:00<00:00, 136.47it/s, loss=9.98]\n"
          ]
        },
        {
          "output_type": "stream",
          "name": "stdout",
          "text": [
            "Epoch [1433/5000]: Train loss: 9.4882, Valid loss: 10.4248\n"
          ]
        },
        {
          "output_type": "stream",
          "name": "stderr",
          "text": [
            "Epoch [1434/5000]: 100%|██████████| 2/2 [00:00<00:00, 108.08it/s, loss=9.27]\n"
          ]
        },
        {
          "output_type": "stream",
          "name": "stdout",
          "text": [
            "Epoch [1434/5000]: Train loss: 8.9613, Valid loss: 10.4506\n"
          ]
        },
        {
          "output_type": "stream",
          "name": "stderr",
          "text": [
            "Epoch [1435/5000]: 100%|██████████| 2/2 [00:00<00:00, 124.61it/s, loss=9.01]\n"
          ]
        },
        {
          "output_type": "stream",
          "name": "stdout",
          "text": [
            "Epoch [1435/5000]: Train loss: 8.5191, Valid loss: 10.5416\n"
          ]
        },
        {
          "output_type": "stream",
          "name": "stderr",
          "text": [
            "Epoch [1436/5000]: 100%|██████████| 2/2 [00:00<00:00, 104.85it/s, loss=7.67]\n"
          ]
        },
        {
          "output_type": "stream",
          "name": "stdout",
          "text": [
            "Epoch [1436/5000]: Train loss: 8.1190, Valid loss: 10.5587\n"
          ]
        },
        {
          "output_type": "stream",
          "name": "stderr",
          "text": [
            "Epoch [1437/5000]: 100%|██████████| 2/2 [00:00<00:00, 111.47it/s, loss=7.76]\n"
          ]
        },
        {
          "output_type": "stream",
          "name": "stdout",
          "text": [
            "Epoch [1437/5000]: Train loss: 8.1540, Valid loss: 10.6085\n"
          ]
        },
        {
          "output_type": "stream",
          "name": "stderr",
          "text": [
            "Epoch [1438/5000]: 100%|██████████| 2/2 [00:00<00:00, 134.09it/s, loss=8.95]\n"
          ]
        },
        {
          "output_type": "stream",
          "name": "stdout",
          "text": [
            "Epoch [1438/5000]: Train loss: 8.2240, Valid loss: 10.6335\n"
          ]
        },
        {
          "output_type": "stream",
          "name": "stderr",
          "text": [
            "Epoch [1439/5000]: 100%|██████████| 2/2 [00:00<00:00, 103.87it/s, loss=13.1]\n"
          ]
        },
        {
          "output_type": "stream",
          "name": "stdout",
          "text": [
            "Epoch [1439/5000]: Train loss: 10.7649, Valid loss: 10.7277\n"
          ]
        },
        {
          "output_type": "stream",
          "name": "stderr",
          "text": [
            "Epoch [1440/5000]: 100%|██████████| 2/2 [00:00<00:00, 137.32it/s, loss=9.33]\n"
          ]
        },
        {
          "output_type": "stream",
          "name": "stdout",
          "text": [
            "Epoch [1440/5000]: Train loss: 8.6667, Valid loss: 10.7344\n"
          ]
        },
        {
          "output_type": "stream",
          "name": "stderr",
          "text": [
            "Epoch [1441/5000]: 100%|██████████| 2/2 [00:00<00:00, 96.93it/s, loss=9.65]\n"
          ]
        },
        {
          "output_type": "stream",
          "name": "stdout",
          "text": [
            "Epoch [1441/5000]: Train loss: 9.4348, Valid loss: 10.6198\n"
          ]
        },
        {
          "output_type": "stream",
          "name": "stderr",
          "text": [
            "Epoch [1442/5000]: 100%|██████████| 2/2 [00:00<00:00, 109.99it/s, loss=9.65]\n"
          ]
        },
        {
          "output_type": "stream",
          "name": "stdout",
          "text": [
            "Epoch [1442/5000]: Train loss: 8.8693, Valid loss: 10.5118\n"
          ]
        },
        {
          "output_type": "stream",
          "name": "stderr",
          "text": [
            "Epoch [1443/5000]: 100%|██████████| 2/2 [00:00<00:00, 118.76it/s, loss=9.24]\n"
          ]
        },
        {
          "output_type": "stream",
          "name": "stdout",
          "text": [
            "Epoch [1443/5000]: Train loss: 8.7302, Valid loss: 10.4938\n"
          ]
        },
        {
          "output_type": "stream",
          "name": "stderr",
          "text": [
            "Epoch [1444/5000]: 100%|██████████| 2/2 [00:00<00:00, 106.51it/s, loss=7.64]\n"
          ]
        },
        {
          "output_type": "stream",
          "name": "stdout",
          "text": [
            "Epoch [1444/5000]: Train loss: 8.6390, Valid loss: 10.4205\n"
          ]
        },
        {
          "output_type": "stream",
          "name": "stderr",
          "text": [
            "Epoch [1445/5000]: 100%|██████████| 2/2 [00:00<00:00, 98.95it/s, loss=7.39]\n"
          ]
        },
        {
          "output_type": "stream",
          "name": "stdout",
          "text": [
            "Epoch [1445/5000]: Train loss: 7.9589, Valid loss: 10.4254\n"
          ]
        },
        {
          "output_type": "stream",
          "name": "stderr",
          "text": [
            "Epoch [1446/5000]: 100%|██████████| 2/2 [00:00<00:00, 117.76it/s, loss=7.71]\n"
          ]
        },
        {
          "output_type": "stream",
          "name": "stdout",
          "text": [
            "Epoch [1446/5000]: Train loss: 8.5554, Valid loss: 10.4437\n"
          ]
        },
        {
          "output_type": "stream",
          "name": "stderr",
          "text": [
            "Epoch [1447/5000]: 100%|██████████| 2/2 [00:00<00:00, 103.11it/s, loss=11.5]\n"
          ]
        },
        {
          "output_type": "stream",
          "name": "stdout",
          "text": [
            "Epoch [1447/5000]: Train loss: 10.2959, Valid loss: 10.4220\n"
          ]
        },
        {
          "output_type": "stream",
          "name": "stderr",
          "text": [
            "Epoch [1448/5000]: 100%|██████████| 2/2 [00:00<00:00, 90.83it/s, loss=9.72]\n"
          ]
        },
        {
          "output_type": "stream",
          "name": "stdout",
          "text": [
            "Epoch [1448/5000]: Train loss: 9.4613, Valid loss: 10.4159\n"
          ]
        },
        {
          "output_type": "stream",
          "name": "stderr",
          "text": [
            "Epoch [1449/5000]: 100%|██████████| 2/2 [00:00<00:00, 142.42it/s, loss=8.63]\n"
          ]
        },
        {
          "output_type": "stream",
          "name": "stdout",
          "text": [
            "Epoch [1449/5000]: Train loss: 9.2424, Valid loss: 10.4101\n"
          ]
        },
        {
          "output_type": "stream",
          "name": "stderr",
          "text": [
            "Epoch [1450/5000]: 100%|██████████| 2/2 [00:00<00:00, 100.65it/s, loss=8.02]\n"
          ]
        },
        {
          "output_type": "stream",
          "name": "stdout",
          "text": [
            "Epoch [1450/5000]: Train loss: 7.7131, Valid loss: 10.3929\n"
          ]
        },
        {
          "output_type": "stream",
          "name": "stderr",
          "text": [
            "Epoch [1451/5000]: 100%|██████████| 2/2 [00:00<00:00, 134.04it/s, loss=9.36]\n"
          ]
        },
        {
          "output_type": "stream",
          "name": "stdout",
          "text": [
            "Epoch [1451/5000]: Train loss: 8.6401, Valid loss: 10.3855\n"
          ]
        },
        {
          "output_type": "stream",
          "name": "stderr",
          "text": [
            "Epoch [1452/5000]: 100%|██████████| 2/2 [00:00<00:00, 102.60it/s, loss=8.89]\n"
          ]
        },
        {
          "output_type": "stream",
          "name": "stdout",
          "text": [
            "Epoch [1452/5000]: Train loss: 8.2037, Valid loss: 10.3781\n"
          ]
        },
        {
          "output_type": "stream",
          "name": "stderr",
          "text": [
            "Epoch [1453/5000]: 100%|██████████| 2/2 [00:00<00:00, 135.02it/s, loss=7.54]\n"
          ]
        },
        {
          "output_type": "stream",
          "name": "stdout",
          "text": [
            "Epoch [1453/5000]: Train loss: 7.4970, Valid loss: 10.3504\n"
          ]
        },
        {
          "output_type": "stream",
          "name": "stderr",
          "text": [
            "Epoch [1454/5000]: 100%|██████████| 2/2 [00:00<00:00, 106.17it/s, loss=7.27]\n"
          ]
        },
        {
          "output_type": "stream",
          "name": "stdout",
          "text": [
            "Epoch [1454/5000]: Train loss: 7.8028, Valid loss: 10.3362\n"
          ]
        },
        {
          "output_type": "stream",
          "name": "stderr",
          "text": [
            "Epoch [1455/5000]: 100%|██████████| 2/2 [00:00<00:00, 95.02it/s, loss=5.64]\n"
          ]
        },
        {
          "output_type": "stream",
          "name": "stdout",
          "text": [
            "Epoch [1455/5000]: Train loss: 7.3266, Valid loss: 10.3456\n"
          ]
        },
        {
          "output_type": "stream",
          "name": "stderr",
          "text": [
            "Epoch [1456/5000]: 100%|██████████| 2/2 [00:00<00:00, 133.44it/s, loss=9.02]\n"
          ]
        },
        {
          "output_type": "stream",
          "name": "stdout",
          "text": [
            "Epoch [1456/5000]: Train loss: 8.5872, Valid loss: 10.3563\n"
          ]
        },
        {
          "output_type": "stream",
          "name": "stderr",
          "text": [
            "Epoch [1457/5000]: 100%|██████████| 2/2 [00:00<00:00, 110.32it/s, loss=8]\n"
          ]
        },
        {
          "output_type": "stream",
          "name": "stdout",
          "text": [
            "Epoch [1457/5000]: Train loss: 8.1307, Valid loss: 10.3930\n"
          ]
        },
        {
          "output_type": "stream",
          "name": "stderr",
          "text": [
            "Epoch [1458/5000]: 100%|██████████| 2/2 [00:00<00:00, 102.76it/s, loss=8.68]\n"
          ]
        },
        {
          "output_type": "stream",
          "name": "stdout",
          "text": [
            "Epoch [1458/5000]: Train loss: 8.9133, Valid loss: 10.4047\n"
          ]
        },
        {
          "output_type": "stream",
          "name": "stderr",
          "text": [
            "Epoch [1459/5000]: 100%|██████████| 2/2 [00:00<00:00, 112.47it/s, loss=8.77]\n"
          ]
        },
        {
          "output_type": "stream",
          "name": "stdout",
          "text": [
            "Epoch [1459/5000]: Train loss: 8.5269, Valid loss: 10.4339\n"
          ]
        },
        {
          "output_type": "stream",
          "name": "stderr",
          "text": [
            "Epoch [1460/5000]: 100%|██████████| 2/2 [00:00<00:00, 118.92it/s, loss=8.4]\n"
          ]
        },
        {
          "output_type": "stream",
          "name": "stdout",
          "text": [
            "Epoch [1460/5000]: Train loss: 8.8046, Valid loss: 10.4204\n"
          ]
        },
        {
          "output_type": "stream",
          "name": "stderr",
          "text": [
            "Epoch [1461/5000]: 100%|██████████| 2/2 [00:00<00:00, 87.33it/s, loss=9.43]\n"
          ]
        },
        {
          "output_type": "stream",
          "name": "stdout",
          "text": [
            "Epoch [1461/5000]: Train loss: 8.9308, Valid loss: 10.3576\n"
          ]
        },
        {
          "output_type": "stream",
          "name": "stderr",
          "text": [
            "Epoch [1462/5000]: 100%|██████████| 2/2 [00:00<00:00, 111.60it/s, loss=10.1]\n"
          ]
        },
        {
          "output_type": "stream",
          "name": "stdout",
          "text": [
            "Epoch [1462/5000]: Train loss: 8.7399, Valid loss: 10.2945\n"
          ]
        },
        {
          "output_type": "stream",
          "name": "stderr",
          "text": [
            "Epoch [1463/5000]: 100%|██████████| 2/2 [00:00<00:00, 104.42it/s, loss=9.27]\n"
          ]
        },
        {
          "output_type": "stream",
          "name": "stdout",
          "text": [
            "Epoch [1463/5000]: Train loss: 9.1288, Valid loss: 10.3146\n"
          ]
        },
        {
          "output_type": "stream",
          "name": "stderr",
          "text": [
            "Epoch [1464/5000]: 100%|██████████| 2/2 [00:00<00:00, 96.39it/s, loss=10.6]\n"
          ]
        },
        {
          "output_type": "stream",
          "name": "stdout",
          "text": [
            "Epoch [1464/5000]: Train loss: 9.2811, Valid loss: 10.3187\n"
          ]
        },
        {
          "output_type": "stream",
          "name": "stderr",
          "text": [
            "Epoch [1465/5000]: 100%|██████████| 2/2 [00:00<00:00, 136.39it/s, loss=10.8]\n"
          ]
        },
        {
          "output_type": "stream",
          "name": "stdout",
          "text": [
            "Epoch [1465/5000]: Train loss: 9.3371, Valid loss: 10.3550\n"
          ]
        },
        {
          "output_type": "stream",
          "name": "stderr",
          "text": [
            "Epoch [1466/5000]: 100%|██████████| 2/2 [00:00<00:00, 101.74it/s, loss=7.92]\n"
          ]
        },
        {
          "output_type": "stream",
          "name": "stdout",
          "text": [
            "Epoch [1466/5000]: Train loss: 8.2657, Valid loss: 10.4089\n"
          ]
        },
        {
          "output_type": "stream",
          "name": "stderr",
          "text": [
            "Epoch [1467/5000]: 100%|██████████| 2/2 [00:00<00:00, 123.57it/s, loss=9.46]\n"
          ]
        },
        {
          "output_type": "stream",
          "name": "stdout",
          "text": [
            "Epoch [1467/5000]: Train loss: 9.5449, Valid loss: 10.5647\n"
          ]
        },
        {
          "output_type": "stream",
          "name": "stderr",
          "text": [
            "Epoch [1468/5000]: 100%|██████████| 2/2 [00:00<00:00, 94.37it/s, loss=8.32]\n"
          ]
        },
        {
          "output_type": "stream",
          "name": "stdout",
          "text": [
            "Epoch [1468/5000]: Train loss: 8.2920, Valid loss: 10.6646\n"
          ]
        },
        {
          "output_type": "stream",
          "name": "stderr",
          "text": [
            "Epoch [1469/5000]: 100%|██████████| 2/2 [00:00<00:00, 97.02it/s, loss=6.02]\n"
          ]
        },
        {
          "output_type": "stream",
          "name": "stdout",
          "text": [
            "Epoch [1469/5000]: Train loss: 7.0538, Valid loss: 10.7714\n"
          ]
        },
        {
          "output_type": "stream",
          "name": "stderr",
          "text": [
            "Epoch [1470/5000]: 100%|██████████| 2/2 [00:00<00:00, 131.77it/s, loss=10.1]\n"
          ]
        },
        {
          "output_type": "stream",
          "name": "stdout",
          "text": [
            "Epoch [1470/5000]: Train loss: 9.8514, Valid loss: 10.6396\n"
          ]
        },
        {
          "output_type": "stream",
          "name": "stderr",
          "text": [
            "Epoch [1471/5000]: 100%|██████████| 2/2 [00:00<00:00, 94.17it/s, loss=9.37]\n"
          ]
        },
        {
          "output_type": "stream",
          "name": "stdout",
          "text": [
            "Epoch [1471/5000]: Train loss: 9.2240, Valid loss: 10.6873\n"
          ]
        },
        {
          "output_type": "stream",
          "name": "stderr",
          "text": [
            "Epoch [1472/5000]: 100%|██████████| 2/2 [00:00<00:00, 108.21it/s, loss=5.63]\n"
          ]
        },
        {
          "output_type": "stream",
          "name": "stdout",
          "text": [
            "Epoch [1472/5000]: Train loss: 7.0969, Valid loss: 10.6702\n"
          ]
        },
        {
          "output_type": "stream",
          "name": "stderr",
          "text": [
            "Epoch [1473/5000]: 100%|██████████| 2/2 [00:00<00:00, 129.55it/s, loss=7.16]\n"
          ]
        },
        {
          "output_type": "stream",
          "name": "stdout",
          "text": [
            "Epoch [1473/5000]: Train loss: 8.0432, Valid loss: 10.6553\n"
          ]
        },
        {
          "output_type": "stream",
          "name": "stderr",
          "text": [
            "Epoch [1474/5000]: 100%|██████████| 2/2 [00:00<00:00, 113.73it/s, loss=9.54]\n"
          ]
        },
        {
          "output_type": "stream",
          "name": "stdout",
          "text": [
            "Epoch [1474/5000]: Train loss: 9.0983, Valid loss: 10.6688\n"
          ]
        },
        {
          "output_type": "stream",
          "name": "stderr",
          "text": [
            "Epoch [1475/5000]: 100%|██████████| 2/2 [00:00<00:00, 21.39it/s, loss=11.2]\n"
          ]
        },
        {
          "output_type": "stream",
          "name": "stdout",
          "text": [
            "Epoch [1475/5000]: Train loss: 9.8548, Valid loss: 10.5745\n"
          ]
        },
        {
          "output_type": "stream",
          "name": "stderr",
          "text": [
            "Epoch [1476/5000]: 100%|██████████| 2/2 [00:00<00:00, 19.17it/s, loss=12.7]\n"
          ]
        },
        {
          "output_type": "stream",
          "name": "stdout",
          "text": [
            "Epoch [1476/5000]: Train loss: 10.2512, Valid loss: 10.5550\n"
          ]
        },
        {
          "output_type": "stream",
          "name": "stderr",
          "text": [
            "Epoch [1477/5000]: 100%|██████████| 2/2 [00:00<00:00, 97.74it/s, loss=7.75]\n"
          ]
        },
        {
          "output_type": "stream",
          "name": "stdout",
          "text": [
            "Epoch [1477/5000]: Train loss: 7.7218, Valid loss: 10.5795\n"
          ]
        },
        {
          "output_type": "stream",
          "name": "stderr",
          "text": [
            "Epoch [1478/5000]: 100%|██████████| 2/2 [00:00<00:00, 113.84it/s, loss=7.38]\n"
          ]
        },
        {
          "output_type": "stream",
          "name": "stdout",
          "text": [
            "Epoch [1478/5000]: Train loss: 8.2747, Valid loss: 10.5001\n"
          ]
        },
        {
          "output_type": "stream",
          "name": "stderr",
          "text": [
            "Epoch [1479/5000]: 100%|██████████| 2/2 [00:00<00:00, 102.69it/s, loss=9.77]\n"
          ]
        },
        {
          "output_type": "stream",
          "name": "stdout",
          "text": [
            "Epoch [1479/5000]: Train loss: 9.3355, Valid loss: 10.5400\n"
          ]
        },
        {
          "output_type": "stream",
          "name": "stderr",
          "text": [
            "Epoch [1480/5000]: 100%|██████████| 2/2 [00:00<00:00, 110.12it/s, loss=6.74]\n"
          ]
        },
        {
          "output_type": "stream",
          "name": "stdout",
          "text": [
            "Epoch [1480/5000]: Train loss: 7.8031, Valid loss: 10.5786\n"
          ]
        },
        {
          "output_type": "stream",
          "name": "stderr",
          "text": [
            "Epoch [1481/5000]: 100%|██████████| 2/2 [00:00<00:00, 92.99it/s, loss=10.5]\n"
          ]
        },
        {
          "output_type": "stream",
          "name": "stdout",
          "text": [
            "Epoch [1481/5000]: Train loss: 9.3057, Valid loss: 10.7468\n"
          ]
        },
        {
          "output_type": "stream",
          "name": "stderr",
          "text": [
            "Epoch [1482/5000]: 100%|██████████| 2/2 [00:00<00:00, 101.66it/s, loss=10.8]\n"
          ]
        },
        {
          "output_type": "stream",
          "name": "stdout",
          "text": [
            "Epoch [1482/5000]: Train loss: 9.3082, Valid loss: 10.8575\n"
          ]
        },
        {
          "output_type": "stream",
          "name": "stderr",
          "text": [
            "Epoch [1483/5000]: 100%|██████████| 2/2 [00:00<00:00, 116.43it/s, loss=10.8]\n"
          ]
        },
        {
          "output_type": "stream",
          "name": "stdout",
          "text": [
            "Epoch [1483/5000]: Train loss: 9.2307, Valid loss: 10.9311\n"
          ]
        },
        {
          "output_type": "stream",
          "name": "stderr",
          "text": [
            "Epoch [1484/5000]: 100%|██████████| 2/2 [00:00<00:00, 100.47it/s, loss=6.86]\n"
          ]
        },
        {
          "output_type": "stream",
          "name": "stdout",
          "text": [
            "Epoch [1484/5000]: Train loss: 7.5859, Valid loss: 10.8915\n"
          ]
        },
        {
          "output_type": "stream",
          "name": "stderr",
          "text": [
            "Epoch [1485/5000]: 100%|██████████| 2/2 [00:00<00:00, 121.49it/s, loss=8.7]\n"
          ]
        },
        {
          "output_type": "stream",
          "name": "stdout",
          "text": [
            "Epoch [1485/5000]: Train loss: 8.3588, Valid loss: 10.8778\n"
          ]
        },
        {
          "output_type": "stream",
          "name": "stderr",
          "text": [
            "Epoch [1486/5000]: 100%|██████████| 2/2 [00:00<00:00, 92.43it/s, loss=9.93]\n"
          ]
        },
        {
          "output_type": "stream",
          "name": "stdout",
          "text": [
            "Epoch [1486/5000]: Train loss: 9.6514, Valid loss: 10.8695\n"
          ]
        },
        {
          "output_type": "stream",
          "name": "stderr",
          "text": [
            "Epoch [1487/5000]: 100%|██████████| 2/2 [00:00<00:00, 101.26it/s, loss=9.18]\n"
          ]
        },
        {
          "output_type": "stream",
          "name": "stdout",
          "text": [
            "Epoch [1487/5000]: Train loss: 8.9666, Valid loss: 10.7965\n"
          ]
        },
        {
          "output_type": "stream",
          "name": "stderr",
          "text": [
            "Epoch [1488/5000]: 100%|██████████| 2/2 [00:00<00:00, 120.80it/s, loss=7.71]\n"
          ]
        },
        {
          "output_type": "stream",
          "name": "stdout",
          "text": [
            "Epoch [1488/5000]: Train loss: 7.5002, Valid loss: 10.6944\n"
          ]
        },
        {
          "output_type": "stream",
          "name": "stderr",
          "text": [
            "Epoch [1489/5000]: 100%|██████████| 2/2 [00:00<00:00, 10.33it/s, loss=7.5]\n"
          ]
        },
        {
          "output_type": "stream",
          "name": "stdout",
          "text": [
            "Epoch [1489/5000]: Train loss: 7.8885, Valid loss: 10.6255\n"
          ]
        },
        {
          "output_type": "stream",
          "name": "stderr",
          "text": [
            "Epoch [1490/5000]: 100%|██████████| 2/2 [00:00<00:00, 49.62it/s, loss=6.42]\n"
          ]
        },
        {
          "output_type": "stream",
          "name": "stdout",
          "text": [
            "Epoch [1490/5000]: Train loss: 7.3015, Valid loss: 10.5635\n"
          ]
        },
        {
          "output_type": "stream",
          "name": "stderr",
          "text": [
            "Epoch [1491/5000]: 100%|██████████| 2/2 [00:00<00:00, 72.45it/s, loss=9.57]\n"
          ]
        },
        {
          "output_type": "stream",
          "name": "stdout",
          "text": [
            "Epoch [1491/5000]: Train loss: 8.3229, Valid loss: 10.5183\n"
          ]
        },
        {
          "output_type": "stream",
          "name": "stderr",
          "text": [
            "Epoch [1492/5000]: 100%|██████████| 2/2 [00:00<00:00, 101.25it/s, loss=11.3]\n"
          ]
        },
        {
          "output_type": "stream",
          "name": "stdout",
          "text": [
            "Epoch [1492/5000]: Train loss: 10.1999, Valid loss: 10.4579\n"
          ]
        },
        {
          "output_type": "stream",
          "name": "stderr",
          "text": [
            "Epoch [1493/5000]: 100%|██████████| 2/2 [00:00<00:00, 95.72it/s, loss=11.3]\n"
          ]
        },
        {
          "output_type": "stream",
          "name": "stdout",
          "text": [
            "Epoch [1493/5000]: Train loss: 10.2096, Valid loss: 10.4752\n"
          ]
        },
        {
          "output_type": "stream",
          "name": "stderr",
          "text": [
            "Epoch [1494/5000]: 100%|██████████| 2/2 [00:00<00:00, 81.94it/s, loss=8.59]\n"
          ]
        },
        {
          "output_type": "stream",
          "name": "stdout",
          "text": [
            "Epoch [1494/5000]: Train loss: 8.2333, Valid loss: 10.4237\n"
          ]
        },
        {
          "output_type": "stream",
          "name": "stderr",
          "text": [
            "Epoch [1495/5000]: 100%|██████████| 2/2 [00:00<00:00, 95.72it/s, loss=8.49]\n"
          ]
        },
        {
          "output_type": "stream",
          "name": "stdout",
          "text": [
            "Epoch [1495/5000]: Train loss: 7.9812, Valid loss: 10.3257\n"
          ]
        },
        {
          "output_type": "stream",
          "name": "stderr",
          "text": [
            "Epoch [1496/5000]: 100%|██████████| 2/2 [00:00<00:00, 103.79it/s, loss=7.28]\n"
          ]
        },
        {
          "output_type": "stream",
          "name": "stdout",
          "text": [
            "Epoch [1496/5000]: Train loss: 8.1509, Valid loss: 10.3124\n"
          ]
        },
        {
          "output_type": "stream",
          "name": "stderr",
          "text": [
            "Epoch [1497/5000]: 100%|██████████| 2/2 [00:00<00:00, 91.59it/s, loss=8.55]\n"
          ]
        },
        {
          "output_type": "stream",
          "name": "stdout",
          "text": [
            "Epoch [1497/5000]: Train loss: 8.1006, Valid loss: 10.3828\n"
          ]
        },
        {
          "output_type": "stream",
          "name": "stderr",
          "text": [
            "Epoch [1498/5000]: 100%|██████████| 2/2 [00:00<00:00, 97.78it/s, loss=6.79]"
          ]
        },
        {
          "output_type": "stream",
          "name": "stdout",
          "text": [
            "Epoch [1498/5000]: Train loss: 8.2405, Valid loss: 10.5675\n"
          ]
        },
        {
          "output_type": "stream",
          "name": "stderr",
          "text": [
            "\n",
            "Epoch [1499/5000]: 100%|██████████| 2/2 [00:00<00:00, 83.03it/s, loss=8.28]\n"
          ]
        },
        {
          "output_type": "stream",
          "name": "stdout",
          "text": [
            "Epoch [1499/5000]: Train loss: 9.1870, Valid loss: 10.6747\n"
          ]
        },
        {
          "output_type": "stream",
          "name": "stderr",
          "text": [
            "Epoch [1500/5000]: 100%|██████████| 2/2 [00:00<00:00, 104.55it/s, loss=8.99]\n"
          ]
        },
        {
          "output_type": "stream",
          "name": "stdout",
          "text": [
            "Epoch [1500/5000]: Train loss: 8.5446, Valid loss: 10.7610\n"
          ]
        },
        {
          "output_type": "stream",
          "name": "stderr",
          "text": [
            "Epoch [1501/5000]: 100%|██████████| 2/2 [00:00<00:00, 109.74it/s, loss=7.24]\n"
          ]
        },
        {
          "output_type": "stream",
          "name": "stdout",
          "text": [
            "Epoch [1501/5000]: Train loss: 7.8767, Valid loss: 10.7640\n"
          ]
        },
        {
          "output_type": "stream",
          "name": "stderr",
          "text": [
            "Epoch [1502/5000]: 100%|██████████| 2/2 [00:00<00:00, 72.11it/s, loss=7.3]\n"
          ]
        },
        {
          "output_type": "stream",
          "name": "stdout",
          "text": [
            "Epoch [1502/5000]: Train loss: 8.0789, Valid loss: 10.6345\n"
          ]
        },
        {
          "output_type": "stream",
          "name": "stderr",
          "text": [
            "Epoch [1503/5000]: 100%|██████████| 2/2 [00:00<00:00, 104.81it/s, loss=11]\n"
          ]
        },
        {
          "output_type": "stream",
          "name": "stdout",
          "text": [
            "Epoch [1503/5000]: Train loss: 9.7365, Valid loss: 10.5818\n"
          ]
        },
        {
          "output_type": "stream",
          "name": "stderr",
          "text": [
            "Epoch [1504/5000]: 100%|██████████| 2/2 [00:00<00:00, 93.03it/s, loss=12.1]\n"
          ]
        },
        {
          "output_type": "stream",
          "name": "stdout",
          "text": [
            "Epoch [1504/5000]: Train loss: 10.2865, Valid loss: 10.5427\n"
          ]
        },
        {
          "output_type": "stream",
          "name": "stderr",
          "text": [
            "Epoch [1505/5000]: 100%|██████████| 2/2 [00:00<00:00, 89.21it/s, loss=8.36]\n"
          ]
        },
        {
          "output_type": "stream",
          "name": "stdout",
          "text": [
            "Epoch [1505/5000]: Train loss: 8.0908, Valid loss: 10.5724\n"
          ]
        },
        {
          "output_type": "stream",
          "name": "stderr",
          "text": [
            "Epoch [1506/5000]: 100%|██████████| 2/2 [00:00<00:00, 76.36it/s, loss=8.74]\n"
          ]
        },
        {
          "output_type": "stream",
          "name": "stdout",
          "text": [
            "Epoch [1506/5000]: Train loss: 9.0692, Valid loss: 10.5908\n"
          ]
        },
        {
          "output_type": "stream",
          "name": "stderr",
          "text": [
            "Epoch [1507/5000]: 100%|██████████| 2/2 [00:00<00:00, 82.99it/s, loss=8.41]\n"
          ]
        },
        {
          "output_type": "stream",
          "name": "stdout",
          "text": [
            "Epoch [1507/5000]: Train loss: 8.2289, Valid loss: 10.6579\n"
          ]
        },
        {
          "output_type": "stream",
          "name": "stderr",
          "text": [
            "Epoch [1508/5000]: 100%|██████████| 2/2 [00:00<00:00, 101.32it/s, loss=12.6]\n"
          ]
        },
        {
          "output_type": "stream",
          "name": "stdout",
          "text": [
            "Epoch [1508/5000]: Train loss: 10.7816, Valid loss: 10.7369\n"
          ]
        },
        {
          "output_type": "stream",
          "name": "stderr",
          "text": [
            "Epoch [1509/5000]: 100%|██████████| 2/2 [00:00<00:00, 92.47it/s, loss=8.8]\n"
          ]
        },
        {
          "output_type": "stream",
          "name": "stdout",
          "text": [
            "Epoch [1509/5000]: Train loss: 8.6423, Valid loss: 10.6519\n"
          ]
        },
        {
          "output_type": "stream",
          "name": "stderr",
          "text": [
            "Epoch [1510/5000]: 100%|██████████| 2/2 [00:00<00:00, 84.55it/s, loss=8.18]\n"
          ]
        },
        {
          "output_type": "stream",
          "name": "stdout",
          "text": [
            "Epoch [1510/5000]: Train loss: 7.8717, Valid loss: 10.6454\n"
          ]
        },
        {
          "output_type": "stream",
          "name": "stderr",
          "text": [
            "Epoch [1511/5000]: 100%|██████████| 2/2 [00:00<00:00, 97.91it/s, loss=8.05]\n"
          ]
        },
        {
          "output_type": "stream",
          "name": "stdout",
          "text": [
            "Epoch [1511/5000]: Train loss: 8.0344, Valid loss: 10.6423\n"
          ]
        },
        {
          "output_type": "stream",
          "name": "stderr",
          "text": [
            "Epoch [1512/5000]: 100%|██████████| 2/2 [00:00<00:00, 100.83it/s, loss=8.37]\n"
          ]
        },
        {
          "output_type": "stream",
          "name": "stdout",
          "text": [
            "Epoch [1512/5000]: Train loss: 8.6604, Valid loss: 10.7486\n"
          ]
        },
        {
          "output_type": "stream",
          "name": "stderr",
          "text": [
            "Epoch [1513/5000]: 100%|██████████| 2/2 [00:00<00:00, 89.37it/s, loss=8.48]\n"
          ]
        },
        {
          "output_type": "stream",
          "name": "stdout",
          "text": [
            "Epoch [1513/5000]: Train loss: 8.9035, Valid loss: 10.8683\n"
          ]
        },
        {
          "output_type": "stream",
          "name": "stderr",
          "text": [
            "Epoch [1514/5000]: 100%|██████████| 2/2 [00:00<00:00, 94.69it/s, loss=8.02]\n"
          ]
        },
        {
          "output_type": "stream",
          "name": "stdout",
          "text": [
            "Epoch [1514/5000]: Train loss: 7.9259, Valid loss: 10.9318\n"
          ]
        },
        {
          "output_type": "stream",
          "name": "stderr",
          "text": [
            "Epoch [1515/5000]: 100%|██████████| 2/2 [00:00<00:00, 89.59it/s, loss=7.17]\n"
          ]
        },
        {
          "output_type": "stream",
          "name": "stdout",
          "text": [
            "Epoch [1515/5000]: Train loss: 7.7745, Valid loss: 10.9280\n"
          ]
        },
        {
          "output_type": "stream",
          "name": "stderr",
          "text": [
            "Epoch [1516/5000]: 100%|██████████| 2/2 [00:00<00:00, 98.73it/s, loss=10]\n"
          ]
        },
        {
          "output_type": "stream",
          "name": "stdout",
          "text": [
            "Epoch [1516/5000]: Train loss: 9.0960, Valid loss: 10.9210\n"
          ]
        },
        {
          "output_type": "stream",
          "name": "stderr",
          "text": [
            "Epoch [1517/5000]: 100%|██████████| 2/2 [00:00<00:00, 80.50it/s, loss=8.93]\n"
          ]
        },
        {
          "output_type": "stream",
          "name": "stdout",
          "text": [
            "Epoch [1517/5000]: Train loss: 8.4775, Valid loss: 11.0056\n"
          ]
        },
        {
          "output_type": "stream",
          "name": "stderr",
          "text": [
            "Epoch [1518/5000]: 100%|██████████| 2/2 [00:00<00:00, 94.53it/s, loss=8.97]\n"
          ]
        },
        {
          "output_type": "stream",
          "name": "stdout",
          "text": [
            "Epoch [1518/5000]: Train loss: 8.4943, Valid loss: 10.9255\n"
          ]
        },
        {
          "output_type": "stream",
          "name": "stderr",
          "text": [
            "Epoch [1519/5000]: 100%|██████████| 2/2 [00:00<00:00, 86.46it/s, loss=8.29]\n"
          ]
        },
        {
          "output_type": "stream",
          "name": "stdout",
          "text": [
            "Epoch [1519/5000]: Train loss: 7.9545, Valid loss: 10.8592\n"
          ]
        },
        {
          "output_type": "stream",
          "name": "stderr",
          "text": [
            "Epoch [1520/5000]: 100%|██████████| 2/2 [00:00<00:00, 97.95it/s, loss=10.2]\n"
          ]
        },
        {
          "output_type": "stream",
          "name": "stdout",
          "text": [
            "Epoch [1520/5000]: Train loss: 9.2047, Valid loss: 10.8382\n"
          ]
        },
        {
          "output_type": "stream",
          "name": "stderr",
          "text": [
            "Epoch [1521/5000]: 100%|██████████| 2/2 [00:00<00:00, 78.88it/s, loss=7.02]\n"
          ]
        },
        {
          "output_type": "stream",
          "name": "stdout",
          "text": [
            "Epoch [1521/5000]: Train loss: 7.7300, Valid loss: 10.8154\n"
          ]
        },
        {
          "output_type": "stream",
          "name": "stderr",
          "text": [
            "Epoch [1522/5000]: 100%|██████████| 2/2 [00:00<00:00, 86.88it/s, loss=9.78]\n"
          ]
        },
        {
          "output_type": "stream",
          "name": "stdout",
          "text": [
            "Epoch [1522/5000]: Train loss: 9.4438, Valid loss: 10.7302\n"
          ]
        },
        {
          "output_type": "stream",
          "name": "stderr",
          "text": [
            "Epoch [1523/5000]: 100%|██████████| 2/2 [00:00<00:00, 85.91it/s, loss=8.63]\n"
          ]
        },
        {
          "output_type": "stream",
          "name": "stdout",
          "text": [
            "Epoch [1523/5000]: Train loss: 8.0365, Valid loss: 10.6864\n"
          ]
        },
        {
          "output_type": "stream",
          "name": "stderr",
          "text": [
            "Epoch [1524/5000]: 100%|██████████| 2/2 [00:00<00:00, 80.58it/s, loss=8.84]\n"
          ]
        },
        {
          "output_type": "stream",
          "name": "stdout",
          "text": [
            "Epoch [1524/5000]: Train loss: 8.6467, Valid loss: 10.7193\n"
          ]
        },
        {
          "output_type": "stream",
          "name": "stderr",
          "text": [
            "Epoch [1525/5000]: 100%|██████████| 2/2 [00:00<00:00, 84.06it/s, loss=9.71]\n"
          ]
        },
        {
          "output_type": "stream",
          "name": "stdout",
          "text": [
            "Epoch [1525/5000]: Train loss: 8.4043, Valid loss: 10.7514\n"
          ]
        },
        {
          "output_type": "stream",
          "name": "stderr",
          "text": [
            "Epoch [1526/5000]: 100%|██████████| 2/2 [00:00<00:00, 90.44it/s, loss=8.24]\n"
          ]
        },
        {
          "output_type": "stream",
          "name": "stdout",
          "text": [
            "Epoch [1526/5000]: Train loss: 8.6860, Valid loss: 10.8310\n"
          ]
        },
        {
          "output_type": "stream",
          "name": "stderr",
          "text": [
            "Epoch [1527/5000]: 100%|██████████| 2/2 [00:00<00:00, 89.57it/s, loss=8.8]\n"
          ]
        },
        {
          "output_type": "stream",
          "name": "stdout",
          "text": [
            "Epoch [1527/5000]: Train loss: 8.3318, Valid loss: 10.8245\n"
          ]
        },
        {
          "output_type": "stream",
          "name": "stderr",
          "text": [
            "Epoch [1528/5000]: 100%|██████████| 2/2 [00:00<00:00, 96.52it/s, loss=11.1]\n"
          ]
        },
        {
          "output_type": "stream",
          "name": "stdout",
          "text": [
            "Epoch [1528/5000]: Train loss: 9.3296, Valid loss: 10.8418\n"
          ]
        },
        {
          "output_type": "stream",
          "name": "stderr",
          "text": [
            "Epoch [1529/5000]: 100%|██████████| 2/2 [00:00<00:00, 87.02it/s, loss=7.49]\n"
          ]
        },
        {
          "output_type": "stream",
          "name": "stdout",
          "text": [
            "Epoch [1529/5000]: Train loss: 8.2145, Valid loss: 10.8463\n"
          ]
        },
        {
          "output_type": "stream",
          "name": "stderr",
          "text": [
            "Epoch [1530/5000]: 100%|██████████| 2/2 [00:00<00:00, 78.40it/s, loss=10]\n"
          ]
        },
        {
          "output_type": "stream",
          "name": "stdout",
          "text": [
            "Epoch [1530/5000]: Train loss: 9.3227, Valid loss: 10.8116\n"
          ]
        },
        {
          "output_type": "stream",
          "name": "stderr",
          "text": [
            "Epoch [1531/5000]: 100%|██████████| 2/2 [00:00<00:00, 82.57it/s, loss=6.8]\n"
          ]
        },
        {
          "output_type": "stream",
          "name": "stdout",
          "text": [
            "Epoch [1531/5000]: Train loss: 7.7465, Valid loss: 10.8828\n"
          ]
        },
        {
          "output_type": "stream",
          "name": "stderr",
          "text": [
            "Epoch [1532/5000]: 100%|██████████| 2/2 [00:00<00:00, 103.54it/s, loss=9.29]\n"
          ]
        },
        {
          "output_type": "stream",
          "name": "stdout",
          "text": [
            "Epoch [1532/5000]: Train loss: 8.5062, Valid loss: 10.8906\n"
          ]
        },
        {
          "output_type": "stream",
          "name": "stderr",
          "text": [
            "Epoch [1533/5000]: 100%|██████████| 2/2 [00:00<00:00, 96.35it/s, loss=5.92]\n"
          ]
        },
        {
          "output_type": "stream",
          "name": "stdout",
          "text": [
            "Epoch [1533/5000]: Train loss: 7.2301, Valid loss: 10.9200\n"
          ]
        },
        {
          "output_type": "stream",
          "name": "stderr",
          "text": [
            "Epoch [1534/5000]: 100%|██████████| 2/2 [00:00<00:00, 98.99it/s, loss=10.3]\n"
          ]
        },
        {
          "output_type": "stream",
          "name": "stdout",
          "text": [
            "Epoch [1534/5000]: Train loss: 8.9578, Valid loss: 10.9312\n"
          ]
        },
        {
          "output_type": "stream",
          "name": "stderr",
          "text": [
            "Epoch [1535/5000]: 100%|██████████| 2/2 [00:00<00:00, 87.06it/s, loss=9.34]\n"
          ]
        },
        {
          "output_type": "stream",
          "name": "stdout",
          "text": [
            "Epoch [1535/5000]: Train loss: 9.5488, Valid loss: 10.9436\n"
          ]
        },
        {
          "output_type": "stream",
          "name": "stderr",
          "text": [
            "Epoch [1536/5000]: 100%|██████████| 2/2 [00:00<00:00, 84.92it/s, loss=9.76]\n"
          ]
        },
        {
          "output_type": "stream",
          "name": "stdout",
          "text": [
            "Epoch [1536/5000]: Train loss: 9.0543, Valid loss: 11.0102\n"
          ]
        },
        {
          "output_type": "stream",
          "name": "stderr",
          "text": [
            "Epoch [1537/5000]: 100%|██████████| 2/2 [00:00<00:00, 97.35it/s, loss=7.71]\n"
          ]
        },
        {
          "output_type": "stream",
          "name": "stdout",
          "text": [
            "Epoch [1537/5000]: Train loss: 7.5377, Valid loss: 11.0343\n"
          ]
        },
        {
          "output_type": "stream",
          "name": "stderr",
          "text": [
            "Epoch [1538/5000]: 100%|██████████| 2/2 [00:00<00:00, 95.65it/s, loss=7.04]\n"
          ]
        },
        {
          "output_type": "stream",
          "name": "stdout",
          "text": [
            "Epoch [1538/5000]: Train loss: 7.6855, Valid loss: 11.0659\n"
          ]
        },
        {
          "output_type": "stream",
          "name": "stderr",
          "text": [
            "Epoch [1539/5000]: 100%|██████████| 2/2 [00:00<00:00, 85.18it/s, loss=9.67]\n"
          ]
        },
        {
          "output_type": "stream",
          "name": "stdout",
          "text": [
            "Epoch [1539/5000]: Train loss: 8.7890, Valid loss: 10.9980\n"
          ]
        },
        {
          "output_type": "stream",
          "name": "stderr",
          "text": [
            "Epoch [1540/5000]: 100%|██████████| 2/2 [00:00<00:00, 97.00it/s, loss=7.05]\n"
          ]
        },
        {
          "output_type": "stream",
          "name": "stdout",
          "text": [
            "Epoch [1540/5000]: Train loss: 7.6094, Valid loss: 10.9304\n"
          ]
        },
        {
          "output_type": "stream",
          "name": "stderr",
          "text": [
            "Epoch [1541/5000]: 100%|██████████| 2/2 [00:00<00:00, 97.83it/s, loss=8.13]\n"
          ]
        },
        {
          "output_type": "stream",
          "name": "stdout",
          "text": [
            "Epoch [1541/5000]: Train loss: 8.0356, Valid loss: 10.9208\n"
          ]
        },
        {
          "output_type": "stream",
          "name": "stderr",
          "text": [
            "Epoch [1542/5000]: 100%|██████████| 2/2 [00:00<00:00, 90.25it/s, loss=9]\n"
          ]
        },
        {
          "output_type": "stream",
          "name": "stdout",
          "text": [
            "Epoch [1542/5000]: Train loss: 9.0819, Valid loss: 11.0173\n"
          ]
        },
        {
          "output_type": "stream",
          "name": "stderr",
          "text": [
            "Epoch [1543/5000]: 100%|██████████| 2/2 [00:00<00:00, 90.16it/s, loss=7.98]\n"
          ]
        },
        {
          "output_type": "stream",
          "name": "stdout",
          "text": [
            "Epoch [1543/5000]: Train loss: 7.8220, Valid loss: 11.0392\n"
          ]
        },
        {
          "output_type": "stream",
          "name": "stderr",
          "text": [
            "Epoch [1544/5000]: 100%|██████████| 2/2 [00:00<00:00, 93.40it/s, loss=8.71]\n"
          ]
        },
        {
          "output_type": "stream",
          "name": "stdout",
          "text": [
            "Epoch [1544/5000]: Train loss: 8.1294, Valid loss: 10.9936\n"
          ]
        },
        {
          "output_type": "stream",
          "name": "stderr",
          "text": [
            "Epoch [1545/5000]: 100%|██████████| 2/2 [00:00<00:00, 86.83it/s, loss=8.21]\n"
          ]
        },
        {
          "output_type": "stream",
          "name": "stdout",
          "text": [
            "Epoch [1545/5000]: Train loss: 8.1935, Valid loss: 11.0052\n"
          ]
        },
        {
          "output_type": "stream",
          "name": "stderr",
          "text": [
            "Epoch [1546/5000]: 100%|██████████| 2/2 [00:00<00:00, 76.29it/s, loss=9.98]\n"
          ]
        },
        {
          "output_type": "stream",
          "name": "stdout",
          "text": [
            "Epoch [1546/5000]: Train loss: 8.8272, Valid loss: 10.9234\n"
          ]
        },
        {
          "output_type": "stream",
          "name": "stderr",
          "text": [
            "Epoch [1547/5000]: 100%|██████████| 2/2 [00:00<00:00, 88.63it/s, loss=8.56]\n"
          ]
        },
        {
          "output_type": "stream",
          "name": "stdout",
          "text": [
            "Epoch [1547/5000]: Train loss: 8.5120, Valid loss: 10.8945\n"
          ]
        },
        {
          "output_type": "stream",
          "name": "stderr",
          "text": [
            "Epoch [1548/5000]: 100%|██████████| 2/2 [00:00<00:00, 85.56it/s, loss=7.95]\n"
          ]
        },
        {
          "output_type": "stream",
          "name": "stdout",
          "text": [
            "Epoch [1548/5000]: Train loss: 8.0827, Valid loss: 10.9944\n"
          ]
        },
        {
          "output_type": "stream",
          "name": "stderr",
          "text": [
            "Epoch [1549/5000]: 100%|██████████| 2/2 [00:00<00:00, 112.48it/s, loss=6.2]\n"
          ]
        },
        {
          "output_type": "stream",
          "name": "stdout",
          "text": [
            "Epoch [1549/5000]: Train loss: 7.2753, Valid loss: 11.0508\n"
          ]
        },
        {
          "output_type": "stream",
          "name": "stderr",
          "text": [
            "Epoch [1550/5000]: 100%|██████████| 2/2 [00:00<00:00, 116.33it/s, loss=7.96]\n"
          ]
        },
        {
          "output_type": "stream",
          "name": "stdout",
          "text": [
            "Epoch [1550/5000]: Train loss: 8.3726, Valid loss: 11.1054\n"
          ]
        },
        {
          "output_type": "stream",
          "name": "stderr",
          "text": [
            "Epoch [1551/5000]: 100%|██████████| 2/2 [00:00<00:00, 106.23it/s, loss=6.54]\n"
          ]
        },
        {
          "output_type": "stream",
          "name": "stdout",
          "text": [
            "Epoch [1551/5000]: Train loss: 7.5271, Valid loss: 11.0038\n"
          ]
        },
        {
          "output_type": "stream",
          "name": "stderr",
          "text": [
            "Epoch [1552/5000]: 100%|██████████| 2/2 [00:00<00:00, 122.37it/s, loss=9.14]\n"
          ]
        },
        {
          "output_type": "stream",
          "name": "stdout",
          "text": [
            "Epoch [1552/5000]: Train loss: 8.7257, Valid loss: 11.0134\n"
          ]
        },
        {
          "output_type": "stream",
          "name": "stderr",
          "text": [
            "Epoch [1553/5000]: 100%|██████████| 2/2 [00:00<00:00, 103.98it/s, loss=9.28]\n"
          ]
        },
        {
          "output_type": "stream",
          "name": "stdout",
          "text": [
            "Epoch [1553/5000]: Train loss: 9.3275, Valid loss: 11.0234\n"
          ]
        },
        {
          "output_type": "stream",
          "name": "stderr",
          "text": [
            "Epoch [1554/5000]: 100%|██████████| 2/2 [00:00<00:00, 123.01it/s, loss=8.99]\n"
          ]
        },
        {
          "output_type": "stream",
          "name": "stdout",
          "text": [
            "Epoch [1554/5000]: Train loss: 7.8937, Valid loss: 10.9822\n"
          ]
        },
        {
          "output_type": "stream",
          "name": "stderr",
          "text": [
            "Epoch [1555/5000]: 100%|██████████| 2/2 [00:00<00:00, 95.82it/s, loss=7.47]\n"
          ]
        },
        {
          "output_type": "stream",
          "name": "stdout",
          "text": [
            "Epoch [1555/5000]: Train loss: 7.8127, Valid loss: 10.9331\n"
          ]
        },
        {
          "output_type": "stream",
          "name": "stderr",
          "text": [
            "Epoch [1556/5000]: 100%|██████████| 2/2 [00:00<00:00, 88.96it/s, loss=8.68]\n"
          ]
        },
        {
          "output_type": "stream",
          "name": "stdout",
          "text": [
            "Epoch [1556/5000]: Train loss: 8.2961, Valid loss: 10.9088\n"
          ]
        },
        {
          "output_type": "stream",
          "name": "stderr",
          "text": [
            "Epoch [1557/5000]: 100%|██████████| 2/2 [00:00<00:00, 88.98it/s, loss=7.85]\n"
          ]
        },
        {
          "output_type": "stream",
          "name": "stdout",
          "text": [
            "Epoch [1557/5000]: Train loss: 7.8418, Valid loss: 10.8951\n"
          ]
        },
        {
          "output_type": "stream",
          "name": "stderr",
          "text": [
            "Epoch [1558/5000]: 100%|██████████| 2/2 [00:00<00:00, 86.35it/s, loss=8.27]\n"
          ]
        },
        {
          "output_type": "stream",
          "name": "stdout",
          "text": [
            "Epoch [1558/5000]: Train loss: 8.3393, Valid loss: 10.7805\n"
          ]
        },
        {
          "output_type": "stream",
          "name": "stderr",
          "text": [
            "Epoch [1559/5000]: 100%|██████████| 2/2 [00:00<00:00, 96.28it/s, loss=7.19]\n"
          ]
        },
        {
          "output_type": "stream",
          "name": "stdout",
          "text": [
            "Epoch [1559/5000]: Train loss: 7.4522, Valid loss: 10.6607\n"
          ]
        },
        {
          "output_type": "stream",
          "name": "stderr",
          "text": [
            "Epoch [1560/5000]: 100%|██████████| 2/2 [00:00<00:00, 87.80it/s, loss=9.63]\n"
          ]
        },
        {
          "output_type": "stream",
          "name": "stdout",
          "text": [
            "Epoch [1560/5000]: Train loss: 9.0536, Valid loss: 10.6569\n"
          ]
        },
        {
          "output_type": "stream",
          "name": "stderr",
          "text": [
            "Epoch [1561/5000]: 100%|██████████| 2/2 [00:00<00:00, 91.62it/s, loss=7.4]\n"
          ]
        },
        {
          "output_type": "stream",
          "name": "stdout",
          "text": [
            "Epoch [1561/5000]: Train loss: 7.7526, Valid loss: 10.7212\n"
          ]
        },
        {
          "output_type": "stream",
          "name": "stderr",
          "text": [
            "Epoch [1562/5000]: 100%|██████████| 2/2 [00:00<00:00, 87.35it/s, loss=9.76]\n"
          ]
        },
        {
          "output_type": "stream",
          "name": "stdout",
          "text": [
            "Epoch [1562/5000]: Train loss: 8.8989, Valid loss: 10.7325\n"
          ]
        },
        {
          "output_type": "stream",
          "name": "stderr",
          "text": [
            "Epoch [1563/5000]: 100%|██████████| 2/2 [00:00<00:00, 84.35it/s, loss=7.22]\n"
          ]
        },
        {
          "output_type": "stream",
          "name": "stdout",
          "text": [
            "Epoch [1563/5000]: Train loss: 7.6399, Valid loss: 10.7295\n"
          ]
        },
        {
          "output_type": "stream",
          "name": "stderr",
          "text": [
            "Epoch [1564/5000]: 100%|██████████| 2/2 [00:00<00:00, 90.58it/s, loss=8.58]\n"
          ]
        },
        {
          "output_type": "stream",
          "name": "stdout",
          "text": [
            "Epoch [1564/5000]: Train loss: 8.4750, Valid loss: 10.7310\n"
          ]
        },
        {
          "output_type": "stream",
          "name": "stderr",
          "text": [
            "Epoch [1565/5000]: 100%|██████████| 2/2 [00:00<00:00, 87.52it/s, loss=6.94]\n"
          ]
        },
        {
          "output_type": "stream",
          "name": "stdout",
          "text": [
            "Epoch [1565/5000]: Train loss: 7.3721, Valid loss: 10.7843\n"
          ]
        },
        {
          "output_type": "stream",
          "name": "stderr",
          "text": [
            "Epoch [1566/5000]: 100%|██████████| 2/2 [00:00<00:00, 82.64it/s, loss=9.25]\n"
          ]
        },
        {
          "output_type": "stream",
          "name": "stdout",
          "text": [
            "Epoch [1566/5000]: Train loss: 8.6617, Valid loss: 10.8942\n"
          ]
        },
        {
          "output_type": "stream",
          "name": "stderr",
          "text": [
            "Epoch [1567/5000]: 100%|██████████| 2/2 [00:00<00:00, 97.25it/s, loss=9.01]\n"
          ]
        },
        {
          "output_type": "stream",
          "name": "stdout",
          "text": [
            "Epoch [1567/5000]: Train loss: 9.0122, Valid loss: 11.0440\n"
          ]
        },
        {
          "output_type": "stream",
          "name": "stderr",
          "text": [
            "Epoch [1568/5000]: 100%|██████████| 2/2 [00:00<00:00, 82.21it/s, loss=6.35]\n"
          ]
        },
        {
          "output_type": "stream",
          "name": "stdout",
          "text": [
            "Epoch [1568/5000]: Train loss: 6.7766, Valid loss: 11.1110\n"
          ]
        },
        {
          "output_type": "stream",
          "name": "stderr",
          "text": [
            "Epoch [1569/5000]: 100%|██████████| 2/2 [00:00<00:00, 95.80it/s, loss=8.14]\n"
          ]
        },
        {
          "output_type": "stream",
          "name": "stdout",
          "text": [
            "Epoch [1569/5000]: Train loss: 8.0369, Valid loss: 11.1878\n"
          ]
        },
        {
          "output_type": "stream",
          "name": "stderr",
          "text": [
            "Epoch [1570/5000]: 100%|██████████| 2/2 [00:00<00:00, 92.77it/s, loss=7.27]\n"
          ]
        },
        {
          "output_type": "stream",
          "name": "stdout",
          "text": [
            "Epoch [1570/5000]: Train loss: 8.1824, Valid loss: 11.1118\n"
          ]
        },
        {
          "output_type": "stream",
          "name": "stderr",
          "text": [
            "Epoch [1571/5000]: 100%|██████████| 2/2 [00:00<00:00, 102.21it/s, loss=9.89]\n"
          ]
        },
        {
          "output_type": "stream",
          "name": "stdout",
          "text": [
            "Epoch [1571/5000]: Train loss: 9.1031, Valid loss: 10.9538\n"
          ]
        },
        {
          "output_type": "stream",
          "name": "stderr",
          "text": [
            "Epoch [1572/5000]: 100%|██████████| 2/2 [00:00<00:00, 77.94it/s, loss=8.86]\n"
          ]
        },
        {
          "output_type": "stream",
          "name": "stdout",
          "text": [
            "Epoch [1572/5000]: Train loss: 8.6610, Valid loss: 10.9009\n"
          ]
        },
        {
          "output_type": "stream",
          "name": "stderr",
          "text": [
            "Epoch [1573/5000]: 100%|██████████| 2/2 [00:00<00:00, 113.02it/s, loss=9.58]\n"
          ]
        },
        {
          "output_type": "stream",
          "name": "stdout",
          "text": [
            "Epoch [1573/5000]: Train loss: 9.4142, Valid loss: 10.7077\n"
          ]
        },
        {
          "output_type": "stream",
          "name": "stderr",
          "text": [
            "Epoch [1574/5000]: 100%|██████████| 2/2 [00:00<00:00, 67.43it/s, loss=7.1]\n"
          ]
        },
        {
          "output_type": "stream",
          "name": "stdout",
          "text": [
            "Epoch [1574/5000]: Train loss: 7.7129, Valid loss: 10.5716\n"
          ]
        },
        {
          "output_type": "stream",
          "name": "stderr",
          "text": [
            "Epoch [1575/5000]: 100%|██████████| 2/2 [00:00<00:00, 141.72it/s, loss=7.41]\n"
          ]
        },
        {
          "output_type": "stream",
          "name": "stdout",
          "text": [
            "Epoch [1575/5000]: Train loss: 8.2626, Valid loss: 10.5006\n"
          ]
        },
        {
          "output_type": "stream",
          "name": "stderr",
          "text": [
            "Epoch [1576/5000]: 100%|██████████| 2/2 [00:00<00:00, 102.63it/s, loss=9.62]\n"
          ]
        },
        {
          "output_type": "stream",
          "name": "stdout",
          "text": [
            "Epoch [1576/5000]: Train loss: 8.4992, Valid loss: 10.4977\n"
          ]
        },
        {
          "output_type": "stream",
          "name": "stderr",
          "text": [
            "Epoch [1577/5000]: 100%|██████████| 2/2 [00:00<00:00, 110.83it/s, loss=9.12]\n"
          ]
        },
        {
          "output_type": "stream",
          "name": "stdout",
          "text": [
            "Epoch [1577/5000]: Train loss: 8.8419, Valid loss: 10.4950\n"
          ]
        },
        {
          "output_type": "stream",
          "name": "stderr",
          "text": [
            "Epoch [1578/5000]: 100%|██████████| 2/2 [00:00<00:00, 109.49it/s, loss=8.18]\n"
          ]
        },
        {
          "output_type": "stream",
          "name": "stdout",
          "text": [
            "Epoch [1578/5000]: Train loss: 7.7513, Valid loss: 10.5551\n"
          ]
        },
        {
          "output_type": "stream",
          "name": "stderr",
          "text": [
            "Epoch [1579/5000]: 100%|██████████| 2/2 [00:00<00:00, 109.24it/s, loss=9.33]\n"
          ]
        },
        {
          "output_type": "stream",
          "name": "stdout",
          "text": [
            "Epoch [1579/5000]: Train loss: 8.7545, Valid loss: 10.5503\n"
          ]
        },
        {
          "output_type": "stream",
          "name": "stderr",
          "text": [
            "Epoch [1580/5000]: 100%|██████████| 2/2 [00:00<00:00, 138.27it/s, loss=7.07]\n"
          ]
        },
        {
          "output_type": "stream",
          "name": "stdout",
          "text": [
            "Epoch [1580/5000]: Train loss: 7.6810, Valid loss: 10.5141\n"
          ]
        },
        {
          "output_type": "stream",
          "name": "stderr",
          "text": [
            "Epoch [1581/5000]: 100%|██████████| 2/2 [00:00<00:00, 81.35it/s, loss=9.8]\n"
          ]
        },
        {
          "output_type": "stream",
          "name": "stdout",
          "text": [
            "Epoch [1581/5000]: Train loss: 9.0937, Valid loss: 10.5190\n"
          ]
        },
        {
          "output_type": "stream",
          "name": "stderr",
          "text": [
            "Epoch [1582/5000]: 100%|██████████| 2/2 [00:00<00:00, 100.02it/s, loss=6.32]\n"
          ]
        },
        {
          "output_type": "stream",
          "name": "stdout",
          "text": [
            "Epoch [1582/5000]: Train loss: 7.3774, Valid loss: 10.5077\n"
          ]
        },
        {
          "output_type": "stream",
          "name": "stderr",
          "text": [
            "Epoch [1583/5000]: 100%|██████████| 2/2 [00:00<00:00, 131.28it/s, loss=8.11]\n"
          ]
        },
        {
          "output_type": "stream",
          "name": "stdout",
          "text": [
            "Epoch [1583/5000]: Train loss: 8.0138, Valid loss: 10.5976\n"
          ]
        },
        {
          "output_type": "stream",
          "name": "stderr",
          "text": [
            "Epoch [1584/5000]: 100%|██████████| 2/2 [00:00<00:00, 98.02it/s, loss=7.74]\n"
          ]
        },
        {
          "output_type": "stream",
          "name": "stdout",
          "text": [
            "Epoch [1584/5000]: Train loss: 8.2208, Valid loss: 10.6818\n"
          ]
        },
        {
          "output_type": "stream",
          "name": "stderr",
          "text": [
            "Epoch [1585/5000]: 100%|██████████| 2/2 [00:00<00:00, 95.08it/s, loss=9.9]\n"
          ]
        },
        {
          "output_type": "stream",
          "name": "stdout",
          "text": [
            "Epoch [1585/5000]: Train loss: 9.0459, Valid loss: 10.8178\n"
          ]
        },
        {
          "output_type": "stream",
          "name": "stderr",
          "text": [
            "Epoch [1586/5000]: 100%|██████████| 2/2 [00:00<00:00, 135.21it/s, loss=8.67]\n"
          ]
        },
        {
          "output_type": "stream",
          "name": "stdout",
          "text": [
            "Epoch [1586/5000]: Train loss: 8.9123, Valid loss: 10.9830\n"
          ]
        },
        {
          "output_type": "stream",
          "name": "stderr",
          "text": [
            "Epoch [1587/5000]: 100%|██████████| 2/2 [00:00<00:00, 111.88it/s, loss=6.93]\n"
          ]
        },
        {
          "output_type": "stream",
          "name": "stdout",
          "text": [
            "Epoch [1587/5000]: Train loss: 7.0704, Valid loss: 11.0965\n"
          ]
        },
        {
          "output_type": "stream",
          "name": "stderr",
          "text": [
            "Epoch [1588/5000]: 100%|██████████| 2/2 [00:00<00:00, 94.98it/s, loss=9.42]\n"
          ]
        },
        {
          "output_type": "stream",
          "name": "stdout",
          "text": [
            "Epoch [1588/5000]: Train loss: 8.3584, Valid loss: 11.1706\n"
          ]
        },
        {
          "output_type": "stream",
          "name": "stderr",
          "text": [
            "Epoch [1589/5000]: 100%|██████████| 2/2 [00:00<00:00, 90.66it/s, loss=11.7]\n"
          ]
        },
        {
          "output_type": "stream",
          "name": "stdout",
          "text": [
            "Epoch [1589/5000]: Train loss: 9.9134, Valid loss: 11.0942\n"
          ]
        },
        {
          "output_type": "stream",
          "name": "stderr",
          "text": [
            "Epoch [1590/5000]: 100%|██████████| 2/2 [00:00<00:00, 78.10it/s, loss=8.62]\n"
          ]
        },
        {
          "output_type": "stream",
          "name": "stdout",
          "text": [
            "Epoch [1590/5000]: Train loss: 8.8329, Valid loss: 11.0806\n"
          ]
        },
        {
          "output_type": "stream",
          "name": "stderr",
          "text": [
            "Epoch [1591/5000]: 100%|██████████| 2/2 [00:00<00:00, 111.60it/s, loss=10.4]\n"
          ]
        },
        {
          "output_type": "stream",
          "name": "stdout",
          "text": [
            "Epoch [1591/5000]: Train loss: 9.1205, Valid loss: 10.9857\n"
          ]
        },
        {
          "output_type": "stream",
          "name": "stderr",
          "text": [
            "Epoch [1592/5000]: 100%|██████████| 2/2 [00:00<00:00, 96.15it/s, loss=8.23]"
          ]
        },
        {
          "output_type": "stream",
          "name": "stdout",
          "text": [
            "Epoch [1592/5000]: Train loss: 8.1250, Valid loss: 10.9367\n",
            "\n",
            "Model is not improving, so we halt the training session.\n"
          ]
        },
        {
          "output_type": "stream",
          "name": "stderr",
          "text": [
            "\n"
          ]
        }
      ],
      "source": [
        "model = My_Model(input_dim=x_train.shape[1]).to(device) \n",
        "#put your model and data on the same computation device.\n",
        "train_losses, val_losses = trainer(train_loader, valid_loader, model, config, device)"
      ]
    },
    {
      "cell_type": "code",
      "execution_count": 12,
      "metadata": {
        "colab": {
          "base_uri": "https://localhost:8080/",
          "height": 625
        },
        "id": "dOZZRqQg6Kp4",
        "outputId": "ba01ebaa-7925-42b0-c562-dc337ec90cb3"
      },
      "outputs": [
        {
          "output_type": "execute_result",
          "data": {
            "text/plain": [
              "Text(0.5, 1.0, 'Val Loss')"
            ]
          },
          "metadata": {},
          "execution_count": 12
        },
        {
          "output_type": "display_data",
          "data": {
            "text/plain": [
              "<Figure size 720x720 with 2 Axes>"
            ],
            "image/png": "[encoded data removed]"
          },
          "metadata": {
            "needs_background": "light"
          }
        }
      ],
      "source": [
        "import matplotlib.pyplot as plt\n",
        "%matplotlib inline\n",
        "\n",
        "plt.figure(figsize=(10, 10))\n",
        "plt.subplot(211)\n",
        "plt.plot(train_losses[400:])\n",
        "plt.title('Traing Loss')\n",
        "\n",
        "plt.subplot(212)\n",
        "plt.plot(val_losses[400:])\n",
        "plt.title('Val Loss')"
      ]
    },
    {
      "cell_type": "markdown",
      "metadata": {
        "id": "yhAHGqC9-woK"
      },
      "source": [
        "# Testing\n",
        "The predictions of your model on testing set will be stored at `pred.csv`."
      ]
    },
    {
      "cell_type": "code",
      "execution_count": 22,
      "metadata": {
        "colab": {
          "base_uri": "https://localhost:8080/"
        },
        "id": "Q5eVdpbvAlAe",
        "outputId": "0c156931-636d-4280-d637-7b75d2a0fc2a"
      },
      "outputs": [
        {
          "output_type": "stream",
          "name": "stderr",
          "text": [
            "100%|██████████| 2/2 [00:00<00:00, 347.34it/s]\n"
          ]
        }
      ],
      "source": [
        "def save_pred(preds, file):\n",
        "    ''' Save predictions to specified file '''\n",
        "    with open(file, 'w') as fp:\n",
        "        writer = csv.writer(fp)\n",
        "        writer.writerow(['id', 'tested_positive'])\n",
        "        for i, p in enumerate(preds):\n",
        "            writer.writerow([i, p])\n",
        "\n",
        "model = My_Model(input_dim=x_train.shape[1]).to(device)\n",
        "model.load_state_dict(torch.load(config['save_path']))\n",
        "preds,true = predict(train_loader, model, device) \n",
        "save_pred(preds, 'pred.csv')         "
      ]
    },
    {
      "cell_type": "code",
      "source": [
        "import matplotlib.pyplot as plt\n",
        "\n",
        "# predict = pd.read_csv('/content/pred.csv')\n",
        "# preds = list(predict.iloc[:,-1])\n",
        "# true = pd.read_csv('/content/train_unit3.csv')\n",
        "# y_true = list(true.iloc[:,-1])\n",
        "\n",
        "\n",
        "plt.plot(true[:100])\n",
        "plt.plot(preds[:100])\n",
        "\n",
        "\n",
        "\n",
        "plt.show()"
      ],
      "metadata": {
        "colab": {
          "base_uri": "https://localhost:8080/",
          "height": 265
        },
        "id": "Hx2M0sp4AmZ5",
        "outputId": "e09593b5-a7db-485f-865b-4b13fa4d8efb"
      },
      "execution_count": 29,
      "outputs": [
        {
          "output_type": "display_data",
          "data": {
            "text/plain": [
              "<Figure size 432x288 with 1 Axes>"
            ],
            "image/png": "[encoded data removed]"
          },
          "metadata": {
            "needs_background": "light"
          }
        }
      ]
    },
    {
      "cell_type": "markdown",
      "metadata": {
        "id": "IJ_k5rY0GvSV"
      },
      "source": [
        "# Reference\n",
        "This notebook uses code written by Heng-Jui Chang @ NTUEE (https://github.com/ga642381/ML2021-Spring/blob/main/HW01/HW01.ipynb)"
      ]
    }
  ],
  "metadata": {
    "accelerator": "GPU",
    "colab": {
      "provenance": [],
      "include_colab_link": true
    },
    "kernelspec": {
      "display_name": "Python 3 (ipykernel)",
      "language": "python",
      "name": "python3"
    },
    "language_info": {
      "codemirror_mode": {
        "name": "ipython",
        "version": 3
      },
      "file_extension": ".py",
      "mimetype": "text/x-python",
      "name": "python",
      "nbconvert_exporter": "python",
      "pygments_lexer": "ipython3",
      "version": "3.9.7"
    }
  },
  "nbformat": 4,
  "nbformat_minor": 0
}